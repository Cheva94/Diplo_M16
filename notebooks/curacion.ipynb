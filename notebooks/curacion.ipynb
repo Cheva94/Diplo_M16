{
 "cells": [
  {
   "cell_type": "markdown",
   "metadata": {},
   "source": [
    "# Diplomatura en ciencia de datos, aprendizaje automático y sus aplicaciones - Edición 2023 - FAMAF (UNC)"
   ]
  },
  {
   "cell_type": "markdown",
   "metadata": {},
   "source": [
    "## Mentoría 16 - ¿Cómo identificar fuga de ventas? Inteligencia artificial aplicada al sector comercial.\n",
    "\n",
    "### Curación (TP2)\n",
    "\n",
    "**Integrantes:**\n",
    "- Canalis, Patricio.\n",
    "- Chevallier-Boutell, Ignacio José.\n",
    "- Villarroel Torrez, Daniel.\n",
    "\n",
    "**Mentores:**\n",
    "- Gonzalez, Lucía\n",
    "- Lahoz, Nahuel\n",
    "\n",
    "---"
   ]
  },
  {
   "cell_type": "markdown",
   "metadata": {},
   "source": [
    "## Librerías"
   ]
  },
  {
   "cell_type": "code",
   "execution_count": null,
   "metadata": {},
   "outputs": [],
   "source": [
    "# Para que las funciones se actualicen sin tener que refrescar el kernel\n",
    "%load_ext autoreload\n",
    "%autoreload 2\n",
    "\n",
    "import pandas as pd\n",
    "import json\n",
    "from os.path import exists\n",
    "import missingno as msno\n",
    "import matplotlib.pyplot as plt\n",
    "import numpy as np\n",
    "import seaborn as sns\n",
    "from statsmodels.graphics.tsaplots import plot_acf\n",
    "from scipy.stats import linregress as LR\n",
    "from scipy.stats import skew, kurtosis, skewtest, kurtosistest\n",
    "\n",
    "# Funciones propias\n",
    "from utils_limpieza import * "
   ]
  },
  {
   "cell_type": "markdown",
   "metadata": {},
   "source": [
    "## Dataset"
   ]
  },
  {
   "cell_type": "code",
   "execution_count": null,
   "metadata": {},
   "outputs": [],
   "source": [
    "# Cargar datos\n",
    "path = '../data/raw/tp2_muestra_diplodatos_ventas_omega_modelo_2023.csv'\n",
    "ventas = pd.read_csv(path)\n"
   ]
  },
  {
   "cell_type": "markdown",
   "metadata": {},
   "source": [
    "---\n",
    "# Preprocesamiento"
   ]
  },
  {
   "attachments": {},
   "cell_type": "markdown",
   "metadata": {},
   "source": [
    "## Limpieza sugerida al principio del TP2 <span style=\"color:magenta\">**(Pasos 1 y 2)**</span>\n",
    "- [x] Eliminar las variables en `cols_dropear`.\n",
    "- [x] Renombrar a 'Otros' las subcategorías que no tengan `MODELO`.\n",
    "- [x] Se eliminan los registros en 'Otros'. Previamente se almacenan en un dataset aparte."
   ]
  },
  {
   "cell_type": "code",
   "execution_count": null,
   "metadata": {},
   "outputs": [],
   "source": [
    "print(f'El df original tiene {ventas.shape[0]} registros y {ventas.shape[1]} variables.\\n')\n",
    "\n",
    "# Paso 1\n",
    "cols_dropear = ['INSCRIPCION', 'CATEGORIA', 'DESCRIPCION_CATEGORIA', 'CATEGORIA (Ajustado)', 'NOMBRE']\n",
    "ventas_renamed = limpiar_basic(ventas, cols_drop=cols_dropear)\n",
    "print(f'Luego del paso 1 se tiran {len(cols_dropear)} variables, quedando {ventas_renamed.shape[1]} variables.\\n')\n",
    "\n",
    "# Paso 2\n",
    "ventas_renamed = renombrar_elementos(ventas_renamed, \n",
    "                                     columna='SUB-CATEGORIA', \n",
    "                                     fill_otros='Otros')\n",
    "\n",
    "scu_vr = ventas_renamed['SUB-CATEGORIA'].nunique()\n",
    "scu_ot = ventas['SUB-CATEGORIA'].nunique() - scu_vr + 1\n",
    "print(f'Luego del paso 2 quedan {scu_vr} subcategorías únicas.')\n",
    "print(f'\\tLas {scu_ot} subcategorías únicas que no tenían ningún vendedor modelo fueron agrupadas en \"Otros\".')\n",
    "reg_ot = ventas_renamed[ventas_renamed['SUB-CATEGORIA'] == 'Otros'].shape[0]\n",
    "print(f'\\t\\t\"Otros\" cuenta con {reg_ot} registros >> {100*reg_ot/ventas.shape[0]:.2f}% del dataset original')\n",
    "print(f'\\nLas {scu_vr-1} subcategorías que sí tienen vendedores modelo son:')\n",
    "\n",
    "ventas_renamed.groupby(by=['SUB-CATEGORIA'])['MODELO'].sum().sort_values(ascending=False)[:12]"
   ]
  },
  {
   "cell_type": "code",
   "execution_count": null,
   "metadata": {},
   "outputs": [],
   "source": [
    "#Eliminación de registros en \"Otros\" y almacenamiento en un dataset aparte\n",
    "ventas_otros = ventas_renamed[ventas_renamed['SUB-CATEGORIA'] == 'Otros'].copy()\n",
    "ventas_otros.to_csv('../data/interim/tp2_ventas_otros.csv', index=False)\n",
    "\n",
    "ventas_renamed = ventas_renamed[ventas_renamed['SUB-CATEGORIA'] != 'Otros'].copy()\n",
    "print(ventas_renamed.shape)"
   ]
  },
  {
   "cell_type": "markdown",
   "metadata": {},
   "source": [
    "## Simplificación de variables temporales <span style=\"color:magenta\">**(Paso 6)**</span>\n",
    "Creamos la variable `Fecha`, que surge como:\n",
    "    $$Fecha = Año + Mes$$\n",
    "\n",
    "Luego vamos a optar por droppear `Mes` y `Año`. Aunque para el análisis temporal habrá momentos en que necesitamos tener `Año` y `Mes` por separado, son fácilmente recuperables a través de `Fecha`."
   ]
  },
  {
   "cell_type": "code",
   "execution_count": null,
   "metadata": {},
   "outputs": [],
   "source": [
    "ventas_renamed[\"Fecha\"] = pd.to_datetime(ventas_renamed['MES'].astype(str) + '-' + ventas_renamed['AÑO'].astype(str), format='%m-%Y')\n",
    "cols_dropear = ['MES', 'AÑO']\n",
    "ventas_renamed = limpiar_basic(ventas_renamed, cols_drop=cols_dropear)\n",
    "\n",
    "ventas_renamed[:3]"
   ]
  },
  {
   "cell_type": "markdown",
   "metadata": {},
   "source": [
    "## Detección de datos faltantes\n",
    "- [x] Chequear presencia de datos faltantes\n",
    "- [x] Analizar su correlación"
   ]
  },
  {
   "cell_type": "markdown",
   "metadata": {},
   "source": [
    "Faltan datos en las mismas variables que antes."
   ]
  },
  {
   "cell_type": "code",
   "execution_count": null,
   "metadata": {},
   "outputs": [],
   "source": [
    "msno.bar(ventas_renamed.sort_values('ID_VENDEDOR'), sort=\"ascending\", fontsize=12, color=\"tab:green\", figsize=(6, 5))\n",
    "msno.matrix(ventas_renamed.sort_values('ID_VENDEDOR'), fontsize=12, color=[0.5,0,0], figsize=(6, 5))\n",
    "msno.heatmap(ventas_renamed.sort_values('ID_VENDEDOR'), fontsize=12, figsize=(6, 5))\n",
    "\n",
    "plt.show()"
   ]
  },
  {
   "cell_type": "markdown",
   "metadata": {},
   "source": [
    "## Relación entre variables fiscales <span style=\"color:magenta\">**(Paso 5)**</span>"
   ]
  },
  {
   "cell_type": "code",
   "execution_count": null,
   "metadata": {},
   "outputs": [],
   "source": [
    "ventas_fiscal = ventas_renamed[['TRATAMIENTO_FISCAL', 'DESC_TRATAMIENTO_FISCAL', 'TRATAMIENTO_DIFERNCIAL']].copy()"
   ]
  },
  {
   "cell_type": "code",
   "execution_count": null,
   "metadata": {},
   "outputs": [],
   "source": [
    "ventas_fiscal['TRATAMIENTO_FISCAL'] = ventas_fiscal['TRATAMIENTO_FISCAL'].fillna('Waring: Relleno')\n",
    "ventas_fiscal['DESC_TRATAMIENTO_FISCAL'] = ventas_fiscal['DESC_TRATAMIENTO_FISCAL'].fillna('Waring: Relleno')\n",
    "ventas_fiscal['TRATAMIENTO_DIFERNCIAL'] = ventas_fiscal['TRATAMIENTO_DIFERNCIAL'].fillna('Waring: Relleno')"
   ]
  },
  {
   "cell_type": "markdown",
   "metadata": {},
   "source": [
    "### `TRATAMIENTO_FISCAL` vs `DESC_TRATAMIENTO_FISCAL`"
   ]
  },
  {
   "cell_type": "markdown",
   "metadata": {},
   "source": [
    "Queremos chequear para qué valores de `TRATAMIENTO_FISCAL` aparecen valores de `DESC_TRATAMIENTO_FISCAL`."
   ]
  },
  {
   "cell_type": "code",
   "execution_count": null,
   "metadata": {},
   "outputs": [],
   "source": [
    "pd.crosstab(ventas_fiscal['TRATAMIENTO_FISCAL'], ventas_fiscal['DESC_TRATAMIENTO_FISCAL'], dropna=False)"
   ]
  },
  {
   "cell_type": "markdown",
   "metadata": {},
   "source": [
    "Al analizar la tabla de contingencia, vemos que los valores de `DESC_TRATAMIENTO_FISCAL` sólo aparecen cuando `TRATAMIENTO_FISCAL` asume valores 0, 1, 2 ó 3. \n",
    "A su vez, hay correspondencia entre 0 y Norm, 1 y Exento, 2 y Min, 3 y Otro. \n",
    "¿Se puede unificar todo como `TRATAMIENTO_FISCAL`, eliminando entonces `DESC_TRATAMIENTO_FISCAL`? ¿Tiene sentido que falte la descripción asociada al tratamiento?"
   ]
  },
  {
   "cell_type": "code",
   "execution_count": null,
   "metadata": {},
   "outputs": [],
   "source": [
    "vad = pd.crosstab(ventas_fiscal['TRATAMIENTO_FISCAL'], ventas_fiscal['DESC_TRATAMIENTO_FISCAL'], normalize=True)\n",
    "sns.heatmap(vad, annot=True)\n",
    "\n",
    "plt.show()"
   ]
  },
  {
   "cell_type": "markdown",
   "metadata": {},
   "source": [
    "Vemos que sí existe una gran correlación entre \"Norm\" de `DESC_TRATAMIENTO_FISCAL` y \"0\" de `TRATAMIENTO_FISCAL`."
   ]
  },
  {
   "cell_type": "markdown",
   "metadata": {},
   "source": [
    "### `TRATAMIENTO_FISCAL` vs `TRATAMIENTO_DIFERNCIAL`"
   ]
  },
  {
   "cell_type": "markdown",
   "metadata": {},
   "source": [
    "Ahora veamos para qué valores de `TRATAMIENTO_FISCAL` aparecen valores de `TRATAMIENTO_DIFERNCIAL`. Al analizar la tabla de contingencia vemos que no hay un patrón claro. Podríamos tomar a un dato faltante como \"sin tratamiento especial\"."
   ]
  },
  {
   "cell_type": "code",
   "execution_count": null,
   "metadata": {},
   "outputs": [],
   "source": [
    "pd.crosstab(ventas_fiscal['TRATAMIENTO_FISCAL'], ventas_fiscal['TRATAMIENTO_DIFERNCIAL'], dropna=False)"
   ]
  },
  {
   "cell_type": "markdown",
   "metadata": {},
   "source": [
    "*   Se concluye que la variable que más información aporta es la de `TRATAMIENTO_FISCAL`, superando a `DESC_TRATAMIENTO_FISCAL` en que tiene menos valores perdidos. Y a su vez, la información de `DESC_TRATAMIENTO_FISCAL` (Exento, Min, Norm, Otro), es capturada por los valores 1, 2, 0, 3 de `TRATAMIENTO_FISCAL`, respectivamente.\n",
    "*   Respecto a `TRATAMIENTO_DIFERNCIAL`, la misma es superada por `TRATAMIENTO_FISCAL` en cuanto a ausencia de valores perdidos. La variable `TRATAMIENTO_FISCAL`, en el práctico anterior, había permitido detectar ciertas tendencias de ventas. A su vez que no queda claro el aporte de `TRATAMIENTO_DIFERNCIAL`."
   ]
  },
  {
   "cell_type": "markdown",
   "metadata": {},
   "source": [
    "La decisión es droppear `DESC_TRATAMIENTO_FISCAL` y `TRATAMIENTO_DIFERNCIAL`."
   ]
  },
  {
   "cell_type": "code",
   "execution_count": null,
   "metadata": {},
   "outputs": [],
   "source": [
    "ventas_renamed = limpiar_basic(ventas_renamed, ['DESC_TRATAMIENTO_FISCAL', 'TRATAMIENTO_DIFERNCIAL'])"
   ]
  },
  {
   "cell_type": "markdown",
   "metadata": {},
   "source": [
    "## Variable `CM04` <span style=\"color:magenta\">**(Paso 4)**</span>"
   ]
  },
  {
   "cell_type": "code",
   "execution_count": null,
   "metadata": {},
   "outputs": [],
   "source": [
    "checkear_unicidad(ventas_renamed, 'CM04', 'ID_VENDEDOR')"
   ]
  },
  {
   "cell_type": "code",
   "execution_count": null,
   "metadata": {},
   "outputs": [],
   "source": [
    "ventas_CM = ventas_renamed[ventas_renamed['CM04'] == 'Si'].copy()\n",
    "ventas_CM.describe().T#['ID_VENDEDOR'].value_counts()"
   ]
  },
  {
   "cell_type": "markdown",
   "metadata": {},
   "source": [
    "Solo hay un caso que está bajo CM igual a 1 (y no es vendedor modelo). El tamaño de muestra equivale al 0,01% de los casos."
   ]
  },
  {
   "cell_type": "code",
   "execution_count": null,
   "metadata": {},
   "outputs": [],
   "source": [
    "print(f\"{round(len(ventas_renamed[ventas_renamed['CM04'] == 'Si']) / len(ventas_renamed) * 100, 2)}%\")"
   ]
  },
  {
   "cell_type": "markdown",
   "metadata": {},
   "source": [
    "Se procederá a descartar el caso en un dataset aparte y se eliminará la variable `CM04`."
   ]
  },
  {
   "cell_type": "code",
   "execution_count": null,
   "metadata": {},
   "outputs": [],
   "source": [
    "ventas_cm = ventas_renamed[ventas_renamed['CM04'] == 'Si'].copy()\n",
    "ventas_cm.to_csv('../data/interim/tp2_ventas_cm.csv', index=False)\n",
    "\n",
    "ventas_renamed = ventas_renamed[ventas_renamed['CM04'] != 'Si'].copy()\n",
    "ventas_renamed = limpiar_basic(ventas_renamed, 'CM04')"
   ]
  },
  {
   "cell_type": "markdown",
   "metadata": {},
   "source": [
    "## Anonimizado  <span style=\"color:magenta\">**(Paso 3)**</span>\n",
    "- [x] Anonimizamos la variable sensible `ID_VENDEDOR`.\n",
    "- [x] Guardamos esto en un diccionario."
   ]
  },
  {
   "cell_type": "code",
   "execution_count": null,
   "metadata": {},
   "outputs": [],
   "source": [
    "# Anonimizamos y guardamos el diccionario para no perder esta info\n",
    "ventas_hash, dict_id = anonimizar(ventas_renamed, 'ID_VENDEDOR')\n",
    "\n",
    "with open(\"../references/tp2_ID_dict.json\", \"w\") as fp:\n",
    "    json.dump(dict_id, fp)\n",
    "\n",
    "print('¡Diccionario generado!')"
   ]
  },
  {
   "cell_type": "markdown",
   "metadata": {},
   "source": [
    "## Simplificación del nombre de las variables\n",
    "- [x] Simplificamos el nombre de las variables."
   ]
  },
  {
   "cell_type": "code",
   "execution_count": null,
   "metadata": {},
   "outputs": [],
   "source": [
    "# Renombramos\n",
    "with open(\"../references/tp2_column_dict.json\") as column_dict_json:\n",
    "    column_dict = json.load(column_dict_json)\n",
    "\n",
    "ventas_hash.rename(columns = column_dict, inplace = True)\n",
    "ventas_hash.columns"
   ]
  },
  {
   "attachments": {},
   "cell_type": "markdown",
   "metadata": {},
   "source": [
    "## Simplificación de valores posibles en ciertas variables\n",
    "- [x] Simplificamos de valores en `Deposito`\n",
    "- [x] Unificación y simplificación de categorías de `Trat_Fisc`.\n",
    "- [x] Simplificación de categorías en `Subrubro`.\n",
    "- [x] Guardamos todos estos diccionarios."
   ]
  },
  {
   "cell_type": "code",
   "execution_count": null,
   "metadata": {},
   "outputs": [],
   "source": [
    "# Mapeo de `Deposito` a enteros\n",
    "ventas_hash, dict_dep = anonimizar(ventas_hash, 'Deposito')\n",
    "\n",
    "with open(\"../references/tp2_deposito_dict.json\", \"w\") as fp:\n",
    "    json.dump(dict_dep, fp)\n",
    "\n",
    "print('¡Diccionario generado!')"
   ]
  },
  {
   "cell_type": "code",
   "execution_count": null,
   "metadata": {},
   "outputs": [],
   "source": [
    "# Unificacón y simplificación de categorías de `TRATAMIENTO_FISCAL`\n",
    "with open(\"../references/tp1_trat_fisc_dict.json\") as trat_fisc_dict_json:\n",
    "    trat_fisc_dict = json.load(trat_fisc_dict_json)\n",
    "    \n",
    "ventas_hash['Trat_Fisc'] = ventas_hash['Trat_Fisc'].astype(str)\n",
    "ventas_hash['Trat_Fisc'] = ventas_hash['Trat_Fisc'].replace(trat_fisc_dict)"
   ]
  },
  {
   "cell_type": "code",
   "execution_count": null,
   "metadata": {},
   "outputs": [],
   "source": [
    "# Simplificación de categorías de `Subrubro`\n",
    "with open(\"../references/tp2_subrubro_dict.json\") as subrubro_dict_json:\n",
    "    subrubro_dict = json.load(subrubro_dict_json)\n",
    "\n",
    "ventas_hash['Subrubro'] = ventas_hash['Subrubro'].replace(subrubro_dict)"
   ]
  },
  {
   "cell_type": "code",
   "execution_count": null,
   "metadata": {},
   "outputs": [],
   "source": [
    "ventas_hash['Subrubro'].unique()"
   ]
  },
  {
   "cell_type": "markdown",
   "metadata": {},
   "source": [
    "## Guardado parcial\n",
    "Guardamos el dataset con las trasnformaciones realizadas hasta el momento, antes de eliminar el efecto de la inflación."
   ]
  },
  {
   "cell_type": "code",
   "execution_count": null,
   "metadata": {},
   "outputs": [],
   "source": [
    "# Guardo todo lo hecho hasta acá, para no tener que correr todo\n",
    "ventas_hash.to_csv('../data/interim/tp2_ventas_hash.csv', index=False)"
   ]
  },
  {
   "attachments": {},
   "cell_type": "markdown",
   "metadata": {},
   "source": [
    "## Eliminación del efecto inflación\n",
    "Las variables expresadas en pesos aumentan mes a mes por efecto de la inflación. Lo que impide comparar un valor monetario de un mes contra el del mes siguiente. A fin de eliminar este efecto, una alternativa es reexpresar los valores monetarios respecto a un mes base. Por ejemplo, el último mes de la serie."
   ]
  },
  {
   "cell_type": "code",
   "execution_count": null,
   "metadata": {},
   "outputs": [],
   "source": [
    "if 'ventas_hash' not in locals():\n",
    "    # Para que las funciones se actualicen sin tener que refrescar el kernel\n",
    "    %load_ext autoreload\n",
    "    %autoreload 2\n",
    "\n",
    "    import pandas as pd\n",
    "    import json\n",
    "    from os.path import exists\n",
    "    import missingno as msno\n",
    "    import matplotlib.pyplot as plt\n",
    "    import numpy as np\n",
    "    import seaborn as sns\n",
    "    from statsmodels.graphics.tsaplots import plot_acf\n",
    "    from scipy.stats import linregress as LR\n",
    "    from scipy.stats import skew, kurtosis, skewtest, kurtosistest\n",
    "\n",
    "    # Funciones propias\n",
    "    from utils_limpieza import * \n",
    "    \n",
    "    ventas_hash = pd.read_csv('../data/interim/tp2_ventas_hash.csv')\n",
    "\n",
    "ventas_ipc = ventas_hash.copy()\n",
    "ventas_ipc[\"Fecha\"] = pd.to_datetime(ventas_ipc[\"Fecha\"])"
   ]
  },
  {
   "cell_type": "code",
   "execution_count": null,
   "metadata": {},
   "outputs": [],
   "source": [
    "# Obtener el último mes\n",
    "fecha = ventas_ipc['Fecha'].max()\n",
    "print(f\"El último mes de la serie es el {fecha.month} de {fecha.year}\")"
   ]
  },
  {
   "attachments": {},
   "cell_type": "markdown",
   "metadata": {},
   "source": [
    "El procedimiento es el siguiente:\n",
    "    $$\\text{VAR}_{mm-aaaa} \\frac{\\text{IPC}_{06-2022}}{\\text{IPC}_{mm-aaaa}}$$\n",
    "\n",
    "Para todo valor de cada variable (VAR) correspondiente a cierto mes \"mm-aaaa\" se lo divide por el Índice de Precios al Consumidor (IPC) correspondiente a ese mes \"mm-aaaa\" y luego se lo multiplica por el IPC correspondiente al mes \"06-2022\".\n",
    "\n",
    "De esta forma, todos los valores de cada variable VAR van a quedar expresados en unidades monetarias del \"06-2022\".\n",
    "\n"
   ]
  },
  {
   "attachments": {},
   "cell_type": "markdown",
   "metadata": {},
   "source": [
    "Es necesario obtener de manera externa una serie del IPC que publica Indec."
   ]
  },
  {
   "cell_type": "code",
   "execution_count": null,
   "metadata": {},
   "outputs": [],
   "source": [
    "precios_path = \"../data/external/tp2_IPC_Indec.csv\"\n",
    "\n",
    "if exists(precios_path):\n",
    "    print('Este archivo ya existe.')\n",
    "else:\n",
    "    print('Este archivo no existe: ¡Vamos a crearlo!')\n",
    "    url = \"https://www.indec.gob.ar/ftp/cuadros/economia/sh_ipc_06_23.xls\"\n",
    "    df = pd.read_excel(url, sheet_name=\"Índices IPC Cobertura Nacional\", header=None, usecols=\"B:CA\", skiprows=[0, 1, 2, 3, 4, 6, 7, 8], nrows=2)\n",
    "    df = df.transpose()\n",
    "    df.columns = [\"Fecha\", \"INDICE\"]\n",
    "    df[\"Fecha\"] = pd.to_datetime(df[\"Fecha\"])\n",
    "    df.to_csv(precios_path, index=False)"
   ]
  },
  {
   "cell_type": "code",
   "execution_count": null,
   "metadata": {},
   "outputs": [],
   "source": [
    "# Abrir dataset de precios\n",
    "precios = pd.read_csv(precios_path)\n",
    "precios.head()"
   ]
  },
  {
   "attachments": {},
   "cell_type": "markdown",
   "metadata": {},
   "source": [
    "Luego debemos unir ambas bases de datos (ventas y precios), de acuerdo a la variable clave `Fecha`"
   ]
  },
  {
   "cell_type": "code",
   "execution_count": null,
   "metadata": {},
   "outputs": [],
   "source": [
    "print(ventas_ipc[\"Fecha\"].dtype)\n",
    "print(precios[\"Fecha\"].dtype)"
   ]
  },
  {
   "cell_type": "code",
   "execution_count": null,
   "metadata": {},
   "outputs": [],
   "source": [
    "# Hay que asegurar que la variable clave tenga el mismo tipo en los dos dataframes\n",
    "precios[\"Fecha\"] = pd.to_datetime(precios[\"Fecha\"])"
   ]
  },
  {
   "cell_type": "code",
   "execution_count": null,
   "metadata": {},
   "outputs": [],
   "source": [
    "print(ventas_ipc[\"Fecha\"].dtype)\n",
    "print(precios[\"Fecha\"].dtype)"
   ]
  },
  {
   "cell_type": "code",
   "execution_count": null,
   "metadata": {},
   "outputs": [],
   "source": [
    "ventas_ipc = ventas_ipc.merge(precios[[\"Fecha\", \"INDICE\"]], on=\"Fecha\", how=\"left\")\n",
    "ventas_ipc.head(3)"
   ]
  },
  {
   "attachments": {},
   "cell_type": "markdown",
   "metadata": {},
   "source": [
    "La series que están expresadas en pesos son las siguientes: \n",
    "   * `Ventas`\n",
    "   * `Comision`"
   ]
  },
  {
   "cell_type": "code",
   "execution_count": null,
   "metadata": {},
   "outputs": [],
   "source": [
    "ventas_ipc.head()"
   ]
  },
  {
   "cell_type": "code",
   "execution_count": null,
   "metadata": {},
   "outputs": [],
   "source": [
    "# Aplico la función para indexar valores respecto al último mes de la serie\n",
    "indexar(ventas_ipc, 'Ventas')"
   ]
  },
  {
   "cell_type": "code",
   "execution_count": null,
   "metadata": {},
   "outputs": [],
   "source": [
    "indexar(ventas_ipc, 'Comision')"
   ]
  },
  {
   "attachments": {},
   "cell_type": "markdown",
   "metadata": {},
   "source": [
    "Vemos gráficamente el efecto de la operación (por simplicidad se grafican mensualmente las series de tiempo agregando los valores por suma)."
   ]
  },
  {
   "attachments": {},
   "cell_type": "markdown",
   "metadata": {},
   "source": [
    "En las variantes llamadas \"Reales\", se observa una pendiente más moderada. El efecto de la inflación ha sido \"descartado\". De aquí en adelante, a la hora de hablar de los valores de estas variables, la interpretación correcta será \"$ XX.XXX a precios de junio de 2022\""
   ]
  },
  {
   "cell_type": "code",
   "execution_count": null,
   "metadata": {},
   "outputs": [],
   "source": [
    "ventas_ipc.head(3)"
   ]
  },
  {
   "cell_type": "code",
   "execution_count": null,
   "metadata": {},
   "outputs": [],
   "source": [
    "# Se descartan las variables que no se usan\n",
    "ventas_ipc = limpiar_basic(ventas_ipc, cols_drop=['Ventas', 'Comision', 'INDICE'])\n",
    "\n",
    "# Se renombran las variables\n",
    "ventas_ipc.rename(columns = {'Ventas_Real': 'Ventas', \n",
    "                              'Comision_Real': 'Comision'}, inplace = True)\n",
    "\n",
    "# Se reacomodan las columnas\n",
    "ventas_ipc = ventas_ipc[['ID', 'Omega', 'Subrubro', 'Trat_Fisc', 'Fecha', \n",
    "                          'Deposito', 'Ventas', 'Alicuota', 'Comision', 'Modelo']]\n",
    "\n",
    "ventas_ipc = ventas_ipc.sort_values(['Fecha', 'Ventas']).reset_index(drop=True)"
   ]
  },
  {
   "cell_type": "code",
   "execution_count": null,
   "metadata": {},
   "outputs": [],
   "source": [
    "ventas_ipc"
   ]
  },
  {
   "cell_type": "code",
   "execution_count": null,
   "metadata": {},
   "outputs": [],
   "source": [
    "# Guardo todo lo hecho en el pretratamiento\n",
    "ventas_ipc.to_csv('../data/interim/tp2_ventas_ipc.csv', index=False)"
   ]
  },
  {
   "cell_type": "markdown",
   "metadata": {},
   "source": [
    "## Dataset resultante\n",
    "El dataset original (`ventas`) teniá 435.489 registros y 19 variables. Luego de nuestro preprocesamiento nos quedamos con un dataset  (`ventas_ipc`) que tiene 378.666 registros y 10 variables."
   ]
  },
  {
   "cell_type": "code",
   "execution_count": null,
   "metadata": {},
   "outputs": [],
   "source": [
    "ventas.shape"
   ]
  },
  {
   "cell_type": "code",
   "execution_count": null,
   "metadata": {},
   "outputs": [],
   "source": [
    "ventas_ipc.shape"
   ]
  },
  {
   "cell_type": "markdown",
   "metadata": {},
   "source": [
    "---\n",
    "# Análisis de variables categóricas"
   ]
  },
  {
   "cell_type": "code",
   "execution_count": null,
   "metadata": {},
   "outputs": [],
   "source": [
    "if 'ventas_ipc' not in locals():\n",
    "    # Para que las funciones se actualicen sin tener que refrescar el kernel\n",
    "    %load_ext autoreload\n",
    "    %autoreload 2\n",
    "\n",
    "    import pandas as pd\n",
    "    import json\n",
    "    from os.path import exists\n",
    "    import missingno as msno\n",
    "    import matplotlib.pyplot as plt\n",
    "    import numpy as np\n",
    "    import seaborn as sns\n",
    "    from statsmodels.graphics.tsaplots import plot_acf\n",
    "    from scipy.stats import linregress as LR\n",
    "    from scipy.stats import skew, kurtosis, skewtest, kurtosistest\n",
    "\n",
    "    # Funciones propias\n",
    "    from utils_limpieza import * \n",
    "    \n",
    "    ventas_ipc = pd.read_csv('../data/interim/tp2_ventas_ipc.csv')\n",
    "\n",
    "ventas_ipc.head()"
   ]
  },
  {
   "cell_type": "code",
   "execution_count": null,
   "metadata": {},
   "outputs": [],
   "source": [
    "ventas_categ = ventas_ipc.drop(['Ventas', 'Alicuota', 'Comision'], axis=1).copy()\n",
    "ventas_categ.head(3)"
   ]
  },
  {
   "cell_type": "markdown",
   "metadata": {},
   "source": [
    "### `ID` y `Modelo`"
   ]
  },
  {
   "cell_type": "code",
   "execution_count": null,
   "metadata": {},
   "outputs": [],
   "source": [
    "checkear_unicidad(ventas_categ, 'Modelo', 'ID')"
   ]
  },
  {
   "cell_type": "markdown",
   "metadata": {},
   "source": [
    "Esto implica, que si hay un vendedor Modelo que vende en más de un rubro, tiene la etiqueta de Modelo en todos los rubros."
   ]
  },
  {
   "cell_type": "markdown",
   "metadata": {},
   "source": [
    "### `Omega` y `Modelo`"
   ]
  },
  {
   "cell_type": "markdown",
   "metadata": {},
   "source": [
    "En primer lugar, verificar si a cada ID único se le asigna un único valor de Omega (no debería pasar lo contrario)"
   ]
  },
  {
   "cell_type": "code",
   "execution_count": null,
   "metadata": {},
   "outputs": [],
   "source": [
    "checkear_unicidad(ventas_categ, 'Omega', 'ID')"
   ]
  },
  {
   "cell_type": "code",
   "execution_count": null,
   "metadata": {},
   "outputs": [],
   "source": [
    "graficar_modelo(ventas_categ, 'Omega')"
   ]
  },
  {
   "cell_type": "markdown",
   "metadata": {},
   "source": [
    "Dentro de los vendedores que son Omega (3119), solo el 0,35% es modelo.\n",
    "Mientras que entre los no Omega (26), el 100% es modelo."
   ]
  },
  {
   "cell_type": "markdown",
   "metadata": {},
   "source": [
    "### `Subrubro` y `Modelo`"
   ]
  },
  {
   "cell_type": "code",
   "execution_count": null,
   "metadata": {},
   "outputs": [],
   "source": [
    "checkear_unicidad(ventas_categ, 'Subrubro', 'ID')"
   ]
  },
  {
   "cell_type": "markdown",
   "metadata": {},
   "source": [
    "En secciones previas se probó que si un ID era Modelo en un rubro, también lo era en todos en los que aparecía."
   ]
  },
  {
   "cell_type": "code",
   "execution_count": null,
   "metadata": {},
   "outputs": [],
   "source": [
    "graficar_modelo(ventas_categ, 'Subrubro')"
   ]
  },
  {
   "cell_type": "markdown",
   "metadata": {},
   "source": [
    "### `Trat_Fisc` y `Modelo`"
   ]
  },
  {
   "cell_type": "code",
   "execution_count": null,
   "metadata": {},
   "outputs": [],
   "source": [
    "checkear_unicidad(ventas_categ, 'Trat_Fisc', 'ID', 'Deposito', 'Subrubro', 'Fecha')"
   ]
  },
  {
   "cell_type": "markdown",
   "metadata": {},
   "source": [
    "##### Checkear con `Ventas` si hay cierto punto de corte para pasar de una a otra categoría"
   ]
  },
  {
   "cell_type": "code",
   "execution_count": null,
   "metadata": {},
   "outputs": [],
   "source": [
    "ventas_prueba = ventas_ipc[['ID', 'Deposito', 'Subrubro', 'Fecha','Ventas','Trat_Fisc']].dropna(subset=['Trat_Fisc']).copy()\n",
    "duplicados = ventas_prueba[ventas_prueba.duplicated(subset=['ID', 'Deposito', 'Subrubro', 'Fecha'], keep=False)].sort_values(by=['ID', 'Deposito', 'Subrubro', 'Fecha'], ascending=True).copy()\n",
    "duplicados.groupby('Trat_Fisc')['Ventas'].mean()"
   ]
  },
  {
   "cell_type": "markdown",
   "metadata": {},
   "source": [
    "Probamos con un caso.\n",
    "\n",
    "Si resultado es True, significa que, dentro de cada grupo, el valor de 'Ventas' correspondiente a 'DESC_TRATAMIENTO_FISCAL' == 0 siempre es mayor que el valor de 'Ventas' correspondiente a 'DESC_TRATAMIENTO_FISCAL' == 1. Si resultado es False, significa que al menos en un grupo no se cumple esta condición."
   ]
  },
  {
   "cell_type": "code",
   "execution_count": null,
   "metadata": {},
   "outputs": [],
   "source": [
    "resultado = duplicados.groupby(['ID', 'Deposito', 'Subrubro', 'Fecha']).apply(lambda x: x[x['Trat_Fisc'] == 0]['Ventas'].max() > x[x['Trat_Fisc'] == 1]['Ventas'].min()).all()\n",
    "resultado"
   ]
  },
  {
   "cell_type": "code",
   "execution_count": null,
   "metadata": {},
   "outputs": [],
   "source": [
    "graficar_modelo(ventas_categ, 'Trat_Fisc')"
   ]
  },
  {
   "attachments": {},
   "cell_type": "markdown",
   "metadata": {},
   "source": [
    "---\n",
    "# Análisis de variables numéricas"
   ]
  },
  {
   "cell_type": "code",
   "execution_count": null,
   "metadata": {},
   "outputs": [],
   "source": [
    "if 'ventas_ipc' not in locals():\n",
    "    # Para que las funciones se actualicen sin tener que refrescar el kernel\n",
    "    %load_ext autoreload\n",
    "    %autoreload 2\n",
    "\n",
    "    import pandas as pd\n",
    "    import json\n",
    "    from os.path import exists\n",
    "    import missingno as msno\n",
    "    import matplotlib.pyplot as plt\n",
    "    import numpy as np\n",
    "    import seaborn as sns\n",
    "    from statsmodels.graphics.tsaplots import plot_acf\n",
    "    from scipy.stats import linregress as LR\n",
    "    from scipy.stats import skew, kurtosis, skewtest, kurtosistest\n",
    "\n",
    "    # Funciones propias\n",
    "    from utils_limpieza import * \n",
    "    \n",
    "    ventas_ipc = pd.read_csv('../data/interim/tp2_ventas_ipc.csv')\n",
    "\n",
    "ventas_ipc.head()"
   ]
  },
  {
   "cell_type": "code",
   "execution_count": null,
   "metadata": {},
   "outputs": [],
   "source": [
    "# Discrimanción por variables numércias\n",
    "num_cols = ['Ventas', 'Alicuota', 'Comision']\n",
    "ven_num = ventas_ipc[num_cols]"
   ]
  },
  {
   "attachments": {},
   "cell_type": "markdown",
   "metadata": {},
   "source": [
    "## Estadística descriptiva"
   ]
  },
  {
   "attachments": {},
   "cell_type": "markdown",
   "metadata": {},
   "source": [
    "- Vemos que en la variable `Alicuota` la dispersión de los datos está en el orden de la media, tomando valores desde 0% hasta 18%. Esto se ve reflejado en un z-Score que va desde -1 a 6 (igual al tp1).\n",
    "- Esta tendencia a tener la cola derecha más larga también se nota en las otras dos variables. Sin embargo, en estos dos últimos casos la dispersión de datos es enorme: la desviación estándar es igual y un orden mayor que la media y el extremo superior del z-Score está en 83 y 108 para `Ventas` y `Comision`, respectivamente (mejoró respecto al tp1 gracias a la normalización por IPC)."
   ]
  },
  {
   "cell_type": "code",
   "execution_count": null,
   "metadata": {},
   "outputs": [],
   "source": [
    "ven_num.describe().T"
   ]
  },
  {
   "cell_type": "code",
   "execution_count": null,
   "metadata": {},
   "outputs": [],
   "source": [
    "print('z-Score de los extremos de la variables numéricas:') \n",
    "for col in num_cols:\n",
    "    zScore_min = (ven_num[col].min() - ven_num[col].mean()) / ven_num[col].std()\n",
    "    zScore_max = (ven_num[col].max() - ven_num[col].mean()) / ven_num[col].std()\n",
    "\n",
    "    print(f'\\t{col}:')\n",
    "    print(f'\\t\\t Mínimo: {zScore_min:.0f} \\t Máximo: {zScore_max:.0f}')"
   ]
  },
  {
   "attachments": {},
   "cell_type": "markdown",
   "metadata": {},
   "source": [
    "- Tanto `Ventas` como `Comision` tienen prácticamente un 39% de registros con valores nulos y un 0.3% de valores negativos, *i.e.* hay un 40% de registros con valores no positivos imputados. \n",
    "- Un valor nulo significa que o bien era realmente nulo o se encontraba entre -$100 y $1000 (en la variable original de ventas).\n",
    "- `Alicuota` no posee registros negativos, pero sí tiene un 0.62% de registros nulos."
   ]
  },
  {
   "cell_type": "code",
   "execution_count": null,
   "metadata": {},
   "outputs": [],
   "source": [
    "print('Proporción de valores negativos, nulos y positivos en las variables numéricas:') \n",
    "for col in num_cols:\n",
    "    print(f'\\t{col}')\n",
    "    ans = len(ven_num[col])\n",
    "    neg = len(ven_num[ven_num[col] < 0])\n",
    "    nul = len(ven_num[ven_num[col] == 0])\n",
    "\n",
    "    cant = [neg, nul, neg+nul, ans-neg-nul, ans]\n",
    "    prop = [f'{100*neg/ans:.2f}%', f'{100*nul/ans:.2f}%', f'{100*(nul+neg)/ans:.2f}%', f'{100*(ans-nul-neg)/ans:.2f}%', '100.00%']\n",
    "    desc = pd.DataFrame([cant, prop], columns=['Negativos', 'Nulos', 'No positivos', 'Positivos', 'Total'], index=['Cantidad', 'Proporcion'])\n",
    "    display(desc)\n"
   ]
  },
  {
   "cell_type": "code",
   "execution_count": null,
   "metadata": {},
   "outputs": [],
   "source": [
    "sns.pairplot(data=ven_num, diag_kind='kde', plot_kws = {'alpha': 0.3, 's': 10})\n",
    "plt.show()"
   ]
  },
  {
   "cell_type": "code",
   "execution_count": null,
   "metadata": {},
   "outputs": [],
   "source": [
    "# Cálculo y Visualización de la matriz de correlación entre las variables\n",
    "matrix = ven_num[['Ventas', 'Alicuota', 'Comision']].corr().round(2)\n",
    "sns.heatmap(matrix, annot=True)"
   ]
  },
  {
   "attachments": {},
   "cell_type": "markdown",
   "metadata": {},
   "source": [
    "## Discriminando por tipo de venta\n",
    "Dado el enorme peso de los valores nulos sobre el total de registros y la presencia de valores negativos, tanto en `Ventas` como en `Comision`, se decide dividir este DataFrame en tres:\n",
    "1. Filtrado por `Ventas` nulas (`ven_num_null`)\n",
    "2. Filtrado por `Ventas` negativas (`ven_num_neg`)\n",
    "2. Filtrado por `Ventas` positivas (`ven_num_pos`)"
   ]
  },
  {
   "attachments": {},
   "cell_type": "markdown",
   "metadata": {},
   "source": [
    "### DataFrame con todas las ventas nulas\n",
    "- Al hacer esto, vemos que todos los valores de `Comision` en `ven_num_null` también son nulos, independientemente del valor de `Alicuota`, la cual sigue ocupando el rango de 0% a 18%.\n",
    "- Existen registros de vendedores modelo con ventas nulas."
   ]
  },
  {
   "cell_type": "code",
   "execution_count": null,
   "metadata": {},
   "outputs": [],
   "source": [
    "ven_num_null = ven_num[ven_num['Ventas'] == 0].copy()\n",
    "ven_num_null.describe().T"
   ]
  },
  {
   "cell_type": "code",
   "execution_count": null,
   "metadata": {},
   "outputs": [],
   "source": [
    "mod_null = ventas_ipc[num_cols+['Modelo']]\n",
    "mod_null = mod_null[mod_null['Ventas'] == 0]\n",
    "mod_null.sort_values('Modelo')"
   ]
  },
  {
   "cell_type": "code",
   "execution_count": null,
   "metadata": {},
   "outputs": [],
   "source": [
    "print('z-Score de los extremos de la variables numéricas:') \n",
    "for col in ['Alicuota']:\n",
    "    zScore_min = (ven_num_null[col].min() - ven_num_null[col].mean()) / ven_num_null[col].std()\n",
    "    zScore_max = (ven_num_null[col].max() - ven_num_null[col].mean()) / ven_num_null[col].std()\n",
    "\n",
    "    print(f'\\t{col}:')\n",
    "    print(f'\\t\\t Mínimo: {zScore_min:.0f} \\t Máximo: {zScore_max:.0f}')"
   ]
  },
  {
   "attachments": {},
   "cell_type": "markdown",
   "metadata": {},
   "source": [
    "### DataFrame con todas las ventas negativas\n",
    "- Hay 7 órdenes de magnitud de diferencia entre los valores mínimo y máximo de ventas y comisión.\n",
    "- Los datos son asimétricos hacia la izquierda, igual son menos asimétricos que el conjunto global\n",
    "- Hay 26 casos donde la comisión es nula a pesar de que la venta no fue nula. En 25 de estos casos ocurre que la alícuota es cero. En el caso restante es de 0.18%. Como en todos los casos son ventas negativas, puede ser que esta sea la razón de tener una comisión nula. Ninguno de estos 26 registros corresponde a vendedor modelo.\n",
    "- De hecho no hay ningún modelo con ventas negativas."
   ]
  },
  {
   "cell_type": "code",
   "execution_count": null,
   "metadata": {},
   "outputs": [],
   "source": [
    "ven_num_neg = ven_num[ven_num['Ventas'] < 0].copy()\n",
    "ven_num_neg.describe().T"
   ]
  },
  {
   "cell_type": "code",
   "execution_count": null,
   "metadata": {},
   "outputs": [],
   "source": [
    "mod_neg = ventas_ipc[num_cols+['Modelo']]\n",
    "mod_neg = mod_neg[mod_neg['Ventas'] < 0]\n",
    "mod_neg.sort_values('Modelo')"
   ]
  },
  {
   "cell_type": "code",
   "execution_count": null,
   "metadata": {},
   "outputs": [],
   "source": [
    "ventas_ipc[(ventas_ipc['Ventas'] < 0) & (ventas_ipc['Comision'] == 0)].sort_values('Alicuota')[num_cols+['Modelo']]"
   ]
  },
  {
   "cell_type": "code",
   "execution_count": null,
   "metadata": {},
   "outputs": [],
   "source": [
    "print('z-Score de los extremos de la variables numéricas:') \n",
    "for col in num_cols:\n",
    "    zScore_min = (ven_num_neg[col].min() - ven_num_neg[col].mean()) / ven_num_neg[col].std()\n",
    "    zScore_max = (ven_num_neg[col].max() - ven_num_neg[col].mean()) / ven_num_neg[col].std()\n",
    "\n",
    "    print(f'\\t{col}:')\n",
    "    print(f'\\t\\t Mínimo: {zScore_min:.0f} \\t Máximo: {zScore_max:.0f}')"
   ]
  },
  {
   "attachments": {},
   "cell_type": "markdown",
   "metadata": {},
   "source": [
    "* La mayoría de las ventas y comisiones están asociadas a alícuotas menores al 5% (con moda en 5%).\n",
    "* Se proyecta una relación lineal entre `Ventas` y `Comision`: hay una correlación de +0.92. Chequear relación de proporcionaldiad con `Alicuota`."
   ]
  },
  {
   "cell_type": "code",
   "execution_count": null,
   "metadata": {},
   "outputs": [],
   "source": [
    "sns.pairplot(data=ven_num_neg, diag_kind='kde', plot_kws = {'alpha': 0.3, 's': 10})\n",
    "plt.show()"
   ]
  },
  {
   "cell_type": "code",
   "execution_count": null,
   "metadata": {},
   "outputs": [],
   "source": [
    "# Cálculo y Visualización de la matriz de correlación entre las variables\n",
    "matrix = ven_num_neg[['Ventas', 'Alicuota', 'Comision']].corr().round(2)\n",
    "sns.heatmap(matrix, annot=True)"
   ]
  },
  {
   "attachments": {},
   "cell_type": "markdown",
   "metadata": {},
   "source": [
    "### DataFrame con todas las ventas positivas\n",
    "* Hay 5 y 9 órdenes de magnitud de diferencia entre los valores mínimo y máximo de comisión y ventas, respectivamente.\n",
    "* Los datos son asimétricos hacia la derecha, igual son menos asimétricos que el conjunto global.\n",
    "* Hay 2232 casos donde la comisión es nula a pesar de que la venta no fue nula. De estos:\n",
    "    * 34 registros corresponden a vendedores modelo.\n",
    "    * 1458 registros con alícuota nula.\n",
    "    * 774 registros con alícuota no nula."
   ]
  },
  {
   "cell_type": "code",
   "execution_count": null,
   "metadata": {},
   "outputs": [],
   "source": [
    "ven_num_pos = ven_num[ven_num['Ventas'] > 0].copy()\n",
    "ven_num_pos.describe().T"
   ]
  },
  {
   "cell_type": "code",
   "execution_count": null,
   "metadata": {},
   "outputs": [],
   "source": [
    "a = ventas_ipc[(ventas_ipc['Ventas'] > 0) & (ventas_ipc['Comision'] == 0)].sort_values('Alicuota')[num_cols+['Modelo']]\n",
    "display(a)\n",
    "print(f'Hay {len(a)} registros con venta positiva, pero comisión nula. De estos:')\n",
    "print(f'\\t>>> {len(a[a[\"Modelo\"] == 1])} registros corresponden a vendedores modelo.')\n",
    "display(a[a[\"Modelo\"] == 1].describe().T)\n",
    "print(f'\\t>>> {len(a[a[\"Alicuota\"] == 0])} registros con alícuota nula.')\n",
    "print(f'\\t>>> {len(a[a[\"Alicuota\"] > 0])} registros con alícuota no nula.')\n",
    "display(a[a[\"Alicuota\"] > 0].describe().T)"
   ]
  },
  {
   "cell_type": "code",
   "execution_count": null,
   "metadata": {},
   "outputs": [],
   "source": [
    "print('z-Score de los extremos de la variables numéricas:') \n",
    "for col in num_cols:\n",
    "    zScore_min = (ven_num_pos[col].min() - ven_num_pos[col].mean()) / ven_num_pos[col].std()\n",
    "    zScore_max = (ven_num_pos[col].max() - ven_num_pos[col].mean()) / ven_num_pos[col].std()\n",
    "\n",
    "    print(f'\\t{col}:')\n",
    "    print(f'\\t\\t Mínimo: {zScore_min:.0f} \\t Máximo: {zScore_max:.0f}')"
   ]
  },
  {
   "attachments": {},
   "cell_type": "markdown",
   "metadata": {},
   "source": [
    "* La mayoría de las ventas y comisiones están asociadas a alícuotas menores al 5%.\n",
    "* Hay una distribución bimodal en torno al 0.0475% y el 5%\n",
    "* Se proyectan diferentes rectas entre `Ventas` y `Comision`: ¿existe una relación de proporcionaldiad con `Alicuota`?\n",
    "* Se proyecta una relación lineal entre `Ventas` y `Comision`: hay una correlación de +0.95. Chequear relación de proporcionaldiad con `Alicuota`"
   ]
  },
  {
   "cell_type": "code",
   "execution_count": null,
   "metadata": {},
   "outputs": [],
   "source": [
    "sns.pairplot(data=ven_num_pos, diag_kind='kde', plot_kws = {'alpha': 0.3, 's': 10})\n",
    "plt.show()"
   ]
  },
  {
   "cell_type": "code",
   "execution_count": null,
   "metadata": {},
   "outputs": [],
   "source": [
    "# Cálculo y Visualización de la matriz de correlación entre las variables\n",
    "matrix = ven_num_pos[['Ventas', 'Alicuota', 'Comision']].corr().round(2)\n",
    "sns.heatmap(matrix, annot=True)"
   ]
  },
  {
   "attachments": {},
   "cell_type": "markdown",
   "metadata": {},
   "source": [
    "## Más medidas de dispersión sobre ventas no nulas: asimetría y Kurtosis"
   ]
  },
  {
   "attachments": {},
   "cell_type": "markdown",
   "metadata": {},
   "source": [
    "Al analizar la asimetría (skewness) y la Kurtosis sobre estas variables decimos que:\n",
    "* Las ventas positivas tienen un sesgo positivos y las negativas un sesgo negativo tanto para comisión como para ventas, como ya habíamos visto: las colas de las distribuciones se encuentran a derecha e izquierda, respectivamente.\n",
    "* Las comisiones siempre tienen sesgo positivo: colas a derecha.\n",
    "* Todas son leptocúrticas: están más apuntaladas y con colas más gruesas que la normal.\n",
    "* Todos los p-valores son nulos en ambos test, lo cual indica que rechazamos la hipótesis nula: tanto en simetría como en Kurtosis las distribuciones son significativamente diferentes a una distribución normal."
   ]
  },
  {
   "cell_type": "code",
   "execution_count": null,
   "metadata": {},
   "outputs": [],
   "source": [
    "print('Ventas negativas')\n",
    "asim = skew(ven_num_neg)\n",
    "asimtest = skewtest(ven_num_neg).pvalue\n",
    "kurt = kurtosis(ven_num_neg)\n",
    "kurttest = kurtosistest(ven_num_neg).pvalue\n",
    "\n",
    "desc = pd.DataFrame({'Asimetría': asim, 'p-val Asim.': asimtest,\n",
    "                     'Kurtosis (Fisher)': kurt, 'p-val Kurt.': kurttest},\n",
    "                     index=['Ventas', 'Alicuota', 'Comision'])\n",
    "desc"
   ]
  },
  {
   "cell_type": "code",
   "execution_count": null,
   "metadata": {},
   "outputs": [],
   "source": [
    "print('Ventas positivas')\n",
    "asim = skew(ven_num_pos)\n",
    "asimtest = skewtest(ven_num_pos).pvalue\n",
    "kurt = kurtosis(ven_num_pos)\n",
    "kurttest = kurtosistest(ven_num_pos).pvalue\n",
    "\n",
    "desc = pd.DataFrame({'Asimetría': asim, 'p-val Asim.': asimtest,\n",
    "                     'Kurtosis (Fisher)': kurt, 'p-val Kurt.': kurttest},\n",
    "                     index=['Ventas', 'Alicuota', 'Comision'])\n",
    "desc"
   ]
  },
  {
   "attachments": {},
   "cell_type": "markdown",
   "metadata": {},
   "source": [
    "## Relación entre variables numéricas con etiquetas categóricas"
   ]
  },
  {
   "cell_type": "code",
   "execution_count": null,
   "metadata": {},
   "outputs": [],
   "source": [
    "ventas_null = ventas_ipc[ventas_ipc['Ventas'] == 0].copy()\n",
    "ventas_neg = ventas_ipc[ventas_ipc['Ventas'] < 0].copy()\n",
    "ventas_pos = ventas_ipc[ventas_ipc['Ventas'] > 0].copy()"
   ]
  },
  {
   "attachments": {},
   "cell_type": "markdown",
   "metadata": {},
   "source": [
    "### Ventas nulas\n",
    "- Omega: prácticamente todos 1. Hay una nadita de 0.\n",
    "- Subrubro: nada particular.\n",
    "- Trat_Fisc: la enorme mayoría son 0. Después destacan apenitas los normales.\n",
    "- Modelo: la gran mayoría no lo son, aunque sí hay varios modelo (en torno al cero)."
   ]
  },
  {
   "cell_type": "code",
   "execution_count": null,
   "metadata": {},
   "outputs": [],
   "source": [
    "# Estas gráficas tardan bastante en generarse, descomentar para obtenerlas\n",
    "\n",
    "for col in ['Omega', 'Subrubro', 'Trat_Fisc','Modelo']:\n",
    "    sns.kdeplot(data=ventas_null[['Alicuota', col]], x='Alicuota', hue=col)\n",
    "    plt.show()"
   ]
  },
  {
   "attachments": {},
   "cell_type": "markdown",
   "metadata": {},
   "source": [
    "### Ventas negativas\n",
    "- Omega: todos son 1.\n",
    "- Subrubro: destacan misceláneo, supermercados y combustible reventa.\n",
    "- Trat_Fisc: nada particular.\n",
    "- Modelo: todos son 0 (no hay ningún modelo con ventas negativas)."
   ]
  },
  {
   "cell_type": "code",
   "execution_count": null,
   "metadata": {},
   "outputs": [],
   "source": [
    "# Estas gráficas tardan bastante en generarse, descomentar para obtenerlas\n",
    "\n",
    "for col in ['Omega', 'Subrubro', 'Trat_Fisc', 'Modelo']:\n",
    "    sns.pairplot(data=ventas_neg[num_cols+[col]], diag_kind='kde', hue=col, plot_kws = {'alpha': 0.3, 's': 10})\n",
    "    plt.show()"
   ]
  },
  {
   "attachments": {},
   "cell_type": "markdown",
   "metadata": {},
   "source": [
    "### Ventas positivas\n",
    "- Omega: la enorme mayoría son 1. Hay poquititos 0.\n",
    "- Subrubro: ver cómo se asocian a las diferentes proyecciones.\n",
    "- Trat_Fisc: nada particular.\n",
    "- Modelo: hay tanto 0 como 1. Hay una mayor proporción de 1 que antes"
   ]
  },
  {
   "cell_type": "code",
   "execution_count": null,
   "metadata": {},
   "outputs": [],
   "source": [
    "# Estas gráficas tardan bastante en generarse, descomentar para obtenerlas\n",
    "\n",
    "for col in ['Omega', 'Subrubro', 'Trat_Fisc', 'Modelo']:\n",
    "    sns.pairplot(data=ventas_pos[num_cols+[col]], diag_kind='kde', hue=col, plot_kws = {'alpha': 0.3, 's': 10})\n",
    "    plt.show()"
   ]
  },
  {
   "attachments": {},
   "cell_type": "markdown",
   "metadata": {},
   "source": [
    "## Nota sobre modelos\n",
    "* No hay ningún modelo con ventas nulas: la mayoría de sus registros son ventas positivas, aunque hay algunos con ventas negativas.\n",
    "* Todos los modelos tienen alícuotas bajas (muy ceranas al 0%). Hay 5374 registros asociados a vendedores modelo y sus alícuotas van desde 0.0084% hasta 3.25%. Sin embargo, la mayoría se concentra en alícuotas menores a 0.075 %, teniendo un pico en 0.05%."
   ]
  },
  {
   "cell_type": "code",
   "execution_count": null,
   "metadata": {},
   "outputs": [],
   "source": [
    "a = ventas_ipc[(ventas_ipc['Modelo'] == 1)].sort_values('Alicuota')[num_cols]\n",
    "a.describe().T"
   ]
  },
  {
   "cell_type": "code",
   "execution_count": null,
   "metadata": {},
   "outputs": [],
   "source": [
    "sns.histplot(a['Alicuota'])\n",
    "plt.show()\n",
    "\n",
    "sns.histplot(a[a['Alicuota'] < 0.5]['Alicuota'])\n",
    "plt.show()"
   ]
  },
  {
   "attachments": {},
   "cell_type": "markdown",
   "metadata": {},
   "source": [
    "## Análisis de la relación de proporcionalidad entre variables numéricas"
   ]
  },
  {
   "attachments": {},
   "cell_type": "markdown",
   "metadata": {},
   "source": [
    "Queremos estudiar un poco más la relación lineal antes vista entre estas 3 variables. Proponemos que la función que las relaciona es\n",
    "    $$\\text{Comision} = \\text{Alicuota} \\times \\text{Ventas}$$\n",
    "\n",
    "Acá voy a volver a distinguir entre nulas, positivas y negativas e ir discriminando por modelo"
   ]
  },
  {
   "attachments": {},
   "cell_type": "markdown",
   "metadata": {},
   "source": [
    "### Ventas nulas\n",
    "Los 147019 registros con ventas nulas cumplen la relación (porque dijimos que toda venta nula estaba asociada a una comision nula)."
   ]
  },
  {
   "cell_type": "code",
   "execution_count": null,
   "metadata": {},
   "outputs": [],
   "source": [
    "# Relación lineal: comision = alicuota x venta\n",
    "calcCom = ventas_null['Alicuota'] * ventas_null['Ventas']\n",
    "\n",
    "L = len(calcCom)\n",
    "S = sum(abs(ventas_null['Comision'] - calcCom) == 0)\n",
    "print(f'{S} de {L} registros cumplen la relación >> {100*(S)/L:.2f}%')\n",
    "print(f'{L-S} registros no la cumplen la relación >> {100*(L-S)/L:.2f}%')"
   ]
  },
  {
   "attachments": {},
   "cell_type": "markdown",
   "metadata": {},
   "source": [
    "### Ventas negativas\n",
    "* El 97.65% de los registros **NO** cumplen la relación: el 96.19% de los registros la subestiman.\n",
    "* El 97.65% de los registros cae en el caso *pendiente grande*."
   ]
  },
  {
   "cell_type": "code",
   "execution_count": null,
   "metadata": {},
   "outputs": [],
   "source": [
    "# Relación lineal: comision = alicuota x venta\n",
    "calcCom = ventas_neg['Alicuota'] * ventas_neg['Ventas']\n",
    "\n",
    "diff = ventas_neg['Comision'] - calcCom\n",
    "D = len(diff)\n",
    "L = len(calcCom)\n",
    "S = sum(abs(diff) == 0)\n",
    "\n",
    "print(f'{S} de {L} registros cumplen la relación >> {100*(S)/L:.2f}%')\n",
    "print(f'{L-S} registros no la cumplen la relación >> {100*(L-S)/L:.2f}%')\n",
    "\n",
    "sobre = len(diff[diff<0])\n",
    "print(f'\\t{sobre} registros sobreestiman la relación >>> {100*sobre/D:.2f}%')\n",
    "sub = len(diff[diff>0])\n",
    "print(f'\\t{sub} registros subestiman la relación >>> {100*sub/D:.2f}%')"
   ]
  },
  {
   "cell_type": "code",
   "execution_count": null,
   "metadata": {},
   "outputs": [],
   "source": [
    "com_real_sobre = ventas_neg['Comision'][diff<0]\n",
    "com_real_exac = ventas_neg['Comision'][diff==0]\n",
    "com_real_sub = ventas_neg['Comision'][diff>0]\n",
    "\n",
    "com_calc_sobre = calcCom[diff<0]\n",
    "com_calc_exac = calcCom[diff==0]\n",
    "com_calc_sub = calcCom[diff>0]"
   ]
  },
  {
   "cell_type": "code",
   "execution_count": null,
   "metadata": {},
   "outputs": [],
   "source": [
    "fig, axs = plt.subplots(figsize=(6, 5))\n",
    "\n",
    "fig.suptitle('Comisión: real vs calculada (ventas negativas)')\n",
    "\n",
    "axs.scatter(com_real_sobre, com_calc_sobre, label='Sobreestimado', s=30)\n",
    "axs.scatter(com_real_exac, com_calc_exac, label='Exacto', s=20)\n",
    "axs.scatter(com_real_sub, com_calc_sub, label='Subestimado', s=10)\n",
    "\n",
    "axs.legend()\n",
    "\n",
    "axs.set_xlabel('Comisión real')\n",
    "axs.set_ylabel('Comisión calculada')\n",
    "\n",
    "plt.show()"
   ]
  },
  {
   "cell_type": "code",
   "execution_count": null,
   "metadata": {},
   "outputs": [],
   "source": [
    "rg_real = pd.concat([com_real_sub[com_calc_sub<0], com_real_sobre[com_calc_sobre>10*com_real_sobre]])\n",
    "rg_calc = pd.concat([com_calc_sub[com_calc_sub<0], com_calc_sobre[com_calc_sobre>10*com_real_sobre]])\n",
    "\n",
    "rp_real = pd.concat([com_real_sub[com_calc_sub>0], com_real_sobre[com_calc_sobre<10*com_real_sobre], com_real_exac])\n",
    "rp_calc = pd.concat([com_calc_sub[com_calc_sub>0], com_calc_sobre[com_calc_sobre<10*com_real_sobre], com_calc_exac])"
   ]
  },
  {
   "cell_type": "code",
   "execution_count": null,
   "metadata": {},
   "outputs": [],
   "source": [
    "print(f'De los {len(rp_real+rg_real)} registros:')\n",
    "print(f'\\t{len(rg_real)} están en la recta con pendiente grande >>> {100*len(rg_real)/len(rp_real+rg_real):.2f}%')\n",
    "print(f'\\t{len(rp_real)} están en la recta con pendiente pequeña >>> {100*len(rp_real)/len(rp_real+rg_real):.2f}%')"
   ]
  },
  {
   "cell_type": "code",
   "execution_count": null,
   "metadata": {},
   "outputs": [],
   "source": [
    "LG = LR(rg_real, rg_calc)\n",
    "LP = LR(rp_real, rp_calc)"
   ]
  },
  {
   "cell_type": "code",
   "execution_count": null,
   "metadata": {},
   "outputs": [],
   "source": [
    "fig, axs = plt.subplots(figsize=(6, 5))\n",
    "\n",
    "axs.scatter(rg_real, rg_calc, label='Gran pendiente', s=30)\n",
    "axs.scatter(rp_real, rp_calc, label='Pequeña pendiente', s=15)\n",
    "axs.plot(rg_real, rg_real*LG.slope + LG.intercept, label=f'{LG.slope:.0f}*Real + ${LG.intercept:.0f}', color='red')\n",
    "axs.plot(rp_real, rp_real*LP.slope + LP.intercept, label=f'{LP.slope:.0f}*Real + ${LP.intercept:.4f}', color='tab:green')\n",
    "\n",
    "axs.legend(loc='upper left')\n",
    "\n",
    "axs.set_xlabel('Comisión real')\n",
    "axs.set_ylabel('Comisión calculada')\n",
    "\n",
    "fig.suptitle('Comisión empresa: real vs calculada (ventas negativas)')\n",
    "plt.show()"
   ]
  },
  {
   "attachments": {},
   "cell_type": "markdown",
   "metadata": {},
   "source": [
    "### Ventas positivas\n",
    "* El 97.33% de los registros **NO** cumplen la relación: el 81.64% de los registros la sobrestiman.\n",
    "* El 64.05% caen en el caso *pendiente grande*.\n",
    "* Todos os modelo caen en el caso *pendiente pequeña*."
   ]
  },
  {
   "cell_type": "code",
   "execution_count": null,
   "metadata": {},
   "outputs": [],
   "source": [
    "# Relación lineal: comision = alicuota x venta\n",
    "calcCom = ventas_pos['Alicuota'] * ventas_pos['Ventas']\n",
    "\n",
    "diff = ventas_pos['Comision'] - calcCom\n",
    "D = len(diff)\n",
    "L = len(calcCom)\n",
    "S = sum(abs(diff) == 0)\n",
    "\n",
    "print(f'{S} de {L} registros cumplen la relación >> {100*(S)/L:.2f}%')\n",
    "print(f'{L-S} registros no la cumplen la relación >> {100*(L-S)/L:.2f}%')\n",
    "\n",
    "sobre = len(diff[diff<0])\n",
    "print(f'\\t{sobre} registros sobreestiman la relación >>> {100*sobre/D:.2f}%')\n",
    "sub = len(diff[diff>0])\n",
    "print(f'\\t{sub} registros subestiman la relación >>> {100*sub/D:.2f}%')"
   ]
  },
  {
   "cell_type": "code",
   "execution_count": null,
   "metadata": {},
   "outputs": [],
   "source": [
    "com_real_sobre = ventas_pos['Comision'][diff<0]\n",
    "com_real_exac = ventas_pos['Comision'][diff==0]\n",
    "com_real_sub = ventas_pos['Comision'][diff>0]\n",
    "\n",
    "com_calc_sobre = calcCom[diff<0]\n",
    "com_calc_exac = calcCom[diff==0]\n",
    "com_calc_sub = calcCom[diff>0]"
   ]
  },
  {
   "cell_type": "code",
   "execution_count": null,
   "metadata": {},
   "outputs": [],
   "source": [
    "fig, axs = plt.subplots(figsize=(6, 5))\n",
    "\n",
    "fig.suptitle('Comisión: real vs calculada (ventas positivas)')\n",
    "\n",
    "axs.scatter(com_real_sobre, com_calc_sobre, label='Sobreestimado', s=30)\n",
    "axs.scatter(com_real_exac, com_calc_exac, label='Exacto', s=20)\n",
    "axs.scatter(com_real_sub, com_calc_sub, label='Subestimado', s=10)\n",
    "\n",
    "axs.legend()\n",
    "\n",
    "axs.set_xlabel('Comisión real')\n",
    "axs.set_ylabel('Comisión calculada')\n",
    "\n",
    "plt.show()"
   ]
  },
  {
   "cell_type": "code",
   "execution_count": null,
   "metadata": {},
   "outputs": [],
   "source": [
    "rg_real = pd.concat([com_real_sub[com_calc_sub<0], com_real_sobre[com_calc_sobre>10*com_real_sobre]])\n",
    "rg_calc = pd.concat([com_calc_sub[com_calc_sub<0], com_calc_sobre[com_calc_sobre>10*com_real_sobre]])\n",
    "\n",
    "rp_real = pd.concat([com_real_sub[com_calc_sub>0], com_real_sobre[com_calc_sobre<10*com_real_sobre], com_real_exac])\n",
    "rp_calc = pd.concat([com_calc_sub[com_calc_sub>0], com_calc_sobre[com_calc_sobre<10*com_real_sobre], com_calc_exac])"
   ]
  },
  {
   "cell_type": "code",
   "execution_count": null,
   "metadata": {},
   "outputs": [],
   "source": [
    "print(f'De los {len(rp_real+rg_real)} registros:')\n",
    "print(f'\\t{len(rg_real)} están en la recta con pendiente grande >>> {100*len(rg_real)/len(rp_real+rg_real):.2f}%')\n",
    "print(f'\\t{len(rp_real)} están en la recta con pendiente pequeña >>> {100*len(rp_real)/len(rp_real+rg_real):.2f}%')"
   ]
  },
  {
   "cell_type": "code",
   "execution_count": null,
   "metadata": {},
   "outputs": [],
   "source": [
    "LG = LR(rg_real, rg_calc)\n",
    "LP = LR(rp_real, rp_calc)"
   ]
  },
  {
   "cell_type": "code",
   "execution_count": null,
   "metadata": {},
   "outputs": [],
   "source": [
    "fig, axs = plt.subplots(figsize=(6, 5))\n",
    "\n",
    "axs.scatter(rg_real, rg_calc, label='Gran pendiente', s=30)\n",
    "axs.scatter(rp_real, rp_calc, label='Pequeña pendiente', s=15)\n",
    "axs.plot(rg_real, rg_real*LG.slope + LG.intercept, label=f'{LG.slope:.0f}*Real + ${LG.intercept:.0f}', color='red')\n",
    "axs.plot(rp_real, rp_real*LP.slope + LP.intercept, label=f'{LP.slope:.0f}*Real + ${LP.intercept:.4f}', color='tab:green')\n",
    "\n",
    "axs.legend(loc='upper left')\n",
    "\n",
    "axs.set_xlabel('Comisión real')\n",
    "axs.set_ylabel('Comisión calculada')\n",
    "\n",
    "fig.suptitle('Comisión empresa: real vs calculada (ventas positivas)')\n",
    "plt.show()"
   ]
  },
  {
   "cell_type": "code",
   "execution_count": null,
   "metadata": {},
   "outputs": [],
   "source": [
    "# Discrimino por modelo\n",
    "mask0 = ventas_pos['Modelo']==0\n",
    "mask1 = ventas_pos['Modelo']==1"
   ]
  },
  {
   "cell_type": "code",
   "execution_count": null,
   "metadata": {},
   "outputs": [],
   "source": [
    "com_real_Mod = ventas_pos['Comision'][mask1]\n",
    "com_real_noMod = ventas_pos['Comision'][mask0]\n",
    "\n",
    "com_calc_Mod = calcCom[mask1]\n",
    "com_calc_noMod = calcCom[mask0]"
   ]
  },
  {
   "cell_type": "code",
   "execution_count": null,
   "metadata": {},
   "outputs": [],
   "source": [
    "fig, axs = plt.subplots(figsize=(6, 5))\n",
    "\n",
    "axs.scatter(rg_real, rg_calc, label='Gran pendiente', s=30)\n",
    "axs.scatter(rp_real, rp_calc, label='Pequeña pendiente', s=15)\n",
    "axs.plot(com_real_noMod, com_calc_noMod, label='No Modelo', color='tab:green')\n",
    "axs.plot(com_real_Mod, com_calc_Mod, label='Modelo', color='red')\n",
    "\n",
    "axs.legend(loc='upper left')\n",
    "\n",
    "axs.set_xlabel('Comisión real')\n",
    "axs.set_ylabel('Comisión Calculada')\n",
    "\n",
    "fig.suptitle('Comisión: real vs calculada (ventas positivas)')\n",
    "plt.show()"
   ]
  },
  {
   "cell_type": "markdown",
   "metadata": {},
   "source": [
    "### Pendientes\n",
    "* En ambos casos de ventas no nulas las pendientes son 1 y 100 para la pequeña y la grande, respectivamente.\n",
    "* Las ordenadas al origen son bien diferentes para cada caso:\n",
    "    * Ventas negativas:\n",
    "        * Pendiente = 1 >> $0\n",
    "        * Pendiente = 100 >> $141.739\n",
    "    * Ventas positivas:\n",
    "        * Pendiente = 1 >> -$21\n",
    "        * Pendiente = 100 >> $1.719"
   ]
  },
  {
   "cell_type": "markdown",
   "metadata": {},
   "source": [
    "## Guardado\n",
    "A partir de lo visto, descartamos las variables `Alicuota` y `Trat_Fisc` ya que nos aporten información significativa"
   ]
  },
  {
   "cell_type": "code",
   "execution_count": null,
   "metadata": {},
   "outputs": [],
   "source": [
    "ventas_fisc = ventas_ipc.copy()\n",
    "ventas_fisc = limpiar_basic(ventas_fisc, cols_drop=['Alicuota', 'Trat_Fisc'])\n",
    "\n",
    "ventas_fisc"
   ]
  },
  {
   "cell_type": "code",
   "execution_count": null,
   "metadata": {},
   "outputs": [],
   "source": [
    "ventas_fisc.to_csv('../data/interim/tp2_ventas_fisc.csv', index=False)"
   ]
  },
  {
   "cell_type": "markdown",
   "metadata": {},
   "source": [
    "---\n",
    "# Análisis de la serie de tiempo con énfasis en Modelos y Subrubro <span style=\"color:magenta\">**(Paso 7)**</span>"
   ]
  },
  {
   "cell_type": "code",
   "execution_count": null,
   "metadata": {},
   "outputs": [],
   "source": [
    "if 'ventas_fisc' not in locals():\n",
    "    # Para que las funciones se actualicen sin tener que refrescar el kernel\n",
    "    %load_ext autoreload\n",
    "    %autoreload 2\n",
    "\n",
    "    import pandas as pd\n",
    "    import json\n",
    "    from os.path import exists\n",
    "    import missingno as msno\n",
    "    import matplotlib.pyplot as plt\n",
    "    import numpy as np\n",
    "    import seaborn as sns\n",
    "    from statsmodels.graphics.tsaplots import plot_acf\n",
    "    from scipy.stats import linregress as LR\n",
    "    from scipy.stats import skew, kurtosis, skewtest, kurtosistest\n",
    "\n",
    "    # Funciones propias\n",
    "    from utils_limpieza import * \n",
    "    \n",
    "    ventas_fisc = pd.read_csv('../data/interim/tp2_ventas_fisc.csv')\n",
    "\n",
    "ventas_fisc['Fecha'] = ventas_fisc['Fecha'].astype('datetime64[ns]')"
   ]
  },
  {
   "cell_type": "code",
   "execution_count": null,
   "metadata": {},
   "outputs": [],
   "source": [
    "ventas_fisc.dtypes"
   ]
  },
  {
   "cell_type": "markdown",
   "metadata": {},
   "source": [
    "## Modelos vs. Tiempo\n",
    "**Observaciones (ventas totales)**\n",
    "- Los valores de ventas de Modelo son cerca de la mitad de las ventas de no-Modelo.\n",
    "- Durante el confinamiento obligatorio (primera mitad de 2020) las caídas en ventas fueron muy fuertes, pero más fuertes en proporción para vendedores Modelo,\n",
    "- Si la indexación es confiable, parece que los Modelos no han recuperado sus valores de ventas previos a la Pandemia, mientas que los no-Modelo parecen estar levemente por encima.\n",
    "- A lo largo de todo el período, los no modelo lograron vender un 14% más, mientras que los modelo han bajado sus ventas en un 10%.\n",
    "- Hay menos dispersión de datos para vendedores no-modelo: ventas más consistentes o es simplemente un efecto de la mayor cantidad de datos?\n",
    "- Si nos fijamos en la comisión, si bien la pandemia afectó tanto a modelos como no modelos (ver valle en el primer semestre de 2020), los modelo han recuperado su nivel de aporte, mientras que los no modelo lo han superado. A lo largo de todo el periódo la variación de los modelo es prácticamente nula, pero la de los no modelo aumentó en un 40%.\n",
    "\n",
    "**Observaciones (ventas positivas)**\n",
    "- Se repite el patrón de que los valores de ventas de Modelo son cerca de la mitad de las ventas de no-Modelo.\n",
    "- Se sigue viendo el decaimiento en pandemia.\n",
    "- En todo el período, las ventas de los no modelo aumentaron un 23%, mientras que las ventas de modelo apenas disminuyeron.\n",
    "- Si nos fijamos en la comisión, se sigue viendo el efecto de la pandemia. A lo largo de todo el periódo la variación de los modelo es prácticamente nula, pero la de los no modelo aumentó en un 50%."
   ]
  },
  {
   "cell_type": "code",
   "execution_count": null,
   "metadata": {},
   "outputs": [],
   "source": [
    "ventas_fisc.head()"
   ]
  },
  {
   "cell_type": "code",
   "execution_count": null,
   "metadata": {},
   "outputs": [],
   "source": [
    "ven_mod_t = ventas_fisc[['ID', 'Fecha', 'Ventas', 'Comision', 'Modelo']].copy()"
   ]
  },
  {
   "cell_type": "code",
   "execution_count": null,
   "metadata": {},
   "outputs": [],
   "source": [
    "sns.lineplot(x='Fecha', y='Ventas', hue='Modelo', data=ven_mod_t)\n",
    "plt.title('Ventas (totales)')\n",
    "plt.show()"
   ]
  },
  {
   "cell_type": "code",
   "execution_count": null,
   "metadata": {},
   "outputs": [],
   "source": [
    "sns.lineplot(x='Fecha', y='Comision', hue='Modelo', data=ven_mod_t)\n",
    "plt.title('Comision (totales)')\n",
    "plt.show()"
   ]
  },
  {
   "cell_type": "code",
   "execution_count": null,
   "metadata": {},
   "outputs": [],
   "source": [
    "ven_mod_t_pos = ven_mod_t[ven_mod_t['Ventas'] > 0].copy()"
   ]
  },
  {
   "cell_type": "code",
   "execution_count": null,
   "metadata": {},
   "outputs": [],
   "source": [
    "sns.lineplot(x='Fecha', y='Ventas', hue='Modelo', data=ven_mod_t_pos)\n",
    "plt.title('Ventas (positivas)')\n",
    "plt.show()"
   ]
  },
  {
   "cell_type": "code",
   "execution_count": null,
   "metadata": {},
   "outputs": [],
   "source": [
    "sns.lineplot(x='Fecha', y='Comision', hue='Modelo', data=ven_mod_t_pos)\n",
    "plt.title('Comision (positivas)')\n",
    "plt.show()"
   ]
  },
  {
   "cell_type": "markdown",
   "metadata": {},
   "source": [
    "## Modelos y Subrubros vs. Tiempo\n",
    "\n",
    "Visualizamos la diferencia entre Modelo y no-Modelo dentro de cada subrubro.\n",
    "\n",
    "**Observaciones (ventas totales):**\n",
    "- Los valores de venta en Modelos son menores en todos los Subrubros, con la excepción de tres: \"Góndola\", \"Comb.\" y \"Comb. Ley\".\n",
    "- En los subrubros \"Vehículos\", \"Farmacia\" y \"Supermercado\" los valores de ventas de modelo parecen ser despreciables en comparación con no-Modelo. Tienen valores muy bajos y con muy poca variablidad.\n",
    "- \"Mantenimiento\" no parece tener muchos valores Modelo, se podría descartar.\n",
    "\n",
    "**Observaciones (ventas postivas):**\n",
    "- Los valores de venta en Modelos son menores en todos los Subrubros, con la excepción de tres: \"Góndola\" y \"Comb.\". Ahora \"Comb. Ley\" se pusieron cabeza a cabeza.\n",
    "- Se repite lo de \"Vehículos\", \"Farmacia\" y \"Supermercado\".\n",
    "- \"Mantenimiento\" no muestra ningún modelo: no hay modelos con ventas positivas en esta categoría. O sea que todos los modelo que estaban en mantenimiento tenían realidad todas sus ventas nulas."
   ]
  },
  {
   "cell_type": "code",
   "execution_count": null,
   "metadata": {},
   "outputs": [],
   "source": [
    "g = sns.relplot(\n",
    "    data=ventas_fisc,\n",
    "    x=\"Fecha\", y=\"Ventas\", col=\"Subrubro\", hue=\"Modelo\",\n",
    "    kind=\"line\", linewidth=2, zorder=5,\n",
    "    col_wrap=3, height=2, aspect=1.5, legend=True,\n",
    "    facet_kws=dict(sharey=False)\n",
    ")\n",
    "\n",
    "# Iterate over each subplot to customize further\n",
    "for subrubro, ax in g.axes_dict.items():\n",
    "\n",
    "    # Add the title as an annotation within the plot\n",
    "    ax.text(.5, .95, subrubro, transform=ax.transAxes)\n",
    "\n",
    "# Reduce the frequency of the x axis ticks\n",
    "ax.set_xticks(ax.get_xticks()[::2])\n",
    "#ax.set_xticklabels(ax.get_xticklabels(), rotation=45)\n",
    "plt.xticks(rotation=45, ha='right')\n",
    "\n",
    "g.set_titles(\"\")\n",
    "g.set_axis_labels(\"\", \"Ventas\")    \n",
    "#g.tight_layout()\n",
    "\n",
    "plt.show()"
   ]
  },
  {
   "cell_type": "code",
   "execution_count": null,
   "metadata": {},
   "outputs": [],
   "source": [
    "ven_modsub_t_pos = ventas_fisc[ventas_fisc['Ventas'] > 0].copy()"
   ]
  },
  {
   "cell_type": "code",
   "execution_count": null,
   "metadata": {},
   "outputs": [],
   "source": [
    "g = sns.relplot(\n",
    "    data=ven_modsub_t_pos,\n",
    "    x=\"Fecha\", y=\"Ventas\", col=\"Subrubro\", hue=\"Modelo\",\n",
    "    kind=\"line\", linewidth=2, zorder=5,\n",
    "    col_wrap=3, height=2, aspect=1.5, legend=True,\n",
    "    facet_kws=dict(sharey=False)\n",
    ")\n",
    "\n",
    "# Iterate over each subplot to customize further\n",
    "for subrubro, ax in g.axes_dict.items():\n",
    "\n",
    "    # Add the title as an annotation within the plot\n",
    "    ax.text(.5, .95, subrubro, transform=ax.transAxes)\n",
    "\n",
    "# Reduce the frequency of the x axis ticks\n",
    "ax.set_xticks(ax.get_xticks()[::2])\n",
    "#ax.set_xticklabels(ax.get_xticklabels(), rotation=45)\n",
    "plt.xticks(rotation=45, ha='right')\n",
    "\n",
    "g.set_titles(\"\")\n",
    "g.set_axis_labels(\"\", \"Ventas\")    \n",
    "#g.tight_layout()\n",
    "\n",
    "plt.show()"
   ]
  },
  {
   "cell_type": "markdown",
   "metadata": {},
   "source": [
    "## Descartamos el subrubro `Mantenimiento`\n",
    "Eliminamos el subrubro \"Mantenimiento\" porque hay un solo vendedor modelo, con valores nulos en los primeros meses de la serie (que luego desaparece por completo del dataset)"
   ]
  },
  {
   "cell_type": "code",
   "execution_count": null,
   "metadata": {},
   "outputs": [],
   "source": [
    "ventas_sub11 = ventas_fisc[ventas_fisc['Subrubro'] != 'Mantenimiento'].copy()\n",
    "ventas_sub11.to_csv('../data/interim/tp2_ventas_sub11.csv', index=False)\n",
    "print(ventas_sub11.shape)"
   ]
  },
  {
   "cell_type": "markdown",
   "metadata": {},
   "source": [
    "---\n",
    "# Generación de un nuevo dataset: de transacciones a vendedores <span style=\"color:magenta\">**(Paso 8)**</span>"
   ]
  },
  {
   "cell_type": "code",
   "execution_count": null,
   "metadata": {},
   "outputs": [],
   "source": [
    "if 'ventas_sub11' not in locals():\n",
    "    # Para que las funciones se actualicen sin tener que refrescar el kernel\n",
    "    %load_ext autoreload\n",
    "    %autoreload 2\n",
    "\n",
    "    import pandas as pd\n",
    "    import json\n",
    "    from os.path import exists\n",
    "    import missingno as msno\n",
    "    import matplotlib.pyplot as plt\n",
    "    import numpy as np\n",
    "    import seaborn as sns\n",
    "    from statsmodels.graphics.tsaplots import plot_acf\n",
    "    from scipy.stats import linregress as LR\n",
    "    from scipy.stats import skew, kurtosis, skewtest, kurtosistest\n",
    "\n",
    "    # Funciones propias\n",
    "    from utils_limpieza import * \n",
    "    \n",
    "    ventas_sub11 = pd.read_csv('../data/interim/tp2_ventas_sub11.csv')\n",
    "\n",
    "ventas_sub11['Fecha'] = ventas_sub11['Fecha'].astype('datetime64[ns]')\n",
    "ventas_sub11"
   ]
  },
  {
   "cell_type": "markdown",
   "metadata": {},
   "source": [
    "## Agregado\n",
    "Para cada combinación posible de `Subrubro`, `ID` y `Fecha`, vamos a:\n",
    "* Sumar todos los valores de `Ventas`.\n",
    "* Sumar todos los valores de `Comision`.\n",
    "* Mantener los valores de `Modelo` y de `Omega`.\n",
    "\n",
    "Al hacer esto, se agregan en una única fila todas las observaciones que pertenezcan a un mismo vendedor en una dada fecha bajo un cierto subrubro, más allá del depósito desde el que se realiza la venta."
   ]
  },
  {
   "cell_type": "code",
   "execution_count": null,
   "metadata": {},
   "outputs": [],
   "source": [
    "agregado = ventas_sub11.groupby(['Subrubro', 'ID', 'Fecha']).agg({\n",
    "    'Omega': 'min',\n",
    "    'Ventas': 'sum',\n",
    "    'Comision': 'sum',\n",
    "    'Modelo': 'min'\n",
    "}).reset_index()\n",
    "agregado"
   ]
  },
  {
   "cell_type": "markdown",
   "metadata": {},
   "source": [
    "## Vendedores siempre nulos\n",
    "Existe la posibilidad de que algunos vendedores tengan siempre ventas nulas dentro de un mismo subrubro. Como no aportan información, nos deshacemos de estos registros. En efecto había 34650 registros que cumplían esta condición."
   ]
  },
  {
   "cell_type": "code",
   "execution_count": null,
   "metadata": {},
   "outputs": [],
   "source": [
    "agregado_no_nulo = agregado.groupby(['Subrubro', 'ID']).filter(lambda x: (x['Ventas'] != 0).any()).copy()\n",
    "agregado_no_nulo"
   ]
  },
  {
   "cell_type": "markdown",
   "metadata": {},
   "source": [
    "## 42 registros por caso"
   ]
  },
  {
   "cell_type": "markdown",
   "metadata": {},
   "source": [
    "Deberíamos tener 42 observaciones por par ID/Subrubro, pero se ve al comienzo del dataframe anterior que falta, por ejemplo, el 5 del 2020 al vendedor 5 en \"Com Varios\". Esto pasa en varios casos: a veces hay meses faltantes. Debemos imputar esos meses con valor 0 en ventas y comisión (esto es particularmente importante si luego vamos a hacer diferencias, por ej. para que no se encuentre con un vacío o que me opere contra un mes que en realidad no es el anterior)."
   ]
  },
  {
   "cell_type": "code",
   "execution_count": null,
   "metadata": {},
   "outputs": [],
   "source": [
    "promedio_observaciones = agregado_no_nulo.groupby(['Subrubro', 'ID']).size().mean()\n",
    "\n",
    "# Mostrar el promedio de observaciones por combinación de ID y Subrubro\n",
    "print(promedio_observaciones)"
   ]
  },
  {
   "cell_type": "markdown",
   "metadata": {},
   "source": [
    "Antes de proceder a rellenar los casos vacíos con valores cero, vamos a crear una variable que nos permita en el fututo distinguir los valores originales de los imputados."
   ]
  },
  {
   "cell_type": "code",
   "execution_count": null,
   "metadata": {},
   "outputs": [],
   "source": [
    "agregado_no_nulo['Dato_original'] = 1"
   ]
  },
  {
   "cell_type": "code",
   "execution_count": null,
   "metadata": {},
   "outputs": [],
   "source": [
    "# Contar las observaciones por combinación de ID y Subrubro\n",
    "conteo_combinaciones = agregado_no_nulo.groupby(['Subrubro', 'ID']).size().reset_index(name='Conteo')\n",
    "\n",
    "# Filtrar las combinaciones con menos de 42 observaciones\n",
    "combinaciones_faltantes = conteo_combinaciones[conteo_combinaciones['Conteo'] < 42]\n",
    "\n",
    "# Lista para almacenar las observaciones faltantes\n",
    "observaciones_faltantes = []\n",
    "\n",
    "# Iterar sobre las combinaciones faltantes\n",
    "for _, combinacion in combinaciones_faltantes.iterrows():\n",
    "    id_val = combinacion['ID']\n",
    "    subrubro_val = combinacion['Subrubro']\n",
    "    \n",
    "    # Obtener fechas existentes y fechas faltantes\n",
    "    fechas_existentes = agregado_no_nulo[(agregado_no_nulo['ID'] == id_val) & (agregado_no_nulo['Subrubro'] == subrubro_val)]['Fecha']\n",
    "    fechas_faltantes = set(agregado_no_nulo['Fecha'].unique()) - set(fechas_existentes)\n",
    "    \n",
    "    # Agregar observaciones faltantes al DataFrame\n",
    "    for fecha_faltante in fechas_faltantes:\n",
    "        observacion = {\n",
    "            'ID': id_val,\n",
    "            'Subrubro': subrubro_val,\n",
    "            'Fecha': fecha_faltante,\n",
    "            'Ventas': 0,\n",
    "            'Comision': 0,\n",
    "        }\n",
    "        observaciones_faltantes.append(observacion)\n",
    "\n",
    "# Crear DataFrame con las observaciones faltantes\n",
    "df_observaciones_faltantes = pd.DataFrame(observaciones_faltantes)\n",
    "\n",
    "# Agregar observaciones faltantes al DataFrame agregado_no_nulo\n",
    "agregado_limpio = pd.concat([agregado_no_nulo, df_observaciones_faltantes], ignore_index=True)\n",
    "\n",
    "# Mostrar el nuevo DataFrame con las observaciones faltantes agregadas\n",
    "agregado_limpio"
   ]
  },
  {
   "cell_type": "code",
   "execution_count": null,
   "metadata": {},
   "outputs": [],
   "source": [
    "# Imputo los valores Omega y Modelo asociados a los nuevos meses adicionados. Es más eficiente agregarlo en una celda aparte y no en el for (antes demoraba 9 minutos, ahora 1).\n",
    "agregado_limpio['Omega'] = agregado_limpio.groupby(['ID', 'Subrubro'])['Omega'].transform('max')\n",
    "agregado_limpio['Modelo'] = agregado_limpio.groupby(['ID', 'Subrubro'])['Modelo'].transform('max')\n",
    "\n",
    "# Relleno los valores nulos de Dato_original con 0.\n",
    "agregado_limpio['Dato_original'] = agregado_limpio['Dato_original'].fillna(0)\n",
    "\n",
    "agregado_limpio"
   ]
  },
  {
   "cell_type": "code",
   "execution_count": null,
   "metadata": {},
   "outputs": [],
   "source": [
    "agregado_limpio.dtypes"
   ]
  },
  {
   "cell_type": "code",
   "execution_count": null,
   "metadata": {},
   "outputs": [],
   "source": [
    "# Convertir las columnas 'Omega', 'Modelo' y 'Dato_original' a tipo int64\n",
    "agregado_limpio['Omega'] = agregado_limpio['Omega'].astype('int64')\n",
    "agregado_limpio['Modelo'] = agregado_limpio['Modelo'].astype('int64')\n",
    "agregado_limpio['Dato_original'] = agregado_limpio['Dato_original'].astype('int64')"
   ]
  },
  {
   "cell_type": "code",
   "execution_count": null,
   "metadata": {},
   "outputs": [],
   "source": [
    "agregado_limpio"
   ]
  },
  {
   "cell_type": "code",
   "execution_count": null,
   "metadata": {},
   "outputs": [],
   "source": [
    "promedio_observaciones = agregado_limpio.groupby(['Subrubro', 'ID']).size().mean()\n",
    "\n",
    "# Mostrar el promedio de observaciones por combinación de ID y Subrubro\n",
    "print(promedio_observaciones)"
   ]
  },
  {
   "cell_type": "code",
   "execution_count": null,
   "metadata": {},
   "outputs": [],
   "source": [
    "registros_vendedores_abs = agregado_limpio.sort_values(['Fecha', 'Subrubro', 'ID']) # Dejar que primero esté Fecha. Sirve para el pivoteo de la próxima sección.\n",
    "registros_vendedores_abs.to_csv('../data/interim/tp2_registros_vendedores_abs.csv', index=False)"
   ]
  },
  {
   "cell_type": "markdown",
   "metadata": {},
   "source": [
    "## Incrementos: valores relativos"
   ]
  },
  {
   "cell_type": "code",
   "execution_count": null,
   "metadata": {},
   "outputs": [],
   "source": [
    "# Para que las funciones se actualicen sin tener que refrescar el kernel\n",
    "%load_ext autoreload\n",
    "%autoreload 2\n",
    "\n",
    "import pandas as pd\n",
    "import json\n",
    "from os.path import exists\n",
    "import missingno as msno\n",
    "import matplotlib.pyplot as plt\n",
    "import numpy as np\n",
    "import seaborn as sns\n",
    "from statsmodels.graphics.tsaplots import plot_acf\n",
    "from scipy.stats import linregress as LR\n",
    "from scipy.stats import skew, kurtosis, skewtest, kurtosistest\n",
    "\n",
    "# Funciones propias\n",
    "from utils_limpieza import * \n",
    "\n",
    "registros_vendedores_abs = pd.read_csv('../data/interim/tp2_registros_vendedores_abs.csv')\n",
    "registros_vendedores_abs['Fecha'] = registros_vendedores_abs['Fecha'].astype('datetime64[ns]')\n",
    "registros_vendedores_rel = registros_vendedores_abs.copy()"
   ]
  },
  {
   "cell_type": "code",
   "execution_count": null,
   "metadata": {},
   "outputs": [],
   "source": [
    "crear_diferencia_porcentual(registros_vendedores_rel, 'Ventas', 12)\n",
    "crear_diferencia_porcentual(registros_vendedores_rel, 'Comision', 12)\n",
    "crear_diferencia_porcentual(registros_vendedores_rel, 'Ventas', 4)\n",
    "crear_diferencia_porcentual(registros_vendedores_rel, 'Comision', 4)\n",
    "registros_vendedores_rel[(registros_vendedores_rel['ID'] == 5) & (registros_vendedores_rel['Subrubro'] == 'Com. Varios')]"
   ]
  },
  {
   "cell_type": "code",
   "execution_count": null,
   "metadata": {},
   "outputs": [],
   "source": [
    "pivotear = registros_vendedores_rel.copy()"
   ]
  },
  {
   "cell_type": "code",
   "execution_count": null,
   "metadata": {},
   "outputs": [],
   "source": [
    "# Extraer el mes y el año de la columna \"Fecha\"\n",
    "pivotear[\"Fecha\"] = pd.to_datetime(pivotear[\"Fecha\"])\n",
    "pivotear[\"Month\"] = pivotear[\"Fecha\"].dt.month\n",
    "pivotear[\"Year\"] = pivotear[\"Fecha\"].dt.year\n",
    "\n",
    "# Convertir \"Month\" a string con formato de dos cifras\n",
    "pivotear[\"Month\"] = pivotear[\"Month\"].apply(lambda x: str(x).zfill(2))\n",
    "\n",
    "# Convertir \"Year\" a string y quedarse con los últimos 2 dígitos\n",
    "pivotear[\"Year\"] = pivotear[\"Year\"].apply(lambda x: str(x)[-2:])\n",
    "\n",
    "# Crear la variable \"Fecha2\" que concatena \"Year\" y \"Month\"\n",
    "pivotear[\"Fecha2\"] = pivotear[\"Year\"] + pivotear[\"Month\"]\n",
    "\n",
    "# Eliminar columnas\n",
    "pivotear.drop(columns=['Fecha','Ventas','Comision','Dato_original','Month','Year'], inplace=True)\n",
    "\n",
    "# Renombrar la columna \"Fecha2\" a \"Fecha\"\n",
    "pivotear.rename(columns={'Fecha2': 'Fecha', 'Y_pct_Ventas': 'Y_pct_Ven', 'Y_pct_Comision': 'Y_pct_Com', 'F_pct_Ventas': 'F_pct_Ven', 'F_pct_Comision': 'F_pct_Com'}, inplace=True)\n",
    "\n",
    "pivotear"
   ]
  },
  {
   "cell_type": "code",
   "execution_count": null,
   "metadata": {},
   "outputs": [],
   "source": [
    "# Realizar el pivoteo y la agrupación\n",
    "pivot_df = pivotear.pivot_table(index=[\"ID\",'Subrubro','Omega','Modelo'], columns=['Fecha'], values=['Y_pct_Ven', 'Y_pct_Com', 'F_pct_Ven', 'F_pct_Com'])\n",
    "\n",
    "# Generar los nombres de las columnas finales\n",
    "columns = [f\"{col[0]}_{col[1]}\" for col in pivot_df.columns]\n",
    "\n",
    "# Asignar los nuevos nombres de columnas\n",
    "pivot_df.columns = columns\n",
    "\n",
    "# Restablecer el índice para que \"ID\" vuelva a ser una columna\n",
    "pivot_df = pivot_df.reset_index()"
   ]
  },
  {
   "cell_type": "code",
   "execution_count": null,
   "metadata": {},
   "outputs": [],
   "source": [
    "pivot_df"
   ]
  },
  {
   "cell_type": "code",
   "execution_count": null,
   "metadata": {},
   "outputs": [],
   "source": [
    "pivot_df.to_csv('../data/interim/tp2_vendedores_vector.csv', index=False)"
   ]
  }
 ],
 "metadata": {
  "kernelspec": {
   "display_name": "diplodatos",
   "language": "python",
   "name": "python3"
  },
  "language_info": {
   "codemirror_mode": {
    "name": "ipython",
    "version": 3
   },
   "file_extension": ".py",
   "mimetype": "text/x-python",
   "name": "python",
   "nbconvert_exporter": "python",
   "pygments_lexer": "ipython3",
   "version": "3.11.4"
  },
  "orig_nbformat": 4
 },
 "nbformat": 4,
 "nbformat_minor": 2
}
