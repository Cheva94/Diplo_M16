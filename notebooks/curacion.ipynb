{
 "cells": [
  {
   "cell_type": "code",
   "execution_count": 9,
   "metadata": {},
   "outputs": [
    {
     "name": "stdout",
     "output_type": "stream",
     "text": [
      "The autoreload extension is already loaded. To reload it, use:\n",
      "  %reload_ext autoreload\n"
     ]
    }
   ],
   "source": [
    "# Para que las funciones se actualicen sin tener que refrescar el kernel\n",
    "%load_ext autoreload\n",
    "%autoreload 2\n",
    "\n",
    "import pandas as pd\n",
    "import json\n",
    "from os.path import exists\n",
    "import missingno as msno\n",
    "import matplotlib.pyplot as plt\n",
    "import numpy as np\n",
    "import seaborn as sns\n",
    "from statsmodels.graphics.tsaplots import plot_acf\n",
    "from scipy.stats import linregress as LR\n",
    "from scipy.stats import skew, kurtosis, skewtest, kurtosistest\n",
    "\n",
    "# Funciones propias\n",
    "from utils_limpieza import * "
   ]
  },
  {
   "cell_type": "code",
   "execution_count": null,
   "metadata": {},
   "outputs": [],
   "source": [
    "# Cargar datos\n",
    "path = '../data/raw/tp2_muestra_diplodatos_ventas_omega_modelo_2023.csv'\n",
    "ventas = pd.read_csv(path)\n"
   ]
  },
  {
   "attachments": {},
   "cell_type": "markdown",
   "metadata": {},
   "source": [
    "## Hacemos la limpieza sugerida al principio del TP2\n",
    "- [x] Eliminar las variables en `cols_dropear` (Paso 1).\n",
    "- [x] Renombrar a 'Otros' las subcategorías que no tengan `MODELO` (Paso 2).\n",
    "- [x] Se eliminan los registros en 'Otros'. Previamente se almacenan en un dataset aparte."
   ]
  },
  {
   "cell_type": "code",
   "execution_count": null,
   "metadata": {},
   "outputs": [],
   "source": [
    "print(f'El df original tiene {ventas.shape[0]} registros y {ventas.shape[1]} variables.\\n')\n",
    "\n",
    "# Paso 1\n",
    "cols_dropear = ['INSCRIPCION', 'CATEGORIA', 'DESCRIPCION_CATEGORIA', 'CATEGORIA (Ajustado)', 'NOMBRE']\n",
    "ventas_renamed = limpiar_basic(ventas, cols_drop=cols_dropear)\n",
    "print(f'Luego del paso 1 se tiran {len(cols_dropear)} variables, quedando {ventas_renamed.shape[1]} variables.\\n')\n",
    "\n",
    "# Paso 2\n",
    "# ventas_renamed['SUB-CATEGORIA'].nunique() # antes del paso 2\n",
    "ventas_renamed = renombrar_elementos(ventas_renamed, \n",
    "                                     columna='SUB-CATEGORIA', \n",
    "                                     fill_otros='Otros')\n",
    "\n",
    "scu_vr = ventas_renamed['SUB-CATEGORIA'].nunique()\n",
    "scu_ot = ventas_renamed['SUB-CATEGORIA'].nunique() - scu_vr + 1\n",
    "print(f'Luego del paso 2 quedan {scu_vr} subcategorías únicas.')\n",
    "print(f'Las {scu_ot} subcategorías únicas que no tenían ningún vendedor modelo fueron agrupadas en \"Otros\".')\n",
    "print(f'Las {scu_vr-1} subcategorías que sí tienen vendedores modelo son:')\n",
    "\n",
    "ventas_renamed.groupby(by=['SUB-CATEGORIA'])['MODELO'].sum().sort_values(ascending=False)[:12]"
   ]
  },
  {
   "cell_type": "code",
   "execution_count": null,
   "metadata": {},
   "outputs": [],
   "source": [
    "#Eliminación de registros en \"Otros\" y almacenamiento en un dataset aparte\n",
    "\n",
    "ventas_otros = ventas_renamed[ventas_renamed['SUB-CATEGORIA'] == 'Otros'].copy()\n",
    "ventas_otros.to_csv('../data/interim/tp2_ventas_otros.csv')\n",
    "\n",
    "ventas_renamed = ventas_renamed[ventas_renamed['SUB-CATEGORIA'] != 'Otros'].copy()"
   ]
  },
  {
   "attachments": {},
   "cell_type": "markdown",
   "metadata": {},
   "source": [
    "## Análisis de datos faltantes\n",
    "- [x] Chequear presencia de datos faltantes\n",
    "- [x] Analizar su correlación\n",
    "- [x] Imputar de valores faltantes: `CM` y `Trat_Dif` con 'No'."
   ]
  },
  {
   "attachments": {},
   "cell_type": "markdown",
   "metadata": {},
   "source": [
    "Faltan datos en las mismas variables que antes. Imputo los complementos en `CM` y `Trat_Dif` para dejarlas listas. Luego de eso, se cumple lo que ya habíamos visto en el tp1."
   ]
  },
  {
   "cell_type": "code",
   "execution_count": null,
   "metadata": {},
   "outputs": [],
   "source": [
    "ventas_renamed.columns"
   ]
  },
  {
   "cell_type": "code",
   "execution_count": null,
   "metadata": {},
   "outputs": [],
   "source": [
    "msno.bar(ventas_renamed.sort_values('ID_VENDEDOR'), sort=\"ascending\", fontsize=12, color=\"tab:green\", figsize=(6, 5))\n",
    "msno.matrix(ventas_renamed.sort_values('ID_VENDEDOR'), fontsize=12, color=[0.5,0,0], figsize=(6, 5))\n",
    "msno.heatmap(ventas_renamed.sort_values('ID_VENDEDOR'), fontsize=12, figsize=(6, 5))\n",
    "\n",
    "plt.show()"
   ]
  },
  {
   "cell_type": "code",
   "execution_count": null,
   "metadata": {},
   "outputs": [],
   "source": [
    "ventas_renamed['CM04'] = ventas_renamed['CM04'].fillna('No')\n",
    "ventas_renamed['TRATAMIENTO_DIFERNCIAL'] = ventas_renamed['TRATAMIENTO_DIFERNCIAL'].fillna('No')"
   ]
  },
  {
   "cell_type": "code",
   "execution_count": null,
   "metadata": {},
   "outputs": [],
   "source": [
    "msno.bar(ventas_renamed.sort_values('ID_VENDEDOR'), sort=\"ascending\", fontsize=12, color=\"tab:green\", figsize=(6, 5))\n",
    "msno.matrix(ventas_renamed.sort_values('ID_VENDEDOR'), fontsize=12, color=[0.5,0,0], figsize=(6, 5))\n",
    "msno.heatmap(ventas_renamed.sort_values('ID_VENDEDOR'), fontsize=12, figsize=(6, 5))\n",
    "\n",
    "plt.show()"
   ]
  },
  {
   "attachments": {},
   "cell_type": "markdown",
   "metadata": {},
   "source": [
    "## Anonimizado + simplificación de variables y valores\n",
    "- [x] Simplificamos el nombre de las variables.\n",
    "- [x] Anonimizamos la variable sensible `ID` (Paso 3).\n",
    "- [x] Simplificamos (podría decir acá también que anonimizamos?) valores en `Deposito`\n",
    "- [x] Unificación y simplificación de categorías de `Trat_Fisc`.\n",
    "- [x] Simplificación de categorías de `Trat_Fisc_Agg` y `Trat_Dif`.\n",
    "- [x] Simplificación de categorías en `Categoria`.\n",
    "- [x] Guardamos todos estos diccionarios.\n",
    "- [x] CM: de Si/No a 1/0."
   ]
  },
  {
   "cell_type": "code",
   "execution_count": null,
   "metadata": {},
   "outputs": [],
   "source": [
    "# Se modifican los nombres de las columnas\n",
    "\n",
    "# Renombramos\n",
    "with open(\"../references/tp2_column_dict.json\") as column_dict_json:\n",
    "    column_dict = json.load(column_dict_json)\n",
    "\n",
    "ventas_renamed.rename(columns = column_dict, inplace = True)\n",
    "ventas_renamed.columns"
   ]
  },
  {
   "cell_type": "code",
   "execution_count": null,
   "metadata": {},
   "outputs": [],
   "source": [
    "# Anonimizamos y guardamos el diccionario para no perder esta info\n",
    "ventas_hash, dict_id = anonimizar(ventas_renamed, 'ID')\n",
    "\n",
    "with open(\"../references/tp2_ID_dict.json\", \"w\") as fp:\n",
    "    json.dump(dict_id, fp)\n",
    "\n",
    "print('¡Diccionario generado!')"
   ]
  },
  {
   "cell_type": "code",
   "execution_count": null,
   "metadata": {},
   "outputs": [],
   "source": [
    "# Mapeo de `Deposito` a enteros\n",
    "ventas_hash, dict_dep = anonimizar(ventas_hash, 'Deposito')\n",
    "\n",
    "with open(\"../references/tp2_deposito_dict.json\", \"w\") as fp:\n",
    "    json.dump(dict_dep, fp)\n",
    "\n",
    "print('¡Diccionario generado!')"
   ]
  },
  {
   "cell_type": "code",
   "execution_count": null,
   "metadata": {},
   "outputs": [],
   "source": [
    "# Mapeo de `CM` según \"Si\" >> 1 y \"No\" >> 0.\n",
    "ventas_hash['CM'] = ventas_hash['CM'].replace({'No': 0, 'Si': 1})"
   ]
  },
  {
   "cell_type": "code",
   "execution_count": null,
   "metadata": {},
   "outputs": [],
   "source": [
    "# Unificacón y simplificación de categorías de `Trat_Fisc`\n",
    "with open(\"../references/tp1_trat_fisc_dict.json\") as trat_fisc_dict_json:\n",
    "    trat_fisc_dict = json.load(trat_fisc_dict_json)\n",
    "    \n",
    "ventas_hash['Trat_Fisc'] = ventas_hash['Trat_Fisc'].astype(str)\n",
    "ventas_hash['Trat_Fisc'] = ventas_hash['Trat_Fisc'].replace(trat_fisc_dict)"
   ]
  },
  {
   "cell_type": "code",
   "execution_count": null,
   "metadata": {},
   "outputs": [],
   "source": [
    "# Simplificación de categorías de `Trat_Fisc_Agg`\n",
    "with open(\"../references/tp1_trat_fisc_agg_dict.json\") as trat_fisc_agg_dict_json:\n",
    "    trat_fisc_agg_dict = json.load(trat_fisc_agg_dict_json)\n",
    "\n",
    "ventas_hash['Trat_Fisc_Agg'] = ventas_hash['Trat_Fisc_Agg'].replace(trat_fisc_agg_dict)"
   ]
  },
  {
   "cell_type": "code",
   "execution_count": null,
   "metadata": {},
   "outputs": [],
   "source": [
    "# Simplificación de categorías de `Trat_Dif`\n",
    "with open(\"../references/tp1_trat_diff_dict.json\") as trat_dif_dict_json:\n",
    "    trat_dif_dict = json.load(trat_dif_dict_json)\n",
    "\n",
    "ventas_hash['Trat_Dif'] = ventas_hash['Trat_Dif'].replace(trat_dif_dict)"
   ]
  },
  {
   "cell_type": "code",
   "execution_count": null,
   "metadata": {},
   "outputs": [],
   "source": [
    "# Simplificación de categorías de `Subrubro`\n",
    "with open(\"../references/tp2_subrubro_dict.json\") as subrubro_dict_json:\n",
    "    subrubro_dict = json.load(subrubro_dict_json)\n",
    "\n",
    "ventas_hash['Subrubro'] = ventas_hash['Subrubro'].replace(subrubro_dict)"
   ]
  },
  {
   "cell_type": "code",
   "execution_count": null,
   "metadata": {},
   "outputs": [],
   "source": [
    "ventas_hash['Subrubro'].unique()"
   ]
  },
  {
   "cell_type": "code",
   "execution_count": null,
   "metadata": {},
   "outputs": [],
   "source": [
    "# Guardo todo lo hecho hasta acá, para no tener que correr todo\n",
    "ventas_hash.to_csv('../data/interim/tp2_ventas_hash.csv', index=False)"
   ]
  },
  {
   "attachments": {},
   "cell_type": "markdown",
   "metadata": {},
   "source": [
    "## Variable fecha (Paso 6).\n",
    "Creamos la variable `Fecha`, que surge como:\n",
    "    $$Fecha = Año + Mes$$\n",
    "\n",
    "Luego vamos a optar por droppear `Mes` y `Año`. Aunque para el análisis temporal habrá momentos en que necesitamos tener `Año` y `Mes` por separado, son fácilmente recuperables a través de `Fecha`."
   ]
  },
  {
   "cell_type": "code",
   "execution_count": null,
   "metadata": {},
   "outputs": [],
   "source": [
    "ventas_hash[\"FECHA\"] = pd.to_datetime(ventas_hash['Mes'].astype(str) + '-' + ventas_hash['Año'].astype(str), format='%m-%Y')\n",
    "cols_dropear = ['Mes', 'Año']\n",
    "ventas_hash = limpiar_basic(ventas_hash, cols_drop=cols_dropear)\n",
    "\n",
    "ventas_hash[:3]"
   ]
  },
  {
   "attachments": {},
   "cell_type": "markdown",
   "metadata": {},
   "source": [
    "## Eliminación efecto inflación\n",
    "Las variables expresadas en pesos aumentan mes a mes por efecto de la inflación. Lo que impide comparar un valor monetario de un mes contra el del mes siguiente. A fin de eliminar este efecto, una alternativa es reexpresar los valores monetarios respecto a un mes base. Por ejemplo, el último mes de la serie."
   ]
  },
  {
   "cell_type": "code",
   "execution_count": null,
   "metadata": {},
   "outputs": [],
   "source": [
    "ventas_ipc = ventas_hash.copy()"
   ]
  },
  {
   "cell_type": "code",
   "execution_count": null,
   "metadata": {},
   "outputs": [],
   "source": [
    "# Obtener el último mes\n",
    "fecha = ventas_ipc['FECHA'].max()\n",
    "print(f\"El último mes de la serie es el {fecha.month} de {fecha.year}\")"
   ]
  },
  {
   "attachments": {},
   "cell_type": "markdown",
   "metadata": {},
   "source": [
    "El procedimiento es el siguiente:\n",
    "    $$\\text{VAR}_{mm-aaaa} \\frac{\\text{IPC}_{06-2022}}{\\text{IPC}_{mm-aaaa}}$$\n",
    "\n",
    "Para todo valor de cada variable (VAR) correspondiente a cierto mes \"mm-aaaa\" se lo divide por el Índice de Precios al Consumidor (IPC) correspondiente a ese mes \"mm-aaaa\" y luego se lo multiplica por el IPC correspondiente al mes \"06-2022\".\n",
    "\n",
    "De esta forma, todos los valores de cada variable VAR van a quedar expresados en unidades monetarias del \"06-2022\".\n",
    "\n"
   ]
  },
  {
   "attachments": {},
   "cell_type": "markdown",
   "metadata": {},
   "source": [
    "Es necesario obtener de manera externa una serie del IPC que publica Indec."
   ]
  },
  {
   "cell_type": "code",
   "execution_count": null,
   "metadata": {},
   "outputs": [],
   "source": [
    "precios_path = \"../data/external/tp2_IPC_Indec.csv\"\n",
    "\n",
    "if exists(precios_path):\n",
    "    print('Este archivo ya existe.')\n",
    "else:\n",
    "    print('Este archivo no existe: ¡Vamos a crearlo!')\n",
    "    url = \"https://www.indec.gob.ar/ftp/cuadros/economia/sh_ipc_06_23.xls\"\n",
    "    df = pd.read_excel(url, sheet_name=\"Índices IPC Cobertura Nacional\", header=None, usecols=\"B:CA\", skiprows=[0, 1, 2, 3, 4, 6, 7, 8], nrows=2)\n",
    "    df = df.transpose()\n",
    "    df.columns = [\"FECHA\", \"INDICE\"]\n",
    "    df[\"FECHA\"] = pd.to_datetime(df[\"FECHA\"])\n",
    "    df.to_csv(precios_path, index=False)"
   ]
  },
  {
   "cell_type": "code",
   "execution_count": null,
   "metadata": {},
   "outputs": [],
   "source": [
    "type(precios)"
   ]
  },
  {
   "cell_type": "code",
   "execution_count": null,
   "metadata": {},
   "outputs": [],
   "source": [
    "# Abrir dataset de precios\n",
    "precios = pd.read_csv(precios_path)\n",
    "precios.head()"
   ]
  },
  {
   "attachments": {},
   "cell_type": "markdown",
   "metadata": {},
   "source": [
    "Luego debemos unir ambas bases de datos (ventas y precios), de acuerdo a la variable clave `FECHA`"
   ]
  },
  {
   "cell_type": "code",
   "execution_count": null,
   "metadata": {},
   "outputs": [],
   "source": [
    "print(ventas_ipc[\"FECHA\"].dtype)\n",
    "print(precios[\"FECHA\"].dtype)"
   ]
  },
  {
   "cell_type": "code",
   "execution_count": null,
   "metadata": {},
   "outputs": [],
   "source": [
    "# Hay que asegurar que la variable clave tenga el mismo tipo en los dos dataframes\n",
    "precios[\"FECHA\"] = pd.to_datetime(precios[\"FECHA\"])"
   ]
  },
  {
   "cell_type": "code",
   "execution_count": null,
   "metadata": {},
   "outputs": [],
   "source": [
    "print(ventas_ipc[\"FECHA\"].dtype)\n",
    "print(precios[\"FECHA\"].dtype)"
   ]
  },
  {
   "cell_type": "code",
   "execution_count": null,
   "metadata": {},
   "outputs": [],
   "source": [
    "ventas_ipc = ventas_ipc.merge(precios[[\"FECHA\", \"INDICE\"]], on=\"FECHA\", how=\"left\")\n",
    "ventas_ipc.head(3)"
   ]
  },
  {
   "attachments": {},
   "cell_type": "markdown",
   "metadata": {},
   "source": [
    "La series que están expresadas en pesos son las siguientes: \n",
    "   * `Ventas`\n",
    "   * `Comision`"
   ]
  },
  {
   "cell_type": "code",
   "execution_count": null,
   "metadata": {},
   "outputs": [],
   "source": [
    "ventas_ipc.head()"
   ]
  },
  {
   "cell_type": "code",
   "execution_count": null,
   "metadata": {},
   "outputs": [],
   "source": [
    "# Aplico la función para indexar valores respecto al último mes de la serie\n",
    "indexar(ventas_ipc, 'Ventas')"
   ]
  },
  {
   "cell_type": "code",
   "execution_count": null,
   "metadata": {},
   "outputs": [],
   "source": [
    "indexar(ventas_ipc, 'Comision')"
   ]
  },
  {
   "attachments": {},
   "cell_type": "markdown",
   "metadata": {},
   "source": [
    "Vemos gráficamente el efecto de la operación (por simplicidad se grafican mensualmente las series de tiempo agregando los valores por suma)."
   ]
  },
  {
   "attachments": {},
   "cell_type": "markdown",
   "metadata": {},
   "source": [
    "En las variantes llamadas \"Reales\", se observa una pendiente más moderada. El efecto de la inflación ha sido \"descartado\". De aquí en adelante, a la hora de hablar de los valores de estas variables, la interpretación correcta será \"$ XX.XXX a precios de junio de 2022\""
   ]
  },
  {
   "cell_type": "code",
   "execution_count": null,
   "metadata": {},
   "outputs": [],
   "source": [
    "ventas_ipc.head(3)"
   ]
  },
  {
   "cell_type": "code",
   "execution_count": null,
   "metadata": {},
   "outputs": [],
   "source": [
    "# # Se descartan las variables que no se usan\n",
    "ventas_ipc = limpiar_basic(ventas_ipc, cols_drop=['Ventas', 'Comision', 'INDICE'])\n",
    "\n",
    "# Se renombran las variables\n",
    "ventas_ipc.rename(columns = {'FECHA': 'Fecha', 'Ventas_Real': 'Ventas', \n",
    "                              'Comision_Real': 'Comision'}, inplace = True)\n",
    "\n",
    "# Se reacomodan las columnas\n",
    "ventas_ipc = ventas_ipc[['ID', 'Omega', 'Subrubro', 'Trat_Fisc_Agg', \n",
    "                          'Trat_Fisc', 'Trat_Dif', 'CM', 'Fecha', 'Deposito', \n",
    "                          'Ventas', 'Alicuota', 'Comision', 'Modelo']]\n",
    "\n",
    "ventas_ipc = ventas_ipc.sort_values(['Fecha', 'Ventas']).reset_index(drop=True)"
   ]
  },
  {
   "cell_type": "code",
   "execution_count": null,
   "metadata": {},
   "outputs": [],
   "source": [
    "ventas_ipc"
   ]
  },
  {
   "cell_type": "code",
   "execution_count": null,
   "metadata": {},
   "outputs": [],
   "source": [
    "# Guardo todo lo hecho hasta acá, para no tener que correr todo\n",
    "ventas_ipc.to_csv('../data/interim/tp2_ventas_ipc.csv', index=False)"
   ]
  },
  {
   "attachments": {},
   "cell_type": "markdown",
   "metadata": {},
   "source": [
    "---\n",
    "# Análisis de variables numéricas (sin considerar series temporales)"
   ]
  },
  {
   "attachments": {},
   "cell_type": "markdown",
   "metadata": {},
   "source": [
    "### Estadística descriptiva"
   ]
  },
  {
   "cell_type": "code",
   "execution_count": null,
   "metadata": {},
   "outputs": [],
   "source": [
    "if 'ventas_ipc' not in locals():\n",
    "    # Para que las funciones se actualicen si tener que refrescar el kernel\n",
    "    %load_ext autoreload\n",
    "    %autoreload 2\n",
    "\n",
    "    import pandas as pd\n",
    "    import json\n",
    "    from os.path import exists\n",
    "    import missingno as msno\n",
    "    import matplotlib.pyplot as plt\n",
    "    import numpy as np\n",
    "    import seaborn as sns\n",
    "    from statsmodels.graphics.tsaplots import plot_acf\n",
    "    from scipy.stats import linregress as LR\n",
    "    from scipy.stats import skew, kurtosis, skewtest, kurtosistest\n",
    "\n",
    "    # Funciones propias\n",
    "    from utils_limpieza import * \n",
    "    \n",
    "    ventas_ipc = pd.read_csv('../data/interim/tp2_ventas_ipc.csv')"
   ]
  },
  {
   "cell_type": "code",
   "execution_count": null,
   "metadata": {},
   "outputs": [],
   "source": [
    "ventas_ipc.head()"
   ]
  },
  {
   "cell_type": "code",
   "execution_count": null,
   "metadata": {},
   "outputs": [],
   "source": [
    "# Discrimanción por tipo de variables\n",
    "#temp_cols = ['Año', 'Mes', 'Fecha', 'IPC'] #elimino IPC\n",
    "#ven_temp = ventas_ipc[temp_cols] \n",
    "\n",
    "cat_cols = ['ID', 'Omega', 'Subrubro', 'Trat_Fisc_Agg', 'Trat_Fisc', 'Trat_Dif',\n",
    "'CM', 'Deposito', 'Modelo']\n",
    "ven_cat = ventas_ipc[cat_cols]\n",
    "\n",
    "num_cols = ['Ventas', 'Alicuota', 'Comision']\n",
    "ven_num = ventas_ipc[num_cols]"
   ]
  },
  {
   "attachments": {},
   "cell_type": "markdown",
   "metadata": {},
   "source": [
    "- Vemos que en la variable `Alicuota` la dispersión de los datos está en el orden de la media, tomando valores desde 0% hasta 18%. Esto se ve reflejado en un z-Score que va desde -1 a 6 (igual al tp1).\n",
    "- Esta tendencia a tener la cola derecha más larga también se nota en las otras dos variables. Sin embargo, en estos dos últimos casos la dispersión de datos es enorme: la desviación estándar es igual y un orden mayor que la media y el extremo superior del z-Score está en 83 y 108 para `Ventas` y `Comision`, respectivamente. (mejoró respecto al tp1 gracias a la normalización por IPC)"
   ]
  },
  {
   "cell_type": "code",
   "execution_count": null,
   "metadata": {},
   "outputs": [],
   "source": [
    "ven_num.describe().T"
   ]
  },
  {
   "cell_type": "code",
   "execution_count": null,
   "metadata": {},
   "outputs": [],
   "source": [
    "print('z-Score de los extremos de la variables numéricas:') \n",
    "for col in num_cols:\n",
    "    zScore_min = (ven_num[col].min() - ven_num[col].mean()) / ven_num[col].std()\n",
    "    zScore_max = (ven_num[col].max() - ven_num[col].mean()) / ven_num[col].std()\n",
    "\n",
    "    print(f'\\t{col}:')\n",
    "    print(f'\\t\\t Mínimo: {zScore_min:.0f} \\t Máximo: {zScore_max:.0f}')"
   ]
  },
  {
   "attachments": {},
   "cell_type": "markdown",
   "metadata": {},
   "source": [
    "- Tanto `Ventas` como `Comision` tienen prácticamente un 42% de registros con valores nulos y un 0.32% de valores negativos, *i.e.* hay un 42-43% de registros con valores no positivos imputados. \n",
    "- Un valor nulo significa que o bien era realmente nulo o se encontraba entre -$100 y $1000 (en la variable original de ventas).\n",
    "- `Alicuota` no posee registros negativos, pero sí tiene un 0.63% de registros nulos."
   ]
  },
  {
   "cell_type": "code",
   "execution_count": null,
   "metadata": {},
   "outputs": [],
   "source": [
    "print('Proporción de valores negativos, nulos y positivos en las variables numéricas:') \n",
    "for col in num_cols:\n",
    "    print(f'\\t{col}')\n",
    "    ans = len(ven_num[col])\n",
    "    neg = len(ven_num[ven_num[col] < 0])\n",
    "    nul = len(ven_num[ven_num[col] == 0])\n",
    "\n",
    "    cant = [neg, nul, neg+nul, ans-neg-nul, ans]\n",
    "    prop = [f'{100*neg/ans:.2f}%', f'{100*nul/ans:.2f}%', f'{100*(nul+neg)/ans:.2f}%', f'{100*(ans-nul-neg)/ans:.2f}%', '100.00%']\n",
    "    desc = pd.DataFrame([cant, prop], columns=['Negativos', 'Nulos', 'No positivos', 'Positivos', 'Total'], index=['Cantidad', 'Proporcion'])\n",
    "    display(desc)\n"
   ]
  },
  {
   "cell_type": "code",
   "execution_count": null,
   "metadata": {},
   "outputs": [],
   "source": [
    "sns.pairplot(data=ven_num, diag_kind='kde', plot_kws = {'alpha': 0.3, 's': 10})\n",
    "plt.show()"
   ]
  },
  {
   "cell_type": "code",
   "execution_count": null,
   "metadata": {},
   "outputs": [],
   "source": [
    "# Cálculo y Visualización de la matriz de correlación entre las variables\n",
    "matrix = ven_num[['Ventas', 'Alicuota', 'Comision']].corr().round(2)\n",
    "sns.heatmap(matrix, annot=True)"
   ]
  },
  {
   "attachments": {},
   "cell_type": "markdown",
   "metadata": {},
   "source": [
    "### Discriminando por tipo de venta\n",
    "Dado el enorme peso de los valores nulos sobre el total de registros y la presencia de valores negativos, tanto en `Ventas` como en `Comision`, se decide dividir este DataFrame en tres:\n",
    "1. Filtrado por `Ventas` nulas (`ven_num_null`)\n",
    "2. Filtrado por `Ventas` negativas (`ven_num_neg`)\n",
    "2. Filtrado por `Ventas` positivas (`ven_num_pos`)"
   ]
  },
  {
   "attachments": {},
   "cell_type": "markdown",
   "metadata": {},
   "source": [
    "#### DataFrame con todas las ventas nulas"
   ]
  },
  {
   "attachments": {},
   "cell_type": "markdown",
   "metadata": {},
   "source": [
    "Al hacer esto, vemos que todos los valores de `Comision` en `ven_num_null` también son nulos, independientemente del valor de `Alicuota`, la cual sigue ocupando el rango de 0% a 18%."
   ]
  },
  {
   "cell_type": "code",
   "execution_count": null,
   "metadata": {},
   "outputs": [],
   "source": [
    "ven_num_null = ven_num[ven_num['Ventas'] == 0].copy()\n",
    "ven_num_null.describe().T"
   ]
  },
  {
   "cell_type": "code",
   "execution_count": null,
   "metadata": {},
   "outputs": [],
   "source": [
    "print('z-Score de los extremos de la variables numéricas:') \n",
    "for col in ['Alicuota']:\n",
    "    zScore_min = (ven_num_null[col].min() - ven_num_null[col].mean()) / ven_num_null[col].std()\n",
    "    zScore_max = (ven_num_null[col].max() - ven_num_null[col].mean()) / ven_num_null[col].std()\n",
    "\n",
    "    print(f'\\t{col}:')\n",
    "    print(f'\\t\\t Mínimo: {zScore_min:.0f} \\t Máximo: {zScore_max:.0f}')"
   ]
  },
  {
   "attachments": {},
   "cell_type": "markdown",
   "metadata": {},
   "source": [
    "#### DataFrame con todas las ventas negativas"
   ]
  },
  {
   "attachments": {},
   "cell_type": "markdown",
   "metadata": {},
   "source": [
    "- Hay 7 órdenes de magnitud de diferencia entre los valores mínimo y máximo de ventas y comisión.\n",
    "- Los datos son asimétricos hacia la izquierda, igual son menos asimétricos que el conjunto global\n",
    "- Hay casos donde la comisión es nula a pesar de que la venta no fue nula. ¿Esto podría estar asociado a las alícuotas nulas o a ciertos tratamientos fiscales o tema subrubro?"
   ]
  },
  {
   "cell_type": "code",
   "execution_count": null,
   "metadata": {},
   "outputs": [],
   "source": [
    "ven_num_neg = ven_num[ven_num['Ventas'] < 0].copy()\n",
    "ven_num_neg.describe().T"
   ]
  },
  {
   "cell_type": "code",
   "execution_count": null,
   "metadata": {},
   "outputs": [],
   "source": [
    "print('z-Score de los extremos de la variables numéricas:') \n",
    "for col in num_cols:\n",
    "    zScore_min = (ven_num_neg[col].min() - ven_num_neg[col].mean()) / ven_num_neg[col].std()\n",
    "    zScore_max = (ven_num_neg[col].max() - ven_num_neg[col].mean()) / ven_num_neg[col].std()\n",
    "\n",
    "    print(f'\\t{col}:')\n",
    "    print(f'\\t\\t Mínimo: {zScore_min:.0f} \\t Máximo: {zScore_max:.0f}')"
   ]
  },
  {
   "attachments": {},
   "cell_type": "markdown",
   "metadata": {},
   "source": [
    "* La mayoría de las ventas y comisiones están asociadas a alícuotas menores al 5% (con moda en 5%).\n",
    "* Se proyecta una relación lineal entre `Ventas` y `Comision`: hay una correlación de +0.66. Chequear relación de proporcionaldiad con `Alicuota`"
   ]
  },
  {
   "cell_type": "code",
   "execution_count": null,
   "metadata": {},
   "outputs": [],
   "source": [
    "sns.pairplot(data=ven_num_neg, diag_kind='kde', plot_kws = {'alpha': 0.3, 's': 10})\n",
    "plt.show()"
   ]
  },
  {
   "cell_type": "code",
   "execution_count": null,
   "metadata": {},
   "outputs": [],
   "source": [
    "# Cálculo y Visualización de la matriz de correlación entre las variables\n",
    "matrix = ven_num_neg[['Ventas', 'Alicuota', 'Comision']].corr().round(2)\n",
    "sns.heatmap(matrix, annot=True)"
   ]
  },
  {
   "attachments": {},
   "cell_type": "markdown",
   "metadata": {},
   "source": [
    "#### DataFrame con todas las ventas positivas"
   ]
  },
  {
   "attachments": {},
   "cell_type": "markdown",
   "metadata": {},
   "source": [
    "- Hay 5 y 9 órdenes de magnitud de diferencia entre los valores mínimo y máximo de comisión y ventas, respectivamente.\n",
    "- Los datos son asimétricos hacia la derecha, igual son menos asimétricos que el conjunto global.\n",
    "- Hay casos donde la comisión es nula a pesar de que la venta no fue nula. ¿Esto podría estar asociado a las alícuotas nulas o a ciertos tratamientos fiscales o tema subrubro?"
   ]
  },
  {
   "cell_type": "code",
   "execution_count": null,
   "metadata": {},
   "outputs": [],
   "source": [
    "ven_num_pos = ven_num[ven_num['Ventas'] > 0].copy()\n",
    "ven_num_pos.describe().T"
   ]
  },
  {
   "cell_type": "code",
   "execution_count": null,
   "metadata": {},
   "outputs": [],
   "source": [
    "print('z-Score de los extremos de la variables numéricas:') \n",
    "for col in num_cols:\n",
    "    zScore_min = (ven_num_pos[col].min() - ven_num_pos[col].mean()) / ven_num_pos[col].std()\n",
    "    zScore_max = (ven_num_pos[col].max() - ven_num_pos[col].mean()) / ven_num_pos[col].std()\n",
    "\n",
    "    print(f'\\t{col}:')\n",
    "    print(f'\\t\\t Mínimo: {zScore_min:.0f} \\t Máximo: {zScore_max:.0f}')"
   ]
  },
  {
   "attachments": {},
   "cell_type": "markdown",
   "metadata": {},
   "source": [
    "* La mayoría de las ventas y comisiones están asociadas a alícuotas menores al 5%.\n",
    "* Hay una distribución bimodal en torno al 0.0475% y el 5%\n",
    "* Se proyectan diferentes rectas entre `Ventas` y `Comision`: ¿existe una relación de proporcionaldiad con `Alicuota`?\n",
    "* Se proyecta una relación lineal entre `Ventas` y `Comision`: hay una correlación de +0.87. Chequear relación de proporcionaldiad con `Alicuota`"
   ]
  },
  {
   "cell_type": "code",
   "execution_count": null,
   "metadata": {},
   "outputs": [],
   "source": [
    "sns.pairplot(data=ven_num_pos, diag_kind='kde', plot_kws = {'alpha': 0.3, 's': 10})\n",
    "plt.show()"
   ]
  },
  {
   "cell_type": "code",
   "execution_count": null,
   "metadata": {},
   "outputs": [],
   "source": [
    "# Cálculo y Visualización de la matriz de correlación entre las variables\n",
    "matrix = ven_num_pos[['Ventas', 'Alicuota', 'Comision']].corr().round(2)\n",
    "sns.heatmap(matrix, annot=True)"
   ]
  },
  {
   "attachments": {},
   "cell_type": "markdown",
   "metadata": {},
   "source": [
    "### Más medidas de dispersión sobre ventas no nulas: asimetría y Kurtosis"
   ]
  },
  {
   "attachments": {},
   "cell_type": "markdown",
   "metadata": {},
   "source": [
    "Al analizar la asimetría (skewness) y la Kurtosis sobre estas variables decimos que:\n",
    "* Las ventas positivas tienen un sesgo positivos y las negativas un sesgo negativo tanto para comisión como para ventas, como ya habíamos visto: las colas de las distribuciones se encuentran a derecha e izquierda, respectivamente.\n",
    "* Las comisiones siempre tienen sesgo positivo: colas a derecha.\n",
    "* Todas son leptocúrticas: están más apuntaladas y con colas más gruesas que la normal.\n",
    "* Todos los p-valores son nulos en ambos test, lo cual indica que rechazamos la hipótesis nula: tanto en simetría como en Kurtosis las distribuciones son significativamente diferentes a una distribución normal."
   ]
  },
  {
   "cell_type": "code",
   "execution_count": null,
   "metadata": {},
   "outputs": [],
   "source": [
    "print('Ventas negativas')\n",
    "asim = skew(ven_num_neg)\n",
    "asimtest = skewtest(ven_num_neg).pvalue\n",
    "kurt = kurtosis(ven_num_neg)\n",
    "kurttest = kurtosistest(ven_num_neg).pvalue\n",
    "\n",
    "desc = pd.DataFrame({'Asimetría': asim, 'p-val Asim.': asimtest,\n",
    "                     'Kurtosis (Fisher)': kurt, 'p-val Kurt.': kurttest},\n",
    "                     index=['Ventas', 'Alicuota', 'Comision'])\n",
    "desc"
   ]
  },
  {
   "cell_type": "code",
   "execution_count": null,
   "metadata": {},
   "outputs": [],
   "source": [
    "print('Ventas positivas')\n",
    "asim = skew(ven_num_pos)\n",
    "asimtest = skewtest(ven_num_pos).pvalue\n",
    "kurt = kurtosis(ven_num_pos)\n",
    "kurttest = kurtosistest(ven_num_pos).pvalue\n",
    "\n",
    "desc = pd.DataFrame({'Asimetría': asim, 'p-val Asim.': asimtest,\n",
    "                     'Kurtosis (Fisher)': kurt, 'p-val Kurt.': kurttest},\n",
    "                     index=['Ventas', 'Alicuota', 'Comision'])\n",
    "desc"
   ]
  },
  {
   "attachments": {},
   "cell_type": "markdown",
   "metadata": {},
   "source": [
    "### Relación entre variables numéricas con etiquetas categóricas"
   ]
  },
  {
   "cell_type": "code",
   "execution_count": null,
   "metadata": {},
   "outputs": [],
   "source": [
    "ventas_null = ventas_ipc[ventas_ipc['Ventas'] == 0].copy()\n",
    "ventas_neg = ventas_ipc[ventas_ipc['Ventas'] < 0].copy()\n",
    "ventas_pos = ventas_ipc[ventas_ipc['Ventas'] > 0].copy()"
   ]
  },
  {
   "attachments": {},
   "cell_type": "markdown",
   "metadata": {},
   "source": [
    "#### Ventas nulas"
   ]
  },
  {
   "attachments": {},
   "cell_type": "markdown",
   "metadata": {},
   "source": [
    "- Omega: prácticamente todos 1. Hay una nadita de 0.\n",
    "- Subrubro: nada particular.\n",
    "- Trat_Fisc_Agg: casi todos normales, algunos exentos y ni se ven los otros.\n",
    "- Trat_Fisc: la enorme mayoría son 0. Después destacan apenitas los normales.\n",
    "- Trat_Dif: la enorme mayoría no tiene. espués destacan apenitas los artículos 16 y 21.\n",
    "- CM: prácticamente todos 0. Hay una nadita de 1. Se repite lo que vimos en el tp1: todos los CM1 están acá. Identificar a este vendedor y eliminar.\n",
    "- Modelo: la gran mayoría no lo son, aunque sí hay varios modelo (en torno al cero)."
   ]
  },
  {
   "cell_type": "code",
   "execution_count": null,
   "metadata": {},
   "outputs": [],
   "source": [
    "# Estas gráficas tardan bastante en generarse, descomentar para obtenerlas\n",
    "\n",
    "for col in ['Omega', 'Subrubro', 'Trat_Fisc_Agg', 'Trat_Fisc', 'Trat_Dif', 'CM', 'Modelo']:\n",
    "    sns.kdeplot(data=ventas_null[['Alicuota', col]], x='Alicuota', hue=col)\n",
    "    plt.show()"
   ]
  },
  {
   "attachments": {},
   "cell_type": "markdown",
   "metadata": {},
   "source": [
    "#### Ventas negativas"
   ]
  },
  {
   "attachments": {},
   "cell_type": "markdown",
   "metadata": {},
   "source": [
    "- Omega: todos son 1.\n",
    "- Subrubro: destacan misceláneo, supermercados y combustible reventa.\n",
    "- Trat_Fisc_Agg: la enorme mayoría son normal, una nada de exentos. No hay otros.\n",
    "- Trat_Fisc: nada particular.\n",
    "- Trat_Dif: mayoritariamente no.\n",
    "- CM: todos son 0.\n",
    "- Modelo: todos son 0 (no hay ningún modelo con ventas negativas)."
   ]
  },
  {
   "cell_type": "code",
   "execution_count": null,
   "metadata": {},
   "outputs": [],
   "source": [
    "# Estas gráficas tardan bastante en generarse, descomentar para obtenerlas\n",
    "\n",
    "for col in ['Omega', 'Subrubro', 'Trat_Fisc_Agg', 'Trat_Fisc', 'Trat_Dif', 'CM', 'Modelo']:\n",
    "    sns.pairplot(data=ventas_neg[num_cols+[col]], diag_kind='kde', hue=col, plot_kws = {'alpha': 0.3, 's': 10})\n",
    "    plt.show()"
   ]
  },
  {
   "attachments": {},
   "cell_type": "markdown",
   "metadata": {},
   "source": [
    "#### Ventas positivas"
   ]
  },
  {
   "attachments": {},
   "cell_type": "markdown",
   "metadata": {},
   "source": [
    "- Omega: la enorme mayoría son 1. Hay poquititos 1.\n",
    "- Subrubro: ver cómo se asocian a las diferentes proyecciones.\n",
    "- Trat_Fisc_Agg: casi todo normal. Algunos otros. También hay exento y mínimo.\n",
    "- Trat_Fisc: sumar esto al análisis de subrurbo (distinguir primero por subrubro y dentro de cada uno diferenciar entre Trat Fisc).\n",
    "- Trat_Dif: como el item anterior.\n",
    "- CM: todos son 0.\n",
    "- Modelo: hay tanto 0 como 1. Hay una mayor proporción de 1 que antes"
   ]
  },
  {
   "cell_type": "code",
   "execution_count": null,
   "metadata": {},
   "outputs": [],
   "source": [
    "# Estas gráficas tardan bastante en generarse, descomentar para obtenerlas\n",
    "\n",
    "for col in ['Omega', 'Subrubro', 'Trat_Fisc_Agg', 'Trat_Fisc', 'Trat_Dif', 'CM', 'Modelo']:\n",
    "    sns.pairplot(data=ventas_pos[num_cols+[col]], diag_kind='kde', hue=col, plot_kws = {'alpha': 0.3, 's': 10})\n",
    "    plt.show()"
   ]
  },
  {
   "attachments": {},
   "cell_type": "markdown",
   "metadata": {},
   "source": [
    "#### Nota sobre modelos\n",
    "- No hay ningún modelo con ventas nulas: la mayoría de sus registros son ventas positivas, aunque hay algunos con ventas negativas.\n",
    "- Todos los modeos tienen comisiones bajas (muy ceranas al 0%)."
   ]
  },
  {
   "attachments": {},
   "cell_type": "markdown",
   "metadata": {},
   "source": [
    "### Análisis de la relación de proporcionalidad entre variables numéricas"
   ]
  },
  {
   "attachments": {},
   "cell_type": "markdown",
   "metadata": {},
   "source": [
    "Queremos estudiar un poco más la relación lineal antes vista entre estas 3 variables. Proponemos que la función que las relaciona es\n",
    "    $$\\text{Comision} = \\text{Alicuota} \\times \\text{Ventas}$$\n",
    "\n",
    "Acá voy a volver a distinguir entre nulas, positivas y negativas e ir discriminando por modelo"
   ]
  },
  {
   "attachments": {},
   "cell_type": "markdown",
   "metadata": {},
   "source": [
    "#### Ventas nulas"
   ]
  },
  {
   "cell_type": "code",
   "execution_count": null,
   "metadata": {},
   "outputs": [],
   "source": [
    "# Relación lineal: comision = alicuota x venta\n",
    "calcCom = ventas_null['Alicuota'] * ventas_null['Ventas']\n",
    "\n",
    "L = len(calcCom)\n",
    "S = sum(abs(ventas_null['Comision'] - calcCom) == 0)\n",
    "print(f'{S} de {L} registros cumplen la relación >> {100*(S)/L:.2f}%')\n",
    "print(f'{L-S} registros no la cumplen la relación >> {100*(L-S)/L:.2f}%')"
   ]
  },
  {
   "attachments": {},
   "cell_type": "markdown",
   "metadata": {},
   "source": [
    "#### Ventas negativas"
   ]
  },
  {
   "cell_type": "code",
   "execution_count": null,
   "metadata": {},
   "outputs": [],
   "source": [
    "# Relación lineal: comision = alicuota x venta\n",
    "calcCom = ventas_neg['Alicuota'] * ventas_neg['Ventas']\n",
    "\n",
    "diff = ventas_neg['Comision'] - calcCom\n",
    "D = len(diff)\n",
    "L = len(calcCom)\n",
    "S = sum(abs(diff) == 0)\n",
    "\n",
    "print(f'{S} de {L} registros cumplen la relación >> {100*(S)/L:.2f}%')\n",
    "print(f'{L-S} registros no la cumplen la relación >> {100*(L-S)/L:.2f}%')\n",
    "\n",
    "sobre = len(diff[diff<0])\n",
    "print(f'\\t{sobre} registros sobreestiman la relación >>> {100*sobre/D:.2f}%')\n",
    "sub = len(diff[diff>0])\n",
    "print(f'\\t{sub} registros subestiman la relación >>> {100*sub/D:.2f}%')"
   ]
  },
  {
   "cell_type": "code",
   "execution_count": null,
   "metadata": {},
   "outputs": [],
   "source": [
    "com_real_sobre = ventas_neg['Comision'][diff<0]\n",
    "com_real_exac = ventas_neg['Comision'][diff==0]\n",
    "com_real_sub = ventas_neg['Comision'][diff>0]\n",
    "\n",
    "com_calc_sobre = calcCom[diff<0]\n",
    "com_calc_exac = calcCom[diff==0]\n",
    "com_calc_sub = calcCom[diff>0]"
   ]
  },
  {
   "cell_type": "code",
   "execution_count": null,
   "metadata": {},
   "outputs": [],
   "source": [
    "fig, axs = plt.subplots(figsize=(6, 5))\n",
    "\n",
    "fig.suptitle('Comisión: real vs calculada (ventas negativas)')\n",
    "\n",
    "axs.scatter(com_real_sobre, com_calc_sobre, label='Sobreestimado', s=30)\n",
    "axs.scatter(com_real_exac, com_calc_exac, label='Exacto', s=20)\n",
    "axs.scatter(com_real_sub, com_calc_sub, label='Subestimado', s=10)\n",
    "\n",
    "axs.legend()\n",
    "\n",
    "axs.set_xlabel('Comisión real')\n",
    "axs.set_ylabel('Comisión calculada')\n",
    "\n",
    "plt.show()"
   ]
  },
  {
   "cell_type": "code",
   "execution_count": null,
   "metadata": {},
   "outputs": [],
   "source": [
    "rg_real = pd.concat([com_real_sub[com_calc_sub<0], com_real_sobre[com_calc_sobre>10*com_real_sobre]])\n",
    "rg_calc = pd.concat([com_calc_sub[com_calc_sub<0], com_calc_sobre[com_calc_sobre>10*com_real_sobre]])\n",
    "\n",
    "rp_real = pd.concat([com_real_sub[com_calc_sub>0], com_real_sobre[com_calc_sobre<10*com_real_sobre], com_real_exac])\n",
    "rp_calc = pd.concat([com_calc_sub[com_calc_sub>0], com_calc_sobre[com_calc_sobre<10*com_real_sobre], com_calc_exac])"
   ]
  },
  {
   "cell_type": "code",
   "execution_count": null,
   "metadata": {},
   "outputs": [],
   "source": [
    "print(f'De los {len(rp_real+rg_real)} registros:')\n",
    "print(f'\\t{len(rg_real)} están en la recta con pendiente grande >>> {100*len(rg_real)/len(rp_real+rg_real):.2f}%')\n",
    "print(f'\\t{len(rp_real)} están en la recta con pendiente pequeña >>> {100*len(rp_real)/len(rp_real+rg_real):.2f}%')"
   ]
  },
  {
   "cell_type": "code",
   "execution_count": null,
   "metadata": {},
   "outputs": [],
   "source": [
    "LG = LR(rg_real, rg_calc)\n",
    "LP = LR(rp_real, rp_calc)"
   ]
  },
  {
   "cell_type": "code",
   "execution_count": null,
   "metadata": {},
   "outputs": [],
   "source": [
    "fig, axs = plt.subplots(figsize=(6, 5))\n",
    "\n",
    "axs.scatter(rg_real, rg_calc, label='Gran pendiente', s=30)\n",
    "axs.scatter(rp_real, rp_calc, label='Pequeña pendiente', s=15)\n",
    "axs.plot(rg_real, rg_real*LG.slope + LG.intercept, label=f'{LG.slope:.0f}*Real + ${LG.intercept:.0f}', color='red')\n",
    "axs.plot(rp_real, rp_real*LP.slope + LP.intercept, label=f'{LP.slope:.0f}*Real + ${LP.intercept:.4f}', color='tab:green')\n",
    "\n",
    "axs.legend(loc='upper left')\n",
    "\n",
    "axs.set_xlabel('Comisión real')\n",
    "axs.set_ylabel('Comisión calculada')\n",
    "\n",
    "fig.suptitle('Comisión empresa: real vs calculada (ventas negativas)')\n",
    "plt.show()"
   ]
  },
  {
   "cell_type": "code",
   "execution_count": null,
   "metadata": {},
   "outputs": [],
   "source": [
    "# Discrimino por modelo\n",
    "mask0 = ventas_neg['Modelo']==0\n",
    "mask1 = ventas_neg['Modelo']==1"
   ]
  },
  {
   "cell_type": "code",
   "execution_count": null,
   "metadata": {},
   "outputs": [],
   "source": [
    "com_real_Mod = ventas_neg['Comision'][mask1]\n",
    "com_real_noMod = ventas_neg['Comision'][mask0]\n",
    "\n",
    "com_calc_Mod = calcCom[mask1]\n",
    "com_calc_noMod = calcCom[mask0]"
   ]
  },
  {
   "cell_type": "code",
   "execution_count": null,
   "metadata": {},
   "outputs": [],
   "source": [
    "fig, axs = plt.subplots(figsize=(6, 5))\n",
    "\n",
    "axs.scatter(rg_real, rg_calc, label='Gran pendiente', s=30)\n",
    "axs.scatter(rp_real, rp_calc, label='Pequeña pendiente', s=15)\n",
    "axs.plot(com_real_noMod, com_calc_noMod, label='No Modelo', color='tab:green')\n",
    "axs.plot(com_real_Mod, com_calc_Mod, label='Modelo', color='red')\n",
    "\n",
    "axs.legend(loc='upper left')\n",
    "\n",
    "axs.set_xlabel('Comisión real')\n",
    "axs.set_ylabel('Comisión Calculada')\n",
    "\n",
    "fig.suptitle('Comisión: real vs calculada (ventas negativas)')\n",
    "plt.show()"
   ]
  },
  {
   "attachments": {},
   "cell_type": "markdown",
   "metadata": {},
   "source": [
    "#### Ventas positivas"
   ]
  },
  {
   "cell_type": "code",
   "execution_count": null,
   "metadata": {},
   "outputs": [],
   "source": [
    "# Relación lineal: comision = alicuota x venta\n",
    "calcCom = ventas_pos['Alicuota'] * ventas_pos['Ventas']\n",
    "\n",
    "diff = ventas_pos['Comision'] - calcCom\n",
    "D = len(diff)\n",
    "L = len(calcCom)\n",
    "S = sum(abs(diff) == 0)\n",
    "\n",
    "print(f'{S} de {L} registros cumplen la relación >> {100*(S)/L:.2f}%')\n",
    "print(f'{L-S} registros no la cumplen la relación >> {100*(L-S)/L:.2f}%')\n",
    "\n",
    "sobre = len(diff[diff<0])\n",
    "print(f'\\t{sobre} registros sobreestiman la relación >>> {100*sobre/D:.2f}%')\n",
    "sub = len(diff[diff>0])\n",
    "print(f'\\t{sub} registros subestiman la relación >>> {100*sub/D:.2f}%')"
   ]
  },
  {
   "cell_type": "code",
   "execution_count": null,
   "metadata": {},
   "outputs": [],
   "source": [
    "com_real_sobre = ventas_pos['Comision'][diff<0]\n",
    "com_real_exac = ventas_pos['Comision'][diff==0]\n",
    "com_real_sub = ventas_pos['Comision'][diff>0]\n",
    "\n",
    "com_calc_sobre = calcCom[diff<0]\n",
    "com_calc_exac = calcCom[diff==0]\n",
    "com_calc_sub = calcCom[diff>0]"
   ]
  },
  {
   "cell_type": "code",
   "execution_count": null,
   "metadata": {},
   "outputs": [],
   "source": [
    "fig, axs = plt.subplots(figsize=(6, 5))\n",
    "\n",
    "fig.suptitle('Comisión: real vs calculada (ventas positivas)')\n",
    "\n",
    "axs.scatter(com_real_sobre, com_calc_sobre, label='Sobreestimado', s=30)\n",
    "axs.scatter(com_real_exac, com_calc_exac, label='Exacto', s=20)\n",
    "axs.scatter(com_real_sub, com_calc_sub, label='Subestimado', s=10)\n",
    "\n",
    "axs.legend()\n",
    "\n",
    "axs.set_xlabel('Comisión real')\n",
    "axs.set_ylabel('Comisión calculada')\n",
    "\n",
    "plt.show()"
   ]
  },
  {
   "cell_type": "code",
   "execution_count": null,
   "metadata": {},
   "outputs": [],
   "source": [
    "rg_real = pd.concat([com_real_sub[com_calc_sub<0], com_real_sobre[com_calc_sobre>10*com_real_sobre]])\n",
    "rg_calc = pd.concat([com_calc_sub[com_calc_sub<0], com_calc_sobre[com_calc_sobre>10*com_real_sobre]])\n",
    "\n",
    "rp_real = pd.concat([com_real_sub[com_calc_sub>0], com_real_sobre[com_calc_sobre<10*com_real_sobre], com_real_exac])\n",
    "rp_calc = pd.concat([com_calc_sub[com_calc_sub>0], com_calc_sobre[com_calc_sobre<10*com_real_sobre], com_calc_exac])"
   ]
  },
  {
   "cell_type": "code",
   "execution_count": null,
   "metadata": {},
   "outputs": [],
   "source": [
    "print(f'De los {len(rp_real+rg_real)} registros:')\n",
    "print(f'\\t{len(rg_real)} están en la recta con pendiente grande >>> {100*len(rg_real)/len(rp_real+rg_real):.2f}%')\n",
    "print(f'\\t{len(rp_real)} están en la recta con pendiente pequeña >>> {100*len(rp_real)/len(rp_real+rg_real):.2f}%')"
   ]
  },
  {
   "cell_type": "code",
   "execution_count": null,
   "metadata": {},
   "outputs": [],
   "source": [
    "LG = LR(rg_real, rg_calc)\n",
    "LP = LR(rp_real, rp_calc)"
   ]
  },
  {
   "cell_type": "code",
   "execution_count": null,
   "metadata": {},
   "outputs": [],
   "source": [
    "fig, axs = plt.subplots(figsize=(6, 5))\n",
    "\n",
    "axs.scatter(rg_real, rg_calc, label='Gran pendiente', s=30)\n",
    "axs.scatter(rp_real, rp_calc, label='Pequeña pendiente', s=15)\n",
    "axs.plot(rg_real, rg_real*LG.slope + LG.intercept, label=f'{LG.slope:.0f}*Real + ${LG.intercept:.0f}', color='red')\n",
    "axs.plot(rp_real, rp_real*LP.slope + LP.intercept, label=f'{LP.slope:.0f}*Real + ${LP.intercept:.4f}', color='tab:green')\n",
    "\n",
    "axs.legend(loc='upper left')\n",
    "\n",
    "axs.set_xlabel('Comisión real')\n",
    "axs.set_ylabel('Comisión calculada')\n",
    "\n",
    "fig.suptitle('Comisión empresa: real vs calculada (ventas positivas)')\n",
    "plt.show()"
   ]
  },
  {
   "cell_type": "code",
   "execution_count": null,
   "metadata": {},
   "outputs": [],
   "source": [
    "# Discrimino por modelo\n",
    "mask0 = ventas_pos['Modelo']==0\n",
    "mask1 = ventas_pos['Modelo']==1"
   ]
  },
  {
   "cell_type": "code",
   "execution_count": null,
   "metadata": {},
   "outputs": [],
   "source": [
    "com_real_Mod = ventas_pos['Comision'][mask1]\n",
    "com_real_noMod = ventas_pos['Comision'][mask0]\n",
    "\n",
    "com_calc_Mod = calcCom[mask1]\n",
    "com_calc_noMod = calcCom[mask0]"
   ]
  },
  {
   "cell_type": "code",
   "execution_count": null,
   "metadata": {},
   "outputs": [],
   "source": [
    "fig, axs = plt.subplots(figsize=(6, 5))\n",
    "\n",
    "axs.scatter(rg_real, rg_calc, label='Gran pendiente', s=30)\n",
    "axs.scatter(rp_real, rp_calc, label='Pequeña pendiente', s=15)\n",
    "axs.plot(com_real_noMod, com_calc_noMod, label='No Modelo', color='tab:green')\n",
    "axs.plot(com_real_Mod, com_calc_Mod, label='Modelo', color='red')\n",
    "\n",
    "axs.legend(loc='upper left')\n",
    "\n",
    "axs.set_xlabel('Comisión real')\n",
    "axs.set_ylabel('Comisión Calculada')\n",
    "\n",
    "fig.suptitle('Comisión: real vs calculada (ventas positivas)')\n",
    "plt.show()"
   ]
  },
  {
   "attachments": {},
   "cell_type": "markdown",
   "metadata": {},
   "source": [
    "---\n",
    "# Análisis de variables categóricas"
   ]
  },
  {
   "cell_type": "code",
   "execution_count": null,
   "metadata": {},
   "outputs": [],
   "source": [
    "ventas_categ = ventas_ipc.drop(['Ventas', 'Alicuota', 'Comision'], axis=1).copy()\n",
    "ventas_categ.head(3)"
   ]
  },
  {
   "attachments": {},
   "cell_type": "markdown",
   "metadata": {},
   "source": [
    "### `ID` y `Modelo`"
   ]
  },
  {
   "cell_type": "code",
   "execution_count": null,
   "metadata": {},
   "outputs": [],
   "source": [
    "checkear_unicidad(ventas_categ, 'Modelo', 'ID')"
   ]
  },
  {
   "attachments": {},
   "cell_type": "markdown",
   "metadata": {},
   "source": [
    "Esto implica, que si hay un vendedor Modelo que vende en más de un rubro, tiene la etiqueta de Modelo en todos los rubros."
   ]
  },
  {
   "attachments": {},
   "cell_type": "markdown",
   "metadata": {},
   "source": [
    "### `Omega` y `Modelo`"
   ]
  },
  {
   "attachments": {},
   "cell_type": "markdown",
   "metadata": {},
   "source": [
    "En primer lugar, verificar si a cada ID único se le asigna un único valor de Omega (no debería pasar lo contrario)"
   ]
  },
  {
   "cell_type": "code",
   "execution_count": null,
   "metadata": {},
   "outputs": [],
   "source": [
    "checkear_unicidad(ventas_categ, 'Omega', 'ID')"
   ]
  },
  {
   "cell_type": "code",
   "execution_count": null,
   "metadata": {},
   "outputs": [],
   "source": [
    "graficar_modelo(ventas_categ, 'Omega')"
   ]
  },
  {
   "attachments": {},
   "cell_type": "markdown",
   "metadata": {},
   "source": [
    "Dentro de los vendedores que son Omega (3119), solo el 0,35% es modelo.\n",
    "Mientras que entre los no Omega (26), el 100% es modelo."
   ]
  },
  {
   "attachments": {},
   "cell_type": "markdown",
   "metadata": {},
   "source": [
    "### `Subrubro` y `Modelo`"
   ]
  },
  {
   "cell_type": "code",
   "execution_count": null,
   "metadata": {},
   "outputs": [],
   "source": [
    "checkear_unicidad(ventas_categ, 'Subrubro', 'ID')"
   ]
  },
  {
   "attachments": {},
   "cell_type": "markdown",
   "metadata": {},
   "source": [
    "En secciones previas se probó que si un ID era Modelo en un rubro, también lo era en todos."
   ]
  },
  {
   "cell_type": "code",
   "execution_count": null,
   "metadata": {},
   "outputs": [],
   "source": [
    "graficar_modelo(ventas_categ, 'Subrubro')"
   ]
  },
  {
   "attachments": {},
   "cell_type": "markdown",
   "metadata": {},
   "source": [
    "### `Trat_Fisc_Agg` y `Modelo`"
   ]
  },
  {
   "attachments": {},
   "cell_type": "markdown",
   "metadata": {},
   "source": [
    "De qué depende el tratamiento fiscal? Del cliente? Del vendedor? Del rubro? De cada venta?"
   ]
  },
  {
   "cell_type": "code",
   "execution_count": null,
   "metadata": {},
   "outputs": [],
   "source": [
    "checkear_unicidad(ventas_categ, 'Trat_Fisc_Agg', 'ID')"
   ]
  },
  {
   "attachments": {},
   "cell_type": "markdown",
   "metadata": {},
   "source": [
    "Esto prueba que el atributo Trat_Fisc_Agg no es el mismo para todas las ventas de un vendedor."
   ]
  },
  {
   "attachments": {},
   "cell_type": "markdown",
   "metadata": {},
   "source": [
    "Probemos si para cada vendedor, de cierto rubro, de cierto número de depósito se cumple:"
   ]
  },
  {
   "cell_type": "code",
   "execution_count": null,
   "metadata": {},
   "outputs": [],
   "source": [
    "checkear_unicidad(ventas_categ, 'Trat_Fisc_Agg', 'ID', 'Deposito','Subrubro')"
   ]
  },
  {
   "attachments": {},
   "cell_type": "markdown",
   "metadata": {},
   "source": [
    "Será un atributo que cambia en el tiempo?"
   ]
  },
  {
   "cell_type": "code",
   "execution_count": null,
   "metadata": {},
   "outputs": [],
   "source": [
    "checkear_unicidad(ventas_categ, 'Trat_Fisc_Agg', 'ID', 'Deposito', 'Subrubro', 'Fecha')"
   ]
  },
  {
   "attachments": {},
   "cell_type": "markdown",
   "metadata": {},
   "source": [
    "Esto no contradice lo que pusimos en el data statement? Que cada renglón es una sumatoria de ventas para un mismo ID, en cierto Deposito y cierto mes?"
   ]
  },
  {
   "cell_type": "code",
   "execution_count": null,
   "metadata": {},
   "outputs": [],
   "source": [
    "#Un caso:\n",
    "ventas_categ[(ventas_categ['ID'] == 691) & (ventas_categ['Deposito'] == 70) & (ventas_categ['Subrubro'] == 'Comb.') & (ventas_categ['Fecha'] == '2019-11-01')]"
   ]
  },
  {
   "attachments": {},
   "cell_type": "markdown",
   "metadata": {},
   "source": [
    "De cualquier manera, esto hace pensar que el tratamiento fiscal depende del cliente o de la venta en particular y no del vendedor."
   ]
  },
  {
   "attachments": {},
   "cell_type": "markdown",
   "metadata": {},
   "source": [
    "##### Checkear con `Ventas` si hay cierto punto de corte para entrar por ej desde exento a normal y luego a otro"
   ]
  },
  {
   "cell_type": "code",
   "execution_count": null,
   "metadata": {},
   "outputs": [],
   "source": [
    "ventas_prueba = ventas_ipc[['ID', 'Deposito', 'Subrubro', 'Fecha','Ventas','Trat_Fisc_Agg']].dropna(subset=['Trat_Fisc_Agg']).copy()\n",
    "duplicados = ventas_prueba[ventas_prueba.duplicated(subset=['ID', 'Deposito', 'Subrubro', 'Fecha'], keep=False)].sort_values(by=['ID', 'Deposito', 'Subrubro', 'Fecha'], ascending=True).copy()\n",
    "duplicados"
   ]
  },
  {
   "cell_type": "code",
   "execution_count": null,
   "metadata": {},
   "outputs": [],
   "source": [
    "duplicados.groupby('Trat_Fisc_Agg')['Ventas'].mean()"
   ]
  },
  {
   "attachments": {},
   "cell_type": "markdown",
   "metadata": {},
   "source": [
    "En promedio, se cumple que \"Exento\" es menor a \"Norm\", que a su vez es menor a \"Otro\". Veamos si se cumple en todos los casos:"
   ]
  },
  {
   "attachments": {},
   "cell_type": "markdown",
   "metadata": {},
   "source": [
    "Si resultado es True, significa que, dentro de cada grupo, el valor de 'Ventas' correspondiente a 'Trat_Fisc_Agg' == 'Exento' siempre es menor que el valor de 'Ventas' correspondiente a 'Trat_Fisc_Agg' == 'Normal', y ambos son menores que el valor de 'Ventas' correspondiente a 'Trat_Fisc_Agg' == 'Otro'. Si resultado es False, significa que al menos en un grupo no se cumple esta condición."
   ]
  },
  {
   "cell_type": "code",
   "execution_count": null,
   "metadata": {},
   "outputs": [],
   "source": [
    "resultado = duplicados.groupby(['ID', 'Deposito', 'Subrubro', 'Fecha']).apply(lambda x: x[x['Trat_Fisc_Agg'] == 'Exento']['Ventas'].max() < x[x['Trat_Fisc_Agg'] == 'Norm']['Ventas'].min() < x[x['Trat_Fisc_Agg'] == 'Otro']['Ventas'].min()).all()\n",
    "resultado"
   ]
  },
  {
   "cell_type": "code",
   "execution_count": null,
   "metadata": {},
   "outputs": [],
   "source": [
    "graficar_modelo(ventas_categ, 'Trat_Fisc_Agg')"
   ]
  },
  {
   "attachments": {},
   "cell_type": "markdown",
   "metadata": {},
   "source": [
    "### `Trat_Fisc` y `Modelo`"
   ]
  },
  {
   "cell_type": "code",
   "execution_count": null,
   "metadata": {},
   "outputs": [],
   "source": [
    "checkear_unicidad(ventas_categ, 'Trat_Fisc', 'ID', 'Deposito', 'Subrubro', 'Fecha')"
   ]
  },
  {
   "attachments": {},
   "cell_type": "markdown",
   "metadata": {},
   "source": [
    "##### Checkear con `Ventas` si hay cierto punto de corte para pasar de una a otra categoría"
   ]
  },
  {
   "cell_type": "code",
   "execution_count": null,
   "metadata": {},
   "outputs": [],
   "source": [
    "ventas_prueba = ventas_ipc[['ID', 'Deposito', 'Subrubro', 'Fecha','Ventas','Trat_Fisc']].dropna(subset=['Trat_Fisc']).copy()\n",
    "duplicados = ventas_prueba[ventas_prueba.duplicated(subset=['ID', 'Deposito', 'Subrubro', 'Fecha'], keep=False)].sort_values(by=['ID', 'Deposito', 'Subrubro', 'Fecha'], ascending=True).copy()\n",
    "duplicados.groupby('Trat_Fisc')['Ventas'].mean()"
   ]
  },
  {
   "attachments": {},
   "cell_type": "markdown",
   "metadata": {},
   "source": [
    "Probamos con un caso.\n",
    "\n",
    "Si resultado es True, significa que, dentro de cada grupo, el valor de 'Ventas' correspondiente a 'Trat_Fisc_Agg' == 0 siempre es mayor que el valor de 'Ventas' correspondiente a 'Trat_Fisc_Agg' == 1. Si resultado es False, significa que al menos en un grupo no se cumple esta condición."
   ]
  },
  {
   "cell_type": "code",
   "execution_count": null,
   "metadata": {},
   "outputs": [],
   "source": [
    "resultado = duplicados.groupby(['ID', 'Deposito', 'Subrubro', 'Fecha']).apply(lambda x: x[x['Trat_Fisc'] == 0]['Ventas'].max() > x[x['Trat_Fisc'] == 1]['Ventas'].min()).all()\n",
    "resultado"
   ]
  },
  {
   "cell_type": "code",
   "execution_count": null,
   "metadata": {},
   "outputs": [],
   "source": [
    "graficar_modelo(ventas_categ, 'Trat_Fisc')"
   ]
  },
  {
   "attachments": {},
   "cell_type": "markdown",
   "metadata": {},
   "source": [
    "### `Trat_Dif` y `Modelo`"
   ]
  },
  {
   "cell_type": "code",
   "execution_count": null,
   "metadata": {},
   "outputs": [],
   "source": [
    "checkear_unicidad(ventas_categ, 'Trat_Dif', 'ID', 'Deposito', 'Subrubro', 'Fecha')"
   ]
  },
  {
   "cell_type": "code",
   "execution_count": null,
   "metadata": {},
   "outputs": [],
   "source": [
    "checkear_unicidad(ventas_categ, 'Trat_Dif', 'ID', 'Deposito', 'Subrubro')"
   ]
  },
  {
   "attachments": {},
   "cell_type": "markdown",
   "metadata": {},
   "source": [
    "Se debe a que `Trat_Dif` cambia en el tiempo? O a que hay pocos casos con valores?"
   ]
  },
  {
   "cell_type": "code",
   "execution_count": null,
   "metadata": {},
   "outputs": [],
   "source": [
    "graficar_modelo(ventas_categ, 'Trat_Dif')"
   ]
  },
  {
   "attachments": {},
   "cell_type": "markdown",
   "metadata": {},
   "source": [
    "### `CM` y `Modelo` (Paso 4)"
   ]
  },
  {
   "cell_type": "code",
   "execution_count": null,
   "metadata": {},
   "outputs": [],
   "source": [
    "checkear_unicidad(ventas_categ, 'CM', 'ID')"
   ]
  },
  {
   "cell_type": "code",
   "execution_count": null,
   "metadata": {},
   "outputs": [],
   "source": [
    "casos_unicos_cm_1 = ventas_categ[ventas_categ['CM'] == 1]['ID'].nunique()\n",
    "print(\"Número de casos únicos de ID para CM = 1:\", casos_unicos_cm_1)"
   ]
  },
  {
   "cell_type": "code",
   "execution_count": null,
   "metadata": {},
   "outputs": [],
   "source": [
    "graficar_modelo(ventas_categ, 'CM')"
   ]
  },
  {
   "attachments": {},
   "cell_type": "markdown",
   "metadata": {},
   "source": [
    "Solo hay un caso que está bajo CM igual a 1 (y no es vendedor modelo). El tamaño de muestra equivale al 0,01% de los casos."
   ]
  },
  {
   "cell_type": "code",
   "execution_count": null,
   "metadata": {},
   "outputs": [],
   "source": [
    "print(f\"{round(len(ventas_categ[ventas_categ['CM'] == 1]) / len(ventas_categ) * 100, 2)}%\")"
   ]
  },
  {
   "attachments": {},
   "cell_type": "markdown",
   "metadata": {},
   "source": [
    "Se procederá a descartar el caso en un dataset aparte. Y se eliminará la variable `CM`."
   ]
  },
  {
   "cell_type": "code",
   "execution_count": null,
   "metadata": {},
   "outputs": [],
   "source": [
    "#Eliminación de caso CM=1 y columna CM. Y almacenamiento en un dataset aparte\n",
    "\n",
    "# Se opera sobre el dataset completo\n",
    "\n",
    "ventas_cm = ventas_ipc[ventas_ipc['CM'] == 1].copy()\n",
    "ventas_cm.to_csv('../data/interim/tp2_ventas_cm.csv')\n",
    "\n",
    "ventas_ipc = ventas_ipc[ventas_ipc['CM'] != 1].copy()\n",
    "ventas_ipc = limpiar_basic(ventas_ipc, 'CM')\n",
    "\n",
    "# Y luego sobre el dataset de variables categóricas\n",
    "\n",
    "ventas_categ = ventas_categ[ventas_categ['CM'] != 1].copy()\n",
    "ventas_categ = limpiar_basic(ventas_categ, 'CM')\n",
    "ventas_categ"
   ]
  },
  {
   "attachments": {},
   "cell_type": "markdown",
   "metadata": {},
   "source": [
    "### Relación entre variables fiscales (`Trat_Fisc` y `Trat_Fisc_Agg` y `Trat_Dif`) (Paso 5)"
   ]
  },
  {
   "attachments": {},
   "cell_type": "markdown",
   "metadata": {},
   "source": [
    "#### `Trat_Fisc` y `Trat_Fisc_Agg`"
   ]
  },
  {
   "attachments": {},
   "cell_type": "markdown",
   "metadata": {},
   "source": [
    "Queremos chequear para qué valores de `Trat_Fisc` aparecen valores de `Trat_Fisc_Agg`."
   ]
  },
  {
   "cell_type": "code",
   "execution_count": null,
   "metadata": {},
   "outputs": [],
   "source": [
    "# Este paso lo agrego porque sino el crosstab siguiente no me muestra los NaN\n",
    "ventas_categ['Trat_Fisc'] = ventas_categ['Trat_Fisc'].fillna('Warning: Relleno')\n",
    "ventas_categ['Trat_Fisc_Agg'] = ventas_categ['Trat_Fisc_Agg'].fillna('Warning: Relleno')\n",
    "\n",
    "pd.crosstab(ventas_categ['Trat_Fisc'], ventas_categ['Trat_Fisc_Agg'], dropna=False)"
   ]
  },
  {
   "attachments": {},
   "cell_type": "markdown",
   "metadata": {},
   "source": [
    "Al analizar la tabla de contingencia, vemos que los valores de `Trat_Fisc_Agg` sólo aparecen cuando `Trat_Fisc` asume valores 0, 1, 2 ó 3. \n",
    "A su vez, hay correspondencia entre 0 y Norm, 1 y Exento, 2 y Min, 3 y Otro. \n",
    "¿Se puede unificar todo como `Trat_Fisc`, eliminando entonces `Trat_Fisc_Agg`? ¿Tiene sentido que falte la descripción asociada al tratamiento?"
   ]
  },
  {
   "cell_type": "code",
   "execution_count": null,
   "metadata": {},
   "outputs": [],
   "source": [
    "vad = pd.crosstab(ventas_categ['Trat_Fisc'].fillna(\"Warning: NA\"), ventas_categ['Trat_Fisc_Agg'].fillna(\"Warning: NA\"), normalize=True)\n",
    "sns.heatmap(vad, annot=True)"
   ]
  },
  {
   "attachments": {},
   "cell_type": "markdown",
   "metadata": {},
   "source": [
    "Vemos que sí existe una gran correlación entre \"Norm\" de `Trat_Fisc_Agg` y \"0\" de `Trat_Fisc`."
   ]
  },
  {
   "attachments": {},
   "cell_type": "markdown",
   "metadata": {},
   "source": [
    "#### Relación entre `Trat_Fisc` y `Trat_Dif`"
   ]
  },
  {
   "attachments": {},
   "cell_type": "markdown",
   "metadata": {},
   "source": [
    "Ahora veamos para qué valores de `Trat_Fisc` aparecen valores de `Trat_Dif`. Al analizar la tabla de contingencia vemos que no hay un patrón claro. ¿Podríamos tomar a un dato faltante como \"sin tratamiento\" o algo por el estilo?"
   ]
  },
  {
   "cell_type": "code",
   "execution_count": null,
   "metadata": {},
   "outputs": [],
   "source": [
    "# Este paso lo agrego porque sino el crosstab siguiente no me muestra los NaN\n",
    "ventas_categ['Trat_Dif'] = ventas_categ['Trat_Dif'].fillna('Waring: Relleno')\n",
    "\n",
    "pd.crosstab(ventas_categ['Trat_Fisc'], ventas_categ['Trat_Dif'], dropna=False)"
   ]
  },
  {
   "attachments": {},
   "cell_type": "markdown",
   "metadata": {},
   "source": [
    "*   Se concluye que la variable que más información aporta es la de `Trat_Fisc`, superando a `Trat_Fisc_Agg` en que tiene menos valores perdidos. Y a su vez, la información de `Trat_Fisc_Agg` (Exento, Min, Norm, Otro), es capturada por los valores 1, 2, 0, 3 de `Trat_Fisc_Agg`, respectivamente.\n",
    "\n",
    "\n",
    "*   Respecto a `Trat_Diff`, la misma es superada por `Trat_Fisc` en cuanto a ausencia de valores perdidos. La variable `Trat_Fisc`, en el práctico anterior, había permitido detectar ciertas tendencias de ventas. A su vez que no queda claro el aporte de `Trat_Diff`.\n",
    "\n",
    "\n",
    "La decisión es droppear `Trat_Fisc_Agg` y `Trat_Dif`"
   ]
  },
  {
   "cell_type": "code",
   "execution_count": null,
   "metadata": {},
   "outputs": [],
   "source": [
    "# Se opera sobre el dataset completo\n",
    "ventas_ipc = limpiar_basic(ventas_ipc, ['Trat_Fisc_Agg', 'Trat_Dif'])\n",
    "\n",
    "# Y luego sobre el dataset de variables categóricas\n",
    "ventas_categ = limpiar_basic(ventas_categ, ['Trat_Fisc_Agg', 'Trat_Dif'])\n",
    "ventas_categ\n"
   ]
  },
  {
   "cell_type": "code",
   "execution_count": null,
   "metadata": {},
   "outputs": [],
   "source": [
    "ventas_ipc.to_csv('../data/interim/tp2_ventas_ipc.csv')\n",
    "ventas_ipc"
   ]
  },
  {
   "cell_type": "markdown",
   "metadata": {},
   "source": [
    "----\n"
   ]
  },
  {
   "cell_type": "markdown",
   "metadata": {},
   "source": [
    "## Graficando la serie de tiempo con énfasis en Modelos y Subrubro"
   ]
  },
  {
   "cell_type": "code",
   "execution_count": 1,
   "metadata": {},
   "outputs": [],
   "source": [
    "if 'ventas_ipc' not in locals():\n",
    "    # Para que las funciones se actualicen si tener que refrescar el kernel\n",
    "    %load_ext autoreload\n",
    "    %autoreload 2\n",
    "\n",
    "    import pandas as pd\n",
    "    import json\n",
    "    from os.path import exists\n",
    "    import missingno as msno\n",
    "    import matplotlib.pyplot as plt\n",
    "    import numpy as np\n",
    "    import seaborn as sns\n",
    "    from statsmodels.graphics.tsaplots import plot_acf\n",
    "    from scipy.stats import linregress as LR\n",
    "    from scipy.stats import skew, kurtosis, skewtest, kurtosistest\n",
    "\n",
    "    # Funciones propias\n",
    "    from utils_limpieza import * \n",
    "    \n",
    "    ventas_ipc = pd.read_csv('../data/interim/tp2_ventas_ipc.csv')\n",
    "\n",
    "ventas_ipc['Fecha'] = ventas_ipc['Fecha'].astype('datetime64[ns]')"
   ]
  },
  {
   "cell_type": "code",
   "execution_count": 2,
   "metadata": {},
   "outputs": [
    {
     "data": {
      "text/plain": [
       "Unnamed: 0             int64\n",
       "ID                     int64\n",
       "Omega                  int64\n",
       "Subrubro              object\n",
       "Trat_Fisc             object\n",
       "Fecha         datetime64[ns]\n",
       "Deposito               int64\n",
       "Ventas               float64\n",
       "Alicuota             float64\n",
       "Comision             float64\n",
       "Modelo                 int64\n",
       "dtype: object"
      ]
     },
     "execution_count": 2,
     "metadata": {},
     "output_type": "execute_result"
    }
   ],
   "source": [
    "ventas_ipc.dtypes"
   ]
  },
  {
   "cell_type": "markdown",
   "metadata": {},
   "source": [
    "### Modelos vs. Tiempo"
   ]
  },
  {
   "cell_type": "markdown",
   "metadata": {},
   "source": [
    "**Observaciones:**\n",
    "- Los valores ventas de Modelo son cerca de la mitad de las ventas de no-Modelo\n",
    "- Durante el confinamiento obligatorio (primera mitad de 2020) las caídas en ventas fueron muy fuertes, pero más fuertes en proporción para vendedores Modelo\n",
    "- Si la deflación es confiable, parece que los Modelos no han recuperado sus valores de ventas previos a la Pandemia, mientas que los no-Modelo parecen estar levemente por encima"
   ]
  },
  {
   "cell_type": "code",
   "execution_count": 3,
   "metadata": {},
   "outputs": [
    {
     "data": {
      "text/html": [
       "<div>\n",
       "<style scoped>\n",
       "    .dataframe tbody tr th:only-of-type {\n",
       "        vertical-align: middle;\n",
       "    }\n",
       "\n",
       "    .dataframe tbody tr th {\n",
       "        vertical-align: top;\n",
       "    }\n",
       "\n",
       "    .dataframe thead th {\n",
       "        text-align: right;\n",
       "    }\n",
       "</style>\n",
       "<table border=\"1\" class=\"dataframe\">\n",
       "  <thead>\n",
       "    <tr style=\"text-align: right;\">\n",
       "      <th></th>\n",
       "      <th>Unnamed: 0</th>\n",
       "      <th>ID</th>\n",
       "      <th>Omega</th>\n",
       "      <th>Subrubro</th>\n",
       "      <th>Trat_Fisc</th>\n",
       "      <th>Fecha</th>\n",
       "      <th>Deposito</th>\n",
       "      <th>Ventas</th>\n",
       "      <th>Alicuota</th>\n",
       "      <th>Comision</th>\n",
       "      <th>Modelo</th>\n",
       "    </tr>\n",
       "  </thead>\n",
       "  <tbody>\n",
       "    <tr>\n",
       "      <th>0</th>\n",
       "      <td>0</td>\n",
       "      <td>2133</td>\n",
       "      <td>1</td>\n",
       "      <td>Venta Agrop.</td>\n",
       "      <td>Norm</td>\n",
       "      <td>2019-01-01</td>\n",
       "      <td>7</td>\n",
       "      <td>-1.116697e+07</td>\n",
       "      <td>2.0</td>\n",
       "      <td>-223339.447058</td>\n",
       "      <td>0</td>\n",
       "    </tr>\n",
       "    <tr>\n",
       "      <th>1</th>\n",
       "      <td>1</td>\n",
       "      <td>1172</td>\n",
       "      <td>1</td>\n",
       "      <td>Venta Agrop.</td>\n",
       "      <td>NaN</td>\n",
       "      <td>2019-01-01</td>\n",
       "      <td>7</td>\n",
       "      <td>-5.494877e+06</td>\n",
       "      <td>2.4</td>\n",
       "      <td>-131877.053284</td>\n",
       "      <td>0</td>\n",
       "    </tr>\n",
       "    <tr>\n",
       "      <th>2</th>\n",
       "      <td>2</td>\n",
       "      <td>2589</td>\n",
       "      <td>1</td>\n",
       "      <td>Vehiculos</td>\n",
       "      <td>Norm</td>\n",
       "      <td>2019-01-01</td>\n",
       "      <td>47</td>\n",
       "      <td>-2.331939e+06</td>\n",
       "      <td>4.0</td>\n",
       "      <td>-93277.561136</td>\n",
       "      <td>0</td>\n",
       "    </tr>\n",
       "    <tr>\n",
       "      <th>3</th>\n",
       "      <td>3</td>\n",
       "      <td>1907</td>\n",
       "      <td>1</td>\n",
       "      <td>Venta Agrop.</td>\n",
       "      <td>Norm</td>\n",
       "      <td>2019-01-01</td>\n",
       "      <td>5</td>\n",
       "      <td>-1.131988e+06</td>\n",
       "      <td>2.0</td>\n",
       "      <td>-22639.737670</td>\n",
       "      <td>0</td>\n",
       "    </tr>\n",
       "    <tr>\n",
       "      <th>4</th>\n",
       "      <td>4</td>\n",
       "      <td>1478</td>\n",
       "      <td>1</td>\n",
       "      <td>Venta Agrop.</td>\n",
       "      <td>NaN</td>\n",
       "      <td>2019-01-01</td>\n",
       "      <td>7</td>\n",
       "      <td>-4.177637e+05</td>\n",
       "      <td>2.4</td>\n",
       "      <td>-10026.332056</td>\n",
       "      <td>0</td>\n",
       "    </tr>\n",
       "  </tbody>\n",
       "</table>\n",
       "</div>"
      ],
      "text/plain": [
       "   Unnamed: 0    ID  Omega      Subrubro Trat_Fisc      Fecha  Deposito   \n",
       "0           0  2133      1  Venta Agrop.      Norm 2019-01-01         7  \\\n",
       "1           1  1172      1  Venta Agrop.       NaN 2019-01-01         7   \n",
       "2           2  2589      1     Vehiculos      Norm 2019-01-01        47   \n",
       "3           3  1907      1  Venta Agrop.      Norm 2019-01-01         5   \n",
       "4           4  1478      1  Venta Agrop.       NaN 2019-01-01         7   \n",
       "\n",
       "         Ventas  Alicuota       Comision  Modelo  \n",
       "0 -1.116697e+07       2.0 -223339.447058       0  \n",
       "1 -5.494877e+06       2.4 -131877.053284       0  \n",
       "2 -2.331939e+06       4.0  -93277.561136       0  \n",
       "3 -1.131988e+06       2.0  -22639.737670       0  \n",
       "4 -4.177637e+05       2.4  -10026.332056       0  "
      ]
     },
     "execution_count": 3,
     "metadata": {},
     "output_type": "execute_result"
    }
   ],
   "source": [
    "ventas_ipc.head()"
   ]
  },
  {
   "cell_type": "code",
   "execution_count": 4,
   "metadata": {},
   "outputs": [
    {
     "data": {
      "text/plain": [
       "<Axes: xlabel='Fecha', ylabel='Ventas'>"
      ]
     },
     "execution_count": 4,
     "metadata": {},
     "output_type": "execute_result"
    },
    {
     "data": {
      "image/png": "[encoded data removed]",
      "text/plain": [
       "<Figure size 640x480 with 1 Axes>"
      ]
     },
     "metadata": {},
     "output_type": "display_data"
    }
   ],
   "source": [
    "sns.lineplot(x='Fecha', y='Ventas', hue='Modelo', data=ventas_ipc)"
   ]
  },
  {
   "cell_type": "markdown",
   "metadata": {},
   "source": [
    "### Modelos y Subrubros vs. Tiempo\n",
    "\n",
    "Visualizamos la diferencia entre Modelo y no-Modelo dentro de cada subrubro. "
   ]
  },
  {
   "cell_type": "markdown",
   "metadata": {},
   "source": [
    "**Observaciones:**\n",
    "- Los valores de venta en Modelos son menores en todos los Subrubros, con la excepción de tres:\n",
    "    - \"Góndola\" \n",
    "    - \"Comb.\"  \n",
    "    - \"Comb. Ley\"\n",
    "\n",
    "  \n",
    "  \n",
    "- En los subrubros \"Vehículos\", \"Farmacia\" y \"Supermercado\" los valores de ventas de modelo parecen ser despreciables en comparación con no-Modelo. Tienen valores muy bajos y con muy poca variablidad.\n",
    "\n",
    "- \"Mantenimiento\" no parece tener muchos valores Modelo, se podría descartar."
   ]
  },
  {
   "cell_type": "code",
   "execution_count": 5,
   "metadata": {},
   "outputs": [
    {
     "data": {
      "text/plain": [
       "<seaborn.axisgrid.FacetGrid at 0x7f29fbd18110>"
      ]
     },
     "execution_count": 5,
     "metadata": {},
     "output_type": "execute_result"
    },
    {
     "data": {
      "image/png": "[encoded data removed]",
      "text/plain": [
       "<Figure size 961.361x800 with 12 Axes>"
      ]
     },
     "metadata": {},
     "output_type": "display_data"
    }
   ],
   "source": [
    "g = sns.relplot(\n",
    "    data=ventas_ipc,\n",
    "    x=\"Fecha\", y=\"Ventas\", col=\"Subrubro\", hue=\"Modelo\",\n",
    "    kind=\"line\", linewidth=2, zorder=5,\n",
    "    col_wrap=3, height=2, aspect=1.5, legend=True,\n",
    "    facet_kws=dict(sharey=False)\n",
    ")\n",
    "\n",
    "# Iterate over each subplot to customize further\n",
    "for subrubro, ax in g.axes_dict.items():\n",
    "\n",
    "    # Add the title as an annotation within the plot\n",
    "    ax.text(.5, .95, subrubro, transform=ax.transAxes)\n",
    "\n",
    "# Reduce the frequency of the x axis ticks\n",
    "ax.set_xticks(ax.get_xticks()[::2])\n",
    "#ax.set_xticklabels(ax.get_xticklabels(), rotation=45)\n",
    "plt.xticks(rotation=45, ha='right')\n",
    "\n",
    "g.set_titles(\"\")\n",
    "g.set_axis_labels(\"\", \"Ventas\")    \n",
    "#g.tight_layout()"
   ]
  },
  {
   "cell_type": "markdown",
   "metadata": {},
   "source": [
    "Generamos `ventas_cure` con los siguientes criterios:\n",
    "- quedarnos sólo con los últimos meses de datos\n",
    "- eliminar el subrubro \"Mantenimiento\" porque no tien la mayoría de los valores de Modelo=1"
   ]
  },
  {
   "cell_type": "code",
   "execution_count": 6,
   "metadata": {},
   "outputs": [
    {
     "name": "stdout",
     "output_type": "stream",
     "text": [
      "Fecha de corte para los últimos 6 meses: 2021-12-01 00:00:00\n"
     ]
    },
    {
     "data": {
      "text/html": [
       "<div>\n",
       "<style scoped>\n",
       "    .dataframe tbody tr th:only-of-type {\n",
       "        vertical-align: middle;\n",
       "    }\n",
       "\n",
       "    .dataframe tbody tr th {\n",
       "        vertical-align: top;\n",
       "    }\n",
       "\n",
       "    .dataframe thead th {\n",
       "        text-align: right;\n",
       "    }\n",
       "</style>\n",
       "<table border=\"1\" class=\"dataframe\">\n",
       "  <thead>\n",
       "    <tr style=\"text-align: right;\">\n",
       "      <th></th>\n",
       "      <th>index</th>\n",
       "      <th>Unnamed: 0</th>\n",
       "      <th>ID</th>\n",
       "      <th>Omega</th>\n",
       "      <th>Subrubro</th>\n",
       "      <th>Trat_Fisc</th>\n",
       "      <th>Fecha</th>\n",
       "      <th>Deposito</th>\n",
       "      <th>Ventas</th>\n",
       "      <th>Alicuota</th>\n",
       "      <th>Comision</th>\n",
       "      <th>Modelo</th>\n",
       "    </tr>\n",
       "  </thead>\n",
       "  <tbody>\n",
       "    <tr>\n",
       "      <th>0</th>\n",
       "      <td>312325</td>\n",
       "      <td>312360</td>\n",
       "      <td>1663</td>\n",
       "      <td>1</td>\n",
       "      <td>Com. Varios</td>\n",
       "      <td>Alic.Agrav</td>\n",
       "      <td>2021-12-01</td>\n",
       "      <td>99</td>\n",
       "      <td>-1.085139e+07</td>\n",
       "      <td>6.50</td>\n",
       "      <td>-705340.545584</td>\n",
       "      <td>0</td>\n",
       "    </tr>\n",
       "    <tr>\n",
       "      <th>1</th>\n",
       "      <td>312326</td>\n",
       "      <td>312361</td>\n",
       "      <td>564</td>\n",
       "      <td>1</td>\n",
       "      <td>Miscelaneo</td>\n",
       "      <td>0</td>\n",
       "      <td>2021-12-01</td>\n",
       "      <td>79</td>\n",
       "      <td>-2.100395e+06</td>\n",
       "      <td>0.05</td>\n",
       "      <td>-105019.750179</td>\n",
       "      <td>0</td>\n",
       "    </tr>\n",
       "    <tr>\n",
       "      <th>2</th>\n",
       "      <td>312327</td>\n",
       "      <td>312362</td>\n",
       "      <td>677</td>\n",
       "      <td>1</td>\n",
       "      <td>Venta Agrop.</td>\n",
       "      <td>0</td>\n",
       "      <td>2021-12-01</td>\n",
       "      <td>5</td>\n",
       "      <td>-9.130507e+05</td>\n",
       "      <td>0.02</td>\n",
       "      <td>-18261.011867</td>\n",
       "      <td>0</td>\n",
       "    </tr>\n",
       "    <tr>\n",
       "      <th>3</th>\n",
       "      <td>312328</td>\n",
       "      <td>312363</td>\n",
       "      <td>1228</td>\n",
       "      <td>1</td>\n",
       "      <td>Miscelaneo</td>\n",
       "      <td>Alic.Agrav</td>\n",
       "      <td>2021-12-01</td>\n",
       "      <td>83</td>\n",
       "      <td>-1.283941e+05</td>\n",
       "      <td>5.00</td>\n",
       "      <td>-6419.705094</td>\n",
       "      <td>0</td>\n",
       "    </tr>\n",
       "    <tr>\n",
       "      <th>4</th>\n",
       "      <td>312329</td>\n",
       "      <td>312364</td>\n",
       "      <td>3059</td>\n",
       "      <td>1</td>\n",
       "      <td>Miscelaneo</td>\n",
       "      <td>Alic.Agrav</td>\n",
       "      <td>2021-12-01</td>\n",
       "      <td>169</td>\n",
       "      <td>-9.964390e+04</td>\n",
       "      <td>5.00</td>\n",
       "      <td>-4982.198183</td>\n",
       "      <td>0</td>\n",
       "    </tr>\n",
       "  </tbody>\n",
       "</table>\n",
       "</div>"
      ],
      "text/plain": [
       "    index  Unnamed: 0    ID  Omega      Subrubro   Trat_Fisc      Fecha   \n",
       "0  312325      312360  1663      1   Com. Varios  Alic.Agrav 2021-12-01  \\\n",
       "1  312326      312361   564      1    Miscelaneo           0 2021-12-01   \n",
       "2  312327      312362   677      1  Venta Agrop.           0 2021-12-01   \n",
       "3  312328      312363  1228      1    Miscelaneo  Alic.Agrav 2021-12-01   \n",
       "4  312329      312364  3059      1    Miscelaneo  Alic.Agrav 2021-12-01   \n",
       "\n",
       "   Deposito        Ventas  Alicuota       Comision  Modelo  \n",
       "0        99 -1.085139e+07      6.50 -705340.545584       0  \n",
       "1        79 -2.100395e+06      0.05 -105019.750179       0  \n",
       "2         5 -9.130507e+05      0.02  -18261.011867       0  \n",
       "3        83 -1.283941e+05      5.00   -6419.705094       0  \n",
       "4       169 -9.964390e+04      5.00   -4982.198183       0  "
      ]
     },
     "execution_count": 6,
     "metadata": {},
     "output_type": "execute_result"
    }
   ],
   "source": [
    "meses = 6\n",
    "fecha_corte = ventas_ipc[\"Fecha\"].max() - pd.DateOffset(months=meses)\n",
    "print (f'Fecha de corte para los últimos {meses} meses: {fecha_corte}')\n",
    "\n",
    "ventas_cure = ventas_ipc[(ventas_ipc['Fecha'] >= fecha_corte) & \n",
    "                         (ventas_ipc['Subrubro'] != 'Mantenimiento')]\\\n",
    "                             .reset_index().copy()\n",
    "ventas_cure.head()"
   ]
  },
  {
   "cell_type": "markdown",
   "metadata": {},
   "source": [
    "Generamos `ventas_cure_lean` dropeando algunas columnas que por ahora se ignorarán para caracterizar a cada vendedor"
   ]
  },
  {
   "cell_type": "code",
   "execution_count": 22,
   "metadata": {},
   "outputs": [
    {
     "data": {
      "text/html": [
       "<div>\n",
       "<style scoped>\n",
       "    .dataframe tbody tr th:only-of-type {\n",
       "        vertical-align: middle;\n",
       "    }\n",
       "\n",
       "    .dataframe tbody tr th {\n",
       "        vertical-align: top;\n",
       "    }\n",
       "\n",
       "    .dataframe thead th {\n",
       "        text-align: right;\n",
       "    }\n",
       "</style>\n",
       "<table border=\"1\" class=\"dataframe\">\n",
       "  <thead>\n",
       "    <tr style=\"text-align: right;\">\n",
       "      <th></th>\n",
       "      <th>index</th>\n",
       "      <th>Unnamed: 0</th>\n",
       "      <th>ID</th>\n",
       "      <th>Omega</th>\n",
       "      <th>Subrubro</th>\n",
       "      <th>Trat_Fisc</th>\n",
       "      <th>Fecha</th>\n",
       "      <th>Deposito</th>\n",
       "      <th>Ventas</th>\n",
       "      <th>Alicuota</th>\n",
       "      <th>Comision</th>\n",
       "      <th>Modelo</th>\n",
       "    </tr>\n",
       "  </thead>\n",
       "  <tbody>\n",
       "    <tr>\n",
       "      <th>0</th>\n",
       "      <td>312325</td>\n",
       "      <td>312360</td>\n",
       "      <td>1663</td>\n",
       "      <td>1</td>\n",
       "      <td>Com. Varios</td>\n",
       "      <td>Alic.Agrav</td>\n",
       "      <td>2021-12-01</td>\n",
       "      <td>99</td>\n",
       "      <td>-1.085139e+07</td>\n",
       "      <td>6.50</td>\n",
       "      <td>-7.053405e+05</td>\n",
       "      <td>0</td>\n",
       "    </tr>\n",
       "    <tr>\n",
       "      <th>1</th>\n",
       "      <td>312326</td>\n",
       "      <td>312361</td>\n",
       "      <td>564</td>\n",
       "      <td>1</td>\n",
       "      <td>Miscelaneo</td>\n",
       "      <td>0</td>\n",
       "      <td>2021-12-01</td>\n",
       "      <td>79</td>\n",
       "      <td>-2.100395e+06</td>\n",
       "      <td>0.05</td>\n",
       "      <td>-1.050198e+05</td>\n",
       "      <td>0</td>\n",
       "    </tr>\n",
       "    <tr>\n",
       "      <th>2</th>\n",
       "      <td>312327</td>\n",
       "      <td>312362</td>\n",
       "      <td>677</td>\n",
       "      <td>1</td>\n",
       "      <td>Venta Agrop.</td>\n",
       "      <td>0</td>\n",
       "      <td>2021-12-01</td>\n",
       "      <td>5</td>\n",
       "      <td>-9.130507e+05</td>\n",
       "      <td>0.02</td>\n",
       "      <td>-1.826101e+04</td>\n",
       "      <td>0</td>\n",
       "    </tr>\n",
       "    <tr>\n",
       "      <th>3</th>\n",
       "      <td>312328</td>\n",
       "      <td>312363</td>\n",
       "      <td>1228</td>\n",
       "      <td>1</td>\n",
       "      <td>Miscelaneo</td>\n",
       "      <td>Alic.Agrav</td>\n",
       "      <td>2021-12-01</td>\n",
       "      <td>83</td>\n",
       "      <td>-1.283941e+05</td>\n",
       "      <td>5.00</td>\n",
       "      <td>-6.419705e+03</td>\n",
       "      <td>0</td>\n",
       "    </tr>\n",
       "    <tr>\n",
       "      <th>4</th>\n",
       "      <td>312329</td>\n",
       "      <td>312364</td>\n",
       "      <td>3059</td>\n",
       "      <td>1</td>\n",
       "      <td>Miscelaneo</td>\n",
       "      <td>Alic.Agrav</td>\n",
       "      <td>2021-12-01</td>\n",
       "      <td>169</td>\n",
       "      <td>-9.964390e+04</td>\n",
       "      <td>5.00</td>\n",
       "      <td>-4.982198e+03</td>\n",
       "      <td>0</td>\n",
       "    </tr>\n",
       "    <tr>\n",
       "      <th>...</th>\n",
       "      <td>...</td>\n",
       "      <td>...</td>\n",
       "      <td>...</td>\n",
       "      <td>...</td>\n",
       "      <td>...</td>\n",
       "      <td>...</td>\n",
       "      <td>...</td>\n",
       "      <td>...</td>\n",
       "      <td>...</td>\n",
       "      <td>...</td>\n",
       "      <td>...</td>\n",
       "      <td>...</td>\n",
       "    </tr>\n",
       "    <tr>\n",
       "      <th>64939</th>\n",
       "      <td>378661</td>\n",
       "      <td>378703</td>\n",
       "      <td>815</td>\n",
       "      <td>1</td>\n",
       "      <td>Supermercados</td>\n",
       "      <td>0</td>\n",
       "      <td>2022-06-01</td>\n",
       "      <td>8</td>\n",
       "      <td>1.567422e+09</td>\n",
       "      <td>0.05</td>\n",
       "      <td>7.837112e+07</td>\n",
       "      <td>0</td>\n",
       "    </tr>\n",
       "    <tr>\n",
       "      <th>64940</th>\n",
       "      <td>378662</td>\n",
       "      <td>378704</td>\n",
       "      <td>1098</td>\n",
       "      <td>1</td>\n",
       "      <td>Supermercados</td>\n",
       "      <td>Alic.Agrav</td>\n",
       "      <td>2022-06-01</td>\n",
       "      <td>130</td>\n",
       "      <td>1.732460e+09</td>\n",
       "      <td>5.00</td>\n",
       "      <td>8.662302e+07</td>\n",
       "      <td>0</td>\n",
       "    </tr>\n",
       "    <tr>\n",
       "      <th>64941</th>\n",
       "      <td>378663</td>\n",
       "      <td>378705</td>\n",
       "      <td>1091</td>\n",
       "      <td>1</td>\n",
       "      <td>Supermercados</td>\n",
       "      <td>Alic.Agrav</td>\n",
       "      <td>2022-06-01</td>\n",
       "      <td>130</td>\n",
       "      <td>2.240194e+09</td>\n",
       "      <td>5.00</td>\n",
       "      <td>1.120097e+08</td>\n",
       "      <td>0</td>\n",
       "    </tr>\n",
       "    <tr>\n",
       "      <th>64942</th>\n",
       "      <td>378664</td>\n",
       "      <td>378706</td>\n",
       "      <td>2862</td>\n",
       "      <td>1</td>\n",
       "      <td>Venta Agrop.</td>\n",
       "      <td>Alic.Agrav</td>\n",
       "      <td>2022-06-01</td>\n",
       "      <td>5</td>\n",
       "      <td>2.631098e+09</td>\n",
       "      <td>3.00</td>\n",
       "      <td>7.893293e+07</td>\n",
       "      <td>0</td>\n",
       "    </tr>\n",
       "    <tr>\n",
       "      <th>64943</th>\n",
       "      <td>378665</td>\n",
       "      <td>378707</td>\n",
       "      <td>2794</td>\n",
       "      <td>1</td>\n",
       "      <td>Vehiculos</td>\n",
       "      <td>Esp.1</td>\n",
       "      <td>2022-06-01</td>\n",
       "      <td>45</td>\n",
       "      <td>4.697258e+09</td>\n",
       "      <td>5.00</td>\n",
       "      <td>2.348629e+08</td>\n",
       "      <td>0</td>\n",
       "    </tr>\n",
       "  </tbody>\n",
       "</table>\n",
       "<p>64944 rows × 12 columns</p>\n",
       "</div>"
      ],
      "text/plain": [
       "        index  Unnamed: 0    ID  Omega       Subrubro   Trat_Fisc      Fecha   \n",
       "0      312325      312360  1663      1    Com. Varios  Alic.Agrav 2021-12-01  \\\n",
       "1      312326      312361   564      1     Miscelaneo           0 2021-12-01   \n",
       "2      312327      312362   677      1   Venta Agrop.           0 2021-12-01   \n",
       "3      312328      312363  1228      1     Miscelaneo  Alic.Agrav 2021-12-01   \n",
       "4      312329      312364  3059      1     Miscelaneo  Alic.Agrav 2021-12-01   \n",
       "...       ...         ...   ...    ...            ...         ...        ...   \n",
       "64939  378661      378703   815      1  Supermercados           0 2022-06-01   \n",
       "64940  378662      378704  1098      1  Supermercados  Alic.Agrav 2022-06-01   \n",
       "64941  378663      378705  1091      1  Supermercados  Alic.Agrav 2022-06-01   \n",
       "64942  378664      378706  2862      1   Venta Agrop.  Alic.Agrav 2022-06-01   \n",
       "64943  378665      378707  2794      1      Vehiculos       Esp.1 2022-06-01   \n",
       "\n",
       "       Deposito        Ventas  Alicuota      Comision  Modelo  \n",
       "0            99 -1.085139e+07      6.50 -7.053405e+05       0  \n",
       "1            79 -2.100395e+06      0.05 -1.050198e+05       0  \n",
       "2             5 -9.130507e+05      0.02 -1.826101e+04       0  \n",
       "3            83 -1.283941e+05      5.00 -6.419705e+03       0  \n",
       "4           169 -9.964390e+04      5.00 -4.982198e+03       0  \n",
       "...         ...           ...       ...           ...     ...  \n",
       "64939         8  1.567422e+09      0.05  7.837112e+07       0  \n",
       "64940       130  1.732460e+09      5.00  8.662302e+07       0  \n",
       "64941       130  2.240194e+09      5.00  1.120097e+08       0  \n",
       "64942         5  2.631098e+09      3.00  7.893293e+07       0  \n",
       "64943        45  4.697258e+09      5.00  2.348629e+08       0  \n",
       "\n",
       "[64944 rows x 12 columns]"
      ]
     },
     "execution_count": 22,
     "metadata": {},
     "output_type": "execute_result"
    }
   ],
   "source": [
    "ventas_cure"
   ]
  },
  {
   "cell_type": "code",
   "execution_count": 27,
   "metadata": {},
   "outputs": [
    {
     "data": {
      "text/html": [
       "<div>\n",
       "<style scoped>\n",
       "    .dataframe tbody tr th:only-of-type {\n",
       "        vertical-align: middle;\n",
       "    }\n",
       "\n",
       "    .dataframe tbody tr th {\n",
       "        vertical-align: top;\n",
       "    }\n",
       "\n",
       "    .dataframe thead th {\n",
       "        text-align: right;\n",
       "    }\n",
       "</style>\n",
       "<table border=\"1\" class=\"dataframe\">\n",
       "  <thead>\n",
       "    <tr style=\"text-align: right;\">\n",
       "      <th></th>\n",
       "      <th>index</th>\n",
       "      <th>Unnamed: 0</th>\n",
       "      <th>ID</th>\n",
       "      <th>Omega</th>\n",
       "      <th>Subrubro</th>\n",
       "      <th>Trat_Fisc</th>\n",
       "      <th>Fecha</th>\n",
       "      <th>Deposito</th>\n",
       "      <th>Ventas</th>\n",
       "      <th>Alicuota</th>\n",
       "      <th>Comision</th>\n",
       "      <th>Modelo</th>\n",
       "    </tr>\n",
       "  </thead>\n",
       "  <tbody>\n",
       "    <tr>\n",
       "      <th>0</th>\n",
       "      <td>312325</td>\n",
       "      <td>312360</td>\n",
       "      <td>1663</td>\n",
       "      <td>1</td>\n",
       "      <td>Com. Varios</td>\n",
       "      <td>Alic.Agrav</td>\n",
       "      <td>2021-12-01</td>\n",
       "      <td>99</td>\n",
       "      <td>-1.085139e+07</td>\n",
       "      <td>6.500</td>\n",
       "      <td>-705340.545584</td>\n",
       "      <td>0</td>\n",
       "    </tr>\n",
       "    <tr>\n",
       "      <th>1</th>\n",
       "      <td>327624</td>\n",
       "      <td>327661</td>\n",
       "      <td>1663</td>\n",
       "      <td>1</td>\n",
       "      <td>Com. Varios</td>\n",
       "      <td>Alic.Agrav</td>\n",
       "      <td>2022-01-01</td>\n",
       "      <td>99</td>\n",
       "      <td>1.505054e+06</td>\n",
       "      <td>6.500</td>\n",
       "      <td>97828.537883</td>\n",
       "      <td>0</td>\n",
       "    </tr>\n",
       "    <tr>\n",
       "      <th>2</th>\n",
       "      <td>338947</td>\n",
       "      <td>338985</td>\n",
       "      <td>1663</td>\n",
       "      <td>1</td>\n",
       "      <td>Com. Varios</td>\n",
       "      <td>Alic.Agrav</td>\n",
       "      <td>2022-02-01</td>\n",
       "      <td>99</td>\n",
       "      <td>1.102083e+07</td>\n",
       "      <td>6.500</td>\n",
       "      <td>716354.089890</td>\n",
       "      <td>0</td>\n",
       "    </tr>\n",
       "    <tr>\n",
       "      <th>3</th>\n",
       "      <td>348377</td>\n",
       "      <td>348416</td>\n",
       "      <td>1663</td>\n",
       "      <td>1</td>\n",
       "      <td>Com. Varios</td>\n",
       "      <td>Alic.Agrav</td>\n",
       "      <td>2022-03-01</td>\n",
       "      <td>99</td>\n",
       "      <td>1.239460e+07</td>\n",
       "      <td>6.500</td>\n",
       "      <td>805649.106306</td>\n",
       "      <td>0</td>\n",
       "    </tr>\n",
       "    <tr>\n",
       "      <th>4</th>\n",
       "      <td>357364</td>\n",
       "      <td>357404</td>\n",
       "      <td>1663</td>\n",
       "      <td>1</td>\n",
       "      <td>Com. Varios</td>\n",
       "      <td>Alic.Agrav</td>\n",
       "      <td>2022-04-01</td>\n",
       "      <td>99</td>\n",
       "      <td>7.635500e+06</td>\n",
       "      <td>6.500</td>\n",
       "      <td>496307.492953</td>\n",
       "      <td>0</td>\n",
       "    </tr>\n",
       "    <tr>\n",
       "      <th>...</th>\n",
       "      <td>...</td>\n",
       "      <td>...</td>\n",
       "      <td>...</td>\n",
       "      <td>...</td>\n",
       "      <td>...</td>\n",
       "      <td>...</td>\n",
       "      <td>...</td>\n",
       "      <td>...</td>\n",
       "      <td>...</td>\n",
       "      <td>...</td>\n",
       "      <td>...</td>\n",
       "      <td>...</td>\n",
       "    </tr>\n",
       "    <tr>\n",
       "      <th>53534</th>\n",
       "      <td>374007</td>\n",
       "      <td>374049</td>\n",
       "      <td>1727</td>\n",
       "      <td>1</td>\n",
       "      <td>Venta Agrop.</td>\n",
       "      <td>Norm</td>\n",
       "      <td>2022-06-01</td>\n",
       "      <td>5</td>\n",
       "      <td>3.190505e+05</td>\n",
       "      <td>2.500</td>\n",
       "      <td>7976.260000</td>\n",
       "      <td>0</td>\n",
       "    </tr>\n",
       "    <tr>\n",
       "      <th>53535</th>\n",
       "      <td>375030</td>\n",
       "      <td>375072</td>\n",
       "      <td>2720</td>\n",
       "      <td>1</td>\n",
       "      <td>Com. Varios</td>\n",
       "      <td>Alic.Agrav</td>\n",
       "      <td>2022-06-01</td>\n",
       "      <td>99</td>\n",
       "      <td>1.933866e+06</td>\n",
       "      <td>6.500</td>\n",
       "      <td>125701.310000</td>\n",
       "      <td>0</td>\n",
       "    </tr>\n",
       "    <tr>\n",
       "      <th>53536</th>\n",
       "      <td>375212</td>\n",
       "      <td>375254</td>\n",
       "      <td>111</td>\n",
       "      <td>1</td>\n",
       "      <td>Vehiculos</td>\n",
       "      <td>0</td>\n",
       "      <td>2022-06-01</td>\n",
       "      <td>62</td>\n",
       "      <td>2.533936e+06</td>\n",
       "      <td>0.050</td>\n",
       "      <td>126696.800000</td>\n",
       "      <td>0</td>\n",
       "    </tr>\n",
       "    <tr>\n",
       "      <th>53537</th>\n",
       "      <td>375555</td>\n",
       "      <td>375597</td>\n",
       "      <td>559</td>\n",
       "      <td>1</td>\n",
       "      <td>Com. Varios</td>\n",
       "      <td>0</td>\n",
       "      <td>2022-06-01</td>\n",
       "      <td>99</td>\n",
       "      <td>3.732638e+06</td>\n",
       "      <td>0.065</td>\n",
       "      <td>242621.450000</td>\n",
       "      <td>0</td>\n",
       "    </tr>\n",
       "    <tr>\n",
       "      <th>53538</th>\n",
       "      <td>375810</td>\n",
       "      <td>375852</td>\n",
       "      <td>716</td>\n",
       "      <td>1</td>\n",
       "      <td>Com. Varios</td>\n",
       "      <td>NaN</td>\n",
       "      <td>2022-06-01</td>\n",
       "      <td>97</td>\n",
       "      <td>4.897639e+06</td>\n",
       "      <td>0.035</td>\n",
       "      <td>171417.350000</td>\n",
       "      <td>0</td>\n",
       "    </tr>\n",
       "  </tbody>\n",
       "</table>\n",
       "<p>53539 rows × 12 columns</p>\n",
       "</div>"
      ],
      "text/plain": [
       "        index  Unnamed: 0    ID  Omega      Subrubro   Trat_Fisc      Fecha   \n",
       "0      312325      312360  1663      1   Com. Varios  Alic.Agrav 2021-12-01  \\\n",
       "1      327624      327661  1663      1   Com. Varios  Alic.Agrav 2022-01-01   \n",
       "2      338947      338985  1663      1   Com. Varios  Alic.Agrav 2022-02-01   \n",
       "3      348377      348416  1663      1   Com. Varios  Alic.Agrav 2022-03-01   \n",
       "4      357364      357404  1663      1   Com. Varios  Alic.Agrav 2022-04-01   \n",
       "...       ...         ...   ...    ...           ...         ...        ...   \n",
       "53534  374007      374049  1727      1  Venta Agrop.        Norm 2022-06-01   \n",
       "53535  375030      375072  2720      1   Com. Varios  Alic.Agrav 2022-06-01   \n",
       "53536  375212      375254   111      1     Vehiculos           0 2022-06-01   \n",
       "53537  375555      375597   559      1   Com. Varios           0 2022-06-01   \n",
       "53538  375810      375852   716      1   Com. Varios         NaN 2022-06-01   \n",
       "\n",
       "       Deposito        Ventas  Alicuota       Comision  Modelo  \n",
       "0            99 -1.085139e+07     6.500 -705340.545584       0  \n",
       "1            99  1.505054e+06     6.500   97828.537883       0  \n",
       "2            99  1.102083e+07     6.500  716354.089890       0  \n",
       "3            99  1.239460e+07     6.500  805649.106306       0  \n",
       "4            99  7.635500e+06     6.500  496307.492953       0  \n",
       "...         ...           ...       ...            ...     ...  \n",
       "53534         5  3.190505e+05     2.500    7976.260000       0  \n",
       "53535        99  1.933866e+06     6.500  125701.310000       0  \n",
       "53536        62  2.533936e+06     0.050  126696.800000       0  \n",
       "53537        99  3.732638e+06     0.065  242621.450000       0  \n",
       "53538        97  4.897639e+06     0.035  171417.350000       0  \n",
       "\n",
       "[53539 rows x 12 columns]"
      ]
     },
     "execution_count": 27,
     "metadata": {},
     "output_type": "execute_result"
    }
   ],
   "source": [
    "ventas_cure_2 = eliminar_combinacion_vacios(ventas_cure, cols_combina=['ID', 'Subrubro'], col_buscar_vacio='Ventas')\n",
    "ventas_cure_2"
   ]
  },
  {
   "cell_type": "code",
   "execution_count": 38,
   "metadata": {},
   "outputs": [
    {
     "data": {
      "text/html": [
       "<div>\n",
       "<style scoped>\n",
       "    .dataframe tbody tr th:only-of-type {\n",
       "        vertical-align: middle;\n",
       "    }\n",
       "\n",
       "    .dataframe tbody tr th {\n",
       "        vertical-align: top;\n",
       "    }\n",
       "\n",
       "    .dataframe thead th {\n",
       "        text-align: right;\n",
       "    }\n",
       "</style>\n",
       "<table border=\"1\" class=\"dataframe\">\n",
       "  <thead>\n",
       "    <tr style=\"text-align: right;\">\n",
       "      <th></th>\n",
       "      <th>ID</th>\n",
       "      <th>Subrubro</th>\n",
       "      <th>Ventas</th>\n",
       "      <th>Alicuota</th>\n",
       "      <th>Comision</th>\n",
       "    </tr>\n",
       "  </thead>\n",
       "  <tbody>\n",
       "    <tr>\n",
       "      <th>0</th>\n",
       "      <td>0</td>\n",
       "      <td>Miscelaneo</td>\n",
       "      <td>1.630273e+07</td>\n",
       "      <td>0.047500</td>\n",
       "      <td>7.743796e+05</td>\n",
       "    </tr>\n",
       "    <tr>\n",
       "      <th>1</th>\n",
       "      <td>1</td>\n",
       "      <td>Miscelaneo</td>\n",
       "      <td>1.784733e+08</td>\n",
       "      <td>0.047500</td>\n",
       "      <td>8.477484e+06</td>\n",
       "    </tr>\n",
       "    <tr>\n",
       "      <th>2</th>\n",
       "      <td>2</td>\n",
       "      <td>Miscelaneo</td>\n",
       "      <td>4.808872e+07</td>\n",
       "      <td>0.047500</td>\n",
       "      <td>2.284214e+06</td>\n",
       "    </tr>\n",
       "    <tr>\n",
       "      <th>3</th>\n",
       "      <td>4</td>\n",
       "      <td>Gondola</td>\n",
       "      <td>7.600501e+07</td>\n",
       "      <td>0.047500</td>\n",
       "      <td>3.610238e+06</td>\n",
       "    </tr>\n",
       "    <tr>\n",
       "      <th>4</th>\n",
       "      <td>5</td>\n",
       "      <td>Com. Varios</td>\n",
       "      <td>2.193790e+06</td>\n",
       "      <td>3.726000</td>\n",
       "      <td>1.425963e+05</td>\n",
       "    </tr>\n",
       "    <tr>\n",
       "      <th>...</th>\n",
       "      <td>...</td>\n",
       "      <td>...</td>\n",
       "      <td>...</td>\n",
       "      <td>...</td>\n",
       "      <td>...</td>\n",
       "    </tr>\n",
       "    <tr>\n",
       "      <th>4164</th>\n",
       "      <td>3130</td>\n",
       "      <td>Miscelaneo</td>\n",
       "      <td>1.759413e+07</td>\n",
       "      <td>0.047500</td>\n",
       "      <td>8.357214e+05</td>\n",
       "    </tr>\n",
       "    <tr>\n",
       "      <th>4165</th>\n",
       "      <td>3131</td>\n",
       "      <td>Com. Varios</td>\n",
       "      <td>5.975803e+04</td>\n",
       "      <td>0.035000</td>\n",
       "      <td>2.091530e+03</td>\n",
       "    </tr>\n",
       "    <tr>\n",
       "      <th>4166</th>\n",
       "      <td>3134</td>\n",
       "      <td>Gondola</td>\n",
       "      <td>3.627312e+07</td>\n",
       "      <td>4.791667</td>\n",
       "      <td>1.813656e+06</td>\n",
       "    </tr>\n",
       "    <tr>\n",
       "      <th>4167</th>\n",
       "      <td>3135</td>\n",
       "      <td>Vehiculos</td>\n",
       "      <td>9.985510e+05</td>\n",
       "      <td>4.750000</td>\n",
       "      <td>4.743117e+04</td>\n",
       "    </tr>\n",
       "    <tr>\n",
       "      <th>4168</th>\n",
       "      <td>3139</td>\n",
       "      <td>Miscelaneo</td>\n",
       "      <td>6.130399e+05</td>\n",
       "      <td>4.750000</td>\n",
       "      <td>2.911939e+04</td>\n",
       "    </tr>\n",
       "  </tbody>\n",
       "</table>\n",
       "<p>4169 rows × 5 columns</p>\n",
       "</div>"
      ],
      "text/plain": [
       "        ID     Subrubro        Ventas  Alicuota      Comision\n",
       "0        0   Miscelaneo  1.630273e+07  0.047500  7.743796e+05\n",
       "1        1   Miscelaneo  1.784733e+08  0.047500  8.477484e+06\n",
       "2        2   Miscelaneo  4.808872e+07  0.047500  2.284214e+06\n",
       "3        4      Gondola  7.600501e+07  0.047500  3.610238e+06\n",
       "4        5  Com. Varios  2.193790e+06  3.726000  1.425963e+05\n",
       "...    ...          ...           ...       ...           ...\n",
       "4164  3130   Miscelaneo  1.759413e+07  0.047500  8.357214e+05\n",
       "4165  3131  Com. Varios  5.975803e+04  0.035000  2.091530e+03\n",
       "4166  3134      Gondola  3.627312e+07  4.791667  1.813656e+06\n",
       "4167  3135    Vehiculos  9.985510e+05  4.750000  4.743117e+04\n",
       "4168  3139   Miscelaneo  6.130399e+05  4.750000  2.911939e+04\n",
       "\n",
       "[4169 rows x 5 columns]"
      ]
     },
     "execution_count": 38,
     "metadata": {},
     "output_type": "execute_result"
    }
   ],
   "source": [
    "ventas_cure_por_id_subrubro = ventas_cure_2.groupby(['ID', 'Subrubro']).agg({'Ventas':'sum', \n",
    "                                                                                'Alicuota':'mean', \n",
    "                                                                                'Comision':'sum'}).reset_index()\n",
    "ventas_cure_por_id_subrubro"
   ]
  },
  {
   "cell_type": "code",
   "execution_count": 7,
   "metadata": {},
   "outputs": [
    {
     "data": {
      "text/html": [
       "<div>\n",
       "<style scoped>\n",
       "    .dataframe tbody tr th:only-of-type {\n",
       "        vertical-align: middle;\n",
       "    }\n",
       "\n",
       "    .dataframe tbody tr th {\n",
       "        vertical-align: top;\n",
       "    }\n",
       "\n",
       "    .dataframe thead th {\n",
       "        text-align: right;\n",
       "    }\n",
       "</style>\n",
       "<table border=\"1\" class=\"dataframe\">\n",
       "  <thead>\n",
       "    <tr style=\"text-align: right;\">\n",
       "      <th></th>\n",
       "      <th>Unnamed: 0</th>\n",
       "      <th>ID</th>\n",
       "      <th>Subrubro</th>\n",
       "      <th>Fecha</th>\n",
       "      <th>Ventas</th>\n",
       "      <th>Alicuota</th>\n",
       "      <th>Comision</th>\n",
       "      <th>Modelo</th>\n",
       "    </tr>\n",
       "  </thead>\n",
       "  <tbody>\n",
       "    <tr>\n",
       "      <th>6621</th>\n",
       "      <td>319160</td>\n",
       "      <td>0</td>\n",
       "      <td>Miscelaneo</td>\n",
       "      <td>2021-12-01</td>\n",
       "      <td>7.057222e+06</td>\n",
       "      <td>0.0475</td>\n",
       "      <td>335218.058535</td>\n",
       "      <td>0</td>\n",
       "    </tr>\n",
       "    <tr>\n",
       "      <th>15254</th>\n",
       "      <td>327969</td>\n",
       "      <td>0</td>\n",
       "      <td>Miscelaneo</td>\n",
       "      <td>2022-01-01</td>\n",
       "      <td>2.315868e+06</td>\n",
       "      <td>0.0475</td>\n",
       "      <td>110003.721087</td>\n",
       "      <td>0</td>\n",
       "    </tr>\n",
       "    <tr>\n",
       "      <th>18868</th>\n",
       "      <td>331637</td>\n",
       "      <td>0</td>\n",
       "      <td>Miscelaneo</td>\n",
       "      <td>2022-02-01</td>\n",
       "      <td>0.000000e+00</td>\n",
       "      <td>0.0475</td>\n",
       "      <td>0.000000</td>\n",
       "      <td>0</td>\n",
       "    </tr>\n",
       "    <tr>\n",
       "      <th>33813</th>\n",
       "      <td>346936</td>\n",
       "      <td>0</td>\n",
       "      <td>Miscelaneo</td>\n",
       "      <td>2022-03-01</td>\n",
       "      <td>2.780371e+06</td>\n",
       "      <td>0.0475</td>\n",
       "      <td>132067.640237</td>\n",
       "      <td>0</td>\n",
       "    </tr>\n",
       "    <tr>\n",
       "      <th>43064</th>\n",
       "      <td>356387</td>\n",
       "      <td>0</td>\n",
       "      <td>Miscelaneo</td>\n",
       "      <td>2022-04-01</td>\n",
       "      <td>2.391440e+06</td>\n",
       "      <td>0.0475</td>\n",
       "      <td>113593.411273</td>\n",
       "      <td>0</td>\n",
       "    </tr>\n",
       "    <tr>\n",
       "      <th>...</th>\n",
       "      <td>...</td>\n",
       "      <td>...</td>\n",
       "      <td>...</td>\n",
       "      <td>...</td>\n",
       "      <td>...</td>\n",
       "      <td>...</td>\n",
       "      <td>...</td>\n",
       "      <td>...</td>\n",
       "    </tr>\n",
       "    <tr>\n",
       "      <th>48706</th>\n",
       "      <td>362122</td>\n",
       "      <td>3142</td>\n",
       "      <td>Gondola</td>\n",
       "      <td>2022-05-01</td>\n",
       "      <td>0.000000e+00</td>\n",
       "      <td>3.0000</td>\n",
       "      <td>0.000000</td>\n",
       "      <td>0</td>\n",
       "    </tr>\n",
       "    <tr>\n",
       "      <th>58325</th>\n",
       "      <td>371961</td>\n",
       "      <td>3142</td>\n",
       "      <td>Gondola</td>\n",
       "      <td>2022-06-01</td>\n",
       "      <td>0.000000e+00</td>\n",
       "      <td>3.0000</td>\n",
       "      <td>0.000000</td>\n",
       "      <td>0</td>\n",
       "    </tr>\n",
       "    <tr>\n",
       "      <th>58326</th>\n",
       "      <td>371962</td>\n",
       "      <td>3142</td>\n",
       "      <td>Gondola</td>\n",
       "      <td>2022-06-01</td>\n",
       "      <td>0.000000e+00</td>\n",
       "      <td>3.0000</td>\n",
       "      <td>0.000000</td>\n",
       "      <td>0</td>\n",
       "    </tr>\n",
       "    <tr>\n",
       "      <th>58550</th>\n",
       "      <td>372188</td>\n",
       "      <td>3143</td>\n",
       "      <td>Com. Varios</td>\n",
       "      <td>2022-06-01</td>\n",
       "      <td>0.000000e+00</td>\n",
       "      <td>5.5000</td>\n",
       "      <td>0.000000</td>\n",
       "      <td>0</td>\n",
       "    </tr>\n",
       "    <tr>\n",
       "      <th>59431</th>\n",
       "      <td>373090</td>\n",
       "      <td>3144</td>\n",
       "      <td>Com. Varios</td>\n",
       "      <td>2022-06-01</td>\n",
       "      <td>0.000000e+00</td>\n",
       "      <td>5.5000</td>\n",
       "      <td>0.000000</td>\n",
       "      <td>0</td>\n",
       "    </tr>\n",
       "  </tbody>\n",
       "</table>\n",
       "<p>64944 rows × 8 columns</p>\n",
       "</div>"
      ],
      "text/plain": [
       "       Unnamed: 0    ID     Subrubro      Fecha        Ventas  Alicuota   \n",
       "6621       319160     0   Miscelaneo 2021-12-01  7.057222e+06    0.0475  \\\n",
       "15254      327969     0   Miscelaneo 2022-01-01  2.315868e+06    0.0475   \n",
       "18868      331637     0   Miscelaneo 2022-02-01  0.000000e+00    0.0475   \n",
       "33813      346936     0   Miscelaneo 2022-03-01  2.780371e+06    0.0475   \n",
       "43064      356387     0   Miscelaneo 2022-04-01  2.391440e+06    0.0475   \n",
       "...           ...   ...          ...        ...           ...       ...   \n",
       "48706      362122  3142      Gondola 2022-05-01  0.000000e+00    3.0000   \n",
       "58325      371961  3142      Gondola 2022-06-01  0.000000e+00    3.0000   \n",
       "58326      371962  3142      Gondola 2022-06-01  0.000000e+00    3.0000   \n",
       "58550      372188  3143  Com. Varios 2022-06-01  0.000000e+00    5.5000   \n",
       "59431      373090  3144  Com. Varios 2022-06-01  0.000000e+00    5.5000   \n",
       "\n",
       "            Comision  Modelo  \n",
       "6621   335218.058535       0  \n",
       "15254  110003.721087       0  \n",
       "18868       0.000000       0  \n",
       "33813  132067.640237       0  \n",
       "43064  113593.411273       0  \n",
       "...              ...     ...  \n",
       "48706       0.000000       0  \n",
       "58325       0.000000       0  \n",
       "58326       0.000000       0  \n",
       "58550       0.000000       0  \n",
       "59431       0.000000       0  \n",
       "\n",
       "[64944 rows x 8 columns]"
      ]
     },
     "execution_count": 7,
     "metadata": {},
     "output_type": "execute_result"
    }
   ],
   "source": [
    "ventas_cure_lean = ventas_cure\\\n",
    "                    .drop(columns=['index', 'Omega', 'Trat_Fisc', 'Deposito'])\\\n",
    "                    .sort_values(by=['ID', 'Subrubro', 'Fecha'])\n",
    "\n",
    "ventas_cure_lean\n"
   ]
  },
  {
   "cell_type": "markdown",
   "metadata": {},
   "source": [
    "Vendedores `Modelo=1` que pertenecen a más de un subrubro tienen `ventas=0` en algunos subrubros"
   ]
  },
  {
   "cell_type": "code",
   "execution_count": 8,
   "metadata": {},
   "outputs": [
    {
     "data": {
      "text/plain": [
       "ID\n",
       "220    5\n",
       "493    5\n",
       "577    3\n",
       "498    3\n",
       "308    3\n",
       "800    2\n",
       "571    2\n",
       "602    2\n",
       "496    2\n",
       "492    2\n",
       "733    2\n",
       "575    2\n",
       "893    2\n",
       "859    1\n",
       "860    1\n",
       "Name: Subrubro, dtype: int64"
      ]
     },
     "execution_count": 8,
     "metadata": {},
     "output_type": "execute_result"
    }
   ],
   "source": [
    "# número de subrubros a los que pertenece cada ID Modelo = 1\n",
    "ventas_cure_lean[ventas_cure_lean[\"Modelo\"]==1]\\\n",
    "    .groupby(['ID'])['Subrubro']\\\n",
    "    .nunique()\\\n",
    "    .sort_values(ascending=False).head(15)"
   ]
  },
  {
   "cell_type": "code",
   "execution_count": null,
   "metadata": {},
   "outputs": [],
   "source": [
    "id = 493\n",
    "\n",
    "g = sns.relplot(\n",
    "    data=ventas_cure_lean[ventas_cure_lean['ID'] == id],\n",
    "    x=\"Fecha\", y=\"Ventas\", col=\"Subrubro\",\n",
    "    kind=\"line\", linewidth=2, zorder=5,\n",
    "    col_wrap=3, height=2, aspect=1.5, legend=True,\n",
    "    facet_kws=dict(sharey=False)\n",
    ")\n",
    "\n",
    "# Iterate over each subplot to customize further\n",
    "for subrubro, ax in g.axes_dict.items():\n",
    "\n",
    "    # Add the title as an annotation within the plot\n",
    "    ax.text(.5, .95, subrubro, transform=ax.transAxes)\n",
    "\n",
    "# Reduce the frequency of the x axis ticks\n",
    "ax.set_xticks(ax.get_xticks()[::2])\n",
    "#ax.set_xticklabels(ax.get_xticklabels(), rotation=45)\n",
    "plt.xticks(rotation=45, ha='right')\n",
    "\n",
    "g.set_titles(\"\")\n",
    "g.set_axis_labels(\"\", \"Ventas\")    \n",
    "#g.tight_layout()"
   ]
  },
  {
   "cell_type": "markdown",
   "metadata": {},
   "source": [
    "Eliminamos Subrubros dentro de IDs donde tengan 0 ventas en el periodo estudiado:"
   ]
  },
  {
   "cell_type": "code",
   "execution_count": 10,
   "metadata": {},
   "outputs": [
    {
     "data": {
      "text/html": [
       "<div>\n",
       "<style scoped>\n",
       "    .dataframe tbody tr th:only-of-type {\n",
       "        vertical-align: middle;\n",
       "    }\n",
       "\n",
       "    .dataframe tbody tr th {\n",
       "        vertical-align: top;\n",
       "    }\n",
       "\n",
       "    .dataframe thead th {\n",
       "        text-align: right;\n",
       "    }\n",
       "</style>\n",
       "<table border=\"1\" class=\"dataframe\">\n",
       "  <thead>\n",
       "    <tr style=\"text-align: right;\">\n",
       "      <th></th>\n",
       "      <th>Unnamed: 0</th>\n",
       "      <th>ID</th>\n",
       "      <th>Subrubro</th>\n",
       "      <th>Fecha</th>\n",
       "      <th>Ventas</th>\n",
       "      <th>Alicuota</th>\n",
       "      <th>Comision</th>\n",
       "      <th>Modelo</th>\n",
       "    </tr>\n",
       "  </thead>\n",
       "  <tbody>\n",
       "    <tr>\n",
       "      <th>0</th>\n",
       "      <td>319160</td>\n",
       "      <td>0</td>\n",
       "      <td>Miscelaneo</td>\n",
       "      <td>2021-12-01</td>\n",
       "      <td>7.057222e+06</td>\n",
       "      <td>0.0475</td>\n",
       "      <td>335218.058535</td>\n",
       "      <td>0</td>\n",
       "    </tr>\n",
       "    <tr>\n",
       "      <th>1</th>\n",
       "      <td>327969</td>\n",
       "      <td>0</td>\n",
       "      <td>Miscelaneo</td>\n",
       "      <td>2022-01-01</td>\n",
       "      <td>2.315868e+06</td>\n",
       "      <td>0.0475</td>\n",
       "      <td>110003.721087</td>\n",
       "      <td>0</td>\n",
       "    </tr>\n",
       "    <tr>\n",
       "      <th>2</th>\n",
       "      <td>331637</td>\n",
       "      <td>0</td>\n",
       "      <td>Miscelaneo</td>\n",
       "      <td>2022-02-01</td>\n",
       "      <td>0.000000e+00</td>\n",
       "      <td>0.0475</td>\n",
       "      <td>0.000000</td>\n",
       "      <td>0</td>\n",
       "    </tr>\n",
       "    <tr>\n",
       "      <th>3</th>\n",
       "      <td>346936</td>\n",
       "      <td>0</td>\n",
       "      <td>Miscelaneo</td>\n",
       "      <td>2022-03-01</td>\n",
       "      <td>2.780371e+06</td>\n",
       "      <td>0.0475</td>\n",
       "      <td>132067.640237</td>\n",
       "      <td>0</td>\n",
       "    </tr>\n",
       "    <tr>\n",
       "      <th>4</th>\n",
       "      <td>356387</td>\n",
       "      <td>0</td>\n",
       "      <td>Miscelaneo</td>\n",
       "      <td>2022-04-01</td>\n",
       "      <td>2.391440e+06</td>\n",
       "      <td>0.0475</td>\n",
       "      <td>113593.411273</td>\n",
       "      <td>0</td>\n",
       "    </tr>\n",
       "    <tr>\n",
       "      <th>...</th>\n",
       "      <td>...</td>\n",
       "      <td>...</td>\n",
       "      <td>...</td>\n",
       "      <td>...</td>\n",
       "      <td>...</td>\n",
       "      <td>...</td>\n",
       "      <td>...</td>\n",
       "      <td>...</td>\n",
       "    </tr>\n",
       "    <tr>\n",
       "      <th>53534</th>\n",
       "      <td>365192</td>\n",
       "      <td>3135</td>\n",
       "      <td>Vehiculos</td>\n",
       "      <td>2022-05-01</td>\n",
       "      <td>9.985510e+05</td>\n",
       "      <td>4.7500</td>\n",
       "      <td>47431.169540</td>\n",
       "      <td>0</td>\n",
       "    </tr>\n",
       "    <tr>\n",
       "      <th>53535</th>\n",
       "      <td>371198</td>\n",
       "      <td>3135</td>\n",
       "      <td>Vehiculos</td>\n",
       "      <td>2022-06-01</td>\n",
       "      <td>0.000000e+00</td>\n",
       "      <td>4.7500</td>\n",
       "      <td>0.000000</td>\n",
       "      <td>0</td>\n",
       "    </tr>\n",
       "    <tr>\n",
       "      <th>53536</th>\n",
       "      <td>354932</td>\n",
       "      <td>3139</td>\n",
       "      <td>Miscelaneo</td>\n",
       "      <td>2022-04-01</td>\n",
       "      <td>1.636880e+05</td>\n",
       "      <td>4.7500</td>\n",
       "      <td>7775.177740</td>\n",
       "      <td>0</td>\n",
       "    </tr>\n",
       "    <tr>\n",
       "      <th>53537</th>\n",
       "      <td>364434</td>\n",
       "      <td>3139</td>\n",
       "      <td>Miscelaneo</td>\n",
       "      <td>2022-05-01</td>\n",
       "      <td>2.055295e+05</td>\n",
       "      <td>4.7500</td>\n",
       "      <td>9762.657029</td>\n",
       "      <td>0</td>\n",
       "    </tr>\n",
       "    <tr>\n",
       "      <th>53538</th>\n",
       "      <td>373942</td>\n",
       "      <td>3139</td>\n",
       "      <td>Miscelaneo</td>\n",
       "      <td>2022-06-01</td>\n",
       "      <td>2.438223e+05</td>\n",
       "      <td>4.7500</td>\n",
       "      <td>11581.560000</td>\n",
       "      <td>0</td>\n",
       "    </tr>\n",
       "  </tbody>\n",
       "</table>\n",
       "<p>53539 rows × 8 columns</p>\n",
       "</div>"
      ],
      "text/plain": [
       "       Unnamed: 0    ID    Subrubro      Fecha        Ventas  Alicuota   \n",
       "0          319160     0  Miscelaneo 2021-12-01  7.057222e+06    0.0475  \\\n",
       "1          327969     0  Miscelaneo 2022-01-01  2.315868e+06    0.0475   \n",
       "2          331637     0  Miscelaneo 2022-02-01  0.000000e+00    0.0475   \n",
       "3          346936     0  Miscelaneo 2022-03-01  2.780371e+06    0.0475   \n",
       "4          356387     0  Miscelaneo 2022-04-01  2.391440e+06    0.0475   \n",
       "...           ...   ...         ...        ...           ...       ...   \n",
       "53534      365192  3135   Vehiculos 2022-05-01  9.985510e+05    4.7500   \n",
       "53535      371198  3135   Vehiculos 2022-06-01  0.000000e+00    4.7500   \n",
       "53536      354932  3139  Miscelaneo 2022-04-01  1.636880e+05    4.7500   \n",
       "53537      364434  3139  Miscelaneo 2022-05-01  2.055295e+05    4.7500   \n",
       "53538      373942  3139  Miscelaneo 2022-06-01  2.438223e+05    4.7500   \n",
       "\n",
       "            Comision  Modelo  \n",
       "0      335218.058535       0  \n",
       "1      110003.721087       0  \n",
       "2           0.000000       0  \n",
       "3      132067.640237       0  \n",
       "4      113593.411273       0  \n",
       "...              ...     ...  \n",
       "53534   47431.169540       0  \n",
       "53535       0.000000       0  \n",
       "53536    7775.177740       0  \n",
       "53537    9762.657029       0  \n",
       "53538   11581.560000       0  \n",
       "\n",
       "[53539 rows x 8 columns]"
      ]
     },
     "execution_count": 10,
     "metadata": {},
     "output_type": "execute_result"
    }
   ],
   "source": [
    "ventas_cure_lean = eliminar_combinacion_vacios(ventas_cure_lean, cols_combina=['ID', 'Subrubro'], col_buscar_vacio='Ventas')\n",
    "ventas_cure_lean"
   ]
  },
  {
   "cell_type": "code",
   "execution_count": 13,
   "metadata": {},
   "outputs": [
    {
     "data": {
      "text/html": [
       "<div>\n",
       "<style scoped>\n",
       "    .dataframe tbody tr th:only-of-type {\n",
       "        vertical-align: middle;\n",
       "    }\n",
       "\n",
       "    .dataframe tbody tr th {\n",
       "        vertical-align: top;\n",
       "    }\n",
       "\n",
       "    .dataframe thead th {\n",
       "        text-align: right;\n",
       "    }\n",
       "</style>\n",
       "<table border=\"1\" class=\"dataframe\">\n",
       "  <thead>\n",
       "    <tr style=\"text-align: right;\">\n",
       "      <th></th>\n",
       "      <th>Unnamed: 0</th>\n",
       "      <th>ID</th>\n",
       "      <th>Subrubro</th>\n",
       "      <th>Fecha</th>\n",
       "      <th>Ventas</th>\n",
       "      <th>Alicuota</th>\n",
       "      <th>Comision</th>\n",
       "      <th>Modelo</th>\n",
       "    </tr>\n",
       "  </thead>\n",
       "  <tbody>\n",
       "    <tr>\n",
       "      <th>0</th>\n",
       "      <td>319160</td>\n",
       "      <td>0</td>\n",
       "      <td>Miscelaneo</td>\n",
       "      <td>2021-12-01</td>\n",
       "      <td>7.057222e+06</td>\n",
       "      <td>0.0475</td>\n",
       "      <td>335218.058535</td>\n",
       "      <td>0</td>\n",
       "    </tr>\n",
       "    <tr>\n",
       "      <th>1</th>\n",
       "      <td>327969</td>\n",
       "      <td>0</td>\n",
       "      <td>Miscelaneo</td>\n",
       "      <td>2022-01-01</td>\n",
       "      <td>2.315868e+06</td>\n",
       "      <td>0.0475</td>\n",
       "      <td>110003.721087</td>\n",
       "      <td>0</td>\n",
       "    </tr>\n",
       "    <tr>\n",
       "      <th>2</th>\n",
       "      <td>331637</td>\n",
       "      <td>0</td>\n",
       "      <td>Miscelaneo</td>\n",
       "      <td>2022-02-01</td>\n",
       "      <td>0.000000e+00</td>\n",
       "      <td>0.0475</td>\n",
       "      <td>0.000000</td>\n",
       "      <td>0</td>\n",
       "    </tr>\n",
       "    <tr>\n",
       "      <th>3</th>\n",
       "      <td>346936</td>\n",
       "      <td>0</td>\n",
       "      <td>Miscelaneo</td>\n",
       "      <td>2022-03-01</td>\n",
       "      <td>2.780371e+06</td>\n",
       "      <td>0.0475</td>\n",
       "      <td>132067.640237</td>\n",
       "      <td>0</td>\n",
       "    </tr>\n",
       "    <tr>\n",
       "      <th>4</th>\n",
       "      <td>356387</td>\n",
       "      <td>0</td>\n",
       "      <td>Miscelaneo</td>\n",
       "      <td>2022-04-01</td>\n",
       "      <td>2.391440e+06</td>\n",
       "      <td>0.0475</td>\n",
       "      <td>113593.411273</td>\n",
       "      <td>0</td>\n",
       "    </tr>\n",
       "    <tr>\n",
       "      <th>...</th>\n",
       "      <td>...</td>\n",
       "      <td>...</td>\n",
       "      <td>...</td>\n",
       "      <td>...</td>\n",
       "      <td>...</td>\n",
       "      <td>...</td>\n",
       "      <td>...</td>\n",
       "      <td>...</td>\n",
       "    </tr>\n",
       "    <tr>\n",
       "      <th>53534</th>\n",
       "      <td>365192</td>\n",
       "      <td>3135</td>\n",
       "      <td>Vehiculos</td>\n",
       "      <td>2022-05-01</td>\n",
       "      <td>9.985510e+05</td>\n",
       "      <td>4.7500</td>\n",
       "      <td>47431.169540</td>\n",
       "      <td>0</td>\n",
       "    </tr>\n",
       "    <tr>\n",
       "      <th>53535</th>\n",
       "      <td>371198</td>\n",
       "      <td>3135</td>\n",
       "      <td>Vehiculos</td>\n",
       "      <td>2022-06-01</td>\n",
       "      <td>0.000000e+00</td>\n",
       "      <td>4.7500</td>\n",
       "      <td>0.000000</td>\n",
       "      <td>0</td>\n",
       "    </tr>\n",
       "    <tr>\n",
       "      <th>53536</th>\n",
       "      <td>354932</td>\n",
       "      <td>3139</td>\n",
       "      <td>Miscelaneo</td>\n",
       "      <td>2022-04-01</td>\n",
       "      <td>1.636880e+05</td>\n",
       "      <td>4.7500</td>\n",
       "      <td>7775.177740</td>\n",
       "      <td>0</td>\n",
       "    </tr>\n",
       "    <tr>\n",
       "      <th>53537</th>\n",
       "      <td>364434</td>\n",
       "      <td>3139</td>\n",
       "      <td>Miscelaneo</td>\n",
       "      <td>2022-05-01</td>\n",
       "      <td>2.055295e+05</td>\n",
       "      <td>4.7500</td>\n",
       "      <td>9762.657029</td>\n",
       "      <td>0</td>\n",
       "    </tr>\n",
       "    <tr>\n",
       "      <th>53538</th>\n",
       "      <td>373942</td>\n",
       "      <td>3139</td>\n",
       "      <td>Miscelaneo</td>\n",
       "      <td>2022-06-01</td>\n",
       "      <td>2.438223e+05</td>\n",
       "      <td>4.7500</td>\n",
       "      <td>11581.560000</td>\n",
       "      <td>0</td>\n",
       "    </tr>\n",
       "  </tbody>\n",
       "</table>\n",
       "<p>53539 rows × 8 columns</p>\n",
       "</div>"
      ],
      "text/plain": [
       "       Unnamed: 0    ID    Subrubro      Fecha        Ventas  Alicuota   \n",
       "0          319160     0  Miscelaneo 2021-12-01  7.057222e+06    0.0475  \\\n",
       "1          327969     0  Miscelaneo 2022-01-01  2.315868e+06    0.0475   \n",
       "2          331637     0  Miscelaneo 2022-02-01  0.000000e+00    0.0475   \n",
       "3          346936     0  Miscelaneo 2022-03-01  2.780371e+06    0.0475   \n",
       "4          356387     0  Miscelaneo 2022-04-01  2.391440e+06    0.0475   \n",
       "...           ...   ...         ...        ...           ...       ...   \n",
       "53534      365192  3135   Vehiculos 2022-05-01  9.985510e+05    4.7500   \n",
       "53535      371198  3135   Vehiculos 2022-06-01  0.000000e+00    4.7500   \n",
       "53536      354932  3139  Miscelaneo 2022-04-01  1.636880e+05    4.7500   \n",
       "53537      364434  3139  Miscelaneo 2022-05-01  2.055295e+05    4.7500   \n",
       "53538      373942  3139  Miscelaneo 2022-06-01  2.438223e+05    4.7500   \n",
       "\n",
       "            Comision  Modelo  \n",
       "0      335218.058535       0  \n",
       "1      110003.721087       0  \n",
       "2           0.000000       0  \n",
       "3      132067.640237       0  \n",
       "4      113593.411273       0  \n",
       "...              ...     ...  \n",
       "53534   47431.169540       0  \n",
       "53535       0.000000       0  \n",
       "53536    7775.177740       0  \n",
       "53537    9762.657029       0  \n",
       "53538   11581.560000       0  \n",
       "\n",
       "[53539 rows x 8 columns]"
      ]
     },
     "execution_count": 13,
     "metadata": {},
     "output_type": "execute_result"
    }
   ],
   "source": [
    "ventas_cure_lean"
   ]
  },
  {
   "cell_type": "markdown",
   "metadata": {},
   "source": [
    "Verificar que no exista combinación de ID y Subrubro con ventas agrupadas en el periodo de estudio que sea cero"
   ]
  },
  {
   "cell_type": "code",
   "execution_count": 12,
   "metadata": {},
   "outputs": [
    {
     "data": {
      "text/html": [
       "<div>\n",
       "<style scoped>\n",
       "    .dataframe tbody tr th:only-of-type {\n",
       "        vertical-align: middle;\n",
       "    }\n",
       "\n",
       "    .dataframe tbody tr th {\n",
       "        vertical-align: top;\n",
       "    }\n",
       "\n",
       "    .dataframe thead th {\n",
       "        text-align: right;\n",
       "    }\n",
       "</style>\n",
       "<table border=\"1\" class=\"dataframe\">\n",
       "  <thead>\n",
       "    <tr style=\"text-align: right;\">\n",
       "      <th></th>\n",
       "      <th>ID</th>\n",
       "      <th>Subrubro</th>\n",
       "      <th>Ventas</th>\n",
       "    </tr>\n",
       "  </thead>\n",
       "  <tbody>\n",
       "    <tr>\n",
       "      <th>1394</th>\n",
       "      <td>994</td>\n",
       "      <td>Supermercados</td>\n",
       "      <td>1.310721e-02</td>\n",
       "    </tr>\n",
       "    <tr>\n",
       "      <th>4105</th>\n",
       "      <td>3018</td>\n",
       "      <td>Com. Varios</td>\n",
       "      <td>2.672242e-02</td>\n",
       "    </tr>\n",
       "    <tr>\n",
       "      <th>912</th>\n",
       "      <td>641</td>\n",
       "      <td>Comb. Ley</td>\n",
       "      <td>8.256292e+00</td>\n",
       "    </tr>\n",
       "    <tr>\n",
       "      <th>2856</th>\n",
       "      <td>2022</td>\n",
       "      <td>Comb.</td>\n",
       "      <td>2.791509e+01</td>\n",
       "    </tr>\n",
       "    <tr>\n",
       "      <th>3899</th>\n",
       "      <td>2853</td>\n",
       "      <td>Com. Varios</td>\n",
       "      <td>4.990897e+01</td>\n",
       "    </tr>\n",
       "    <tr>\n",
       "      <th>...</th>\n",
       "      <td>...</td>\n",
       "      <td>...</td>\n",
       "      <td>...</td>\n",
       "    </tr>\n",
       "    <tr>\n",
       "      <th>2525</th>\n",
       "      <td>1777</td>\n",
       "      <td>Farmacia</td>\n",
       "      <td>1.082349e+10</td>\n",
       "    </tr>\n",
       "    <tr>\n",
       "      <th>1160</th>\n",
       "      <td>815</td>\n",
       "      <td>Supermercados</td>\n",
       "      <td>1.122296e+10</td>\n",
       "    </tr>\n",
       "    <tr>\n",
       "      <th>3913</th>\n",
       "      <td>2862</td>\n",
       "      <td>Venta Agrop.</td>\n",
       "      <td>1.182744e+10</td>\n",
       "    </tr>\n",
       "    <tr>\n",
       "      <th>1540</th>\n",
       "      <td>1091</td>\n",
       "      <td>Supermercados</td>\n",
       "      <td>1.565692e+10</td>\n",
       "    </tr>\n",
       "    <tr>\n",
       "      <th>3808</th>\n",
       "      <td>2794</td>\n",
       "      <td>Vehiculos</td>\n",
       "      <td>3.104863e+10</td>\n",
       "    </tr>\n",
       "  </tbody>\n",
       "</table>\n",
       "<p>4169 rows × 3 columns</p>\n",
       "</div>"
      ],
      "text/plain": [
       "        ID       Subrubro        Ventas\n",
       "1394   994  Supermercados  1.310721e-02\n",
       "4105  3018    Com. Varios  2.672242e-02\n",
       "912    641      Comb. Ley  8.256292e+00\n",
       "2856  2022          Comb.  2.791509e+01\n",
       "3899  2853    Com. Varios  4.990897e+01\n",
       "...    ...            ...           ...\n",
       "2525  1777       Farmacia  1.082349e+10\n",
       "1160   815  Supermercados  1.122296e+10\n",
       "3913  2862   Venta Agrop.  1.182744e+10\n",
       "1540  1091  Supermercados  1.565692e+10\n",
       "3808  2794      Vehiculos  3.104863e+10\n",
       "\n",
       "[4169 rows x 3 columns]"
      ]
     },
     "execution_count": 12,
     "metadata": {},
     "output_type": "execute_result"
    }
   ],
   "source": [
    "ventas_cure_lean.groupby(['ID', 'Subrubro'])['Ventas'].sum().reset_index().sort_values(by='Ventas', ascending=True)"
   ]
  },
  {
   "cell_type": "code",
   "execution_count": 14,
   "metadata": {},
   "outputs": [
    {
     "data": {
      "text/plain": [
       "<seaborn.axisgrid.FacetGrid at 0x7f29f9d03fd0>"
      ]
     },
     "execution_count": 14,
     "metadata": {},
     "output_type": "execute_result"
    },
    {
     "data": {
      "image/png": "[encoded data removed]",
      "text/plain": [
       "<Figure size 900x200 with 3 Axes>"
      ]
     },
     "metadata": {},
     "output_type": "display_data"
    }
   ],
   "source": [
    "id = 493\n",
    "\n",
    "g = sns.relplot(\n",
    "    data=ventas_cure_lean[ventas_cure_lean['ID'] == id],\n",
    "    x=\"Fecha\", y=\"Ventas\", col=\"Subrubro\",\n",
    "    kind=\"line\", linewidth=2, zorder=5,\n",
    "    col_wrap=3, height=2, aspect=1.5, legend=True,\n",
    "    facet_kws=dict(sharey=False)\n",
    ")\n",
    "\n",
    "# Iterate over each subplot to customize further\n",
    "for subrubro, ax in g.axes_dict.items():\n",
    "\n",
    "    # Add the title as an annotation within the plot\n",
    "    ax.text(.5, .95, subrubro, transform=ax.transAxes)\n",
    "\n",
    "# Reduce the frequency of the x axis ticks\n",
    "ax.set_xticks(ax.get_xticks()[::2])\n",
    "#ax.set_xticklabels(ax.get_xticklabels(), rotation=45)\n",
    "plt.xticks(rotation=45, ha='right')\n",
    "\n",
    "g.set_titles(\"\")\n",
    "g.set_axis_labels(\"\", \"Ventas\")    \n",
    "#g.tight_layout()"
   ]
  },
  {
   "cell_type": "markdown",
   "metadata": {},
   "source": [
    "----\n"
   ]
  },
  {
   "cell_type": "markdown",
   "metadata": {},
   "source": [
    "### Paso 8\n",
    "Objetivo:\n",
    "- Una fila por ID*Subrubro \n",
    "- Para el último periodo (6 meses por ahora): Generar para cada combinación de ID y Subrubro columnas nuevas que cada una sea el resultado de aplicar la diferencia porcentual de un mes y el anterior"
   ]
  },
  {
   "cell_type": "code",
   "execution_count": 39,
   "metadata": {},
   "outputs": [
    {
     "data": {
      "text/html": [
       "<div>\n",
       "<style scoped>\n",
       "    .dataframe tbody tr th:only-of-type {\n",
       "        vertical-align: middle;\n",
       "    }\n",
       "\n",
       "    .dataframe tbody tr th {\n",
       "        vertical-align: top;\n",
       "    }\n",
       "\n",
       "    .dataframe thead th {\n",
       "        text-align: right;\n",
       "    }\n",
       "</style>\n",
       "<table border=\"1\" class=\"dataframe\">\n",
       "  <thead>\n",
       "    <tr style=\"text-align: right;\">\n",
       "      <th></th>\n",
       "      <th>index</th>\n",
       "      <th>Unnamed: 0</th>\n",
       "      <th>ID</th>\n",
       "      <th>Omega</th>\n",
       "      <th>Subrubro</th>\n",
       "      <th>Trat_Fisc</th>\n",
       "      <th>Fecha</th>\n",
       "      <th>Deposito</th>\n",
       "      <th>Ventas</th>\n",
       "      <th>Alicuota</th>\n",
       "      <th>Comision</th>\n",
       "      <th>Modelo</th>\n",
       "    </tr>\n",
       "  </thead>\n",
       "  <tbody>\n",
       "    <tr>\n",
       "      <th>0</th>\n",
       "      <td>312325</td>\n",
       "      <td>312360</td>\n",
       "      <td>1663</td>\n",
       "      <td>1</td>\n",
       "      <td>Com. Varios</td>\n",
       "      <td>Alic.Agrav</td>\n",
       "      <td>2021-12-01</td>\n",
       "      <td>99</td>\n",
       "      <td>-1.085139e+07</td>\n",
       "      <td>6.500</td>\n",
       "      <td>-705340.545584</td>\n",
       "      <td>0</td>\n",
       "    </tr>\n",
       "    <tr>\n",
       "      <th>1</th>\n",
       "      <td>327624</td>\n",
       "      <td>327661</td>\n",
       "      <td>1663</td>\n",
       "      <td>1</td>\n",
       "      <td>Com. Varios</td>\n",
       "      <td>Alic.Agrav</td>\n",
       "      <td>2022-01-01</td>\n",
       "      <td>99</td>\n",
       "      <td>1.505054e+06</td>\n",
       "      <td>6.500</td>\n",
       "      <td>97828.537883</td>\n",
       "      <td>0</td>\n",
       "    </tr>\n",
       "    <tr>\n",
       "      <th>2</th>\n",
       "      <td>338947</td>\n",
       "      <td>338985</td>\n",
       "      <td>1663</td>\n",
       "      <td>1</td>\n",
       "      <td>Com. Varios</td>\n",
       "      <td>Alic.Agrav</td>\n",
       "      <td>2022-02-01</td>\n",
       "      <td>99</td>\n",
       "      <td>1.102083e+07</td>\n",
       "      <td>6.500</td>\n",
       "      <td>716354.089890</td>\n",
       "      <td>0</td>\n",
       "    </tr>\n",
       "    <tr>\n",
       "      <th>3</th>\n",
       "      <td>348377</td>\n",
       "      <td>348416</td>\n",
       "      <td>1663</td>\n",
       "      <td>1</td>\n",
       "      <td>Com. Varios</td>\n",
       "      <td>Alic.Agrav</td>\n",
       "      <td>2022-03-01</td>\n",
       "      <td>99</td>\n",
       "      <td>1.239460e+07</td>\n",
       "      <td>6.500</td>\n",
       "      <td>805649.106306</td>\n",
       "      <td>0</td>\n",
       "    </tr>\n",
       "    <tr>\n",
       "      <th>4</th>\n",
       "      <td>357364</td>\n",
       "      <td>357404</td>\n",
       "      <td>1663</td>\n",
       "      <td>1</td>\n",
       "      <td>Com. Varios</td>\n",
       "      <td>Alic.Agrav</td>\n",
       "      <td>2022-04-01</td>\n",
       "      <td>99</td>\n",
       "      <td>7.635500e+06</td>\n",
       "      <td>6.500</td>\n",
       "      <td>496307.492953</td>\n",
       "      <td>0</td>\n",
       "    </tr>\n",
       "    <tr>\n",
       "      <th>...</th>\n",
       "      <td>...</td>\n",
       "      <td>...</td>\n",
       "      <td>...</td>\n",
       "      <td>...</td>\n",
       "      <td>...</td>\n",
       "      <td>...</td>\n",
       "      <td>...</td>\n",
       "      <td>...</td>\n",
       "      <td>...</td>\n",
       "      <td>...</td>\n",
       "      <td>...</td>\n",
       "      <td>...</td>\n",
       "    </tr>\n",
       "    <tr>\n",
       "      <th>53534</th>\n",
       "      <td>374007</td>\n",
       "      <td>374049</td>\n",
       "      <td>1727</td>\n",
       "      <td>1</td>\n",
       "      <td>Venta Agrop.</td>\n",
       "      <td>Norm</td>\n",
       "      <td>2022-06-01</td>\n",
       "      <td>5</td>\n",
       "      <td>3.190505e+05</td>\n",
       "      <td>2.500</td>\n",
       "      <td>7976.260000</td>\n",
       "      <td>0</td>\n",
       "    </tr>\n",
       "    <tr>\n",
       "      <th>53535</th>\n",
       "      <td>375030</td>\n",
       "      <td>375072</td>\n",
       "      <td>2720</td>\n",
       "      <td>1</td>\n",
       "      <td>Com. Varios</td>\n",
       "      <td>Alic.Agrav</td>\n",
       "      <td>2022-06-01</td>\n",
       "      <td>99</td>\n",
       "      <td>1.933866e+06</td>\n",
       "      <td>6.500</td>\n",
       "      <td>125701.310000</td>\n",
       "      <td>0</td>\n",
       "    </tr>\n",
       "    <tr>\n",
       "      <th>53536</th>\n",
       "      <td>375212</td>\n",
       "      <td>375254</td>\n",
       "      <td>111</td>\n",
       "      <td>1</td>\n",
       "      <td>Vehiculos</td>\n",
       "      <td>0</td>\n",
       "      <td>2022-06-01</td>\n",
       "      <td>62</td>\n",
       "      <td>2.533936e+06</td>\n",
       "      <td>0.050</td>\n",
       "      <td>126696.800000</td>\n",
       "      <td>0</td>\n",
       "    </tr>\n",
       "    <tr>\n",
       "      <th>53537</th>\n",
       "      <td>375555</td>\n",
       "      <td>375597</td>\n",
       "      <td>559</td>\n",
       "      <td>1</td>\n",
       "      <td>Com. Varios</td>\n",
       "      <td>0</td>\n",
       "      <td>2022-06-01</td>\n",
       "      <td>99</td>\n",
       "      <td>3.732638e+06</td>\n",
       "      <td>0.065</td>\n",
       "      <td>242621.450000</td>\n",
       "      <td>0</td>\n",
       "    </tr>\n",
       "    <tr>\n",
       "      <th>53538</th>\n",
       "      <td>375810</td>\n",
       "      <td>375852</td>\n",
       "      <td>716</td>\n",
       "      <td>1</td>\n",
       "      <td>Com. Varios</td>\n",
       "      <td>NaN</td>\n",
       "      <td>2022-06-01</td>\n",
       "      <td>97</td>\n",
       "      <td>4.897639e+06</td>\n",
       "      <td>0.035</td>\n",
       "      <td>171417.350000</td>\n",
       "      <td>0</td>\n",
       "    </tr>\n",
       "  </tbody>\n",
       "</table>\n",
       "<p>53539 rows × 12 columns</p>\n",
       "</div>"
      ],
      "text/plain": [
       "        index  Unnamed: 0    ID  Omega      Subrubro   Trat_Fisc      Fecha   \n",
       "0      312325      312360  1663      1   Com. Varios  Alic.Agrav 2021-12-01  \\\n",
       "1      327624      327661  1663      1   Com. Varios  Alic.Agrav 2022-01-01   \n",
       "2      338947      338985  1663      1   Com. Varios  Alic.Agrav 2022-02-01   \n",
       "3      348377      348416  1663      1   Com. Varios  Alic.Agrav 2022-03-01   \n",
       "4      357364      357404  1663      1   Com. Varios  Alic.Agrav 2022-04-01   \n",
       "...       ...         ...   ...    ...           ...         ...        ...   \n",
       "53534  374007      374049  1727      1  Venta Agrop.        Norm 2022-06-01   \n",
       "53535  375030      375072  2720      1   Com. Varios  Alic.Agrav 2022-06-01   \n",
       "53536  375212      375254   111      1     Vehiculos           0 2022-06-01   \n",
       "53537  375555      375597   559      1   Com. Varios           0 2022-06-01   \n",
       "53538  375810      375852   716      1   Com. Varios         NaN 2022-06-01   \n",
       "\n",
       "       Deposito        Ventas  Alicuota       Comision  Modelo  \n",
       "0            99 -1.085139e+07     6.500 -705340.545584       0  \n",
       "1            99  1.505054e+06     6.500   97828.537883       0  \n",
       "2            99  1.102083e+07     6.500  716354.089890       0  \n",
       "3            99  1.239460e+07     6.500  805649.106306       0  \n",
       "4            99  7.635500e+06     6.500  496307.492953       0  \n",
       "...         ...           ...       ...            ...     ...  \n",
       "53534         5  3.190505e+05     2.500    7976.260000       0  \n",
       "53535        99  1.933866e+06     6.500  125701.310000       0  \n",
       "53536        62  2.533936e+06     0.050  126696.800000       0  \n",
       "53537        99  3.732638e+06     0.065  242621.450000       0  \n",
       "53538        97  4.897639e+06     0.035  171417.350000       0  \n",
       "\n",
       "[53539 rows x 12 columns]"
      ]
     },
     "execution_count": 39,
     "metadata": {},
     "output_type": "execute_result"
    }
   ],
   "source": [
    "ventas_cure_2"
   ]
  },
  {
   "cell_type": "markdown",
   "metadata": {},
   "source": [
    "### DF curación simple"
   ]
  },
  {
   "cell_type": "markdown",
   "metadata": {},
   "source": [
    "Agregar para tener una sola fila por ID*Subrubro"
   ]
  },
  {
   "cell_type": "code",
   "execution_count": 40,
   "metadata": {},
   "outputs": [
    {
     "data": {
      "text/html": [
       "<div>\n",
       "<style scoped>\n",
       "    .dataframe tbody tr th:only-of-type {\n",
       "        vertical-align: middle;\n",
       "    }\n",
       "\n",
       "    .dataframe tbody tr th {\n",
       "        vertical-align: top;\n",
       "    }\n",
       "\n",
       "    .dataframe thead th {\n",
       "        text-align: right;\n",
       "    }\n",
       "</style>\n",
       "<table border=\"1\" class=\"dataframe\">\n",
       "  <thead>\n",
       "    <tr style=\"text-align: right;\">\n",
       "      <th></th>\n",
       "      <th>ID</th>\n",
       "      <th>Subrubro</th>\n",
       "      <th>Ventas</th>\n",
       "      <th>Alicuota</th>\n",
       "      <th>Comision</th>\n",
       "    </tr>\n",
       "  </thead>\n",
       "  <tbody>\n",
       "    <tr>\n",
       "      <th>0</th>\n",
       "      <td>0</td>\n",
       "      <td>Miscelaneo</td>\n",
       "      <td>1.630273e+07</td>\n",
       "      <td>0.047500</td>\n",
       "      <td>7.743796e+05</td>\n",
       "    </tr>\n",
       "    <tr>\n",
       "      <th>1</th>\n",
       "      <td>1</td>\n",
       "      <td>Miscelaneo</td>\n",
       "      <td>1.784733e+08</td>\n",
       "      <td>0.047500</td>\n",
       "      <td>8.477484e+06</td>\n",
       "    </tr>\n",
       "    <tr>\n",
       "      <th>2</th>\n",
       "      <td>2</td>\n",
       "      <td>Miscelaneo</td>\n",
       "      <td>4.808872e+07</td>\n",
       "      <td>0.047500</td>\n",
       "      <td>2.284214e+06</td>\n",
       "    </tr>\n",
       "    <tr>\n",
       "      <th>3</th>\n",
       "      <td>4</td>\n",
       "      <td>Gondola</td>\n",
       "      <td>7.600501e+07</td>\n",
       "      <td>0.047500</td>\n",
       "      <td>3.610238e+06</td>\n",
       "    </tr>\n",
       "    <tr>\n",
       "      <th>4</th>\n",
       "      <td>5</td>\n",
       "      <td>Com. Varios</td>\n",
       "      <td>2.193790e+06</td>\n",
       "      <td>3.726000</td>\n",
       "      <td>1.425963e+05</td>\n",
       "    </tr>\n",
       "    <tr>\n",
       "      <th>...</th>\n",
       "      <td>...</td>\n",
       "      <td>...</td>\n",
       "      <td>...</td>\n",
       "      <td>...</td>\n",
       "      <td>...</td>\n",
       "    </tr>\n",
       "    <tr>\n",
       "      <th>4164</th>\n",
       "      <td>3130</td>\n",
       "      <td>Miscelaneo</td>\n",
       "      <td>1.759413e+07</td>\n",
       "      <td>0.047500</td>\n",
       "      <td>8.357214e+05</td>\n",
       "    </tr>\n",
       "    <tr>\n",
       "      <th>4165</th>\n",
       "      <td>3131</td>\n",
       "      <td>Com. Varios</td>\n",
       "      <td>5.975803e+04</td>\n",
       "      <td>0.035000</td>\n",
       "      <td>2.091530e+03</td>\n",
       "    </tr>\n",
       "    <tr>\n",
       "      <th>4166</th>\n",
       "      <td>3134</td>\n",
       "      <td>Gondola</td>\n",
       "      <td>3.627312e+07</td>\n",
       "      <td>4.791667</td>\n",
       "      <td>1.813656e+06</td>\n",
       "    </tr>\n",
       "    <tr>\n",
       "      <th>4167</th>\n",
       "      <td>3135</td>\n",
       "      <td>Vehiculos</td>\n",
       "      <td>9.985510e+05</td>\n",
       "      <td>4.750000</td>\n",
       "      <td>4.743117e+04</td>\n",
       "    </tr>\n",
       "    <tr>\n",
       "      <th>4168</th>\n",
       "      <td>3139</td>\n",
       "      <td>Miscelaneo</td>\n",
       "      <td>6.130399e+05</td>\n",
       "      <td>4.750000</td>\n",
       "      <td>2.911939e+04</td>\n",
       "    </tr>\n",
       "  </tbody>\n",
       "</table>\n",
       "<p>4169 rows × 5 columns</p>\n",
       "</div>"
      ],
      "text/plain": [
       "        ID     Subrubro        Ventas  Alicuota      Comision\n",
       "0        0   Miscelaneo  1.630273e+07  0.047500  7.743796e+05\n",
       "1        1   Miscelaneo  1.784733e+08  0.047500  8.477484e+06\n",
       "2        2   Miscelaneo  4.808872e+07  0.047500  2.284214e+06\n",
       "3        4      Gondola  7.600501e+07  0.047500  3.610238e+06\n",
       "4        5  Com. Varios  2.193790e+06  3.726000  1.425963e+05\n",
       "...    ...          ...           ...       ...           ...\n",
       "4164  3130   Miscelaneo  1.759413e+07  0.047500  8.357214e+05\n",
       "4165  3131  Com. Varios  5.975803e+04  0.035000  2.091530e+03\n",
       "4166  3134      Gondola  3.627312e+07  4.791667  1.813656e+06\n",
       "4167  3135    Vehiculos  9.985510e+05  4.750000  4.743117e+04\n",
       "4168  3139   Miscelaneo  6.130399e+05  4.750000  2.911939e+04\n",
       "\n",
       "[4169 rows x 5 columns]"
      ]
     },
     "execution_count": 40,
     "metadata": {},
     "output_type": "execute_result"
    }
   ],
   "source": [
    "ventas_cure_por_id_subrubro = ventas_cure_2.groupby(['ID', 'Subrubro']).agg({'Ventas':'sum', \n",
    "                                                                                'Alicuota':'mean', \n",
    "                                                                                'Comision':'sum'}).reset_index()\n",
    "ventas_cure_por_id_subrubro"
   ]
  },
  {
   "cell_type": "code",
   "execution_count": 42,
   "metadata": {},
   "outputs": [
    {
     "data": {
      "text/html": [
       "<div>\n",
       "<style scoped>\n",
       "    .dataframe tbody tr th:only-of-type {\n",
       "        vertical-align: middle;\n",
       "    }\n",
       "\n",
       "    .dataframe tbody tr th {\n",
       "        vertical-align: top;\n",
       "    }\n",
       "\n",
       "    .dataframe thead th {\n",
       "        text-align: right;\n",
       "    }\n",
       "</style>\n",
       "<table border=\"1\" class=\"dataframe\">\n",
       "  <thead>\n",
       "    <tr style=\"text-align: right;\">\n",
       "      <th></th>\n",
       "      <th>ID</th>\n",
       "      <th>Modelo</th>\n",
       "    </tr>\n",
       "  </thead>\n",
       "  <tbody>\n",
       "    <tr>\n",
       "      <th>0</th>\n",
       "      <td>0</td>\n",
       "      <td>0.0</td>\n",
       "    </tr>\n",
       "    <tr>\n",
       "      <th>1</th>\n",
       "      <td>1</td>\n",
       "      <td>0.0</td>\n",
       "    </tr>\n",
       "    <tr>\n",
       "      <th>2</th>\n",
       "      <td>2</td>\n",
       "      <td>0.0</td>\n",
       "    </tr>\n",
       "    <tr>\n",
       "      <th>3</th>\n",
       "      <td>4</td>\n",
       "      <td>0.0</td>\n",
       "    </tr>\n",
       "    <tr>\n",
       "      <th>4</th>\n",
       "      <td>5</td>\n",
       "      <td>0.0</td>\n",
       "    </tr>\n",
       "    <tr>\n",
       "      <th>...</th>\n",
       "      <td>...</td>\n",
       "      <td>...</td>\n",
       "    </tr>\n",
       "    <tr>\n",
       "      <th>2668</th>\n",
       "      <td>3130</td>\n",
       "      <td>0.0</td>\n",
       "    </tr>\n",
       "    <tr>\n",
       "      <th>2669</th>\n",
       "      <td>3131</td>\n",
       "      <td>0.0</td>\n",
       "    </tr>\n",
       "    <tr>\n",
       "      <th>2670</th>\n",
       "      <td>3134</td>\n",
       "      <td>0.0</td>\n",
       "    </tr>\n",
       "    <tr>\n",
       "      <th>2671</th>\n",
       "      <td>3135</td>\n",
       "      <td>0.0</td>\n",
       "    </tr>\n",
       "    <tr>\n",
       "      <th>2672</th>\n",
       "      <td>3139</td>\n",
       "      <td>0.0</td>\n",
       "    </tr>\n",
       "  </tbody>\n",
       "</table>\n",
       "<p>2673 rows × 2 columns</p>\n",
       "</div>"
      ],
      "text/plain": [
       "        ID  Modelo\n",
       "0        0     0.0\n",
       "1        1     0.0\n",
       "2        2     0.0\n",
       "3        4     0.0\n",
       "4        5     0.0\n",
       "...    ...     ...\n",
       "2668  3130     0.0\n",
       "2669  3131     0.0\n",
       "2670  3134     0.0\n",
       "2671  3135     0.0\n",
       "2672  3139     0.0\n",
       "\n",
       "[2673 rows x 2 columns]"
      ]
     },
     "execution_count": 42,
     "metadata": {},
     "output_type": "execute_result"
    }
   ],
   "source": [
    "# variable que tiene cada id único con un valor de si es modelo o no\n",
    "# sirve para hacer joins depués de los groupbys\n",
    "id_modelo_referencia = ventas_cure_lean.groupby('ID')['Modelo'].mean().reset_index()\n",
    "id_modelo_referencia"
   ]
  },
  {
   "cell_type": "markdown",
   "metadata": {},
   "source": [
    "Este DF sería la versión más simple, sin aumentar columnas:"
   ]
  },
  {
   "cell_type": "code",
   "execution_count": 44,
   "metadata": {},
   "outputs": [
    {
     "data": {
      "text/html": [
       "<div>\n",
       "<style scoped>\n",
       "    .dataframe tbody tr th:only-of-type {\n",
       "        vertical-align: middle;\n",
       "    }\n",
       "\n",
       "    .dataframe tbody tr th {\n",
       "        vertical-align: top;\n",
       "    }\n",
       "\n",
       "    .dataframe thead th {\n",
       "        text-align: right;\n",
       "    }\n",
       "</style>\n",
       "<table border=\"1\" class=\"dataframe\">\n",
       "  <thead>\n",
       "    <tr style=\"text-align: right;\">\n",
       "      <th></th>\n",
       "      <th>ID</th>\n",
       "      <th>Subrubro</th>\n",
       "      <th>Ventas</th>\n",
       "      <th>Alicuota</th>\n",
       "      <th>Comision</th>\n",
       "      <th>Modelo</th>\n",
       "    </tr>\n",
       "  </thead>\n",
       "  <tbody>\n",
       "    <tr>\n",
       "      <th>0</th>\n",
       "      <td>0</td>\n",
       "      <td>Miscelaneo</td>\n",
       "      <td>1.630273e+07</td>\n",
       "      <td>0.047500</td>\n",
       "      <td>7.743796e+05</td>\n",
       "      <td>0.0</td>\n",
       "    </tr>\n",
       "    <tr>\n",
       "      <th>1</th>\n",
       "      <td>1</td>\n",
       "      <td>Miscelaneo</td>\n",
       "      <td>1.784733e+08</td>\n",
       "      <td>0.047500</td>\n",
       "      <td>8.477484e+06</td>\n",
       "      <td>0.0</td>\n",
       "    </tr>\n",
       "    <tr>\n",
       "      <th>2</th>\n",
       "      <td>2</td>\n",
       "      <td>Miscelaneo</td>\n",
       "      <td>4.808872e+07</td>\n",
       "      <td>0.047500</td>\n",
       "      <td>2.284214e+06</td>\n",
       "      <td>0.0</td>\n",
       "    </tr>\n",
       "    <tr>\n",
       "      <th>3</th>\n",
       "      <td>4</td>\n",
       "      <td>Gondola</td>\n",
       "      <td>7.600501e+07</td>\n",
       "      <td>0.047500</td>\n",
       "      <td>3.610238e+06</td>\n",
       "      <td>0.0</td>\n",
       "    </tr>\n",
       "    <tr>\n",
       "      <th>4</th>\n",
       "      <td>5</td>\n",
       "      <td>Com. Varios</td>\n",
       "      <td>2.193790e+06</td>\n",
       "      <td>3.726000</td>\n",
       "      <td>1.425963e+05</td>\n",
       "      <td>0.0</td>\n",
       "    </tr>\n",
       "    <tr>\n",
       "      <th>...</th>\n",
       "      <td>...</td>\n",
       "      <td>...</td>\n",
       "      <td>...</td>\n",
       "      <td>...</td>\n",
       "      <td>...</td>\n",
       "      <td>...</td>\n",
       "    </tr>\n",
       "    <tr>\n",
       "      <th>4164</th>\n",
       "      <td>3130</td>\n",
       "      <td>Miscelaneo</td>\n",
       "      <td>1.759413e+07</td>\n",
       "      <td>0.047500</td>\n",
       "      <td>8.357214e+05</td>\n",
       "      <td>0.0</td>\n",
       "    </tr>\n",
       "    <tr>\n",
       "      <th>4165</th>\n",
       "      <td>3131</td>\n",
       "      <td>Com. Varios</td>\n",
       "      <td>5.975803e+04</td>\n",
       "      <td>0.035000</td>\n",
       "      <td>2.091530e+03</td>\n",
       "      <td>0.0</td>\n",
       "    </tr>\n",
       "    <tr>\n",
       "      <th>4166</th>\n",
       "      <td>3134</td>\n",
       "      <td>Gondola</td>\n",
       "      <td>3.627312e+07</td>\n",
       "      <td>4.791667</td>\n",
       "      <td>1.813656e+06</td>\n",
       "      <td>0.0</td>\n",
       "    </tr>\n",
       "    <tr>\n",
       "      <th>4167</th>\n",
       "      <td>3135</td>\n",
       "      <td>Vehiculos</td>\n",
       "      <td>9.985510e+05</td>\n",
       "      <td>4.750000</td>\n",
       "      <td>4.743117e+04</td>\n",
       "      <td>0.0</td>\n",
       "    </tr>\n",
       "    <tr>\n",
       "      <th>4168</th>\n",
       "      <td>3139</td>\n",
       "      <td>Miscelaneo</td>\n",
       "      <td>6.130399e+05</td>\n",
       "      <td>4.750000</td>\n",
       "      <td>2.911939e+04</td>\n",
       "      <td>0.0</td>\n",
       "    </tr>\n",
       "  </tbody>\n",
       "</table>\n",
       "<p>4169 rows × 6 columns</p>\n",
       "</div>"
      ],
      "text/plain": [
       "        ID     Subrubro        Ventas  Alicuota      Comision  Modelo\n",
       "0        0   Miscelaneo  1.630273e+07  0.047500  7.743796e+05     0.0\n",
       "1        1   Miscelaneo  1.784733e+08  0.047500  8.477484e+06     0.0\n",
       "2        2   Miscelaneo  4.808872e+07  0.047500  2.284214e+06     0.0\n",
       "3        4      Gondola  7.600501e+07  0.047500  3.610238e+06     0.0\n",
       "4        5  Com. Varios  2.193790e+06  3.726000  1.425963e+05     0.0\n",
       "...    ...          ...           ...       ...           ...     ...\n",
       "4164  3130   Miscelaneo  1.759413e+07  0.047500  8.357214e+05     0.0\n",
       "4165  3131  Com. Varios  5.975803e+04  0.035000  2.091530e+03     0.0\n",
       "4166  3134      Gondola  3.627312e+07  4.791667  1.813656e+06     0.0\n",
       "4167  3135    Vehiculos  9.985510e+05  4.750000  4.743117e+04     0.0\n",
       "4168  3139   Miscelaneo  6.130399e+05  4.750000  2.911939e+04     0.0\n",
       "\n",
       "[4169 rows x 6 columns]"
      ]
     },
     "execution_count": 44,
     "metadata": {},
     "output_type": "execute_result"
    }
   ],
   "source": [
    "ventas_curado_simple = pd.merge(left=ventas_cure_por_id_subrubro, right=id_modelo_referencia, how='left', on='ID', left_index=False, right_index=False, sort=False, suffixes=('_x', '_y'), copy=None, indicator=False, validate=None)\n",
    "ventas_curado_simple"
   ]
  },
  {
   "cell_type": "markdown",
   "metadata": {},
   "source": [
    "### DF con más features\n",
    "** REVISAR **"
   ]
  },
  {
   "cell_type": "markdown",
   "metadata": {},
   "source": [
    "Agrupar por ID y Subrubro y luego Calcular la diferencia de Ventas con `.diff()` funciona\n",
    "PERO a veces se repite porque se hay Depósitos diferentes\n",
    "\n",
    "Pasos a seguir:\n",
    "- para cada groupby ID*Subrubro transformar en columnas las diffs, quizás manteniendo un \"first\" del cada groupby y dropeando después el resto"
   ]
  },
  {
   "cell_type": "code",
   "execution_count": 45,
   "metadata": {},
   "outputs": [
    {
     "data": {
      "text/html": [
       "<div>\n",
       "<style scoped>\n",
       "    .dataframe tbody tr th:only-of-type {\n",
       "        vertical-align: middle;\n",
       "    }\n",
       "\n",
       "    .dataframe tbody tr th {\n",
       "        vertical-align: top;\n",
       "    }\n",
       "\n",
       "    .dataframe thead th {\n",
       "        text-align: right;\n",
       "    }\n",
       "</style>\n",
       "<table border=\"1\" class=\"dataframe\">\n",
       "  <thead>\n",
       "    <tr style=\"text-align: right;\">\n",
       "      <th></th>\n",
       "      <th>ID</th>\n",
       "      <th>Subrubro</th>\n",
       "      <th>Fecha</th>\n",
       "      <th>Ventas</th>\n",
       "      <th>Alicuota</th>\n",
       "      <th>Comision</th>\n",
       "    </tr>\n",
       "  </thead>\n",
       "  <tbody>\n",
       "    <tr>\n",
       "      <th>0</th>\n",
       "      <td>0</td>\n",
       "      <td>Miscelaneo</td>\n",
       "      <td>2021-12-01</td>\n",
       "      <td>7.057222e+06</td>\n",
       "      <td>0.0475</td>\n",
       "      <td>335218.058535</td>\n",
       "    </tr>\n",
       "    <tr>\n",
       "      <th>1</th>\n",
       "      <td>0</td>\n",
       "      <td>Miscelaneo</td>\n",
       "      <td>2022-01-01</td>\n",
       "      <td>2.315868e+06</td>\n",
       "      <td>0.0475</td>\n",
       "      <td>110003.721087</td>\n",
       "    </tr>\n",
       "    <tr>\n",
       "      <th>2</th>\n",
       "      <td>0</td>\n",
       "      <td>Miscelaneo</td>\n",
       "      <td>2022-02-01</td>\n",
       "      <td>0.000000e+00</td>\n",
       "      <td>0.0475</td>\n",
       "      <td>0.000000</td>\n",
       "    </tr>\n",
       "    <tr>\n",
       "      <th>3</th>\n",
       "      <td>0</td>\n",
       "      <td>Miscelaneo</td>\n",
       "      <td>2022-03-01</td>\n",
       "      <td>2.780371e+06</td>\n",
       "      <td>0.0475</td>\n",
       "      <td>132067.640237</td>\n",
       "    </tr>\n",
       "    <tr>\n",
       "      <th>4</th>\n",
       "      <td>0</td>\n",
       "      <td>Miscelaneo</td>\n",
       "      <td>2022-04-01</td>\n",
       "      <td>2.391440e+06</td>\n",
       "      <td>0.0475</td>\n",
       "      <td>113593.411273</td>\n",
       "    </tr>\n",
       "    <tr>\n",
       "      <th>...</th>\n",
       "      <td>...</td>\n",
       "      <td>...</td>\n",
       "      <td>...</td>\n",
       "      <td>...</td>\n",
       "      <td>...</td>\n",
       "      <td>...</td>\n",
       "    </tr>\n",
       "    <tr>\n",
       "      <th>28876</th>\n",
       "      <td>3135</td>\n",
       "      <td>Vehiculos</td>\n",
       "      <td>2022-05-01</td>\n",
       "      <td>9.985510e+05</td>\n",
       "      <td>4.7500</td>\n",
       "      <td>47431.169540</td>\n",
       "    </tr>\n",
       "    <tr>\n",
       "      <th>28877</th>\n",
       "      <td>3135</td>\n",
       "      <td>Vehiculos</td>\n",
       "      <td>2022-06-01</td>\n",
       "      <td>0.000000e+00</td>\n",
       "      <td>4.7500</td>\n",
       "      <td>0.000000</td>\n",
       "    </tr>\n",
       "    <tr>\n",
       "      <th>28878</th>\n",
       "      <td>3139</td>\n",
       "      <td>Miscelaneo</td>\n",
       "      <td>2022-04-01</td>\n",
       "      <td>1.636880e+05</td>\n",
       "      <td>4.7500</td>\n",
       "      <td>7775.177740</td>\n",
       "    </tr>\n",
       "    <tr>\n",
       "      <th>28879</th>\n",
       "      <td>3139</td>\n",
       "      <td>Miscelaneo</td>\n",
       "      <td>2022-05-01</td>\n",
       "      <td>2.055295e+05</td>\n",
       "      <td>4.7500</td>\n",
       "      <td>9762.657029</td>\n",
       "    </tr>\n",
       "    <tr>\n",
       "      <th>28880</th>\n",
       "      <td>3139</td>\n",
       "      <td>Miscelaneo</td>\n",
       "      <td>2022-06-01</td>\n",
       "      <td>2.438223e+05</td>\n",
       "      <td>4.7500</td>\n",
       "      <td>11581.560000</td>\n",
       "    </tr>\n",
       "  </tbody>\n",
       "</table>\n",
       "<p>28881 rows × 6 columns</p>\n",
       "</div>"
      ],
      "text/plain": [
       "         ID    Subrubro      Fecha        Ventas  Alicuota       Comision\n",
       "0         0  Miscelaneo 2021-12-01  7.057222e+06    0.0475  335218.058535\n",
       "1         0  Miscelaneo 2022-01-01  2.315868e+06    0.0475  110003.721087\n",
       "2         0  Miscelaneo 2022-02-01  0.000000e+00    0.0475       0.000000\n",
       "3         0  Miscelaneo 2022-03-01  2.780371e+06    0.0475  132067.640237\n",
       "4         0  Miscelaneo 2022-04-01  2.391440e+06    0.0475  113593.411273\n",
       "...     ...         ...        ...           ...       ...            ...\n",
       "28876  3135   Vehiculos 2022-05-01  9.985510e+05    4.7500   47431.169540\n",
       "28877  3135   Vehiculos 2022-06-01  0.000000e+00    4.7500       0.000000\n",
       "28878  3139  Miscelaneo 2022-04-01  1.636880e+05    4.7500    7775.177740\n",
       "28879  3139  Miscelaneo 2022-05-01  2.055295e+05    4.7500    9762.657029\n",
       "28880  3139  Miscelaneo 2022-06-01  2.438223e+05    4.7500   11581.560000\n",
       "\n",
       "[28881 rows x 6 columns]"
      ]
     },
     "execution_count": 45,
     "metadata": {},
     "output_type": "execute_result"
    }
   ],
   "source": [
    "ventas_cure_por_id_subrubro_fecha = ventas_cure_2.groupby(['ID', 'Subrubro', 'Fecha']).agg({'Ventas':'sum', \n",
    "                                                                                    'Alicuota':'mean', \n",
    "                                                                                    'Comision':'sum'}).reset_index()\n",
    "ventas_cure_por_id_subrubro_fecha"
   ]
  },
  {
   "cell_type": "code",
   "execution_count": 46,
   "metadata": {},
   "outputs": [
    {
     "data": {
      "text/html": [
       "<div>\n",
       "<style scoped>\n",
       "    .dataframe tbody tr th:only-of-type {\n",
       "        vertical-align: middle;\n",
       "    }\n",
       "\n",
       "    .dataframe tbody tr th {\n",
       "        vertical-align: top;\n",
       "    }\n",
       "\n",
       "    .dataframe thead th {\n",
       "        text-align: right;\n",
       "    }\n",
       "</style>\n",
       "<table border=\"1\" class=\"dataframe\">\n",
       "  <thead>\n",
       "    <tr style=\"text-align: right;\">\n",
       "      <th></th>\n",
       "      <th>Unnamed: 0</th>\n",
       "      <th>ID</th>\n",
       "      <th>Subrubro</th>\n",
       "      <th>Fecha</th>\n",
       "      <th>Ventas</th>\n",
       "      <th>Alicuota</th>\n",
       "      <th>Comision</th>\n",
       "      <th>Modelo</th>\n",
       "      <th>diff_by_id_subrubro</th>\n",
       "    </tr>\n",
       "  </thead>\n",
       "  <tbody>\n",
       "    <tr>\n",
       "      <th>0</th>\n",
       "      <td>319160</td>\n",
       "      <td>0</td>\n",
       "      <td>Miscelaneo</td>\n",
       "      <td>2021-12-01</td>\n",
       "      <td>7.057222e+06</td>\n",
       "      <td>0.0475</td>\n",
       "      <td>335218.058535</td>\n",
       "      <td>0</td>\n",
       "      <td>NaN</td>\n",
       "    </tr>\n",
       "    <tr>\n",
       "      <th>1</th>\n",
       "      <td>327969</td>\n",
       "      <td>0</td>\n",
       "      <td>Miscelaneo</td>\n",
       "      <td>2022-01-01</td>\n",
       "      <td>2.315868e+06</td>\n",
       "      <td>0.0475</td>\n",
       "      <td>110003.721087</td>\n",
       "      <td>0</td>\n",
       "      <td>-4.741354e+06</td>\n",
       "    </tr>\n",
       "    <tr>\n",
       "      <th>2</th>\n",
       "      <td>331637</td>\n",
       "      <td>0</td>\n",
       "      <td>Miscelaneo</td>\n",
       "      <td>2022-02-01</td>\n",
       "      <td>0.000000e+00</td>\n",
       "      <td>0.0475</td>\n",
       "      <td>0.000000</td>\n",
       "      <td>0</td>\n",
       "      <td>-2.315868e+06</td>\n",
       "    </tr>\n",
       "    <tr>\n",
       "      <th>3</th>\n",
       "      <td>346936</td>\n",
       "      <td>0</td>\n",
       "      <td>Miscelaneo</td>\n",
       "      <td>2022-03-01</td>\n",
       "      <td>2.780371e+06</td>\n",
       "      <td>0.0475</td>\n",
       "      <td>132067.640237</td>\n",
       "      <td>0</td>\n",
       "      <td>2.780371e+06</td>\n",
       "    </tr>\n",
       "    <tr>\n",
       "      <th>4</th>\n",
       "      <td>356387</td>\n",
       "      <td>0</td>\n",
       "      <td>Miscelaneo</td>\n",
       "      <td>2022-04-01</td>\n",
       "      <td>2.391440e+06</td>\n",
       "      <td>0.0475</td>\n",
       "      <td>113593.411273</td>\n",
       "      <td>0</td>\n",
       "      <td>-3.889312e+05</td>\n",
       "    </tr>\n",
       "    <tr>\n",
       "      <th>5</th>\n",
       "      <td>360117</td>\n",
       "      <td>0</td>\n",
       "      <td>Miscelaneo</td>\n",
       "      <td>2022-05-01</td>\n",
       "      <td>0.000000e+00</td>\n",
       "      <td>0.0475</td>\n",
       "      <td>0.000000</td>\n",
       "      <td>0</td>\n",
       "      <td>-2.391440e+06</td>\n",
       "    </tr>\n",
       "    <tr>\n",
       "      <th>6</th>\n",
       "      <td>374993</td>\n",
       "      <td>0</td>\n",
       "      <td>Miscelaneo</td>\n",
       "      <td>2022-06-01</td>\n",
       "      <td>1.757827e+06</td>\n",
       "      <td>0.0475</td>\n",
       "      <td>83496.800000</td>\n",
       "      <td>0</td>\n",
       "      <td>1.757827e+06</td>\n",
       "    </tr>\n",
       "    <tr>\n",
       "      <th>7</th>\n",
       "      <td>316352</td>\n",
       "      <td>1</td>\n",
       "      <td>Miscelaneo</td>\n",
       "      <td>2021-12-01</td>\n",
       "      <td>5.819138e+03</td>\n",
       "      <td>0.0475</td>\n",
       "      <td>276.415883</td>\n",
       "      <td>0</td>\n",
       "      <td>NaN</td>\n",
       "    </tr>\n",
       "    <tr>\n",
       "      <th>8</th>\n",
       "      <td>317530</td>\n",
       "      <td>1</td>\n",
       "      <td>Miscelaneo</td>\n",
       "      <td>2021-12-01</td>\n",
       "      <td>8.037804e+05</td>\n",
       "      <td>0.0475</td>\n",
       "      <td>38179.565966</td>\n",
       "      <td>0</td>\n",
       "      <td>7.979613e+05</td>\n",
       "    </tr>\n",
       "    <tr>\n",
       "      <th>9</th>\n",
       "      <td>317732</td>\n",
       "      <td>1</td>\n",
       "      <td>Miscelaneo</td>\n",
       "      <td>2021-12-01</td>\n",
       "      <td>1.153814e+06</td>\n",
       "      <td>0.0475</td>\n",
       "      <td>54806.154219</td>\n",
       "      <td>0</td>\n",
       "      <td>3.500333e+05</td>\n",
       "    </tr>\n",
       "    <tr>\n",
       "      <th>10</th>\n",
       "      <td>318990</td>\n",
       "      <td>1</td>\n",
       "      <td>Miscelaneo</td>\n",
       "      <td>2021-12-01</td>\n",
       "      <td>6.077992e+06</td>\n",
       "      <td>0.0475</td>\n",
       "      <td>288704.625869</td>\n",
       "      <td>0</td>\n",
       "      <td>4.924178e+06</td>\n",
       "    </tr>\n",
       "    <tr>\n",
       "      <th>11</th>\n",
       "      <td>320239</td>\n",
       "      <td>1</td>\n",
       "      <td>Miscelaneo</td>\n",
       "      <td>2021-12-01</td>\n",
       "      <td>1.919314e+07</td>\n",
       "      <td>0.0475</td>\n",
       "      <td>911674.096187</td>\n",
       "      <td>0</td>\n",
       "      <td>1.311515e+07</td>\n",
       "    </tr>\n",
       "    <tr>\n",
       "      <th>12</th>\n",
       "      <td>325934</td>\n",
       "      <td>1</td>\n",
       "      <td>Miscelaneo</td>\n",
       "      <td>2022-01-01</td>\n",
       "      <td>7.146051e+03</td>\n",
       "      <td>0.0475</td>\n",
       "      <td>339.437437</td>\n",
       "      <td>0</td>\n",
       "      <td>-1.918599e+07</td>\n",
       "    </tr>\n",
       "    <tr>\n",
       "      <th>13</th>\n",
       "      <td>326803</td>\n",
       "      <td>1</td>\n",
       "      <td>Miscelaneo</td>\n",
       "      <td>2022-01-01</td>\n",
       "      <td>3.745399e+05</td>\n",
       "      <td>0.0475</td>\n",
       "      <td>17790.639968</td>\n",
       "      <td>0</td>\n",
       "      <td>3.673938e+05</td>\n",
       "    </tr>\n",
       "    <tr>\n",
       "      <th>14</th>\n",
       "      <td>327234</td>\n",
       "      <td>1</td>\n",
       "      <td>Miscelaneo</td>\n",
       "      <td>2022-01-01</td>\n",
       "      <td>7.875887e+05</td>\n",
       "      <td>0.0475</td>\n",
       "      <td>37410.469840</td>\n",
       "      <td>0</td>\n",
       "      <td>4.130488e+05</td>\n",
       "    </tr>\n",
       "    <tr>\n",
       "      <th>15</th>\n",
       "      <td>328271</td>\n",
       "      <td>1</td>\n",
       "      <td>Miscelaneo</td>\n",
       "      <td>2022-01-01</td>\n",
       "      <td>3.319371e+06</td>\n",
       "      <td>0.0475</td>\n",
       "      <td>157670.124583</td>\n",
       "      <td>0</td>\n",
       "      <td>2.531782e+06</td>\n",
       "    </tr>\n",
       "    <tr>\n",
       "      <th>16</th>\n",
       "      <td>329261</td>\n",
       "      <td>1</td>\n",
       "      <td>Miscelaneo</td>\n",
       "      <td>2022-01-01</td>\n",
       "      <td>9.148720e+06</td>\n",
       "      <td>0.0475</td>\n",
       "      <td>434564.211439</td>\n",
       "      <td>0</td>\n",
       "      <td>5.829349e+06</td>\n",
       "    </tr>\n",
       "    <tr>\n",
       "      <th>17</th>\n",
       "      <td>335348</td>\n",
       "      <td>1</td>\n",
       "      <td>Miscelaneo</td>\n",
       "      <td>2022-02-01</td>\n",
       "      <td>1.651322e+03</td>\n",
       "      <td>0.0475</td>\n",
       "      <td>78.434665</td>\n",
       "      <td>0</td>\n",
       "      <td>-9.147069e+06</td>\n",
       "    </tr>\n",
       "    <tr>\n",
       "      <th>18</th>\n",
       "      <td>336651</td>\n",
       "      <td>1</td>\n",
       "      <td>Miscelaneo</td>\n",
       "      <td>2022-02-01</td>\n",
       "      <td>6.602071e+05</td>\n",
       "      <td>0.0475</td>\n",
       "      <td>31359.831790</td>\n",
       "      <td>0</td>\n",
       "      <td>6.585557e+05</td>\n",
       "    </tr>\n",
       "    <tr>\n",
       "      <th>19</th>\n",
       "      <td>336888</td>\n",
       "      <td>1</td>\n",
       "      <td>Miscelaneo</td>\n",
       "      <td>2022-02-01</td>\n",
       "      <td>9.625304e+05</td>\n",
       "      <td>0.0475</td>\n",
       "      <td>45720.198681</td>\n",
       "      <td>0</td>\n",
       "      <td>3.023234e+05</td>\n",
       "    </tr>\n",
       "  </tbody>\n",
       "</table>\n",
       "</div>"
      ],
      "text/plain": [
       "    Unnamed: 0  ID    Subrubro      Fecha        Ventas  Alicuota   \n",
       "0       319160   0  Miscelaneo 2021-12-01  7.057222e+06    0.0475  \\\n",
       "1       327969   0  Miscelaneo 2022-01-01  2.315868e+06    0.0475   \n",
       "2       331637   0  Miscelaneo 2022-02-01  0.000000e+00    0.0475   \n",
       "3       346936   0  Miscelaneo 2022-03-01  2.780371e+06    0.0475   \n",
       "4       356387   0  Miscelaneo 2022-04-01  2.391440e+06    0.0475   \n",
       "5       360117   0  Miscelaneo 2022-05-01  0.000000e+00    0.0475   \n",
       "6       374993   0  Miscelaneo 2022-06-01  1.757827e+06    0.0475   \n",
       "7       316352   1  Miscelaneo 2021-12-01  5.819138e+03    0.0475   \n",
       "8       317530   1  Miscelaneo 2021-12-01  8.037804e+05    0.0475   \n",
       "9       317732   1  Miscelaneo 2021-12-01  1.153814e+06    0.0475   \n",
       "10      318990   1  Miscelaneo 2021-12-01  6.077992e+06    0.0475   \n",
       "11      320239   1  Miscelaneo 2021-12-01  1.919314e+07    0.0475   \n",
       "12      325934   1  Miscelaneo 2022-01-01  7.146051e+03    0.0475   \n",
       "13      326803   1  Miscelaneo 2022-01-01  3.745399e+05    0.0475   \n",
       "14      327234   1  Miscelaneo 2022-01-01  7.875887e+05    0.0475   \n",
       "15      328271   1  Miscelaneo 2022-01-01  3.319371e+06    0.0475   \n",
       "16      329261   1  Miscelaneo 2022-01-01  9.148720e+06    0.0475   \n",
       "17      335348   1  Miscelaneo 2022-02-01  1.651322e+03    0.0475   \n",
       "18      336651   1  Miscelaneo 2022-02-01  6.602071e+05    0.0475   \n",
       "19      336888   1  Miscelaneo 2022-02-01  9.625304e+05    0.0475   \n",
       "\n",
       "         Comision  Modelo  diff_by_id_subrubro  \n",
       "0   335218.058535       0                  NaN  \n",
       "1   110003.721087       0        -4.741354e+06  \n",
       "2        0.000000       0        -2.315868e+06  \n",
       "3   132067.640237       0         2.780371e+06  \n",
       "4   113593.411273       0        -3.889312e+05  \n",
       "5        0.000000       0        -2.391440e+06  \n",
       "6    83496.800000       0         1.757827e+06  \n",
       "7      276.415883       0                  NaN  \n",
       "8    38179.565966       0         7.979613e+05  \n",
       "9    54806.154219       0         3.500333e+05  \n",
       "10  288704.625869       0         4.924178e+06  \n",
       "11  911674.096187       0         1.311515e+07  \n",
       "12     339.437437       0        -1.918599e+07  \n",
       "13   17790.639968       0         3.673938e+05  \n",
       "14   37410.469840       0         4.130488e+05  \n",
       "15  157670.124583       0         2.531782e+06  \n",
       "16  434564.211439       0         5.829349e+06  \n",
       "17      78.434665       0        -9.147069e+06  \n",
       "18   31359.831790       0         6.585557e+05  \n",
       "19   45720.198681       0         3.023234e+05  "
      ]
     },
     "execution_count": 46,
     "metadata": {},
     "output_type": "execute_result"
    }
   ],
   "source": [
    "ventas_cure_por_id_subrubro_fecha['diff_by_id_subrubro'] = ventas_cure_por_id_subrubro_fecha.groupby(['ID','Subrubro'])[\"Ventas\"].diff()\n",
    "ventas2.head(20)"
   ]
  },
  {
   "cell_type": "markdown",
   "metadata": {},
   "source": [
    "Pendiente: Convertir cada"
   ]
  },
  {
   "cell_type": "markdown",
   "metadata": {},
   "source": [
    "-----\n",
    "A partir de acá es experimental...\n"
   ]
  },
  {
   "cell_type": "code",
   "execution_count": null,
   "metadata": {},
   "outputs": [],
   "source": [
    "def func_i1_o2(x):\n",
    "    return pd.Series((x+1, x+2))\n",
    "\n",
    "func_i1_o2(1)"
   ]
  },
  {
   "cell_type": "markdown",
   "metadata": {},
   "source": [
    "Agregamos los depósitos para cada ID  \n",
    "Decisiones tomadas que se pueden rever:\n",
    "- Ignoramos Omega, Trat_fisc"
   ]
  },
  {
   "cell_type": "code",
   "execution_count": null,
   "metadata": {},
   "outputs": [],
   "source": [
    "ventas_cure_lean.head()"
   ]
  },
  {
   "cell_type": "code",
   "execution_count": null,
   "metadata": {},
   "outputs": [],
   "source": [
    "ventas_cure_lean.groupby(['ID', 'Subrubro', 'Fecha', 'Alicuota', 'Comision'])[\"Ventas\"].sum()#.unstack().reset_index()"
   ]
  },
  {
   "cell_type": "code",
   "execution_count": null,
   "metadata": {},
   "outputs": [],
   "source": [
    "ventas_cure_lean.groupby('Subrubro')[\"Ventas\"].diff()"
   ]
  },
  {
   "cell_type": "code",
   "execution_count": null,
   "metadata": {},
   "outputs": [],
   "source": [
    "ventas_cure[\"Ventas\"].diff()"
   ]
  },
  {
   "cell_type": "code",
   "execution_count": null,
   "metadata": {},
   "outputs": [],
   "source": [
    "# calcular diferencias relativas\n",
    "\n",
    "ventas_ipc[\"Ventas\"].rolling(3).mean()"
   ]
  },
  {
   "cell_type": "markdown",
   "metadata": {},
   "source": [
    "Número de IDs con ventas 0 en todo el periodo"
   ]
  },
  {
   "cell_type": "code",
   "execution_count": null,
   "metadata": {},
   "outputs": [],
   "source": [
    "np.sum(ventas_cure_lean.groupby(['ID'])['Ventas'].sum() == 0)"
   ]
  },
  {
   "cell_type": "markdown",
   "metadata": {},
   "source": [
    "Número de IDs-y-Subrubro que tuvieron ventas 0 en el periodo"
   ]
  },
  {
   "cell_type": "code",
   "execution_count": null,
   "metadata": {},
   "outputs": [],
   "source": [
    "np.sum(ventas_cure_lean.groupby(['ID', 'Subrubro'])['Ventas'].sum() == 0)"
   ]
  }
 ],
 "metadata": {
  "kernelspec": {
   "display_name": "diplodatos",
   "language": "python",
   "name": "python3"
  },
  "language_info": {
   "codemirror_mode": {
    "name": "ipython",
    "version": 3
   },
   "file_extension": ".py",
   "mimetype": "text/x-python",
   "name": "python",
   "nbconvert_exporter": "python",
   "pygments_lexer": "ipython3",
   "version": "3.11.3"
  },
  "orig_nbformat": 4
 },
 "nbformat": 4,
 "nbformat_minor": 2
}
