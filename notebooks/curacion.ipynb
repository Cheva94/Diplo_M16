{
 "cells": [
  {
   "cell_type": "code",
   "execution_count": null,
   "metadata": {},
   "outputs": [],
   "source": [
    "# Para que las funciones se actualicen sin tener que refrescar el kernel\n",
    "%load_ext autoreload\n",
    "%autoreload 2\n",
    "\n",
    "import pandas as pd\n",
    "import json\n",
    "from os.path import exists\n",
    "import missingno as msno\n",
    "import matplotlib.pyplot as plt\n",
    "import numpy as np\n",
    "import seaborn as sns\n",
    "from statsmodels.graphics.tsaplots import plot_acf\n",
    "from scipy.stats import linregress as LR\n",
    "from scipy.stats import skew, kurtosis, skewtest, kurtosistest\n",
    "\n",
    "# Funciones propias\n",
    "from utils_limpieza import * "
   ]
  },
  {
   "cell_type": "code",
   "execution_count": null,
   "metadata": {},
   "outputs": [],
   "source": [
    "# Cargar datos\n",
    "path = '../data/raw/tp2_muestra_diplodatos_ventas_omega_modelo_2023.csv'\n",
    "ventas = pd.read_csv(path)\n"
   ]
  },
  {
   "attachments": {},
   "cell_type": "markdown",
   "metadata": {},
   "source": [
    "## Hacemos la limpieza sugerida al principio del TP2\n",
    "- [x] Eliminar las variables en `cols_dropear` (Paso 1).\n",
    "- [x] Renombrar a 'Otros' las subcategorías que no tengan `MODELO` (Paso 2).\n",
    "- [x] Se eliminan los registros en 'Otros'. Previamente se almacenan en un dataset aparte."
   ]
  },
  {
   "cell_type": "code",
   "execution_count": null,
   "metadata": {},
   "outputs": [],
   "source": [
    "print(f'El df original tiene {ventas.shape[0]} registros y {ventas.shape[1]} variables.\\n')\n",
    "\n",
    "# Paso 1\n",
    "cols_dropear = ['INSCRIPCION', 'CATEGORIA', 'DESCRIPCION_CATEGORIA', 'CATEGORIA (Ajustado)', 'NOMBRE']\n",
    "ventas_renamed = limpiar_basic(ventas, cols_drop=cols_dropear)\n",
    "print(f'Luego del paso 1 se tiran {len(cols_dropear)} variables, quedando {ventas_renamed.shape[1]} variables.\\n')\n",
    "\n",
    "# Paso 2\n",
    "# ventas_renamed['SUB-CATEGORIA'].nunique() # antes del paso 2\n",
    "ventas_renamed = renombrar_elementos(ventas_renamed, \n",
    "                                     columna='SUB-CATEGORIA', \n",
    "                                     fill_otros='Otros')\n",
    "\n",
    "scu_vr = ventas_renamed['SUB-CATEGORIA'].nunique()\n",
    "scu_ot = ventas_renamed['SUB-CATEGORIA'].nunique() - scu_vr + 1\n",
    "print(f'Luego del paso 2 quedan {scu_vr} subcategorías únicas.')\n",
    "print(f'Las {scu_ot} subcategorías únicas que no tenían ningún vendedor modelo fueron agrupadas en \"Otros\".')\n",
    "print(f'Las {scu_vr-1} subcategorías que sí tienen vendedores modelo son:')\n",
    "\n",
    "ventas_renamed.groupby(by=['SUB-CATEGORIA'])['MODELO'].sum().sort_values(ascending=False)[:12]"
   ]
  },
  {
   "cell_type": "code",
   "execution_count": null,
   "metadata": {},
   "outputs": [],
   "source": [
    "#Eliminación de registros en \"Otros\" y almacenamiento en un dataset aparte\n",
    "\n",
    "ventas_otros = ventas_renamed[ventas_renamed['SUB-CATEGORIA'] == 'Otros'].copy()\n",
    "ventas_otros.to_csv('../data/interim/tp2_ventas_otros.csv')\n",
    "\n",
    "ventas_renamed = ventas_renamed[ventas_renamed['SUB-CATEGORIA'] != 'Otros'].copy()"
   ]
  },
  {
   "attachments": {},
   "cell_type": "markdown",
   "metadata": {},
   "source": [
    "## Análisis de datos faltantes\n",
    "- [x] Chequear presencia de datos faltantes\n",
    "- [x] Analizar su correlación\n",
    "- [x] Imputar de valores faltantes: `CM` y `Trat_Dif` con 'No'."
   ]
  },
  {
   "attachments": {},
   "cell_type": "markdown",
   "metadata": {},
   "source": [
    "Faltan datos en las mismas variables que antes. Imputo los complementos en `CM` y `Trat_Dif` para dejarlas listas. Luego de eso, se cumple lo que ya habíamos visto en el tp1."
   ]
  },
  {
   "cell_type": "code",
   "execution_count": null,
   "metadata": {},
   "outputs": [],
   "source": [
    "ventas_renamed.columns"
   ]
  },
  {
   "cell_type": "code",
   "execution_count": null,
   "metadata": {},
   "outputs": [],
   "source": [
    "msno.bar(ventas_renamed.sort_values('ID_VENDEDOR'), sort=\"ascending\", fontsize=12, color=\"tab:green\", figsize=(6, 5))\n",
    "msno.matrix(ventas_renamed.sort_values('ID_VENDEDOR'), fontsize=12, color=[0.5,0,0], figsize=(6, 5))\n",
    "msno.heatmap(ventas_renamed.sort_values('ID_VENDEDOR'), fontsize=12, figsize=(6, 5))\n",
    "\n",
    "plt.show()"
   ]
  },
  {
   "cell_type": "code",
   "execution_count": null,
   "metadata": {},
   "outputs": [],
   "source": [
    "ventas_renamed['CM04'] = ventas_renamed['CM04'].fillna('No')\n",
    "ventas_renamed['TRATAMIENTO_DIFERNCIAL'] = ventas_renamed['TRATAMIENTO_DIFERNCIAL'].fillna('No')"
   ]
  },
  {
   "cell_type": "code",
   "execution_count": null,
   "metadata": {},
   "outputs": [],
   "source": [
    "msno.bar(ventas_renamed.sort_values('ID_VENDEDOR'), sort=\"ascending\", fontsize=12, color=\"tab:green\", figsize=(6, 5))\n",
    "msno.matrix(ventas_renamed.sort_values('ID_VENDEDOR'), fontsize=12, color=[0.5,0,0], figsize=(6, 5))\n",
    "msno.heatmap(ventas_renamed.sort_values('ID_VENDEDOR'), fontsize=12, figsize=(6, 5))\n",
    "\n",
    "plt.show()"
   ]
  },
  {
   "attachments": {},
   "cell_type": "markdown",
   "metadata": {},
   "source": [
    "## Anonimizado + simplificación de variables y valores\n",
    "- [x] Simplificamos el nombre de las variables.\n",
    "- [x] Anonimizamos la variable sensible `ID` (Paso 3).\n",
    "- [x] Simplificamos (podría decir acá también que anonimizamos?) valores en `Deposito`\n",
    "- [x] Unificación y simplificación de categorías de `Trat_Fisc`.\n",
    "- [x] Simplificación de categorías de `Trat_Fisc_Agg` y `Trat_Dif`.\n",
    "- [x] Simplificación de categorías en `Categoria`.\n",
    "- [x] Guardamos todos estos diccionarios.\n",
    "- [x] CM: de Si/No a 1/0."
   ]
  },
  {
   "cell_type": "code",
   "execution_count": null,
   "metadata": {},
   "outputs": [],
   "source": [
    "# Se modifican los nombres de las columnas\n",
    "\n",
    "# Renombramos\n",
    "with open(\"../references/tp2_column_dict.json\") as column_dict_json:\n",
    "    column_dict = json.load(column_dict_json)\n",
    "\n",
    "ventas_renamed.rename(columns = column_dict, inplace = True)\n",
    "ventas_renamed.columns"
   ]
  },
  {
   "cell_type": "code",
   "execution_count": null,
   "metadata": {},
   "outputs": [],
   "source": [
    "# Anonimizamos y guardamos el diccionario para no perder esta info\n",
    "ventas_hash, dict_id = anonimizar(ventas_renamed, 'ID')\n",
    "\n",
    "with open(\"../references/tp2_ID_dict.json\", \"w\") as fp:\n",
    "    json.dump(dict_id, fp)\n",
    "\n",
    "print('¡Diccionario generado!')"
   ]
  },
  {
   "cell_type": "code",
   "execution_count": null,
   "metadata": {},
   "outputs": [],
   "source": [
    "# Mapeo de `Deposito` a enteros\n",
    "ventas_hash, dict_dep = anonimizar(ventas_hash, 'Deposito')\n",
    "\n",
    "with open(\"../references/tp2_deposito_dict.json\", \"w\") as fp:\n",
    "    json.dump(dict_dep, fp)\n",
    "\n",
    "print('¡Diccionario generado!')"
   ]
  },
  {
   "cell_type": "code",
   "execution_count": null,
   "metadata": {},
   "outputs": [],
   "source": [
    "# Mapeo de `CM` según \"Si\" >> 1 y \"No\" >> 0.\n",
    "ventas_hash['CM'] = ventas_hash['CM'].replace({'No': 0, 'Si': 1})"
   ]
  },
  {
   "cell_type": "code",
   "execution_count": null,
   "metadata": {},
   "outputs": [],
   "source": [
    "# Unificacón y simplificación de categorías de `Trat_Fisc`\n",
    "with open(\"../references/tp1_trat_fisc_dict.json\") as trat_fisc_dict_json:\n",
    "    trat_fisc_dict = json.load(trat_fisc_dict_json)\n",
    "    \n",
    "ventas_hash['Trat_Fisc'] = ventas_hash['Trat_Fisc'].astype(str)\n",
    "ventas_hash['Trat_Fisc'] = ventas_hash['Trat_Fisc'].replace(trat_fisc_dict)"
   ]
  },
  {
   "cell_type": "code",
   "execution_count": null,
   "metadata": {},
   "outputs": [],
   "source": [
    "# Simplificación de categorías de `Trat_Fisc_Agg`\n",
    "with open(\"../references/tp1_trat_fisc_agg_dict.json\") as trat_fisc_agg_dict_json:\n",
    "    trat_fisc_agg_dict = json.load(trat_fisc_agg_dict_json)\n",
    "\n",
    "ventas_hash['Trat_Fisc_Agg'] = ventas_hash['Trat_Fisc_Agg'].replace(trat_fisc_agg_dict)"
   ]
  },
  {
   "cell_type": "code",
   "execution_count": null,
   "metadata": {},
   "outputs": [],
   "source": [
    "# Simplificación de categorías de `Trat_Dif`\n",
    "with open(\"../references/tp1_trat_diff_dict.json\") as trat_dif_dict_json:\n",
    "    trat_dif_dict = json.load(trat_dif_dict_json)\n",
    "\n",
    "ventas_hash['Trat_Dif'] = ventas_hash['Trat_Dif'].replace(trat_dif_dict)"
   ]
  },
  {
   "cell_type": "code",
   "execution_count": null,
   "metadata": {},
   "outputs": [],
   "source": [
    "# Simplificación de categorías de `Subrubro`\n",
    "with open(\"../references/tp2_subrubro_dict.json\") as subrubro_dict_json:\n",
    "    subrubro_dict = json.load(subrubro_dict_json)\n",
    "\n",
    "ventas_hash['Subrubro'] = ventas_hash['Subrubro'].replace(subrubro_dict)"
   ]
  },
  {
   "cell_type": "code",
   "execution_count": null,
   "metadata": {},
   "outputs": [],
   "source": [
    "ventas_hash['Subrubro'].unique()"
   ]
  },
  {
   "cell_type": "code",
   "execution_count": null,
   "metadata": {},
   "outputs": [],
   "source": [
    "# Guardo todo lo hecho hasta acá, para no tener que correr todo\n",
    "ventas_hash.to_csv('../data/interim/tp2_ventas_hash.csv', index=False)"
   ]
  },
  {
   "attachments": {},
   "cell_type": "markdown",
   "metadata": {},
   "source": [
    "## Variable fecha (Paso 6).\n",
    "Creamos la variable `Fecha`, que surge como:\n",
    "    $$Fecha = Año + Mes$$\n",
    "\n",
    "Luego vamos a optar por droppear `Mes` y `Año`. Aunque para el análisis temporal habrá momentos en que necesitamos tener `Año` y `Mes` por separado, son fácilmente recuperables a través de `Fecha`."
   ]
  },
  {
   "cell_type": "code",
   "execution_count": null,
   "metadata": {},
   "outputs": [],
   "source": [
    "ventas_hash[\"FECHA\"] = pd.to_datetime(ventas_hash['Mes'].astype(str) + '-' + ventas_hash['Año'].astype(str), format='%m-%Y')\n",
    "cols_dropear = ['Mes', 'Año']\n",
    "ventas_hash = limpiar_basic(ventas_hash, cols_drop=cols_dropear)\n",
    "\n",
    "ventas_hash[:3]"
   ]
  },
  {
   "attachments": {},
   "cell_type": "markdown",
   "metadata": {},
   "source": [
    "## Eliminación efecto inflación\n",
    "Las variables expresadas en pesos aumentan mes a mes por efecto de la inflación. Lo que impide comparar un valor monetario de un mes contra el del mes siguiente. A fin de eliminar este efecto, una alternativa es reexpresar los valores monetarios respecto a un mes base. Por ejemplo, el último mes de la serie."
   ]
  },
  {
   "cell_type": "code",
   "execution_count": null,
   "metadata": {},
   "outputs": [],
   "source": [
    "ventas_ipc = ventas_hash.copy()"
   ]
  },
  {
   "cell_type": "code",
   "execution_count": null,
   "metadata": {},
   "outputs": [],
   "source": [
    "# Obtener el último mes\n",
    "fecha = ventas_ipc['FECHA'].max()\n",
    "print(f\"El último mes de la serie es el {fecha.month} de {fecha.year}\")"
   ]
  },
  {
   "attachments": {},
   "cell_type": "markdown",
   "metadata": {},
   "source": [
    "El procedimiento es el siguiente:\n",
    "    $$\\text{VAR}_{mm-aaaa} \\frac{\\text{IPC}_{06-2022}}{\\text{IPC}_{mm-aaaa}}$$\n",
    "\n",
    "Para todo valor de cada variable (VAR) correspondiente a cierto mes \"mm-aaaa\" se lo divide por el Índice de Precios al Consumidor (IPC) correspondiente a ese mes \"mm-aaaa\" y luego se lo multiplica por el IPC correspondiente al mes \"06-2022\".\n",
    "\n",
    "De esta forma, todos los valores de cada variable VAR van a quedar expresados en unidades monetarias del \"06-2022\".\n",
    "\n"
   ]
  },
  {
   "attachments": {},
   "cell_type": "markdown",
   "metadata": {},
   "source": [
    "Es necesario obtener de manera externa una serie del IPC que publica Indec."
   ]
  },
  {
   "cell_type": "code",
   "execution_count": null,
   "metadata": {},
   "outputs": [],
   "source": [
    "precios = \"../data/external/tp2_IPC_Indec.csv\"\n",
    "\n",
    "if exists(precios):\n",
    "    print('Este archivo ya existe.')\n",
    "else:\n",
    "    print('Este archivo no existe: ¡Vamos a crearlo!')\n",
    "    url = \"https://www.indec.gob.ar/ftp/cuadros/economia/sh_ipc_06_23.xls\"\n",
    "    df = pd.read_excel(url, sheet_name=\"Índices IPC Cobertura Nacional\", header=None, usecols=\"B:CA\", skiprows=[0, 1, 2, 3, 4, 6, 7, 8], nrows=2)\n",
    "    df = df.transpose()\n",
    "    df.columns = [\"FECHA\", \"INDICE\"]\n",
    "    df[\"FECHA\"] = pd.to_datetime(df[\"FECHA\"])\n",
    "    df.to_csv(precios, index=False)"
   ]
  },
  {
   "cell_type": "code",
   "execution_count": null,
   "metadata": {},
   "outputs": [],
   "source": [
    "# Abrir dataset de precios\n",
    "precios = pd.read_csv(precios)\n",
    "precios.head()"
   ]
  },
  {
   "attachments": {},
   "cell_type": "markdown",
   "metadata": {},
   "source": [
    "Luego debemos unir ambas bases de datos (ventas y precios), de acuerdo a la variable clave `FECHA`"
   ]
  },
  {
   "cell_type": "code",
   "execution_count": null,
   "metadata": {},
   "outputs": [],
   "source": [
    "print(ventas_ipc[\"FECHA\"].dtype)\n",
    "print(precios[\"FECHA\"].dtype)"
   ]
  },
  {
   "cell_type": "code",
   "execution_count": null,
   "metadata": {},
   "outputs": [],
   "source": [
    "# Hay que asegurar que la variable clave tenga el mismo tipo en los dos dataframes\n",
    "precios[\"FECHA\"] = pd.to_datetime(precios[\"FECHA\"])"
   ]
  },
  {
   "cell_type": "code",
   "execution_count": null,
   "metadata": {},
   "outputs": [],
   "source": [
    "print(ventas_ipc[\"FECHA\"].dtype)\n",
    "print(precios[\"FECHA\"].dtype)"
   ]
  },
  {
   "cell_type": "code",
   "execution_count": null,
   "metadata": {},
   "outputs": [],
   "source": [
    "ventas_ipc = ventas_ipc.merge(precios[[\"FECHA\", \"INDICE\"]], on=\"FECHA\", how=\"left\")\n",
    "ventas_ipc.head(3)"
   ]
  },
  {
   "attachments": {},
   "cell_type": "markdown",
   "metadata": {},
   "source": [
    "La series que están expresadas en pesos son las siguientes: \n",
    "   * `Ventas`\n",
    "   * `Comision`"
   ]
  },
  {
   "cell_type": "code",
   "execution_count": null,
   "metadata": {},
   "outputs": [],
   "source": [
    "# Aplico la función para indexar valores respecto al último mes de la serie\n",
    "indexar(ventas_ipc, 'Ventas')"
   ]
  },
  {
   "cell_type": "code",
   "execution_count": null,
   "metadata": {},
   "outputs": [],
   "source": [
    "indexar(ventas_ipc, 'Comision')"
   ]
  },
  {
   "attachments": {},
   "cell_type": "markdown",
   "metadata": {},
   "source": [
    "Vemos gráficamente el efecto de la operación (por simplicidad se grafican mensualmente las series de tiempo agregando los valores por suma)."
   ]
  },
  {
   "attachments": {},
   "cell_type": "markdown",
   "metadata": {},
   "source": [
    "En las variantes llamadas \"Reales\", se observa una pendiente más moderada. El efecto de la inflación ha sido \"descartado\". De aquí en adelante, a la hora de hablar de los valores de estas variables, la interpretación correcta será \"$ XX.XXX a precios de junio de 2022\""
   ]
  },
  {
   "cell_type": "code",
   "execution_count": null,
   "metadata": {},
   "outputs": [],
   "source": [
    "ventas_ipc.head(3)"
   ]
  },
  {
   "cell_type": "code",
   "execution_count": null,
   "metadata": {},
   "outputs": [],
   "source": [
    "# # Se descartan las variables que no se usan\n",
    "ventas_ipc = limpiar_basic(ventas_ipc, cols_drop=['Ventas', 'Comision', 'INDICE'])\n",
    "\n",
    "# Se renombran las variables\n",
    "ventas_ipc.rename(columns = {'FECHA': 'Fecha', 'Ventas_Real': 'Ventas', \n",
    "                              'Comision_Real': 'Comision'}, inplace = True)\n",
    "\n",
    "# Se reacomodan las columnas\n",
    "ventas_ipc = ventas_ipc[['ID', 'Omega', 'Subrubro', 'Trat_Fisc_Agg', \n",
    "                          'Trat_Fisc', 'Trat_Dif', 'CM', 'Fecha', 'Deposito', \n",
    "                          'Ventas', 'Alicuota', 'Comision', 'Modelo']]\n",
    "\n",
    "ventas_ipc = ventas_ipc.sort_values(['Fecha', 'Ventas']).reset_index(drop=True)"
   ]
  },
  {
   "cell_type": "code",
   "execution_count": null,
   "metadata": {},
   "outputs": [],
   "source": [
    "# Guardo todo lo hecho hasta acá, para no tener que correr todo\n",
    "ventas_ipc.to_csv('../data/interim/tp2_ventas_ipc.csv', index=False)"
   ]
  },
  {
   "attachments": {},
   "cell_type": "markdown",
   "metadata": {},
   "source": [
    "---\n",
    "# Análisis de variables numéricas (sin considerar series temporales)"
   ]
  },
  {
   "attachments": {},
   "cell_type": "markdown",
   "metadata": {},
   "source": [
    "### Estadística descriptiva"
   ]
  },
  {
   "cell_type": "code",
   "execution_count": null,
   "metadata": {},
   "outputs": [],
   "source": [
    "if 'ventas_ipc' not in locals():\n",
    "    # Para que las funciones se actualicen si tener que refrescar el kernel\n",
    "    %load_ext autoreload\n",
    "    %autoreload 2\n",
    "\n",
    "    import pandas as pd\n",
    "    import json\n",
    "    from os.path import exists\n",
    "    import missingno as msno\n",
    "    import matplotlib.pyplot as plt\n",
    "    import numpy as np\n",
    "    import seaborn as sns\n",
    "    from statsmodels.graphics.tsaplots import plot_acf\n",
    "    from scipy.stats import linregress as LR\n",
    "    from scipy.stats import skew, kurtosis, skewtest, kurtosistest\n",
    "\n",
    "    # Funciones propias\n",
    "    from utils_limpieza import * \n",
    "    \n",
    "    ventas_ipc = pd.read_csv('../data/interim/tp2_ventas_ipc.csv')"
   ]
  },
  {
   "cell_type": "code",
   "execution_count": null,
   "metadata": {},
   "outputs": [],
   "source": [
    "# Discrimanción por tipo de variables\n",
    "temp_cols = ['Año', 'Mes', 'Fecha', 'IPC']\n",
    "ven_temp = ventas_ipc[temp_cols]\n",
    "\n",
    "cat_cols = ['ID', 'Omega', 'Subrubro', 'Trat_Fisc_Agg', 'Trat_Fisc', 'Trat_Dif',\n",
    "'CM', 'Deposito', 'Modelo']\n",
    "ven_cat = ventas_ipc[cat_cols]\n",
    "\n",
    "num_cols = ['Ventas', 'Alicuota', 'Comision']\n",
    "ven_num = ventas_ipc[num_cols]"
   ]
  },
  {
   "attachments": {},
   "cell_type": "markdown",
   "metadata": {},
   "source": [
    "- Vemos que en la variable `Alicuota` la dispersión de los datos está en el orden de la media, tomando valores desde 0% hasta 18%. Esto se ve reflejado en un z-Score que va desde -1 a 6 (igual al tp1).\n",
    "- Esta tendencia a tener la cola derecha más larga también se nota en las otras dos variables. Sin embargo, en estos dos últimos casos la dispersión de datos es enorme: la desviación estándar es igual y un orden mayor que la media y el extremo superior del z-Score está en 83 y 108 para `Ventas` y `Comision`, respectivamente. (mejoró respecto al tp1 gracias a la normalización por IPC)"
   ]
  },
  {
   "cell_type": "code",
   "execution_count": null,
   "metadata": {},
   "outputs": [],
   "source": [
    "ven_num.describe().T"
   ]
  },
  {
   "cell_type": "code",
   "execution_count": null,
   "metadata": {},
   "outputs": [],
   "source": [
    "print('z-Score de los extremos de la variables numéricas:') \n",
    "for col in num_cols:\n",
    "    zScore_min = (ven_num[col].min() - ven_num[col].mean()) / ven_num[col].std()\n",
    "    zScore_max = (ven_num[col].max() - ven_num[col].mean()) / ven_num[col].std()\n",
    "\n",
    "    print(f'\\t{col}:')\n",
    "    print(f'\\t\\t Mínimo: {zScore_min:.0f} \\t Máximo: {zScore_max:.0f}')"
   ]
  },
  {
   "attachments": {},
   "cell_type": "markdown",
   "metadata": {},
   "source": [
    "- Tanto `Ventas` como `Comision` tienen prácticamente un 42% de registros con valores nulos y un 0.32% de valores negativos, *i.e.* hay un 42-43% de registros con valores no positivos imputados. \n",
    "- Un valor nulo significa que o bien era realmente nulo o se encontraba entre -$100 y $1000 (en la variable original de ventas).\n",
    "- `Alicuota` no posee registros negativos, pero sí tiene un 0.63% de registros nulos."
   ]
  },
  {
   "cell_type": "code",
   "execution_count": null,
   "metadata": {},
   "outputs": [],
   "source": [
    "print('Proporción de valores negativos, nulos y positivos en las variables numéricas:') \n",
    "for col in num_cols:\n",
    "    print(f'\\t{col}')\n",
    "    ans = len(ven_num[col])\n",
    "    neg = len(ven_num[ven_num[col] < 0])\n",
    "    nul = len(ven_num[ven_num[col] == 0])\n",
    "\n",
    "    cant = [neg, nul, neg+nul, ans-neg-nul, ans]\n",
    "    prop = [f'{100*neg/ans:.2f}%', f'{100*nul/ans:.2f}%', f'{100*(nul+neg)/ans:.2f}%', f'{100*(ans-nul-neg)/ans:.2f}%', '100.00%']\n",
    "    desc = pd.DataFrame([cant, prop], columns=['Negativos', 'Nulos', 'No positivos', 'Positivos', 'Total'], index=['Cantidad', 'Proporcion'])\n",
    "    display(desc)\n"
   ]
  },
  {
   "cell_type": "code",
   "execution_count": null,
   "metadata": {},
   "outputs": [],
   "source": [
    "sns.pairplot(data=ven_num, diag_kind='kde', plot_kws = {'alpha': 0.3, 's': 10})\n",
    "plt.show()"
   ]
  },
  {
   "cell_type": "code",
   "execution_count": null,
   "metadata": {},
   "outputs": [],
   "source": [
    "# Cálculo y Visualización de la matriz de correlación entre las variables\n",
    "matrix = ven_num[['Ventas', 'Alicuota', 'Comision']].corr().round(2)\n",
    "sns.heatmap(matrix, annot=True)"
   ]
  },
  {
   "attachments": {},
   "cell_type": "markdown",
   "metadata": {},
   "source": [
    "### Discriminando por tipo de venta\n",
    "Dado el enorme peso de los valores nulos sobre el total de registros y la presencia de valores negativos, tanto en `Ventas` como en `Comision`, se decide dividir este DataFrame en tres:\n",
    "1. Filtrado por `Ventas` nulas (`ven_num_null`)\n",
    "2. Filtrado por `Ventas` negativas (`ven_num_neg`)\n",
    "2. Filtrado por `Ventas` positivas (`ven_num_pos`)"
   ]
  },
  {
   "attachments": {},
   "cell_type": "markdown",
   "metadata": {},
   "source": [
    "#### DataFrame con todas las ventas nulas"
   ]
  },
  {
   "attachments": {},
   "cell_type": "markdown",
   "metadata": {},
   "source": [
    "Al hacer esto, vemos que todos los valores de `Comision` en `ven_num_null` también son nulos, independientemente del valor de `Alicuota`, la cual sigue ocupando el rango de 0% a 18%."
   ]
  },
  {
   "cell_type": "code",
   "execution_count": null,
   "metadata": {},
   "outputs": [],
   "source": [
    "ven_num_null = ven_num[ven_num['Ventas'] == 0].copy()\n",
    "ven_num_null.describe().T"
   ]
  },
  {
   "cell_type": "code",
   "execution_count": null,
   "metadata": {},
   "outputs": [],
   "source": [
    "print('z-Score de los extremos de la variables numéricas:') \n",
    "for col in ['Alicuota']:\n",
    "    zScore_min = (ven_num_null[col].min() - ven_num_null[col].mean()) / ven_num_null[col].std()\n",
    "    zScore_max = (ven_num_null[col].max() - ven_num_null[col].mean()) / ven_num_null[col].std()\n",
    "\n",
    "    print(f'\\t{col}:')\n",
    "    print(f'\\t\\t Mínimo: {zScore_min:.0f} \\t Máximo: {zScore_max:.0f}')"
   ]
  },
  {
   "attachments": {},
   "cell_type": "markdown",
   "metadata": {},
   "source": [
    "#### DataFrame con todas las ventas negativas"
   ]
  },
  {
   "attachments": {},
   "cell_type": "markdown",
   "metadata": {},
   "source": [
    "- Hay 7 órdenes de magnitud de diferencia entre los valores mínimo y máximo de ventas y comisión.\n",
    "- Los datos son asimétricos hacia la izquierda, igual son menos asimétricos que el conjunto global\n",
    "- Hay casos donde la comisión es nula a pesar de que la venta no fue nula. ¿Esto podría estar asociado a las alícuotas nulas o a ciertos tratamientos fiscales o tema subrubro?"
   ]
  },
  {
   "cell_type": "code",
   "execution_count": null,
   "metadata": {},
   "outputs": [],
   "source": [
    "ven_num_neg = ven_num[ven_num['Ventas'] < 0].copy()\n",
    "ven_num_neg.describe().T"
   ]
  },
  {
   "cell_type": "code",
   "execution_count": null,
   "metadata": {},
   "outputs": [],
   "source": [
    "print('z-Score de los extremos de la variables numéricas:') \n",
    "for col in num_cols:\n",
    "    zScore_min = (ven_num_neg[col].min() - ven_num_neg[col].mean()) / ven_num_neg[col].std()\n",
    "    zScore_max = (ven_num_neg[col].max() - ven_num_neg[col].mean()) / ven_num_neg[col].std()\n",
    "\n",
    "    print(f'\\t{col}:')\n",
    "    print(f'\\t\\t Mínimo: {zScore_min:.0f} \\t Máximo: {zScore_max:.0f}')"
   ]
  },
  {
   "attachments": {},
   "cell_type": "markdown",
   "metadata": {},
   "source": [
    "* La mayoría de las ventas y comisiones están asociadas a alícuotas menores al 5% (con moda en 5%).\n",
    "* Se proyecta una relación lineal entre `Ventas` y `Comision`: hay una correlación de +0.66. Chequear relación de proporcionaldiad con `Alicuota`"
   ]
  },
  {
   "cell_type": "code",
   "execution_count": null,
   "metadata": {},
   "outputs": [],
   "source": [
    "sns.pairplot(data=ven_num_neg, diag_kind='kde', plot_kws = {'alpha': 0.3, 's': 10})\n",
    "plt.show()"
   ]
  },
  {
   "cell_type": "code",
   "execution_count": null,
   "metadata": {},
   "outputs": [],
   "source": [
    "# Cálculo y Visualización de la matriz de correlación entre las variables\n",
    "matrix = ven_num_neg[['Ventas', 'Alicuota', 'Comision']].corr().round(2)\n",
    "sns.heatmap(matrix, annot=True)"
   ]
  },
  {
   "attachments": {},
   "cell_type": "markdown",
   "metadata": {},
   "source": [
    "#### DataFrame con todas las ventas positivas"
   ]
  },
  {
   "attachments": {},
   "cell_type": "markdown",
   "metadata": {},
   "source": [
    "- Hay 5 y 9 órdenes de magnitud de diferencia entre los valores mínimo y máximo de comisión y ventas, respectivamente.\n",
    "- Los datos son asimétricos hacia la derecha, igual son menos asimétricos que el conjunto global.\n",
    "- Hay casos donde la comisión es nula a pesar de que la venta no fue nula. ¿Esto podría estar asociado a las alícuotas nulas o a ciertos tratamientos fiscales o tema subrubro?"
   ]
  },
  {
   "cell_type": "code",
   "execution_count": null,
   "metadata": {},
   "outputs": [],
   "source": [
    "ven_num_pos = ven_num[ven_num['Ventas'] > 0].copy()\n",
    "ven_num_pos.describe().T"
   ]
  },
  {
   "cell_type": "code",
   "execution_count": null,
   "metadata": {},
   "outputs": [],
   "source": [
    "print('z-Score de los extremos de la variables numéricas:') \n",
    "for col in num_cols:\n",
    "    zScore_min = (ven_num_pos[col].min() - ven_num_pos[col].mean()) / ven_num_pos[col].std()\n",
    "    zScore_max = (ven_num_pos[col].max() - ven_num_pos[col].mean()) / ven_num_pos[col].std()\n",
    "\n",
    "    print(f'\\t{col}:')\n",
    "    print(f'\\t\\t Mínimo: {zScore_min:.0f} \\t Máximo: {zScore_max:.0f}')"
   ]
  },
  {
   "attachments": {},
   "cell_type": "markdown",
   "metadata": {},
   "source": [
    "* La mayoría de las ventas y comisiones están asociadas a alícuotas menores al 5%.\n",
    "* Hay una distribución bimodal en torno al 0.0475% y el 5%\n",
    "* Se proyectan diferentes rectas entre `Ventas` y `Comision`: ¿existe una relación de proporcionaldiad con `Alicuota`?\n",
    "* Se proyecta una relación lineal entre `Ventas` y `Comision`: hay una correlación de +0.87. Chequear relación de proporcionaldiad con `Alicuota`"
   ]
  },
  {
   "cell_type": "code",
   "execution_count": null,
   "metadata": {},
   "outputs": [],
   "source": [
    "sns.pairplot(data=ven_num_pos, diag_kind='kde', plot_kws = {'alpha': 0.3, 's': 10})\n",
    "plt.show()"
   ]
  },
  {
   "cell_type": "code",
   "execution_count": null,
   "metadata": {},
   "outputs": [],
   "source": [
    "# Cálculo y Visualización de la matriz de correlación entre las variables\n",
    "matrix = ven_num_pos[['Ventas', 'Alicuota', 'Comision']].corr().round(2)\n",
    "sns.heatmap(matrix, annot=True)"
   ]
  },
  {
   "attachments": {},
   "cell_type": "markdown",
   "metadata": {},
   "source": [
    "### Más medidas de dispersión sobre ventas no nulas: asimetría y Kurtosis"
   ]
  },
  {
   "attachments": {},
   "cell_type": "markdown",
   "metadata": {},
   "source": [
    "Al analizar la asimetría (skewness) y la Kurtosis sobre estas variables decimos que:\n",
    "* Las ventas positivas tienen un sesgo positivos y las negativas un sesgo negativo tanto para comisión como para ventas, como ya habíamos visto: las colas de las distribuciones se encuentran a derecha e izquierda, respectivamente.\n",
    "* Las comisiones siempre tienen sesgo positivo: colas a derecha.\n",
    "* Todas son leptocúrticas: están más apuntaladas y con colas más gruesas que la normal.\n",
    "* Todos los p-valores son nulos en ambos test, lo cual indica que rechazamos la hipótesis nula: tanto en simetría como en Kurtosis las distribuciones son significativamente diferentes a una distribución normal."
   ]
  },
  {
   "cell_type": "code",
   "execution_count": null,
   "metadata": {},
   "outputs": [],
   "source": [
    "print('Ventas negativas')\n",
    "asim = skew(ven_num_neg)\n",
    "asimtest = skewtest(ven_num_neg).pvalue\n",
    "kurt = kurtosis(ven_num_neg)\n",
    "kurttest = kurtosistest(ven_num_neg).pvalue\n",
    "\n",
    "desc = pd.DataFrame({'Asimetría': asim, 'p-val Asim.': asimtest,\n",
    "                     'Kurtosis (Fisher)': kurt, 'p-val Kurt.': kurttest},\n",
    "                     index=['Ventas', 'Alicuota', 'Comision'])\n",
    "desc"
   ]
  },
  {
   "cell_type": "code",
   "execution_count": null,
   "metadata": {},
   "outputs": [],
   "source": [
    "print('Ventas positivas')\n",
    "asim = skew(ven_num_pos)\n",
    "asimtest = skewtest(ven_num_pos).pvalue\n",
    "kurt = kurtosis(ven_num_pos)\n",
    "kurttest = kurtosistest(ven_num_pos).pvalue\n",
    "\n",
    "desc = pd.DataFrame({'Asimetría': asim, 'p-val Asim.': asimtest,\n",
    "                     'Kurtosis (Fisher)': kurt, 'p-val Kurt.': kurttest},\n",
    "                     index=['Ventas', 'Alicuota', 'Comision'])\n",
    "desc"
   ]
  },
  {
   "attachments": {},
   "cell_type": "markdown",
   "metadata": {},
   "source": [
    "### Relación entre variables numéricas con etiquetas categóricas"
   ]
  },
  {
   "cell_type": "code",
   "execution_count": null,
   "metadata": {},
   "outputs": [],
   "source": [
    "ventas_null = ventas_ipc[ventas_ipc['Ventas'] == 0].copy()\n",
    "ventas_neg = ventas_ipc[ventas_ipc['Ventas'] < 0].copy()\n",
    "ventas_pos = ventas_ipc[ventas_ipc['Ventas'] > 0].copy()"
   ]
  },
  {
   "attachments": {},
   "cell_type": "markdown",
   "metadata": {},
   "source": [
    "#### Ventas nulas"
   ]
  },
  {
   "attachments": {},
   "cell_type": "markdown",
   "metadata": {},
   "source": [
    "- Omega: prácticamente todos 1. Hay una nadita de 0.\n",
    "- Subrubro: nada particular.\n",
    "- Trat_Fisc_Agg: casi todos normales, algunos exentos y ni se ven los otros.\n",
    "- Trat_Fisc: la enorme mayoría son 0. Después destacan apenitas los normales.\n",
    "- Trat_Dif: la enorme mayoría no tiene. espués destacan apenitas los artículos 16 y 21.\n",
    "- CM: prácticamente todos 0. Hay una nadita de 1. Se repite lo que vimos en el tp1: todos los CM1 están acá. Identificar a este vendedor y eliminar.\n",
    "- Modelo: la gran mayoría no lo son, aunque sí hay varios modelo (en torno al cero)."
   ]
  },
  {
   "cell_type": "code",
   "execution_count": null,
   "metadata": {},
   "outputs": [],
   "source": [
    "# Estas gráficas tardan bastante en generarse, descomentar para obtenerlas\n",
    "\n",
    "for col in ['Omega', 'Subrubro', 'Trat_Fisc_Agg', 'Trat_Fisc', 'Trat_Dif', 'CM', 'Modelo']:\n",
    "    sns.kdeplot(data=ventas_null[['Alicuota', col]], x='Alicuota', hue=col)\n",
    "    plt.show()"
   ]
  },
  {
   "attachments": {},
   "cell_type": "markdown",
   "metadata": {},
   "source": [
    "#### Ventas negativas"
   ]
  },
  {
   "attachments": {},
   "cell_type": "markdown",
   "metadata": {},
   "source": [
    "- Omega: todos son 1.\n",
    "- Subrubro: destacan misceláneo, supermercados y combustible reventa.\n",
    "- Trat_Fisc_Agg: la enorme mayoría son normal, una nada de exentos. No hay otros.\n",
    "- Trat_Fisc: nada particular.\n",
    "- Trat_Dif: mayoritariamente no.\n",
    "- CM: todos son 0.\n",
    "- Modelo: todos son 0 (no hay ningún modelo con ventas negativas)."
   ]
  },
  {
   "cell_type": "code",
   "execution_count": null,
   "metadata": {},
   "outputs": [],
   "source": [
    "# Estas gráficas tardan bastante en generarse, descomentar para obtenerlas\n",
    "\n",
    "for col in ['Omega', 'Subrubro', 'Trat_Fisc_Agg', 'Trat_Fisc', 'Trat_Dif', 'CM', 'Modelo']:\n",
    "    sns.pairplot(data=ventas_neg[num_cols+[col]], diag_kind='kde', hue=col, plot_kws = {'alpha': 0.3, 's': 10})\n",
    "    plt.show()"
   ]
  },
  {
   "attachments": {},
   "cell_type": "markdown",
   "metadata": {},
   "source": [
    "#### Ventas positivas"
   ]
  },
  {
   "attachments": {},
   "cell_type": "markdown",
   "metadata": {},
   "source": [
    "- Omega: la enorme mayoría son 1. Hay poquititos 1.\n",
    "- Subrubro: ver cómo se asocian a las diferentes proyecciones.\n",
    "- Trat_Fisc_Agg: casi todo normal. Algunos otros. También hay exento y mínimo.\n",
    "- Trat_Fisc: sumar esto al análisis de subrurbo (distinguir primero por subrubro y dentro de cada uno diferenciar entre Trat Fisc).\n",
    "- Trat_Dif: como el item anterior.\n",
    "- CM: todos son 0.\n",
    "- Modelo: hay tanto 0 como 1. Hay una mayor proporción de 1 que antes"
   ]
  },
  {
   "cell_type": "code",
   "execution_count": null,
   "metadata": {},
   "outputs": [],
   "source": [
    "# Estas gráficas tardan bastante en generarse, descomentar para obtenerlas\n",
    "\n",
    "for col in ['Omega', 'Subrubro', 'Trat_Fisc_Agg', 'Trat_Fisc', 'Trat_Dif', 'CM', 'Modelo']:\n",
    "    sns.pairplot(data=ventas_pos[num_cols+[col]], diag_kind='kde', hue=col, plot_kws = {'alpha': 0.3, 's': 10})\n",
    "    plt.show()"
   ]
  },
  {
   "attachments": {},
   "cell_type": "markdown",
   "metadata": {},
   "source": [
    "#### Nota sobre modelos\n",
    "- No hay ningún modelo con ventas nulas: la mayoría de sus registros son ventas positivas, aunque hay algunos con ventas negativas.\n",
    "- Todos los modeos tienen comisiones bajas (muy ceranas al 0%)."
   ]
  },
  {
   "attachments": {},
   "cell_type": "markdown",
   "metadata": {},
   "source": [
    "### Análisis de la relación de proporcionalidad entre variables numéricas"
   ]
  },
  {
   "attachments": {},
   "cell_type": "markdown",
   "metadata": {},
   "source": [
    "Queremos estudiar un poco más la relación lineal antes vista entre estas 3 variables. Proponemos que la función que las relaciona es\n",
    "    $$\\text{Comision} = \\text{Alicuota} \\times \\text{Ventas}$$\n",
    "\n",
    "Acá voy a volver a distinguir entre nulas, positivas y negativas e ir discriminando por modelo"
   ]
  },
  {
   "attachments": {},
   "cell_type": "markdown",
   "metadata": {},
   "source": [
    "#### Ventas nulas"
   ]
  },
  {
   "cell_type": "code",
   "execution_count": null,
   "metadata": {},
   "outputs": [],
   "source": [
    "# Relación lineal: comision = alicuota x venta\n",
    "calcCom = ventas_null['Alicuota'] * ventas_null['Ventas']\n",
    "\n",
    "L = len(calcCom)\n",
    "S = sum(abs(ventas_null['Comision'] - calcCom) == 0)\n",
    "print(f'{S} de {L} registros cumplen la relación >> {100*(S)/L:.2f}%')\n",
    "print(f'{L-S} registros no la cumplen la relación >> {100*(L-S)/L:.2f}%')"
   ]
  },
  {
   "attachments": {},
   "cell_type": "markdown",
   "metadata": {},
   "source": [
    "#### Ventas negativas"
   ]
  },
  {
   "cell_type": "code",
   "execution_count": null,
   "metadata": {},
   "outputs": [],
   "source": [
    "# Relación lineal: comision = alicuota x venta\n",
    "calcCom = ventas_neg['Alicuota'] * ventas_neg['Ventas']\n",
    "\n",
    "diff = ventas_neg['Comision'] - calcCom\n",
    "D = len(diff)\n",
    "L = len(calcCom)\n",
    "S = sum(abs(diff) == 0)\n",
    "\n",
    "print(f'{S} de {L} registros cumplen la relación >> {100*(S)/L:.2f}%')\n",
    "print(f'{L-S} registros no la cumplen la relación >> {100*(L-S)/L:.2f}%')\n",
    "\n",
    "sobre = len(diff[diff<0])\n",
    "print(f'\\t{sobre} registros sobreestiman la relación >>> {100*sobre/D:.2f}%')\n",
    "sub = len(diff[diff>0])\n",
    "print(f'\\t{sub} registros subestiman la relación >>> {100*sub/D:.2f}%')"
   ]
  },
  {
   "cell_type": "code",
   "execution_count": null,
   "metadata": {},
   "outputs": [],
   "source": [
    "com_real_sobre = ventas_neg['Comision'][diff<0]\n",
    "com_real_exac = ventas_neg['Comision'][diff==0]\n",
    "com_real_sub = ventas_neg['Comision'][diff>0]\n",
    "\n",
    "com_calc_sobre = calcCom[diff<0]\n",
    "com_calc_exac = calcCom[diff==0]\n",
    "com_calc_sub = calcCom[diff>0]"
   ]
  },
  {
   "cell_type": "code",
   "execution_count": null,
   "metadata": {},
   "outputs": [],
   "source": [
    "fig, axs = plt.subplots(figsize=(6, 5))\n",
    "\n",
    "fig.suptitle('Comisión: real vs calculada (ventas negativas)')\n",
    "\n",
    "axs.scatter(com_real_sobre, com_calc_sobre, label='Sobreestimado', s=30)\n",
    "axs.scatter(com_real_exac, com_calc_exac, label='Exacto', s=20)\n",
    "axs.scatter(com_real_sub, com_calc_sub, label='Subestimado', s=10)\n",
    "\n",
    "axs.legend()\n",
    "\n",
    "axs.set_xlabel('Comisión real')\n",
    "axs.set_ylabel('Comisión calculada')\n",
    "\n",
    "plt.show()"
   ]
  },
  {
   "cell_type": "code",
   "execution_count": null,
   "metadata": {},
   "outputs": [],
   "source": [
    "rg_real = pd.concat([com_real_sub[com_calc_sub<0], com_real_sobre[com_calc_sobre>10*com_real_sobre]])\n",
    "rg_calc = pd.concat([com_calc_sub[com_calc_sub<0], com_calc_sobre[com_calc_sobre>10*com_real_sobre]])\n",
    "\n",
    "rp_real = pd.concat([com_real_sub[com_calc_sub>0], com_real_sobre[com_calc_sobre<10*com_real_sobre], com_real_exac])\n",
    "rp_calc = pd.concat([com_calc_sub[com_calc_sub>0], com_calc_sobre[com_calc_sobre<10*com_real_sobre], com_calc_exac])"
   ]
  },
  {
   "cell_type": "code",
   "execution_count": null,
   "metadata": {},
   "outputs": [],
   "source": [
    "print(f'De los {len(rp_real+rg_real)} registros:')\n",
    "print(f'\\t{len(rg_real)} están en la recta con pendiente grande >>> {100*len(rg_real)/len(rp_real+rg_real):.2f}%')\n",
    "print(f'\\t{len(rp_real)} están en la recta con pendiente pequeña >>> {100*len(rp_real)/len(rp_real+rg_real):.2f}%')"
   ]
  },
  {
   "cell_type": "code",
   "execution_count": null,
   "metadata": {},
   "outputs": [],
   "source": [
    "LG = LR(rg_real, rg_calc)\n",
    "LP = LR(rp_real, rp_calc)"
   ]
  },
  {
   "cell_type": "code",
   "execution_count": null,
   "metadata": {},
   "outputs": [],
   "source": [
    "fig, axs = plt.subplots(figsize=(6, 5))\n",
    "\n",
    "axs.scatter(rg_real, rg_calc, label='Gran pendiente', s=30)\n",
    "axs.scatter(rp_real, rp_calc, label='Pequeña pendiente', s=15)\n",
    "axs.plot(rg_real, rg_real*LG.slope + LG.intercept, label=f'{LG.slope:.0f}*Real + ${LG.intercept:.0f}', color='red')\n",
    "axs.plot(rp_real, rp_real*LP.slope + LP.intercept, label=f'{LP.slope:.0f}*Real + ${LP.intercept:.4f}', color='tab:green')\n",
    "\n",
    "axs.legend(loc='upper left')\n",
    "\n",
    "axs.set_xlabel('Comisión real')\n",
    "axs.set_ylabel('Comisión calculada')\n",
    "\n",
    "fig.suptitle('Comisión empresa: real vs calculada (ventas negativas)')\n",
    "plt.show()"
   ]
  },
  {
   "cell_type": "code",
   "execution_count": null,
   "metadata": {},
   "outputs": [],
   "source": [
    "# Discrimino por modelo\n",
    "mask0 = ventas_neg['Modelo']==0\n",
    "mask1 = ventas_neg['Modelo']==1"
   ]
  },
  {
   "cell_type": "code",
   "execution_count": null,
   "metadata": {},
   "outputs": [],
   "source": [
    "com_real_Mod = ventas_neg['Comision'][mask1]\n",
    "com_real_noMod = ventas_neg['Comision'][mask0]\n",
    "\n",
    "com_calc_Mod = calcCom[mask1]\n",
    "com_calc_noMod = calcCom[mask0]"
   ]
  },
  {
   "cell_type": "code",
   "execution_count": null,
   "metadata": {},
   "outputs": [],
   "source": [
    "fig, axs = plt.subplots(figsize=(6, 5))\n",
    "\n",
    "axs.scatter(rg_real, rg_calc, label='Gran pendiente', s=30)\n",
    "axs.scatter(rp_real, rp_calc, label='Pequeña pendiente', s=15)\n",
    "axs.plot(com_real_noMod, com_calc_noMod, label='No Modelo', color='tab:green')\n",
    "axs.plot(com_real_Mod, com_calc_Mod, label='Modelo', color='red')\n",
    "\n",
    "axs.legend(loc='upper left')\n",
    "\n",
    "axs.set_xlabel('Comisión real')\n",
    "axs.set_ylabel('Comisión Calculada')\n",
    "\n",
    "fig.suptitle('Comisión: real vs calculada (ventas negativas)')\n",
    "plt.show()"
   ]
  },
  {
   "attachments": {},
   "cell_type": "markdown",
   "metadata": {},
   "source": [
    "#### Ventas positivas"
   ]
  },
  {
   "cell_type": "code",
   "execution_count": null,
   "metadata": {},
   "outputs": [],
   "source": [
    "# Relación lineal: comision = alicuota x venta\n",
    "calcCom = ventas_pos['Alicuota'] * ventas_pos['Ventas']\n",
    "\n",
    "diff = ventas_pos['Comision'] - calcCom\n",
    "D = len(diff)\n",
    "L = len(calcCom)\n",
    "S = sum(abs(diff) == 0)\n",
    "\n",
    "print(f'{S} de {L} registros cumplen la relación >> {100*(S)/L:.2f}%')\n",
    "print(f'{L-S} registros no la cumplen la relación >> {100*(L-S)/L:.2f}%')\n",
    "\n",
    "sobre = len(diff[diff<0])\n",
    "print(f'\\t{sobre} registros sobreestiman la relación >>> {100*sobre/D:.2f}%')\n",
    "sub = len(diff[diff>0])\n",
    "print(f'\\t{sub} registros subestiman la relación >>> {100*sub/D:.2f}%')"
   ]
  },
  {
   "cell_type": "code",
   "execution_count": null,
   "metadata": {},
   "outputs": [],
   "source": [
    "com_real_sobre = ventas_pos['Comision'][diff<0]\n",
    "com_real_exac = ventas_pos['Comision'][diff==0]\n",
    "com_real_sub = ventas_pos['Comision'][diff>0]\n",
    "\n",
    "com_calc_sobre = calcCom[diff<0]\n",
    "com_calc_exac = calcCom[diff==0]\n",
    "com_calc_sub = calcCom[diff>0]"
   ]
  },
  {
   "cell_type": "code",
   "execution_count": null,
   "metadata": {},
   "outputs": [],
   "source": [
    "fig, axs = plt.subplots(figsize=(6, 5))\n",
    "\n",
    "fig.suptitle('Comisión: real vs calculada (ventas positivas)')\n",
    "\n",
    "axs.scatter(com_real_sobre, com_calc_sobre, label='Sobreestimado', s=30)\n",
    "axs.scatter(com_real_exac, com_calc_exac, label='Exacto', s=20)\n",
    "axs.scatter(com_real_sub, com_calc_sub, label='Subestimado', s=10)\n",
    "\n",
    "axs.legend()\n",
    "\n",
    "axs.set_xlabel('Comisión real')\n",
    "axs.set_ylabel('Comisión calculada')\n",
    "\n",
    "plt.show()"
   ]
  },
  {
   "cell_type": "code",
   "execution_count": null,
   "metadata": {},
   "outputs": [],
   "source": [
    "rg_real = pd.concat([com_real_sub[com_calc_sub<0], com_real_sobre[com_calc_sobre>10*com_real_sobre]])\n",
    "rg_calc = pd.concat([com_calc_sub[com_calc_sub<0], com_calc_sobre[com_calc_sobre>10*com_real_sobre]])\n",
    "\n",
    "rp_real = pd.concat([com_real_sub[com_calc_sub>0], com_real_sobre[com_calc_sobre<10*com_real_sobre], com_real_exac])\n",
    "rp_calc = pd.concat([com_calc_sub[com_calc_sub>0], com_calc_sobre[com_calc_sobre<10*com_real_sobre], com_calc_exac])"
   ]
  },
  {
   "cell_type": "code",
   "execution_count": null,
   "metadata": {},
   "outputs": [],
   "source": [
    "print(f'De los {len(rp_real+rg_real)} registros:')\n",
    "print(f'\\t{len(rg_real)} están en la recta con pendiente grande >>> {100*len(rg_real)/len(rp_real+rg_real):.2f}%')\n",
    "print(f'\\t{len(rp_real)} están en la recta con pendiente pequeña >>> {100*len(rp_real)/len(rp_real+rg_real):.2f}%')"
   ]
  },
  {
   "cell_type": "code",
   "execution_count": null,
   "metadata": {},
   "outputs": [],
   "source": [
    "LG = LR(rg_real, rg_calc)\n",
    "LP = LR(rp_real, rp_calc)"
   ]
  },
  {
   "cell_type": "code",
   "execution_count": null,
   "metadata": {},
   "outputs": [],
   "source": [
    "fig, axs = plt.subplots(figsize=(6, 5))\n",
    "\n",
    "axs.scatter(rg_real, rg_calc, label='Gran pendiente', s=30)\n",
    "axs.scatter(rp_real, rp_calc, label='Pequeña pendiente', s=15)\n",
    "axs.plot(rg_real, rg_real*LG.slope + LG.intercept, label=f'{LG.slope:.0f}*Real + ${LG.intercept:.0f}', color='red')\n",
    "axs.plot(rp_real, rp_real*LP.slope + LP.intercept, label=f'{LP.slope:.0f}*Real + ${LP.intercept:.4f}', color='tab:green')\n",
    "\n",
    "axs.legend(loc='upper left')\n",
    "\n",
    "axs.set_xlabel('Comisión real')\n",
    "axs.set_ylabel('Comisión calculada')\n",
    "\n",
    "fig.suptitle('Comisión empresa: real vs calculada (ventas positivas)')\n",
    "plt.show()"
   ]
  },
  {
   "cell_type": "code",
   "execution_count": null,
   "metadata": {},
   "outputs": [],
   "source": [
    "# Discrimino por modelo\n",
    "mask0 = ventas_pos['Modelo']==0\n",
    "mask1 = ventas_pos['Modelo']==1"
   ]
  },
  {
   "cell_type": "code",
   "execution_count": null,
   "metadata": {},
   "outputs": [],
   "source": [
    "com_real_Mod = ventas_pos['Comision'][mask1]\n",
    "com_real_noMod = ventas_pos['Comision'][mask0]\n",
    "\n",
    "com_calc_Mod = calcCom[mask1]\n",
    "com_calc_noMod = calcCom[mask0]"
   ]
  },
  {
   "cell_type": "code",
   "execution_count": null,
   "metadata": {},
   "outputs": [],
   "source": [
    "fig, axs = plt.subplots(figsize=(6, 5))\n",
    "\n",
    "axs.scatter(rg_real, rg_calc, label='Gran pendiente', s=30)\n",
    "axs.scatter(rp_real, rp_calc, label='Pequeña pendiente', s=15)\n",
    "axs.plot(com_real_noMod, com_calc_noMod, label='No Modelo', color='tab:green')\n",
    "axs.plot(com_real_Mod, com_calc_Mod, label='Modelo', color='red')\n",
    "\n",
    "axs.legend(loc='upper left')\n",
    "\n",
    "axs.set_xlabel('Comisión real')\n",
    "axs.set_ylabel('Comisión Calculada')\n",
    "\n",
    "fig.suptitle('Comisión: real vs calculada (ventas positivas)')\n",
    "plt.show()"
   ]
  },
  {
   "attachments": {},
   "cell_type": "markdown",
   "metadata": {},
   "source": [
    "---\n",
    "# Análisis de variables categóricas"
   ]
  },
  {
   "cell_type": "code",
   "execution_count": null,
   "metadata": {},
   "outputs": [],
   "source": [
    "ventas_categ = ventas_ipc.drop(['Ventas', 'Alicuota', 'Comision'], axis=1).copy()\n",
    "ventas_categ.head(3)"
   ]
  },
  {
   "attachments": {},
   "cell_type": "markdown",
   "metadata": {},
   "source": [
    "### `ID` y `Modelo`"
   ]
  },
  {
   "cell_type": "code",
   "execution_count": null,
   "metadata": {},
   "outputs": [],
   "source": [
    "checkear_unicidad(ventas_categ, 'Modelo', 'ID')"
   ]
  },
  {
   "attachments": {},
   "cell_type": "markdown",
   "metadata": {},
   "source": [
    "Esto implica, que si hay un vendedor que vende en más de un rubro, tiene la etiqueta de Modelo en todos los rubros."
   ]
  },
  {
   "attachments": {},
   "cell_type": "markdown",
   "metadata": {},
   "source": [
    "### `Omega` y `Modelo`"
   ]
  },
  {
   "attachments": {},
   "cell_type": "markdown",
   "metadata": {},
   "source": [
    "En primer lugar, verificar si a cada ID único se le asigna un único valor de Omega (no debería pasar lo contrario)"
   ]
  },
  {
   "cell_type": "code",
   "execution_count": null,
   "metadata": {},
   "outputs": [],
   "source": [
    "checkear_unicidad(ventas_categ, 'Omega', 'ID')"
   ]
  },
  {
   "cell_type": "code",
   "execution_count": null,
   "metadata": {},
   "outputs": [],
   "source": [
    "graficar_modelo(ventas_categ, 'Omega')"
   ]
  },
  {
   "attachments": {},
   "cell_type": "markdown",
   "metadata": {},
   "source": [
    "Dentro de los vendedores que son Omega (3119), solo el 0,35% es modelo.\n",
    "Mientras que entre los no Omega (26), el 100% es modelo."
   ]
  },
  {
   "attachments": {},
   "cell_type": "markdown",
   "metadata": {},
   "source": [
    "### `Subrubro` y `Modelo`"
   ]
  },
  {
   "cell_type": "code",
   "execution_count": null,
   "metadata": {},
   "outputs": [],
   "source": [
    "checkear_unicidad(ventas_categ, 'Subrubro', 'ID')"
   ]
  },
  {
   "attachments": {},
   "cell_type": "markdown",
   "metadata": {},
   "source": [
    "En secciones previas se probó que si un ID era Modelo en un rubro, también lo era en todos."
   ]
  },
  {
   "cell_type": "code",
   "execution_count": null,
   "metadata": {},
   "outputs": [],
   "source": [
    "graficar_modelo(ventas_categ, 'Subrubro')"
   ]
  },
  {
   "attachments": {},
   "cell_type": "markdown",
   "metadata": {},
   "source": [
    "### `Trat_Fisc_Agg` y `Modelo`"
   ]
  },
  {
   "attachments": {},
   "cell_type": "markdown",
   "metadata": {},
   "source": [
    "De qué depende el tratamiento fiscal? Del cliente? Del vendedor? Del rubro? De cada venta?"
   ]
  },
  {
   "cell_type": "code",
   "execution_count": null,
   "metadata": {},
   "outputs": [],
   "source": [
    "checkear_unicidad(ventas_categ, 'Trat_Fisc_Agg', 'ID')"
   ]
  },
  {
   "attachments": {},
   "cell_type": "markdown",
   "metadata": {},
   "source": [
    "Esto prueba que el atributo Trat_Fisc_Agg no es el mismo para todas las ventas de un vendedor."
   ]
  },
  {
   "attachments": {},
   "cell_type": "markdown",
   "metadata": {},
   "source": [
    "Probemos si para cada vendedor, de cierto rubro, de cierto número de depósito se cumple:"
   ]
  },
  {
   "cell_type": "code",
   "execution_count": null,
   "metadata": {},
   "outputs": [],
   "source": [
    "checkear_unicidad(ventas_categ, 'Trat_Fisc_Agg', 'ID', 'Deposito','Subrubro')"
   ]
  },
  {
   "attachments": {},
   "cell_type": "markdown",
   "metadata": {},
   "source": [
    "Será un atributo que cambia en el tiempo?"
   ]
  },
  {
   "cell_type": "code",
   "execution_count": null,
   "metadata": {},
   "outputs": [],
   "source": [
    "checkear_unicidad(ventas_categ, 'Trat_Fisc_Agg', 'ID', 'Deposito', 'Subrubro', 'Fecha')"
   ]
  },
  {
   "attachments": {},
   "cell_type": "markdown",
   "metadata": {},
   "source": [
    "Esto no contradice lo que pusimos en el data statement? Que cada renglón es una sumatoria de ventas para un mismo ID, en cierto Deposito y cierto mes?"
   ]
  },
  {
   "cell_type": "code",
   "execution_count": null,
   "metadata": {},
   "outputs": [],
   "source": [
    "#Un caso:\n",
    "ventas_categ[(ventas_categ['ID'] == 691) & (ventas_categ['Deposito'] == 70) & (ventas_categ['Subrubro'] == 'Comb.') & (ventas_categ['Fecha'] == '2019-11-01')]"
   ]
  },
  {
   "attachments": {},
   "cell_type": "markdown",
   "metadata": {},
   "source": [
    "De cualquier manera, esto hace pensar que el tratamiento fiscal depende del cliente o de la venta en particular y no del vendedor."
   ]
  },
  {
   "attachments": {},
   "cell_type": "markdown",
   "metadata": {},
   "source": [
    "##### Checkear con `Ventas` si hay cierto punto de corte para entrar por ej desde exento a normal y luego a otro"
   ]
  },
  {
   "cell_type": "code",
   "execution_count": null,
   "metadata": {},
   "outputs": [],
   "source": [
    "ventas_prueba = ventas_ipc[['ID', 'Deposito', 'Subrubro', 'Fecha','Ventas','Trat_Fisc_Agg']].dropna(subset=['Trat_Fisc_Agg']).copy()\n",
    "duplicados = ventas_prueba[ventas_prueba.duplicated(subset=['ID', 'Deposito', 'Subrubro', 'Fecha'], keep=False)].sort_values(by=['ID', 'Deposito', 'Subrubro', 'Fecha'], ascending=True).copy()\n",
    "duplicados"
   ]
  },
  {
   "cell_type": "code",
   "execution_count": null,
   "metadata": {},
   "outputs": [],
   "source": [
    "duplicados.groupby('Trat_Fisc_Agg')['Ventas'].mean()"
   ]
  },
  {
   "attachments": {},
   "cell_type": "markdown",
   "metadata": {},
   "source": [
    "En promedio, se cumple que \"Exento\" es menor a \"Norm\", que a su vez es menor a \"Otro\". Veamos si se cumple en todos los casos:"
   ]
  },
  {
   "attachments": {},
   "cell_type": "markdown",
   "metadata": {},
   "source": [
    "Si resultado es True, significa que, dentro de cada grupo, el valor de 'Ventas' correspondiente a 'Trat_Fisc_Agg' == 'Exento' siempre es menor que el valor de 'Ventas' correspondiente a 'Trat_Fisc_Agg' == 'Normal', y ambos son menores que el valor de 'Ventas' correspondiente a 'Trat_Fisc_Agg' == 'Otro'. Si resultado es False, significa que al menos en un grupo no se cumple esta condición."
   ]
  },
  {
   "cell_type": "code",
   "execution_count": null,
   "metadata": {},
   "outputs": [],
   "source": [
    "resultado = duplicados.groupby(['ID', 'Deposito', 'Subrubro', 'Fecha']).apply(lambda x: x[x['Trat_Fisc_Agg'] == 'Exento']['Ventas'].max() < x[x['Trat_Fisc_Agg'] == 'Norm']['Ventas'].min() < x[x['Trat_Fisc_Agg'] == 'Otro']['Ventas'].min()).all()\n",
    "resultado"
   ]
  },
  {
   "cell_type": "code",
   "execution_count": null,
   "metadata": {},
   "outputs": [],
   "source": [
    "graficar_modelo(ventas_categ, 'Trat_Fisc_Agg')"
   ]
  },
  {
   "attachments": {},
   "cell_type": "markdown",
   "metadata": {},
   "source": [
    "### `Trat_Fisc` y `Modelo`"
   ]
  },
  {
   "cell_type": "code",
   "execution_count": null,
   "metadata": {},
   "outputs": [],
   "source": [
    "checkear_unicidad(ventas_categ, 'Trat_Fisc', 'ID', 'Deposito', 'Subrubro', 'Fecha')"
   ]
  },
  {
   "attachments": {},
   "cell_type": "markdown",
   "metadata": {},
   "source": [
    "##### Checkear con `Ventas` si hay cierto punto de corte para pasar de una a otra categoría"
   ]
  },
  {
   "cell_type": "code",
   "execution_count": null,
   "metadata": {},
   "outputs": [],
   "source": [
    "ventas_prueba = ventas_ipc[['ID', 'Deposito', 'Subrubro', 'Fecha','Ventas','Trat_Fisc']].dropna(subset=['Trat_Fisc']).copy()\n",
    "duplicados = ventas_prueba[ventas_prueba.duplicated(subset=['ID', 'Deposito', 'Subrubro', 'Fecha'], keep=False)].sort_values(by=['ID', 'Deposito', 'Subrubro', 'Fecha'], ascending=True).copy()\n",
    "duplicados.groupby('Trat_Fisc')['Ventas'].mean()"
   ]
  },
  {
   "attachments": {},
   "cell_type": "markdown",
   "metadata": {},
   "source": [
    "Probamos con un caso.\n",
    "\n",
    "Si resultado es True, significa que, dentro de cada grupo, el valor de 'Ventas' correspondiente a 'Trat_Fisc_Agg' == 0 siempre es mayor que el valor de 'Ventas' correspondiente a 'Trat_Fisc_Agg' == 1. Si resultado es False, significa que al menos en un grupo no se cumple esta condición."
   ]
  },
  {
   "cell_type": "code",
   "execution_count": null,
   "metadata": {},
   "outputs": [],
   "source": [
    "resultado = duplicados.groupby(['ID', 'Deposito', 'Subrubro', 'Fecha']).apply(lambda x: x[x['Trat_Fisc'] == 0]['Ventas'].max() > x[x['Trat_Fisc'] == 1]['Ventas'].min()).all()\n",
    "resultado"
   ]
  },
  {
   "cell_type": "code",
   "execution_count": null,
   "metadata": {},
   "outputs": [],
   "source": [
    "graficar_modelo(ventas_categ, 'Trat_Fisc')"
   ]
  },
  {
   "attachments": {},
   "cell_type": "markdown",
   "metadata": {},
   "source": [
    "### `Trat_Dif` y `Modelo`"
   ]
  },
  {
   "cell_type": "code",
   "execution_count": null,
   "metadata": {},
   "outputs": [],
   "source": [
    "checkear_unicidad(ventas_categ, 'Trat_Dif', 'ID', 'Deposito', 'Subrubro', 'Fecha')"
   ]
  },
  {
   "cell_type": "code",
   "execution_count": null,
   "metadata": {},
   "outputs": [],
   "source": [
    "checkear_unicidad(ventas_categ, 'Trat_Dif', 'ID', 'Deposito', 'Subrubro')"
   ]
  },
  {
   "attachments": {},
   "cell_type": "markdown",
   "metadata": {},
   "source": [
    "Se debe a que `Trat_Dif` cambia en el tiempo? O a que hay pocos casos con valores?"
   ]
  },
  {
   "cell_type": "code",
   "execution_count": null,
   "metadata": {},
   "outputs": [],
   "source": [
    "graficar_modelo(ventas_categ, 'Trat_Dif')"
   ]
  },
  {
   "attachments": {},
   "cell_type": "markdown",
   "metadata": {},
   "source": [
    "### `CM` y `Modelo` (Paso 4)"
   ]
  },
  {
   "cell_type": "code",
   "execution_count": null,
   "metadata": {},
   "outputs": [],
   "source": [
    "checkear_unicidad(ventas_categ, 'CM', 'ID')"
   ]
  },
  {
   "cell_type": "code",
   "execution_count": null,
   "metadata": {},
   "outputs": [],
   "source": [
    "casos_unicos_cm_1 = ventas_categ[ventas_categ['CM'] == 1]['ID'].nunique()\n",
    "print(\"Número de casos únicos de ID para CM = 1:\", casos_unicos_cm_1)"
   ]
  },
  {
   "cell_type": "code",
   "execution_count": null,
   "metadata": {},
   "outputs": [],
   "source": [
    "graficar_modelo(ventas_categ, 'CM')"
   ]
  },
  {
   "attachments": {},
   "cell_type": "markdown",
   "metadata": {},
   "source": [
    "Solo hay un caso que está bajo CM igual a 1 (y no es vendedor modelo). El tamaño de muestra equivale al 0,01% de los casos."
   ]
  },
  {
   "cell_type": "code",
   "execution_count": null,
   "metadata": {},
   "outputs": [],
   "source": [
    "print(f\"{round(len(ventas_categ[ventas_categ['CM'] == 1]) / len(ventas_categ) * 100, 2)}%\")"
   ]
  },
  {
   "attachments": {},
   "cell_type": "markdown",
   "metadata": {},
   "source": [
    "Se procederá a descartar el caso en un dataset aparte. Y se eliminará la variable `CM`."
   ]
  },
  {
   "cell_type": "code",
   "execution_count": null,
   "metadata": {},
   "outputs": [],
   "source": [
    "#Eliminación de caso CM=1 y columna CM. Y almacenamiento en un dataset aparte\n",
    "\n",
    "# Se opera sobre el dataset completo\n",
    "\n",
    "ventas_cm = ventas_ipc[ventas_ipc['CM'] == 1].copy()\n",
    "ventas_cm.to_csv('../data/interim/tp2_ventas_cm.csv')\n",
    "\n",
    "ventas_ipc = ventas_ipc[ventas_ipc['CM'] != 1].copy()\n",
    "ventas_ipc = limpiar_basic(ventas_ipc, 'CM')\n",
    "\n",
    "# Y luego sobre el dataset de variables categóricas\n",
    "\n",
    "ventas_categ = ventas_categ[ventas_categ['CM'] != 1].copy()\n",
    "ventas_categ = limpiar_basic(ventas_categ, 'CM')\n",
    "ventas_categ"
   ]
  },
  {
   "attachments": {},
   "cell_type": "markdown",
   "metadata": {},
   "source": [
    "### Relación entre variables fiscales (`Trat_Fisc` y `Trat_Fisc_Agg` y `Trat_Dif`) (Paso 5)"
   ]
  },
  {
   "attachments": {},
   "cell_type": "markdown",
   "metadata": {},
   "source": [
    "#### `Trat_Fisc` y `Trat_Fisc_Agg`"
   ]
  },
  {
   "attachments": {},
   "cell_type": "markdown",
   "metadata": {},
   "source": [
    "Queremos chequear para qué valores de `Trat_Fisc` aparecen valores de `Trat_Fisc_Agg`."
   ]
  },
  {
   "cell_type": "code",
   "execution_count": null,
   "metadata": {},
   "outputs": [],
   "source": [
    "# Este paso lo agrego porque sino el crosstab siguiente no me muestra los NaN\n",
    "ventas_categ['Trat_Fisc'] = ventas_categ['Trat_Fisc'].fillna('Warning: Relleno')\n",
    "ventas_categ['Trat_Fisc_Agg'] = ventas_categ['Trat_Fisc_Agg'].fillna('Warning: Relleno')\n",
    "\n",
    "pd.crosstab(ventas_categ['Trat_Fisc'], ventas_categ['Trat_Fisc_Agg'], dropna=False)"
   ]
  },
  {
   "attachments": {},
   "cell_type": "markdown",
   "metadata": {},
   "source": [
    "Al analizar la tabla de contingencia, vemos que los valores de `Trat_Fisc_Agg` sólo aparecen cuando `Trat_Fisc` asume valores 0, 1, 2 ó 3. \n",
    "A su vez, hay correspondencia entre 0 y Norm, 1 y Exento, 2 y Min, 3 y Otro. \n",
    "¿Se puede unificar todo como `Trat_Fisc`, eliminando entonces `Trat_Fisc_Agg`? ¿Tiene sentido que falte la descripción asociada al tratamiento?"
   ]
  },
  {
   "cell_type": "code",
   "execution_count": null,
   "metadata": {},
   "outputs": [],
   "source": [
    "vad = pd.crosstab(ventas_categ['Trat_Fisc'].fillna(\"Warning: NA\"), ventas_categ['Trat_Fisc_Agg'].fillna(\"Warning: NA\"), normalize=True)\n",
    "sns.heatmap(vad, annot=True)"
   ]
  },
  {
   "attachments": {},
   "cell_type": "markdown",
   "metadata": {},
   "source": [
    "Vemos que sí existe una gran correlación entre \"Norm\" de `Trat_Fisc_Agg` y \"0\" de `Trat_Fisc`."
   ]
  },
  {
   "attachments": {},
   "cell_type": "markdown",
   "metadata": {},
   "source": [
    "#### Relación entre `Trat_Fisc` y `Trat_Dif`"
   ]
  },
  {
   "attachments": {},
   "cell_type": "markdown",
   "metadata": {},
   "source": [
    "Ahora veamos para qué valores de `Trat_Fisc` aparecen valores de `Trat_Dif`. Al analizar la tabla de contingencia vemos que no hay un patrón claro. ¿Podríamos tomar a un dato faltante como \"sin tratamiento\" o algo por el estilo?"
   ]
  },
  {
   "cell_type": "code",
   "execution_count": null,
   "metadata": {},
   "outputs": [],
   "source": [
    "# Este paso lo agrego porque sino el crosstab siguiente no me muestra los NaN\n",
    "ventas_categ['Trat_Dif'] = ventas_categ['Trat_Dif'].fillna('Waring: Relleno')\n",
    "\n",
    "pd.crosstab(ventas_categ['Trat_Fisc'], ventas_categ['Trat_Dif'], dropna=False)"
   ]
  },
  {
   "attachments": {},
   "cell_type": "markdown",
   "metadata": {},
   "source": [
    "*   Se concluye que la variable que más información aporta es la de `Trat_Fisc`, superando a `Trat_Fisc_Agg` en que tiene menos valores perdidos. Y a su vez, la información de `Trat_Fisc_Agg` (Exento, Min, Norm, Otro), es capturada por los valores 1, 2, 0, 3 de `Trat_Fisc_Agg`, respectivamente.\n",
    "\n",
    "\n",
    "*   Respecto a `Trat_Diff`, la misma es superada por `Trat_Fisc` en cuanto a ausencia de valores perdidos. La variable `Trat_Fisc`, en el práctico anterior, había permitido detectar ciertas tendencias de ventas. A su vez que no queda claro el aporte de `Trat_Diff`.\n",
    "\n",
    "\n",
    "La decisión es droppear `Trat_Fisc_Agg` y `Trat_Dif`"
   ]
  },
  {
   "cell_type": "code",
   "execution_count": null,
   "metadata": {},
   "outputs": [],
   "source": [
    "# Se opera sobre el dataset completo\n",
    "ventas_ipc = limpiar_basic(ventas_ipc, ['Trat_Fisc_Agg', 'Trat_Dif'])\n",
    "\n",
    "# Y luego sobre el dataset de variables categóricas\n",
    "ventas_categ = limpiar_basic(ventas_categ, ['Trat_Fisc_Agg', 'Trat_Dif'])\n",
    "ventas_categ\n"
   ]
  },
  {
   "cell_type": "code",
   "execution_count": null,
   "metadata": {},
   "outputs": [],
   "source": [
    "ventas_ipc.to_csv('../data/interim/tp2_ventas_ipc.csv')\n",
    "ventas_ipc"
   ]
  }
 ],
 "metadata": {
  "kernelspec": {
   "display_name": "diplodatos",
   "language": "python",
   "name": "python3"
  },
  "language_info": {
   "codemirror_mode": {
    "name": "ipython",
    "version": 3
   },
   "file_extension": ".py",
   "mimetype": "text/x-python",
   "name": "python",
   "nbconvert_exporter": "python",
   "pygments_lexer": "ipython3",
   "version": "3.10.6"
  },
  "orig_nbformat": 4
 },
 "nbformat": 4,
 "nbformat_minor": 2
}
