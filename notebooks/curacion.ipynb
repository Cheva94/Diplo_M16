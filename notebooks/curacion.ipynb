{
 "cells": [
  {
   "cell_type": "code",
   "execution_count": 32,
   "metadata": {},
   "outputs": [
    {
     "name": "stdout",
     "output_type": "stream",
     "text": [
      "The autoreload extension is already loaded. To reload it, use:\n",
      "  %reload_ext autoreload\n"
     ]
    }
   ],
   "source": [
    "# Para que las funciones se actualicen si tener que refrescar el kernel\n",
    "%load_ext autoreload\n",
    "%autoreload 2"
   ]
  },
  {
   "cell_type": "code",
   "execution_count": 39,
   "metadata": {},
   "outputs": [],
   "source": [
    "# Funciones propias\n",
    "from utils_limpieza import * "
   ]
  },
  {
   "cell_type": "code",
   "execution_count": 34,
   "metadata": {},
   "outputs": [],
   "source": [
    "import numpy as np\n",
    "import pandas as pd\n",
    "import missingno as msno\n",
    "import matplotlib.pyplot as plt"
   ]
  },
  {
   "cell_type": "code",
   "execution_count": 35,
   "metadata": {},
   "outputs": [
    {
     "name": "stderr",
     "output_type": "stream",
     "text": [
      "/tmp/ipykernel_840562/676891302.py:3: DtypeWarning: Columns (10,11,13) have mixed types. Specify dtype option on import or set low_memory=False.\n",
      "  ventas = pd.read_csv(path)\n"
     ]
    }
   ],
   "source": [
    "# Cargar datos\n",
    "path = '../data/raw/muestra_diplodatos_ventas_2023.csv'\n",
    "ventas = pd.read_csv(path)"
   ]
  },
  {
   "attachments": {},
   "cell_type": "markdown",
   "metadata": {},
   "source": [
    "## Hacemos la limpieza sugerida al principio del TP2\n",
    "- [x] Eliminar las variables en `cols_dropear`\n",
    "- [x] Renombrar a 'Otros' las subcategorías que no tengan `MODELO`\n",
    "- [ ] Anonimizar los datos que se consideran sensibles"
   ]
  },
  {
   "cell_type": "code",
   "execution_count": 36,
   "metadata": {},
   "outputs": [
    {
     "data": {
      "text/plain": [
       "SUB-CATEGORIA\n",
       "Cigarrillos, tabacos y afines                                               42\n",
       "Otros                                                                        0\n",
       "Supermercados, Hipermercados, Kioscos y afines                              42\n",
       "Venta de Artículos, productos, accesorios, etc de diversos materiales      401\n",
       "Venta de Combustibles (Incluye tmb gas, carbón, leña, etc)                 393\n",
       "Venta de Combustibles Ley 23966 (Incluye tmb gas, carbón, leña, etc)       156\n",
       "Venta de Combustibles para reventa (Incluye tmb gas, carbón, leña, etc)     42\n",
       "Venta de Productos Alimenticios, Bebidas, Lácteos y afines                 147\n",
       "Venta de Semillas, Fertilizantes, Granos y afines                           42\n",
       "Venta en Comisión, Consignación o Intermediación de Productos Varios       126\n",
       "Name: MODELO, dtype: int64"
      ]
     },
     "execution_count": 36,
     "metadata": {},
     "output_type": "execute_result"
    }
   ],
   "source": [
    "cols_dropear = ['INSCRIPCION', 'CATEGORIA', 'DESCRIPCION_CATEGORIA', 'CATEGORIA (Ajustado)', 'NOMBRE']\n",
    "\n",
    "ventas_clean = limpiar_basic(ventas, \n",
    "                             cols_drop=cols_dropear)\n",
    "\n",
    "ventas_renamed = renombrar_elementos(ventas_clean, \n",
    "                                     columna='SUB-CATEGORIA', \n",
    "                                     fill_otros='Otros')\n",
    "\n",
    "ventas_renamed.groupby(by=['SUB-CATEGORIA'])['MODELO'].sum()"
   ]
  },
  {
   "cell_type": "code",
   "execution_count": 40,
   "metadata": {},
   "outputs": [
    {
     "name": "stdout",
     "output_type": "stream",
     "text": [
      "función vacía\n"
     ]
    }
   ],
   "source": [
    "anonimizar()"
   ]
  }
 ],
 "metadata": {
  "kernelspec": {
   "display_name": "diplodatos",
   "language": "python",
   "name": "python3"
  },
  "language_info": {
   "codemirror_mode": {
    "name": "ipython",
    "version": 3
   },
   "file_extension": ".py",
   "mimetype": "text/x-python",
   "name": "python",
   "nbconvert_exporter": "python",
   "pygments_lexer": "ipython3",
   "version": "3.11.3"
  },
  "orig_nbformat": 4
 },
 "nbformat": 4,
 "nbformat_minor": 2
}
