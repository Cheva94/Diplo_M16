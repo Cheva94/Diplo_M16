{
 "cells": [
  {
   "cell_type": "code",
   "execution_count": null,
   "metadata": {},
   "outputs": [],
   "source": [
    "# Para que las funciones se actualicen si tener que refrescar el kernel\n",
    "%load_ext autoreload\n",
    "%autoreload 2"
   ]
  },
  {
   "cell_type": "code",
   "execution_count": null,
   "metadata": {},
   "outputs": [],
   "source": [
    "# Funciones propias\n",
    "from utils_limpieza import * "
   ]
  },
  {
   "cell_type": "code",
   "execution_count": null,
   "metadata": {},
   "outputs": [],
   "source": [
    "import pandas as pd\n",
    "import json\n",
    "from os.path import exists\n",
    "import numpy as np\n",
    "import missingno as msno\n",
    "import matplotlib.pyplot as plt"
   ]
  },
  {
   "cell_type": "code",
   "execution_count": null,
   "metadata": {},
   "outputs": [],
   "source": [
    "# Cargar datos\n",
    "path = '../data/raw/tp2_muestra_diplodatos_ventas_omega_modelo_2023.csv'\n",
    "ventas = pd.read_csv(path)\n"
   ]
  },
  {
   "attachments": {},
   "cell_type": "markdown",
   "metadata": {},
   "source": [
    "## Hacemos la limpieza sugerida al principio del TP2\n",
    "- [x] Eliminar las variables en `cols_dropear` (Paso 1).\n",
    "- [x] Renombrar a 'Otros' las subcategorías que no tengan `MODELO` (Paso 2)."
   ]
  },
  {
   "cell_type": "code",
   "execution_count": null,
   "metadata": {},
   "outputs": [],
   "source": [
    "print(f'El df original tiene {ventas.shape[0]} registros y {ventas.shape[1]} variables.\\n')\n",
    "\n",
    "# Paso 1\n",
    "cols_dropear = ['INSCRIPCION', 'CATEGORIA', 'DESCRIPCION_CATEGORIA', 'CATEGORIA (Ajustado)', 'NOMBRE']\n",
    "ventas_renamed = limpiar_basic(ventas, cols_drop=cols_dropear)\n",
    "print(f'Luego del paso 1 quedan se tiran {len(cols_dropear)} variables, quedando {ventas_renamed.shape[1]} variables.\\n')\n",
    "\n",
    "# Paso 2\n",
    "# ventas_renamed['SUB-CATEGORIA'].nunique() # antes del paso 2\n",
    "ventas_renamed = renombrar_elementos(ventas_renamed, \n",
    "                                     columna='SUB-CATEGORIA', \n",
    "                                     fill_otros='Otros')\n",
    "\n",
    "scu_vr = ventas_renamed['SUB-CATEGORIA'].nunique()\n",
    "scu_ot = ventas_renamed['SUB-CATEGORIA'].nunique() - scu_vr + 1\n",
    "print(f'Luego del paso 2 quedan {scu_vr} subcategorías únicas.')\n",
    "print(f'Las {scu_ot} subcategorías únicas que no tenían ningún vendedor modelo fueron agrupadas en \"Otros\".')\n",
    "print(f'Las {scu_vr-1} subcategorías que sí tienen vendedores modelo son:')\n",
    "\n",
    "ventas_renamed.groupby(by=['SUB-CATEGORIA'])['MODELO'].sum().sort_values(ascending=False)[:12]"
   ]
  },
  {
   "cell_type": "markdown",
   "metadata": {},
   "source": [
    "## Anonimizado + simplificación de variables y valores\n",
    "- [x] Simplificamos el nombre de las variables.\n",
    "- [x] Anonimizamos la variable sensible `ID` (Paso 3).\n",
    "- [x] Simplificamos valores en `Deposito`.\n",
    "- [x] Guardamos todos estos diccionarios."
   ]
  },
  {
   "cell_type": "code",
   "execution_count": null,
   "metadata": {},
   "outputs": [],
   "source": [
    "# Se modifican los nombres de las columnas\n",
    "\n",
    "# Creamos el diccionario\n",
    "column_dict = {'ID_VENDEDOR': 'ID', \n",
    "                'OMEGA': 'Omega', \n",
    "                'SUB-CATEGORIA': 'Subrubro', \n",
    "                'DESC_TRATAMIENTO_FISCAL': 'Trat_Fisc_Agg', \n",
    "                'TRATAMIENTO_FISCAL': 'Trat_Fisc', \n",
    "                'TRATAMIENTO_DIFERNCIAL': 'Trat_Dif', \n",
    "                'CM04': 'CM', \n",
    "                'AÑO': 'Año', \n",
    "                'MES': 'Mes', \n",
    "                'DEPOSITO': 'Deposito', \n",
    "                'TOTAL_VENTAS': 'Ventas', \n",
    "                'PORCENTAJE_COMISION_EMPRESA': 'Alicuota', \n",
    "                'COMISION_EMPRESA': 'Recaudacion', \n",
    "                'MODELO': 'Modelo'}\n",
    "\n",
    "with open(\"../references/tp2_column_dict.json\", \"w\") as fp:\n",
    "    json.dump(column_dict , fp)\n",
    "\n",
    "# Renombramos\n",
    "with open(\"../references/tp2_column_dict.json\") as column_dict_json:\n",
    "    column_dict = json.load(column_dict_json)\n",
    "\n",
    "ventas_renamed.rename(columns = column_dict, inplace = True)\n",
    "ventas_renamed.columns"
   ]
  },
  {
   "cell_type": "code",
   "execution_count": null,
   "metadata": {},
   "outputs": [],
   "source": [
    "# Anonimizamos y guardamos el diccionario para no perder esta info\n",
    "ventas_hash, dict_id = anonimizar(ventas_renamed, 'ID')\n",
    "\n",
    "with open(\"../references/tp2_ID_dict.json\", \"w\") as fp:\n",
    "    json.dump(dict_id, fp)\n",
    "\n",
    "print('¡Diccionario generado!')"
   ]
  },
  {
   "cell_type": "code",
   "execution_count": null,
   "metadata": {},
   "outputs": [],
   "source": [
    "# Mapeo de `Deposito` a enteros\n",
    "ventas_hash, dict_dep = anonimizar(ventas_renamed, 'Deposito')\n",
    "\n",
    "with open(\"../references/tp2_deposito_dict.json\", \"w\") as fp:\n",
    "    json.dump(dict_dep, fp)\n",
    "\n",
    "print('¡Diccionario generado!')"
   ]
  },
  {
   "cell_type": "markdown",
   "metadata": {},
   "source": [
    "## Variable fecha (Paso 6).\n",
    "Consideramos que para el análisis temporal habrá momentos en que necesitamos tener Año y Mes por separado, pero en otras ocasiones necesitamos toda la información al mismo tiempo. Por lo tanto, creamos la variable FECHA:\n",
    "    $$FECHA = Año + Mes$$"
   ]
  },
  {
   "cell_type": "code",
   "execution_count": null,
   "metadata": {},
   "outputs": [],
   "source": [
    "ventas_hash[\"FECHA\"] = pd.to_datetime(ventas_hash['Mes'].astype(str) + '-' + ventas_hash['Año'].astype(str), format='%m-%Y')\n",
    "ventas_hash[:3]"
   ]
  },
  {
   "cell_type": "markdown",
   "metadata": {},
   "source": [
    "## Eliminación efecto inflación\n",
    "Las variables expresadas en pesos aumentan mes a mes por efecto de la inflación. Lo que impide comparar un valor monetario de un mes contra el del mes siguiente. A fin de eliminar este efecto, una alternativa es reexpresar los valores monetarios respecto a un mes base. Por ejemplo, el último mes de la serie."
   ]
  },
  {
   "cell_type": "code",
   "execution_count": null,
   "metadata": {},
   "outputs": [],
   "source": [
    "ventas_ipc = ventas_hash.copy()"
   ]
  },
  {
   "cell_type": "code",
   "execution_count": null,
   "metadata": {},
   "outputs": [],
   "source": [
    "# Obtener el último mes\n",
    "año = ventas_ipc['Año'].max()\n",
    "mes = ventas_ipc[ventas_ipc['Año'] == ventas_ipc['Año'].max()]['Mes'].max()\n",
    "print(f\"El último mes de la serie es el {mes} de {año}\")"
   ]
  },
  {
   "cell_type": "markdown",
   "metadata": {},
   "source": [
    "El procedimiento es el siguiente:\n",
    "    $$\\text{VAR}_{mm-aaaa} \\frac{\\text{IPC}_{06-2022}}{\\text{IPC}_{mm-aaaa}}$$\n",
    "\n",
    "Para todo valor de cada variable (VAR) correspondiente a cierto mes \"mm-aaaa\" se lo divide por el Índice de Precios al Consumidor (IPC) correspondiente a ese mes \"mm-aaaa\" y luego se lo multiplica por el IPC correspondiente al mes \"06-2022\".\n",
    "\n",
    "De esta forma, todos los valores de cada variable VAR van a quedar expresados en unidades monetarias del \"06-2022\".\n",
    "\n"
   ]
  },
  {
   "cell_type": "markdown",
   "metadata": {},
   "source": [
    "Es necesario obtener de manera externa una serie del IPC que publica Indec."
   ]
  },
  {
   "cell_type": "code",
   "execution_count": null,
   "metadata": {},
   "outputs": [],
   "source": [
    "precios = \"../data/external/IPC_Indec.csv\"\n",
    "\n",
    "if exists(precios):\n",
    "    print('Este archivo ya existe.')\n",
    "else:\n",
    "    print('Este archivo no existe: ¡Vamos a crearlo!')\n",
    "    url = \"https://www.indec.gob.ar/ftp/cuadros/economia/sh_ipc_06_23.xls\"\n",
    "    df = pd.read_excel(url, sheet_name=\"Índices IPC Cobertura Nacional\", header=None, usecols=\"B:CA\", skiprows=[0, 1, 2, 3, 4, 6, 7, 8], nrows=2)\n",
    "    df = df.transpose()\n",
    "    df.columns = [\"FECHA\", \"INDICE\"]\n",
    "    df[\"FECHA\"] = pd.to_datetime(df[\"FECHA\"])\n",
    "    df.to_csv(precios, index=False)"
   ]
  },
  {
   "cell_type": "code",
   "execution_count": null,
   "metadata": {},
   "outputs": [],
   "source": [
    "# Abrir dataset de precios\n",
    "precios = pd.read_csv(precios)\n",
    "precios.head()"
   ]
  },
  {
   "cell_type": "markdown",
   "metadata": {},
   "source": [
    "Luego debemos unir ambas bases de datos (ventas y precios), de acuerdo a la variable clave `FECHA`"
   ]
  },
  {
   "cell_type": "code",
   "execution_count": null,
   "metadata": {},
   "outputs": [],
   "source": [
    "print(ventas_ipc[\"FECHA\"].dtype)\n",
    "print(precios[\"FECHA\"].dtype)"
   ]
  },
  {
   "cell_type": "code",
   "execution_count": null,
   "metadata": {},
   "outputs": [],
   "source": [
    "# Hay que asegurar que la variable clave tenga el mismo tipo en los dos dataframes\n",
    "precios[\"FECHA\"] = pd.to_datetime(precios[\"FECHA\"])"
   ]
  },
  {
   "cell_type": "code",
   "execution_count": null,
   "metadata": {},
   "outputs": [],
   "source": [
    "print(ventas_ipc[\"FECHA\"].dtype)\n",
    "print(precios[\"FECHA\"].dtype)"
   ]
  },
  {
   "cell_type": "code",
   "execution_count": null,
   "metadata": {},
   "outputs": [],
   "source": [
    "ventas_ipc = ventas_ipc.merge(precios[[\"FECHA\", \"INDICE\"]], on=\"FECHA\", how=\"left\")\n",
    "ventas_ipc.head(3)"
   ]
  },
  {
   "cell_type": "code",
   "execution_count": null,
   "metadata": {},
   "outputs": [],
   "source": [
    "# Creamos una variable que almacene el valor del índice para el 06 de 2022\n",
    "indice_06_2022 = ventas_ipc[ventas_ipc[\"FECHA\"] == ventas_ipc[\"FECHA\"].max()][\"INDICE\"].values[0]"
   ]
  },
  {
   "cell_type": "markdown",
   "metadata": {},
   "source": [
    "La series que están expresadas en pesos son las siguientes: \n",
    "   * `Ventas`\n",
    "   * `Recaudacion`"
   ]
  },
  {
   "cell_type": "code",
   "execution_count": null,
   "metadata": {},
   "outputs": [],
   "source": [
    "ventas_ipc[\"Ventas_Reales\"] = (ventas_ipc[\"Ventas\"]  * indice_06_2022 / ventas_ipc[\"INDICE\"])\n",
    "ventas_ipc[\"Recaudacion_Real\"] = (ventas_ipc[\"Recaudacion\"]  * indice_06_2022 / ventas_ipc[\"INDICE\"])\n",
    "ventas_ipc.head(3)"
   ]
  },
  {
   "cell_type": "code",
   "execution_count": null,
   "metadata": {},
   "outputs": [],
   "source": [
    "ventas_agrupadas = ventas_ipc[['FECHA', 'Ventas', 'Ventas_Reales', 'Recaudacion', 'Recaudacion_Real']].copy()\n",
    "ventas_agrupadas = ventas_agrupadas.groupby('FECHA').sum()[['Ventas', 'Ventas_Reales', 'Recaudacion', 'Recaudacion_Real']].reset_index()"
   ]
  },
  {
   "cell_type": "markdown",
   "metadata": {},
   "source": [
    "Veamos gráficamente el efecto de la operación (por simplicidad se grafican mensualmente las series de tiempo agregando los valores por suma):"
   ]
  },
  {
   "cell_type": "code",
   "execution_count": null,
   "metadata": {},
   "outputs": [],
   "source": [
    "# Crear el layout con dos subplots\n",
    "fig, (ax1, ax2) = plt.subplots(1, 2, figsize=(10, 5))\n",
    "\n",
    "# Primer subplot: Ventas totales vs Ventas reales\n",
    "ax1.plot(ventas_agrupadas['FECHA'], ventas_agrupadas['Ventas'], label='Total Ventas')\n",
    "ax1.plot(ventas_agrupadas['FECHA'], ventas_agrupadas['Ventas_Reales'], label='Total Ventas Reales')\n",
    "ax1.set_xlabel('Fecha')\n",
    "ax1.set_ylabel('Ventas')\n",
    "ax1.set_title('Ventas totales vs Ventas reales')\n",
    "ax1.legend()\n",
    "ax1.tick_params(axis='x', rotation=45)\n",
    "\n",
    "# Segundo subplot: Comisión Empresa vs Comisión Empresa Reales\n",
    "ax2.plot(ventas_agrupadas['FECHA'], ventas_agrupadas['Recaudacion'], label='Comisión Empresa')\n",
    "ax2.plot(ventas_agrupadas['FECHA'], ventas_agrupadas['Recaudacion_Real'], label='Comisión Empresa Reales')\n",
    "ax2.set_xlabel('Fecha')\n",
    "ax2.set_ylabel('Comisión')\n",
    "ax2.set_title('Comisión Empresa vs Comisión Empresa Reales')\n",
    "ax2.legend()\n",
    "ax2.tick_params(axis='x', rotation=45)\n",
    "\n",
    "# Ajustar el espaciado entre subplots\n",
    "plt.tight_layout()\n",
    "\n",
    "# Mostrar el gráfico\n",
    "plt.show()"
   ]
  },
  {
   "cell_type": "markdown",
   "metadata": {},
   "source": [
    "En las variantes llamadas \"Reales\", se observa una pendiente más moderada. El efecto de la inflación ha sido \"descartado\". De aquí en adelante, a la hora de hablar de los valores de estas variables, la interpretación correcta será \"$ XX.XXX a precios de junio de 2022\""
   ]
  },
  {
   "cell_type": "code",
   "execution_count": null,
   "metadata": {},
   "outputs": [],
   "source": [
    "ventas_ipc.columns"
   ]
  },
  {
   "cell_type": "code",
   "execution_count": null,
   "metadata": {},
   "outputs": [],
   "source": [
    "# # Se descartan las variables que no se usan\n",
    "ventas_ipc = limpiar_basic(ventas_ipc, cols_drop=['Ventas', 'Recaudacion'])\n",
    "\n",
    "# Se renombran las variables\n",
    "ventas_ipc.rename(columns = {'FECHA': 'Fecha', 'INDICE': 'IPC', \n",
    "                              'Ventas_Reales': 'Ventas', \n",
    "                              'Recaudacion_Real': 'Recaudacion'}, inplace = True)\n",
    "\n",
    "# Se reacomodan las columnas\n",
    "ventas_ipc = ventas_ipc[['ID', 'Omega', 'Subrubro', 'Trat_Fisc_Agg', \n",
    "                          'Trat_Fisc', 'Trat_Dif', 'CM', 'Año', 'Mes', \n",
    "                          'Fecha', 'IPC','Deposito', 'Ventas', \n",
    "                          'Alicuota', 'Recaudacion', 'Modelo']]\n",
    "\n",
    "ventas_ipc = ventas_ipc.sort_values(['Año', 'Mes', 'Ventas']).reset_index(drop=True)"
   ]
  }
 ],
 "metadata": {
  "kernelspec": {
   "display_name": "diplodatos",
   "language": "python",
   "name": "python3"
  },
  "language_info": {
   "codemirror_mode": {
    "name": "ipython",
    "version": 3
   },
   "file_extension": ".py",
   "mimetype": "text/x-python",
   "name": "python",
   "nbconvert_exporter": "python",
   "pygments_lexer": "ipython3",
   "version": "3.10.6"
  },
  "orig_nbformat": 4
 },
 "nbformat": 4,
 "nbformat_minor": 2
}
