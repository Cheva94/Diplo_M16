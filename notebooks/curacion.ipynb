{
 "cells": [
  {
   "cell_type": "markdown",
   "metadata": {},
   "source": [
    "# Diplomatura en ciencia de datos, aprendizaje automático y sus aplicaciones - Edición 2023 - FAMAF (UNC)"
   ]
  },
  {
   "cell_type": "markdown",
   "metadata": {},
   "source": [
    "## Mentoría 16 - ¿Cómo identificar fuga de ventas? Inteligencia artificial aplicada al sector comercial.\n",
    "\n",
    "### Curación (TP2)\n",
    "\n",
    "**Integrantes:**\n",
    "- Canalis, Patricio.\n",
    "- Chevallier-Boutell, Ignacio José.\n",
    "- Villarroel Torrez, Daniel.\n",
    "\n",
    "**Mentores:**\n",
    "- Gonzalez, Lucía\n",
    "- Lahoz, Nahuel\n",
    "\n",
    "---"
   ]
  },
  {
   "cell_type": "markdown",
   "metadata": {},
   "source": [
    "## Librerías"
   ]
  },
  {
   "cell_type": "code",
   "execution_count": null,
   "metadata": {},
   "outputs": [],
   "source": [
    "# Para que las funciones se actualicen sin tener que refrescar el kernel\n",
    "%load_ext autoreload\n",
    "%autoreload 2\n",
    "\n",
    "import pandas as pd\n",
    "import json\n",
    "from os.path import exists\n",
    "import missingno as msno\n",
    "import matplotlib.pyplot as plt\n",
    "import numpy as np\n",
    "import seaborn as sns\n",
    "from statsmodels.graphics.tsaplots import plot_acf\n",
    "from scipy.stats import linregress as LR\n",
    "from scipy.stats import skew, kurtosis, skewtest, kurtosistest\n",
    "\n",
    "# Funciones propias\n",
    "from utils_limpieza import * "
   ]
  },
  {
   "cell_type": "markdown",
   "metadata": {},
   "source": [
    "## Dataset"
   ]
  },
  {
   "cell_type": "code",
   "execution_count": null,
   "metadata": {},
   "outputs": [],
   "source": [
    "# Cargar datos\n",
    "path = '../data/raw/tp2_muestra_diplodatos_ventas_omega_modelo_2023.csv'\n",
    "ventas = pd.read_csv(path)\n"
   ]
  },
  {
   "cell_type": "markdown",
   "metadata": {},
   "source": [
    "---\n",
    "# Preprocesamiento"
   ]
  },
  {
   "attachments": {},
   "cell_type": "markdown",
   "metadata": {},
   "source": [
    "## Limpieza sugerida al principio del TP2\n",
    "- [x] Eliminar las variables en `cols_dropear` <span style=\"color:magenta\">**(Paso 1)**</span>.\n",
    "- [x] Renombrar a 'Otros' las subcategorías que no tengan `MODELO` <span style=\"color:magenta\">**(Paso 2)**</span>.\n",
    "- [x] Se eliminan los registros en 'Otros'. Previamente se almacenan en un dataset aparte."
   ]
  },
  {
   "cell_type": "code",
   "execution_count": null,
   "metadata": {},
   "outputs": [],
   "source": [
    "print(f'El df original tiene {ventas.shape[0]} registros y {ventas.shape[1]} variables.\\n')\n",
    "\n",
    "# Paso 1\n",
    "cols_dropear = ['INSCRIPCION', 'CATEGORIA', 'DESCRIPCION_CATEGORIA', 'CATEGORIA (Ajustado)', 'NOMBRE']\n",
    "ventas_renamed = limpiar_basic(ventas, cols_drop=cols_dropear)\n",
    "print(f'Luego del paso 1 se tiran {len(cols_dropear)} variables, quedando {ventas_renamed.shape[1]} variables.\\n')\n",
    "\n",
    "# Paso 2\n",
    "ventas_renamed = renombrar_elementos(ventas_renamed, \n",
    "                                     columna='SUB-CATEGORIA', \n",
    "                                     fill_otros='Otros')\n",
    "\n",
    "scu_vr = ventas_renamed['SUB-CATEGORIA'].nunique()\n",
    "scu_ot = ventas['SUB-CATEGORIA'].nunique() - scu_vr + 1\n",
    "print(f'Luego del paso 2 quedan {scu_vr} subcategorías únicas.')\n",
    "print(f'\\tLas {scu_ot} subcategorías únicas que no tenían ningún vendedor modelo fueron agrupadas en \"Otros\".')\n",
    "reg_ot = ventas_renamed[ventas_renamed['SUB-CATEGORIA'] == 'Otros'].shape[0]\n",
    "print(f'\\t\\t\"Otros\" cuenta con {reg_ot} registros >> {100*reg_ot/ventas.shape[0]:.2f}% del dataset original')\n",
    "print(f'\\nLas {scu_vr-1} subcategorías que sí tienen vendedores modelo son:')\n",
    "\n",
    "ventas_renamed.groupby(by=['SUB-CATEGORIA'])['MODELO'].sum().sort_values(ascending=False)[:12]"
   ]
  },
  {
   "cell_type": "code",
   "execution_count": null,
   "metadata": {},
   "outputs": [],
   "source": [
    "#Eliminación de registros en \"Otros\" y almacenamiento en un dataset aparte\n",
    "ventas_otros = ventas_renamed[ventas_renamed['SUB-CATEGORIA'] == 'Otros'].copy()\n",
    "ventas_otros.to_csv('../data/interim/tp2_ventas_otros.csv', index=False)\n",
    "\n",
    "ventas_renamed = ventas_renamed[ventas_renamed['SUB-CATEGORIA'] != 'Otros'].copy()\n",
    "print(ventas_renamed.shape)"
   ]
  },
  {
   "attachments": {},
   "cell_type": "markdown",
   "metadata": {},
   "source": [
    "## Análisis de datos faltantes\n",
    "- [x] Chequear presencia de datos faltantes\n",
    "- [x] Analizar su correlación\n",
    "- [x] Imputar de valores faltantes: `CM` y `Trat_Dif` con 'No'."
   ]
  },
  {
   "attachments": {},
   "cell_type": "markdown",
   "metadata": {},
   "source": [
    "Faltan datos en las mismas variables que antes. Imputo los complementos en `CM` y `Trat_Dif` para dejarlas listas. Luego de eso, se cumple lo que ya habíamos visto en el tp1."
   ]
  },
  {
   "cell_type": "code",
   "execution_count": null,
   "metadata": {},
   "outputs": [],
   "source": [
    "msno.bar(ventas_renamed.sort_values('ID_VENDEDOR'), sort=\"ascending\", fontsize=12, color=\"tab:green\", figsize=(6, 5))\n",
    "msno.matrix(ventas_renamed.sort_values('ID_VENDEDOR'), fontsize=12, color=[0.5,0,0], figsize=(6, 5))\n",
    "msno.heatmap(ventas_renamed.sort_values('ID_VENDEDOR'), fontsize=12, figsize=(6, 5))\n",
    "\n",
    "plt.show()"
   ]
  },
  {
   "cell_type": "code",
   "execution_count": null,
   "metadata": {},
   "outputs": [],
   "source": [
    "ventas_renamed['CM04'] = ventas_renamed['CM04'].fillna('No')\n",
    "ventas_renamed['TRATAMIENTO_DIFERNCIAL'] = ventas_renamed['TRATAMIENTO_DIFERNCIAL'].fillna('No')"
   ]
  },
  {
   "cell_type": "code",
   "execution_count": null,
   "metadata": {},
   "outputs": [],
   "source": [
    "msno.bar(ventas_renamed.sort_values('ID_VENDEDOR'), sort=\"ascending\", fontsize=12, color=\"tab:green\", figsize=(6, 5))\n",
    "msno.matrix(ventas_renamed.sort_values('ID_VENDEDOR'), fontsize=12, color=[0.5,0,0], figsize=(6, 5))\n",
    "msno.heatmap(ventas_renamed.sort_values('ID_VENDEDOR'), fontsize=12, figsize=(6, 5))\n",
    "\n",
    "plt.show()"
   ]
  },
  {
   "cell_type": "markdown",
   "metadata": {},
   "source": [
    "## Simplificación del nombre de las variables\n",
    "- [x] Simplificamos el nombre de las variables."
   ]
  },
  {
   "cell_type": "code",
   "execution_count": null,
   "metadata": {},
   "outputs": [],
   "source": [
    "# Renombramos\n",
    "with open(\"../references/tp2_column_dict.json\") as column_dict_json:\n",
    "    column_dict = json.load(column_dict_json)\n",
    "\n",
    "ventas_renamed.rename(columns = column_dict, inplace = True)\n",
    "ventas_renamed.columns"
   ]
  },
  {
   "cell_type": "markdown",
   "metadata": {},
   "source": [
    "## Anonimizado\n",
    "- [x] Anonimizamos la variable sensible `ID` <span style=\"color:magenta\">**(Paso 3)**</span>.\n",
    "- [x] Guardamos esto en un diccionario."
   ]
  },
  {
   "cell_type": "code",
   "execution_count": null,
   "metadata": {},
   "outputs": [],
   "source": [
    "# Anonimizamos y guardamos el diccionario para no perder esta info\n",
    "ventas_hash, dict_id = anonimizar(ventas_renamed, 'ID')\n",
    "\n",
    "with open(\"../references/tp2_ID_dict.json\", \"w\") as fp:\n",
    "    json.dump(dict_id, fp)\n",
    "\n",
    "print('¡Diccionario generado!')"
   ]
  },
  {
   "attachments": {},
   "cell_type": "markdown",
   "metadata": {},
   "source": [
    "## Simplificación de valores posibles en ciertas variables\n",
    "- [x] Simplificamos de valores en `Deposito`\n",
    "- [x] Unificación y simplificación de categorías de `Trat_Fisc`.\n",
    "- [x] Simplificación de categorías de `Trat_Fisc_Agg` y `Trat_Dif`.\n",
    "- [x] Simplificación de categorías en `Categoria`.\n",
    "- [x] Guardamos todos estos diccionarios.\n",
    "- [x] CM: de Si/No a 1/0."
   ]
  },
  {
   "cell_type": "code",
   "execution_count": null,
   "metadata": {},
   "outputs": [],
   "source": [
    "# Mapeo de `Deposito` a enteros\n",
    "ventas_hash, dict_dep = anonimizar(ventas_hash, 'Deposito')\n",
    "\n",
    "with open(\"../references/tp2_deposito_dict.json\", \"w\") as fp:\n",
    "    json.dump(dict_dep, fp)\n",
    "\n",
    "print('¡Diccionario generado!')"
   ]
  },
  {
   "cell_type": "code",
   "execution_count": null,
   "metadata": {},
   "outputs": [],
   "source": [
    "# Unificacón y simplificación de categorías de `Trat_Fisc`\n",
    "with open(\"../references/tp1_trat_fisc_dict.json\") as trat_fisc_dict_json:\n",
    "    trat_fisc_dict = json.load(trat_fisc_dict_json)\n",
    "    \n",
    "ventas_hash['Trat_Fisc'] = ventas_hash['Trat_Fisc'].astype(str)\n",
    "ventas_hash['Trat_Fisc'] = ventas_hash['Trat_Fisc'].replace(trat_fisc_dict)"
   ]
  },
  {
   "cell_type": "code",
   "execution_count": null,
   "metadata": {},
   "outputs": [],
   "source": [
    "# Simplificación de categorías de `Trat_Fisc_Agg`\n",
    "with open(\"../references/tp1_trat_fisc_agg_dict.json\") as trat_fisc_agg_dict_json:\n",
    "    trat_fisc_agg_dict = json.load(trat_fisc_agg_dict_json)\n",
    "\n",
    "ventas_hash['Trat_Fisc_Agg'] = ventas_hash['Trat_Fisc_Agg'].replace(trat_fisc_agg_dict)"
   ]
  },
  {
   "cell_type": "code",
   "execution_count": null,
   "metadata": {},
   "outputs": [],
   "source": [
    "# Simplificación de categorías de `Trat_Dif`\n",
    "with open(\"../references/tp1_trat_diff_dict.json\") as trat_dif_dict_json:\n",
    "    trat_dif_dict = json.load(trat_dif_dict_json)\n",
    "\n",
    "ventas_hash['Trat_Dif'] = ventas_hash['Trat_Dif'].replace(trat_dif_dict)"
   ]
  },
  {
   "cell_type": "code",
   "execution_count": null,
   "metadata": {},
   "outputs": [],
   "source": [
    "# Simplificación de categorías de `Subrubro`\n",
    "with open(\"../references/tp2_subrubro_dict.json\") as subrubro_dict_json:\n",
    "    subrubro_dict = json.load(subrubro_dict_json)\n",
    "\n",
    "ventas_hash['Subrubro'] = ventas_hash['Subrubro'].replace(subrubro_dict)"
   ]
  },
  {
   "cell_type": "code",
   "execution_count": null,
   "metadata": {},
   "outputs": [],
   "source": [
    "ventas_hash['Subrubro'].unique()"
   ]
  },
  {
   "cell_type": "code",
   "execution_count": null,
   "metadata": {},
   "outputs": [],
   "source": [
    "# Mapeo de `CM` según \"Si\" >> 1 y \"No\" >> 0.\n",
    "ventas_hash['CM'] = ventas_hash['CM'].replace({'No': 0, 'Si': 1})"
   ]
  },
  {
   "attachments": {},
   "cell_type": "markdown",
   "metadata": {},
   "source": [
    "## Simplificación de variables temporales\n",
    "Creamos la variable `Fecha` <span style=\"color:magenta\">**(Paso 6)**</span>, que surge como:\n",
    "    $$Fecha = Año + Mes$$\n",
    "\n",
    "Luego vamos a optar por droppear `Mes` y `Año`. Aunque para el análisis temporal habrá momentos en que necesitamos tener `Año` y `Mes` por separado, son fácilmente recuperables a través de `Fecha`."
   ]
  },
  {
   "cell_type": "code",
   "execution_count": null,
   "metadata": {},
   "outputs": [],
   "source": [
    "ventas_hash[\"FECHA\"] = pd.to_datetime(ventas_hash['Mes'].astype(str) + '-' + ventas_hash['Año'].astype(str), format='%m-%Y')\n",
    "cols_dropear = ['Mes', 'Año']\n",
    "ventas_hash = limpiar_basic(ventas_hash, cols_drop=cols_dropear)\n",
    "\n",
    "ventas_hash[:3]"
   ]
  },
  {
   "cell_type": "code",
   "execution_count": null,
   "metadata": {},
   "outputs": [],
   "source": [
    "# Guardo todo lo hecho hasta acá, para no tener que correr todo\n",
    "ventas_hash.to_csv('../data/interim/tp2_ventas_hash.csv', index=False)"
   ]
  },
  {
   "attachments": {},
   "cell_type": "markdown",
   "metadata": {},
   "source": [
    "## Eliminación del efecto inflación\n",
    "Las variables expresadas en pesos aumentan mes a mes por efecto de la inflación. Lo que impide comparar un valor monetario de un mes contra el del mes siguiente. A fin de eliminar este efecto, una alternativa es reexpresar los valores monetarios respecto a un mes base. Por ejemplo, el último mes de la serie."
   ]
  },
  {
   "cell_type": "code",
   "execution_count": null,
   "metadata": {},
   "outputs": [],
   "source": [
    "ventas_ipc = ventas_hash.copy()"
   ]
  },
  {
   "cell_type": "code",
   "execution_count": null,
   "metadata": {},
   "outputs": [],
   "source": [
    "# Obtener el último mes\n",
    "fecha = ventas_ipc['FECHA'].max()\n",
    "print(f\"El último mes de la serie es el {fecha.month} de {fecha.year}\")"
   ]
  },
  {
   "attachments": {},
   "cell_type": "markdown",
   "metadata": {},
   "source": [
    "El procedimiento es el siguiente:\n",
    "    $$\\text{VAR}_{mm-aaaa} \\frac{\\text{IPC}_{06-2022}}{\\text{IPC}_{mm-aaaa}}$$\n",
    "\n",
    "Para todo valor de cada variable (VAR) correspondiente a cierto mes \"mm-aaaa\" se lo divide por el Índice de Precios al Consumidor (IPC) correspondiente a ese mes \"mm-aaaa\" y luego se lo multiplica por el IPC correspondiente al mes \"06-2022\".\n",
    "\n",
    "De esta forma, todos los valores de cada variable VAR van a quedar expresados en unidades monetarias del \"06-2022\".\n",
    "\n"
   ]
  },
  {
   "attachments": {},
   "cell_type": "markdown",
   "metadata": {},
   "source": [
    "Es necesario obtener de manera externa una serie del IPC que publica Indec."
   ]
  },
  {
   "cell_type": "code",
   "execution_count": null,
   "metadata": {},
   "outputs": [],
   "source": [
    "precios_path = \"../data/external/tp2_IPC_Indec.csv\"\n",
    "\n",
    "if exists(precios_path):\n",
    "    print('Este archivo ya existe.')\n",
    "else:\n",
    "    print('Este archivo no existe: ¡Vamos a crearlo!')\n",
    "    url = \"https://www.indec.gob.ar/ftp/cuadros/economia/sh_ipc_06_23.xls\"\n",
    "    df = pd.read_excel(url, sheet_name=\"Índices IPC Cobertura Nacional\", header=None, usecols=\"B:CA\", skiprows=[0, 1, 2, 3, 4, 6, 7, 8], nrows=2)\n",
    "    df = df.transpose()\n",
    "    df.columns = [\"FECHA\", \"INDICE\"]\n",
    "    df[\"FECHA\"] = pd.to_datetime(df[\"FECHA\"])\n",
    "    df.to_csv(precios_path, index=False)"
   ]
  },
  {
   "cell_type": "code",
   "execution_count": null,
   "metadata": {},
   "outputs": [],
   "source": [
    "# Abrir dataset de precios\n",
    "precios = pd.read_csv(precios_path)\n",
    "precios.head()"
   ]
  },
  {
   "attachments": {},
   "cell_type": "markdown",
   "metadata": {},
   "source": [
    "Luego debemos unir ambas bases de datos (ventas y precios), de acuerdo a la variable clave `FECHA`"
   ]
  },
  {
   "cell_type": "code",
   "execution_count": null,
   "metadata": {},
   "outputs": [],
   "source": [
    "print(ventas_ipc[\"FECHA\"].dtype)\n",
    "print(precios[\"FECHA\"].dtype)"
   ]
  },
  {
   "cell_type": "code",
   "execution_count": null,
   "metadata": {},
   "outputs": [],
   "source": [
    "# Hay que asegurar que la variable clave tenga el mismo tipo en los dos dataframes\n",
    "precios[\"FECHA\"] = pd.to_datetime(precios[\"FECHA\"])"
   ]
  },
  {
   "cell_type": "code",
   "execution_count": null,
   "metadata": {},
   "outputs": [],
   "source": [
    "print(ventas_ipc[\"FECHA\"].dtype)\n",
    "print(precios[\"FECHA\"].dtype)"
   ]
  },
  {
   "cell_type": "code",
   "execution_count": null,
   "metadata": {},
   "outputs": [],
   "source": [
    "ventas_ipc = ventas_ipc.merge(precios[[\"FECHA\", \"INDICE\"]], on=\"FECHA\", how=\"left\")\n",
    "ventas_ipc.head(3)"
   ]
  },
  {
   "attachments": {},
   "cell_type": "markdown",
   "metadata": {},
   "source": [
    "La series que están expresadas en pesos son las siguientes: \n",
    "   * `Ventas`\n",
    "   * `Comision`"
   ]
  },
  {
   "cell_type": "code",
   "execution_count": null,
   "metadata": {},
   "outputs": [],
   "source": [
    "ventas_ipc.head()"
   ]
  },
  {
   "cell_type": "code",
   "execution_count": null,
   "metadata": {},
   "outputs": [],
   "source": [
    "# Aplico la función para indexar valores respecto al último mes de la serie\n",
    "indexar(ventas_ipc, 'Ventas')"
   ]
  },
  {
   "cell_type": "code",
   "execution_count": null,
   "metadata": {},
   "outputs": [],
   "source": [
    "indexar(ventas_ipc, 'Comision')"
   ]
  },
  {
   "attachments": {},
   "cell_type": "markdown",
   "metadata": {},
   "source": [
    "Vemos gráficamente el efecto de la operación (por simplicidad se grafican mensualmente las series de tiempo agregando los valores por suma)."
   ]
  },
  {
   "attachments": {},
   "cell_type": "markdown",
   "metadata": {},
   "source": [
    "En las variantes llamadas \"Reales\", se observa una pendiente más moderada. El efecto de la inflación ha sido \"descartado\". De aquí en adelante, a la hora de hablar de los valores de estas variables, la interpretación correcta será \"$ XX.XXX a precios de junio de 2022\""
   ]
  },
  {
   "cell_type": "code",
   "execution_count": null,
   "metadata": {},
   "outputs": [],
   "source": [
    "ventas_ipc.head(3)"
   ]
  },
  {
   "cell_type": "code",
   "execution_count": null,
   "metadata": {},
   "outputs": [],
   "source": [
    "# Se descartan las variables que no se usan\n",
    "ventas_ipc = limpiar_basic(ventas_ipc, cols_drop=['Ventas', 'Comision', 'INDICE'])\n",
    "\n",
    "# Se renombran las variables\n",
    "ventas_ipc.rename(columns = {'FECHA': 'Fecha', 'Ventas_Real': 'Ventas', \n",
    "                              'Comision_Real': 'Comision'}, inplace = True)\n",
    "\n",
    "# Se reacomodan las columnas\n",
    "ventas_ipc = ventas_ipc[['ID', 'Omega', 'Subrubro', 'Trat_Fisc_Agg', \n",
    "                          'Trat_Fisc', 'Trat_Dif', 'CM', 'Fecha', 'Deposito', \n",
    "                          'Ventas', 'Alicuota', 'Comision', 'Modelo']]\n",
    "\n",
    "ventas_ipc = ventas_ipc.sort_values(['Fecha', 'Ventas']).reset_index(drop=True)"
   ]
  },
  {
   "cell_type": "code",
   "execution_count": null,
   "metadata": {},
   "outputs": [],
   "source": [
    "ventas_ipc"
   ]
  },
  {
   "cell_type": "code",
   "execution_count": null,
   "metadata": {},
   "outputs": [],
   "source": [
    "# Guardo todo lo hecho hasta acá, para no tener que correr todo\n",
    "ventas_ipc.to_csv('../data/interim/tp2_ventas_ipc.csv', index=False)"
   ]
  },
  {
   "cell_type": "markdown",
   "metadata": {},
   "source": [
    "## Dataset resultante\n",
    "El dataset original (`ventas`) teniá 435.489 registros y 19 variables. Luego de nuestro preprocesamiento nos quedamos con un dataset  (`ventas_ipc`) que tiene 378.708 registros y 13 variables."
   ]
  },
  {
   "cell_type": "code",
   "execution_count": null,
   "metadata": {},
   "outputs": [],
   "source": [
    "ventas.shape"
   ]
  },
  {
   "cell_type": "code",
   "execution_count": null,
   "metadata": {},
   "outputs": [],
   "source": [
    "ventas_ipc.shape"
   ]
  },
  {
   "attachments": {},
   "cell_type": "markdown",
   "metadata": {},
   "source": [
    "---\n",
    "# Análisis de variables numéricas"
   ]
  },
  {
   "cell_type": "code",
   "execution_count": null,
   "metadata": {},
   "outputs": [],
   "source": [
    "if 'ventas_ipc' not in locals():\n",
    "    # Para que las funciones se actualicen si tener que refrescar el kernel\n",
    "    %load_ext autoreload\n",
    "    %autoreload 2\n",
    "\n",
    "    import pandas as pd\n",
    "    import json\n",
    "    from os.path import exists\n",
    "    import missingno as msno\n",
    "    import matplotlib.pyplot as plt\n",
    "    import numpy as np\n",
    "    import seaborn as sns\n",
    "    from statsmodels.graphics.tsaplots import plot_acf\n",
    "    from scipy.stats import linregress as LR\n",
    "    from scipy.stats import skew, kurtosis, skewtest, kurtosistest\n",
    "\n",
    "    # Funciones propias\n",
    "    from utils_limpieza import * \n",
    "    \n",
    "    ventas_ipc = pd.read_csv('../data/interim/tp2_ventas_ipc.csv')\n",
    "\n",
    "ventas_ipc.head()"
   ]
  },
  {
   "cell_type": "code",
   "execution_count": null,
   "metadata": {},
   "outputs": [],
   "source": [
    "# Discrimanción por variables numércias\n",
    "num_cols = ['Ventas', 'Alicuota', 'Comision']\n",
    "ven_num = ventas_ipc[num_cols]"
   ]
  },
  {
   "attachments": {},
   "cell_type": "markdown",
   "metadata": {},
   "source": [
    "## Estadística descriptiva"
   ]
  },
  {
   "attachments": {},
   "cell_type": "markdown",
   "metadata": {},
   "source": [
    "- Vemos que en la variable `Alicuota` la dispersión de los datos está en el orden de la media, tomando valores desde 0% hasta 18%. Esto se ve reflejado en un z-Score que va desde -1 a 6 (igual al tp1).\n",
    "- Esta tendencia a tener la cola derecha más larga también se nota en las otras dos variables. Sin embargo, en estos dos últimos casos la dispersión de datos es enorme: la desviación estándar es igual y un orden mayor que la media y el extremo superior del z-Score está en 83 y 108 para `Ventas` y `Comision`, respectivamente (mejoró respecto al tp1 gracias a la normalización por IPC)."
   ]
  },
  {
   "cell_type": "code",
   "execution_count": null,
   "metadata": {},
   "outputs": [],
   "source": [
    "ven_num.describe().T"
   ]
  },
  {
   "cell_type": "code",
   "execution_count": null,
   "metadata": {},
   "outputs": [],
   "source": [
    "print('z-Score de los extremos de la variables numéricas:') \n",
    "for col in num_cols:\n",
    "    zScore_min = (ven_num[col].min() - ven_num[col].mean()) / ven_num[col].std()\n",
    "    zScore_max = (ven_num[col].max() - ven_num[col].mean()) / ven_num[col].std()\n",
    "\n",
    "    print(f'\\t{col}:')\n",
    "    print(f'\\t\\t Mínimo: {zScore_min:.0f} \\t Máximo: {zScore_max:.0f}')"
   ]
  },
  {
   "attachments": {},
   "cell_type": "markdown",
   "metadata": {},
   "source": [
    "- Tanto `Ventas` como `Comision` tienen prácticamente un 42% de registros con valores nulos y un 0.32% de valores negativos, *i.e.* hay un 42-43% de registros con valores no positivos imputados. \n",
    "- Un valor nulo significa que o bien era realmente nulo o se encontraba entre -$100 y $1000 (en la variable original de ventas).\n",
    "- `Alicuota` no posee registros negativos, pero sí tiene un 0.63% de registros nulos."
   ]
  },
  {
   "cell_type": "code",
   "execution_count": null,
   "metadata": {},
   "outputs": [],
   "source": [
    "print('Proporción de valores negativos, nulos y positivos en las variables numéricas:') \n",
    "for col in num_cols:\n",
    "    print(f'\\t{col}')\n",
    "    ans = len(ven_num[col])\n",
    "    neg = len(ven_num[ven_num[col] < 0])\n",
    "    nul = len(ven_num[ven_num[col] == 0])\n",
    "\n",
    "    cant = [neg, nul, neg+nul, ans-neg-nul, ans]\n",
    "    prop = [f'{100*neg/ans:.2f}%', f'{100*nul/ans:.2f}%', f'{100*(nul+neg)/ans:.2f}%', f'{100*(ans-nul-neg)/ans:.2f}%', '100.00%']\n",
    "    desc = pd.DataFrame([cant, prop], columns=['Negativos', 'Nulos', 'No positivos', 'Positivos', 'Total'], index=['Cantidad', 'Proporcion'])\n",
    "    display(desc)\n"
   ]
  },
  {
   "cell_type": "code",
   "execution_count": null,
   "metadata": {},
   "outputs": [],
   "source": [
    "sns.pairplot(data=ven_num, diag_kind='kde', plot_kws = {'alpha': 0.3, 's': 10})\n",
    "plt.show()"
   ]
  },
  {
   "cell_type": "code",
   "execution_count": null,
   "metadata": {},
   "outputs": [],
   "source": [
    "# Cálculo y Visualización de la matriz de correlación entre las variables\n",
    "matrix = ven_num[['Ventas', 'Alicuota', 'Comision']].corr().round(2)\n",
    "sns.heatmap(matrix, annot=True)"
   ]
  },
  {
   "attachments": {},
   "cell_type": "markdown",
   "metadata": {},
   "source": [
    "## Discriminando por tipo de venta\n",
    "Dado el enorme peso de los valores nulos sobre el total de registros y la presencia de valores negativos, tanto en `Ventas` como en `Comision`, se decide dividir este DataFrame en tres:\n",
    "1. Filtrado por `Ventas` nulas (`ven_num_null`)\n",
    "2. Filtrado por `Ventas` negativas (`ven_num_neg`)\n",
    "2. Filtrado por `Ventas` positivas (`ven_num_pos`)"
   ]
  },
  {
   "attachments": {},
   "cell_type": "markdown",
   "metadata": {},
   "source": [
    "### DataFrame con todas las ventas nulas\n",
    "Al hacer esto, vemos que todos los valores de `Comision` en `ven_num_null` también son nulos, independientemente del valor de `Alicuota`, la cual sigue ocupando el rango de 0% a 18%."
   ]
  },
  {
   "cell_type": "code",
   "execution_count": null,
   "metadata": {},
   "outputs": [],
   "source": [
    "ven_num_null = ven_num[ven_num['Ventas'] == 0].copy()\n",
    "ven_num_null.describe().T"
   ]
  },
  {
   "cell_type": "code",
   "execution_count": null,
   "metadata": {},
   "outputs": [],
   "source": [
    "print('z-Score de los extremos de la variables numéricas:') \n",
    "for col in ['Alicuota']:\n",
    "    zScore_min = (ven_num_null[col].min() - ven_num_null[col].mean()) / ven_num_null[col].std()\n",
    "    zScore_max = (ven_num_null[col].max() - ven_num_null[col].mean()) / ven_num_null[col].std()\n",
    "\n",
    "    print(f'\\t{col}:')\n",
    "    print(f'\\t\\t Mínimo: {zScore_min:.0f} \\t Máximo: {zScore_max:.0f}')"
   ]
  },
  {
   "attachments": {},
   "cell_type": "markdown",
   "metadata": {},
   "source": [
    "### DataFrame con todas las ventas negativas\n",
    "- Hay 7 órdenes de magnitud de diferencia entre los valores mínimo y máximo de ventas y comisión.\n",
    "- Los datos son asimétricos hacia la izquierda, igual son menos asimétricos que el conjunto global\n",
    "- Hay 26 casos donde la comisión es nula a pesar de que la venta no fue nula. En 25 de estos casos ocurre que la alícuota es cero. En el caso restante es de 0.18%. Como en todos los casos son ventas negativas, puede ser que esta sea la razón de tener una comisión nula. Ninguno de estos 26 registros corresponde a vendedor modelo.\n",
    "- De hecho no hay ningún modelo con ventas negativas."
   ]
  },
  {
   "cell_type": "code",
   "execution_count": null,
   "metadata": {},
   "outputs": [],
   "source": [
    "ven_num_neg = ven_num[ven_num['Ventas'] < 0].copy()\n",
    "ven_num_neg.describe().T"
   ]
  },
  {
   "cell_type": "code",
   "execution_count": null,
   "metadata": {},
   "outputs": [],
   "source": [
    "mod_neg = ventas_ipc[num_cols+['Modelo']]\n",
    "mod_neg = mod_neg[mod_neg['Ventas'] < 0]\n",
    "mod_neg = mod_neg[ventas_ipc['Modelo'] == 1]\n",
    "mod_neg"
   ]
  },
  {
   "cell_type": "code",
   "execution_count": null,
   "metadata": {},
   "outputs": [],
   "source": [
    "ventas_ipc[(ventas_ipc['Ventas'] < 0) & (ventas_ipc['Comision'] == 0)].sort_values('Alicuota')[num_cols+['Modelo']]"
   ]
  },
  {
   "cell_type": "code",
   "execution_count": null,
   "metadata": {},
   "outputs": [],
   "source": [
    "print('z-Score de los extremos de la variables numéricas:') \n",
    "for col in num_cols:\n",
    "    zScore_min = (ven_num_neg[col].min() - ven_num_neg[col].mean()) / ven_num_neg[col].std()\n",
    "    zScore_max = (ven_num_neg[col].max() - ven_num_neg[col].mean()) / ven_num_neg[col].std()\n",
    "\n",
    "    print(f'\\t{col}:')\n",
    "    print(f'\\t\\t Mínimo: {zScore_min:.0f} \\t Máximo: {zScore_max:.0f}')"
   ]
  },
  {
   "attachments": {},
   "cell_type": "markdown",
   "metadata": {},
   "source": [
    "* La mayoría de las ventas y comisiones están asociadas a alícuotas menores al 5% (con moda en 5%).\n",
    "* Se proyecta una relación lineal entre `Ventas` y `Comision`: hay una correlación de +0.66. Chequear relación de proporcionaldiad con `Alicuota`"
   ]
  },
  {
   "cell_type": "code",
   "execution_count": null,
   "metadata": {},
   "outputs": [],
   "source": [
    "sns.pairplot(data=ven_num_neg, diag_kind='kde', plot_kws = {'alpha': 0.3, 's': 10})\n",
    "plt.show()"
   ]
  },
  {
   "cell_type": "code",
   "execution_count": null,
   "metadata": {},
   "outputs": [],
   "source": [
    "# Cálculo y Visualización de la matriz de correlación entre las variables\n",
    "matrix = ven_num_neg[['Ventas', 'Alicuota', 'Comision']].corr().round(2)\n",
    "sns.heatmap(matrix, annot=True)"
   ]
  },
  {
   "attachments": {},
   "cell_type": "markdown",
   "metadata": {},
   "source": [
    "### DataFrame con todas las ventas positivas\n",
    "* Hay 5 y 9 órdenes de magnitud de diferencia entre los valores mínimo y máximo de comisión y ventas, respectivamente.\n",
    "* Los datos son asimétricos hacia la derecha, igual son menos asimétricos que el conjunto global.\n",
    "* Hay 2232 casos donde la comisión es nula a pesar de que la venta no fue nula. De estos:\n",
    "    * 34 registros corresponden a vendedores modelo.\n",
    "    * 1458 registros con alícuota nula.\n",
    "    * 774 registros con alícuota no nula."
   ]
  },
  {
   "cell_type": "code",
   "execution_count": null,
   "metadata": {},
   "outputs": [],
   "source": [
    "ven_num_pos = ven_num[ven_num['Ventas'] > 0].copy()\n",
    "ven_num_pos.describe().T"
   ]
  },
  {
   "cell_type": "code",
   "execution_count": null,
   "metadata": {},
   "outputs": [],
   "source": [
    "a = ventas_ipc[(ventas_ipc['Ventas'] > 0) & (ventas_ipc['Comision'] == 0)].sort_values('Alicuota')[num_cols+['Modelo']]\n",
    "display(a)\n",
    "print(f'Hay {len(a)} registros con venta positiva, pero comisión nula. De estos:')\n",
    "print(f'\\t>>> {len(a[a[\"Modelo\"] == 1])} registros corresponden a vendedores modelo.')\n",
    "display(a[a[\"Modelo\"] == 1].describe().T)\n",
    "print(f'\\t>>> {len(a[a[\"Alicuota\"] == 0])} registros con alícuota nula.')\n",
    "print(f'\\t>>> {len(a[a[\"Alicuota\"] > 0])} registros con alícuota no nula.')\n",
    "display(a[a[\"Alicuota\"] > 0].describe().T)"
   ]
  },
  {
   "cell_type": "code",
   "execution_count": null,
   "metadata": {},
   "outputs": [],
   "source": [
    "print('z-Score de los extremos de la variables numéricas:') \n",
    "for col in num_cols:\n",
    "    zScore_min = (ven_num_pos[col].min() - ven_num_pos[col].mean()) / ven_num_pos[col].std()\n",
    "    zScore_max = (ven_num_pos[col].max() - ven_num_pos[col].mean()) / ven_num_pos[col].std()\n",
    "\n",
    "    print(f'\\t{col}:')\n",
    "    print(f'\\t\\t Mínimo: {zScore_min:.0f} \\t Máximo: {zScore_max:.0f}')"
   ]
  },
  {
   "attachments": {},
   "cell_type": "markdown",
   "metadata": {},
   "source": [
    "* La mayoría de las ventas y comisiones están asociadas a alícuotas menores al 5%.\n",
    "* Hay una distribución bimodal en torno al 0.0475% y el 5%\n",
    "* Se proyectan diferentes rectas entre `Ventas` y `Comision`: ¿existe una relación de proporcionaldiad con `Alicuota`?\n",
    "* Se proyecta una relación lineal entre `Ventas` y `Comision`: hay una correlación de +0.87. Chequear relación de proporcionaldiad con `Alicuota`"
   ]
  },
  {
   "cell_type": "code",
   "execution_count": null,
   "metadata": {},
   "outputs": [],
   "source": [
    "sns.pairplot(data=ven_num_pos, diag_kind='kde', plot_kws = {'alpha': 0.3, 's': 10})\n",
    "plt.show()"
   ]
  },
  {
   "cell_type": "code",
   "execution_count": null,
   "metadata": {},
   "outputs": [],
   "source": [
    "# Cálculo y Visualización de la matriz de correlación entre las variables\n",
    "matrix = ven_num_pos[['Ventas', 'Alicuota', 'Comision']].corr().round(2)\n",
    "sns.heatmap(matrix, annot=True)"
   ]
  },
  {
   "attachments": {},
   "cell_type": "markdown",
   "metadata": {},
   "source": [
    "## Más medidas de dispersión sobre ventas no nulas: asimetría y Kurtosis"
   ]
  },
  {
   "attachments": {},
   "cell_type": "markdown",
   "metadata": {},
   "source": [
    "Al analizar la asimetría (skewness) y la Kurtosis sobre estas variables decimos que:\n",
    "* Las ventas positivas tienen un sesgo positivos y las negativas un sesgo negativo tanto para comisión como para ventas, como ya habíamos visto: las colas de las distribuciones se encuentran a derecha e izquierda, respectivamente.\n",
    "* Las comisiones siempre tienen sesgo positivo: colas a derecha.\n",
    "* Todas son leptocúrticas: están más apuntaladas y con colas más gruesas que la normal.\n",
    "* Todos los p-valores son nulos en ambos test, lo cual indica que rechazamos la hipótesis nula: tanto en simetría como en Kurtosis las distribuciones son significativamente diferentes a una distribución normal."
   ]
  },
  {
   "cell_type": "code",
   "execution_count": null,
   "metadata": {},
   "outputs": [],
   "source": [
    "print('Ventas negativas')\n",
    "asim = skew(ven_num_neg)\n",
    "asimtest = skewtest(ven_num_neg).pvalue\n",
    "kurt = kurtosis(ven_num_neg)\n",
    "kurttest = kurtosistest(ven_num_neg).pvalue\n",
    "\n",
    "desc = pd.DataFrame({'Asimetría': asim, 'p-val Asim.': asimtest,\n",
    "                     'Kurtosis (Fisher)': kurt, 'p-val Kurt.': kurttest},\n",
    "                     index=['Ventas', 'Alicuota', 'Comision'])\n",
    "desc"
   ]
  },
  {
   "cell_type": "code",
   "execution_count": null,
   "metadata": {},
   "outputs": [],
   "source": [
    "print('Ventas positivas')\n",
    "asim = skew(ven_num_pos)\n",
    "asimtest = skewtest(ven_num_pos).pvalue\n",
    "kurt = kurtosis(ven_num_pos)\n",
    "kurttest = kurtosistest(ven_num_pos).pvalue\n",
    "\n",
    "desc = pd.DataFrame({'Asimetría': asim, 'p-val Asim.': asimtest,\n",
    "                     'Kurtosis (Fisher)': kurt, 'p-val Kurt.': kurttest},\n",
    "                     index=['Ventas', 'Alicuota', 'Comision'])\n",
    "desc"
   ]
  },
  {
   "attachments": {},
   "cell_type": "markdown",
   "metadata": {},
   "source": [
    "## Relación entre variables numéricas con etiquetas categóricas"
   ]
  },
  {
   "cell_type": "code",
   "execution_count": null,
   "metadata": {},
   "outputs": [],
   "source": [
    "ventas_null = ventas_ipc[ventas_ipc['Ventas'] == 0].copy()\n",
    "ventas_neg = ventas_ipc[ventas_ipc['Ventas'] < 0].copy()\n",
    "ventas_pos = ventas_ipc[ventas_ipc['Ventas'] > 0].copy()"
   ]
  },
  {
   "attachments": {},
   "cell_type": "markdown",
   "metadata": {},
   "source": [
    "### Ventas nulas\n",
    "- Omega: prácticamente todos 1. Hay una nadita de 0.\n",
    "- Subrubro: nada particular.\n",
    "- Trat_Fisc_Agg: casi todos normales, algunos exentos y ni se ven los otros.\n",
    "- Trat_Fisc: la enorme mayoría son 0. Después destacan apenitas los normales.\n",
    "- Trat_Dif: la enorme mayoría no tiene. espués destacan apenitas los artículos 16 y 21.\n",
    "- CM: prácticamente todos 0. Hay una nadita de 1. Se repite lo que vimos en el tp1: todos los CM1 están acá. Identificar a este vendedor y eliminar.\n",
    "- Modelo: la gran mayoría no lo son, aunque sí hay varios modelo (en torno al cero)."
   ]
  },
  {
   "cell_type": "code",
   "execution_count": null,
   "metadata": {},
   "outputs": [],
   "source": [
    "# # Estas gráficas tardan bastante en generarse, descomentar para obtenerlas\n",
    "\n",
    "# for col in ['Omega', 'Subrubro', 'Trat_Fisc_Agg', 'Trat_Fisc', 'Trat_Dif', 'CM', 'Modelo']:\n",
    "#     sns.kdeplot(data=ventas_null[['Alicuota', col]], x='Alicuota', hue=col)\n",
    "#     plt.show()"
   ]
  },
  {
   "attachments": {},
   "cell_type": "markdown",
   "metadata": {},
   "source": [
    "### Ventas negativas\n",
    "- Omega: todos son 1.\n",
    "- Subrubro: destacan misceláneo, supermercados y combustible reventa.\n",
    "- Trat_Fisc_Agg: la enorme mayoría son normal, una nada de exentos. No hay otros.\n",
    "- Trat_Fisc: nada particular.\n",
    "- Trat_Dif: mayoritariamente no.\n",
    "- CM: todos son 0.\n",
    "- Modelo: todos son 0 (no hay ningún modelo con ventas negativas)."
   ]
  },
  {
   "cell_type": "code",
   "execution_count": null,
   "metadata": {},
   "outputs": [],
   "source": [
    "# # Estas gráficas tardan bastante en generarse, descomentar para obtenerlas\n",
    "\n",
    "# for col in ['Omega', 'Subrubro', 'Trat_Fisc_Agg', 'Trat_Fisc', 'Trat_Dif', 'CM', 'Modelo']:\n",
    "#     sns.pairplot(data=ventas_neg[num_cols+[col]], diag_kind='kde', hue=col, plot_kws = {'alpha': 0.3, 's': 10})\n",
    "#     plt.show()"
   ]
  },
  {
   "attachments": {},
   "cell_type": "markdown",
   "metadata": {},
   "source": [
    "### Ventas positivas\n",
    "- Omega: la enorme mayoría son 1. Hay poquititos 0.\n",
    "- Subrubro: ver cómo se asocian a las diferentes proyecciones.\n",
    "- Trat_Fisc_Agg: casi todo normal. Algunos otros. También hay exento y mínimo.\n",
    "- Trat_Fisc: sumar esto al análisis de subrubro (distinguir primero por subrubro y dentro de cada uno diferenciar entre Trat Fisc).\n",
    "- Trat_Dif: como el item anterior.\n",
    "- CM: todos son 0.\n",
    "- Modelo: hay tanto 0 como 1. Hay una mayor proporción de 1 que antes"
   ]
  },
  {
   "cell_type": "code",
   "execution_count": null,
   "metadata": {},
   "outputs": [],
   "source": [
    "# # Estas gráficas tardan bastante en generarse, descomentar para obtenerlas\n",
    "\n",
    "# for col in ['Omega', 'Subrubro', 'Trat_Fisc_Agg', 'Trat_Fisc', 'Trat_Dif', 'CM', 'Modelo']:\n",
    "#     sns.pairplot(data=ventas_pos[num_cols+[col]], diag_kind='kde', hue=col, plot_kws = {'alpha': 0.3, 's': 10})\n",
    "#     plt.show()"
   ]
  },
  {
   "attachments": {},
   "cell_type": "markdown",
   "metadata": {},
   "source": [
    "## Nota sobre modelos\n",
    "* No hay ningún modelo con ventas nulas: la mayoría de sus registros son ventas positivas, aunque hay algunos con ventas negativas.\n",
    "* Todos los modelos tienen alícuotas bajas (muy ceranas al 0%). Hay 5374 registros asociados a vendedores modelo y sus alícuotas van desde 0.0084% hasta 3.25%. Sin embargo, la mayoría se concentra en alícuotas menores a 0.075 %, teniendo un pico en 0.05%."
   ]
  },
  {
   "cell_type": "code",
   "execution_count": null,
   "metadata": {},
   "outputs": [],
   "source": [
    "a = ventas_ipc[(ventas_ipc['Modelo'] == 1)].sort_values('Alicuota')[num_cols]\n",
    "a.describe().T"
   ]
  },
  {
   "cell_type": "code",
   "execution_count": null,
   "metadata": {},
   "outputs": [],
   "source": [
    "sns.histplot(a['Alicuota'])\n",
    "plt.show()\n",
    "\n",
    "sns.histplot(a[a['Alicuota'] < 0.5]['Alicuota'])\n",
    "plt.show()"
   ]
  },
  {
   "attachments": {},
   "cell_type": "markdown",
   "metadata": {},
   "source": [
    "## Análisis de la relación de proporcionalidad entre variables numéricas"
   ]
  },
  {
   "attachments": {},
   "cell_type": "markdown",
   "metadata": {},
   "source": [
    "Queremos estudiar un poco más la relación lineal antes vista entre estas 3 variables. Proponemos que la función que las relaciona es\n",
    "    $$\\text{Comision} = \\text{Alicuota} \\times \\text{Ventas}$$\n",
    "\n",
    "Acá voy a volver a distinguir entre nulas, positivas y negativas e ir discriminando por modelo"
   ]
  },
  {
   "attachments": {},
   "cell_type": "markdown",
   "metadata": {},
   "source": [
    "### Ventas nulas\n",
    "Los 147061 registros con ventas nulas cumplen la relación (porque dijimos que toda venta nula estaba asociada a una comision nula)."
   ]
  },
  {
   "cell_type": "code",
   "execution_count": null,
   "metadata": {},
   "outputs": [],
   "source": [
    "# Relación lineal: comision = alicuota x venta\n",
    "calcCom = ventas_null['Alicuota'] * ventas_null['Ventas']\n",
    "\n",
    "L = len(calcCom)\n",
    "S = sum(abs(ventas_null['Comision'] - calcCom) == 0)\n",
    "print(f'{S} de {L} registros cumplen la relación >> {100*(S)/L:.2f}%')\n",
    "print(f'{L-S} registros no la cumplen la relación >> {100*(L-S)/L:.2f}%')"
   ]
  },
  {
   "attachments": {},
   "cell_type": "markdown",
   "metadata": {},
   "source": [
    "### Ventas negativas\n",
    "* El 97.65% de los registros **NO** cumplen la relación: el 96.19% de los registros la subestiman.\n",
    "* El 64.05% de los registros cae en el caso *pendiente grande*."
   ]
  },
  {
   "cell_type": "code",
   "execution_count": null,
   "metadata": {},
   "outputs": [],
   "source": [
    "# Relación lineal: comision = alicuota x venta\n",
    "calcCom = ventas_neg['Alicuota'] * ventas_neg['Ventas']\n",
    "\n",
    "diff = ventas_neg['Comision'] - calcCom\n",
    "D = len(diff)\n",
    "L = len(calcCom)\n",
    "S = sum(abs(diff) == 0)\n",
    "\n",
    "print(f'{S} de {L} registros cumplen la relación >> {100*(S)/L:.2f}%')\n",
    "print(f'{L-S} registros no la cumplen la relación >> {100*(L-S)/L:.2f}%')\n",
    "\n",
    "sobre = len(diff[diff<0])\n",
    "print(f'\\t{sobre} registros sobreestiman la relación >>> {100*sobre/D:.2f}%')\n",
    "sub = len(diff[diff>0])\n",
    "print(f'\\t{sub} registros subestiman la relación >>> {100*sub/D:.2f}%')"
   ]
  },
  {
   "cell_type": "code",
   "execution_count": null,
   "metadata": {},
   "outputs": [],
   "source": [
    "com_real_sobre = ventas_neg['Comision'][diff<0]\n",
    "com_real_exac = ventas_neg['Comision'][diff==0]\n",
    "com_real_sub = ventas_neg['Comision'][diff>0]\n",
    "\n",
    "com_calc_sobre = calcCom[diff<0]\n",
    "com_calc_exac = calcCom[diff==0]\n",
    "com_calc_sub = calcCom[diff>0]"
   ]
  },
  {
   "cell_type": "code",
   "execution_count": null,
   "metadata": {},
   "outputs": [],
   "source": [
    "fig, axs = plt.subplots(figsize=(6, 5))\n",
    "\n",
    "fig.suptitle('Comisión: real vs calculada (ventas negativas)')\n",
    "\n",
    "axs.scatter(com_real_sobre, com_calc_sobre, label='Sobreestimado', s=30)\n",
    "axs.scatter(com_real_exac, com_calc_exac, label='Exacto', s=20)\n",
    "axs.scatter(com_real_sub, com_calc_sub, label='Subestimado', s=10)\n",
    "\n",
    "axs.legend()\n",
    "\n",
    "axs.set_xlabel('Comisión real')\n",
    "axs.set_ylabel('Comisión calculada')\n",
    "\n",
    "plt.show()"
   ]
  },
  {
   "cell_type": "code",
   "execution_count": null,
   "metadata": {},
   "outputs": [],
   "source": [
    "rg_real = pd.concat([com_real_sub[com_calc_sub<0], com_real_sobre[com_calc_sobre>10*com_real_sobre]])\n",
    "rg_calc = pd.concat([com_calc_sub[com_calc_sub<0], com_calc_sobre[com_calc_sobre>10*com_real_sobre]])\n",
    "\n",
    "rp_real = pd.concat([com_real_sub[com_calc_sub>0], com_real_sobre[com_calc_sobre<10*com_real_sobre], com_real_exac])\n",
    "rp_calc = pd.concat([com_calc_sub[com_calc_sub>0], com_calc_sobre[com_calc_sobre<10*com_real_sobre], com_calc_exac])"
   ]
  },
  {
   "cell_type": "code",
   "execution_count": null,
   "metadata": {},
   "outputs": [],
   "source": [
    "print(f'De los {len(rp_real+rg_real)} registros:')\n",
    "print(f'\\t{len(rg_real)} están en la recta con pendiente grande >>> {100*len(rg_real)/len(rp_real+rg_real):.2f}%')\n",
    "print(f'\\t{len(rp_real)} están en la recta con pendiente pequeña >>> {100*len(rp_real)/len(rp_real+rg_real):.2f}%')"
   ]
  },
  {
   "cell_type": "code",
   "execution_count": null,
   "metadata": {},
   "outputs": [],
   "source": [
    "LG = LR(rg_real, rg_calc)\n",
    "LP = LR(rp_real, rp_calc)"
   ]
  },
  {
   "cell_type": "code",
   "execution_count": null,
   "metadata": {},
   "outputs": [],
   "source": [
    "fig, axs = plt.subplots(figsize=(6, 5))\n",
    "\n",
    "axs.scatter(rg_real, rg_calc, label='Gran pendiente', s=30)\n",
    "axs.scatter(rp_real, rp_calc, label='Pequeña pendiente', s=15)\n",
    "axs.plot(rg_real, rg_real*LG.slope + LG.intercept, label=f'{LG.slope:.0f}*Real + ${LG.intercept:.0f}', color='red')\n",
    "axs.plot(rp_real, rp_real*LP.slope + LP.intercept, label=f'{LP.slope:.0f}*Real + ${LP.intercept:.4f}', color='tab:green')\n",
    "\n",
    "axs.legend(loc='upper left')\n",
    "\n",
    "axs.set_xlabel('Comisión real')\n",
    "axs.set_ylabel('Comisión calculada')\n",
    "\n",
    "fig.suptitle('Comisión empresa: real vs calculada (ventas negativas)')\n",
    "plt.show()"
   ]
  },
  {
   "cell_type": "code",
   "execution_count": null,
   "metadata": {},
   "outputs": [],
   "source": [
    "# Discrimino por modelo\n",
    "mask0 = ventas_neg['Modelo']==0\n",
    "mask1 = ventas_neg['Modelo']==1"
   ]
  },
  {
   "cell_type": "code",
   "execution_count": null,
   "metadata": {},
   "outputs": [],
   "source": [
    "com_real_Mod = ventas_neg['Comision'][mask1]\n",
    "com_real_noMod = ventas_neg['Comision'][mask0]\n",
    "\n",
    "com_calc_Mod = calcCom[mask1]\n",
    "com_calc_noMod = calcCom[mask0]"
   ]
  },
  {
   "cell_type": "code",
   "execution_count": null,
   "metadata": {},
   "outputs": [],
   "source": [
    "fig, axs = plt.subplots(figsize=(6, 5))\n",
    "\n",
    "axs.scatter(rg_real, rg_calc, label='Gran pendiente', s=30)\n",
    "axs.scatter(rp_real, rp_calc, label='Pequeña pendiente', s=15)\n",
    "axs.plot(com_real_noMod, com_calc_noMod, label='No Modelo', color='tab:green')\n",
    "axs.plot(com_real_Mod, com_calc_Mod, label='Modelo', color='red')\n",
    "\n",
    "axs.legend(loc='upper left')\n",
    "\n",
    "axs.set_xlabel('Comisión real')\n",
    "axs.set_ylabel('Comisión Calculada')\n",
    "\n",
    "fig.suptitle('Comisión: real vs calculada (ventas negativas)')\n",
    "plt.show()"
   ]
  },
  {
   "attachments": {},
   "cell_type": "markdown",
   "metadata": {},
   "source": [
    "### Ventas positivas\n",
    "* El 97.33% de los registros **NO** cumplen la relación: el 81.64% de los registros la sobrestiman.\n",
    "* Todos los que no cumplen caen en el caso *pendiente grande*.\n",
    "* Todos os modelo caen en el caso *pendiente pequeña*."
   ]
  },
  {
   "cell_type": "code",
   "execution_count": null,
   "metadata": {},
   "outputs": [],
   "source": [
    "# Relación lineal: comision = alicuota x venta\n",
    "calcCom = ventas_pos['Alicuota'] * ventas_pos['Ventas']\n",
    "\n",
    "diff = ventas_pos['Comision'] - calcCom\n",
    "D = len(diff)\n",
    "L = len(calcCom)\n",
    "S = sum(abs(diff) == 0)\n",
    "\n",
    "print(f'{S} de {L} registros cumplen la relación >> {100*(S)/L:.2f}%')\n",
    "print(f'{L-S} registros no la cumplen la relación >> {100*(L-S)/L:.2f}%')\n",
    "\n",
    "sobre = len(diff[diff<0])\n",
    "print(f'\\t{sobre} registros sobreestiman la relación >>> {100*sobre/D:.2f}%')\n",
    "sub = len(diff[diff>0])\n",
    "print(f'\\t{sub} registros subestiman la relación >>> {100*sub/D:.2f}%')"
   ]
  },
  {
   "cell_type": "code",
   "execution_count": null,
   "metadata": {},
   "outputs": [],
   "source": [
    "com_real_sobre = ventas_pos['Comision'][diff<0]\n",
    "com_real_exac = ventas_pos['Comision'][diff==0]\n",
    "com_real_sub = ventas_pos['Comision'][diff>0]\n",
    "\n",
    "com_calc_sobre = calcCom[diff<0]\n",
    "com_calc_exac = calcCom[diff==0]\n",
    "com_calc_sub = calcCom[diff>0]"
   ]
  },
  {
   "cell_type": "code",
   "execution_count": null,
   "metadata": {},
   "outputs": [],
   "source": [
    "fig, axs = plt.subplots(figsize=(6, 5))\n",
    "\n",
    "fig.suptitle('Comisión: real vs calculada (ventas positivas)')\n",
    "\n",
    "axs.scatter(com_real_sobre, com_calc_sobre, label='Sobreestimado', s=30)\n",
    "axs.scatter(com_real_exac, com_calc_exac, label='Exacto', s=20)\n",
    "axs.scatter(com_real_sub, com_calc_sub, label='Subestimado', s=10)\n",
    "\n",
    "axs.legend()\n",
    "\n",
    "axs.set_xlabel('Comisión real')\n",
    "axs.set_ylabel('Comisión calculada')\n",
    "\n",
    "plt.show()"
   ]
  },
  {
   "cell_type": "code",
   "execution_count": null,
   "metadata": {},
   "outputs": [],
   "source": [
    "rg_real = pd.concat([com_real_sub[com_calc_sub<0], com_real_sobre[com_calc_sobre>10*com_real_sobre]])\n",
    "rg_calc = pd.concat([com_calc_sub[com_calc_sub<0], com_calc_sobre[com_calc_sobre>10*com_real_sobre]])\n",
    "\n",
    "rp_real = pd.concat([com_real_sub[com_calc_sub>0], com_real_sobre[com_calc_sobre<10*com_real_sobre], com_real_exac])\n",
    "rp_calc = pd.concat([com_calc_sub[com_calc_sub>0], com_calc_sobre[com_calc_sobre<10*com_real_sobre], com_calc_exac])"
   ]
  },
  {
   "cell_type": "code",
   "execution_count": null,
   "metadata": {},
   "outputs": [],
   "source": [
    "print(f'De los {len(rp_real+rg_real)} registros:')\n",
    "print(f'\\t{len(rg_real)} están en la recta con pendiente grande >>> {100*len(rg_real)/len(rp_real+rg_real):.2f}%')\n",
    "print(f'\\t{len(rp_real)} están en la recta con pendiente pequeña >>> {100*len(rp_real)/len(rp_real+rg_real):.2f}%')"
   ]
  },
  {
   "cell_type": "code",
   "execution_count": null,
   "metadata": {},
   "outputs": [],
   "source": [
    "LG = LR(rg_real, rg_calc)\n",
    "LP = LR(rp_real, rp_calc)"
   ]
  },
  {
   "cell_type": "code",
   "execution_count": null,
   "metadata": {},
   "outputs": [],
   "source": [
    "fig, axs = plt.subplots(figsize=(6, 5))\n",
    "\n",
    "axs.scatter(rg_real, rg_calc, label='Gran pendiente', s=30)\n",
    "axs.scatter(rp_real, rp_calc, label='Pequeña pendiente', s=15)\n",
    "axs.plot(rg_real, rg_real*LG.slope + LG.intercept, label=f'{LG.slope:.0f}*Real + ${LG.intercept:.0f}', color='red')\n",
    "axs.plot(rp_real, rp_real*LP.slope + LP.intercept, label=f'{LP.slope:.0f}*Real + ${LP.intercept:.4f}', color='tab:green')\n",
    "\n",
    "axs.legend(loc='upper left')\n",
    "\n",
    "axs.set_xlabel('Comisión real')\n",
    "axs.set_ylabel('Comisión calculada')\n",
    "\n",
    "fig.suptitle('Comisión empresa: real vs calculada (ventas positivas)')\n",
    "plt.show()"
   ]
  },
  {
   "cell_type": "code",
   "execution_count": null,
   "metadata": {},
   "outputs": [],
   "source": [
    "# Discrimino por modelo\n",
    "mask0 = ventas_pos['Modelo']==0\n",
    "mask1 = ventas_pos['Modelo']==1"
   ]
  },
  {
   "cell_type": "code",
   "execution_count": null,
   "metadata": {},
   "outputs": [],
   "source": [
    "com_real_Mod = ventas_pos['Comision'][mask1]\n",
    "com_real_noMod = ventas_pos['Comision'][mask0]\n",
    "\n",
    "com_calc_Mod = calcCom[mask1]\n",
    "com_calc_noMod = calcCom[mask0]"
   ]
  },
  {
   "cell_type": "code",
   "execution_count": null,
   "metadata": {},
   "outputs": [],
   "source": [
    "fig, axs = plt.subplots(figsize=(6, 5))\n",
    "\n",
    "axs.scatter(rg_real, rg_calc, label='Gran pendiente', s=30)\n",
    "axs.scatter(rp_real, rp_calc, label='Pequeña pendiente', s=15)\n",
    "axs.plot(com_real_noMod, com_calc_noMod, label='No Modelo', color='tab:green')\n",
    "axs.plot(com_real_Mod, com_calc_Mod, label='Modelo', color='red')\n",
    "\n",
    "axs.legend(loc='upper left')\n",
    "\n",
    "axs.set_xlabel('Comisión real')\n",
    "axs.set_ylabel('Comisión Calculada')\n",
    "\n",
    "fig.suptitle('Comisión: real vs calculada (ventas positivas)')\n",
    "plt.show()"
   ]
  },
  {
   "cell_type": "markdown",
   "metadata": {},
   "source": [
    "### Pendientes\n",
    "* En ambos casos de ventas no nulas las pendientes son 1 y 100 para la pequeña y la grande, respectivamente.\n",
    "* Las ordenadas al origen son bien diferentes para cada caso:\n",
    "    * Ventas negativas:\n",
    "        * Pendiente = 1 >> $0\n",
    "        * Pendiente = 100 >> $141.739\n",
    "    * Ventas positivas:\n",
    "        * Pendiente = 1 >> -$21\n",
    "        * Pendiente = 100 >> $1.719"
   ]
  },
  {
   "attachments": {},
   "cell_type": "markdown",
   "metadata": {},
   "source": [
    "---\n",
    "# Análisis de variables categóricas"
   ]
  },
  {
   "cell_type": "code",
   "execution_count": null,
   "metadata": {},
   "outputs": [],
   "source": [
    "if 'ventas_ipc' not in locals():\n",
    "    # Para que las funciones se actualicen si tener que refrescar el kernel\n",
    "    %load_ext autoreload\n",
    "    %autoreload 2\n",
    "\n",
    "    import pandas as pd\n",
    "    import json\n",
    "    from os.path import exists\n",
    "    import missingno as msno\n",
    "    import matplotlib.pyplot as plt\n",
    "    import numpy as np\n",
    "    import seaborn as sns\n",
    "    from statsmodels.graphics.tsaplots import plot_acf\n",
    "    from scipy.stats import linregress as LR\n",
    "    from scipy.stats import skew, kurtosis, skewtest, kurtosistest\n",
    "\n",
    "    # Funciones propias\n",
    "    from utils_limpieza import * \n",
    "    \n",
    "    ventas_ipc = pd.read_csv('../data/interim/tp2_ventas_ipc.csv')\n",
    "\n",
    "ventas_ipc.head()"
   ]
  },
  {
   "cell_type": "code",
   "execution_count": null,
   "metadata": {},
   "outputs": [],
   "source": [
    "ventas_categ = ventas_ipc.drop(['Ventas', 'Alicuota', 'Comision'], axis=1).copy()\n",
    "ventas_categ.head(3)"
   ]
  },
  {
   "cell_type": "markdown",
   "metadata": {},
   "source": [
    "## Chequear unicidad: relación con modelos"
   ]
  },
  {
   "attachments": {},
   "cell_type": "markdown",
   "metadata": {},
   "source": [
    "### `ID` y `Modelo`"
   ]
  },
  {
   "cell_type": "code",
   "execution_count": null,
   "metadata": {},
   "outputs": [],
   "source": [
    "checkear_unicidad(ventas_categ, 'Modelo', 'ID')"
   ]
  },
  {
   "attachments": {},
   "cell_type": "markdown",
   "metadata": {},
   "source": [
    "Esto implica, que si hay un vendedor Modelo que vende en más de un rubro, tiene la etiqueta de Modelo en todos los rubros."
   ]
  },
  {
   "attachments": {},
   "cell_type": "markdown",
   "metadata": {},
   "source": [
    "### `Omega` y `Modelo`"
   ]
  },
  {
   "attachments": {},
   "cell_type": "markdown",
   "metadata": {},
   "source": [
    "En primer lugar, verificar si a cada ID único se le asigna un único valor de Omega (no debería pasar lo contrario)"
   ]
  },
  {
   "cell_type": "code",
   "execution_count": null,
   "metadata": {},
   "outputs": [],
   "source": [
    "checkear_unicidad(ventas_categ, 'Omega', 'ID')"
   ]
  },
  {
   "cell_type": "code",
   "execution_count": null,
   "metadata": {},
   "outputs": [],
   "source": [
    "graficar_modelo(ventas_categ, 'Omega')"
   ]
  },
  {
   "attachments": {},
   "cell_type": "markdown",
   "metadata": {},
   "source": [
    "Dentro de los vendedores que son Omega (3119), solo el 0,35% es modelo.\n",
    "Mientras que entre los no Omega (26), el 100% es modelo."
   ]
  },
  {
   "attachments": {},
   "cell_type": "markdown",
   "metadata": {},
   "source": [
    "### `Subrubro` y `Modelo`"
   ]
  },
  {
   "cell_type": "code",
   "execution_count": null,
   "metadata": {},
   "outputs": [],
   "source": [
    "checkear_unicidad(ventas_categ, 'Subrubro', 'ID')"
   ]
  },
  {
   "attachments": {},
   "cell_type": "markdown",
   "metadata": {},
   "source": [
    "En secciones previas se probó que si un ID era Modelo en un rubro, también lo era en todos en los que aparecía."
   ]
  },
  {
   "cell_type": "code",
   "execution_count": null,
   "metadata": {},
   "outputs": [],
   "source": [
    "graficar_modelo(ventas_categ, 'Subrubro')"
   ]
  },
  {
   "attachments": {},
   "cell_type": "markdown",
   "metadata": {},
   "source": [
    "### `Trat_Fisc_Agg` y `Modelo`"
   ]
  },
  {
   "attachments": {},
   "cell_type": "markdown",
   "metadata": {},
   "source": [
    "De qué depende el tratamiento fiscal? Del cliente? Del vendedor? Del rubro? De cada venta?"
   ]
  },
  {
   "cell_type": "code",
   "execution_count": null,
   "metadata": {},
   "outputs": [],
   "source": [
    "checkear_unicidad(ventas_categ, 'Trat_Fisc_Agg', 'ID')"
   ]
  },
  {
   "attachments": {},
   "cell_type": "markdown",
   "metadata": {},
   "source": [
    "Esto prueba que el atributo Trat_Fisc_Agg no es el mismo para todas las ventas de un vendedor."
   ]
  },
  {
   "attachments": {},
   "cell_type": "markdown",
   "metadata": {},
   "source": [
    "Probemos si para cada vendedor, de cierto rubro, de cierto número de depósito se cumple:"
   ]
  },
  {
   "cell_type": "code",
   "execution_count": null,
   "metadata": {},
   "outputs": [],
   "source": [
    "checkear_unicidad(ventas_categ, 'Trat_Fisc_Agg', 'ID', 'Deposito','Subrubro')"
   ]
  },
  {
   "attachments": {},
   "cell_type": "markdown",
   "metadata": {},
   "source": [
    "Será un atributo que cambia en el tiempo?"
   ]
  },
  {
   "cell_type": "code",
   "execution_count": null,
   "metadata": {},
   "outputs": [],
   "source": [
    "checkear_unicidad(ventas_categ, 'Trat_Fisc_Agg', 'ID', 'Deposito', 'Subrubro', 'Fecha')"
   ]
  },
  {
   "attachments": {},
   "cell_type": "markdown",
   "metadata": {},
   "source": [
    "Esto no contradice lo que pusimos en el data statement? Que cada renglón es una sumatoria de ventas para un mismo ID, en cierto Deposito y cierto mes?"
   ]
  },
  {
   "cell_type": "code",
   "execution_count": null,
   "metadata": {},
   "outputs": [],
   "source": [
    "#Un caso:\n",
    "ventas_categ[(ventas_categ['ID'] == 691) & (ventas_categ['Deposito'] == 70) & (ventas_categ['Subrubro'] == 'Comb.') & (ventas_categ['Fecha'] == '2019-11-01')]"
   ]
  },
  {
   "attachments": {},
   "cell_type": "markdown",
   "metadata": {},
   "source": [
    "De cualquier manera, esto hace pensar que el tratamiento fiscal depende del cliente o de la venta en particular y no del vendedor."
   ]
  },
  {
   "attachments": {},
   "cell_type": "markdown",
   "metadata": {},
   "source": [
    "#### Checkear con `Ventas` si hay cierto punto de corte para entrar por ej desde exento a normal y luego a otro"
   ]
  },
  {
   "cell_type": "code",
   "execution_count": null,
   "metadata": {},
   "outputs": [],
   "source": [
    "ventas_prueba = ventas_ipc[['ID', 'Deposito', 'Subrubro', 'Fecha','Ventas','Trat_Fisc_Agg']].dropna(subset=['Trat_Fisc_Agg']).copy()\n",
    "duplicados = ventas_prueba[ventas_prueba.duplicated(subset=['ID', 'Deposito', 'Subrubro', 'Fecha'], keep=False)].sort_values(by=['ID', 'Deposito', 'Subrubro', 'Fecha'], ascending=True).copy()\n",
    "duplicados"
   ]
  },
  {
   "cell_type": "code",
   "execution_count": null,
   "metadata": {},
   "outputs": [],
   "source": [
    "duplicados.groupby('Trat_Fisc_Agg')['Ventas'].mean()"
   ]
  },
  {
   "attachments": {},
   "cell_type": "markdown",
   "metadata": {},
   "source": [
    "En promedio, se cumple que \"Exento\" es menor a \"Norm\", que a su vez es menor a \"Otro\". Veamos si se cumple en todos los casos:"
   ]
  },
  {
   "attachments": {},
   "cell_type": "markdown",
   "metadata": {},
   "source": [
    "Si resultado es True, significa que, dentro de cada grupo, el valor de 'Ventas' correspondiente a 'Trat_Fisc_Agg' == 'Exento' siempre es menor que el valor de 'Ventas' correspondiente a 'Trat_Fisc_Agg' == 'Normal', y ambos son menores que el valor de 'Ventas' correspondiente a 'Trat_Fisc_Agg' == 'Otro'. Si resultado es False, significa que al menos en un grupo no se cumple esta condición."
   ]
  },
  {
   "cell_type": "code",
   "execution_count": null,
   "metadata": {},
   "outputs": [],
   "source": [
    "resultado = duplicados.groupby(['ID', 'Deposito', 'Subrubro', 'Fecha']).apply(lambda x: x[x['Trat_Fisc_Agg'] == 'Exento']['Ventas'].max() < x[x['Trat_Fisc_Agg'] == 'Norm']['Ventas'].min() < x[x['Trat_Fisc_Agg'] == 'Otro']['Ventas'].min()).all()\n",
    "resultado"
   ]
  },
  {
   "cell_type": "code",
   "execution_count": null,
   "metadata": {},
   "outputs": [],
   "source": [
    "graficar_modelo(ventas_categ, 'Trat_Fisc_Agg')"
   ]
  },
  {
   "attachments": {},
   "cell_type": "markdown",
   "metadata": {},
   "source": [
    "### `Trat_Fisc` y `Modelo`"
   ]
  },
  {
   "cell_type": "code",
   "execution_count": null,
   "metadata": {},
   "outputs": [],
   "source": [
    "checkear_unicidad(ventas_categ, 'Trat_Fisc', 'ID', 'Deposito', 'Subrubro', 'Fecha')"
   ]
  },
  {
   "attachments": {},
   "cell_type": "markdown",
   "metadata": {},
   "source": [
    "##### Checkear con `Ventas` si hay cierto punto de corte para pasar de una a otra categoría"
   ]
  },
  {
   "cell_type": "code",
   "execution_count": null,
   "metadata": {},
   "outputs": [],
   "source": [
    "ventas_prueba = ventas_ipc[['ID', 'Deposito', 'Subrubro', 'Fecha','Ventas','Trat_Fisc']].dropna(subset=['Trat_Fisc']).copy()\n",
    "duplicados = ventas_prueba[ventas_prueba.duplicated(subset=['ID', 'Deposito', 'Subrubro', 'Fecha'], keep=False)].sort_values(by=['ID', 'Deposito', 'Subrubro', 'Fecha'], ascending=True).copy()\n",
    "duplicados.groupby('Trat_Fisc')['Ventas'].mean()"
   ]
  },
  {
   "attachments": {},
   "cell_type": "markdown",
   "metadata": {},
   "source": [
    "Probamos con un caso.\n",
    "\n",
    "Si resultado es True, significa que, dentro de cada grupo, el valor de 'Ventas' correspondiente a 'Trat_Fisc_Agg' == 0 siempre es mayor que el valor de 'Ventas' correspondiente a 'Trat_Fisc_Agg' == 1. Si resultado es False, significa que al menos en un grupo no se cumple esta condición."
   ]
  },
  {
   "cell_type": "code",
   "execution_count": null,
   "metadata": {},
   "outputs": [],
   "source": [
    "resultado = duplicados.groupby(['ID', 'Deposito', 'Subrubro', 'Fecha']).apply(lambda x: x[x['Trat_Fisc'] == 0]['Ventas'].max() > x[x['Trat_Fisc'] == 1]['Ventas'].min()).all()\n",
    "resultado"
   ]
  },
  {
   "cell_type": "code",
   "execution_count": null,
   "metadata": {},
   "outputs": [],
   "source": [
    "graficar_modelo(ventas_categ, 'Trat_Fisc')"
   ]
  },
  {
   "attachments": {},
   "cell_type": "markdown",
   "metadata": {},
   "source": [
    "### `Trat_Dif` y `Modelo`"
   ]
  },
  {
   "cell_type": "code",
   "execution_count": null,
   "metadata": {},
   "outputs": [],
   "source": [
    "checkear_unicidad(ventas_categ, 'Trat_Dif', 'ID', 'Deposito', 'Subrubro', 'Fecha')"
   ]
  },
  {
   "cell_type": "code",
   "execution_count": null,
   "metadata": {},
   "outputs": [],
   "source": [
    "checkear_unicidad(ventas_categ, 'Trat_Dif', 'ID', 'Deposito', 'Subrubro')"
   ]
  },
  {
   "attachments": {},
   "cell_type": "markdown",
   "metadata": {},
   "source": [
    "Se debe a que `Trat_Dif` cambia en el tiempo? O a que hay pocos casos con valores no vacíos?"
   ]
  },
  {
   "cell_type": "code",
   "execution_count": null,
   "metadata": {},
   "outputs": [],
   "source": [
    "graficar_modelo(ventas_categ, 'Trat_Dif')"
   ]
  },
  {
   "attachments": {},
   "cell_type": "markdown",
   "metadata": {},
   "source": [
    "### `CM` y `Modelo` <span style=\"color:magenta\">**(Paso 4)**</span>"
   ]
  },
  {
   "cell_type": "code",
   "execution_count": null,
   "metadata": {},
   "outputs": [],
   "source": [
    "checkear_unicidad(ventas_categ, 'CM', 'ID')"
   ]
  },
  {
   "cell_type": "code",
   "execution_count": null,
   "metadata": {},
   "outputs": [],
   "source": [
    "casos_unicos_cm_1 = ventas_categ[ventas_categ['CM'] == 1]['ID'].nunique()\n",
    "print(\"Número de casos únicos de ID para CM = 1:\", casos_unicos_cm_1)"
   ]
  },
  {
   "cell_type": "code",
   "execution_count": null,
   "metadata": {},
   "outputs": [],
   "source": [
    "graficar_modelo(ventas_categ, 'CM')"
   ]
  },
  {
   "attachments": {},
   "cell_type": "markdown",
   "metadata": {},
   "source": [
    "Solo hay un caso que está bajo CM igual a 1 (y no es vendedor modelo). El tamaño de muestra equivale al 0,01% de los casos."
   ]
  },
  {
   "cell_type": "code",
   "execution_count": null,
   "metadata": {},
   "outputs": [],
   "source": [
    "print(f\"{round(len(ventas_categ[ventas_categ['CM'] == 1]) / len(ventas_categ) * 100, 2)}%\")"
   ]
  },
  {
   "attachments": {},
   "cell_type": "markdown",
   "metadata": {},
   "source": [
    "Se procederá a descartar el caso en un dataset aparte. Y se eliminará la variable `CM`."
   ]
  },
  {
   "cell_type": "code",
   "execution_count": null,
   "metadata": {},
   "outputs": [],
   "source": [
    "#Eliminación de caso CM=1 y columna CM. Y almacenamiento en un dataset aparte\n",
    "\n",
    "# Se opera sobre el dataset completo\n",
    "\n",
    "ventas_cm = ventas_ipc[ventas_ipc['CM'] == 1].copy()\n",
    "ventas_cm.to_csv('../data/interim/tp2_ventas_cm.csv', index=False)\n",
    "\n",
    "display(ventas_cm[['Ventas']])\n",
    "\n",
    "ventas_ipc = ventas_ipc[ventas_ipc['CM'] != 1].copy()\n",
    "ventas_ipc = limpiar_basic(ventas_ipc, 'CM')\n",
    "\n",
    "# Y luego sobre el dataset de variables categóricas\n",
    "\n",
    "ventas_categ = ventas_categ[ventas_categ['CM'] != 1].copy()\n",
    "ventas_categ = limpiar_basic(ventas_categ, 'CM')\n",
    "ventas_categ"
   ]
  },
  {
   "attachments": {},
   "cell_type": "markdown",
   "metadata": {},
   "source": [
    "## Relación entre variables fiscales (`Trat_Fisc` y `Trat_Fisc_Agg` y `Trat_Dif`) <span style=\"color:magenta\">**(Paso 5)**</span>"
   ]
  },
  {
   "attachments": {},
   "cell_type": "markdown",
   "metadata": {},
   "source": [
    "### `Trat_Fisc` y `Trat_Fisc_Agg`"
   ]
  },
  {
   "attachments": {},
   "cell_type": "markdown",
   "metadata": {},
   "source": [
    "Queremos chequear para qué valores de `Trat_Fisc` aparecen valores de `Trat_Fisc_Agg`."
   ]
  },
  {
   "cell_type": "code",
   "execution_count": null,
   "metadata": {},
   "outputs": [],
   "source": [
    "# Este paso lo agrego porque sino el crosstab siguiente no me muestra los NaN\n",
    "ventas_categ['Trat_Fisc'] = ventas_categ['Trat_Fisc'].fillna('Warning: Relleno')\n",
    "ventas_categ['Trat_Fisc_Agg'] = ventas_categ['Trat_Fisc_Agg'].fillna('Warning: Relleno')\n",
    "\n",
    "pd.crosstab(ventas_categ['Trat_Fisc'], ventas_categ['Trat_Fisc_Agg'], dropna=False)"
   ]
  },
  {
   "attachments": {},
   "cell_type": "markdown",
   "metadata": {},
   "source": [
    "Al analizar la tabla de contingencia, vemos que los valores de `Trat_Fisc_Agg` sólo aparecen cuando `Trat_Fisc` asume valores 0, 1, 2 ó 3. \n",
    "A su vez, hay correspondencia entre 0 y Norm, 1 y Exento, 2 y Min, 3 y Otro. \n",
    "¿Se puede unificar todo como `Trat_Fisc`, eliminando entonces `Trat_Fisc_Agg`? ¿Tiene sentido que falte la descripción asociada al tratamiento?"
   ]
  },
  {
   "cell_type": "code",
   "execution_count": null,
   "metadata": {},
   "outputs": [],
   "source": [
    "vad = pd.crosstab(ventas_categ['Trat_Fisc'].fillna(\"Warning: NA\"), ventas_categ['Trat_Fisc_Agg'].fillna(\"Warning: NA\"), normalize=True)\n",
    "sns.heatmap(vad, annot=True)\n",
    "\n",
    "plt.show()"
   ]
  },
  {
   "attachments": {},
   "cell_type": "markdown",
   "metadata": {},
   "source": [
    "Vemos que sí existe una gran correlación entre \"Norm\" de `Trat_Fisc_Agg` y \"0\" de `Trat_Fisc`."
   ]
  },
  {
   "attachments": {},
   "cell_type": "markdown",
   "metadata": {},
   "source": [
    "### Relación entre `Trat_Fisc` y `Trat_Dif`"
   ]
  },
  {
   "attachments": {},
   "cell_type": "markdown",
   "metadata": {},
   "source": [
    "Ahora veamos para qué valores de `Trat_Fisc` aparecen valores de `Trat_Dif`. Al analizar la tabla de contingencia vemos que no hay un patrón claro. ¿Podríamos tomar a un dato faltante como \"sin tratamiento\" o algo por el estilo?"
   ]
  },
  {
   "cell_type": "code",
   "execution_count": null,
   "metadata": {},
   "outputs": [],
   "source": [
    "# Este paso lo agrego porque sino el crosstab siguiente no me muestra los NaN\n",
    "ventas_categ['Trat_Dif'] = ventas_categ['Trat_Dif'].fillna('Waring: Relleno')\n",
    "\n",
    "pd.crosstab(ventas_categ['Trat_Fisc'], ventas_categ['Trat_Dif'], dropna=False)"
   ]
  },
  {
   "attachments": {},
   "cell_type": "markdown",
   "metadata": {},
   "source": [
    "*   Se concluye que la variable que más información aporta es la de `Trat_Fisc`, superando a `Trat_Fisc_Agg` en que tiene menos valores perdidos. Y a su vez, la información de `Trat_Fisc_Agg` (Exento, Min, Norm, Otro), es capturada por los valores 1, 2, 0, 3 de `Trat_Fisc_Agg`, respectivamente.\n",
    "\n",
    "\n",
    "*   Respecto a `Trat_Diff`, la misma es superada por `Trat_Fisc` en cuanto a ausencia de valores perdidos. La variable `Trat_Fisc`, en el práctico anterior, había permitido detectar ciertas tendencias de ventas. A su vez que no queda claro el aporte de `Trat_Diff`.\n",
    "\n",
    "\n",
    "La decisión es droppear `Trat_Fisc_Agg` y `Trat_Dif`"
   ]
  },
  {
   "cell_type": "code",
   "execution_count": null,
   "metadata": {},
   "outputs": [],
   "source": [
    "# Se opera sobre el dataset completo\n",
    "ventas_fisc = limpiar_basic(ventas_ipc, ['Trat_Fisc_Agg', 'Trat_Dif'])\n",
    "\n",
    "# Y luego sobre el dataset de variables categóricas\n",
    "ventas_categ = limpiar_basic(ventas_categ, ['Trat_Fisc_Agg', 'Trat_Dif'])\n",
    "ventas_categ"
   ]
  },
  {
   "cell_type": "code",
   "execution_count": null,
   "metadata": {},
   "outputs": [],
   "source": [
    "ventas_fisc.to_csv('../data/interim/tp2_ventas_fisc.csv', index=False)\n",
    "ventas_fisc"
   ]
  },
  {
   "cell_type": "markdown",
   "metadata": {},
   "source": [
    "---\n",
    "# Análisis de la serie de tiempo con énfasis en Modelos y Subrubro <span style=\"color:magenta\">**(Paso 7)**</span>"
   ]
  },
  {
   "cell_type": "code",
   "execution_count": null,
   "metadata": {},
   "outputs": [],
   "source": [
    "if 'ventas_fisc' not in locals():\n",
    "    # Para que las funciones se actualicen si tener que refrescar el kernel\n",
    "    %load_ext autoreload\n",
    "    %autoreload 2\n",
    "\n",
    "    import pandas as pd\n",
    "    import json\n",
    "    from os.path import exists\n",
    "    import missingno as msno\n",
    "    import matplotlib.pyplot as plt\n",
    "    import numpy as np\n",
    "    import seaborn as sns\n",
    "    from statsmodels.graphics.tsaplots import plot_acf\n",
    "    from scipy.stats import linregress as LR\n",
    "    from scipy.stats import skew, kurtosis, skewtest, kurtosistest\n",
    "\n",
    "    # Funciones propias\n",
    "    from utils_limpieza import * \n",
    "    \n",
    "    ventas_fisc = pd.read_csv('../data/interim/tp2_ventas_fisc.csv')\n",
    "\n",
    "ventas_fisc['Fecha'] = ventas_fisc['Fecha'].astype('datetime64[ns]')"
   ]
  },
  {
   "cell_type": "code",
   "execution_count": null,
   "metadata": {},
   "outputs": [],
   "source": [
    "ventas_fisc.dtypes"
   ]
  },
  {
   "cell_type": "markdown",
   "metadata": {},
   "source": [
    "## Modelos vs. Tiempo\n",
    "**Observaciones (ventas totales)**\n",
    "- Los valores de ventas de Modelo son cerca de la mitad de las ventas de no-Modelo.\n",
    "- Durante el confinamiento obligatorio (primera mitad de 2020) las caídas en ventas fueron muy fuertes, pero más fuertes en proporción para vendedores Modelo,\n",
    "- Si la indexación es confiable, parece que los Modelos no han recuperado sus valores de ventas previos a la Pandemia, mientas que los no-Modelo parecen estar levemente por encima.\n",
    "- A lo largo de todo el período, los no modelo lograron vender un 14% más, mientras que los modelo han bajado sus ventas en un 10%.\n",
    "- Hay menos dispersión de datos para vendedores no-modelo: ventas más consistentes o es simplemente un efecto de la mayor cantidad de datos?\n",
    "- Si nos fijamos en la comisión, si bien la pandemia afectó tanto a modelos como no modelos (ver valle en el primer semestre de 2020), los modelo han recuperado su nivel de aporte, mientras que los no modelo lo han superado. A lo largo de todo el periódo la variación de los modelo es prácticamente nula, pero la de los no modelo aumentó en un 40%.\n",
    "\n",
    "**Observaciones (ventas positivas)**\n",
    "- Se repite el patrón de que los valores de ventas de Modelo son cerca de la mitad de las ventas de no-Modelo.\n",
    "- Se sigue viendo el decaimiento en pandemia.\n",
    "- En todo el período, las ventas de los no modelo aumentaron un 23%, mientras que las ventas de modelo apenas disminuyeron.\n",
    "- Si nos fijamos en la comisión, se sigue viendo el efecto de la pandemia. A lo largo de todo el periódo la variación de los modelo es prácticamente nula, pero la de los no modelo aumentó en un 50%."
   ]
  },
  {
   "cell_type": "code",
   "execution_count": null,
   "metadata": {},
   "outputs": [],
   "source": [
    "ventas_fisc.head()"
   ]
  },
  {
   "cell_type": "code",
   "execution_count": null,
   "metadata": {},
   "outputs": [],
   "source": [
    "ven_mod_t = ventas_fisc[['ID', 'Fecha', 'Ventas', 'Comision', 'Modelo']].copy()"
   ]
  },
  {
   "cell_type": "code",
   "execution_count": null,
   "metadata": {},
   "outputs": [],
   "source": [
    "sns.lineplot(x='Fecha', y='Ventas', hue='Modelo', data=ven_mod_t)\n",
    "plt.title('Ventas (totales)')\n",
    "plt.show()"
   ]
  },
  {
   "cell_type": "code",
   "execution_count": null,
   "metadata": {},
   "outputs": [],
   "source": [
    "sns.lineplot(x='Fecha', y='Comision', hue='Modelo', data=ven_mod_t)\n",
    "plt.title('Comision (totales)')\n",
    "plt.show()"
   ]
  },
  {
   "cell_type": "code",
   "execution_count": null,
   "metadata": {},
   "outputs": [],
   "source": [
    "ven_mod_t_pos = ven_mod_t[ven_mod_t['Ventas'] > 0].copy()"
   ]
  },
  {
   "cell_type": "code",
   "execution_count": null,
   "metadata": {},
   "outputs": [],
   "source": [
    "sns.lineplot(x='Fecha', y='Ventas', hue='Modelo', data=ven_mod_t_pos)\n",
    "plt.title('Ventas (positivas)')\n",
    "plt.show()"
   ]
  },
  {
   "cell_type": "code",
   "execution_count": null,
   "metadata": {},
   "outputs": [],
   "source": [
    "sns.lineplot(x='Fecha', y='Comision', hue='Modelo', data=ven_mod_t_pos)\n",
    "plt.title('Comision (positivas)')\n",
    "plt.show()"
   ]
  },
  {
   "cell_type": "markdown",
   "metadata": {},
   "source": [
    "## Modelos y Subrubros vs. Tiempo\n",
    "\n",
    "Visualizamos la diferencia entre Modelo y no-Modelo dentro de cada subrubro.\n",
    "\n",
    "**Observaciones (ventas totales):**\n",
    "- Los valores de venta en Modelos son menores en todos los Subrubros, con la excepción de tres: \"Góndola\", \"Comb.\" y \"Comb. Ley\".\n",
    "- En los subrubros \"Vehículos\", \"Farmacia\" y \"Supermercado\" los valores de ventas de modelo parecen ser despreciables en comparación con no-Modelo. Tienen valores muy bajos y con muy poca variablidad.\n",
    "- \"Mantenimiento\" no parece tener muchos valores Modelo, se podría descartar.\n",
    "\n",
    "**Observaciones (ventas postivias):**\n",
    "- Los valores de venta en Modelos son menores en todos los Subrubros, con la excepción de tres: \"Góndola\" y \"Comb.\". Ahora \"Comb. Ley\" se pusieron cabeza a cabeza.\n",
    "- Se repite lo de \"Vehículos\", \"Farmacia\" y \"Supermercado\".\n",
    "- \"Mantenimiento\" no muestra ningún modelo: no hay modelos con ventas positivas en esta categoría"
   ]
  },
  {
   "cell_type": "code",
   "execution_count": null,
   "metadata": {},
   "outputs": [],
   "source": [
    "g = sns.relplot(\n",
    "    data=ventas_fisc,\n",
    "    x=\"Fecha\", y=\"Ventas\", col=\"Subrubro\", hue=\"Modelo\",\n",
    "    kind=\"line\", linewidth=2, zorder=5,\n",
    "    col_wrap=3, height=2, aspect=1.5, legend=True,\n",
    "    facet_kws=dict(sharey=False)\n",
    ")\n",
    "\n",
    "# Iterate over each subplot to customize further\n",
    "for subrubro, ax in g.axes_dict.items():\n",
    "\n",
    "    # Add the title as an annotation within the plot\n",
    "    ax.text(.5, .95, subrubro, transform=ax.transAxes)\n",
    "\n",
    "# Reduce the frequency of the x axis ticks\n",
    "ax.set_xticks(ax.get_xticks()[::2])\n",
    "#ax.set_xticklabels(ax.get_xticklabels(), rotation=45)\n",
    "plt.xticks(rotation=45, ha='right')\n",
    "\n",
    "g.set_titles(\"\")\n",
    "g.set_axis_labels(\"\", \"Ventas\")    \n",
    "#g.tight_layout()\n",
    "\n",
    "plt.show()"
   ]
  },
  {
   "cell_type": "code",
   "execution_count": null,
   "metadata": {},
   "outputs": [],
   "source": [
    "ven_modsub_t_pos = ventas_fisc[ventas_fisc['Ventas'] > 0].copy()"
   ]
  },
  {
   "cell_type": "code",
   "execution_count": null,
   "metadata": {},
   "outputs": [],
   "source": [
    "g = sns.relplot(\n",
    "    data=ven_modsub_t_pos,\n",
    "    x=\"Fecha\", y=\"Ventas\", col=\"Subrubro\", hue=\"Modelo\",\n",
    "    kind=\"line\", linewidth=2, zorder=5,\n",
    "    col_wrap=3, height=2, aspect=1.5, legend=True,\n",
    "    facet_kws=dict(sharey=False)\n",
    ")\n",
    "\n",
    "# Iterate over each subplot to customize further\n",
    "for subrubro, ax in g.axes_dict.items():\n",
    "\n",
    "    # Add the title as an annotation within the plot\n",
    "    ax.text(.5, .95, subrubro, transform=ax.transAxes)\n",
    "\n",
    "# Reduce the frequency of the x axis ticks\n",
    "ax.set_xticks(ax.get_xticks()[::2])\n",
    "#ax.set_xticklabels(ax.get_xticklabels(), rotation=45)\n",
    "plt.xticks(rotation=45, ha='right')\n",
    "\n",
    "g.set_titles(\"\")\n",
    "g.set_axis_labels(\"\", \"Ventas\")    \n",
    "#g.tight_layout()\n",
    "\n",
    "plt.show()"
   ]
  },
  {
   "cell_type": "markdown",
   "metadata": {},
   "source": [
    "## Extra: alícuotas en el tiempo\n",
    "-   Se observa un quiebre en las alícuotas a partir de enero de 2020.\n",
    "-   Es un salto que se verifica en todos los rubros excepto en los vinculados a combustibles.\n",
    "-   Otro detalle relevante es que las alicuotas para los Modelo son muy cercanas a 0."
   ]
  },
  {
   "cell_type": "code",
   "execution_count": null,
   "metadata": {},
   "outputs": [],
   "source": [
    "sns.lineplot(x='Fecha', y='Alicuota', hue='Modelo', data=ventas_fisc)\n",
    "\n",
    "plt.show()"
   ]
  },
  {
   "cell_type": "code",
   "execution_count": null,
   "metadata": {},
   "outputs": [],
   "source": [
    "g = sns.relplot(\n",
    "    data=ventas_fisc,\n",
    "    x=\"Fecha\", y=\"Alicuota\", col=\"Subrubro\", hue=\"Modelo\",\n",
    "    kind=\"line\", linewidth=2, zorder=5,\n",
    "    col_wrap=3, height=2, aspect=1.5, legend=True,\n",
    "    facet_kws=dict(sharey=False)\n",
    ")\n",
    "\n",
    "# Iterate over each subplot to customize further\n",
    "for subrubro, ax in g.axes_dict.items():\n",
    "\n",
    "    # Add the title as an annotation within the plot\n",
    "    ax.text(.5, .95, subrubro, transform=ax.transAxes)\n",
    "\n",
    "# Reduce the frequency of the x axis ticks\n",
    "ax.set_xticks(ax.get_xticks()[::2])\n",
    "#ax.set_xticklabels(ax.get_xticklabels(), rotation=45)\n",
    "plt.xticks(rotation=45, ha='right')\n",
    "\n",
    "g.set_titles(\"\")\n",
    "g.set_axis_labels(\"\", \"Alicuota\")    \n",
    "#g.tight_layout()\n",
    "\n",
    "plt.show()"
   ]
  },
  {
   "cell_type": "markdown",
   "metadata": {},
   "source": [
    "## Descartamos el subrubro `Mantenimiento`\n",
    "Eliminamos el subrubro \"Mantenimiento\" porque hay un solo vendedor modelo, con valores nulos en los primeros meses de la serie (que luego desaparece por completo del dataset)"
   ]
  },
  {
   "cell_type": "code",
   "execution_count": null,
   "metadata": {},
   "outputs": [],
   "source": [
    "ventas_sub11 = ventas_fisc[ventas_fisc['Subrubro'] != 'Mantenimiento'].copy()\n",
    "ventas_sub11.to_csv('../data/interim/tp2_ventas_sub11.csv', index=False)\n",
    "print(ventas_sub11.shape)"
   ]
  },
  {
   "cell_type": "markdown",
   "metadata": {},
   "source": [
    "---\n",
    "# Generación de un nuevo dataset: de transacciones a vendedores <span style=\"color:magenta\">**(Paso 8)**</span>"
   ]
  },
  {
   "cell_type": "code",
   "execution_count": null,
   "metadata": {},
   "outputs": [],
   "source": [
    "if 'ventas_sub11' not in locals():\n",
    "    # Para que las funciones se actualicen si tener que refrescar el kernel\n",
    "    %load_ext autoreload\n",
    "    %autoreload 2\n",
    "\n",
    "    import pandas as pd\n",
    "    import json\n",
    "    from os.path import exists\n",
    "    import missingno as msno\n",
    "    import matplotlib.pyplot as plt\n",
    "    import numpy as np\n",
    "    import seaborn as sns\n",
    "    from statsmodels.graphics.tsaplots import plot_acf\n",
    "    from scipy.stats import linregress as LR\n",
    "    from scipy.stats import skew, kurtosis, skewtest, kurtosistest\n",
    "\n",
    "    # Funciones propias\n",
    "    from utils_limpieza import * \n",
    "    \n",
    "    ventas_sub11 = pd.read_csv('../data/interim/tp2_ventas_sub11.csv')\n",
    "\n",
    "ventas_sub11"
   ]
  },
  {
   "cell_type": "markdown",
   "metadata": {},
   "source": [
    "## Dani\n",
    "Objetivo:\n",
    "- Una fila por ID*Subrubro \n",
    "- Para el último periodo (6 meses por ahora): Generar para cada combinación de ID y Subrubro columnas nuevas que cada una sea el resultado de aplicar la diferencia porcentual de un mes y el anterior"
   ]
  },
  {
   "cell_type": "markdown",
   "metadata": {},
   "source": [
    "Generamos `ventas_cure` con los siguientes criterios, quedándonos sólo con los últimos meses de dato"
   ]
  },
  {
   "cell_type": "code",
   "execution_count": null,
   "metadata": {},
   "outputs": [],
   "source": [
    "meses = 6\n",
    "fecha_corte = ventas_sub11[\"Fecha\"].max() - pd.DateOffset(months=meses)\n",
    "print (f'Fecha de corte para los últimos {meses} meses: {fecha_corte}')\n",
    "\n",
    "ventas_cure = ventas_sub11[ventas_sub11['Fecha'] > fecha_corte]\\\n",
    "                            .reset_index().copy()\n",
    "ventas_cure"
   ]
  },
  {
   "cell_type": "markdown",
   "metadata": {},
   "source": [
    "Generamos `ventas_cure_lean` dropeando algunas columnas que por ahora se ignorarán para caracterizar a cada vendedor"
   ]
  },
  {
   "cell_type": "code",
   "execution_count": null,
   "metadata": {},
   "outputs": [],
   "source": [
    "ventas_cure"
   ]
  },
  {
   "cell_type": "code",
   "execution_count": null,
   "metadata": {},
   "outputs": [],
   "source": [
    "ventas_cure_2 = eliminar_combinacion_vacios(ventas_cure, cols_combina=['ID', 'Subrubro'], col_buscar_vacio='Ventas')\n",
    "ventas_cure_2"
   ]
  },
  {
   "cell_type": "code",
   "execution_count": null,
   "metadata": {},
   "outputs": [],
   "source": [
    "ventas_cure_por_id_subrubro = ventas_cure_2.groupby(['ID', 'Subrubro']).agg({'Ventas':'sum', \n",
    "                                                                                'Alicuota':'mean', \n",
    "                                                                                'Comision':'sum'}).reset_index()\n",
    "ventas_cure_por_id_subrubro"
   ]
  },
  {
   "cell_type": "code",
   "execution_count": null,
   "metadata": {},
   "outputs": [],
   "source": [
    "ventas_cure_lean = ventas_cure\\\n",
    "                    .drop(columns=['index', 'Omega', 'Trat_Fisc', 'Deposito'])\\\n",
    "                    .sort_values(by=['ID', 'Subrubro', 'Fecha'])\n",
    "\n",
    "ventas_cure_lean"
   ]
  },
  {
   "cell_type": "markdown",
   "metadata": {},
   "source": [
    "Vendedores `Modelo=1` que pertenecen a más de un subrubro tienen `ventas=0` en algunos subrubros"
   ]
  },
  {
   "cell_type": "code",
   "execution_count": null,
   "metadata": {},
   "outputs": [],
   "source": [
    "# número de subrubros a los que pertenece cada ID Modelo = 1\n",
    "ventas_cure_lean[ventas_cure_lean[\"Modelo\"]==1]\\\n",
    "    .groupby(['ID'])['Subrubro']\\\n",
    "    .nunique()\\\n",
    "    .sort_values(ascending=False).head(15)"
   ]
  },
  {
   "cell_type": "code",
   "execution_count": null,
   "metadata": {},
   "outputs": [],
   "source": [
    "id = 493\n",
    "\n",
    "g = sns.relplot(\n",
    "    data=ventas_cure_lean[ventas_cure_lean['ID'] == id],\n",
    "    x=\"Fecha\", y=\"Ventas\", col=\"Subrubro\",\n",
    "    kind=\"line\", linewidth=2, zorder=5,\n",
    "    col_wrap=3, height=2, aspect=1.5, legend=True,\n",
    "    facet_kws=dict(sharey=False)\n",
    ")\n",
    "\n",
    "# Iterate over each subplot to customize further\n",
    "for subrubro, ax in g.axes_dict.items():\n",
    "\n",
    "    # Add the title as an annotation within the plot\n",
    "    ax.text(.5, .95, subrubro, transform=ax.transAxes)\n",
    "\n",
    "# Reduce the frequency of the x axis ticks\n",
    "ax.set_xticks(ax.get_xticks()[::2])\n",
    "#ax.set_xticklabels(ax.get_xticklabels(), rotation=45)\n",
    "plt.xticks(rotation=45, ha='right')\n",
    "\n",
    "g.set_titles(\"\")\n",
    "g.set_axis_labels(\"\", \"Ventas\")    \n",
    "#g.tight_layout()"
   ]
  },
  {
   "cell_type": "markdown",
   "metadata": {},
   "source": [
    "Eliminamos Subrubros dentro de IDs donde tengan 0 ventas en el periodo estudiado:"
   ]
  },
  {
   "cell_type": "code",
   "execution_count": null,
   "metadata": {},
   "outputs": [],
   "source": [
    "ventas_cure_lean = eliminar_combinacion_vacios(ventas_cure_lean, cols_combina=['ID', 'Subrubro'], col_buscar_vacio='Ventas')\n",
    "ventas_cure_lean"
   ]
  },
  {
   "cell_type": "code",
   "execution_count": null,
   "metadata": {},
   "outputs": [],
   "source": [
    "ventas_cure_lean"
   ]
  },
  {
   "cell_type": "markdown",
   "metadata": {},
   "source": [
    "Verificar que no exista combinación de ID y Subrubro con ventas agrupadas en el periodo de estudio que sea cero"
   ]
  },
  {
   "cell_type": "code",
   "execution_count": null,
   "metadata": {},
   "outputs": [],
   "source": [
    "ventas_cure_lean.groupby(['ID', 'Subrubro'])['Ventas'].sum().reset_index().sort_values(by='Ventas', ascending=True)"
   ]
  },
  {
   "cell_type": "code",
   "execution_count": null,
   "metadata": {},
   "outputs": [],
   "source": [
    "id = 493\n",
    "\n",
    "g = sns.relplot(\n",
    "    data=ventas_cure_lean[ventas_cure_lean['ID'] == id],\n",
    "    x=\"Fecha\", y=\"Ventas\", col=\"Subrubro\",\n",
    "    kind=\"line\", linewidth=2, zorder=5,\n",
    "    col_wrap=3, height=2, aspect=1.5, legend=True,\n",
    "    facet_kws=dict(sharey=False)\n",
    ")\n",
    "\n",
    "# Iterate over each subplot to customize further\n",
    "for subrubro, ax in g.axes_dict.items():\n",
    "\n",
    "    # Add the title as an annotation within the plot\n",
    "    ax.text(.5, .95, subrubro, transform=ax.transAxes)\n",
    "\n",
    "# Reduce the frequency of the x axis ticks\n",
    "ax.set_xticks(ax.get_xticks()[::2])\n",
    "#ax.set_xticklabels(ax.get_xticklabels(), rotation=45)\n",
    "plt.xticks(rotation=45, ha='right')\n",
    "\n",
    "g.set_titles(\"\")\n",
    "g.set_axis_labels(\"\", \"Ventas\")    \n",
    "#g.tight_layout()"
   ]
  },
  {
   "cell_type": "markdown",
   "metadata": {},
   "source": [
    "----\n"
   ]
  },
  {
   "cell_type": "code",
   "execution_count": null,
   "metadata": {},
   "outputs": [],
   "source": [
    "ventas_cure_2"
   ]
  },
  {
   "cell_type": "markdown",
   "metadata": {},
   "source": [
    "### DF curación simple"
   ]
  },
  {
   "cell_type": "markdown",
   "metadata": {},
   "source": [
    "Agregar para tener una sola fila por ID*Subrubro"
   ]
  },
  {
   "cell_type": "code",
   "execution_count": null,
   "metadata": {},
   "outputs": [],
   "source": [
    "ventas_cure_por_id_subrubro = ventas_cure_2.groupby(['ID', 'Subrubro']).agg({'Ventas':'sum', \n",
    "                                                                                'Alicuota':'mean', \n",
    "                                                                                'Comision':'sum'}).reset_index()\n",
    "ventas_cure_por_id_subrubro"
   ]
  },
  {
   "cell_type": "code",
   "execution_count": null,
   "metadata": {},
   "outputs": [],
   "source": [
    "# variable que tiene cada id único con un valor de si es modelo o no\n",
    "# sirve para hacer joins depués de los groupbys\n",
    "id_modelo_referencia = ventas_cure_lean.groupby('ID')['Modelo'].mean().reset_index()\n",
    "id_modelo_referencia"
   ]
  },
  {
   "cell_type": "markdown",
   "metadata": {},
   "source": [
    "Este DF sería la versión más simple, sin aumentar columnas:"
   ]
  },
  {
   "cell_type": "code",
   "execution_count": null,
   "metadata": {},
   "outputs": [],
   "source": [
    "ventas_curado_simple = pd.merge(left=ventas_cure_por_id_subrubro, right=id_modelo_referencia, how='left', on='ID', left_index=False, right_index=False, sort=False, suffixes=('_x', '_y'), copy=None, indicator=False, validate=None)\n",
    "ventas_curado_simple"
   ]
  },
  {
   "cell_type": "markdown",
   "metadata": {},
   "source": [
    "### DF con más features\n",
    "** REVISAR **"
   ]
  },
  {
   "cell_type": "markdown",
   "metadata": {},
   "source": [
    "Agrupar por ID y Subrubro y luego Calcular la diferencia de Ventas con `.diff()` funciona\n",
    "PERO a veces se repite porque se hay Depósitos diferentes\n",
    "\n",
    "Pasos a seguir:\n",
    "- para cada groupby ID*Subrubro transformar en columnas las diffs, quizás manteniendo un \"first\" del cada groupby y dropeando después el resto"
   ]
  },
  {
   "cell_type": "code",
   "execution_count": null,
   "metadata": {},
   "outputs": [],
   "source": [
    "ventas_cure_por_id_subrubro_fecha = ventas_cure_2.groupby(['ID', 'Subrubro', 'Fecha']).agg({'Ventas':'sum', \n",
    "                                                                                    'Alicuota':'mean', \n",
    "                                                                                    'Comision':'sum'}).reset_index()\n",
    "ventas_cure_por_id_subrubro_fecha"
   ]
  },
  {
   "cell_type": "code",
   "execution_count": null,
   "metadata": {},
   "outputs": [],
   "source": [
    "ventas_cure_por_id_subrubro_fecha['diff_by_id_subrubro'] = ventas_cure_por_id_subrubro_fecha.groupby(['ID','Subrubro'])[\"Ventas\"].diff()\n",
    "ventas_cure_por_id_subrubro_fecha.head(20)"
   ]
  },
  {
   "cell_type": "markdown",
   "metadata": {},
   "source": [
    "Pendiente: Convertir cada"
   ]
  },
  {
   "cell_type": "markdown",
   "metadata": {},
   "source": [
    "-----\n",
    "A partir de acá es experimental...\n"
   ]
  },
  {
   "cell_type": "code",
   "execution_count": null,
   "metadata": {},
   "outputs": [],
   "source": [
    "def func_i1_o2(x):\n",
    "    return pd.Series((x+1, x+2))\n",
    "\n",
    "func_i1_o2(1)"
   ]
  },
  {
   "cell_type": "markdown",
   "metadata": {},
   "source": [
    "Agregamos los depósitos para cada ID  \n",
    "Decisiones tomadas que se pueden rever:\n",
    "- Ignoramos Omega, Trat_fisc"
   ]
  },
  {
   "cell_type": "code",
   "execution_count": null,
   "metadata": {},
   "outputs": [],
   "source": [
    "ventas_cure_lean.head()"
   ]
  },
  {
   "cell_type": "code",
   "execution_count": null,
   "metadata": {},
   "outputs": [],
   "source": [
    "ventas_cure_lean.groupby(['ID', 'Subrubro', 'Fecha', 'Alicuota', 'Comision'])[\"Ventas\"].sum()#.unstack().reset_index()"
   ]
  },
  {
   "cell_type": "code",
   "execution_count": null,
   "metadata": {},
   "outputs": [],
   "source": [
    "ventas_cure_lean.groupby('Subrubro')[\"Ventas\"].diff()"
   ]
  },
  {
   "cell_type": "code",
   "execution_count": null,
   "metadata": {},
   "outputs": [],
   "source": [
    "ventas_cure[\"Ventas\"].diff()"
   ]
  },
  {
   "cell_type": "code",
   "execution_count": null,
   "metadata": {},
   "outputs": [],
   "source": [
    "# calcular diferencias relativas\n",
    "\n",
    "ventas_sub11[\"Ventas\"].rolling(3).mean()"
   ]
  },
  {
   "cell_type": "markdown",
   "metadata": {},
   "source": [
    "Número de IDs con ventas 0 en todo el periodo"
   ]
  },
  {
   "cell_type": "code",
   "execution_count": null,
   "metadata": {},
   "outputs": [],
   "source": [
    "np.sum(ventas_cure_lean.groupby(['ID'])['Ventas'].sum() == 0)"
   ]
  },
  {
   "cell_type": "markdown",
   "metadata": {},
   "source": [
    "Número de IDs-y-Subrubro que tuvieron ventas 0 en el periodo"
   ]
  },
  {
   "cell_type": "code",
   "execution_count": null,
   "metadata": {},
   "outputs": [],
   "source": [
    "np.sum(ventas_cure_lean.groupby(['ID', 'Subrubro'])['Ventas'].sum() == 0)"
   ]
  },
  {
   "cell_type": "markdown",
   "metadata": {},
   "source": [
    "## Pato"
   ]
  },
  {
   "cell_type": "code",
   "execution_count": 1,
   "metadata": {},
   "outputs": [],
   "source": [
    "# Para que las funciones se actualicen si tener que refrescar el kernel\n",
    "%load_ext autoreload\n",
    "%autoreload 2\n",
    "\n",
    "import pandas as pd\n",
    "import json\n",
    "from os.path import exists\n",
    "import missingno as msno\n",
    "import matplotlib.pyplot as plt\n",
    "import numpy as np\n",
    "import seaborn as sns\n",
    "from statsmodels.graphics.tsaplots import plot_acf\n",
    "from scipy.stats import linregress as LR\n",
    "from scipy.stats import skew, kurtosis, skewtest, kurtosistest\n",
    "\n",
    "# Funciones propias\n",
    "from utils_limpieza import * \n",
    "    \n",
    "ventas_pato = pd.read_csv('../data/interim/tp2_ventas_sub11.csv')\n",
    "\n",
    "ventas_pato['Fecha'] = ventas_pato['Fecha'].astype('datetime64[ns]')"
   ]
  },
  {
   "cell_type": "code",
   "execution_count": 2,
   "metadata": {},
   "outputs": [
    {
     "data": {
      "text/html": [
       "<div>\n",
       "<style scoped>\n",
       "    .dataframe tbody tr th:only-of-type {\n",
       "        vertical-align: middle;\n",
       "    }\n",
       "\n",
       "    .dataframe tbody tr th {\n",
       "        vertical-align: top;\n",
       "    }\n",
       "\n",
       "    .dataframe thead th {\n",
       "        text-align: right;\n",
       "    }\n",
       "</style>\n",
       "<table border=\"1\" class=\"dataframe\">\n",
       "  <thead>\n",
       "    <tr style=\"text-align: right;\">\n",
       "      <th></th>\n",
       "      <th>ID</th>\n",
       "      <th>Omega</th>\n",
       "      <th>Subrubro</th>\n",
       "      <th>Trat_Fisc</th>\n",
       "      <th>Fecha</th>\n",
       "      <th>Deposito</th>\n",
       "      <th>Ventas</th>\n",
       "      <th>Alicuota</th>\n",
       "      <th>Comision</th>\n",
       "      <th>Modelo</th>\n",
       "    </tr>\n",
       "  </thead>\n",
       "  <tbody>\n",
       "    <tr>\n",
       "      <th>0</th>\n",
       "      <td>2133</td>\n",
       "      <td>1</td>\n",
       "      <td>Venta Agrop.</td>\n",
       "      <td>Norm</td>\n",
       "      <td>2019-01-01</td>\n",
       "      <td>7</td>\n",
       "      <td>-1.116697e+07</td>\n",
       "      <td>2.00</td>\n",
       "      <td>-2.233394e+05</td>\n",
       "      <td>0</td>\n",
       "    </tr>\n",
       "    <tr>\n",
       "      <th>1</th>\n",
       "      <td>1172</td>\n",
       "      <td>1</td>\n",
       "      <td>Venta Agrop.</td>\n",
       "      <td>NaN</td>\n",
       "      <td>2019-01-01</td>\n",
       "      <td>7</td>\n",
       "      <td>-5.494877e+06</td>\n",
       "      <td>2.40</td>\n",
       "      <td>-1.318771e+05</td>\n",
       "      <td>0</td>\n",
       "    </tr>\n",
       "    <tr>\n",
       "      <th>2</th>\n",
       "      <td>2589</td>\n",
       "      <td>1</td>\n",
       "      <td>Vehiculos</td>\n",
       "      <td>Norm</td>\n",
       "      <td>2019-01-01</td>\n",
       "      <td>47</td>\n",
       "      <td>-2.331939e+06</td>\n",
       "      <td>4.00</td>\n",
       "      <td>-9.327756e+04</td>\n",
       "      <td>0</td>\n",
       "    </tr>\n",
       "    <tr>\n",
       "      <th>3</th>\n",
       "      <td>1907</td>\n",
       "      <td>1</td>\n",
       "      <td>Venta Agrop.</td>\n",
       "      <td>Norm</td>\n",
       "      <td>2019-01-01</td>\n",
       "      <td>5</td>\n",
       "      <td>-1.131988e+06</td>\n",
       "      <td>2.00</td>\n",
       "      <td>-2.263974e+04</td>\n",
       "      <td>0</td>\n",
       "    </tr>\n",
       "    <tr>\n",
       "      <th>4</th>\n",
       "      <td>1478</td>\n",
       "      <td>1</td>\n",
       "      <td>Venta Agrop.</td>\n",
       "      <td>NaN</td>\n",
       "      <td>2019-01-01</td>\n",
       "      <td>7</td>\n",
       "      <td>-4.177637e+05</td>\n",
       "      <td>2.40</td>\n",
       "      <td>-1.002633e+04</td>\n",
       "      <td>0</td>\n",
       "    </tr>\n",
       "    <tr>\n",
       "      <th>...</th>\n",
       "      <td>...</td>\n",
       "      <td>...</td>\n",
       "      <td>...</td>\n",
       "      <td>...</td>\n",
       "      <td>...</td>\n",
       "      <td>...</td>\n",
       "      <td>...</td>\n",
       "      <td>...</td>\n",
       "      <td>...</td>\n",
       "      <td>...</td>\n",
       "    </tr>\n",
       "    <tr>\n",
       "      <th>370575</th>\n",
       "      <td>815</td>\n",
       "      <td>1</td>\n",
       "      <td>Supermercados</td>\n",
       "      <td>0</td>\n",
       "      <td>2022-06-01</td>\n",
       "      <td>8</td>\n",
       "      <td>1.567422e+09</td>\n",
       "      <td>0.05</td>\n",
       "      <td>7.837112e+07</td>\n",
       "      <td>0</td>\n",
       "    </tr>\n",
       "    <tr>\n",
       "      <th>370576</th>\n",
       "      <td>1098</td>\n",
       "      <td>1</td>\n",
       "      <td>Supermercados</td>\n",
       "      <td>Alic.Agrav</td>\n",
       "      <td>2022-06-01</td>\n",
       "      <td>130</td>\n",
       "      <td>1.732460e+09</td>\n",
       "      <td>5.00</td>\n",
       "      <td>8.662302e+07</td>\n",
       "      <td>0</td>\n",
       "    </tr>\n",
       "    <tr>\n",
       "      <th>370577</th>\n",
       "      <td>1091</td>\n",
       "      <td>1</td>\n",
       "      <td>Supermercados</td>\n",
       "      <td>Alic.Agrav</td>\n",
       "      <td>2022-06-01</td>\n",
       "      <td>130</td>\n",
       "      <td>2.240194e+09</td>\n",
       "      <td>5.00</td>\n",
       "      <td>1.120097e+08</td>\n",
       "      <td>0</td>\n",
       "    </tr>\n",
       "    <tr>\n",
       "      <th>370578</th>\n",
       "      <td>2862</td>\n",
       "      <td>1</td>\n",
       "      <td>Venta Agrop.</td>\n",
       "      <td>Alic.Agrav</td>\n",
       "      <td>2022-06-01</td>\n",
       "      <td>5</td>\n",
       "      <td>2.631098e+09</td>\n",
       "      <td>3.00</td>\n",
       "      <td>7.893293e+07</td>\n",
       "      <td>0</td>\n",
       "    </tr>\n",
       "    <tr>\n",
       "      <th>370579</th>\n",
       "      <td>2794</td>\n",
       "      <td>1</td>\n",
       "      <td>Vehiculos</td>\n",
       "      <td>Esp.1</td>\n",
       "      <td>2022-06-01</td>\n",
       "      <td>45</td>\n",
       "      <td>4.697258e+09</td>\n",
       "      <td>5.00</td>\n",
       "      <td>2.348629e+08</td>\n",
       "      <td>0</td>\n",
       "    </tr>\n",
       "  </tbody>\n",
       "</table>\n",
       "<p>370580 rows × 10 columns</p>\n",
       "</div>"
      ],
      "text/plain": [
       "          ID  Omega       Subrubro   Trat_Fisc      Fecha  Deposito  \\\n",
       "0       2133      1   Venta Agrop.        Norm 2019-01-01         7   \n",
       "1       1172      1   Venta Agrop.         NaN 2019-01-01         7   \n",
       "2       2589      1      Vehiculos        Norm 2019-01-01        47   \n",
       "3       1907      1   Venta Agrop.        Norm 2019-01-01         5   \n",
       "4       1478      1   Venta Agrop.         NaN 2019-01-01         7   \n",
       "...      ...    ...            ...         ...        ...       ...   \n",
       "370575   815      1  Supermercados           0 2022-06-01         8   \n",
       "370576  1098      1  Supermercados  Alic.Agrav 2022-06-01       130   \n",
       "370577  1091      1  Supermercados  Alic.Agrav 2022-06-01       130   \n",
       "370578  2862      1   Venta Agrop.  Alic.Agrav 2022-06-01         5   \n",
       "370579  2794      1      Vehiculos       Esp.1 2022-06-01        45   \n",
       "\n",
       "              Ventas  Alicuota      Comision  Modelo  \n",
       "0      -1.116697e+07      2.00 -2.233394e+05       0  \n",
       "1      -5.494877e+06      2.40 -1.318771e+05       0  \n",
       "2      -2.331939e+06      4.00 -9.327756e+04       0  \n",
       "3      -1.131988e+06      2.00 -2.263974e+04       0  \n",
       "4      -4.177637e+05      2.40 -1.002633e+04       0  \n",
       "...              ...       ...           ...     ...  \n",
       "370575  1.567422e+09      0.05  7.837112e+07       0  \n",
       "370576  1.732460e+09      5.00  8.662302e+07       0  \n",
       "370577  2.240194e+09      5.00  1.120097e+08       0  \n",
       "370578  2.631098e+09      3.00  7.893293e+07       0  \n",
       "370579  4.697258e+09      5.00  2.348629e+08       0  \n",
       "\n",
       "[370580 rows x 10 columns]"
      ]
     },
     "execution_count": 2,
     "metadata": {},
     "output_type": "execute_result"
    }
   ],
   "source": [
    "ventas_pato"
   ]
  },
  {
   "cell_type": "markdown",
   "metadata": {},
   "source": [
    "Con esto, me deshago de las observaciones repetidas por depósito o por tratamiento fiscal"
   ]
  },
  {
   "cell_type": "code",
   "execution_count": 3,
   "metadata": {},
   "outputs": [
    {
     "data": {
      "text/html": [
       "<div>\n",
       "<style scoped>\n",
       "    .dataframe tbody tr th:only-of-type {\n",
       "        vertical-align: middle;\n",
       "    }\n",
       "\n",
       "    .dataframe tbody tr th {\n",
       "        vertical-align: top;\n",
       "    }\n",
       "\n",
       "    .dataframe thead th {\n",
       "        text-align: right;\n",
       "    }\n",
       "</style>\n",
       "<table border=\"1\" class=\"dataframe\">\n",
       "  <thead>\n",
       "    <tr style=\"text-align: right;\">\n",
       "      <th></th>\n",
       "      <th>Subrubro</th>\n",
       "      <th>ID</th>\n",
       "      <th>Fecha</th>\n",
       "      <th>Ventas</th>\n",
       "      <th>Alicuota</th>\n",
       "      <th>Comision</th>\n",
       "      <th>Modelo</th>\n",
       "    </tr>\n",
       "  </thead>\n",
       "  <tbody>\n",
       "    <tr>\n",
       "      <th>0</th>\n",
       "      <td>Com. Varios</td>\n",
       "      <td>5</td>\n",
       "      <td>2020-04-01</td>\n",
       "      <td>482513.902789</td>\n",
       "      <td>0.055</td>\n",
       "      <td>26538.266955</td>\n",
       "      <td>0</td>\n",
       "    </tr>\n",
       "    <tr>\n",
       "      <th>1</th>\n",
       "      <td>Com. Varios</td>\n",
       "      <td>5</td>\n",
       "      <td>2020-06-01</td>\n",
       "      <td>0.000000</td>\n",
       "      <td>0.055</td>\n",
       "      <td>0.000000</td>\n",
       "      <td>0</td>\n",
       "    </tr>\n",
       "    <tr>\n",
       "      <th>2</th>\n",
       "      <td>Com. Varios</td>\n",
       "      <td>5</td>\n",
       "      <td>2020-07-01</td>\n",
       "      <td>203569.512873</td>\n",
       "      <td>0.055</td>\n",
       "      <td>11196.335289</td>\n",
       "      <td>0</td>\n",
       "    </tr>\n",
       "    <tr>\n",
       "      <th>3</th>\n",
       "      <td>Com. Varios</td>\n",
       "      <td>5</td>\n",
       "      <td>2020-08-01</td>\n",
       "      <td>699932.970302</td>\n",
       "      <td>0.055</td>\n",
       "      <td>38496.303956</td>\n",
       "      <td>0</td>\n",
       "    </tr>\n",
       "    <tr>\n",
       "      <th>4</th>\n",
       "      <td>Com. Varios</td>\n",
       "      <td>5</td>\n",
       "      <td>2020-09-01</td>\n",
       "      <td>367710.933143</td>\n",
       "      <td>0.055</td>\n",
       "      <td>20224.112762</td>\n",
       "      <td>0</td>\n",
       "    </tr>\n",
       "    <tr>\n",
       "      <th>...</th>\n",
       "      <td>...</td>\n",
       "      <td>...</td>\n",
       "      <td>...</td>\n",
       "      <td>...</td>\n",
       "      <td>...</td>\n",
       "      <td>...</td>\n",
       "      <td>...</td>\n",
       "    </tr>\n",
       "    <tr>\n",
       "      <th>220242</th>\n",
       "      <td>Venta Agrop.</td>\n",
       "      <td>3123</td>\n",
       "      <td>2022-06-01</td>\n",
       "      <td>0.000000</td>\n",
       "      <td>2.500</td>\n",
       "      <td>0.000000</td>\n",
       "      <td>0</td>\n",
       "    </tr>\n",
       "    <tr>\n",
       "      <th>220243</th>\n",
       "      <td>Venta Agrop.</td>\n",
       "      <td>3138</td>\n",
       "      <td>2022-03-01</td>\n",
       "      <td>0.000000</td>\n",
       "      <td>2.500</td>\n",
       "      <td>0.000000</td>\n",
       "      <td>0</td>\n",
       "    </tr>\n",
       "    <tr>\n",
       "      <th>220244</th>\n",
       "      <td>Venta Agrop.</td>\n",
       "      <td>3138</td>\n",
       "      <td>2022-04-01</td>\n",
       "      <td>0.000000</td>\n",
       "      <td>2.500</td>\n",
       "      <td>0.000000</td>\n",
       "      <td>0</td>\n",
       "    </tr>\n",
       "    <tr>\n",
       "      <th>220245</th>\n",
       "      <td>Venta Agrop.</td>\n",
       "      <td>3138</td>\n",
       "      <td>2022-05-01</td>\n",
       "      <td>0.000000</td>\n",
       "      <td>2.500</td>\n",
       "      <td>0.000000</td>\n",
       "      <td>0</td>\n",
       "    </tr>\n",
       "    <tr>\n",
       "      <th>220246</th>\n",
       "      <td>Venta Agrop.</td>\n",
       "      <td>3138</td>\n",
       "      <td>2022-06-01</td>\n",
       "      <td>0.000000</td>\n",
       "      <td>2.500</td>\n",
       "      <td>0.000000</td>\n",
       "      <td>0</td>\n",
       "    </tr>\n",
       "  </tbody>\n",
       "</table>\n",
       "<p>220247 rows × 7 columns</p>\n",
       "</div>"
      ],
      "text/plain": [
       "            Subrubro    ID      Fecha         Ventas  Alicuota      Comision  \\\n",
       "0        Com. Varios     5 2020-04-01  482513.902789     0.055  26538.266955   \n",
       "1        Com. Varios     5 2020-06-01       0.000000     0.055      0.000000   \n",
       "2        Com. Varios     5 2020-07-01  203569.512873     0.055  11196.335289   \n",
       "3        Com. Varios     5 2020-08-01  699932.970302     0.055  38496.303956   \n",
       "4        Com. Varios     5 2020-09-01  367710.933143     0.055  20224.112762   \n",
       "...              ...   ...        ...            ...       ...           ...   \n",
       "220242  Venta Agrop.  3123 2022-06-01       0.000000     2.500      0.000000   \n",
       "220243  Venta Agrop.  3138 2022-03-01       0.000000     2.500      0.000000   \n",
       "220244  Venta Agrop.  3138 2022-04-01       0.000000     2.500      0.000000   \n",
       "220245  Venta Agrop.  3138 2022-05-01       0.000000     2.500      0.000000   \n",
       "220246  Venta Agrop.  3138 2022-06-01       0.000000     2.500      0.000000   \n",
       "\n",
       "        Modelo  \n",
       "0            0  \n",
       "1            0  \n",
       "2            0  \n",
       "3            0  \n",
       "4            0  \n",
       "...        ...  \n",
       "220242       0  \n",
       "220243       0  \n",
       "220244       0  \n",
       "220245       0  \n",
       "220246       0  \n",
       "\n",
       "[220247 rows x 7 columns]"
      ]
     },
     "execution_count": 3,
     "metadata": {},
     "output_type": "execute_result"
    }
   ],
   "source": [
    "# agregado = ventas_pato.groupby(['ID', 'Subrubro', 'Fecha']).agg({\n",
    "agregado = ventas_pato.groupby(['Subrubro', 'ID', 'Fecha']).agg({\n",
    "    'Ventas': 'sum',\n",
    "    'Alicuota': 'mean',\n",
    "    'Comision': 'sum',\n",
    "    'Modelo': 'max'\n",
    "}).reset_index()\n",
    "agregado"
   ]
  },
  {
   "cell_type": "markdown",
   "metadata": {},
   "source": [
    "Con esto me deshice de los ID que para un mismo rubro tienen ventas nulas siempre."
   ]
  },
  {
   "cell_type": "code",
   "execution_count": 4,
   "metadata": {},
   "outputs": [
    {
     "data": {
      "text/html": [
       "<div>\n",
       "<style scoped>\n",
       "    .dataframe tbody tr th:only-of-type {\n",
       "        vertical-align: middle;\n",
       "    }\n",
       "\n",
       "    .dataframe tbody tr th {\n",
       "        vertical-align: top;\n",
       "    }\n",
       "\n",
       "    .dataframe thead th {\n",
       "        text-align: right;\n",
       "    }\n",
       "</style>\n",
       "<table border=\"1\" class=\"dataframe\">\n",
       "  <thead>\n",
       "    <tr style=\"text-align: right;\">\n",
       "      <th></th>\n",
       "      <th>Subrubro</th>\n",
       "      <th>ID</th>\n",
       "      <th>Fecha</th>\n",
       "      <th>Ventas</th>\n",
       "      <th>Alicuota</th>\n",
       "      <th>Comision</th>\n",
       "      <th>Modelo</th>\n",
       "    </tr>\n",
       "  </thead>\n",
       "  <tbody>\n",
       "    <tr>\n",
       "      <th>0</th>\n",
       "      <td>Com. Varios</td>\n",
       "      <td>5</td>\n",
       "      <td>2020-04-01</td>\n",
       "      <td>482513.902789</td>\n",
       "      <td>0.055</td>\n",
       "      <td>26538.266955</td>\n",
       "      <td>0</td>\n",
       "    </tr>\n",
       "    <tr>\n",
       "      <th>1</th>\n",
       "      <td>Com. Varios</td>\n",
       "      <td>5</td>\n",
       "      <td>2020-06-01</td>\n",
       "      <td>0.000000</td>\n",
       "      <td>0.055</td>\n",
       "      <td>0.000000</td>\n",
       "      <td>0</td>\n",
       "    </tr>\n",
       "    <tr>\n",
       "      <th>2</th>\n",
       "      <td>Com. Varios</td>\n",
       "      <td>5</td>\n",
       "      <td>2020-07-01</td>\n",
       "      <td>203569.512873</td>\n",
       "      <td>0.055</td>\n",
       "      <td>11196.335289</td>\n",
       "      <td>0</td>\n",
       "    </tr>\n",
       "    <tr>\n",
       "      <th>3</th>\n",
       "      <td>Com. Varios</td>\n",
       "      <td>5</td>\n",
       "      <td>2020-08-01</td>\n",
       "      <td>699932.970302</td>\n",
       "      <td>0.055</td>\n",
       "      <td>38496.303956</td>\n",
       "      <td>0</td>\n",
       "    </tr>\n",
       "    <tr>\n",
       "      <th>4</th>\n",
       "      <td>Com. Varios</td>\n",
       "      <td>5</td>\n",
       "      <td>2020-09-01</td>\n",
       "      <td>367710.933143</td>\n",
       "      <td>0.055</td>\n",
       "      <td>20224.112762</td>\n",
       "      <td>0</td>\n",
       "    </tr>\n",
       "    <tr>\n",
       "      <th>...</th>\n",
       "      <td>...</td>\n",
       "      <td>...</td>\n",
       "      <td>...</td>\n",
       "      <td>...</td>\n",
       "      <td>...</td>\n",
       "      <td>...</td>\n",
       "      <td>...</td>\n",
       "    </tr>\n",
       "    <tr>\n",
       "      <th>220238</th>\n",
       "      <td>Venta Agrop.</td>\n",
       "      <td>3123</td>\n",
       "      <td>2022-02-01</td>\n",
       "      <td>0.000000</td>\n",
       "      <td>2.500</td>\n",
       "      <td>0.000000</td>\n",
       "      <td>0</td>\n",
       "    </tr>\n",
       "    <tr>\n",
       "      <th>220239</th>\n",
       "      <td>Venta Agrop.</td>\n",
       "      <td>3123</td>\n",
       "      <td>2022-03-01</td>\n",
       "      <td>0.000000</td>\n",
       "      <td>2.500</td>\n",
       "      <td>0.000000</td>\n",
       "      <td>0</td>\n",
       "    </tr>\n",
       "    <tr>\n",
       "      <th>220240</th>\n",
       "      <td>Venta Agrop.</td>\n",
       "      <td>3123</td>\n",
       "      <td>2022-04-01</td>\n",
       "      <td>0.000000</td>\n",
       "      <td>2.500</td>\n",
       "      <td>0.000000</td>\n",
       "      <td>0</td>\n",
       "    </tr>\n",
       "    <tr>\n",
       "      <th>220241</th>\n",
       "      <td>Venta Agrop.</td>\n",
       "      <td>3123</td>\n",
       "      <td>2022-05-01</td>\n",
       "      <td>0.000000</td>\n",
       "      <td>2.500</td>\n",
       "      <td>0.000000</td>\n",
       "      <td>0</td>\n",
       "    </tr>\n",
       "    <tr>\n",
       "      <th>220242</th>\n",
       "      <td>Venta Agrop.</td>\n",
       "      <td>3123</td>\n",
       "      <td>2022-06-01</td>\n",
       "      <td>0.000000</td>\n",
       "      <td>2.500</td>\n",
       "      <td>0.000000</td>\n",
       "      <td>0</td>\n",
       "    </tr>\n",
       "  </tbody>\n",
       "</table>\n",
       "<p>185597 rows × 7 columns</p>\n",
       "</div>"
      ],
      "text/plain": [
       "            Subrubro    ID      Fecha         Ventas  Alicuota      Comision  \\\n",
       "0        Com. Varios     5 2020-04-01  482513.902789     0.055  26538.266955   \n",
       "1        Com. Varios     5 2020-06-01       0.000000     0.055      0.000000   \n",
       "2        Com. Varios     5 2020-07-01  203569.512873     0.055  11196.335289   \n",
       "3        Com. Varios     5 2020-08-01  699932.970302     0.055  38496.303956   \n",
       "4        Com. Varios     5 2020-09-01  367710.933143     0.055  20224.112762   \n",
       "...              ...   ...        ...            ...       ...           ...   \n",
       "220238  Venta Agrop.  3123 2022-02-01       0.000000     2.500      0.000000   \n",
       "220239  Venta Agrop.  3123 2022-03-01       0.000000     2.500      0.000000   \n",
       "220240  Venta Agrop.  3123 2022-04-01       0.000000     2.500      0.000000   \n",
       "220241  Venta Agrop.  3123 2022-05-01       0.000000     2.500      0.000000   \n",
       "220242  Venta Agrop.  3123 2022-06-01       0.000000     2.500      0.000000   \n",
       "\n",
       "        Modelo  \n",
       "0            0  \n",
       "1            0  \n",
       "2            0  \n",
       "3            0  \n",
       "4            0  \n",
       "...        ...  \n",
       "220238       0  \n",
       "220239       0  \n",
       "220240       0  \n",
       "220241       0  \n",
       "220242       0  \n",
       "\n",
       "[185597 rows x 7 columns]"
      ]
     },
     "execution_count": 4,
     "metadata": {},
     "output_type": "execute_result"
    }
   ],
   "source": [
    "agregado_no_nulo = agregado.groupby(['ID', 'Subrubro']).filter(lambda x: (x['Ventas'] != 0).any()).copy()\n",
    "agregado_no_nulo"
   ]
  },
  {
   "cell_type": "markdown",
   "metadata": {},
   "source": [
    "Ahora, debería tener 42 observaciones por ID/Subrubro, pero se ve al comienzo que falta, por ejemplo el 5 del 2020 al vendedor 5 en \"Com Varios\". Esto pasa en varios casos: a veces hay meses faltantes. Debo imputar esos meses con valor 0 en ventas (esto es particularmente importante si luego vamos a hacer diferencias, por ej. para que no se encuentre con un vacío o que me opere contra un mes que en realidad no es el anterior)"
   ]
  },
  {
   "cell_type": "code",
   "execution_count": 5,
   "metadata": {},
   "outputs": [
    {
     "name": "stdout",
     "output_type": "stream",
     "text": [
      "39.68291639940133\n"
     ]
    }
   ],
   "source": [
    "promedio_observaciones = agregado_no_nulo.groupby(['ID', 'Subrubro']).size().mean()\n",
    "\n",
    "# Mostrar el promedio de observaciones por combinación de ID y Subrubro\n",
    "print(promedio_observaciones)"
   ]
  },
  {
   "cell_type": "code",
   "execution_count": 6,
   "metadata": {},
   "outputs": [
    {
     "data": {
      "text/html": [
       "<div>\n",
       "<style scoped>\n",
       "    .dataframe tbody tr th:only-of-type {\n",
       "        vertical-align: middle;\n",
       "    }\n",
       "\n",
       "    .dataframe tbody tr th {\n",
       "        vertical-align: top;\n",
       "    }\n",
       "\n",
       "    .dataframe thead th {\n",
       "        text-align: right;\n",
       "    }\n",
       "</style>\n",
       "<table border=\"1\" class=\"dataframe\">\n",
       "  <thead>\n",
       "    <tr style=\"text-align: right;\">\n",
       "      <th></th>\n",
       "      <th>Subrubro</th>\n",
       "      <th>ID</th>\n",
       "      <th>Fecha</th>\n",
       "      <th>Ventas</th>\n",
       "      <th>Alicuota</th>\n",
       "      <th>Comision</th>\n",
       "      <th>Modelo</th>\n",
       "    </tr>\n",
       "  </thead>\n",
       "  <tbody>\n",
       "    <tr>\n",
       "      <th>0</th>\n",
       "      <td>Com. Varios</td>\n",
       "      <td>5</td>\n",
       "      <td>2020-04-01</td>\n",
       "      <td>482513.902789</td>\n",
       "      <td>0.055</td>\n",
       "      <td>26538.266955</td>\n",
       "      <td>0.0</td>\n",
       "    </tr>\n",
       "    <tr>\n",
       "      <th>1</th>\n",
       "      <td>Com. Varios</td>\n",
       "      <td>5</td>\n",
       "      <td>2020-06-01</td>\n",
       "      <td>0.000000</td>\n",
       "      <td>0.055</td>\n",
       "      <td>0.000000</td>\n",
       "      <td>0.0</td>\n",
       "    </tr>\n",
       "    <tr>\n",
       "      <th>2</th>\n",
       "      <td>Com. Varios</td>\n",
       "      <td>5</td>\n",
       "      <td>2020-07-01</td>\n",
       "      <td>203569.512873</td>\n",
       "      <td>0.055</td>\n",
       "      <td>11196.335289</td>\n",
       "      <td>0.0</td>\n",
       "    </tr>\n",
       "    <tr>\n",
       "      <th>3</th>\n",
       "      <td>Com. Varios</td>\n",
       "      <td>5</td>\n",
       "      <td>2020-08-01</td>\n",
       "      <td>699932.970302</td>\n",
       "      <td>0.055</td>\n",
       "      <td>38496.303956</td>\n",
       "      <td>0.0</td>\n",
       "    </tr>\n",
       "    <tr>\n",
       "      <th>4</th>\n",
       "      <td>Com. Varios</td>\n",
       "      <td>5</td>\n",
       "      <td>2020-09-01</td>\n",
       "      <td>367710.933143</td>\n",
       "      <td>0.055</td>\n",
       "      <td>20224.112762</td>\n",
       "      <td>0.0</td>\n",
       "    </tr>\n",
       "    <tr>\n",
       "      <th>...</th>\n",
       "      <td>...</td>\n",
       "      <td>...</td>\n",
       "      <td>...</td>\n",
       "      <td>...</td>\n",
       "      <td>...</td>\n",
       "      <td>...</td>\n",
       "      <td>...</td>\n",
       "    </tr>\n",
       "    <tr>\n",
       "      <th>196429</th>\n",
       "      <td>Miscelaneo</td>\n",
       "      <td>3139</td>\n",
       "      <td>2020-01-01</td>\n",
       "      <td>0.000000</td>\n",
       "      <td></td>\n",
       "      <td>0.000000</td>\n",
       "      <td>0.0</td>\n",
       "    </tr>\n",
       "    <tr>\n",
       "      <th>196430</th>\n",
       "      <td>Miscelaneo</td>\n",
       "      <td>3139</td>\n",
       "      <td>2020-11-01</td>\n",
       "      <td>0.000000</td>\n",
       "      <td></td>\n",
       "      <td>0.000000</td>\n",
       "      <td>0.0</td>\n",
       "    </tr>\n",
       "    <tr>\n",
       "      <th>196431</th>\n",
       "      <td>Miscelaneo</td>\n",
       "      <td>3139</td>\n",
       "      <td>2019-02-01</td>\n",
       "      <td>0.000000</td>\n",
       "      <td></td>\n",
       "      <td>0.000000</td>\n",
       "      <td>0.0</td>\n",
       "    </tr>\n",
       "    <tr>\n",
       "      <th>196432</th>\n",
       "      <td>Miscelaneo</td>\n",
       "      <td>3139</td>\n",
       "      <td>2019-08-01</td>\n",
       "      <td>0.000000</td>\n",
       "      <td></td>\n",
       "      <td>0.000000</td>\n",
       "      <td>0.0</td>\n",
       "    </tr>\n",
       "    <tr>\n",
       "      <th>196433</th>\n",
       "      <td>Miscelaneo</td>\n",
       "      <td>3139</td>\n",
       "      <td>2021-07-01</td>\n",
       "      <td>0.000000</td>\n",
       "      <td></td>\n",
       "      <td>0.000000</td>\n",
       "      <td>0.0</td>\n",
       "    </tr>\n",
       "  </tbody>\n",
       "</table>\n",
       "<p>196434 rows × 7 columns</p>\n",
       "</div>"
      ],
      "text/plain": [
       "           Subrubro    ID      Fecha         Ventas Alicuota      Comision  \\\n",
       "0       Com. Varios     5 2020-04-01  482513.902789    0.055  26538.266955   \n",
       "1       Com. Varios     5 2020-06-01       0.000000    0.055      0.000000   \n",
       "2       Com. Varios     5 2020-07-01  203569.512873    0.055  11196.335289   \n",
       "3       Com. Varios     5 2020-08-01  699932.970302    0.055  38496.303956   \n",
       "4       Com. Varios     5 2020-09-01  367710.933143    0.055  20224.112762   \n",
       "...             ...   ...        ...            ...      ...           ...   \n",
       "196429   Miscelaneo  3139 2020-01-01       0.000000               0.000000   \n",
       "196430   Miscelaneo  3139 2020-11-01       0.000000               0.000000   \n",
       "196431   Miscelaneo  3139 2019-02-01       0.000000               0.000000   \n",
       "196432   Miscelaneo  3139 2019-08-01       0.000000               0.000000   \n",
       "196433   Miscelaneo  3139 2021-07-01       0.000000               0.000000   \n",
       "\n",
       "        Modelo  \n",
       "0          0.0  \n",
       "1          0.0  \n",
       "2          0.0  \n",
       "3          0.0  \n",
       "4          0.0  \n",
       "...        ...  \n",
       "196429     0.0  \n",
       "196430     0.0  \n",
       "196431     0.0  \n",
       "196432     0.0  \n",
       "196433     0.0  \n",
       "\n",
       "[196434 rows x 7 columns]"
      ]
     },
     "execution_count": 6,
     "metadata": {},
     "output_type": "execute_result"
    }
   ],
   "source": [
    "# Contar las observaciones por combinación de ID y Subrubro\n",
    "conteo_combinaciones = agregado_no_nulo.groupby(['ID', 'Subrubro']).size().reset_index(name='Conteo')\n",
    "\n",
    "# Filtrar las combinaciones con menos de 42 observaciones\n",
    "combinaciones_faltantes = conteo_combinaciones[conteo_combinaciones['Conteo'] < 42]\n",
    "\n",
    "# Lista para almacenar las observaciones faltantes\n",
    "observaciones_faltantes = []\n",
    "\n",
    "# Iterar sobre las combinaciones faltantes\n",
    "for _, combinacion in combinaciones_faltantes.iterrows():\n",
    "    id_val = combinacion['ID']\n",
    "    subrubro_val = combinacion['Subrubro']\n",
    "    \n",
    "    # Obtener fechas existentes y fechas faltantes\n",
    "    fechas_existentes = agregado_no_nulo[(agregado_no_nulo['ID'] == id_val) & (agregado_no_nulo['Subrubro'] == subrubro_val)]['Fecha']\n",
    "    fechas_faltantes = set(agregado_no_nulo['Fecha'].unique()) - set(fechas_existentes)\n",
    "    \n",
    "    # Agregar observaciones faltantes al DataFrame\n",
    "    for fecha_faltante in fechas_faltantes:\n",
    "        observacion = {\n",
    "            'ID': id_val,\n",
    "            'Subrubro': subrubro_val,\n",
    "            'Fecha': fecha_faltante,\n",
    "            'Ventas': 0,\n",
    "            'Alicuota': '',\n",
    "            'Comision': 0,\n",
    "            'Modelo': agregado_no_nulo[(agregado_no_nulo['ID'] == id_val) & (agregado_no_nulo['Subrubro'] == subrubro_val)]['Modelo'].mean()\n",
    "        }\n",
    "        observaciones_faltantes.append(observacion)\n",
    "\n",
    "# Crear DataFrame con las observaciones faltantes\n",
    "df_observaciones_faltantes = pd.DataFrame(observaciones_faltantes)\n",
    "\n",
    "# Agregar observaciones faltantes al DataFrame agregado_no_nulo\n",
    "agregado_limpio = pd.concat([agregado_no_nulo, df_observaciones_faltantes], ignore_index=True)\n",
    "\n",
    "# Mostrar el nuevo DataFrame con las observaciones faltantes agregadas\n",
    "agregado_limpio"
   ]
  },
  {
   "cell_type": "code",
   "execution_count": 7,
   "metadata": {},
   "outputs": [
    {
     "name": "stdout",
     "output_type": "stream",
     "text": [
      "42.0\n"
     ]
    }
   ],
   "source": [
    "promedio_observaciones = agregado_limpio.groupby(['ID', 'Subrubro']).size().mean()\n",
    "\n",
    "# Mostrar el promedio de observaciones por combinación de ID y Subrubro\n",
    "print(promedio_observaciones)"
   ]
  },
  {
   "cell_type": "code",
   "execution_count": 8,
   "metadata": {},
   "outputs": [],
   "source": [
    "agregado_limpio = agregado_limpio.sort_values(['Subrubro', 'ID', 'Fecha'])\n",
    "agregado_limpio.to_csv('../data/interim/tp2_agregado_limpio.csv', index=False)"
   ]
  },
  {
   "cell_type": "code",
   "execution_count": 9,
   "metadata": {},
   "outputs": [
    {
     "data": {
      "text/html": [
       "<div>\n",
       "<style scoped>\n",
       "    .dataframe tbody tr th:only-of-type {\n",
       "        vertical-align: middle;\n",
       "    }\n",
       "\n",
       "    .dataframe tbody tr th {\n",
       "        vertical-align: top;\n",
       "    }\n",
       "\n",
       "    .dataframe thead th {\n",
       "        text-align: right;\n",
       "    }\n",
       "</style>\n",
       "<table border=\"1\" class=\"dataframe\">\n",
       "  <thead>\n",
       "    <tr style=\"text-align: right;\">\n",
       "      <th></th>\n",
       "      <th>Subrubro</th>\n",
       "      <th>ID</th>\n",
       "      <th>Fecha</th>\n",
       "      <th>Ventas</th>\n",
       "      <th>Alicuota</th>\n",
       "      <th>Comision</th>\n",
       "      <th>Modelo</th>\n",
       "    </tr>\n",
       "  </thead>\n",
       "  <tbody>\n",
       "    <tr>\n",
       "      <th>0</th>\n",
       "      <td>Com. Varios</td>\n",
       "      <td>5</td>\n",
       "      <td>2019-01-01</td>\n",
       "      <td>0.000000e+00</td>\n",
       "      <td>NaN</td>\n",
       "      <td>0.000000</td>\n",
       "      <td>0.0</td>\n",
       "    </tr>\n",
       "    <tr>\n",
       "      <th>1</th>\n",
       "      <td>Com. Varios</td>\n",
       "      <td>5</td>\n",
       "      <td>2019-02-01</td>\n",
       "      <td>0.000000e+00</td>\n",
       "      <td>NaN</td>\n",
       "      <td>0.000000</td>\n",
       "      <td>0.0</td>\n",
       "    </tr>\n",
       "    <tr>\n",
       "      <th>2</th>\n",
       "      <td>Com. Varios</td>\n",
       "      <td>5</td>\n",
       "      <td>2019-03-01</td>\n",
       "      <td>0.000000e+00</td>\n",
       "      <td>NaN</td>\n",
       "      <td>0.000000</td>\n",
       "      <td>0.0</td>\n",
       "    </tr>\n",
       "    <tr>\n",
       "      <th>3</th>\n",
       "      <td>Com. Varios</td>\n",
       "      <td>5</td>\n",
       "      <td>2019-04-01</td>\n",
       "      <td>0.000000e+00</td>\n",
       "      <td>NaN</td>\n",
       "      <td>0.000000</td>\n",
       "      <td>0.0</td>\n",
       "    </tr>\n",
       "    <tr>\n",
       "      <th>4</th>\n",
       "      <td>Com. Varios</td>\n",
       "      <td>5</td>\n",
       "      <td>2019-05-01</td>\n",
       "      <td>0.000000e+00</td>\n",
       "      <td>NaN</td>\n",
       "      <td>0.000000</td>\n",
       "      <td>0.0</td>\n",
       "    </tr>\n",
       "    <tr>\n",
       "      <th>5</th>\n",
       "      <td>Com. Varios</td>\n",
       "      <td>5</td>\n",
       "      <td>2019-06-01</td>\n",
       "      <td>0.000000e+00</td>\n",
       "      <td>NaN</td>\n",
       "      <td>0.000000</td>\n",
       "      <td>0.0</td>\n",
       "    </tr>\n",
       "    <tr>\n",
       "      <th>6</th>\n",
       "      <td>Com. Varios</td>\n",
       "      <td>5</td>\n",
       "      <td>2019-07-01</td>\n",
       "      <td>0.000000e+00</td>\n",
       "      <td>NaN</td>\n",
       "      <td>0.000000</td>\n",
       "      <td>0.0</td>\n",
       "    </tr>\n",
       "    <tr>\n",
       "      <th>7</th>\n",
       "      <td>Com. Varios</td>\n",
       "      <td>5</td>\n",
       "      <td>2019-08-01</td>\n",
       "      <td>0.000000e+00</td>\n",
       "      <td>NaN</td>\n",
       "      <td>0.000000</td>\n",
       "      <td>0.0</td>\n",
       "    </tr>\n",
       "    <tr>\n",
       "      <th>8</th>\n",
       "      <td>Com. Varios</td>\n",
       "      <td>5</td>\n",
       "      <td>2019-09-01</td>\n",
       "      <td>0.000000e+00</td>\n",
       "      <td>NaN</td>\n",
       "      <td>0.000000</td>\n",
       "      <td>0.0</td>\n",
       "    </tr>\n",
       "    <tr>\n",
       "      <th>9</th>\n",
       "      <td>Com. Varios</td>\n",
       "      <td>5</td>\n",
       "      <td>2019-10-01</td>\n",
       "      <td>0.000000e+00</td>\n",
       "      <td>NaN</td>\n",
       "      <td>0.000000</td>\n",
       "      <td>0.0</td>\n",
       "    </tr>\n",
       "    <tr>\n",
       "      <th>10</th>\n",
       "      <td>Com. Varios</td>\n",
       "      <td>5</td>\n",
       "      <td>2019-11-01</td>\n",
       "      <td>0.000000e+00</td>\n",
       "      <td>NaN</td>\n",
       "      <td>0.000000</td>\n",
       "      <td>0.0</td>\n",
       "    </tr>\n",
       "    <tr>\n",
       "      <th>11</th>\n",
       "      <td>Com. Varios</td>\n",
       "      <td>5</td>\n",
       "      <td>2019-12-01</td>\n",
       "      <td>0.000000e+00</td>\n",
       "      <td>NaN</td>\n",
       "      <td>0.000000</td>\n",
       "      <td>0.0</td>\n",
       "    </tr>\n",
       "    <tr>\n",
       "      <th>12</th>\n",
       "      <td>Com. Varios</td>\n",
       "      <td>5</td>\n",
       "      <td>2020-01-01</td>\n",
       "      <td>0.000000e+00</td>\n",
       "      <td>NaN</td>\n",
       "      <td>0.000000</td>\n",
       "      <td>0.0</td>\n",
       "    </tr>\n",
       "    <tr>\n",
       "      <th>13</th>\n",
       "      <td>Com. Varios</td>\n",
       "      <td>5</td>\n",
       "      <td>2020-02-01</td>\n",
       "      <td>0.000000e+00</td>\n",
       "      <td>NaN</td>\n",
       "      <td>0.000000</td>\n",
       "      <td>0.0</td>\n",
       "    </tr>\n",
       "    <tr>\n",
       "      <th>14</th>\n",
       "      <td>Com. Varios</td>\n",
       "      <td>5</td>\n",
       "      <td>2020-03-01</td>\n",
       "      <td>0.000000e+00</td>\n",
       "      <td>NaN</td>\n",
       "      <td>0.000000</td>\n",
       "      <td>0.0</td>\n",
       "    </tr>\n",
       "    <tr>\n",
       "      <th>15</th>\n",
       "      <td>Com. Varios</td>\n",
       "      <td>5</td>\n",
       "      <td>2020-04-01</td>\n",
       "      <td>4.825139e+05</td>\n",
       "      <td>0.055</td>\n",
       "      <td>26538.266955</td>\n",
       "      <td>0.0</td>\n",
       "    </tr>\n",
       "    <tr>\n",
       "      <th>16</th>\n",
       "      <td>Com. Varios</td>\n",
       "      <td>5</td>\n",
       "      <td>2020-05-01</td>\n",
       "      <td>0.000000e+00</td>\n",
       "      <td>NaN</td>\n",
       "      <td>0.000000</td>\n",
       "      <td>0.0</td>\n",
       "    </tr>\n",
       "    <tr>\n",
       "      <th>17</th>\n",
       "      <td>Com. Varios</td>\n",
       "      <td>5</td>\n",
       "      <td>2020-06-01</td>\n",
       "      <td>0.000000e+00</td>\n",
       "      <td>0.055</td>\n",
       "      <td>0.000000</td>\n",
       "      <td>0.0</td>\n",
       "    </tr>\n",
       "    <tr>\n",
       "      <th>18</th>\n",
       "      <td>Com. Varios</td>\n",
       "      <td>5</td>\n",
       "      <td>2020-07-01</td>\n",
       "      <td>2.035695e+05</td>\n",
       "      <td>0.055</td>\n",
       "      <td>11196.335289</td>\n",
       "      <td>0.0</td>\n",
       "    </tr>\n",
       "    <tr>\n",
       "      <th>19</th>\n",
       "      <td>Com. Varios</td>\n",
       "      <td>5</td>\n",
       "      <td>2020-08-01</td>\n",
       "      <td>6.999330e+05</td>\n",
       "      <td>0.055</td>\n",
       "      <td>38496.303956</td>\n",
       "      <td>0.0</td>\n",
       "    </tr>\n",
       "    <tr>\n",
       "      <th>20</th>\n",
       "      <td>Com. Varios</td>\n",
       "      <td>5</td>\n",
       "      <td>2020-09-01</td>\n",
       "      <td>3.677109e+05</td>\n",
       "      <td>0.055</td>\n",
       "      <td>20224.112762</td>\n",
       "      <td>0.0</td>\n",
       "    </tr>\n",
       "    <tr>\n",
       "      <th>21</th>\n",
       "      <td>Com. Varios</td>\n",
       "      <td>5</td>\n",
       "      <td>2020-10-01</td>\n",
       "      <td>0.000000e+00</td>\n",
       "      <td>0.055</td>\n",
       "      <td>0.000000</td>\n",
       "      <td>0.0</td>\n",
       "    </tr>\n",
       "    <tr>\n",
       "      <th>22</th>\n",
       "      <td>Com. Varios</td>\n",
       "      <td>5</td>\n",
       "      <td>2020-11-01</td>\n",
       "      <td>0.000000e+00</td>\n",
       "      <td>0.055</td>\n",
       "      <td>0.000000</td>\n",
       "      <td>0.0</td>\n",
       "    </tr>\n",
       "    <tr>\n",
       "      <th>23</th>\n",
       "      <td>Com. Varios</td>\n",
       "      <td>5</td>\n",
       "      <td>2020-12-01</td>\n",
       "      <td>0.000000e+00</td>\n",
       "      <td>0.055</td>\n",
       "      <td>0.000000</td>\n",
       "      <td>0.0</td>\n",
       "    </tr>\n",
       "    <tr>\n",
       "      <th>24</th>\n",
       "      <td>Com. Varios</td>\n",
       "      <td>5</td>\n",
       "      <td>2021-01-01</td>\n",
       "      <td>1.246397e+05</td>\n",
       "      <td>0.065</td>\n",
       "      <td>8101.578851</td>\n",
       "      <td>0.0</td>\n",
       "    </tr>\n",
       "    <tr>\n",
       "      <th>25</th>\n",
       "      <td>Com. Varios</td>\n",
       "      <td>5</td>\n",
       "      <td>2021-02-01</td>\n",
       "      <td>0.000000e+00</td>\n",
       "      <td>0.065</td>\n",
       "      <td>0.000000</td>\n",
       "      <td>0.0</td>\n",
       "    </tr>\n",
       "    <tr>\n",
       "      <th>26</th>\n",
       "      <td>Com. Varios</td>\n",
       "      <td>5</td>\n",
       "      <td>2021-03-01</td>\n",
       "      <td>1.028829e+06</td>\n",
       "      <td>0.065</td>\n",
       "      <td>66873.897486</td>\n",
       "      <td>0.0</td>\n",
       "    </tr>\n",
       "    <tr>\n",
       "      <th>27</th>\n",
       "      <td>Com. Varios</td>\n",
       "      <td>5</td>\n",
       "      <td>2021-04-01</td>\n",
       "      <td>4.395433e+05</td>\n",
       "      <td>0.065</td>\n",
       "      <td>28570.308786</td>\n",
       "      <td>0.0</td>\n",
       "    </tr>\n",
       "    <tr>\n",
       "      <th>28</th>\n",
       "      <td>Com. Varios</td>\n",
       "      <td>5</td>\n",
       "      <td>2021-05-01</td>\n",
       "      <td>2.654672e+06</td>\n",
       "      <td>0.065</td>\n",
       "      <td>172553.679275</td>\n",
       "      <td>0.0</td>\n",
       "    </tr>\n",
       "    <tr>\n",
       "      <th>29</th>\n",
       "      <td>Com. Varios</td>\n",
       "      <td>5</td>\n",
       "      <td>2021-06-01</td>\n",
       "      <td>0.000000e+00</td>\n",
       "      <td>0.065</td>\n",
       "      <td>0.000000</td>\n",
       "      <td>0.0</td>\n",
       "    </tr>\n",
       "    <tr>\n",
       "      <th>30</th>\n",
       "      <td>Com. Varios</td>\n",
       "      <td>5</td>\n",
       "      <td>2021-07-01</td>\n",
       "      <td>0.000000e+00</td>\n",
       "      <td>0.065</td>\n",
       "      <td>0.000000</td>\n",
       "      <td>0.0</td>\n",
       "    </tr>\n",
       "    <tr>\n",
       "      <th>31</th>\n",
       "      <td>Com. Varios</td>\n",
       "      <td>5</td>\n",
       "      <td>2021-08-01</td>\n",
       "      <td>0.000000e+00</td>\n",
       "      <td>0.065</td>\n",
       "      <td>0.000000</td>\n",
       "      <td>0.0</td>\n",
       "    </tr>\n",
       "    <tr>\n",
       "      <th>32</th>\n",
       "      <td>Com. Varios</td>\n",
       "      <td>5</td>\n",
       "      <td>2021-09-01</td>\n",
       "      <td>0.000000e+00</td>\n",
       "      <td>0.065</td>\n",
       "      <td>0.000000</td>\n",
       "      <td>0.0</td>\n",
       "    </tr>\n",
       "    <tr>\n",
       "      <th>33</th>\n",
       "      <td>Com. Varios</td>\n",
       "      <td>5</td>\n",
       "      <td>2021-10-01</td>\n",
       "      <td>4.381991e+05</td>\n",
       "      <td>0.065</td>\n",
       "      <td>28482.933729</td>\n",
       "      <td>0.0</td>\n",
       "    </tr>\n",
       "    <tr>\n",
       "      <th>34</th>\n",
       "      <td>Com. Varios</td>\n",
       "      <td>5</td>\n",
       "      <td>2021-11-01</td>\n",
       "      <td>0.000000e+00</td>\n",
       "      <td>0.065</td>\n",
       "      <td>0.000000</td>\n",
       "      <td>0.0</td>\n",
       "    </tr>\n",
       "    <tr>\n",
       "      <th>35</th>\n",
       "      <td>Com. Varios</td>\n",
       "      <td>5</td>\n",
       "      <td>2021-12-01</td>\n",
       "      <td>0.000000e+00</td>\n",
       "      <td>0.065</td>\n",
       "      <td>0.000000</td>\n",
       "      <td>0.0</td>\n",
       "    </tr>\n",
       "    <tr>\n",
       "      <th>36</th>\n",
       "      <td>Com. Varios</td>\n",
       "      <td>5</td>\n",
       "      <td>2022-01-01</td>\n",
       "      <td>0.000000e+00</td>\n",
       "      <td>0.065</td>\n",
       "      <td>0.000000</td>\n",
       "      <td>0.0</td>\n",
       "    </tr>\n",
       "    <tr>\n",
       "      <th>37</th>\n",
       "      <td>Com. Varios</td>\n",
       "      <td>5</td>\n",
       "      <td>2022-02-01</td>\n",
       "      <td>4.030335e+04</td>\n",
       "      <td>0.065</td>\n",
       "      <td>2619.717823</td>\n",
       "      <td>0.0</td>\n",
       "    </tr>\n",
       "    <tr>\n",
       "      <th>38</th>\n",
       "      <td>Com. Varios</td>\n",
       "      <td>5</td>\n",
       "      <td>2022-03-01</td>\n",
       "      <td>2.153486e+06</td>\n",
       "      <td>0.065</td>\n",
       "      <td>139976.597429</td>\n",
       "      <td>0.0</td>\n",
       "    </tr>\n",
       "    <tr>\n",
       "      <th>39</th>\n",
       "      <td>Com. Varios</td>\n",
       "      <td>5</td>\n",
       "      <td>2022-04-01</td>\n",
       "      <td>0.000000e+00</td>\n",
       "      <td>6.500</td>\n",
       "      <td>0.000000</td>\n",
       "      <td>0.0</td>\n",
       "    </tr>\n",
       "    <tr>\n",
       "      <th>40</th>\n",
       "      <td>Com. Varios</td>\n",
       "      <td>5</td>\n",
       "      <td>2022-05-01</td>\n",
       "      <td>0.000000e+00</td>\n",
       "      <td>6.500</td>\n",
       "      <td>0.000000</td>\n",
       "      <td>0.0</td>\n",
       "    </tr>\n",
       "    <tr>\n",
       "      <th>41</th>\n",
       "      <td>Com. Varios</td>\n",
       "      <td>5</td>\n",
       "      <td>2022-06-01</td>\n",
       "      <td>0.000000e+00</td>\n",
       "      <td>5.500</td>\n",
       "      <td>0.000000</td>\n",
       "      <td>0.0</td>\n",
       "    </tr>\n",
       "    <tr>\n",
       "      <th>42</th>\n",
       "      <td>Com. Varios</td>\n",
       "      <td>20</td>\n",
       "      <td>2019-01-01</td>\n",
       "      <td>0.000000e+00</td>\n",
       "      <td>NaN</td>\n",
       "      <td>0.000000</td>\n",
       "      <td>0.0</td>\n",
       "    </tr>\n",
       "    <tr>\n",
       "      <th>43</th>\n",
       "      <td>Com. Varios</td>\n",
       "      <td>20</td>\n",
       "      <td>2019-02-01</td>\n",
       "      <td>0.000000e+00</td>\n",
       "      <td>NaN</td>\n",
       "      <td>0.000000</td>\n",
       "      <td>0.0</td>\n",
       "    </tr>\n",
       "    <tr>\n",
       "      <th>44</th>\n",
       "      <td>Com. Varios</td>\n",
       "      <td>20</td>\n",
       "      <td>2019-03-01</td>\n",
       "      <td>0.000000e+00</td>\n",
       "      <td>NaN</td>\n",
       "      <td>0.000000</td>\n",
       "      <td>0.0</td>\n",
       "    </tr>\n",
       "    <tr>\n",
       "      <th>45</th>\n",
       "      <td>Com. Varios</td>\n",
       "      <td>20</td>\n",
       "      <td>2019-04-01</td>\n",
       "      <td>0.000000e+00</td>\n",
       "      <td>NaN</td>\n",
       "      <td>0.000000</td>\n",
       "      <td>0.0</td>\n",
       "    </tr>\n",
       "    <tr>\n",
       "      <th>46</th>\n",
       "      <td>Com. Varios</td>\n",
       "      <td>20</td>\n",
       "      <td>2019-05-01</td>\n",
       "      <td>0.000000e+00</td>\n",
       "      <td>NaN</td>\n",
       "      <td>0.000000</td>\n",
       "      <td>0.0</td>\n",
       "    </tr>\n",
       "    <tr>\n",
       "      <th>47</th>\n",
       "      <td>Com. Varios</td>\n",
       "      <td>20</td>\n",
       "      <td>2019-06-01</td>\n",
       "      <td>0.000000e+00</td>\n",
       "      <td>NaN</td>\n",
       "      <td>0.000000</td>\n",
       "      <td>0.0</td>\n",
       "    </tr>\n",
       "    <tr>\n",
       "      <th>48</th>\n",
       "      <td>Com. Varios</td>\n",
       "      <td>20</td>\n",
       "      <td>2019-07-01</td>\n",
       "      <td>0.000000e+00</td>\n",
       "      <td>NaN</td>\n",
       "      <td>0.000000</td>\n",
       "      <td>0.0</td>\n",
       "    </tr>\n",
       "    <tr>\n",
       "      <th>49</th>\n",
       "      <td>Com. Varios</td>\n",
       "      <td>20</td>\n",
       "      <td>2019-08-01</td>\n",
       "      <td>0.000000e+00</td>\n",
       "      <td>NaN</td>\n",
       "      <td>0.000000</td>\n",
       "      <td>0.0</td>\n",
       "    </tr>\n",
       "    <tr>\n",
       "      <th>50</th>\n",
       "      <td>Com. Varios</td>\n",
       "      <td>20</td>\n",
       "      <td>2019-09-01</td>\n",
       "      <td>0.000000e+00</td>\n",
       "      <td>NaN</td>\n",
       "      <td>0.000000</td>\n",
       "      <td>0.0</td>\n",
       "    </tr>\n",
       "    <tr>\n",
       "      <th>51</th>\n",
       "      <td>Com. Varios</td>\n",
       "      <td>20</td>\n",
       "      <td>2019-10-01</td>\n",
       "      <td>0.000000e+00</td>\n",
       "      <td>NaN</td>\n",
       "      <td>0.000000</td>\n",
       "      <td>0.0</td>\n",
       "    </tr>\n",
       "    <tr>\n",
       "      <th>52</th>\n",
       "      <td>Com. Varios</td>\n",
       "      <td>20</td>\n",
       "      <td>2019-11-01</td>\n",
       "      <td>0.000000e+00</td>\n",
       "      <td>NaN</td>\n",
       "      <td>0.000000</td>\n",
       "      <td>0.0</td>\n",
       "    </tr>\n",
       "    <tr>\n",
       "      <th>53</th>\n",
       "      <td>Com. Varios</td>\n",
       "      <td>20</td>\n",
       "      <td>2019-12-01</td>\n",
       "      <td>0.000000e+00</td>\n",
       "      <td>NaN</td>\n",
       "      <td>0.000000</td>\n",
       "      <td>0.0</td>\n",
       "    </tr>\n",
       "    <tr>\n",
       "      <th>54</th>\n",
       "      <td>Com. Varios</td>\n",
       "      <td>20</td>\n",
       "      <td>2020-01-01</td>\n",
       "      <td>0.000000e+00</td>\n",
       "      <td>NaN</td>\n",
       "      <td>0.000000</td>\n",
       "      <td>0.0</td>\n",
       "    </tr>\n",
       "    <tr>\n",
       "      <th>55</th>\n",
       "      <td>Com. Varios</td>\n",
       "      <td>20</td>\n",
       "      <td>2020-02-01</td>\n",
       "      <td>0.000000e+00</td>\n",
       "      <td>NaN</td>\n",
       "      <td>0.000000</td>\n",
       "      <td>0.0</td>\n",
       "    </tr>\n",
       "    <tr>\n",
       "      <th>56</th>\n",
       "      <td>Com. Varios</td>\n",
       "      <td>20</td>\n",
       "      <td>2020-03-01</td>\n",
       "      <td>0.000000e+00</td>\n",
       "      <td>NaN</td>\n",
       "      <td>0.000000</td>\n",
       "      <td>0.0</td>\n",
       "    </tr>\n",
       "    <tr>\n",
       "      <th>57</th>\n",
       "      <td>Com. Varios</td>\n",
       "      <td>20</td>\n",
       "      <td>2020-04-01</td>\n",
       "      <td>0.000000e+00</td>\n",
       "      <td>NaN</td>\n",
       "      <td>0.000000</td>\n",
       "      <td>0.0</td>\n",
       "    </tr>\n",
       "    <tr>\n",
       "      <th>58</th>\n",
       "      <td>Com. Varios</td>\n",
       "      <td>20</td>\n",
       "      <td>2020-05-01</td>\n",
       "      <td>0.000000e+00</td>\n",
       "      <td>NaN</td>\n",
       "      <td>0.000000</td>\n",
       "      <td>0.0</td>\n",
       "    </tr>\n",
       "    <tr>\n",
       "      <th>59</th>\n",
       "      <td>Com. Varios</td>\n",
       "      <td>20</td>\n",
       "      <td>2020-06-01</td>\n",
       "      <td>0.000000e+00</td>\n",
       "      <td>NaN</td>\n",
       "      <td>0.000000</td>\n",
       "      <td>0.0</td>\n",
       "    </tr>\n",
       "  </tbody>\n",
       "</table>\n",
       "</div>"
      ],
      "text/plain": [
       "       Subrubro  ID       Fecha        Ventas  Alicuota       Comision  Modelo\n",
       "0   Com. Varios   5  2019-01-01  0.000000e+00       NaN       0.000000     0.0\n",
       "1   Com. Varios   5  2019-02-01  0.000000e+00       NaN       0.000000     0.0\n",
       "2   Com. Varios   5  2019-03-01  0.000000e+00       NaN       0.000000     0.0\n",
       "3   Com. Varios   5  2019-04-01  0.000000e+00       NaN       0.000000     0.0\n",
       "4   Com. Varios   5  2019-05-01  0.000000e+00       NaN       0.000000     0.0\n",
       "5   Com. Varios   5  2019-06-01  0.000000e+00       NaN       0.000000     0.0\n",
       "6   Com. Varios   5  2019-07-01  0.000000e+00       NaN       0.000000     0.0\n",
       "7   Com. Varios   5  2019-08-01  0.000000e+00       NaN       0.000000     0.0\n",
       "8   Com. Varios   5  2019-09-01  0.000000e+00       NaN       0.000000     0.0\n",
       "9   Com. Varios   5  2019-10-01  0.000000e+00       NaN       0.000000     0.0\n",
       "10  Com. Varios   5  2019-11-01  0.000000e+00       NaN       0.000000     0.0\n",
       "11  Com. Varios   5  2019-12-01  0.000000e+00       NaN       0.000000     0.0\n",
       "12  Com. Varios   5  2020-01-01  0.000000e+00       NaN       0.000000     0.0\n",
       "13  Com. Varios   5  2020-02-01  0.000000e+00       NaN       0.000000     0.0\n",
       "14  Com. Varios   5  2020-03-01  0.000000e+00       NaN       0.000000     0.0\n",
       "15  Com. Varios   5  2020-04-01  4.825139e+05     0.055   26538.266955     0.0\n",
       "16  Com. Varios   5  2020-05-01  0.000000e+00       NaN       0.000000     0.0\n",
       "17  Com. Varios   5  2020-06-01  0.000000e+00     0.055       0.000000     0.0\n",
       "18  Com. Varios   5  2020-07-01  2.035695e+05     0.055   11196.335289     0.0\n",
       "19  Com. Varios   5  2020-08-01  6.999330e+05     0.055   38496.303956     0.0\n",
       "20  Com. Varios   5  2020-09-01  3.677109e+05     0.055   20224.112762     0.0\n",
       "21  Com. Varios   5  2020-10-01  0.000000e+00     0.055       0.000000     0.0\n",
       "22  Com. Varios   5  2020-11-01  0.000000e+00     0.055       0.000000     0.0\n",
       "23  Com. Varios   5  2020-12-01  0.000000e+00     0.055       0.000000     0.0\n",
       "24  Com. Varios   5  2021-01-01  1.246397e+05     0.065    8101.578851     0.0\n",
       "25  Com. Varios   5  2021-02-01  0.000000e+00     0.065       0.000000     0.0\n",
       "26  Com. Varios   5  2021-03-01  1.028829e+06     0.065   66873.897486     0.0\n",
       "27  Com. Varios   5  2021-04-01  4.395433e+05     0.065   28570.308786     0.0\n",
       "28  Com. Varios   5  2021-05-01  2.654672e+06     0.065  172553.679275     0.0\n",
       "29  Com. Varios   5  2021-06-01  0.000000e+00     0.065       0.000000     0.0\n",
       "30  Com. Varios   5  2021-07-01  0.000000e+00     0.065       0.000000     0.0\n",
       "31  Com. Varios   5  2021-08-01  0.000000e+00     0.065       0.000000     0.0\n",
       "32  Com. Varios   5  2021-09-01  0.000000e+00     0.065       0.000000     0.0\n",
       "33  Com. Varios   5  2021-10-01  4.381991e+05     0.065   28482.933729     0.0\n",
       "34  Com. Varios   5  2021-11-01  0.000000e+00     0.065       0.000000     0.0\n",
       "35  Com. Varios   5  2021-12-01  0.000000e+00     0.065       0.000000     0.0\n",
       "36  Com. Varios   5  2022-01-01  0.000000e+00     0.065       0.000000     0.0\n",
       "37  Com. Varios   5  2022-02-01  4.030335e+04     0.065    2619.717823     0.0\n",
       "38  Com. Varios   5  2022-03-01  2.153486e+06     0.065  139976.597429     0.0\n",
       "39  Com. Varios   5  2022-04-01  0.000000e+00     6.500       0.000000     0.0\n",
       "40  Com. Varios   5  2022-05-01  0.000000e+00     6.500       0.000000     0.0\n",
       "41  Com. Varios   5  2022-06-01  0.000000e+00     5.500       0.000000     0.0\n",
       "42  Com. Varios  20  2019-01-01  0.000000e+00       NaN       0.000000     0.0\n",
       "43  Com. Varios  20  2019-02-01  0.000000e+00       NaN       0.000000     0.0\n",
       "44  Com. Varios  20  2019-03-01  0.000000e+00       NaN       0.000000     0.0\n",
       "45  Com. Varios  20  2019-04-01  0.000000e+00       NaN       0.000000     0.0\n",
       "46  Com. Varios  20  2019-05-01  0.000000e+00       NaN       0.000000     0.0\n",
       "47  Com. Varios  20  2019-06-01  0.000000e+00       NaN       0.000000     0.0\n",
       "48  Com. Varios  20  2019-07-01  0.000000e+00       NaN       0.000000     0.0\n",
       "49  Com. Varios  20  2019-08-01  0.000000e+00       NaN       0.000000     0.0\n",
       "50  Com. Varios  20  2019-09-01  0.000000e+00       NaN       0.000000     0.0\n",
       "51  Com. Varios  20  2019-10-01  0.000000e+00       NaN       0.000000     0.0\n",
       "52  Com. Varios  20  2019-11-01  0.000000e+00       NaN       0.000000     0.0\n",
       "53  Com. Varios  20  2019-12-01  0.000000e+00       NaN       0.000000     0.0\n",
       "54  Com. Varios  20  2020-01-01  0.000000e+00       NaN       0.000000     0.0\n",
       "55  Com. Varios  20  2020-02-01  0.000000e+00       NaN       0.000000     0.0\n",
       "56  Com. Varios  20  2020-03-01  0.000000e+00       NaN       0.000000     0.0\n",
       "57  Com. Varios  20  2020-04-01  0.000000e+00       NaN       0.000000     0.0\n",
       "58  Com. Varios  20  2020-05-01  0.000000e+00       NaN       0.000000     0.0\n",
       "59  Com. Varios  20  2020-06-01  0.000000e+00       NaN       0.000000     0.0"
      ]
     },
     "execution_count": 9,
     "metadata": {},
     "output_type": "execute_result"
    }
   ],
   "source": [
    "path = '../data/interim/tp2_agregado_limpio.csv'\n",
    "agregado_limpio = pd.read_csv(path)\n",
    "agregado_limpio[:60]"
   ]
  },
  {
   "cell_type": "code",
   "execution_count": null,
   "metadata": {},
   "outputs": [],
   "source": [
    "agregado_limpio = agregado_limpio.drop('Alicuota', axis=1)\n",
    "agregado_limpio = agregado_limpio.sort_values(['Subrubro', 'ID', 'Fecha'])"
   ]
  },
  {
   "cell_type": "code",
   "execution_count": null,
   "metadata": {},
   "outputs": [],
   "source": [
    "agregado_limpio['Dif_Ventas'] = agregado_limpio.groupby(['ID', 'Subrubro'])['Ventas'].diff()\n",
    "agregado_limpio['Dif_Comision'] = agregado_limpio.groupby(['ID', 'Subrubro'])['Comision'].diff()"
   ]
  },
  {
   "cell_type": "code",
   "execution_count": null,
   "metadata": {},
   "outputs": [],
   "source": [
    "agregado_limpio[(agregado_limpio['ID'] == 5) & (agregado_limpio['Subrubro'] == 'Com. Varios')]"
   ]
  }
 ],
 "metadata": {
  "kernelspec": {
   "display_name": "diplodatos",
   "language": "python",
   "name": "python3"
  },
  "language_info": {
   "codemirror_mode": {
    "name": "ipython",
    "version": 3
   },
   "file_extension": ".py",
   "mimetype": "text/x-python",
   "name": "python",
   "nbconvert_exporter": "python",
   "pygments_lexer": "ipython3",
   "version": "3.10.6"
  },
  "orig_nbformat": 4
 },
 "nbformat": 4,
 "nbformat_minor": 2
}
