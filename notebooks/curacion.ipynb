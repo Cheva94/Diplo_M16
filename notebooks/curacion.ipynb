{
 "cells": [
  {
   "cell_type": "code",
   "execution_count": null,
   "metadata": {},
   "outputs": [],
   "source": [
    "# Para que las funciones se actualicen sin tener que refrescar el kernel\n",
    "%load_ext autoreload\n",
    "%autoreload 2"
   ]
  },
  {
   "cell_type": "code",
   "execution_count": null,
   "metadata": {},
   "outputs": [],
   "source": [
    "# Funciones propias\n",
    "from utils_limpieza import * "
   ]
  },
  {
   "cell_type": "code",
   "execution_count": null,
   "metadata": {},
   "outputs": [],
   "source": [
    "import pandas as pd\n",
    "import json\n",
    "from os.path import exists\n",
    "import missingno as msno\n",
    "import matplotlib.pyplot as plt\n",
    "import numpy as np\n",
    "import seaborn as sns"
   ]
  },
  {
   "cell_type": "code",
   "execution_count": null,
   "metadata": {},
   "outputs": [],
   "source": [
    "# Cargar datos\n",
    "path = '../data/raw/tp2_muestra_diplodatos_ventas_omega_modelo_2023.csv'\n",
    "ventas = pd.read_csv(path)\n"
   ]
  },
  {
   "attachments": {},
   "cell_type": "markdown",
   "metadata": {},
   "source": [
    "## Hacemos la limpieza sugerida al principio del TP2\n",
    "- [x] Eliminar las variables en `cols_dropear` (Paso 1).\n",
    "- [x] Renombrar a 'Otros' las subcategorías que no tengan `MODELO` (Paso 2)."
   ]
  },
  {
   "cell_type": "code",
   "execution_count": null,
   "metadata": {},
   "outputs": [],
   "source": [
    "print(f'El df original tiene {ventas.shape[0]} registros y {ventas.shape[1]} variables.\\n')\n",
    "\n",
    "# Paso 1\n",
    "cols_dropear = ['INSCRIPCION', 'CATEGORIA', 'DESCRIPCION_CATEGORIA', 'CATEGORIA (Ajustado)', 'NOMBRE']\n",
    "ventas_renamed = limpiar_basic(ventas, cols_drop=cols_dropear)\n",
    "print(f'Luego del paso 1 quedan se tiran {len(cols_dropear)} variables, quedando {ventas_renamed.shape[1]} variables.\\n')\n",
    "\n",
    "# Paso 2\n",
    "# ventas_renamed['SUB-CATEGORIA'].nunique() # antes del paso 2\n",
    "ventas_renamed = renombrar_elementos(ventas_renamed, \n",
    "                                     columna='SUB-CATEGORIA', \n",
    "                                     fill_otros='Otros')\n",
    "\n",
    "scu_vr = ventas_renamed['SUB-CATEGORIA'].nunique()\n",
    "scu_ot = ventas_renamed['SUB-CATEGORIA'].nunique() - scu_vr + 1\n",
    "print(f'Luego del paso 2 quedan {scu_vr} subcategorías únicas.')\n",
    "print(f'Las {scu_ot} subcategorías únicas que no tenían ningún vendedor modelo fueron agrupadas en \"Otros\".')\n",
    "print(f'Las {scu_vr-1} subcategorías que sí tienen vendedores modelo son:')\n",
    "\n",
    "ventas_renamed.groupby(by=['SUB-CATEGORIA'])['MODELO'].sum().sort_values(ascending=False)[:12]"
   ]
  },
  {
   "cell_type": "markdown",
   "metadata": {},
   "source": [
    "## Análisis de datos faltantes\n",
    "- [x] Chequear presencia de datos faltantes\n",
    "- [x] Analizar su correlación\n",
    "- [x] Imputar de valores faltantes: `CM` y `Trat_Dif` con 'No'."
   ]
  },
  {
   "cell_type": "markdown",
   "metadata": {},
   "source": [
    "Faltan datos en las mismas variables que antes. Imputo los complementos en `CM` y `Trat_Dif` para dejarlas listas. Luego de eso, se cumple lo que ya habíamos visto en el tp1."
   ]
  },
  {
   "cell_type": "code",
   "execution_count": null,
   "metadata": {},
   "outputs": [],
   "source": [
    "ventas_renamed.columns"
   ]
  },
  {
   "cell_type": "code",
   "execution_count": null,
   "metadata": {},
   "outputs": [],
   "source": [
    "msno.bar(ventas_renamed.sort_values('ID_VENDEDOR'), sort=\"ascending\", fontsize=12, color=\"tab:green\", figsize=(6, 5))\n",
    "msno.matrix(ventas_renamed.sort_values('ID_VENDEDOR'), fontsize=12, color=[0.5,0,0], figsize=(6, 5))\n",
    "msno.heatmap(ventas_renamed.sort_values('ID_VENDEDOR'), fontsize=12, figsize=(6, 5))\n",
    "\n",
    "plt.show()"
   ]
  },
  {
   "cell_type": "code",
   "execution_count": null,
   "metadata": {},
   "outputs": [],
   "source": [
    "ventas_renamed['CM04'] = ventas_renamed['CM04'].fillna('No')\n",
    "ventas_renamed['TRATAMIENTO_DIFERNCIAL'] = ventas_renamed['TRATAMIENTO_DIFERNCIAL'].fillna('No')"
   ]
  },
  {
   "cell_type": "code",
   "execution_count": null,
   "metadata": {},
   "outputs": [],
   "source": [
    "msno.bar(ventas_renamed.sort_values('ID_VENDEDOR'), sort=\"ascending\", fontsize=12, color=\"tab:green\", figsize=(6, 5))\n",
    "msno.matrix(ventas_renamed.sort_values('ID_VENDEDOR'), fontsize=12, color=[0.5,0,0], figsize=(6, 5))\n",
    "msno.heatmap(ventas_renamed.sort_values('ID_VENDEDOR'), fontsize=12, figsize=(6, 5))\n",
    "\n",
    "plt.show()"
   ]
  },
  {
   "cell_type": "markdown",
   "metadata": {},
   "source": [
    "## Anonimizado + simplificación de variables y valores\n",
    "- [x] Simplificamos el nombre de las variables.\n",
    "- [x] Anonimizamos la variable sensible `ID` (Paso 3).\n",
    "- [x] Simplificamos (podría decir acá también que anonimizamos?) valores en `Deposito`\n",
    "- [x] Unificacón y simplificación de categorías de `Trat_Fisc`.\n",
    "- [x] Simplificación de categorías de `Trat_Fisc_Agg` y `Trat_Dif`.\n",
    "- [x] Simplificación de categorías en `Categoria`.\n",
    "- [x] Guardamos todos estos diccionarios.\n",
    "- [x] CM: de Si/No a 1/0."
   ]
  },
  {
   "cell_type": "code",
   "execution_count": null,
   "metadata": {},
   "outputs": [],
   "source": [
    "# Se modifican los nombres de las columnas\n",
    "\n",
    "# Renombramos\n",
    "with open(\"../references/tp2_column_dict.json\") as column_dict_json:\n",
    "    column_dict = json.load(column_dict_json)\n",
    "\n",
    "ventas_renamed.rename(columns = column_dict, inplace = True)\n",
    "ventas_renamed.columns"
   ]
  },
  {
   "cell_type": "code",
   "execution_count": null,
   "metadata": {},
   "outputs": [],
   "source": [
    "# Anonimizamos y guardamos el diccionario para no perder esta info\n",
    "ventas_hash, dict_id = anonimizar(ventas_renamed, 'ID')\n",
    "\n",
    "with open(\"../references/tp2_ID_dict.json\", \"w\") as fp:\n",
    "    json.dump(dict_id, fp)\n",
    "\n",
    "print('¡Diccionario generado!')"
   ]
  },
  {
   "cell_type": "code",
   "execution_count": null,
   "metadata": {},
   "outputs": [],
   "source": [
    "# Mapeo de `Deposito` a enteros\n",
    "ventas_hash, dict_dep = anonimizar(ventas_hash, 'Deposito')\n",
    "\n",
    "with open(\"../references/tp2_deposito_dict.json\", \"w\") as fp:\n",
    "    json.dump(dict_dep, fp)\n",
    "\n",
    "print('¡Diccionario generado!')"
   ]
  },
  {
   "cell_type": "code",
   "execution_count": null,
   "metadata": {},
   "outputs": [],
   "source": [
    "# Mapeo de `CM` según \"Si\" >> 1 y \"No\" >> 0.\n",
    "ventas_hash['CM'] = ventas_hash['CM'].replace({'No': 0, 'Si': 1})"
   ]
  },
  {
   "cell_type": "code",
   "execution_count": null,
   "metadata": {},
   "outputs": [],
   "source": [
    "# Unificacón y simplificación de categorías de `Trat_Fisc`\n",
    "with open(\"../references/tp1_trat_fisc_dict.json\") as trat_fisc_dict_json:\n",
    "    trat_fisc_dict = json.load(trat_fisc_dict_json)\n",
    "    \n",
    "ventas_hash['Trat_Fisc'] = ventas_hash['Trat_Fisc'].astype(str)\n",
    "ventas_hash['Trat_Fisc'] = ventas_hash['Trat_Fisc'].replace(trat_fisc_dict)"
   ]
  },
  {
   "cell_type": "code",
   "execution_count": null,
   "metadata": {},
   "outputs": [],
   "source": [
    "# Simplificación de categorías de `Trat_Fisc_Agg`\n",
    "with open(\"../references/tp1_trat_fisc_agg_dict.json\") as trat_fisc_agg_dict_json:\n",
    "    trat_fisc_agg_dict = json.load(trat_fisc_agg_dict_json)\n",
    "\n",
    "ventas_hash['Trat_Fisc_Agg'] = ventas_hash['Trat_Fisc_Agg'].replace(trat_fisc_agg_dict)"
   ]
  },
  {
   "cell_type": "code",
   "execution_count": null,
   "metadata": {},
   "outputs": [],
   "source": [
    "# Simplificación de categorías de `Trat_Dif`\n",
    "with open(\"../references/tp1_trat_diff_dict.json\") as trat_dif_dict_json:\n",
    "    trat_dif_dict = json.load(trat_dif_dict_json)\n",
    "\n",
    "ventas_hash['Trat_Dif'] = ventas_hash['Trat_Dif'].replace(trat_dif_dict)"
   ]
  },
  {
   "cell_type": "code",
   "execution_count": null,
   "metadata": {},
   "outputs": [],
   "source": [
    "# Simplificación de categorías de `Subrubro`\n",
    "with open(\"../references/tp2_subrubro_dict.json\") as subrubro_dict_json:\n",
    "    subrubro_dict = json.load(subrubro_dict_json)\n",
    "\n",
    "ventas_hash['Subrubro'] = ventas_hash['Subrubro'].replace(subrubro_dict)"
   ]
  },
  {
   "cell_type": "code",
   "execution_count": null,
   "metadata": {},
   "outputs": [],
   "source": [
    "ventas_hash['Subrubro'].unique()"
   ]
  },
  {
   "cell_type": "code",
   "execution_count": null,
   "metadata": {},
   "outputs": [],
   "source": [
    "# Guardo todo lo hecho hasta acá, para no tener que correr todo\n",
    "ventas_hash.to_csv('../data/interim/tp2_ventas_hash.csv', index=False)"
   ]
  },
  {
   "cell_type": "markdown",
   "metadata": {},
   "source": [
    "## Variable fecha (Paso 6).\n",
    "Consideramos que para el análisis temporal habrá momentos en que necesitamos tener Año y Mes por separado, pero en otras ocasiones necesitamos toda la información al mismo tiempo. Por lo tanto, creamos la variable FECHA:\n",
    "    $$FECHA = Año + Mes$$"
   ]
  },
  {
   "cell_type": "code",
   "execution_count": null,
   "metadata": {},
   "outputs": [],
   "source": [
    "ventas_hash[\"FECHA\"] = pd.to_datetime(ventas_hash['Mes'].astype(str) + '-' + ventas_hash['Año'].astype(str), format='%m-%Y')\n",
    "ventas_hash[:3]"
   ]
  },
  {
   "cell_type": "markdown",
   "metadata": {},
   "source": [
    "## Eliminación efecto inflación\n",
    "Las variables expresadas en pesos aumentan mes a mes por efecto de la inflación. Lo que impide comparar un valor monetario de un mes contra el del mes siguiente. A fin de eliminar este efecto, una alternativa es reexpresar los valores monetarios respecto a un mes base. Por ejemplo, el último mes de la serie."
   ]
  },
  {
   "cell_type": "code",
   "execution_count": null,
   "metadata": {},
   "outputs": [],
   "source": [
    "ventas_ipc = ventas_hash.copy()"
   ]
  },
  {
   "cell_type": "code",
   "execution_count": null,
   "metadata": {},
   "outputs": [],
   "source": [
    "# Obtener el último mes\n",
    "año = ventas_ipc['Año'].max()\n",
    "mes = ventas_ipc[ventas_ipc['Año'] == ventas_ipc['Año'].max()]['Mes'].max()\n",
    "print(f\"El último mes de la serie es el {mes} de {año}\")"
   ]
  },
  {
   "cell_type": "markdown",
   "metadata": {},
   "source": [
    "El procedimiento es el siguiente:\n",
    "    $$\\text{VAR}_{mm-aaaa} \\frac{\\text{IPC}_{06-2022}}{\\text{IPC}_{mm-aaaa}}$$\n",
    "\n",
    "Para todo valor de cada variable (VAR) correspondiente a cierto mes \"mm-aaaa\" se lo divide por el Índice de Precios al Consumidor (IPC) correspondiente a ese mes \"mm-aaaa\" y luego se lo multiplica por el IPC correspondiente al mes \"06-2022\".\n",
    "\n",
    "De esta forma, todos los valores de cada variable VAR van a quedar expresados en unidades monetarias del \"06-2022\".\n",
    "\n"
   ]
  },
  {
   "cell_type": "markdown",
   "metadata": {},
   "source": [
    "Es necesario obtener de manera externa una serie del IPC que publica Indec."
   ]
  },
  {
   "cell_type": "code",
   "execution_count": null,
   "metadata": {},
   "outputs": [],
   "source": [
    "precios = \"../data/external/IPC_Indec.csv\"\n",
    "\n",
    "if exists(precios):\n",
    "    print('Este archivo ya existe.')\n",
    "else:\n",
    "    print('Este archivo no existe: ¡Vamos a crearlo!')\n",
    "    url = \"https://www.indec.gob.ar/ftp/cuadros/economia/sh_ipc_06_23.xls\"\n",
    "    df = pd.read_excel(url, sheet_name=\"Índices IPC Cobertura Nacional\", header=None, usecols=\"B:CA\", skiprows=[0, 1, 2, 3, 4, 6, 7, 8], nrows=2)\n",
    "    df = df.transpose()\n",
    "    df.columns = [\"FECHA\", \"INDICE\"]\n",
    "    df[\"FECHA\"] = pd.to_datetime(df[\"FECHA\"])\n",
    "    df.to_csv(precios, index=False)"
   ]
  },
  {
   "cell_type": "code",
   "execution_count": null,
   "metadata": {},
   "outputs": [],
   "source": [
    "# Abrir dataset de precios\n",
    "precios = pd.read_csv(precios)\n",
    "precios.head()"
   ]
  },
  {
   "cell_type": "markdown",
   "metadata": {},
   "source": [
    "Luego debemos unir ambas bases de datos (ventas y precios), de acuerdo a la variable clave `FECHA`"
   ]
  },
  {
   "cell_type": "code",
   "execution_count": null,
   "metadata": {},
   "outputs": [],
   "source": [
    "print(ventas_ipc[\"FECHA\"].dtype)\n",
    "print(precios[\"FECHA\"].dtype)"
   ]
  },
  {
   "cell_type": "code",
   "execution_count": null,
   "metadata": {},
   "outputs": [],
   "source": [
    "# Hay que asegurar que la variable clave tenga el mismo tipo en los dos dataframes\n",
    "precios[\"FECHA\"] = pd.to_datetime(precios[\"FECHA\"])"
   ]
  },
  {
   "cell_type": "code",
   "execution_count": null,
   "metadata": {},
   "outputs": [],
   "source": [
    "print(ventas_ipc[\"FECHA\"].dtype)\n",
    "print(precios[\"FECHA\"].dtype)"
   ]
  },
  {
   "cell_type": "code",
   "execution_count": null,
   "metadata": {},
   "outputs": [],
   "source": [
    "ventas_ipc = ventas_ipc.merge(precios[[\"FECHA\", \"INDICE\"]], on=\"FECHA\", how=\"left\")\n",
    "ventas_ipc.head(3)"
   ]
  },
  {
   "cell_type": "code",
   "execution_count": null,
   "metadata": {},
   "outputs": [],
   "source": [
    "# Creamos una variable que almacene el valor del índice para el 06 de 2022\n",
    "indice_06_2022 = ventas_ipc[ventas_ipc[\"FECHA\"] == ventas_ipc[\"FECHA\"].max()][\"INDICE\"].values[0]"
   ]
  },
  {
   "cell_type": "markdown",
   "metadata": {},
   "source": [
    "La series que están expresadas en pesos son las siguientes: \n",
    "   * `Ventas`\n",
    "   * `Comision`"
   ]
  },
  {
   "cell_type": "code",
   "execution_count": null,
   "metadata": {},
   "outputs": [],
   "source": [
    "ventas_ipc[\"Ventas_Reales\"] = (ventas_ipc[\"Ventas\"]  * indice_06_2022 / ventas_ipc[\"INDICE\"])\n",
    "ventas_ipc[\"Comision_Real\"] = (ventas_ipc[\"Comision\"]  * indice_06_2022 / ventas_ipc[\"INDICE\"])\n",
    "ventas_ipc.head(3)"
   ]
  },
  {
   "cell_type": "code",
   "execution_count": null,
   "metadata": {},
   "outputs": [],
   "source": [
    "ventas_agrupadas = ventas_ipc[['FECHA', 'Ventas', 'Ventas_Reales', 'Comision', 'Comision_Real']].copy()\n",
    "ventas_agrupadas = ventas_agrupadas.groupby('FECHA').sum()[['Ventas', 'Ventas_Reales', 'Comision', 'Comision_Real']].reset_index()"
   ]
  },
  {
   "cell_type": "markdown",
   "metadata": {},
   "source": [
    "Veamos gráficamente el efecto de la operación (por simplicidad se grafican mensualmente las series de tiempo agregando los valores por suma):"
   ]
  },
  {
   "cell_type": "code",
   "execution_count": null,
   "metadata": {},
   "outputs": [],
   "source": [
    "# Crear el layout con dos subplots\n",
    "fig, (ax1, ax2) = plt.subplots(1, 2, figsize=(10, 5))\n",
    "\n",
    "# Primer subplot: Ventas totales vs Ventas reales\n",
    "ax1.plot(ventas_agrupadas['FECHA'], ventas_agrupadas['Ventas'], label='Total Ventas')\n",
    "ax1.plot(ventas_agrupadas['FECHA'], ventas_agrupadas['Ventas_Reales'], label='Total Ventas Reales')\n",
    "ax1.set_xlabel('Fecha')\n",
    "ax1.set_ylabel('Ventas')\n",
    "ax1.set_title('Ventas totales vs Ventas reales')\n",
    "ax1.legend()\n",
    "ax1.tick_params(axis='x', rotation=45)\n",
    "\n",
    "# Segundo subplot: Comisión Empresa vs Comisión Empresa Reales\n",
    "ax2.plot(ventas_agrupadas['FECHA'], ventas_agrupadas['Comision'], label='Comisión Empresa')\n",
    "ax2.plot(ventas_agrupadas['FECHA'], ventas_agrupadas['Comision_Real'], label='Comisión Empresa reales')\n",
    "ax2.set_xlabel('Fecha')\n",
    "ax2.set_ylabel('Comisión')\n",
    "ax2.set_title('Comisión Empresa vs Comisión Empresa reales')\n",
    "ax2.legend()\n",
    "ax2.tick_params(axis='x', rotation=45)\n",
    "\n",
    "# Ajustar el espaciado entre subplots\n",
    "plt.tight_layout()\n",
    "\n",
    "# Mostrar el gráfico\n",
    "plt.show()"
   ]
  },
  {
   "cell_type": "markdown",
   "metadata": {},
   "source": [
    "En las variantes llamadas \"Reales\", se observa una pendiente más moderada. El efecto de la inflación ha sido \"descartado\". De aquí en adelante, a la hora de hablar de los valores de estas variables, la interpretación correcta será \"$ XX.XXX a precios de junio de 2022\""
   ]
  },
  {
   "cell_type": "code",
   "execution_count": null,
   "metadata": {},
   "outputs": [],
   "source": [
    "ventas_ipc.columns"
   ]
  },
  {
   "cell_type": "code",
   "execution_count": null,
   "metadata": {},
   "outputs": [],
   "source": [
    "# # Se descartan las variables que no se usan\n",
    "ventas_ipc = limpiar_basic(ventas_ipc, cols_drop=['Ventas', 'Comision', 'INDICE'])\n",
    "\n",
    "# Se renombran las variables\n",
    "ventas_ipc.rename(columns = {'FECHA': 'Fecha', \n",
    "                              'Ventas_Reales': 'Ventas', \n",
    "                              'Comision_Real': 'Comision'}, inplace = True)\n",
    "\n",
    "# Se reacomodan las columnas\n",
    "ventas_ipc = ventas_ipc[['ID', 'Omega', 'Subrubro', 'Trat_Fisc_Agg', \n",
    "                          'Trat_Fisc', 'Trat_Dif', 'CM', 'Año', 'Mes', \n",
    "                          'Fecha','Deposito', 'Ventas', \n",
    "                          'Alicuota', 'Comision', 'Modelo']]\n",
    "\n",
    "ventas_ipc = ventas_ipc.sort_values(['Año', 'Mes', 'Ventas']).reset_index(drop=True)"
   ]
  },
  {
   "cell_type": "code",
   "execution_count": null,
   "metadata": {},
   "outputs": [],
   "source": [
    "# Guardo todo lo hecho hasta acá, para no tener que correr todo\n",
    "ventas_ipc.to_csv('../data/interim/tp2_ventas_ipc.csv', index=False)"
   ]
  },
  {
   "cell_type": "markdown",
   "metadata": {},
   "source": [
    "## Análisis de variables categóricas"
   ]
  },
  {
   "cell_type": "code",
   "execution_count": null,
   "metadata": {},
   "outputs": [],
   "source": [
    "ventas_ipc.head(3)"
   ]
  },
  {
   "cell_type": "code",
   "execution_count": null,
   "metadata": {},
   "outputs": [],
   "source": [
    "vendedores = ventas_ipc.drop(['Año', 'Mes', 'Fecha', 'Ventas', 'Alicuota', 'Comision'], axis=1).copy()\n",
    "vendedores.head(3)"
   ]
  },
  {
   "cell_type": "code",
   "execution_count": null,
   "metadata": {},
   "outputs": [],
   "source": [
    "for columna in vendedores.columns:\n",
    "    recuento_valores = vendedores[columna].value_counts()\n",
    "    print(f\"Recuento de valores para la variable '{columna}':\")\n",
    "    print(recuento_valores)\n",
    "    print()"
   ]
  },
  {
   "cell_type": "markdown",
   "metadata": {},
   "source": [
    "### `ID` y `Modelo`"
   ]
  },
  {
   "cell_type": "code",
   "execution_count": null,
   "metadata": {},
   "outputs": [],
   "source": [
    "# Verificar si existen diferentes valores de Modelo para un mismo ID\n",
    "conteo_modelo = vendedores.groupby('ID')['Modelo'].nunique().copy()\n",
    "\n",
    "# Filtrar los IDs con diferentes valores de Modelo\n",
    "ids_con_diferentes_modelos = conteo_modelo[conteo_modelo > 1]\n",
    "\n",
    "if ids_con_diferentes_modelos.empty:\n",
    "    print(\"Para cada ID solo existe un valor de Modelo.\")\n",
    "else:\n",
    "    print(\"Para algunos IDs se asignan diferentes valores de Modelo:\")\n",
    "    print(ids_con_diferentes_modelos.sort_values(ascending=False))"
   ]
  },
  {
   "cell_type": "markdown",
   "metadata": {},
   "source": [
    "Esto implica, que si hay un vendedor que vende en más de un rubro, tiene la etiqueta de Modelo en todos los rubros."
   ]
  },
  {
   "cell_type": "markdown",
   "metadata": {},
   "source": [
    "### `Omega` y `Modelo`"
   ]
  },
  {
   "cell_type": "markdown",
   "metadata": {},
   "source": [
    "En primer lugar, verificar si a cada ID único se le asigna un único valor de Omega (no debería pasar)"
   ]
  },
  {
   "cell_type": "code",
   "execution_count": null,
   "metadata": {},
   "outputs": [],
   "source": [
    "# Verificar si existen diferentes valores de Omega para un mismo ID\n",
    "conteo_omega = vendedores.groupby('ID')['Omega'].nunique().copy()\n",
    "\n",
    "# Filtrar los IDs con diferentes valores de Omega\n",
    "ids_con_diferentes_omegas = conteo_omega[conteo_omega > 1]\n",
    "\n",
    "if ids_con_diferentes_omegas.empty:\n",
    "    print(\"Para cada ID solo existe un valor de omega.\")\n",
    "else:\n",
    "    print(\"Para algunos IDs se asignan diferentes valores de omega:\")\n",
    "    print(ids_con_diferentes_modelos.sort_values(ascending=False))"
   ]
  },
  {
   "cell_type": "code",
   "execution_count": null,
   "metadata": {},
   "outputs": [],
   "source": [
    "modelo_1 = vendedores[vendedores['Modelo'] == 1].drop_duplicates(subset=['ID']).copy()\n",
    "vendedores_1 = vendedores.drop_duplicates(subset='ID').copy()\n",
    "\n",
    "porcentaje_modelo_1 = modelo_1.groupby('Omega')['Modelo'].count() / vendedores_1.groupby('Omega')['Modelo'].count() * 100\n",
    "\n",
    "# Ordenar los porcentajes de mayor a menor\n",
    "porcentaje_modelo_1_sorted = porcentaje_modelo_1.sort_values(ascending=True)\n",
    "\n",
    "plt.barh(porcentaje_modelo_1_sorted.index, porcentaje_modelo_1_sorted.values)\n",
    "plt.xlabel('Porcentaje de Modelo = 1')\n",
    "plt.ylabel('Omega')\n",
    "plt.title('Porcentaje de modelos según Omega')\n",
    "\n",
    "promedio_global = vendedores_1[vendedores_1['Modelo'] == 1].shape[0] / vendedores_1.shape[0] * 100\n",
    "plt.axvline(promedio_global, color='red', linestyle='--', label=f'Promedio Global: {promedio_global:.2f}%')\n",
    "plt.legend()\n",
    "\n",
    "for i, value in enumerate(porcentaje_modelo_1_sorted.values):\n",
    "    plt.annotate(f'{value:.1f}%', (value, porcentaje_modelo_1_sorted.index[i]), ha='left', va='center')\n",
    "\n",
    "plt.show()"
   ]
  },
  {
   "cell_type": "markdown",
   "metadata": {},
   "source": [
    "### `Subrubro` y `Modelo`"
   ]
  },
  {
   "cell_type": "code",
   "execution_count": null,
   "metadata": {},
   "outputs": [],
   "source": [
    "# Verificar si existen diferentes valores de Subrubro para un mismo ID\n",
    "conteo_subrubro = vendedores.groupby('ID')['Subrubro'].nunique().copy()\n",
    "\n",
    "# Filtrar los IDs con diferentes valores de Subrubro\n",
    "ids_con_diferentes_subrubros = conteo_subrubro[conteo_subrubro > 1]\n",
    "\n",
    "if ids_con_diferentes_subrubros.empty:\n",
    "    print(\"Para cada ID solo existe un valor de subrubro.\")\n",
    "else:\n",
    "    print(\"Para algunos IDs se asignan diferentes valores de subrubro:\")\n",
    "    print(ids_con_diferentes_subrubros.sort_values(ascending=False))"
   ]
  },
  {
   "cell_type": "markdown",
   "metadata": {},
   "source": [
    "En secciones previas se probó que si un ID era Modelo en un rubro, también lo era en todos."
   ]
  },
  {
   "cell_type": "code",
   "execution_count": null,
   "metadata": {},
   "outputs": [],
   "source": [
    "modelo_1 = vendedores[vendedores['Modelo'] == 1].drop_duplicates(subset=['ID','Subrubro']).copy()\n",
    "vendedores_1 = vendedores.drop_duplicates(subset='ID').copy()\n",
    "\n",
    "porcentaje_modelo_1 = modelo_1.groupby('Subrubro')['Modelo'].count() / vendedores_1.groupby('Subrubro')['Modelo'].count() * 100\n",
    "\n",
    "# Ordenar los porcentajes de mayor a menor\n",
    "porcentaje_modelo_1_sorted = porcentaje_modelo_1.sort_values(ascending=True)\n",
    "\n",
    "plt.barh(porcentaje_modelo_1_sorted.index, porcentaje_modelo_1_sorted.values)\n",
    "plt.xlabel('Porcentaje de Modelo = 1')\n",
    "plt.ylabel('Subrubro')\n",
    "plt.title('Porcentaje de modelos según Subrubro')\n",
    "\n",
    "promedio_global = vendedores_1[vendedores_1['Modelo'] == 1].shape[0] / vendedores_1.shape[0] * 100\n",
    "plt.axvline(promedio_global, color='red', linestyle='--', label=f'Promedio Global: {promedio_global:.2f}%')\n",
    "plt.legend()\n",
    "\n",
    "for i, value in enumerate(porcentaje_modelo_1_sorted.values):\n",
    "    plt.annotate(f'{value:.1f}%', (value, porcentaje_modelo_1_sorted.index[i]), ha='left', va='center')\n",
    "\n",
    "plt.show()"
   ]
  },
  {
   "cell_type": "markdown",
   "metadata": {},
   "source": [
    "### `Trat_Fisc_Agg` y `Modelo`"
   ]
  },
  {
   "cell_type": "markdown",
   "metadata": {},
   "source": [
    "De qué depende el tratamiento fiscal? del cliente? Del vendedor? Del rubro? de cada venta? (definir bien, xq en base a eso hay q eliminar duplicados)"
   ]
  },
  {
   "cell_type": "code",
   "execution_count": null,
   "metadata": {},
   "outputs": [],
   "source": [
    "modelo_1 = vendedores[vendedores['Modelo'] == 1].copy()\n",
    "vendedores_1 = vendedores.copy()\n",
    "\n",
    "porcentaje_modelo_1 = modelo_1.fillna('Vacío')['Trat_Fisc_Agg'].value_counts() / vendedores_1.fillna('Vacío')['Trat_Fisc_Agg'].value_counts() * 100\n",
    "\n",
    "# Ordenar los porcentajes de mayor a menor\n",
    "porcentaje_modelo_1_sorted = porcentaje_modelo_1.sort_values(ascending=True)\n",
    "\n",
    "plt.barh(porcentaje_modelo_1_sorted.index, porcentaje_modelo_1_sorted.values)\n",
    "plt.xlabel('Porcentaje de Modelo = 1')\n",
    "plt.ylabel('Trat_Fisc_Agg')\n",
    "plt.title('Porcentaje de modelos según Trat_Fisc_Agg')\n",
    "\n",
    "promedio_global = vendedores_1[vendedores_1['Modelo'] == 1].shape[0] / vendedores_1.shape[0] * 100\n",
    "plt.axvline(promedio_global, color='red', linestyle='--', label=f'Promedio Global: {promedio_global:.2f}%')\n",
    "plt.legend()\n",
    "\n",
    "for i, value in enumerate(porcentaje_modelo_1_sorted.values):\n",
    "    plt.annotate(f'{value:.1f}%', (value, porcentaje_modelo_1_sorted.index[i]), ha='left', va='center')\n",
    "\n",
    "plt.show()"
   ]
  },
  {
   "cell_type": "markdown",
   "metadata": {},
   "source": [
    "### `Trat_Fisc` y `Modelo`"
   ]
  },
  {
   "cell_type": "code",
   "execution_count": null,
   "metadata": {},
   "outputs": [],
   "source": [
    "modelo_1 = vendedores[vendedores['Modelo'] == 1].copy()\n",
    "vendedores_1 = vendedores.copy()\n",
    "\n",
    "porcentaje_modelo_1 = modelo_1.fillna('Vacío')['Trat_Fisc'].value_counts() / vendedores_1.fillna('Vacío')['Trat_Fisc'].value_counts() * 100\n",
    "\n",
    "# Ordenar los porcentajes de mayor a menor\n",
    "porcentaje_modelo_1_sorted = porcentaje_modelo_1.sort_values(ascending=True)\n",
    "\n",
    "plt.barh(porcentaje_modelo_1_sorted.index, porcentaje_modelo_1_sorted.values)\n",
    "plt.xlabel('Porcentaje de Modelo = 1')\n",
    "plt.ylabel('Trat_Fisc')\n",
    "plt.title('Porcentaje de modelos según Trat_Fisc')\n",
    "\n",
    "promedio_global = vendedores_1[vendedores_1['Modelo'] == 1].shape[0] / vendedores_1.shape[0] * 100\n",
    "plt.axvline(promedio_global, color='red', linestyle='--', label=f'Promedio Global: {promedio_global:.2f}%')\n",
    "plt.legend()\n",
    "\n",
    "for i, value in enumerate(porcentaje_modelo_1_sorted.values):\n",
    "    plt.annotate(f'{value:.1f}%', (value, porcentaje_modelo_1_sorted.index[i]), ha='left', va='center')\n",
    "\n",
    "plt.show()"
   ]
  },
  {
   "cell_type": "markdown",
   "metadata": {},
   "source": [
    "Qué pasa con las demás categorías? No tienen modelo? Estaría bueno q las muestre con 0 aunq sea"
   ]
  },
  {
   "cell_type": "markdown",
   "metadata": {},
   "source": [
    "### `Trat_Dif` y `Modelo`"
   ]
  },
  {
   "cell_type": "code",
   "execution_count": null,
   "metadata": {},
   "outputs": [],
   "source": [
    "modelo_1 = vendedores[vendedores['Modelo'] == 1].copy()\n",
    "vendedores_1 = vendedores.copy()\n",
    "\n",
    "porcentaje_modelo_1 = modelo_1.fillna('Vacío')['Trat_Dif'].value_counts() / vendedores_1.fillna('Vacío')['Trat_Dif'].value_counts() * 100\n",
    "\n",
    "# Ordenar los porcentajes de mayor a menor\n",
    "porcentaje_modelo_1_sorted = porcentaje_modelo_1.sort_values(ascending=True)\n",
    "\n",
    "plt.barh(porcentaje_modelo_1_sorted.index, porcentaje_modelo_1_sorted.values)\n",
    "plt.xlabel('Porcentaje de Modelo = 1')\n",
    "plt.ylabel('Trat_Dif')\n",
    "plt.title('Porcentaje de modelos según Trat_Dif')\n",
    "\n",
    "promedio_global = vendedores_1[vendedores_1['Modelo'] == 1].shape[0] / vendedores_1.shape[0] * 100\n",
    "plt.axvline(promedio_global, color='red', linestyle='--', label=f'Promedio Global: {promedio_global:.2f}%')\n",
    "plt.legend()\n",
    "\n",
    "for i, value in enumerate(porcentaje_modelo_1_sorted.values):\n",
    "    plt.annotate(f'{value:.1f}%', (value, porcentaje_modelo_1_sorted.index[i]), ha='left', va='center')\n",
    "\n",
    "plt.show()"
   ]
  },
  {
   "cell_type": "markdown",
   "metadata": {},
   "source": [
    "### `CM` y `Modelo`"
   ]
  },
  {
   "cell_type": "code",
   "execution_count": null,
   "metadata": {},
   "outputs": [],
   "source": [
    "# Verificar si existen diferentes valores de CM para un mismo ID\n",
    "conteo_CM = vendedores.groupby('ID')['CM'].nunique().copy()\n",
    "\n",
    "# Filtrar los IDs con diferentes valores de CM\n",
    "ids_con_diferentes_CM = conteo_CM[conteo_CM > 1]\n",
    "\n",
    "if ids_con_diferentes_CM.empty:\n",
    "    print(\"Para cada ID solo existe un valor de CM.\")\n",
    "else:\n",
    "    print(\"Para algunos IDs se asignan diferentes valores de CM:\")\n",
    "    print(ids_con_diferentes_CM.sort_values(ascending=False))"
   ]
  },
  {
   "cell_type": "code",
   "execution_count": null,
   "metadata": {},
   "outputs": [],
   "source": [
    "casos_unicos_cm_1 = vendedores[vendedores['CM'] == 1]['ID'].nunique()\n",
    "print(\"Número de casos únicos de ID para CM = 1:\", casos_unicos_cm_1)"
   ]
  },
  {
   "cell_type": "code",
   "execution_count": null,
   "metadata": {},
   "outputs": [],
   "source": [
    "modelo_1 = vendedores[vendedores['Modelo'] == 1].drop_duplicates(subset=['ID']).copy()\n",
    "vendedores_1 = vendedores.drop_duplicates(subset='ID').copy()\n",
    "\n",
    "porcentaje_modelo_1 = modelo_1.fillna('Vacío').groupby('CM')['Modelo'].count() / vendedores_1.fillna('Vacío').groupby('CM')['Modelo'].count() * 100\n",
    "\n",
    "# Ordenar los porcentajes de mayor a menor\n",
    "porcentaje_modelo_1_sorted = porcentaje_modelo_1.sort_values(ascending=True)\n",
    "\n",
    "plt.barh(porcentaje_modelo_1_sorted.index, porcentaje_modelo_1_sorted.values)\n",
    "plt.xlabel('Porcentaje de Modelo = 1')\n",
    "plt.ylabel('CM')\n",
    "plt.title('Porcentaje de modelos según CM')\n",
    "\n",
    "promedio_global = vendedores_1[vendedores_1['Modelo'] == 1].shape[0] / vendedores_1.shape[0] * 100\n",
    "plt.axvline(promedio_global, color='red', linestyle='--', label=f'Promedio Global: {promedio_global:.2f}%')\n",
    "plt.legend()\n",
    "\n",
    "for i, value in enumerate(porcentaje_modelo_1_sorted.values):\n",
    "    plt.annotate(f'{value:.1f}%', (value, porcentaje_modelo_1_sorted.index[i]), ha='left', va='center')\n",
    "\n",
    "plt.show()"
   ]
  }
 ],
 "metadata": {
  "kernelspec": {
   "display_name": "diplodatos",
   "language": "python",
   "name": "python3"
  },
  "language_info": {
   "codemirror_mode": {
    "name": "ipython",
    "version": 3
   },
   "file_extension": ".py",
   "mimetype": "text/x-python",
   "name": "python",
   "nbconvert_exporter": "python",
   "pygments_lexer": "ipython3",
   "version": "3.11.4"
  },
  "orig_nbformat": 4
 },
 "nbformat": 4,
 "nbformat_minor": 2
}
