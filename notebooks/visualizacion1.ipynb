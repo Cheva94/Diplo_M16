{
  "cells": [
    {
      "attachments": {},
      "cell_type": "markdown",
      "metadata": {},
      "source": [
        "# Diplomatura en ciencia de datos, aprendizaje automático y sus aplicaciones - Edición 2023 - FAMAF (UNC)"
      ]
    },
    {
      "attachments": {},
      "cell_type": "markdown",
      "metadata": {},
      "source": [
        "## Mentoría 16 - ¿Cómo identificar fuga de ventas? Inteligencia artificial aplicada al sector comercial.\n",
        "\n",
        "### Análisis y visualización de datos (TP1 - Parte 1: Exploración inicial)\n",
        "\n",
        "**Integrantes:**\n",
        "- Canalis, Patricio.\n",
        "- Chevallier-Boutell, Ignacio José.\n",
        "- Villarroel Torrez, Daniel.\n",
        "\n",
        "**Mentores:**\n",
        "- Gonzalez, Lucía\n",
        "- Lahoz, Nahuel\n",
        "\n",
        "---"
      ]
    },
    {
      "attachments": {},
      "cell_type": "markdown",
      "metadata": {},
      "source": [
        "## Librerías"
      ]
    },
    {
      "cell_type": "code",
      "execution_count": null,
      "metadata": {},
      "outputs": [],
      "source": [
        "import numpy as np\n",
        "import pandas as pd\n",
        "import missingno as msno\n",
        "import matplotlib.pyplot as plt\n",
        "\n",
        "import json"
      ]
    },
    {
      "attachments": {},
      "cell_type": "markdown",
      "metadata": {},
      "source": [
        "## Dataset"
      ]
    },
    {
      "cell_type": "code",
      "execution_count": null,
      "metadata": {},
      "outputs": [],
      "source": [
        "path = '../data/raw/tp1_muestra_diplodatos_ventas_2023.csv'\n",
        "ventas = pd.read_csv(path)"
      ]
    },
    {
      "cell_type": "code",
      "execution_count": null,
      "metadata": {},
      "outputs": [],
      "source": [
        "print('Las columnas que arrojan el warning son:')\n",
        "for col in [10, 11, 13]:\n",
        "    print(f'\\t{ventas.columns[col]}')"
      ]
    },
    {
      "attachments": {},
      "cell_type": "markdown",
      "metadata": {},
      "source": [
        "---\n",
        "# Variables"
      ]
    },
    {
      "attachments": {},
      "cell_type": "markdown",
      "metadata": {},
      "source": [
        "### Tamaño, nombres y tipo"
      ]
    },
    {
      "cell_type": "code",
      "execution_count": null,
      "metadata": {},
      "outputs": [],
      "source": [
        "print(f'Hay un total de {ventas.shape[0]} registros y un total de {ventas.shape[1]} variables:')\n",
        "tipo_rev = ['string', 'entero', 'entero', 'entero', 'string', 'entero', \n",
        "            'string', 'flotante', 'flotante', 'flotante', 'string', 'string', \n",
        "            'string', 'string', 'string', 'string', 'string', 'entero', 'entero']\n",
        "\n",
        "vartype = pd.DataFrame({'Variable': ventas.columns, \n",
        "                        'Tipo según Pandas': ventas.dtypes, \n",
        "                        'Tipo revisado': tipo_rev}).set_index('Variable').sort_values('Tipo revisado')\n",
        "vartype"
      ]
    },
    {
      "attachments": {},
      "cell_type": "markdown",
      "metadata": {},
      "source": [
        "### Sneak peek"
      ]
    },
    {
      "cell_type": "code",
      "execution_count": null,
      "metadata": {},
      "outputs": [],
      "source": [
        "print('Todos los que son \"object\" en realidad son \"str\".')\n",
        "display(ventas[:5])"
      ]
    },
    {
      "attachments": {},
      "cell_type": "markdown",
      "metadata": {},
      "source": [
        "### Datos faltantes"
      ]
    },
    {
      "cell_type": "code",
      "execution_count": null,
      "metadata": {},
      "outputs": [],
      "source": [
        "msno.bar(ventas.sort_values('ID_VENDEDOR'), sort=\"ascending\", fontsize=12, color=\"tab:green\", figsize=(6, 5))\n",
        "msno.matrix(ventas.sort_values('ID_VENDEDOR'), fontsize=12, color=[0.5,0,0], figsize=(6, 5))\n",
        "msno.heatmap(ventas.sort_values('ID_VENDEDOR'), fontsize=12, figsize=(6, 5))\n",
        "\n",
        "plt.show()"
      ]
    },
    {
      "attachments": {},
      "cell_type": "markdown",
      "metadata": {},
      "source": [
        "### Problemas con tipo de datos"
      ]
    },
    {
      "cell_type": "code",
      "execution_count": null,
      "metadata": {},
      "outputs": [],
      "source": [
        "m = 10\n",
        "print(ventas.columns[m])\n",
        "a = ventas[ventas.columns[m]].value_counts()\n",
        "for k in range(len(a)):\n",
        "    if a[k].dtype != 'int64':\n",
        "        print(a[k].dtype)\n",
        "\n",
        "print('Si no hay nada impreso, es porque todas las variables son del tipo int64.')"
      ]
    },
    {
      "cell_type": "code",
      "execution_count": null,
      "metadata": {},
      "outputs": [],
      "source": [
        "m = 11\n",
        "print(ventas.columns[m])\n",
        "a = ventas[ventas.columns[m]].value_counts()\n",
        "for k in range(len(a)):\n",
        "    if a[k].dtype != 'int64':\n",
        "        print(a[k].dtype)\n",
        "\n",
        "print('Si no hay nada impreso, es porque todas las variables son del tipo int64.')"
      ]
    },
    {
      "cell_type": "code",
      "execution_count": null,
      "metadata": {},
      "outputs": [],
      "source": [
        "m = 13\n",
        "print(ventas.columns[m])\n",
        "a = ventas[ventas.columns[m]].value_counts()\n",
        "for k in range(len(a)):\n",
        "    if a[k].dtype != 'int64':\n",
        "        print(a[k].dtype)\n",
        "\n",
        "print('Si no hay nada impreso, es porque todas las variables son del tipo int64.')"
      ]
    },
    {
      "attachments": {},
      "cell_type": "markdown",
      "metadata": {},
      "source": [
        "### Cardinalidad: valores únicos"
      ]
    },
    {
      "cell_type": "code",
      "execution_count": null,
      "metadata": {},
      "outputs": [],
      "source": [
        "m = 0\n",
        "a = 100*ventas[ventas.columns[m]].value_counts(normalize=True).iloc[:10]\n",
        "print(a)\n",
        "print(f'\\nContribución porcentual de los 10 casos mayoritarios: {np.sum(a):.2f} %')\n",
        "print(f'Cardinalidad: {ventas[ventas.columns[m]].nunique()}')"
      ]
    },
    {
      "cell_type": "code",
      "execution_count": null,
      "metadata": {},
      "outputs": [],
      "source": [
        "m = 1\n",
        "a = 100*ventas[ventas.columns[m]].value_counts(normalize=True).iloc[:10]\n",
        "print(a)\n",
        "print(f'\\nContribución porcentual de los 10 casos mayoritarios: {np.sum(a):.2f} %')\n",
        "print(f'Cardinalidad: {ventas[ventas.columns[m]].nunique()}')"
      ]
    },
    {
      "cell_type": "code",
      "execution_count": null,
      "metadata": {},
      "outputs": [],
      "source": [
        "m = 2\n",
        "a = 100*ventas[ventas.columns[m]].value_counts(normalize=True).iloc[:10]\n",
        "print(a)\n",
        "print(f'\\nContribución porcentual de los 10 casos mayoritarios: {np.sum(a):.2f} %')\n",
        "print(f'Cardinalidad: {ventas[ventas.columns[m]].nunique()}')"
      ]
    },
    {
      "cell_type": "code",
      "execution_count": null,
      "metadata": {},
      "outputs": [],
      "source": [
        "m = 3\n",
        "a = 100*ventas[ventas.columns[m]].value_counts(normalize=True).iloc[:10]\n",
        "print(a)\n",
        "print(f'\\nContribución porcentual de los 10 casos mayoritarios: {np.sum(a):.2f} %')\n",
        "print(f'Cardinalidad: {ventas[ventas.columns[m]].nunique()}')"
      ]
    },
    {
      "cell_type": "code",
      "execution_count": null,
      "metadata": {},
      "outputs": [],
      "source": [
        "m = 4\n",
        "a = 100*ventas[ventas.columns[m]].value_counts(normalize=True).iloc[:10]\n",
        "print(a)\n",
        "print(f'\\nContribución porcentual de los 10 casos mayoritarios: {np.sum(a):.2f} %')\n",
        "print(f'Cardinalidad: {ventas[ventas.columns[m]].nunique()}')"
      ]
    },
    {
      "cell_type": "code",
      "execution_count": null,
      "metadata": {},
      "outputs": [],
      "source": [
        "m = 5\n",
        "a = 100*ventas[ventas.columns[m]].value_counts(normalize=True).iloc[:10]\n",
        "print(a)\n",
        "print(f'\\nContribución porcentual de los 10 casos mayoritarios: {np.sum(a):.2f} %')\n",
        "print(f'Cardinalidad: {ventas[ventas.columns[m]].nunique()}')"
      ]
    },
    {
      "cell_type": "code",
      "execution_count": null,
      "metadata": {},
      "outputs": [],
      "source": [
        "m = 6\n",
        "a = 100*ventas[ventas.columns[m]].value_counts(normalize=True).iloc[:10]\n",
        "print(a)\n",
        "print(f'\\nContribución porcentual de los 10 casos mayoritarios: {np.sum(a):.2f} %')\n",
        "print(f'Cardinalidad: {ventas[ventas.columns[m]].nunique()}')"
      ]
    },
    {
      "cell_type": "code",
      "execution_count": null,
      "metadata": {},
      "outputs": [],
      "source": [
        "m = 7\n",
        "a = 100*ventas[ventas.columns[m]].value_counts(normalize=True).iloc[:10]\n",
        "print(a)\n",
        "print(f'\\nContribución porcentual de los 10 casos mayoritarios: {np.sum(a):.2f} %')\n",
        "print(f'Cardinalidad: {ventas[ventas.columns[m]].nunique()}')"
      ]
    },
    {
      "cell_type": "code",
      "execution_count": null,
      "metadata": {},
      "outputs": [],
      "source": [
        "m = 8\n",
        "a = 100*ventas[ventas.columns[m]].value_counts(normalize=True).iloc[:10]\n",
        "print(a)\n",
        "print(f'\\nContribución porcentual de los 10 casos mayoritarios: {np.sum(a):.2f} %')\n",
        "print(f'Cardinalidad: {ventas[ventas.columns[m]].nunique()}')"
      ]
    },
    {
      "cell_type": "code",
      "execution_count": null,
      "metadata": {},
      "outputs": [],
      "source": [
        "m = 9\n",
        "a = 100*ventas[ventas.columns[m]].value_counts(normalize=True).iloc[:10]\n",
        "print(a)\n",
        "print(f'\\nContribución porcentual de los 10 casos mayoritarios: {np.sum(a):.2f} %')\n",
        "print(f'Cardinalidad: {ventas[ventas.columns[m]].nunique()}')"
      ]
    },
    {
      "cell_type": "code",
      "execution_count": null,
      "metadata": {},
      "outputs": [],
      "source": [
        "m = 10\n",
        "a = 100*ventas[ventas.columns[m]].value_counts(normalize=True).iloc[:10]\n",
        "print(a)\n",
        "print(f'\\nContribución porcentual de los 10 casos mayoritarios: {np.sum(a):.2f} %')\n",
        "print(f'Cardinalidad: {ventas[ventas.columns[m]].nunique()}')"
      ]
    },
    {
      "cell_type": "code",
      "execution_count": null,
      "metadata": {},
      "outputs": [],
      "source": [
        "m = 11\n",
        "a = 100*ventas[ventas.columns[m]].value_counts(normalize=True).iloc[:10]\n",
        "print(a)\n",
        "print(f'\\nContribución porcentual de los 10 casos mayoritarios: {np.sum(a):.2f} %')\n",
        "print(f'Cardinalidad: {ventas[ventas.columns[m]].nunique()}')"
      ]
    },
    {
      "cell_type": "code",
      "execution_count": null,
      "metadata": {},
      "outputs": [],
      "source": [
        "m = 12\n",
        "a = 100*ventas[ventas.columns[m]].value_counts(normalize=True).iloc[:10]\n",
        "print(a)\n",
        "print(f'\\nContribución porcentual de los 10 casos mayoritarios: {np.sum(a):.2f} %')\n",
        "print(f'Cardinalidad: {ventas[ventas.columns[m]].nunique()}')"
      ]
    },
    {
      "cell_type": "code",
      "execution_count": null,
      "metadata": {},
      "outputs": [],
      "source": [
        "m = 13\n",
        "a = 100*ventas[ventas.columns[m]].value_counts(normalize=True).iloc[:10]\n",
        "print(a)\n",
        "print(f'\\nContribución porcentual de los 10 casos mayoritarios: {np.sum(a):.2f} %')\n",
        "print(f'Cardinalidad: {ventas[ventas.columns[m]].nunique()}')"
      ]
    },
    {
      "cell_type": "code",
      "execution_count": null,
      "metadata": {},
      "outputs": [],
      "source": [
        "m = 14\n",
        "a = 100*ventas[ventas.columns[m]].value_counts(normalize=True).iloc[:10]\n",
        "print(a)\n",
        "print(f'\\nContribución porcentual de los 10 casos mayoritarios: {np.sum(a):.2f} %')\n",
        "print(f'Cardinalidad: {ventas[ventas.columns[m]].nunique()}')"
      ]
    },
    {
      "cell_type": "code",
      "execution_count": null,
      "metadata": {},
      "outputs": [],
      "source": [
        "m = 15\n",
        "a = 100*ventas[ventas.columns[m]].value_counts(normalize=True).iloc[:10]\n",
        "print(a)\n",
        "print(f'\\nContribución porcentual de los 10 casos mayoritarios: {np.sum(a):.2f} %')\n",
        "print(f'Cardinalidad: {ventas[ventas.columns[m]].nunique()}')"
      ]
    },
    {
      "cell_type": "code",
      "execution_count": null,
      "metadata": {},
      "outputs": [],
      "source": [
        "m = 16\n",
        "a = 100*ventas[ventas.columns[m]].value_counts(normalize=True).iloc[:10]\n",
        "print(a)\n",
        "print(f'\\nContribución porcentual de los 10 casos mayoritarios: {np.sum(a):.2f} %')\n",
        "print(f'Cardinalidad: {ventas[ventas.columns[m]].nunique()}')"
      ]
    },
    {
      "cell_type": "code",
      "execution_count": null,
      "metadata": {},
      "outputs": [],
      "source": [
        "m = 17\n",
        "a = 100*ventas[ventas.columns[m]].value_counts(normalize=True).iloc[:10]\n",
        "print(a)\n",
        "print(f'\\nContribución porcentual de los 10 casos mayoritarios: {np.sum(a):.2f} %')\n",
        "print(f'Cardinalidad: {ventas[ventas.columns[m]].nunique()}')"
      ]
    },
    {
      "cell_type": "code",
      "execution_count": null,
      "metadata": {},
      "outputs": [],
      "source": [
        "m = 18\n",
        "a = 100*ventas[ventas.columns[m]].value_counts(normalize=True).iloc[:10]\n",
        "print(a)\n",
        "print(f'\\nContribución porcentual de los 10 casos mayoritarios: {np.sum(a):.2f} %')\n",
        "print(f'Cardinalidad: {ventas[ventas.columns[m]].nunique()}')"
      ]
    },
    {
      "attachments": {},
      "cell_type": "markdown",
      "metadata": {},
      "source": [
        "### Descarte de columnas/variables"
      ]
    },
    {
      "cell_type": "code",
      "execution_count": null,
      "metadata": {},
      "outputs": [],
      "source": [
        "ventas_clean = ventas.drop(['NOMBRE', 'CATEGORIA', 'OMEGA',\n",
        "                        'CATEGORIA (Ajustado)', 'DESCRIPCION_CATEGORIA'], axis=1).copy()\n",
        "ventas_clean.shape"
      ]
    },
    {
      "attachments": {},
      "cell_type": "markdown",
      "metadata": {},
      "source": [
        "### Imputación de valores faltantes: `CM04` y `TRATAMIENTO_DIFERNCIAL`"
      ]
    },
    {
      "cell_type": "code",
      "execution_count": null,
      "metadata": {},
      "outputs": [],
      "source": [
        "ventas_clean['CM04'] = ventas_clean['CM04'].fillna('No')\n",
        "ventas_clean['TRATAMIENTO_DIFERNCIAL'] = ventas_clean['TRATAMIENTO_DIFERNCIAL'].fillna('No')"
      ]
    },
    {
      "cell_type": "code",
      "execution_count": null,
      "metadata": {},
      "outputs": [],
      "source": [
        "msno.bar(ventas_clean.sort_values('ID_VENDEDOR'), sort=\"ascending\", fontsize=12, color=\"tab:green\", figsize=(6, 5))\n",
        "msno.matrix(ventas_clean.sort_values('ID_VENDEDOR'), fontsize=12, color=[0.5,0,0], figsize=(6, 5))\n",
        "msno.heatmap(ventas_clean.sort_values('ID_VENDEDOR'), fontsize=12, figsize=(6, 5))\n",
        "\n",
        "plt.show()"
      ]
    },
    {
      "attachments": {},
      "cell_type": "markdown",
      "metadata": {},
      "source": [
        "---\n",
        "# Simplificación"
      ]
    },
    {
      "attachments": {},
      "cell_type": "markdown",
      "metadata": {},
      "source": [
        "### Simplificación de variables"
      ]
    },
    {
      "cell_type": "code",
      "execution_count": null,
      "metadata": {},
      "outputs": [],
      "source": [
        "# Se reacomodan las columnas deliberadamente\n",
        "ventas_clean = ventas_clean[['ID_VENDEDOR', 'INSCRIPCION', 'SUB-CATEGORIA', \n",
        "                             'DESC_TRATAMIENTO_FISCAL', 'TRATAMIENTO_FISCAL',\n",
        "                             'TRATAMIENTO_DIFERNCIAL', 'CM04', 'AÑO', 'MES', \n",
        "                             'DEPOSITO', 'TOTAL_VENTAS', \n",
        "                             'PORCENTAJE_COMISION_EMPRESA', \n",
        "                             'COMISION_EMPRESA', 'MODELO']]\n",
        "ventas_clean = ventas_clean.sort_values(['AÑO', 'MES', 'TOTAL_VENTAS']).reset_index(drop=True)"
      ]
    },
    {
      "attachments": {},
      "cell_type": "markdown",
      "metadata": {},
      "source": [
        "Ejecutar sólo para escribir el diccionario. \n",
        "No debería ser necesario porque ya lo tenemos como json por fuera, pero queda para registro."
      ]
    },
    {
      "cell_type": "code",
      "execution_count": null,
      "metadata": {},
      "outputs": [],
      "source": [
        "# Se modifican los nombres de las columnas\n",
        "\n",
        "# column_dict = {'ID_VENDEDOR': 'ID', \n",
        "#                 'INSCRIPCION': 'Inscripcion', \n",
        "#                 'SUB-CATEGORIA': 'Categoria', \n",
        "#                 'DESC_TRATAMIENTO_FISCAL': 'Trat_Fisc_Agg', \n",
        "#                 'TRATAMIENTO_FISCAL': 'Trat_Fisc', \n",
        "#                 'TRATAMIENTO_DIFERNCIAL': 'Trat_Dif', \n",
        "#                 'CM04': 'CM', \n",
        "#                 'AÑO': 'Año', \n",
        "#                 'MES': 'Mes', \n",
        "#                 'DEPOSITO': 'Deposito', \n",
        "#                 'TOTAL_VENTAS': 'Ventas', \n",
        "#                 'PORCENTAJE_COMISION_EMPRESA': 'Alicuota', \n",
        "#                 'COMISION_EMPRESA': 'Comision', \n",
        "#                 'MODELO': 'Modelo'}\n",
        "\n",
        "# with open(\"../references/column_dict.json\", \"w\") as fp:\n",
        "#     json.dump(column_dict , fp) \n",
        "\n"
      ]
    },
    {
      "attachments": {},
      "cell_type": "markdown",
      "metadata": {},
      "source": [
        "Renombramos las columnas para mayor legibilidad"
      ]
    },
    {
      "cell_type": "code",
      "execution_count": null,
      "metadata": {},
      "outputs": [],
      "source": [
        "with open(\"../references/column_dict.json\") as column_dict_json:\n",
        "    column_dict = json.load(column_dict_json)\n",
        "\n",
        "ventas_clean.rename(columns = column_dict, inplace = True)\n",
        "ventas_clean.columns"
      ]
    },
    {
      "attachments": {},
      "cell_type": "markdown",
      "metadata": {},
      "source": [
        "### Simplificación de valores"
      ]
    },
    {
      "cell_type": "code",
      "execution_count": null,
      "metadata": {},
      "outputs": [],
      "source": [
        "ven_cln_map = ventas_clean.copy()"
      ]
    },
    {
      "attachments": {},
      "cell_type": "markdown",
      "metadata": {},
      "source": [
        "#### Mapeos de string/entero a otros enteros: generación de variables indicadoras"
      ]
    },
    {
      "cell_type": "code",
      "execution_count": null,
      "metadata": {},
      "outputs": [],
      "source": [
        "# Mapeo de `ID`, `Inscripcion` y `Deposito` a enteros según cardinalidad\n",
        "for col in ['Deposito', 'ID', 'Inscripcion']:\n",
        "    print(f'Actualizando variable {col}')\n",
        "    valunico = ven_cln_map[col].unique()\n",
        "    porc10 = int(0.1 * len(valunico))\n",
        "    prog = 0\n",
        "    for v in range(len(valunico)):\n",
        "        ven_cln_map[col] = ven_cln_map[col].replace({valunico[v]: v})\n",
        "        if v % porc10 == 0:\n",
        "            print(f'\\t Progreso del {prog}%')\n",
        "            prog += 10"
      ]
    },
    {
      "cell_type": "code",
      "execution_count": null,
      "metadata": {},
      "outputs": [],
      "source": [
        "# Mapeo de `CM` según \"Si\" >> 1 y \"No\" >> 0.\n",
        "ven_cln_map['CM'] = ven_cln_map['CM'].replace({'No': 0, 'Si': 1})\n"
      ]
    },
    {
      "cell_type": "code",
      "execution_count": null,
      "metadata": {},
      "outputs": [],
      "source": [
        "for col in ['Deposito', 'ID', 'Inscripcion']:\n",
        "    print(f'Variable {col}')\n",
        "    print(ven_cln_map[col].unique())"
      ]
    },
    {
      "attachments": {},
      "cell_type": "markdown",
      "metadata": {},
      "source": [
        "#### Unificacón y simplificación de categorías de `Trat_Fisc`"
      ]
    },
    {
      "cell_type": "code",
      "execution_count": null,
      "metadata": {},
      "outputs": [],
      "source": [
        "with open(\"../references/trat_fisc_dict.json\") as trat_fisc_dict_json:\n",
        "    trat_fisc_dict = json.load(trat_fisc_dict_json)\n",
        "    \n",
        "ven_cln_map['Trat_Fisc'] = ven_cln_map['Trat_Fisc'].replace(trat_fisc_dict)"
      ]
    },
    {
      "attachments": {},
      "cell_type": "markdown",
      "metadata": {},
      "source": [
        "#### Simplificación de categorías de `Trat_Fisc_Agg`, `Trat_Dif` y `Categoria`"
      ]
    },
    {
      "cell_type": "code",
      "execution_count": null,
      "metadata": {},
      "outputs": [],
      "source": [
        "with open(\"../references/trat_fisc_agg_dict.json\") as trat_fisc_agg_dict_json:\n",
        "    trat_fisc_agg_dict = json.load(trat_fisc_agg_dict_json)\n",
        "\n",
        "ven_cln_map['Trat_Fisc_Agg'] = ven_cln_map['Trat_Fisc_Agg'].replace(trat_fisc_agg_dict)"
      ]
    },
    {
      "cell_type": "code",
      "execution_count": null,
      "metadata": {},
      "outputs": [],
      "source": [
        "with open(\"../references/trat_diff_dict.json\") as trat_diff_dict_json:\n",
        "    trat_diff_dict = json.load(trat_diff_dict_json)\n",
        "\n",
        "ven_cln_map['Trat_Dif'] = ven_cln_map['Trat_Dif'].replace(trat_diff_dict)"
      ]
    },
    {
      "cell_type": "code",
      "execution_count": null,
      "metadata": {},
      "outputs": [],
      "source": [
        "categoria_dict = {'Acopio de Cereales, Semillas, Fertilizantes, Granos y afines': 'Acopio Agrop.',\n",
        "                'Cigarrillos, tabacos y afines': 'Tabaco',\n",
        "                'Fraccionamiento y distribución de gas licuado': 'Gas Licuado',\n",
        "                'Instalación, Mantenimiento, Reparación, etc de productos varios': 'Mantenimiento',\n",
        "                'Supermercados, Hipermercados, Kioscos y afines': 'Supermercados',\n",
        "                'Venta de Autos, Camionetas, Motos, y Afines': 'Vehiculos',\n",
        "                'Venta de Artículos, productos, accesorios, etc de diversos materiales': 'Misceláneo',\n",
        "                'Venta de Combustibles para reventa (Incluye tmb gas, carbón, leña, etc)': 'Comb. Reventa',\n",
        "                'Venta de Cereales y afines': 'Cerales',\n",
        "                'Venta de Combustibles de Producción Propia (Incluye tmb gas, carbón, leña, etc)': 'Comb. Prod.Propia',\n",
        "                'Venta de Combustibles (Incluye tmb gas, carbón, leña, etc)': 'Comb.',\n",
        "                'Venta de Combustibles Ley 23966 (Incluye tmb gas, carbón, leña, etc)': 'Comb. Ley',\n",
        "                'Venta de Productos Pecuarios, Veterinarios y similares': 'Veterinarios',\n",
        "                'Venta de Productos farmacéuticos, de perfumería, cosméticos y similares': 'Farmacia',\n",
        "                'Venta de Semillas, Fertilizantes, Granos y afines': 'Venta Agrop.',\n",
        "                'Venta de Productos Alimenticios, Bebidas, Lácteos y afines': 'Gondola',\n",
        "                'Venta en Comisión, Consignación o Intermediación de Cereales': 'Com. Cerales',\n",
        "                'Venta en Comisión, Consignación o Intermediación de Productos Varios': 'Com. Varios',\n",
        "                'Venta en Comisión, Consignación o Intermediación de Ganado': 'Com. Ganado',\n",
        "                'Venta no realizada en Establecimientos (si en Puestos móviles)': 'Venta movil',\n",
        "                'Venta por Correo, Internet, tv, etc': 'Comunicacion'}\n",
        "\n",
        "with open(\"../references/categoria_dict.json\", \"w\") as fp:\n",
        "    json.dump(categoria_dict , fp) "
      ]
    },
    {
      "cell_type": "code",
      "execution_count": null,
      "metadata": {},
      "outputs": [],
      "source": [
        "with open(\"../references/categoria_dict.json\") as categoria_dict_json:\n",
        "    categoria_dict = json.load(categoria_dict_json)\n",
        "\n",
        "ven_cln_map['Categoria'] = ven_cln_map['Categoria'].replace(categoria_dict)"
      ]
    },
    {
      "attachments": {},
      "cell_type": "markdown",
      "metadata": {},
      "source": [
        "### Justificación"
      ]
    },
    {
      "cell_type": "code",
      "execution_count": null,
      "metadata": {},
      "outputs": [],
      "source": [
        "fig, axs = plt.subplots(2, 2, figsize=(12, 10))\n",
        "\n",
        "fig.suptitle('Efectos del mapeo de variables')\n",
        "\n",
        "axs[0, 0].scatter(ventas_clean['ID'], ventas_clean['Inscripcion'])\n",
        "axs[0, 1].scatter(ven_cln_map['ID'], ven_cln_map['Inscripcion'])\n",
        "\n",
        "axs[1, 0].scatter(ventas_clean['ID'], ventas_clean['Deposito'])\n",
        "axs[1, 1].scatter(ven_cln_map['ID'], ven_cln_map['Deposito'])\n",
        "\n",
        "axs[0, 0].set_title('Antes')\n",
        "axs[0, 1].set_title('Ahora')\n",
        "\n",
        "axs[0, 0].set_ylabel('Inscripcion')\n",
        "axs[1, 0].set_ylabel('Deposito')\n",
        "axs[1, 0].set_xlabel('ID')\n",
        "axs[1, 1].set_xlabel('ID')\n",
        "\n",
        "plt.show()"
      ]
    },
    {
      "attachments": {},
      "cell_type": "markdown",
      "metadata": {},
      "source": [
        "---\n",
        "# Guardado del dataset"
      ]
    },
    {
      "cell_type": "code",
      "execution_count": null,
      "metadata": {},
      "outputs": [],
      "source": [
        "ven_cln_map.to_csv('../data/interim/tp1_ven_cln_map.csv',index=False)"
      ]
    }
  ],
  "metadata": {
    "colab": {
      "provenance": [],
      "toc_visible": true
    },
    "kernelspec": {
      "display_name": "Python 3",
      "name": "python3"
    },
    "language_info": {
      "codemirror_mode": {
        "name": "ipython",
        "version": 3
      },
      "file_extension": ".py",
      "mimetype": "text/x-python",
      "name": "python",
      "nbconvert_exporter": "python",
      "pygments_lexer": "ipython3",
      "version": "3.10.6"
    }
  },
  "nbformat": 4,
  "nbformat_minor": 0
}
