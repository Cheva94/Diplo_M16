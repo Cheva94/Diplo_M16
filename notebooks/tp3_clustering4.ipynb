{
 "cells": [
  {
   "cell_type": "markdown",
   "metadata": {},
   "source": [
    "# Diplomatura en ciencia de datos, aprendizaje automático y sus aplicaciones - Edición 2023 - FAMAF (UNC)"
   ]
  },
  {
   "cell_type": "markdown",
   "metadata": {},
   "source": [
    "## Mentoría 16 - ¿Cómo identificar fuga de ventas? Inteligencia artificial aplicada al sector comercial.\n",
    "\n",
    "### Explorando Patrones de Datos a través de Clustering (TP3)\n",
    "\n",
    "#### Parte 4: Evaluación de resultados.\n",
    "\n",
    "**Integrantes:**\n",
    "- Canalis, Patricio.\n",
    "- Chevallier-Boutell, Ignacio José.\n",
    "- Villarroel Torrez, Daniel.\n",
    "\n",
    "**Mentores:**\n",
    "- Gonzalez, Lucía\n",
    "- Lahoz, Nahuel"
   ]
  },
  {
   "cell_type": "markdown",
   "metadata": {},
   "source": [
    "---\n",
    "## Librerías"
   ]
  },
  {
   "cell_type": "code",
   "execution_count": 1,
   "metadata": {},
   "outputs": [],
   "source": [
    "import pandas as pd\n",
    "import numpy as np\n",
    "import seaborn as sns\n",
    "\n",
    "# Preferencias\n",
    "pd.set_option('display.max_columns', 150)\n",
    "pd.set_option('display.max_rows',150)\n",
    "sns.set_context('talk')\n",
    "sns.set_theme(style='white')"
   ]
  },
  {
   "cell_type": "markdown",
   "metadata": {},
   "source": [
    "---\n",
    "# Datasets"
   ]
  },
  {
   "cell_type": "markdown",
   "metadata": {},
   "source": [
    "## Carga"
   ]
  },
  {
   "cell_type": "markdown",
   "metadata": {},
   "source": [
    "Los datasets que necesitamos son:\n",
    "* outliers >> información sobre los outliers encontrados en cada subrubro mediante DBSCAN.\n",
    "* sr10 >> dataset pivoteado con los 10 subrubros que quedaron, luego de imputar con KNN y hacer PCA de 12 componentes.\n",
    "* pivot >> dataset pivoteado completo.\n",
    "* orig >> dataset curado, previo al punto 11 (ya normalizados por inflación)."
   ]
  },
  {
   "cell_type": "code",
   "execution_count": 2,
   "metadata": {},
   "outputs": [],
   "source": [
    "outliers = pd.read_csv('../data/interim/tp3_outliers_dbscan.csv')\n",
    "\n",
    "sr10 = pd.read_csv('../data/interim/tp3_sr10_knn5_pca12.csv')\n",
    "\n",
    "pivot = pd.read_csv('../data/interim/tp3_vendedores_vector.csv')\n",
    "pivot = pivot.drop(columns='Omega').copy()\n",
    "\n",
    "orig = pd.read_csv('../data/interim/tp3_ventas_antesdel11.csv')\n",
    "orig = orig.drop(columns='Omega').copy()"
   ]
  },
  {
   "cell_type": "markdown",
   "metadata": {},
   "source": [
    "## Uniformando según subrubros"
   ]
  },
  {
   "cell_type": "markdown",
   "metadata": {},
   "source": [
    "Sabemos que de todos los subrubros, sólo vamos a poder responder a 9 de ellos (descontando `Tabaco`). Estos son:\n",
    "* `Com. Varios`\n",
    "* `Comb.`\n",
    "* `Comb. Ley`\n",
    "* `Farmacia`\n",
    "* `Gondola`\n",
    "* `Miscelaneo`\n",
    "* `Supermercados`\n",
    "* `Vehiculos`\n",
    "* `Venta Agrop.`\n",
    "\n",
    "Vemos primero qué subrubros hay en cada dataset para luego filtrarlos según este criterio."
   ]
  },
  {
   "cell_type": "code",
   "execution_count": 3,
   "metadata": {},
   "outputs": [
    {
     "name": "stdout",
     "output_type": "stream",
     "text": [
      "\n",
      "outliers: 10\n",
      "['Com. Varios' 'Comb.' 'Comb. Ley' 'Farmacia' 'Gondola' 'Miscelaneo'\n",
      " 'Supermercados' 'Tabaco' 'Vehiculos' 'Venta Agrop.']\n",
      "\n",
      "sr10: 10\n",
      "['Com. Varios' 'Comb.' 'Comb. Ley' 'Farmacia' 'Gondola' 'Miscelaneo'\n",
      " 'Supermercados' 'Tabaco' 'Vehiculos' 'Venta Agrop.']\n",
      "\n",
      "pivot: 11\n",
      "['Miscelaneo' 'Gondola' 'Com. Varios' 'Venta Agrop.' 'Supermercados'\n",
      " 'Farmacia' 'Comb.' 'Comb. Ley' 'Vehiculos' 'Tabaco' 'Comb. Reventa']\n",
      "\n",
      "orig: 11\n",
      "['Venta Agrop.' 'Vehiculos' 'Com. Varios' 'Tabaco' 'Gondola' 'Miscelaneo'\n",
      " 'Comb.' 'Comb. Ley' 'Farmacia' 'Supermercados' 'Comb. Reventa']\n"
     ]
    }
   ],
   "source": [
    "print(f'\\noutliers: {len(outliers[\"Subrubro\"].unique())}')\n",
    "print(outliers[\"Subrubro\"].unique())\n",
    "\n",
    "print(f'\\nsr10: {len(sr10[\"Subrubro\"].unique())}')\n",
    "print(sr10[\"Subrubro\"].unique())\n",
    "\n",
    "print(f'\\npivot: {len(pivot[\"Subrubro\"].unique())}')\n",
    "print(pivot[\"Subrubro\"].unique())\n",
    "\n",
    "print(f'\\norig: {len(orig[\"Subrubro\"].unique())}')\n",
    "print(orig[\"Subrubro\"].unique())\n",
    "\n",
    "# Quitamos 'Tabaco'\n",
    "outliers = outliers[outliers[\"Subrubro\"] != 'Tabaco'].copy()\n",
    "sr10 = sr10[sr10[\"Subrubro\"] != 'Tabaco'].copy()\n",
    "pivot = pivot[pivot[\"Subrubro\"] != 'Tabaco'].copy()\n",
    "orig = orig[orig[\"Subrubro\"] != 'Tabaco'].copy()\n",
    "\n",
    "# Quitamos 'Comb. Reventa'\n",
    "pivot = pivot[pivot[\"Subrubro\"] != 'Comb. Reventa'].copy()\n",
    "orig = orig[orig[\"Subrubro\"] != 'Comb. Reventa'].copy()"
   ]
  },
  {
   "cell_type": "markdown",
   "metadata": {},
   "source": [
    "## Uniformando según ID vendedor por subrubro"
   ]
  },
  {
   "cell_type": "markdown",
   "metadata": {},
   "source": [
    "El conjunto de valores para `ID` en el dataset `outliers` ya es un subconjunto de `sr10`. Necesitamos que los datasets `pivot` y `orig` tengan los mismos `ID` que `sr10`. "
   ]
  },
  {
   "cell_type": "code",
   "execution_count": 4,
   "metadata": {},
   "outputs": [
    {
     "name": "stdout",
     "output_type": "stream",
     "text": [
      "\n",
      "sr10: 2324\n",
      "\n",
      "pivot: 2799\n",
      "\n",
      "orig: 3137\n"
     ]
    }
   ],
   "source": [
    "print(f'\\nsr10: {len(sr10[\"ID\"].unique())}')\n",
    "print(f'\\npivot: {len(pivot[\"ID\"].unique())}')\n",
    "print(f'\\norig: {len(orig[\"ID\"].unique())}')\n",
    "\n",
    "id_sr10 = sr10[\"ID\"].sort_values().unique()\n",
    "id_pivot = pivot[\"ID\"].sort_values().unique()\n",
    "id_orig = orig[\"ID\"].sort_values().unique()\n",
    "\n",
    "drop_id_orig = []\n",
    "for id in id_orig:\n",
    "    if id not in id_sr10:\n",
    "        drop_id_orig.append(id)\n",
    "    \n",
    "drop_id_orig = np.array(drop_id_orig)\n",
    "\n",
    "drop_id_pivot = []\n",
    "for id in id_pivot:\n",
    "    if id not in id_sr10:\n",
    "        drop_id_pivot.append(id)\n",
    "    \n",
    "drop_id_pivot = np.array(drop_id_pivot)"
   ]
  },
  {
   "cell_type": "code",
   "execution_count": 5,
   "metadata": {},
   "outputs": [
    {
     "name": "stdout",
     "output_type": "stream",
     "text": [
      "\n",
      "pivot: 2324\n",
      "\n",
      "orig: 2324\n"
     ]
    }
   ],
   "source": [
    "for id in drop_id_pivot:\n",
    "    pivot = pivot[pivot[\"ID\"] != id].copy()\n",
    "\n",
    "print(f'\\npivot: {len(pivot[\"ID\"].unique())}')\n",
    "\n",
    "for id in drop_id_orig:\n",
    "    orig = orig[orig[\"ID\"] != id].copy()\n",
    "\n",
    "print(f'\\norig: {len(orig[\"ID\"].unique())}')"
   ]
  }
 ],
 "metadata": {
  "kernelspec": {
   "display_name": "Python 3",
   "language": "python",
   "name": "python3"
  },
  "language_info": {
   "codemirror_mode": {
    "name": "ipython",
    "version": 3
   },
   "file_extension": ".py",
   "mimetype": "text/x-python",
   "name": "python",
   "nbconvert_exporter": "python",
   "pygments_lexer": "ipython3",
   "version": "3.10.12"
  },
  "orig_nbformat": 4
 },
 "nbformat": 4,
 "nbformat_minor": 2
}
