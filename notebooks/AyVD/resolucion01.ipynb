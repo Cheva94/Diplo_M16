{
  "cells": [
    {
      "attachments": {},
      "cell_type": "markdown",
      "metadata": {},
      "source": [
        "# Diplomatura en ciencia de datos, aprendizaje automático y sus aplicaciones - Edición 2023 - FAMAF (UNC)"
      ]
    },
    {
      "attachments": {},
      "cell_type": "markdown",
      "metadata": {},
      "source": [
        "## Mentoría 16 - ¿Cómo identificar fuga de ventas? Inteligencia artificial aplicada al sector comercial.\n",
        "\n",
        "### Análisis y visualización de datos (TP1 - Parte 1: Exploración inicial)\n",
        "\n",
        "**Integrantes:**\n",
        "- Canalis, Patricio.\n",
        "- Chevallier-Boutell, Ignacio José.\n",
        "- Villarroel Torrez, Daniel.\n",
        "\n",
        "**Mentores:**\n",
        "- Gonzalez, Lucía\n",
        "- Lahoz, Nahuel\n",
        "\n",
        "---"
      ]
    },
    {
      "attachments": {},
      "cell_type": "markdown",
      "metadata": {},
      "source": [
        "## Librerías"
      ]
    },
    {
      "cell_type": "code",
      "execution_count": 4,
      "metadata": {},
      "outputs": [],
      "source": [
        "import numpy as np\n",
        "import pandas as pd\n",
        "import missingno as msno\n",
        "import matplotlib.pyplot as plt\n",
        "\n",
        "import json"
      ]
    },
    {
      "attachments": {},
      "cell_type": "markdown",
      "metadata": {},
      "source": [
        "## Dataset"
      ]
    },
    {
      "cell_type": "code",
      "execution_count": 5,
      "metadata": {},
      "outputs": [
        {
          "name": "stderr",
          "output_type": "stream",
          "text": [
            "/tmp/ipykernel_271535/3190639961.py:7: DtypeWarning: Columns (10,11,13) have mixed types. Specify dtype option on import or set low_memory=False.\n",
            "  ventas = pd.read_csv(path)\n"
          ]
        }
      ],
      "source": [
        "# Está la URL del archivo hosteado, pero también está el path relativo dentro de este proyecto \n",
        "# donde se escribió el data set al final del notebook `resolucion01.ipynb` \n",
        "\n",
        "# url = 'https://www.dropbox.com/scl/fi/iaagjtks3apflrywvomuv/muestra_diplodatos_ventas_2023.csv?dl=1&rlkey=zfsh0bnwbomd4g56bcjysytiy'\n",
        "# ventas = pd.read_csv(url)\n",
        "path = '../../data/raw/muestra_diplodatos_ventas_2023.csv'\n",
        "ventas = pd.read_csv(path)"
      ]
    },
    {
      "cell_type": "code",
      "execution_count": 6,
      "metadata": {},
      "outputs": [
        {
          "name": "stdout",
          "output_type": "stream",
          "text": [
            "Las columnas que arrojan el warning son:\n",
            "\tTRATAMIENTO_FISCAL\n",
            "\tDESC_TRATAMIENTO_FISCAL\n",
            "\tCM04\n"
          ]
        }
      ],
      "source": [
        "print('Las columnas que arrojan el warning son:')\n",
        "for col in [10, 11, 13]:\n",
        "    print(f'\\t{ventas.columns[col]}')"
      ]
    },
    {
      "attachments": {},
      "cell_type": "markdown",
      "metadata": {},
      "source": [
        "---\n",
        "# Variables"
      ]
    },
    {
      "attachments": {},
      "cell_type": "markdown",
      "metadata": {},
      "source": [
        "### Tamaño, nombres y tipo"
      ]
    },
    {
      "cell_type": "code",
      "execution_count": 7,
      "metadata": {},
      "outputs": [
        {
          "name": "stdout",
          "output_type": "stream",
          "text": [
            "Hay un total de 431506 registros y un total de 19 variables:\n"
          ]
        },
        {
          "data": {
            "text/html": [
              "<div>\n",
              "<style scoped>\n",
              "    .dataframe tbody tr th:only-of-type {\n",
              "        vertical-align: middle;\n",
              "    }\n",
              "\n",
              "    .dataframe tbody tr th {\n",
              "        vertical-align: top;\n",
              "    }\n",
              "\n",
              "    .dataframe thead th {\n",
              "        text-align: right;\n",
              "    }\n",
              "</style>\n",
              "<table border=\"1\" class=\"dataframe\">\n",
              "  <thead>\n",
              "    <tr style=\"text-align: right;\">\n",
              "      <th></th>\n",
              "      <th>Tipo según Pandas</th>\n",
              "      <th>Tipo revisado</th>\n",
              "    </tr>\n",
              "    <tr>\n",
              "      <th>Variable</th>\n",
              "      <th></th>\n",
              "      <th></th>\n",
              "    </tr>\n",
              "  </thead>\n",
              "  <tbody>\n",
              "    <tr>\n",
              "      <th>MODELO</th>\n",
              "      <td>int64</td>\n",
              "      <td>entero</td>\n",
              "    </tr>\n",
              "    <tr>\n",
              "      <th>INSCRIPCION</th>\n",
              "      <td>int64</td>\n",
              "      <td>entero</td>\n",
              "    </tr>\n",
              "    <tr>\n",
              "      <th>AÑO</th>\n",
              "      <td>int64</td>\n",
              "      <td>entero</td>\n",
              "    </tr>\n",
              "    <tr>\n",
              "      <th>MES</th>\n",
              "      <td>int64</td>\n",
              "      <td>entero</td>\n",
              "    </tr>\n",
              "    <tr>\n",
              "      <th>OMEGA</th>\n",
              "      <td>int64</td>\n",
              "      <td>entero</td>\n",
              "    </tr>\n",
              "    <tr>\n",
              "      <th>DEPOSITO</th>\n",
              "      <td>int64</td>\n",
              "      <td>entero</td>\n",
              "    </tr>\n",
              "    <tr>\n",
              "      <th>PORCENTAJE_COMISION_EMPRESA</th>\n",
              "      <td>float64</td>\n",
              "      <td>flotante</td>\n",
              "    </tr>\n",
              "    <tr>\n",
              "      <th>COMISION_EMPRESA</th>\n",
              "      <td>float64</td>\n",
              "      <td>flotante</td>\n",
              "    </tr>\n",
              "    <tr>\n",
              "      <th>TOTAL_VENTAS</th>\n",
              "      <td>float64</td>\n",
              "      <td>flotante</td>\n",
              "    </tr>\n",
              "    <tr>\n",
              "      <th>DESCRIPCION_CATEGORIA</th>\n",
              "      <td>object</td>\n",
              "      <td>string</td>\n",
              "    </tr>\n",
              "    <tr>\n",
              "      <th>CATEGORIA</th>\n",
              "      <td>object</td>\n",
              "      <td>string</td>\n",
              "    </tr>\n",
              "    <tr>\n",
              "      <th>TRATAMIENTO_FISCAL</th>\n",
              "      <td>object</td>\n",
              "      <td>string</td>\n",
              "    </tr>\n",
              "    <tr>\n",
              "      <th>DESC_TRATAMIENTO_FISCAL</th>\n",
              "      <td>object</td>\n",
              "      <td>string</td>\n",
              "    </tr>\n",
              "    <tr>\n",
              "      <th>TRATAMIENTO_DIFERNCIAL</th>\n",
              "      <td>object</td>\n",
              "      <td>string</td>\n",
              "    </tr>\n",
              "    <tr>\n",
              "      <th>CM04</th>\n",
              "      <td>object</td>\n",
              "      <td>string</td>\n",
              "    </tr>\n",
              "    <tr>\n",
              "      <th>CATEGORIA (Ajustado)</th>\n",
              "      <td>object</td>\n",
              "      <td>string</td>\n",
              "    </tr>\n",
              "    <tr>\n",
              "      <th>SUB-CATEGORIA</th>\n",
              "      <td>object</td>\n",
              "      <td>string</td>\n",
              "    </tr>\n",
              "    <tr>\n",
              "      <th>NOMBRE</th>\n",
              "      <td>object</td>\n",
              "      <td>string</td>\n",
              "    </tr>\n",
              "    <tr>\n",
              "      <th>ID_VENDEDOR</th>\n",
              "      <td>object</td>\n",
              "      <td>string</td>\n",
              "    </tr>\n",
              "  </tbody>\n",
              "</table>\n",
              "</div>"
            ],
            "text/plain": [
              "                            Tipo según Pandas Tipo revisado\n",
              "Variable                                                   \n",
              "MODELO                                  int64        entero\n",
              "INSCRIPCION                             int64        entero\n",
              "AÑO                                     int64        entero\n",
              "MES                                     int64        entero\n",
              "OMEGA                                   int64        entero\n",
              "DEPOSITO                                int64        entero\n",
              "PORCENTAJE_COMISION_EMPRESA           float64      flotante\n",
              "COMISION_EMPRESA                      float64      flotante\n",
              "TOTAL_VENTAS                          float64      flotante\n",
              "DESCRIPCION_CATEGORIA                  object        string\n",
              "CATEGORIA                              object        string\n",
              "TRATAMIENTO_FISCAL                     object        string\n",
              "DESC_TRATAMIENTO_FISCAL                object        string\n",
              "TRATAMIENTO_DIFERNCIAL                 object        string\n",
              "CM04                                   object        string\n",
              "CATEGORIA (Ajustado)                   object        string\n",
              "SUB-CATEGORIA                          object        string\n",
              "NOMBRE                                 object        string\n",
              "ID_VENDEDOR                            object        string"
            ]
          },
          "execution_count": 7,
          "metadata": {},
          "output_type": "execute_result"
        }
      ],
      "source": [
        "print(f'Hay un total de {ventas.shape[0]} registros y un total de {ventas.shape[1]} variables:')\n",
        "tipo_rev = ['string', 'entero', 'entero', 'entero', 'string', 'entero', \n",
        "            'string', 'flotante', 'flotante', 'flotante', 'string', 'string', \n",
        "            'string', 'string', 'string', 'string', 'string', 'entero', 'entero']\n",
        "\n",
        "vartype = pd.DataFrame({'Variable': ventas.columns, \n",
        "                        'Tipo según Pandas': ventas.dtypes, \n",
        "                        'Tipo revisado': tipo_rev}).set_index('Variable').sort_values('Tipo revisado')\n",
        "vartype"
      ]
    },
    {
      "attachments": {},
      "cell_type": "markdown",
      "metadata": {},
      "source": [
        "### Sneak peek"
      ]
    },
    {
      "cell_type": "code",
      "execution_count": 8,
      "metadata": {},
      "outputs": [
        {
          "name": "stdout",
          "output_type": "stream",
          "text": [
            "Todos los que son \"object\" en realidad son \"str\".\n"
          ]
        },
        {
          "data": {
            "text/html": [
              "<div>\n",
              "<style scoped>\n",
              "    .dataframe tbody tr th:only-of-type {\n",
              "        vertical-align: middle;\n",
              "    }\n",
              "\n",
              "    .dataframe tbody tr th {\n",
              "        vertical-align: top;\n",
              "    }\n",
              "\n",
              "    .dataframe thead th {\n",
              "        text-align: right;\n",
              "    }\n",
              "</style>\n",
              "<table border=\"1\" class=\"dataframe\">\n",
              "  <thead>\n",
              "    <tr style=\"text-align: right;\">\n",
              "      <th></th>\n",
              "      <th>ID_VENDEDOR</th>\n",
              "      <th>INSCRIPCION</th>\n",
              "      <th>AÑO</th>\n",
              "      <th>MES</th>\n",
              "      <th>CATEGORIA</th>\n",
              "      <th>DEPOSITO</th>\n",
              "      <th>DESCRIPCION_CATEGORIA</th>\n",
              "      <th>TOTAL_VENTAS</th>\n",
              "      <th>PORCENTAJE_COMISION_EMPRESA</th>\n",
              "      <th>COMISION_EMPRESA</th>\n",
              "      <th>TRATAMIENTO_FISCAL</th>\n",
              "      <th>DESC_TRATAMIENTO_FISCAL</th>\n",
              "      <th>TRATAMIENTO_DIFERNCIAL</th>\n",
              "      <th>CM04</th>\n",
              "      <th>CATEGORIA (Ajustado)</th>\n",
              "      <th>SUB-CATEGORIA</th>\n",
              "      <th>NOMBRE</th>\n",
              "      <th>OMEGA</th>\n",
              "      <th>MODELO</th>\n",
              "    </tr>\n",
              "  </thead>\n",
              "  <tbody>\n",
              "    <tr>\n",
              "      <th>0</th>\n",
              "      <td>0520ed45f48b92cf903130d467021c242be8045cfed4ab...</td>\n",
              "      <td>270417671</td>\n",
              "      <td>2019</td>\n",
              "      <td>1</td>\n",
              "      <td>COMERCIO AL POR MAYOR Y AL POR MENOR; REPARACI...</td>\n",
              "      <td>469090</td>\n",
              "      <td>Venta al por mayor de mercancías n.c.p.</td>\n",
              "      <td>14622.16</td>\n",
              "      <td>0.028</td>\n",
              "      <td>409.42</td>\n",
              "      <td>0.0</td>\n",
              "      <td>Normal</td>\n",
              "      <td>NaN</td>\n",
              "      <td>NaN</td>\n",
              "      <td>COMERCIO AL POR MAYOR Y AL POR MENOR; REPARACI...</td>\n",
              "      <td>Venta de Artículos, productos, accesorios, etc...</td>\n",
              "      <td>d7fe2144f50da08790400f3fc5217b4a4c6042e05b5f2f...</td>\n",
              "      <td>1</td>\n",
              "      <td>0</td>\n",
              "    </tr>\n",
              "    <tr>\n",
              "      <th>1</th>\n",
              "      <td>95b704f66684b2101d104491983c7cf88455b04d4ecf8f...</td>\n",
              "      <td>270118305</td>\n",
              "      <td>2019</td>\n",
              "      <td>1</td>\n",
              "      <td>COMERCIO AL POR MAYOR Y AL POR MENOR; REPARACI...</td>\n",
              "      <td>464129</td>\n",
              "      <td>Venta al por mayor de prendas y accesorios de ...</td>\n",
              "      <td>62477.00</td>\n",
              "      <td>0.040</td>\n",
              "      <td>2499.08</td>\n",
              "      <td>0.0</td>\n",
              "      <td>Normal</td>\n",
              "      <td>NaN</td>\n",
              "      <td>NaN</td>\n",
              "      <td>COMERCIO AL POR MAYOR Y AL POR MENOR; REPARACI...</td>\n",
              "      <td>Venta de Artículos, productos, accesorios, etc...</td>\n",
              "      <td>fbadfc9f6105a8792048a825deb9801fa54106e21e8283...</td>\n",
              "      <td>1</td>\n",
              "      <td>0</td>\n",
              "    </tr>\n",
              "    <tr>\n",
              "      <th>2</th>\n",
              "      <td>95b704f66684b2101d104491983c7cf88455b04d4ecf8f...</td>\n",
              "      <td>270118305</td>\n",
              "      <td>2019</td>\n",
              "      <td>1</td>\n",
              "      <td>COMERCIO AL POR MAYOR Y AL POR MENOR; REPARACI...</td>\n",
              "      <td>475190</td>\n",
              "      <td>Venta al por menor de artículos textiles n.c.p...</td>\n",
              "      <td>3373941.00</td>\n",
              "      <td>0.040</td>\n",
              "      <td>134957.64</td>\n",
              "      <td>0.0</td>\n",
              "      <td>Normal</td>\n",
              "      <td>NaN</td>\n",
              "      <td>NaN</td>\n",
              "      <td>COMERCIO AL POR MAYOR Y AL POR MENOR; REPARACI...</td>\n",
              "      <td>Venta de Artículos, productos, accesorios, etc...</td>\n",
              "      <td>fbadfc9f6105a8792048a825deb9801fa54106e21e8283...</td>\n",
              "      <td>1</td>\n",
              "      <td>0</td>\n",
              "    </tr>\n",
              "    <tr>\n",
              "      <th>3</th>\n",
              "      <td>95b704f66684b2101d104491983c7cf88455b04d4ecf8f...</td>\n",
              "      <td>270118305</td>\n",
              "      <td>2019</td>\n",
              "      <td>1</td>\n",
              "      <td>COMERCIO AL POR MAYOR Y AL POR MENOR; REPARACI...</td>\n",
              "      <td>477190</td>\n",
              "      <td>Venta al por menor de prendas y accesorios de ...</td>\n",
              "      <td>332660.00</td>\n",
              "      <td>0.040</td>\n",
              "      <td>13306.40</td>\n",
              "      <td>0.0</td>\n",
              "      <td>Normal</td>\n",
              "      <td>NaN</td>\n",
              "      <td>NaN</td>\n",
              "      <td>COMERCIO AL POR MAYOR Y AL POR MENOR; REPARACI...</td>\n",
              "      <td>Venta de Artículos, productos, accesorios, etc...</td>\n",
              "      <td>fbadfc9f6105a8792048a825deb9801fa54106e21e8283...</td>\n",
              "      <td>1</td>\n",
              "      <td>0</td>\n",
              "    </tr>\n",
              "    <tr>\n",
              "      <th>4</th>\n",
              "      <td>1b6ef2976d38132a1df85b4199dcddd0158ab42c957184...</td>\n",
              "      <td>281129121</td>\n",
              "      <td>2019</td>\n",
              "      <td>1</td>\n",
              "      <td>COMERCIO AL POR MAYOR Y AL POR MENOR; REPARACI...</td>\n",
              "      <td>469090</td>\n",
              "      <td>Venta al por mayor de mercancías n.c.p.</td>\n",
              "      <td>695685.00</td>\n",
              "      <td>0.040</td>\n",
              "      <td>27827.40</td>\n",
              "      <td>0.0</td>\n",
              "      <td>Normal</td>\n",
              "      <td>NaN</td>\n",
              "      <td>NaN</td>\n",
              "      <td>COMERCIO AL POR MAYOR Y AL POR MENOR; REPARACI...</td>\n",
              "      <td>Venta de Artículos, productos, accesorios, etc...</td>\n",
              "      <td>4c369e674e00fd385f3009dbc3825b8681112283301620...</td>\n",
              "      <td>1</td>\n",
              "      <td>0</td>\n",
              "    </tr>\n",
              "  </tbody>\n",
              "</table>\n",
              "</div>"
            ],
            "text/plain": [
              "                                         ID_VENDEDOR  INSCRIPCION   AÑO  MES   \n",
              "0  0520ed45f48b92cf903130d467021c242be8045cfed4ab...    270417671  2019    1  \\\n",
              "1  95b704f66684b2101d104491983c7cf88455b04d4ecf8f...    270118305  2019    1   \n",
              "2  95b704f66684b2101d104491983c7cf88455b04d4ecf8f...    270118305  2019    1   \n",
              "3  95b704f66684b2101d104491983c7cf88455b04d4ecf8f...    270118305  2019    1   \n",
              "4  1b6ef2976d38132a1df85b4199dcddd0158ab42c957184...    281129121  2019    1   \n",
              "\n",
              "                                           CATEGORIA  DEPOSITO   \n",
              "0  COMERCIO AL POR MAYOR Y AL POR MENOR; REPARACI...    469090  \\\n",
              "1  COMERCIO AL POR MAYOR Y AL POR MENOR; REPARACI...    464129   \n",
              "2  COMERCIO AL POR MAYOR Y AL POR MENOR; REPARACI...    475190   \n",
              "3  COMERCIO AL POR MAYOR Y AL POR MENOR; REPARACI...    477190   \n",
              "4  COMERCIO AL POR MAYOR Y AL POR MENOR; REPARACI...    469090   \n",
              "\n",
              "                               DESCRIPCION_CATEGORIA  TOTAL_VENTAS   \n",
              "0            Venta al por mayor de mercancías n.c.p.      14622.16  \\\n",
              "1  Venta al por mayor de prendas y accesorios de ...      62477.00   \n",
              "2  Venta al por menor de artículos textiles n.c.p...    3373941.00   \n",
              "3  Venta al por menor de prendas y accesorios de ...     332660.00   \n",
              "4            Venta al por mayor de mercancías n.c.p.     695685.00   \n",
              "\n",
              "   PORCENTAJE_COMISION_EMPRESA  COMISION_EMPRESA TRATAMIENTO_FISCAL   \n",
              "0                        0.028            409.42                0.0  \\\n",
              "1                        0.040           2499.08                0.0   \n",
              "2                        0.040         134957.64                0.0   \n",
              "3                        0.040          13306.40                0.0   \n",
              "4                        0.040          27827.40                0.0   \n",
              "\n",
              "  DESC_TRATAMIENTO_FISCAL TRATAMIENTO_DIFERNCIAL CM04   \n",
              "0                  Normal                    NaN  NaN  \\\n",
              "1                  Normal                    NaN  NaN   \n",
              "2                  Normal                    NaN  NaN   \n",
              "3                  Normal                    NaN  NaN   \n",
              "4                  Normal                    NaN  NaN   \n",
              "\n",
              "                                CATEGORIA (Ajustado)   \n",
              "0  COMERCIO AL POR MAYOR Y AL POR MENOR; REPARACI...  \\\n",
              "1  COMERCIO AL POR MAYOR Y AL POR MENOR; REPARACI...   \n",
              "2  COMERCIO AL POR MAYOR Y AL POR MENOR; REPARACI...   \n",
              "3  COMERCIO AL POR MAYOR Y AL POR MENOR; REPARACI...   \n",
              "4  COMERCIO AL POR MAYOR Y AL POR MENOR; REPARACI...   \n",
              "\n",
              "                                       SUB-CATEGORIA   \n",
              "0  Venta de Artículos, productos, accesorios, etc...  \\\n",
              "1  Venta de Artículos, productos, accesorios, etc...   \n",
              "2  Venta de Artículos, productos, accesorios, etc...   \n",
              "3  Venta de Artículos, productos, accesorios, etc...   \n",
              "4  Venta de Artículos, productos, accesorios, etc...   \n",
              "\n",
              "                                              NOMBRE  OMEGA  MODELO  \n",
              "0  d7fe2144f50da08790400f3fc5217b4a4c6042e05b5f2f...      1       0  \n",
              "1  fbadfc9f6105a8792048a825deb9801fa54106e21e8283...      1       0  \n",
              "2  fbadfc9f6105a8792048a825deb9801fa54106e21e8283...      1       0  \n",
              "3  fbadfc9f6105a8792048a825deb9801fa54106e21e8283...      1       0  \n",
              "4  4c369e674e00fd385f3009dbc3825b8681112283301620...      1       0  "
            ]
          },
          "metadata": {},
          "output_type": "display_data"
        }
      ],
      "source": [
        "print('Todos los que son \"object\" en realidad son \"str\".')\n",
        "display(ventas[:5])"
      ]
    },
    {
      "attachments": {},
      "cell_type": "markdown",
      "metadata": {},
      "source": [
        "### Datos faltantes"
      ]
    },
    {
      "cell_type": "code",
      "execution_count": 9,
      "metadata": {},
      "outputs": [
        {
          "ename": "ValueError",
          "evalue": "keyword grid_b is not recognized; valid keywords are ['size', 'width', 'color', 'tickdir', 'pad', 'labelsize', 'labelcolor', 'zorder', 'gridOn', 'tick1On', 'tick2On', 'label1On', 'label2On', 'length', 'direction', 'left', 'bottom', 'right', 'top', 'labelleft', 'labelbottom', 'labelright', 'labeltop', 'labelrotation', 'grid_agg_filter', 'grid_alpha', 'grid_animated', 'grid_antialiased', 'grid_clip_box', 'grid_clip_on', 'grid_clip_path', 'grid_color', 'grid_dash_capstyle', 'grid_dash_joinstyle', 'grid_dashes', 'grid_data', 'grid_drawstyle', 'grid_figure', 'grid_fillstyle', 'grid_gapcolor', 'grid_gid', 'grid_in_layout', 'grid_label', 'grid_linestyle', 'grid_linewidth', 'grid_marker', 'grid_markeredgecolor', 'grid_markeredgewidth', 'grid_markerfacecolor', 'grid_markerfacecoloralt', 'grid_markersize', 'grid_markevery', 'grid_mouseover', 'grid_path_effects', 'grid_picker', 'grid_pickradius', 'grid_rasterized', 'grid_sketch_params', 'grid_snap', 'grid_solid_capstyle', 'grid_solid_joinstyle', 'grid_transform', 'grid_url', 'grid_visible', 'grid_xdata', 'grid_ydata', 'grid_zorder', 'grid_aa', 'grid_c', 'grid_ds', 'grid_ls', 'grid_lw', 'grid_mec', 'grid_mew', 'grid_mfc', 'grid_mfcalt', 'grid_ms']",
          "output_type": "error",
          "traceback": [
            "\u001b[0;31m---------------------------------------------------------------------------\u001b[0m",
            "\u001b[0;31mValueError\u001b[0m                                Traceback (most recent call last)",
            "Cell \u001b[0;32mIn[9], line 2\u001b[0m\n\u001b[1;32m      1\u001b[0m msno\u001b[39m.\u001b[39mbar(ventas\u001b[39m.\u001b[39msort_values(\u001b[39m'\u001b[39m\u001b[39mID_VENDEDOR\u001b[39m\u001b[39m'\u001b[39m), sort\u001b[39m=\u001b[39m\u001b[39m\"\u001b[39m\u001b[39mascending\u001b[39m\u001b[39m\"\u001b[39m, fontsize\u001b[39m=\u001b[39m\u001b[39m12\u001b[39m, color\u001b[39m=\u001b[39m\u001b[39m\"\u001b[39m\u001b[39mtab:green\u001b[39m\u001b[39m\"\u001b[39m, figsize\u001b[39m=\u001b[39m(\u001b[39m6\u001b[39m, \u001b[39m5\u001b[39m))\n\u001b[0;32m----> 2\u001b[0m msno\u001b[39m.\u001b[39;49mmatrix(ventas\u001b[39m.\u001b[39;49msort_values(\u001b[39m'\u001b[39;49m\u001b[39mID_VENDEDOR\u001b[39;49m\u001b[39m'\u001b[39;49m), fontsize\u001b[39m=\u001b[39;49m\u001b[39m12\u001b[39;49m, color\u001b[39m=\u001b[39;49m[\u001b[39m0.5\u001b[39;49m,\u001b[39m0\u001b[39;49m,\u001b[39m0\u001b[39;49m], figsize\u001b[39m=\u001b[39;49m(\u001b[39m6\u001b[39;49m, \u001b[39m5\u001b[39;49m))\n\u001b[1;32m      3\u001b[0m msno\u001b[39m.\u001b[39mheatmap(ventas\u001b[39m.\u001b[39msort_values(\u001b[39m'\u001b[39m\u001b[39mID_VENDEDOR\u001b[39m\u001b[39m'\u001b[39m), fontsize\u001b[39m=\u001b[39m\u001b[39m12\u001b[39m, figsize\u001b[39m=\u001b[39m(\u001b[39m6\u001b[39m, \u001b[39m5\u001b[39m))\n\u001b[1;32m      5\u001b[0m plt\u001b[39m.\u001b[39mshow()\n",
            "File \u001b[0;32m~/miniconda3/envs/diplodatos/lib/python3.11/site-packages/missingno/missingno.py:72\u001b[0m, in \u001b[0;36mmatrix\u001b[0;34m(df, filter, n, p, sort, figsize, width_ratios, color, fontsize, labels, sparkline, inline, freq, ax)\u001b[0m\n\u001b[1;32m     70\u001b[0m \u001b[39m# Remove extraneous default visual elements.\u001b[39;00m\n\u001b[1;32m     71\u001b[0m ax0\u001b[39m.\u001b[39mset_aspect(\u001b[39m'\u001b[39m\u001b[39mauto\u001b[39m\u001b[39m'\u001b[39m)\n\u001b[0;32m---> 72\u001b[0m ax0\u001b[39m.\u001b[39;49mgrid(b\u001b[39m=\u001b[39;49m\u001b[39mFalse\u001b[39;49;00m)\n\u001b[1;32m     73\u001b[0m ax0\u001b[39m.\u001b[39mxaxis\u001b[39m.\u001b[39mtick_top()\n\u001b[1;32m     74\u001b[0m ax0\u001b[39m.\u001b[39mxaxis\u001b[39m.\u001b[39mset_ticks_position(\u001b[39m'\u001b[39m\u001b[39mnone\u001b[39m\u001b[39m'\u001b[39m)\n",
            "File \u001b[0;32m~/miniconda3/envs/diplodatos/lib/python3.11/site-packages/matplotlib/axes/_base.py:3194\u001b[0m, in \u001b[0;36m_AxesBase.grid\u001b[0;34m(self, visible, which, axis, **kwargs)\u001b[0m\n\u001b[1;32m   3192\u001b[0m _api\u001b[39m.\u001b[39mcheck_in_list([\u001b[39m'\u001b[39m\u001b[39mx\u001b[39m\u001b[39m'\u001b[39m, \u001b[39m'\u001b[39m\u001b[39my\u001b[39m\u001b[39m'\u001b[39m, \u001b[39m'\u001b[39m\u001b[39mboth\u001b[39m\u001b[39m'\u001b[39m], axis\u001b[39m=\u001b[39maxis)\n\u001b[1;32m   3193\u001b[0m \u001b[39mif\u001b[39;00m axis \u001b[39min\u001b[39;00m [\u001b[39m'\u001b[39m\u001b[39mx\u001b[39m\u001b[39m'\u001b[39m, \u001b[39m'\u001b[39m\u001b[39mboth\u001b[39m\u001b[39m'\u001b[39m]:\n\u001b[0;32m-> 3194\u001b[0m     \u001b[39mself\u001b[39;49m\u001b[39m.\u001b[39;49mxaxis\u001b[39m.\u001b[39;49mgrid(visible, which\u001b[39m=\u001b[39;49mwhich, \u001b[39m*\u001b[39;49m\u001b[39m*\u001b[39;49mkwargs)\n\u001b[1;32m   3195\u001b[0m \u001b[39mif\u001b[39;00m axis \u001b[39min\u001b[39;00m [\u001b[39m'\u001b[39m\u001b[39my\u001b[39m\u001b[39m'\u001b[39m, \u001b[39m'\u001b[39m\u001b[39mboth\u001b[39m\u001b[39m'\u001b[39m]:\n\u001b[1;32m   3196\u001b[0m     \u001b[39mself\u001b[39m\u001b[39m.\u001b[39myaxis\u001b[39m.\u001b[39mgrid(visible, which\u001b[39m=\u001b[39mwhich, \u001b[39m*\u001b[39m\u001b[39m*\u001b[39mkwargs)\n",
            "File \u001b[0;32m~/miniconda3/envs/diplodatos/lib/python3.11/site-packages/matplotlib/axis.py:1660\u001b[0m, in \u001b[0;36mAxis.grid\u001b[0;34m(self, visible, which, **kwargs)\u001b[0m\n\u001b[1;32m   1657\u001b[0m \u001b[39mif\u001b[39;00m which \u001b[39min\u001b[39;00m [\u001b[39m'\u001b[39m\u001b[39mmajor\u001b[39m\u001b[39m'\u001b[39m, \u001b[39m'\u001b[39m\u001b[39mboth\u001b[39m\u001b[39m'\u001b[39m]:\n\u001b[1;32m   1658\u001b[0m     gridkw[\u001b[39m'\u001b[39m\u001b[39mgridOn\u001b[39m\u001b[39m'\u001b[39m] \u001b[39m=\u001b[39m (\u001b[39mnot\u001b[39;00m \u001b[39mself\u001b[39m\u001b[39m.\u001b[39m_major_tick_kw[\u001b[39m'\u001b[39m\u001b[39mgridOn\u001b[39m\u001b[39m'\u001b[39m]\n\u001b[1;32m   1659\u001b[0m                         \u001b[39mif\u001b[39;00m visible \u001b[39mis\u001b[39;00m \u001b[39mNone\u001b[39;00m \u001b[39melse\u001b[39;00m visible)\n\u001b[0;32m-> 1660\u001b[0m     \u001b[39mself\u001b[39;49m\u001b[39m.\u001b[39;49mset_tick_params(which\u001b[39m=\u001b[39;49m\u001b[39m'\u001b[39;49m\u001b[39mmajor\u001b[39;49m\u001b[39m'\u001b[39;49m, \u001b[39m*\u001b[39;49m\u001b[39m*\u001b[39;49mgridkw)\n\u001b[1;32m   1661\u001b[0m \u001b[39mself\u001b[39m\u001b[39m.\u001b[39mstale \u001b[39m=\u001b[39m \u001b[39mTrue\u001b[39;00m\n",
            "File \u001b[0;32m~/miniconda3/envs/diplodatos/lib/python3.11/site-packages/matplotlib/axis.py:932\u001b[0m, in \u001b[0;36mAxis.set_tick_params\u001b[0;34m(self, which, reset, **kwargs)\u001b[0m\n\u001b[1;32m    919\u001b[0m \u001b[39m\u001b[39m\u001b[39m\"\"\"\u001b[39;00m\n\u001b[1;32m    920\u001b[0m \u001b[39mSet appearance parameters for ticks, ticklabels, and gridlines.\u001b[39;00m\n\u001b[1;32m    921\u001b[0m \n\u001b[0;32m   (...)\u001b[0m\n\u001b[1;32m    929\u001b[0m \u001b[39m    gridlines.\u001b[39;00m\n\u001b[1;32m    930\u001b[0m \u001b[39m\"\"\"\u001b[39;00m\n\u001b[1;32m    931\u001b[0m _api\u001b[39m.\u001b[39mcheck_in_list([\u001b[39m'\u001b[39m\u001b[39mmajor\u001b[39m\u001b[39m'\u001b[39m, \u001b[39m'\u001b[39m\u001b[39mminor\u001b[39m\u001b[39m'\u001b[39m, \u001b[39m'\u001b[39m\u001b[39mboth\u001b[39m\u001b[39m'\u001b[39m], which\u001b[39m=\u001b[39mwhich)\n\u001b[0;32m--> 932\u001b[0m kwtrans \u001b[39m=\u001b[39m \u001b[39mself\u001b[39;49m\u001b[39m.\u001b[39;49m_translate_tick_params(kwargs)\n\u001b[1;32m    934\u001b[0m \u001b[39m# the kwargs are stored in self._major/minor_tick_kw so that any\u001b[39;00m\n\u001b[1;32m    935\u001b[0m \u001b[39m# future new ticks will automatically get them\u001b[39;00m\n\u001b[1;32m    936\u001b[0m \u001b[39mif\u001b[39;00m reset:\n",
            "File \u001b[0;32m~/miniconda3/envs/diplodatos/lib/python3.11/site-packages/matplotlib/axis.py:1076\u001b[0m, in \u001b[0;36mAxis._translate_tick_params\u001b[0;34m(kw, reverse)\u001b[0m\n\u001b[1;32m   1074\u001b[0m \u001b[39mfor\u001b[39;00m key \u001b[39min\u001b[39;00m kw_:\n\u001b[1;32m   1075\u001b[0m     \u001b[39mif\u001b[39;00m key \u001b[39mnot\u001b[39;00m \u001b[39min\u001b[39;00m allowed_keys:\n\u001b[0;32m-> 1076\u001b[0m         \u001b[39mraise\u001b[39;00m \u001b[39mValueError\u001b[39;00m(\n\u001b[1;32m   1077\u001b[0m             \u001b[39m\"\u001b[39m\u001b[39mkeyword \u001b[39m\u001b[39m%s\u001b[39;00m\u001b[39m is not recognized; valid keywords are \u001b[39m\u001b[39m%s\u001b[39;00m\u001b[39m\"\u001b[39m\n\u001b[1;32m   1078\u001b[0m             \u001b[39m%\u001b[39m (key, allowed_keys))\n\u001b[1;32m   1079\u001b[0m kwtrans\u001b[39m.\u001b[39mupdate(kw_)\n\u001b[1;32m   1080\u001b[0m \u001b[39mreturn\u001b[39;00m kwtrans\n",
            "\u001b[0;31mValueError\u001b[0m: keyword grid_b is not recognized; valid keywords are ['size', 'width', 'color', 'tickdir', 'pad', 'labelsize', 'labelcolor', 'zorder', 'gridOn', 'tick1On', 'tick2On', 'label1On', 'label2On', 'length', 'direction', 'left', 'bottom', 'right', 'top', 'labelleft', 'labelbottom', 'labelright', 'labeltop', 'labelrotation', 'grid_agg_filter', 'grid_alpha', 'grid_animated', 'grid_antialiased', 'grid_clip_box', 'grid_clip_on', 'grid_clip_path', 'grid_color', 'grid_dash_capstyle', 'grid_dash_joinstyle', 'grid_dashes', 'grid_data', 'grid_drawstyle', 'grid_figure', 'grid_fillstyle', 'grid_gapcolor', 'grid_gid', 'grid_in_layout', 'grid_label', 'grid_linestyle', 'grid_linewidth', 'grid_marker', 'grid_markeredgecolor', 'grid_markeredgewidth', 'grid_markerfacecolor', 'grid_markerfacecoloralt', 'grid_markersize', 'grid_markevery', 'grid_mouseover', 'grid_path_effects', 'grid_picker', 'grid_pickradius', 'grid_rasterized', 'grid_sketch_params', 'grid_snap', 'grid_solid_capstyle', 'grid_solid_joinstyle', 'grid_transform', 'grid_url', 'grid_visible', 'grid_xdata', 'grid_ydata', 'grid_zorder', 'grid_aa', 'grid_c', 'grid_ds', 'grid_ls', 'grid_lw', 'grid_mec', 'grid_mew', 'grid_mfc', 'grid_mfcalt', 'grid_ms']"
          ]
        },
        {
          "data": {
            "image/png": "[encoded data removed]",
            "text/plain": [
              "<Figure size 600x500 with 3 Axes>"
            ]
          },
          "metadata": {},
          "output_type": "display_data"
        },
        {
          "data": {
            "image/png": "[encoded data removed]",
            "text/plain": [
              "<Figure size 600x500 with 2 Axes>"
            ]
          },
          "metadata": {},
          "output_type": "display_data"
        }
      ],
      "source": [
        "msno.bar(ventas.sort_values('ID_VENDEDOR'), sort=\"ascending\", fontsize=12, color=\"tab:green\", figsize=(6, 5))\n",
        "msno.matrix(ventas.sort_values('ID_VENDEDOR'), fontsize=12, color=[0.5,0,0], figsize=(6, 5))\n",
        "msno.heatmap(ventas.sort_values('ID_VENDEDOR'), fontsize=12, figsize=(6, 5))\n",
        "\n",
        "plt.show()"
      ]
    },
    {
      "attachments": {},
      "cell_type": "markdown",
      "metadata": {},
      "source": [
        "### Problemas con tipo de datos"
      ]
    },
    {
      "cell_type": "code",
      "execution_count": 10,
      "metadata": {},
      "outputs": [
        {
          "name": "stdout",
          "output_type": "stream",
          "text": [
            "TRATAMIENTO_FISCAL\n",
            "Si no hay nada impreso, es porque todas las variables son del tipo int64.\n"
          ]
        }
      ],
      "source": [
        "m = 10\n",
        "print(ventas.columns[m])\n",
        "a = ventas[ventas.columns[m]].value_counts()\n",
        "for k in range(len(a)):\n",
        "    if a[k].dtype != 'int64':\n",
        "        print(a[k].dtype)\n",
        "\n",
        "print('Si no hay nada impreso, es porque todas las variables son del tipo int64.')"
      ]
    },
    {
      "cell_type": "code",
      "execution_count": 11,
      "metadata": {},
      "outputs": [
        {
          "name": "stdout",
          "output_type": "stream",
          "text": [
            "DESC_TRATAMIENTO_FISCAL\n",
            "Si no hay nada impreso, es porque todas las variables son del tipo int64.\n"
          ]
        }
      ],
      "source": [
        "m = 11\n",
        "print(ventas.columns[m])\n",
        "a = ventas[ventas.columns[m]].value_counts()\n",
        "for k in range(len(a)):\n",
        "    if a[k].dtype != 'int64':\n",
        "        print(a[k].dtype)\n",
        "\n",
        "print('Si no hay nada impreso, es porque todas las variables son del tipo int64.')"
      ]
    },
    {
      "cell_type": "code",
      "execution_count": 12,
      "metadata": {},
      "outputs": [
        {
          "name": "stdout",
          "output_type": "stream",
          "text": [
            "CM04\n",
            "Si no hay nada impreso, es porque todas las variables son del tipo int64.\n"
          ]
        }
      ],
      "source": [
        "m = 13\n",
        "print(ventas.columns[m])\n",
        "a = ventas[ventas.columns[m]].value_counts()\n",
        "for k in range(len(a)):\n",
        "    if a[k].dtype != 'int64':\n",
        "        print(a[k].dtype)\n",
        "\n",
        "print('Si no hay nada impreso, es porque todas las variables son del tipo int64.')"
      ]
    },
    {
      "attachments": {},
      "cell_type": "markdown",
      "metadata": {},
      "source": [
        "### Cardinalidad: valores únicos"
      ]
    },
    {
      "cell_type": "code",
      "execution_count": 13,
      "metadata": {},
      "outputs": [
        {
          "name": "stdout",
          "output_type": "stream",
          "text": [
            "ID_VENDEDOR\n",
            "f679b20b02309cab33658571f0c8da237f57f732ab96978386a95c2776f07c21    0.386321\n",
            "ec21dabdae55fb2168ff9b225db59e98b4731306282cc8314d6b0a39b0cd69b5    0.330934\n",
            "c8237c3a8f089f0e8d5f47fe38f34fba1091868d1f64b3748970603e2d2c3f60    0.299185\n",
            "ab4757eac54ed54acd482d387ec67488d3df1f4e6e9ef3d2d4797ebd242b7498    0.297794\n",
            "c7c203782eda1914c60d9dcf10dc4756b5f654a49688b5bf5c955073c8990872    0.292696\n",
            "d6888955057128f42d4f28d5770443e0615d5a6416a45e933544829ec3d503ab    0.275547\n",
            "e85f8721c2cc17bb768b8b79a038ac0773c0af7612cda8e9297fe4f926b3426a    0.269058\n",
            "6ca551c95db4030f37d7907b7a35f714459dee9140bd9561c774607313c9f67e    0.236381\n",
            "dd29047f0ef72309dd7b362a36a643e2d454fc224c8048831131af7ac0db7279    0.233600\n",
            "467839df31488a12b204a5f8e9526c85ff5dd4cd46f5ea2da3d685029e39a561    0.227807\n",
            "Name: proportion, dtype: float64\n",
            "\n",
            "Contribución porcentual de los 10 casos mayoritarios: 2.85 %\n",
            "Cardinalidad: 3209\n"
          ]
        }
      ],
      "source": [
        "m = 0\n",
        "a = 100*ventas[ventas.columns[m]].value_counts(normalize=True).iloc[:10]\n",
        "print(a)\n",
        "print(f'\\nContribución porcentual de los 10 casos mayoritarios: {np.sum(a):.2f} %')\n",
        "print(f'Cardinalidad: {ventas[ventas.columns[m]].nunique()}')"
      ]
    },
    {
      "cell_type": "code",
      "execution_count": 14,
      "metadata": {},
      "outputs": [
        {
          "name": "stdout",
          "output_type": "stream",
          "text": [
            "INSCRIPCION\n",
            "9043011028    0.386321\n",
            "9042454829    0.299185\n",
            "9042481399    0.297794\n",
            "9042481894    0.292696\n",
            "250047380     0.275547\n",
            "9042394521    0.269058\n",
            "282229862     0.236381\n",
            "9010597536    0.233600\n",
            "9042474012    0.227807\n",
            "9042489557    0.199765\n",
            "Name: proportion, dtype: float64\n",
            "\n",
            "Contribución porcentual de los 10 casos mayoritarios: 2.72 %\n",
            "Cardinalidad: 3345\n"
          ]
        }
      ],
      "source": [
        "m = 1\n",
        "a = 100*ventas[ventas.columns[m]].value_counts(normalize=True).iloc[:10]\n",
        "print(a)\n",
        "print(f'\\nContribución porcentual de los 10 casos mayoritarios: {np.sum(a):.2f} %')\n",
        "print(f'Cardinalidad: {ventas[ventas.columns[m]].nunique()}')"
      ]
    },
    {
      "cell_type": "code",
      "execution_count": 15,
      "metadata": {},
      "outputs": [
        {
          "name": "stdout",
          "output_type": "stream",
          "text": [
            "AÑO\n",
            "2021    29.690201\n",
            "2020    28.163455\n",
            "2019    27.130330\n",
            "2022    15.016014\n",
            "Name: proportion, dtype: float64\n",
            "\n",
            "Contribución porcentual de los 10 casos mayoritarios: 100.00 %\n",
            "Cardinalidad: 4\n"
          ]
        }
      ],
      "source": [
        "m = 2\n",
        "a = 100*ventas[ventas.columns[m]].value_counts(normalize=True).iloc[:10]\n",
        "print(a)\n",
        "print(f'\\nContribución porcentual de los 10 casos mayoritarios: {np.sum(a):.2f} %')\n",
        "print(f'Cardinalidad: {ventas[ventas.columns[m]].nunique()}')"
      ]
    },
    {
      "cell_type": "code",
      "execution_count": 16,
      "metadata": {},
      "outputs": [
        {
          "name": "stdout",
          "output_type": "stream",
          "text": [
            "MES\n",
            "6     9.563482\n",
            "5     9.531270\n",
            "3     9.509022\n",
            "1     9.508095\n",
            "2     9.504619\n",
            "4     9.493958\n",
            "11    7.184605\n",
            "12    7.175103\n",
            "10    7.164211\n",
            "9     7.146598\n",
            "Name: proportion, dtype: float64\n",
            "\n",
            "Contribución porcentual de los 10 casos mayoritarios: 85.78 %\n",
            "Cardinalidad: 12\n"
          ]
        }
      ],
      "source": [
        "m = 3\n",
        "a = 100*ventas[ventas.columns[m]].value_counts(normalize=True).iloc[:10]\n",
        "print(a)\n",
        "print(f'\\nContribución porcentual de los 10 casos mayoritarios: {np.sum(a):.2f} %')\n",
        "print(f'Cardinalidad: {ventas[ventas.columns[m]].nunique()}')"
      ]
    },
    {
      "cell_type": "code",
      "execution_count": 17,
      "metadata": {},
      "outputs": [
        {
          "name": "stdout",
          "output_type": "stream",
          "text": [
            "CATEGORIA\n",
            "COMERCIO AL POR MAYOR Y AL POR MENOR; REPARACION DE VEHÍCULOS AUTOMOTORES Y MOTOCICLETAS    72.867816\n",
            "COMERCIO AL POR MAYOR Y AL POR MENOR; REPARACION DE VEHÍCULOS AUTOMOTORES Y MOTO            27.112949\n",
            "COMERCIO POR MENOR                                                                           0.007416\n",
            "COMERCIO POR MAYOR                                                                           0.006489\n",
            "SERVICIOS PERSONALES Y DE LOS HOGARES                                                        0.005330\n",
            "Name: proportion, dtype: float64\n",
            "\n",
            "Contribución porcentual de los 10 casos mayoritarios: 100.00 %\n",
            "Cardinalidad: 5\n"
          ]
        }
      ],
      "source": [
        "m = 4\n",
        "a = 100*ventas[ventas.columns[m]].value_counts(normalize=True).iloc[:10]\n",
        "print(a)\n",
        "print(f'\\nContribución porcentual de los 10 casos mayoritarios: {np.sum(a):.2f} %')\n",
        "print(f'Cardinalidad: {ventas[ventas.columns[m]].nunique()}')"
      ]
    },
    {
      "cell_type": "code",
      "execution_count": 18,
      "metadata": {},
      "outputs": [
        {
          "name": "stdout",
          "output_type": "stream",
          "text": [
            "DEPOSITO\n",
            "469090    5.213601\n",
            "461099    3.157314\n",
            "466932    3.118612\n",
            "462131    2.637507\n",
            "473001    2.598573\n",
            "462120    2.277604\n",
            "453100    2.077144\n",
            "453291    1.932766\n",
            "461011    1.887112\n",
            "462190    1.734854\n",
            "Name: proportion, dtype: float64\n",
            "\n",
            "Contribución porcentual de los 10 casos mayoritarios: 26.64 %\n",
            "Cardinalidad: 241\n"
          ]
        }
      ],
      "source": [
        "m = 5\n",
        "a = 100*ventas[ventas.columns[m]].value_counts(normalize=True).iloc[:10]\n",
        "print(a)\n",
        "print(f'\\nContribución porcentual de los 10 casos mayoritarios: {np.sum(a):.2f} %')\n",
        "print(f'Cardinalidad: {ventas[ventas.columns[m]].nunique()}')"
      ]
    },
    {
      "cell_type": "code",
      "execution_count": 19,
      "metadata": {},
      "outputs": [
        {
          "name": "stdout",
          "output_type": "stream",
          "text": [
            "DESCRIPCION_CATEGORIA\n",
            "Venta al por mayor de mercancías n.c.p.                                                                                 5.213601\n",
            "Venta al por mayor en comisión o consignación de mercaderías n.c.p.                                                     3.157314\n",
            "Venta al por mayor de abonos, fertilizantes y plaguicidas                                                               3.118612\n",
            "Venta al por mayor de cereales (incluye arroz), oleaginosas y forrajeras excepto semillas                               2.637507\n",
            "Venta al por menor de combustible para vehículos automotores y motocicletas, excepto en comisión                        2.598573\n",
            "Venta al por mayor de semillas y granos para forrajes                                                                   2.277604\n",
            "Venta al por mayor de partes, piezas y accesorios de vehículos automotores                                              2.077144\n",
            "Venta al por menor de partes, piezas y accesorios nuevos n.c.p.                                                         1.932766\n",
            "Venta al por mayor en comisión o consignación de cereales (incluye arroz), oleaginosas y forrajeras excepto semillas    1.887112\n",
            "Venta al por mayor de materias primas agrícolas y de la silvicultura n.c.p.                                             1.734854\n",
            "Name: proportion, dtype: float64\n",
            "\n",
            "Contribución porcentual de los 10 casos mayoritarios: 26.64 %\n",
            "Cardinalidad: 245\n"
          ]
        }
      ],
      "source": [
        "m = 6\n",
        "a = 100*ventas[ventas.columns[m]].value_counts(normalize=True).iloc[:10]\n",
        "print(a)\n",
        "print(f'\\nContribución porcentual de los 10 casos mayoritarios: {np.sum(a):.2f} %')\n",
        "print(f'Cardinalidad: {ventas[ventas.columns[m]].nunique()}')"
      ]
    },
    {
      "cell_type": "code",
      "execution_count": 20,
      "metadata": {},
      "outputs": [
        {
          "name": "stdout",
          "output_type": "stream",
          "text": [
            "TOTAL_VENTAS\n",
            "0.00         41.959556\n",
            "0.01          0.060718\n",
            "1.00          0.013441\n",
            "3000.00       0.005562\n",
            "467389.60     0.005330\n",
            "53000.00      0.004635\n",
            "48000.00      0.002781\n",
            "4573.00       0.002549\n",
            "120000.00     0.002317\n",
            "101000.00     0.002086\n",
            "Name: proportion, dtype: float64\n",
            "\n",
            "Contribución porcentual de los 10 casos mayoritarios: 42.06 %\n",
            "Cardinalidad: 248974\n"
          ]
        }
      ],
      "source": [
        "m = 7\n",
        "a = 100*ventas[ventas.columns[m]].value_counts(normalize=True).iloc[:10]\n",
        "print(a)\n",
        "print(f'\\nContribución porcentual de los 10 casos mayoritarios: {np.sum(a):.2f} %')\n",
        "print(f'Cardinalidad: {ventas[ventas.columns[m]].nunique()}')"
      ]
    },
    {
      "cell_type": "code",
      "execution_count": 21,
      "metadata": {},
      "outputs": [
        {
          "name": "stdout",
          "output_type": "stream",
          "text": [
            "PORCENTAJE_COMISION_EMPRESA\n",
            "4.7500    19.405987\n",
            "5.0000    14.131901\n",
            "4.0000     8.358864\n",
            "0.0475     8.124800\n",
            "0.0500     5.575125\n",
            "5.5000     4.576761\n",
            "4.1600     4.091021\n",
            "0.0400     3.785579\n",
            "3.0000     3.207603\n",
            "2.0000     2.012255\n",
            "Name: proportion, dtype: float64\n",
            "\n",
            "Contribución porcentual de los 10 casos mayoritarios: 73.27 %\n",
            "Cardinalidad: 89\n"
          ]
        }
      ],
      "source": [
        "m = 8\n",
        "a = 100*ventas[ventas.columns[m]].value_counts(normalize=True).iloc[:10]\n",
        "print(a)\n",
        "print(f'\\nContribución porcentual de los 10 casos mayoritarios: {np.sum(a):.2f} %')\n",
        "print(f'Cardinalidad: {ventas[ventas.columns[m]].nunique()}')"
      ]
    },
    {
      "cell_type": "code",
      "execution_count": 22,
      "metadata": {},
      "outputs": [
        {
          "name": "stdout",
          "output_type": "stream",
          "text": [
            "COMISION_EMPRESA\n",
            "0.00        42.522236\n",
            "0.03         0.009733\n",
            "23369.48     0.005562\n",
            "1590.00      0.004635\n",
            "120.00       0.002781\n",
            "142.50       0.002781\n",
            "0.05         0.002549\n",
            "33.99        0.002317\n",
            "7800.00      0.002086\n",
            "5555.00      0.002086\n",
            "Name: proportion, dtype: float64\n",
            "\n",
            "Contribución porcentual de los 10 casos mayoritarios: 42.56 %\n",
            "Cardinalidad: 244284\n"
          ]
        }
      ],
      "source": [
        "m = 9\n",
        "a = 100*ventas[ventas.columns[m]].value_counts(normalize=True).iloc[:10]\n",
        "print(a)\n",
        "print(f'\\nContribución porcentual de los 10 casos mayoritarios: {np.sum(a):.2f} %')\n",
        "print(f'Cardinalidad: {ventas[ventas.columns[m]].nunique()}')"
      ]
    },
    {
      "cell_type": "code",
      "execution_count": 23,
      "metadata": {},
      "outputs": [
        {
          "name": "stdout",
          "output_type": "stream",
          "text": [
            "TRATAMIENTO_FISCAL\n",
            "Normal               45.500052\n",
            "Alícuota agravada    21.378656\n",
            "0                    20.244934\n",
            "0.0                   7.310092\n",
            "Especial 1            1.410772\n",
            "3                     1.035342\n",
            "Especial 2            1.031625\n",
            "Exento/Desgravado     0.508254\n",
            "3.0                   0.416565\n",
            "Minorista             0.324381\n",
            "Name: proportion, dtype: float64\n",
            "\n",
            "Contribución porcentual de los 10 casos mayoritarios: 99.16 %\n",
            "Cardinalidad: 17\n"
          ]
        }
      ],
      "source": [
        "m = 10\n",
        "a = 100*ventas[ventas.columns[m]].value_counts(normalize=True).iloc[:10]\n",
        "print(a)\n",
        "print(f'\\nContribución porcentual de los 10 casos mayoritarios: {np.sum(a):.2f} %')\n",
        "print(f'Cardinalidad: {ventas[ventas.columns[m]].nunique()}')"
      ]
    },
    {
      "cell_type": "code",
      "execution_count": 24,
      "metadata": {},
      "outputs": [
        {
          "name": "stdout",
          "output_type": "stream",
          "text": [
            "DESC_TRATAMIENTO_FISCAL\n",
            "Normal                     94.360197\n",
            "Otro Tratamiento Fiscal     4.971954\n",
            "Exento/Desgravado           0.666152\n",
            "Minorista                   0.001697\n",
            "Name: proportion, dtype: float64\n",
            "\n",
            "Contribución porcentual de los 10 casos mayoritarios: 100.00 %\n",
            "Cardinalidad: 4\n"
          ]
        }
      ],
      "source": [
        "m = 11\n",
        "a = 100*ventas[ventas.columns[m]].value_counts(normalize=True).iloc[:10]\n",
        "print(a)\n",
        "print(f'\\nContribución porcentual de los 10 casos mayoritarios: {np.sum(a):.2f} %')\n",
        "print(f'Cardinalidad: {ventas[ventas.columns[m]].nunique()}')"
      ]
    },
    {
      "cell_type": "code",
      "execution_count": 25,
      "metadata": {},
      "outputs": [
        {
          "name": "stdout",
          "output_type": "stream",
          "text": [
            "TRATAMIENTO_DIFERNCIAL\n",
            "Artículo 21         34.447013\n",
            "Artículo 20         18.382335\n",
            "Artículo 19 y 20     9.264610\n",
            "Artículo 22          8.162970\n",
            "Artículo 16          7.786125\n",
            "Artículo 18          7.085410\n",
            "Artículo 34          6.537600\n",
            "Artículo 19          4.785812\n",
            "Artículo 31          2.336921\n",
            "Artículo 17          0.734427\n",
            "Name: proportion, dtype: float64\n",
            "\n",
            "Contribución porcentual de los 10 casos mayoritarios: 99.52 %\n",
            "Cardinalidad: 11\n"
          ]
        }
      ],
      "source": [
        "m = 12\n",
        "a = 100*ventas[ventas.columns[m]].value_counts(normalize=True).iloc[:10]\n",
        "print(a)\n",
        "print(f'\\nContribución porcentual de los 10 casos mayoritarios: {np.sum(a):.2f} %')\n",
        "print(f'Cardinalidad: {ventas[ventas.columns[m]].nunique()}')"
      ]
    },
    {
      "cell_type": "code",
      "execution_count": 26,
      "metadata": {},
      "outputs": [
        {
          "name": "stdout",
          "output_type": "stream",
          "text": [
            "CM04\n",
            "Si    100.0\n",
            "Name: proportion, dtype: float64\n",
            "\n",
            "Contribución porcentual de los 10 casos mayoritarios: 100.00 %\n",
            "Cardinalidad: 1\n"
          ]
        }
      ],
      "source": [
        "m = 13\n",
        "a = 100*ventas[ventas.columns[m]].value_counts(normalize=True).iloc[:10]\n",
        "print(a)\n",
        "print(f'\\nContribución porcentual de los 10 casos mayoritarios: {np.sum(a):.2f} %')\n",
        "print(f'Cardinalidad: {ventas[ventas.columns[m]].nunique()}')"
      ]
    },
    {
      "cell_type": "code",
      "execution_count": 27,
      "metadata": {},
      "outputs": [
        {
          "name": "stdout",
          "output_type": "stream",
          "text": [
            "CATEGORIA (Ajustado)\n",
            "COMERCIO AL POR MAYOR Y AL POR MENOR; REPARACION DE VEHÍCULOS AUTOMOTORES Y MOTOCICLETAS    100.0\n",
            "Name: proportion, dtype: float64\n",
            "\n",
            "Contribución porcentual de los 10 casos mayoritarios: 100.00 %\n",
            "Cardinalidad: 1\n"
          ]
        }
      ],
      "source": [
        "m = 14\n",
        "a = 100*ventas[ventas.columns[m]].value_counts(normalize=True).iloc[:10]\n",
        "print(a)\n",
        "print(f'\\nContribución porcentual de los 10 casos mayoritarios: {np.sum(a):.2f} %')\n",
        "print(f'Cardinalidad: {ventas[ventas.columns[m]].nunique()}')"
      ]
    },
    {
      "cell_type": "code",
      "execution_count": 28,
      "metadata": {},
      "outputs": [
        {
          "name": "stdout",
          "output_type": "stream",
          "text": [
            "SUB-CATEGORIA\n",
            "Venta de Artículos, productos, accesorios, etc de diversos materiales      32.510093\n",
            "Venta de Productos Alimenticios, Bebidas, Lácteos y afines                 12.925892\n",
            "Venta en Comisión, Consignación o Intermediación de Productos Varios       10.778993\n",
            "Venta de Autos, Camionetas, Motos, y Afines                                 5.450909\n",
            "Venta de Semillas, Fertilizantes, Granos y afines                           5.396217\n",
            "Venta de Combustibles (Incluye tmb gas, carbón, leña, etc)                  5.109778\n",
            "Venta de Productos Pecuarios, Veterinarios y similares                      5.013604\n",
            "Venta de Productos farmacéuticos, de perfumería, cosméticos y similares     4.162630\n",
            "Venta de Combustibles Ley 23966 (Incluye tmb gas, carbón, leña, etc)        3.797861\n",
            "Venta de Cereales y afines                                                  2.637507\n",
            "Name: proportion, dtype: float64\n",
            "\n",
            "Contribución porcentual de los 10 casos mayoritarios: 87.78 %\n",
            "Cardinalidad: 21\n"
          ]
        }
      ],
      "source": [
        "m = 15\n",
        "a = 100*ventas[ventas.columns[m]].value_counts(normalize=True).iloc[:10]\n",
        "print(a)\n",
        "print(f'\\nContribución porcentual de los 10 casos mayoritarios: {np.sum(a):.2f} %')\n",
        "print(f'Cardinalidad: {ventas[ventas.columns[m]].nunique()}')"
      ]
    },
    {
      "cell_type": "code",
      "execution_count": 29,
      "metadata": {},
      "outputs": [
        {
          "name": "stdout",
          "output_type": "stream",
          "text": [
            "NOMBRE\n",
            "b1ccd106f41645af33abb71ae22795538722ff64dfc00ba0648f08da873a7885    0.386903\n",
            "2b4d09f9300910518b29d969464e5803e116f0269ccc1aed01b78b26f488d996    0.331432\n",
            "647e28b66d0645b67f813f21e60bf8e4b0e5d6398bf6a76f7c809a73004d69d7    0.299635\n",
            "6756ab2659995f2313e62ed20b3b25da8095e9bdfa4d27446abdf192d0d033c2    0.298243\n",
            "513f60ed55af2c96997fe4705e189ac3fdcee06b772f1603e50b54e46499e51c    0.293137\n",
            "f06ca14d0fef9130a29fec95199b826606409a15a94dc89feaa1dc4b8245fa71    0.275962\n",
            "08637fe6f26504a4b8a40583521fdbc7076c34a78de28b7388963de2551beb94    0.269463\n",
            "70afcc59e26b9f4540db7677f0179cc76db5f474b5e2a1b17be2c170ed8473cc    0.236737\n",
            "03ec08d444e2a3997d82891f5d99905fcde259c7202a2ef29e7b86ea80def40c    0.233952\n",
            "6af380a68c81ab9eb1bbec7a6a48c44ae9d97ee4fdd1b7e81a27a198901ddd08    0.228150\n",
            "Name: proportion, dtype: float64\n",
            "\n",
            "Contribución porcentual de los 10 casos mayoritarios: 2.85 %\n",
            "Cardinalidad: 3199\n"
          ]
        }
      ],
      "source": [
        "m = 16\n",
        "a = 100*ventas[ventas.columns[m]].value_counts(normalize=True).iloc[:10]\n",
        "print(a)\n",
        "print(f'\\nContribución porcentual de los 10 casos mayoritarios: {np.sum(a):.2f} %')\n",
        "print(f'Cardinalidad: {ventas[ventas.columns[m]].nunique()}')"
      ]
    },
    {
      "cell_type": "code",
      "execution_count": 30,
      "metadata": {},
      "outputs": [
        {
          "name": "stdout",
          "output_type": "stream",
          "text": [
            "OMEGA\n",
            "1    100.0\n",
            "Name: proportion, dtype: float64\n",
            "\n",
            "Contribución porcentual de los 10 casos mayoritarios: 100.00 %\n",
            "Cardinalidad: 1\n"
          ]
        }
      ],
      "source": [
        "m = 17\n",
        "a = 100*ventas[ventas.columns[m]].value_counts(normalize=True).iloc[:10]\n",
        "print(a)\n",
        "print(f'\\nContribución porcentual de los 10 casos mayoritarios: {np.sum(a):.2f} %')\n",
        "print(f'Cardinalidad: {ventas[ventas.columns[m]].nunique()}')"
      ]
    },
    {
      "cell_type": "code",
      "execution_count": 31,
      "metadata": {},
      "outputs": [
        {
          "name": "stdout",
          "output_type": "stream",
          "text": [
            "MODELO\n",
            "0    99.677641\n",
            "1     0.322359\n",
            "Name: proportion, dtype: float64\n",
            "\n",
            "Contribución porcentual de los 10 casos mayoritarios: 100.00 %\n",
            "Cardinalidad: 2\n"
          ]
        }
      ],
      "source": [
        "m = 18\n",
        "a = 100*ventas[ventas.columns[m]].value_counts(normalize=True).iloc[:10]\n",
        "print(a)\n",
        "print(f'\\nContribución porcentual de los 10 casos mayoritarios: {np.sum(a):.2f} %')\n",
        "print(f'Cardinalidad: {ventas[ventas.columns[m]].nunique()}')"
      ]
    },
    {
      "attachments": {},
      "cell_type": "markdown",
      "metadata": {},
      "source": [
        "### Descarte de columnas/variables"
      ]
    },
    {
      "cell_type": "code",
      "execution_count": 32,
      "metadata": {},
      "outputs": [
        {
          "data": {
            "text/plain": [
              "(431506, 14)"
            ]
          },
          "execution_count": 32,
          "metadata": {},
          "output_type": "execute_result"
        }
      ],
      "source": [
        "ventas_clean = ventas.drop(['NOMBRE', 'CATEGORIA', 'OMEGA',\n",
        "                        'CATEGORIA (Ajustado)', 'DESCRIPCION_CATEGORIA'], axis=1).copy()\n",
        "ventas_clean.shape"
      ]
    },
    {
      "attachments": {},
      "cell_type": "markdown",
      "metadata": {},
      "source": [
        "### Imputación de valores faltantes: `CM04` y `TRATAMIENTO_DIFERNCIAL`"
      ]
    },
    {
      "cell_type": "code",
      "execution_count": 33,
      "metadata": {},
      "outputs": [],
      "source": [
        "ventas_clean['CM04'] = ventas_clean['CM04'].fillna('No')\n",
        "ventas_clean['TRATAMIENTO_DIFERNCIAL'] = ventas_clean['TRATAMIENTO_DIFERNCIAL'].fillna('No')"
      ]
    },
    {
      "cell_type": "code",
      "execution_count": 34,
      "metadata": {},
      "outputs": [
        {
          "ename": "ValueError",
          "evalue": "keyword grid_b is not recognized; valid keywords are ['size', 'width', 'color', 'tickdir', 'pad', 'labelsize', 'labelcolor', 'zorder', 'gridOn', 'tick1On', 'tick2On', 'label1On', 'label2On', 'length', 'direction', 'left', 'bottom', 'right', 'top', 'labelleft', 'labelbottom', 'labelright', 'labeltop', 'labelrotation', 'grid_agg_filter', 'grid_alpha', 'grid_animated', 'grid_antialiased', 'grid_clip_box', 'grid_clip_on', 'grid_clip_path', 'grid_color', 'grid_dash_capstyle', 'grid_dash_joinstyle', 'grid_dashes', 'grid_data', 'grid_drawstyle', 'grid_figure', 'grid_fillstyle', 'grid_gapcolor', 'grid_gid', 'grid_in_layout', 'grid_label', 'grid_linestyle', 'grid_linewidth', 'grid_marker', 'grid_markeredgecolor', 'grid_markeredgewidth', 'grid_markerfacecolor', 'grid_markerfacecoloralt', 'grid_markersize', 'grid_markevery', 'grid_mouseover', 'grid_path_effects', 'grid_picker', 'grid_pickradius', 'grid_rasterized', 'grid_sketch_params', 'grid_snap', 'grid_solid_capstyle', 'grid_solid_joinstyle', 'grid_transform', 'grid_url', 'grid_visible', 'grid_xdata', 'grid_ydata', 'grid_zorder', 'grid_aa', 'grid_c', 'grid_ds', 'grid_ls', 'grid_lw', 'grid_mec', 'grid_mew', 'grid_mfc', 'grid_mfcalt', 'grid_ms']",
          "output_type": "error",
          "traceback": [
            "\u001b[0;31m---------------------------------------------------------------------------\u001b[0m",
            "\u001b[0;31mValueError\u001b[0m                                Traceback (most recent call last)",
            "Cell \u001b[0;32mIn[34], line 2\u001b[0m\n\u001b[1;32m      1\u001b[0m msno\u001b[39m.\u001b[39mbar(ventas_clean\u001b[39m.\u001b[39msort_values(\u001b[39m'\u001b[39m\u001b[39mID_VENDEDOR\u001b[39m\u001b[39m'\u001b[39m), sort\u001b[39m=\u001b[39m\u001b[39m\"\u001b[39m\u001b[39mascending\u001b[39m\u001b[39m\"\u001b[39m, fontsize\u001b[39m=\u001b[39m\u001b[39m12\u001b[39m, color\u001b[39m=\u001b[39m\u001b[39m\"\u001b[39m\u001b[39mtab:green\u001b[39m\u001b[39m\"\u001b[39m, figsize\u001b[39m=\u001b[39m(\u001b[39m6\u001b[39m, \u001b[39m5\u001b[39m))\n\u001b[0;32m----> 2\u001b[0m msno\u001b[39m.\u001b[39;49mmatrix(ventas_clean\u001b[39m.\u001b[39;49msort_values(\u001b[39m'\u001b[39;49m\u001b[39mID_VENDEDOR\u001b[39;49m\u001b[39m'\u001b[39;49m), fontsize\u001b[39m=\u001b[39;49m\u001b[39m12\u001b[39;49m, color\u001b[39m=\u001b[39;49m[\u001b[39m0.5\u001b[39;49m,\u001b[39m0\u001b[39;49m,\u001b[39m0\u001b[39;49m], figsize\u001b[39m=\u001b[39;49m(\u001b[39m6\u001b[39;49m, \u001b[39m5\u001b[39;49m))\n\u001b[1;32m      3\u001b[0m msno\u001b[39m.\u001b[39mheatmap(ventas_clean\u001b[39m.\u001b[39msort_values(\u001b[39m'\u001b[39m\u001b[39mID_VENDEDOR\u001b[39m\u001b[39m'\u001b[39m), fontsize\u001b[39m=\u001b[39m\u001b[39m12\u001b[39m, figsize\u001b[39m=\u001b[39m(\u001b[39m6\u001b[39m, \u001b[39m5\u001b[39m))\n\u001b[1;32m      5\u001b[0m plt\u001b[39m.\u001b[39mshow()\n",
            "File \u001b[0;32m~/miniconda3/envs/diplodatos/lib/python3.11/site-packages/missingno/missingno.py:72\u001b[0m, in \u001b[0;36mmatrix\u001b[0;34m(df, filter, n, p, sort, figsize, width_ratios, color, fontsize, labels, sparkline, inline, freq, ax)\u001b[0m\n\u001b[1;32m     70\u001b[0m \u001b[39m# Remove extraneous default visual elements.\u001b[39;00m\n\u001b[1;32m     71\u001b[0m ax0\u001b[39m.\u001b[39mset_aspect(\u001b[39m'\u001b[39m\u001b[39mauto\u001b[39m\u001b[39m'\u001b[39m)\n\u001b[0;32m---> 72\u001b[0m ax0\u001b[39m.\u001b[39;49mgrid(b\u001b[39m=\u001b[39;49m\u001b[39mFalse\u001b[39;49;00m)\n\u001b[1;32m     73\u001b[0m ax0\u001b[39m.\u001b[39mxaxis\u001b[39m.\u001b[39mtick_top()\n\u001b[1;32m     74\u001b[0m ax0\u001b[39m.\u001b[39mxaxis\u001b[39m.\u001b[39mset_ticks_position(\u001b[39m'\u001b[39m\u001b[39mnone\u001b[39m\u001b[39m'\u001b[39m)\n",
            "File \u001b[0;32m~/miniconda3/envs/diplodatos/lib/python3.11/site-packages/matplotlib/axes/_base.py:3194\u001b[0m, in \u001b[0;36m_AxesBase.grid\u001b[0;34m(self, visible, which, axis, **kwargs)\u001b[0m\n\u001b[1;32m   3192\u001b[0m _api\u001b[39m.\u001b[39mcheck_in_list([\u001b[39m'\u001b[39m\u001b[39mx\u001b[39m\u001b[39m'\u001b[39m, \u001b[39m'\u001b[39m\u001b[39my\u001b[39m\u001b[39m'\u001b[39m, \u001b[39m'\u001b[39m\u001b[39mboth\u001b[39m\u001b[39m'\u001b[39m], axis\u001b[39m=\u001b[39maxis)\n\u001b[1;32m   3193\u001b[0m \u001b[39mif\u001b[39;00m axis \u001b[39min\u001b[39;00m [\u001b[39m'\u001b[39m\u001b[39mx\u001b[39m\u001b[39m'\u001b[39m, \u001b[39m'\u001b[39m\u001b[39mboth\u001b[39m\u001b[39m'\u001b[39m]:\n\u001b[0;32m-> 3194\u001b[0m     \u001b[39mself\u001b[39;49m\u001b[39m.\u001b[39;49mxaxis\u001b[39m.\u001b[39;49mgrid(visible, which\u001b[39m=\u001b[39;49mwhich, \u001b[39m*\u001b[39;49m\u001b[39m*\u001b[39;49mkwargs)\n\u001b[1;32m   3195\u001b[0m \u001b[39mif\u001b[39;00m axis \u001b[39min\u001b[39;00m [\u001b[39m'\u001b[39m\u001b[39my\u001b[39m\u001b[39m'\u001b[39m, \u001b[39m'\u001b[39m\u001b[39mboth\u001b[39m\u001b[39m'\u001b[39m]:\n\u001b[1;32m   3196\u001b[0m     \u001b[39mself\u001b[39m\u001b[39m.\u001b[39myaxis\u001b[39m.\u001b[39mgrid(visible, which\u001b[39m=\u001b[39mwhich, \u001b[39m*\u001b[39m\u001b[39m*\u001b[39mkwargs)\n",
            "File \u001b[0;32m~/miniconda3/envs/diplodatos/lib/python3.11/site-packages/matplotlib/axis.py:1660\u001b[0m, in \u001b[0;36mAxis.grid\u001b[0;34m(self, visible, which, **kwargs)\u001b[0m\n\u001b[1;32m   1657\u001b[0m \u001b[39mif\u001b[39;00m which \u001b[39min\u001b[39;00m [\u001b[39m'\u001b[39m\u001b[39mmajor\u001b[39m\u001b[39m'\u001b[39m, \u001b[39m'\u001b[39m\u001b[39mboth\u001b[39m\u001b[39m'\u001b[39m]:\n\u001b[1;32m   1658\u001b[0m     gridkw[\u001b[39m'\u001b[39m\u001b[39mgridOn\u001b[39m\u001b[39m'\u001b[39m] \u001b[39m=\u001b[39m (\u001b[39mnot\u001b[39;00m \u001b[39mself\u001b[39m\u001b[39m.\u001b[39m_major_tick_kw[\u001b[39m'\u001b[39m\u001b[39mgridOn\u001b[39m\u001b[39m'\u001b[39m]\n\u001b[1;32m   1659\u001b[0m                         \u001b[39mif\u001b[39;00m visible \u001b[39mis\u001b[39;00m \u001b[39mNone\u001b[39;00m \u001b[39melse\u001b[39;00m visible)\n\u001b[0;32m-> 1660\u001b[0m     \u001b[39mself\u001b[39;49m\u001b[39m.\u001b[39;49mset_tick_params(which\u001b[39m=\u001b[39;49m\u001b[39m'\u001b[39;49m\u001b[39mmajor\u001b[39;49m\u001b[39m'\u001b[39;49m, \u001b[39m*\u001b[39;49m\u001b[39m*\u001b[39;49mgridkw)\n\u001b[1;32m   1661\u001b[0m \u001b[39mself\u001b[39m\u001b[39m.\u001b[39mstale \u001b[39m=\u001b[39m \u001b[39mTrue\u001b[39;00m\n",
            "File \u001b[0;32m~/miniconda3/envs/diplodatos/lib/python3.11/site-packages/matplotlib/axis.py:932\u001b[0m, in \u001b[0;36mAxis.set_tick_params\u001b[0;34m(self, which, reset, **kwargs)\u001b[0m\n\u001b[1;32m    919\u001b[0m \u001b[39m\u001b[39m\u001b[39m\"\"\"\u001b[39;00m\n\u001b[1;32m    920\u001b[0m \u001b[39mSet appearance parameters for ticks, ticklabels, and gridlines.\u001b[39;00m\n\u001b[1;32m    921\u001b[0m \n\u001b[0;32m   (...)\u001b[0m\n\u001b[1;32m    929\u001b[0m \u001b[39m    gridlines.\u001b[39;00m\n\u001b[1;32m    930\u001b[0m \u001b[39m\"\"\"\u001b[39;00m\n\u001b[1;32m    931\u001b[0m _api\u001b[39m.\u001b[39mcheck_in_list([\u001b[39m'\u001b[39m\u001b[39mmajor\u001b[39m\u001b[39m'\u001b[39m, \u001b[39m'\u001b[39m\u001b[39mminor\u001b[39m\u001b[39m'\u001b[39m, \u001b[39m'\u001b[39m\u001b[39mboth\u001b[39m\u001b[39m'\u001b[39m], which\u001b[39m=\u001b[39mwhich)\n\u001b[0;32m--> 932\u001b[0m kwtrans \u001b[39m=\u001b[39m \u001b[39mself\u001b[39;49m\u001b[39m.\u001b[39;49m_translate_tick_params(kwargs)\n\u001b[1;32m    934\u001b[0m \u001b[39m# the kwargs are stored in self._major/minor_tick_kw so that any\u001b[39;00m\n\u001b[1;32m    935\u001b[0m \u001b[39m# future new ticks will automatically get them\u001b[39;00m\n\u001b[1;32m    936\u001b[0m \u001b[39mif\u001b[39;00m reset:\n",
            "File \u001b[0;32m~/miniconda3/envs/diplodatos/lib/python3.11/site-packages/matplotlib/axis.py:1076\u001b[0m, in \u001b[0;36mAxis._translate_tick_params\u001b[0;34m(kw, reverse)\u001b[0m\n\u001b[1;32m   1074\u001b[0m \u001b[39mfor\u001b[39;00m key \u001b[39min\u001b[39;00m kw_:\n\u001b[1;32m   1075\u001b[0m     \u001b[39mif\u001b[39;00m key \u001b[39mnot\u001b[39;00m \u001b[39min\u001b[39;00m allowed_keys:\n\u001b[0;32m-> 1076\u001b[0m         \u001b[39mraise\u001b[39;00m \u001b[39mValueError\u001b[39;00m(\n\u001b[1;32m   1077\u001b[0m             \u001b[39m\"\u001b[39m\u001b[39mkeyword \u001b[39m\u001b[39m%s\u001b[39;00m\u001b[39m is not recognized; valid keywords are \u001b[39m\u001b[39m%s\u001b[39;00m\u001b[39m\"\u001b[39m\n\u001b[1;32m   1078\u001b[0m             \u001b[39m%\u001b[39m (key, allowed_keys))\n\u001b[1;32m   1079\u001b[0m kwtrans\u001b[39m.\u001b[39mupdate(kw_)\n\u001b[1;32m   1080\u001b[0m \u001b[39mreturn\u001b[39;00m kwtrans\n",
            "\u001b[0;31mValueError\u001b[0m: keyword grid_b is not recognized; valid keywords are ['size', 'width', 'color', 'tickdir', 'pad', 'labelsize', 'labelcolor', 'zorder', 'gridOn', 'tick1On', 'tick2On', 'label1On', 'label2On', 'length', 'direction', 'left', 'bottom', 'right', 'top', 'labelleft', 'labelbottom', 'labelright', 'labeltop', 'labelrotation', 'grid_agg_filter', 'grid_alpha', 'grid_animated', 'grid_antialiased', 'grid_clip_box', 'grid_clip_on', 'grid_clip_path', 'grid_color', 'grid_dash_capstyle', 'grid_dash_joinstyle', 'grid_dashes', 'grid_data', 'grid_drawstyle', 'grid_figure', 'grid_fillstyle', 'grid_gapcolor', 'grid_gid', 'grid_in_layout', 'grid_label', 'grid_linestyle', 'grid_linewidth', 'grid_marker', 'grid_markeredgecolor', 'grid_markeredgewidth', 'grid_markerfacecolor', 'grid_markerfacecoloralt', 'grid_markersize', 'grid_markevery', 'grid_mouseover', 'grid_path_effects', 'grid_picker', 'grid_pickradius', 'grid_rasterized', 'grid_sketch_params', 'grid_snap', 'grid_solid_capstyle', 'grid_solid_joinstyle', 'grid_transform', 'grid_url', 'grid_visible', 'grid_xdata', 'grid_ydata', 'grid_zorder', 'grid_aa', 'grid_c', 'grid_ds', 'grid_ls', 'grid_lw', 'grid_mec', 'grid_mew', 'grid_mfc', 'grid_mfcalt', 'grid_ms']"
          ]
        },
        {
          "data": {
            "image/png": "[encoded data removed]",
            "text/plain": [
              "<Figure size 600x500 with 3 Axes>"
            ]
          },
          "metadata": {},
          "output_type": "display_data"
        },
        {
          "data": {
            "image/png": "[encoded data removed]",
            "text/plain": [
              "<Figure size 600x500 with 2 Axes>"
            ]
          },
          "metadata": {},
          "output_type": "display_data"
        }
      ],
      "source": [
        "msno.bar(ventas_clean.sort_values('ID_VENDEDOR'), sort=\"ascending\", fontsize=12, color=\"tab:green\", figsize=(6, 5))\n",
        "msno.matrix(ventas_clean.sort_values('ID_VENDEDOR'), fontsize=12, color=[0.5,0,0], figsize=(6, 5))\n",
        "msno.heatmap(ventas_clean.sort_values('ID_VENDEDOR'), fontsize=12, figsize=(6, 5))\n",
        "\n",
        "plt.show()"
      ]
    },
    {
      "attachments": {},
      "cell_type": "markdown",
      "metadata": {},
      "source": [
        "---\n",
        "# Simplificación"
      ]
    },
    {
      "attachments": {},
      "cell_type": "markdown",
      "metadata": {},
      "source": [
        "### Simplificación de variables"
      ]
    },
    {
      "cell_type": "code",
      "execution_count": 35,
      "metadata": {},
      "outputs": [],
      "source": [
        "# Se reacomodan las columnas deliberadamente\n",
        "ventas_clean = ventas_clean[['ID_VENDEDOR', 'INSCRIPCION', 'SUB-CATEGORIA', \n",
        "                             'DESC_TRATAMIENTO_FISCAL', 'TRATAMIENTO_FISCAL',\n",
        "                             'TRATAMIENTO_DIFERNCIAL', 'CM04', 'AÑO', 'MES', \n",
        "                             'DEPOSITO', 'TOTAL_VENTAS', \n",
        "                             'PORCENTAJE_COMISION_EMPRESA', \n",
        "                             'COMISION_EMPRESA', 'MODELO']]\n",
        "ventas_clean = ventas_clean.sort_values(['AÑO', 'MES', 'TOTAL_VENTAS']).reset_index(drop=True)"
      ]
    },
    {
      "attachments": {},
      "cell_type": "markdown",
      "metadata": {},
      "source": [
        "Ejecutar sólo para escribir el diccionario. \n",
        "No debería ser necesario porque ya lo tenemos como json por fuera, pero queda para registro."
      ]
    },
    {
      "cell_type": "code",
      "execution_count": 71,
      "metadata": {},
      "outputs": [],
      "source": [
        "# Se modifican los nombres de las columnas\n",
        "\n",
        "# column_dict = {'ID_VENDEDOR': 'ID', \n",
        "#                 'INSCRIPCION': 'Inscripcion', \n",
        "#                 'SUB-CATEGORIA': 'Categoria', \n",
        "#                 'DESC_TRATAMIENTO_FISCAL': 'Trat_Fisc_Agg', \n",
        "#                 'TRATAMIENTO_FISCAL': 'Trat_Fisc', \n",
        "#                 'TRATAMIENTO_DIFERNCIAL': 'Trat_Dif', \n",
        "#                 'CM04': 'CM', \n",
        "#                 'AÑO': 'Año', \n",
        "#                 'MES': 'Mes', \n",
        "#                 'DEPOSITO': 'Deposito', \n",
        "#                 'TOTAL_VENTAS': 'Ventas', \n",
        "#                 'PORCENTAJE_COMISION_EMPRESA': 'Alicuota', \n",
        "#                 'COMISION_EMPRESA': 'Comision', \n",
        "#                 'MODELO': 'Modelo'}\n",
        "\n",
        "# with open(\"../../references/column_dict.json\", \"w\") as fp:\n",
        "#     json.dump(column_dict , fp) \n",
        "\n"
      ]
    },
    {
      "attachments": {},
      "cell_type": "markdown",
      "metadata": {},
      "source": [
        "Renombramos las columnas para mayor legibilidad"
      ]
    },
    {
      "cell_type": "code",
      "execution_count": 72,
      "metadata": {},
      "outputs": [
        {
          "data": {
            "text/plain": [
              "Index(['ID', 'Inscripcion', 'Categoria', 'Trat_Fisc_Agg', 'Trat_Fisc',\n",
              "       'Trat_Dif', 'CM', 'Año', 'Mes', 'Deposito', 'Ventas', 'Alicuota',\n",
              "       'Comision', 'Modelo'],\n",
              "      dtype='object')"
            ]
          },
          "execution_count": 72,
          "metadata": {},
          "output_type": "execute_result"
        }
      ],
      "source": [
        "with open(\"../../references/column_dict.json\") as column_dict_json:\n",
        "    column_dict = json.load(column_dict_json)\n",
        "\n",
        "ventas_clean.rename(columns = column_dict, inplace = True)\n",
        "ventas_clean.columns"
      ]
    },
    {
      "attachments": {},
      "cell_type": "markdown",
      "metadata": {},
      "source": [
        "### Simplificación de valores"
      ]
    },
    {
      "cell_type": "code",
      "execution_count": 73,
      "metadata": {},
      "outputs": [],
      "source": [
        "ven_cln_map = ventas_clean.copy()"
      ]
    },
    {
      "attachments": {},
      "cell_type": "markdown",
      "metadata": {},
      "source": [
        "#### Mapeos de string/entero a otros enteros: generación de variables indicadoras"
      ]
    },
    {
      "cell_type": "code",
      "execution_count": 74,
      "metadata": {},
      "outputs": [
        {
          "name": "stdout",
          "output_type": "stream",
          "text": [
            "Actualizando variable Deposito\n",
            "\t Progreso del 0%\n",
            "\t Progreso del 10%\n",
            "\t Progreso del 20%\n",
            "\t Progreso del 30%\n",
            "\t Progreso del 40%\n",
            "\t Progreso del 50%\n",
            "\t Progreso del 60%\n",
            "\t Progreso del 70%\n",
            "\t Progreso del 80%\n",
            "\t Progreso del 90%\n",
            "\t Progreso del 100%\n",
            "Actualizando variable ID\n",
            "\t Progreso del 0%\n",
            "\t Progreso del 10%\n",
            "\t Progreso del 20%\n",
            "\t Progreso del 30%\n",
            "\t Progreso del 40%\n",
            "\t Progreso del 50%\n",
            "\t Progreso del 60%\n",
            "\t Progreso del 70%\n",
            "\t Progreso del 80%\n",
            "\t Progreso del 90%\n",
            "\t Progreso del 100%\n",
            "Actualizando variable Inscripcion\n",
            "\t Progreso del 0%\n",
            "\t Progreso del 10%\n",
            "\t Progreso del 20%\n",
            "\t Progreso del 30%\n",
            "\t Progreso del 40%\n",
            "\t Progreso del 50%\n",
            "\t Progreso del 60%\n",
            "\t Progreso del 70%\n",
            "\t Progreso del 80%\n",
            "\t Progreso del 90%\n",
            "\t Progreso del 100%\n"
          ]
        }
      ],
      "source": [
        "# Mapeo de `ID`, `Inscripcion` y `Deposito` a enteros según cardinalidad\n",
        "for col in ['Deposito', 'ID', 'Inscripcion']:\n",
        "    print(f'Actualizando variable {col}')\n",
        "    valunico = ven_cln_map[col].unique()\n",
        "    porc10 = int(0.1 * len(valunico))\n",
        "    prog = 0\n",
        "    for v in range(len(valunico)):\n",
        "        ven_cln_map[col] = ven_cln_map[col].replace({valunico[v]: v})\n",
        "        if v % porc10 == 0:\n",
        "            print(f'\\t Progreso del {prog}%')\n",
        "            prog += 10"
      ]
    },
    {
      "cell_type": "code",
      "execution_count": 75,
      "metadata": {},
      "outputs": [],
      "source": [
        "# Mapeo de `CM` según \"Si\" >> 1 y \"No\" >> 0.\n",
        "ven_cln_map['CM'] = ven_cln_map['CM'].replace({'No': 0, 'Si': 1})\n"
      ]
    },
    {
      "cell_type": "code",
      "execution_count": 76,
      "metadata": {},
      "outputs": [
        {
          "name": "stdout",
          "output_type": "stream",
          "text": [
            "Variable Deposito\n",
            "[  0   1   2   3   4   5   6   7   8   9  10  11  12  13  14  15  16  17\n",
            "  18  19  20  21  22  23  24  25  26  27  28  29  30  31  32  33  34  35\n",
            "  36  37  38  39  40  41  42  43  44  45  46  47  48  49  50  51  52  53\n",
            "  54  55  56  57  58  59  60  61  62  63  64  65  66  67  68  69  70  71\n",
            "  72  73  74  75  76  77  78  79  80  81  82  83  84  85  86  87  88  89\n",
            "  90  91  92  93  94  95  96  97  98  99 100 101 102 103 104 105 106 107\n",
            " 108 109 110 111 112 113 114 115 116 117 118 119 120 121 122 123 124 125\n",
            " 126 127 128 129 130 131 132 133 134 135 136 137 138 139 140 141 142 143\n",
            " 144 145 146 147 148 149 150 151 152 153 154 155 156 157 158 159 160 161\n",
            " 162 163 164 165 166 167 168 169 170 171 172 173 174 175 176 177 178 179\n",
            " 180 181 182 183 184 185 186 187 188 189 190 191 192 193 194 195 196 197\n",
            " 198 199 200 201 202 203 204 205 206 207 208 209 210 211 212 213 214 215\n",
            " 216 217 218 219 220 221 222 223 224 225 226 227 228 229 230 231 232 233\n",
            " 234 235 236 237 238 239 240]\n",
            "Variable ID\n",
            "[   0    1    2 ... 3206 3207 3208]\n",
            "Variable Inscripcion\n",
            "[   0    1    2 ... 3342 3343 3344]\n"
          ]
        }
      ],
      "source": [
        "for col in ['Deposito', 'ID', 'Inscripcion']:\n",
        "    print(f'Variable {col}')\n",
        "    print(ven_cln_map[col].unique())"
      ]
    },
    {
      "attachments": {},
      "cell_type": "markdown",
      "metadata": {},
      "source": [
        "#### Unificacón y simplificación de categorías de `Trat_Fisc`"
      ]
    },
    {
      "cell_type": "code",
      "execution_count": 90,
      "metadata": {},
      "outputs": [],
      "source": [
        "with open(\"../../references/trat_fisc_dict.json\") as trat_fisc_dict_json:\n",
        "    trat_fisc_dict = json.load(trat_fisc_dict_json)\n",
        "    \n",
        "ven_cln_map['Trat_Fisc'] = ven_cln_map['Trat_Fisc'].replace(trat_fisc_dict)"
      ]
    },
    {
      "attachments": {},
      "cell_type": "markdown",
      "metadata": {},
      "source": [
        "#### Simplificación de categorías de `Trat_Fisc_Agg`, `Trat_Dif` y `Categoria`"
      ]
    },
    {
      "cell_type": "code",
      "execution_count": 93,
      "metadata": {},
      "outputs": [],
      "source": [
        "with open(\"../../references/trat_fisc_agg_dict.json\") as trat_fisc_agg_dict_json:\n",
        "    trat_fisc_agg_dict = json.load(trat_fisc_agg_dict_json)\n",
        "\n",
        "ven_cln_map['Trat_Fisc_Agg'] = ven_cln_map['Trat_Fisc_Agg'].replace(trat_fisc_agg_dict)"
      ]
    },
    {
      "cell_type": "code",
      "execution_count": 99,
      "metadata": {},
      "outputs": [],
      "source": [
        "with open(\"../../references/trat_diff_dict.json\") as trat_diff_dict_json:\n",
        "    trat_diff_dict = json.load(trat_diff_dict_json)\n",
        "\n",
        "ven_cln_map['Trat_Dif'] = ven_cln_map['Trat_Dif'].replace(trat_diff_dict)"
      ]
    },
    {
      "cell_type": "code",
      "execution_count": 102,
      "metadata": {},
      "outputs": [],
      "source": [
        "categoria_dict = {'Acopio de Cereales, Semillas, Fertilizantes, Granos y afines': 'Acopio Agrop.',\n",
        "                'Cigarrillos, tabacos y afines': 'Tabaco',\n",
        "                'Fraccionamiento y distribución de gas licuado': 'Gas Licuado',\n",
        "                'Instalación, Mantenimiento, Reparación, etc de productos varios': 'Mantenimiento',\n",
        "                'Supermercados, Hipermercados, Kioscos y afines': 'Supermercados',\n",
        "                'Venta de Autos, Camionetas, Motos, y Afines': 'Vehiculos',\n",
        "                'Venta de Artículos, productos, accesorios, etc de diversos materiales': 'Misceláneo',\n",
        "                'Venta de Combustibles para reventa (Incluye tmb gas, carbón, leña, etc)': 'Comb. Reventa',\n",
        "                'Venta de Cereales y afines': 'Cerales',\n",
        "                'Venta de Combustibles de Producción Propia (Incluye tmb gas, carbón, leña, etc)': 'Comb. Prod.Propia',\n",
        "                'Venta de Combustibles (Incluye tmb gas, carbón, leña, etc)': 'Comb.',\n",
        "                'Venta de Combustibles Ley 23966 (Incluye tmb gas, carbón, leña, etc)': 'Comb. Ley',\n",
        "                'Venta de Productos Pecuarios, Veterinarios y similares': 'Veterinarios',\n",
        "                'Venta de Productos farmacéuticos, de perfumería, cosméticos y similares': 'Farmacia',\n",
        "                'Venta de Semillas, Fertilizantes, Granos y afines': 'Venta Agrop.',\n",
        "                'Venta de Productos Alimenticios, Bebidas, Lácteos y afines': 'Gondola',\n",
        "                'Venta en Comisión, Consignación o Intermediación de Cereales': 'Com. Cerales',\n",
        "                'Venta en Comisión, Consignación o Intermediación de Productos Varios': 'Com. Varios',\n",
        "                'Venta en Comisión, Consignación o Intermediación de Ganado': 'Com. Ganado',\n",
        "                'Venta no realizada en Establecimientos (si en Puestos móviles)': 'Venta movil',\n",
        "                'Venta por Correo, Internet, tv, etc': 'Comunicacion'}\n",
        "\n",
        "with open(\"../../references/categoria_dict.json\", \"w\") as fp:\n",
        "    json.dump(categoria_dict , fp) "
      ]
    },
    {
      "cell_type": "code",
      "execution_count": 104,
      "metadata": {},
      "outputs": [],
      "source": [
        "with open(\"../../references/categoria_dict.json\") as categoria_dict_json:\n",
        "    categoria_dict = json.load(categoria_dict_json)\n",
        "\n",
        "ven_cln_map['Categoria'] = ven_cln_map['Categoria'].replace(categoria_dict)"
      ]
    },
    {
      "attachments": {},
      "cell_type": "markdown",
      "metadata": {},
      "source": [
        "### Justificación"
      ]
    },
    {
      "cell_type": "code",
      "execution_count": null,
      "metadata": {},
      "outputs": [],
      "source": [
        "fig, axs = plt.subplots(2, 2, figsize=(12, 10))\n",
        "\n",
        "fig.suptitle('Efectos del mapeo de variables')\n",
        "\n",
        "axs[0, 0].scatter(ventas_clean['ID'], ventas_clean['Inscripcion'])\n",
        "axs[0, 1].scatter(ven_cln_map['ID'], ven_cln_map['Inscripcion'])\n",
        "\n",
        "axs[1, 0].scatter(ventas_clean['ID'], ventas_clean['Deposito'])\n",
        "axs[1, 1].scatter(ven_cln_map['ID'], ven_cln_map['Deposito'])\n",
        "\n",
        "axs[0, 0].set_title('Antes')\n",
        "axs[0, 1].set_title('Ahora')\n",
        "\n",
        "axs[0, 0].set_ylabel('Inscripcion')\n",
        "axs[1, 0].set_ylabel('Deposito')\n",
        "axs[1, 0].set_xlabel('ID')\n",
        "axs[1, 1].set_xlabel('ID')\n",
        "\n",
        "plt.show()"
      ]
    },
    {
      "attachments": {},
      "cell_type": "markdown",
      "metadata": {},
      "source": [
        "---\n",
        "# Guardado del dataset"
      ]
    },
    {
      "cell_type": "code",
      "execution_count": 105,
      "metadata": {},
      "outputs": [],
      "source": [
        "# Descomentar sólo cuando se desee guardar\n",
        "\n",
        "ven_cln_map.to_csv('../../data/interim/ven_cln_map.csv')"
      ]
    }
  ],
  "metadata": {
    "colab": {
      "provenance": [],
      "toc_visible": true
    },
    "kernelspec": {
      "display_name": "Python 3",
      "name": "python3"
    },
    "language_info": {
      "codemirror_mode": {
        "name": "ipython",
        "version": 3
      },
      "file_extension": ".py",
      "mimetype": "text/x-python",
      "name": "python",
      "nbconvert_exporter": "python",
      "pygments_lexer": "ipython3",
      "version": "3.11.3"
    }
  },
  "nbformat": 4,
  "nbformat_minor": 0
}
