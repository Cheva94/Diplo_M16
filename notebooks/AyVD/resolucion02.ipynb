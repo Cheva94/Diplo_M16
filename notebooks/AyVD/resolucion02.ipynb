{
  "cells": [
    {
      "attachments": {},
      "cell_type": "markdown",
      "metadata": {},
      "source": [
        "# Diplomatura en ciencia de datos, aprendizaje automático y sus aplicaciones - Edición 2023 - FAMAF (UNC)"
      ]
    },
    {
      "attachments": {},
      "cell_type": "markdown",
      "metadata": {},
      "source": [
        "## Mentoría 16 - ¿Cómo identificar fuga de ventas? Inteligencia artificial aplicada al sector comercial.\n",
        "\n",
        "### Análisis y visualización de datos (TP1 - Parte 2: Análisis detallado)\n",
        "\n",
        "**Integrantes:**\n",
        "- Canalis, Patricio.\n",
        "- Chevallier-Boutell, Ignacio José.\n",
        "- Villarroel Torrez, Daniel.\n",
        "\n",
        "**Mentores:**\n",
        "- Gonzalez, Lucía\n",
        "- Lahoz, Nahuel\n",
        "\n",
        "---"
      ]
    },
    {
      "attachments": {},
      "cell_type": "markdown",
      "metadata": {},
      "source": [
        "## Librerías"
      ]
    },
    {
      "cell_type": "code",
      "execution_count": null,
      "metadata": {},
      "outputs": [],
      "source": [
        "import numpy as np\n",
        "import pandas as pd\n",
        "import missingno as msno\n",
        "import matplotlib.pyplot as plt\n",
        "import seaborn as sns\n",
        "from statsmodels.graphics.tsaplots import plot_acf\n",
        "from scipy.stats import linregress as LR\n",
        "from scipy.stats import skew, kurtosis, skewtest, kurtosistest"
      ]
    },
    {
      "attachments": {},
      "cell_type": "markdown",
      "metadata": {},
      "source": [
        "## Dataset"
      ]
    },
    {
      "cell_type": "code",
      "execution_count": null,
      "metadata": {},
      "outputs": [],
      "source": [
        "# Está la URL del archivo hosteado, pero también está el path relativo dentro de este proyecto \n",
        "# donde se escribió el data set al final del notebook `resolucion01.ipynb` \n",
        "\n",
        "# url = 'https://www.dropbox.com/scl/fi/684jriu2g52lqyv45z53s/ven_cln_map.csv?dl=1&rlkey=hr7lcqja46a9fj5bdx7ofdgah'\n",
        "path = '../../data/interim/ven_cln_map.csv'\n",
        "ventas = pd.read_csv(path, index_col=0)"
      ]
    },
    {
      "cell_type": "code",
      "execution_count": null,
      "metadata": {},
      "outputs": [],
      "source": [
        "# Discrimanción por tipo de variables\n",
        "temp_cols = ['Año', 'Mes']\n",
        "ven_temp = ventas[temp_cols]\n",
        "\n",
        "cat_cols = ['ID', 'DGR', 'Categoria', 'Trat_Fisc_Agg', 'Trat_Fisc', 'Trat_Dif',\n",
        "'CM', 'Deposito', 'Modelo']\n",
        "ven_cat = ventas[cat_cols]\n",
        "\n",
        "num_cols = ['Ventas', 'Alicuota', 'Comision']\n",
        "ven_num = ventas[num_cols]"
      ]
    },
    {
      "attachments": {},
      "cell_type": "markdown",
      "metadata": {},
      "source": [
        "---\n",
        "# Análisis de variables numéricas"
      ]
    },
    {
      "attachments": {},
      "cell_type": "markdown",
      "metadata": {},
      "source": [
        "### Estadística descriptiva (sin considerar series temporales)"
      ]
    },
    {
      "cell_type": "code",
      "execution_count": null,
      "metadata": {},
      "outputs": [],
      "source": [
        "ven_num.describe().T"
      ]
    },
    {
      "cell_type": "code",
      "execution_count": null,
      "metadata": {},
      "outputs": [],
      "source": [
        "print('z-Score de los extremos de la variables numéricas:') \n",
        "for col in num_cols:\n",
        "    zScore_min = (ven_num[col].min() - ven_num[col].mean()) / ven_num[col].std()\n",
        "    zScore_max = (ven_num[col].max() - ven_num[col].mean()) / ven_num[col].std()\n",
        "\n",
        "    print(f'\\t{col}:')\n",
        "    print(f'\\t\\t Mínimo: {zScore_min:.0f} \\t Máximo: {zScore_max:.0f}')"
      ]
    },
    {
      "cell_type": "code",
      "execution_count": null,
      "metadata": {},
      "outputs": [],
      "source": [
        "print('Proporción de valores negativos, nulos y positivos en las variables numéricas:') \n",
        "for col in num_cols:\n",
        "    print(f'\\t{col}')\n",
        "    ans = len(ven_num[col])\n",
        "    neg = len(ven_num[ven_num[col] < 0])\n",
        "    nul = len(ven_num[ven_num[col] == 0])\n",
        "\n",
        "    cant = [neg, nul, neg+nul, ans-neg-nul, ans]\n",
        "    prop = [f'{100*neg/ans:.2f}%', f'{100*nul/ans:.2f}%', f'{100*(nul+neg)/ans:.2f}%', f'{100*(ans-nul-neg)/ans:.2f}%', '100.00%']\n",
        "    desc = pd.DataFrame([cant, prop], columns=['Negativos', 'Nulos', 'No positivos', 'Positivos', 'Total'], index=['Cantidad', 'Proporcion'])\n",
        "    display(desc)\n"
      ]
    },
    {
      "cell_type": "code",
      "execution_count": null,
      "metadata": {},
      "outputs": [],
      "source": [
        "sns.pairplot(data=ven_num, diag_kind='kde', plot_kws = {'alpha': 0.3, 's': 10})\n",
        "plt.show()"
      ]
    },
    {
      "attachments": {},
      "cell_type": "markdown",
      "metadata": {},
      "source": [
        "#### Cálculo y Visualización de la matriz de correlación entre las variables"
      ]
    },
    {
      "cell_type": "code",
      "execution_count": null,
      "metadata": {},
      "outputs": [],
      "source": [
        "matrix = ven_num[['Ventas', 'Alicuota', 'Comision']].corr().round(2)\n",
        "sns.heatmap(matrix, annot=True)"
      ]
    },
    {
      "attachments": {},
      "cell_type": "markdown",
      "metadata": {},
      "source": [
        "### Discriminando por ventas nulas"
      ]
    },
    {
      "attachments": {},
      "cell_type": "markdown",
      "metadata": {},
      "source": [
        "#### DataFrame con todas las ventas nulas"
      ]
    },
    {
      "cell_type": "code",
      "execution_count": null,
      "metadata": {},
      "outputs": [],
      "source": [
        "ven_num_null = ven_num[ven_num['Ventas'] == 0].copy()\n",
        "ven_num_null.describe().T"
      ]
    },
    {
      "cell_type": "code",
      "execution_count": null,
      "metadata": {},
      "outputs": [],
      "source": [
        "sns.pairplot(data=ven_num_null, diag_kind='kde', plot_kws = {'alpha': 0.3, 's': 10})\n",
        "plt.show()"
      ]
    },
    {
      "attachments": {},
      "cell_type": "markdown",
      "metadata": {},
      "source": [
        "#### DataFrame con todas las ventas no nulas"
      ]
    },
    {
      "cell_type": "code",
      "execution_count": null,
      "metadata": {},
      "outputs": [],
      "source": [
        "ven_num_not = ven_num[ven_num['Ventas'] != 0].copy()\n",
        "ven_num_not.describe().T"
      ]
    },
    {
      "cell_type": "code",
      "execution_count": null,
      "metadata": {},
      "outputs": [],
      "source": [
        "print('z-Score de los extremos de la variables numéricas:') \n",
        "for col in num_cols:\n",
        "    zScore_min = (ven_num_not[col].min() - ven_num_not[col].mean()) / ven_num_not[col].std()\n",
        "    zScore_max = (ven_num_not[col].max() - ven_num_not[col].mean()) / ven_num_not[col].std()\n",
        "\n",
        "    print(f'\\t{col}:')\n",
        "    print(f'\\t\\t Mínimo: {zScore_min:.0f} \\t Máximo: {zScore_max:.0f}')"
      ]
    },
    {
      "cell_type": "code",
      "execution_count": null,
      "metadata": {},
      "outputs": [],
      "source": [
        "print('Proporción de valores negativos, nulos y positivos en las variables numéricas:') \n",
        "for col in num_cols:\n",
        "    print(f'\\t{col}')\n",
        "    ans = len(ven_num_not[col])\n",
        "    neg = len(ven_num_not[ven_num_not[col] < 0])\n",
        "    nul = len(ven_num_not[ven_num_not[col] == 0])\n",
        "\n",
        "    cant = [neg, nul, neg+nul, ans-neg-nul, ans]\n",
        "    prop = [f'{100*neg/ans:.2f}%', f'{100*nul/ans:.2f}%', f'{100*(nul+neg)/ans:.2f}%', f'{100*(ans-nul-neg)/ans:.2f}%', '100.00%']\n",
        "    desc = pd.DataFrame([cant, prop], columns=['Negativos', 'Nulos', 'No positivos', 'Positivos', 'Total'], index=['Cantidad', 'Proporcion'])\n",
        "    display(desc)\n"
      ]
    },
    {
      "cell_type": "code",
      "execution_count": null,
      "metadata": {},
      "outputs": [],
      "source": [
        "sns.pairplot(data=ven_num_not, diag_kind='kde', plot_kws = {'alpha': 0.3, 's': 10})\n",
        "plt.show()"
      ]
    },
    {
      "attachments": {},
      "cell_type": "markdown",
      "metadata": {},
      "source": [
        "### Más medidas de dispersión: asimetría y Kurtosis"
      ]
    },
    {
      "cell_type": "code",
      "execution_count": null,
      "metadata": {},
      "outputs": [],
      "source": [
        "asim = skew(ven_num_not)\n",
        "asimtest = skewtest(ven_num_not).pvalue\n",
        "kurt = kurtosis(ven_num_not)\n",
        "kurttest = kurtosistest(ven_num_not).pvalue\n",
        "\n",
        "desc = pd.DataFrame({'Asimetría': asim, 'p-val Asim.': asimtest,\n",
        "                     'Kurtosis (Fisher)': kurt, 'p-val Kurt.': kurttest},\n",
        "                     index=['Ventas', 'Alicuota', 'Comision'])\n",
        "desc"
      ]
    },
    {
      "attachments": {},
      "cell_type": "markdown",
      "metadata": {},
      "source": [
        "### Interpretación de la relación entre variables numéricas con etiquetas categóricas"
      ]
    },
    {
      "cell_type": "code",
      "execution_count": null,
      "metadata": {},
      "outputs": [],
      "source": [
        "ventas_null = ventas[ventas['Ventas'] == 0].copy()\n",
        "ventas_not = ventas[ventas['Ventas'] != 0].copy()"
      ]
    },
    {
      "attachments": {},
      "cell_type": "markdown",
      "metadata": {},
      "source": [
        "#### Ventas nulas"
      ]
    },
    {
      "cell_type": "code",
      "execution_count": null,
      "metadata": {},
      "outputs": [],
      "source": [
        "# # Estas gráficas tardan bastante en generarse, descomentar para obtenerlas\n",
        "\n",
        "# for col in ['Categoria', 'Trat_Fisc_Agg', 'Trat_Fisc', 'Trat_Dif', 'CM', 'Modelo']:\n",
        "#     sns.pairplot(data=ventas_null[num_cols+[col]], diag_kind='kde', hue=col, plot_kws = {'alpha': 0.3, 's': 10})\n",
        "#     plt.show()"
      ]
    },
    {
      "attachments": {},
      "cell_type": "markdown",
      "metadata": {},
      "source": [
        "#### Ventas no nulas"
      ]
    },
    {
      "cell_type": "code",
      "execution_count": null,
      "metadata": {},
      "outputs": [],
      "source": [
        "# # Estas gráficas tardan bastante en generarse, descomentar para obtenerlas\n",
        "\n",
        "# for col in ['Categoria', 'Trat_Fisc_Agg', 'Trat_Fisc', 'Trat_Dif', 'CM', 'Modelo']:\n",
        "#     sns.pairplot(data=ventas_not[num_cols+[col]], diag_kind='kde', hue=col, plot_kws = {'alpha': 0.3, 's': 10})\n",
        "#     plt.show()"
      ]
    },
    {
      "attachments": {},
      "cell_type": "markdown",
      "metadata": {},
      "source": [
        "#### Ventas no nulas: más detalle con las etiquetas de `Categoria`"
      ]
    },
    {
      "cell_type": "code",
      "execution_count": null,
      "metadata": {},
      "outputs": [],
      "source": [
        "catG1 = ['Misceláneo', 'Gondola', 'Com. Varios', 'Venta Agrop.', 'Vehiculos', \n",
        "         'Comb.', 'Farmacia']\n",
        "catG2 = ['Comb. Ley', 'Supermercados', 'Veterinarios', 'Cerales', \n",
        "         'Com. Cerales', 'Mantenimiento', 'Tabaco']\n",
        "catG3 = ['Comb. Reventa', 'Com. Ganado', 'Acopio Agrop.', 'Venta movil', \n",
        "         'Comunicacion', 'Gas Licuado', 'Comb. Prod.Propia']\n",
        "\n",
        "fig, axs = plt.subplots(3, 3, figsize=(18, 15))\n",
        "\n",
        "fig.suptitle('Ventas no nulas, clasificadas por \"Categoria\"')\n",
        "\n",
        "for k in range(7):\n",
        "    # alicuota vs ventas\n",
        "    axs[0, 0].scatter(ventas_not[ventas_not['Categoria'] == catG1[k]]['Alicuota'], \n",
        "                    ventas_not[ventas_not['Categoria'] == catG1[k]]['Ventas'], \n",
        "                    label=catG1[k])\n",
        "    axs[0, 1].scatter(ventas_not[ventas_not['Categoria'] == catG1[k]]['Alicuota'], \n",
        "                    ventas_not[ventas_not['Categoria'] == catG1[k]]['Comision'], \n",
        "                    label=catG1[k])\n",
        "    axs[0, 2].scatter(ventas_not[ventas_not['Categoria'] == catG1[k]]['Comision'], \n",
        "                    ventas_not[ventas_not['Categoria'] == catG1[k]]['Ventas'], \n",
        "                    label=catG1[k])\n",
        "    \n",
        "    axs[1, 0].scatter(ventas_not[ventas_not['Categoria'] == catG2[k]]['Alicuota'], \n",
        "                    ventas_not[ventas['Categoria'] == catG2[k]]['Ventas'], \n",
        "                    label=catG2[k])\n",
        "    axs[1, 1].scatter(ventas[ventas['Categoria'] == catG2[k]]['Alicuota'], \n",
        "                    ventas_not[ventas_not['Categoria'] == catG2[k]]['Comision'], \n",
        "                    label=catG2[k])\n",
        "    axs[1, 2].scatter(ventas_not[ventas_not['Categoria'] == catG2[k]]['Comision'], \n",
        "                    ventas_not[ventas_not['Categoria'] == catG2[k]]['Ventas'], \n",
        "                    label=catG2[k])\n",
        "    \n",
        "    axs[2, 0].scatter(ventas_not[ventas_not['Categoria'] == catG3[k]]['Alicuota'], \n",
        "                    ventas_not[ventas_not['Categoria'] == catG3[k]]['Ventas'], \n",
        "                    label=catG3[k])\n",
        "    axs[2, 1].scatter(ventas_not[ventas_not['Categoria'] == catG3[k]]['Alicuota'], \n",
        "                    ventas_not[ventas_not['Categoria'] == catG3[k]]['Comision'], \n",
        "                    label=catG3[k])\n",
        "    axs[2, 2].scatter(ventas_not[ventas_not['Categoria'] == catG3[k]]['Comision'], \n",
        "                    ventas_not[ventas_not['Categoria'] == catG3[k]]['Ventas'], \n",
        "                    label=catG3[k])\n",
        "\n",
        "axs[0, 0].legend()\n",
        "axs[0, 1].legend()\n",
        "axs[0, 2].legend()\n",
        "axs[1, 0].legend()\n",
        "axs[1, 1].legend()\n",
        "axs[1, 2].legend()\n",
        "axs[2, 0].legend()\n",
        "axs[2, 1].legend()\n",
        "axs[2, 2].legend()\n",
        "\n",
        "axs[0, 0].set_xlabel('Alicuota [%]')\n",
        "axs[1, 0].set_xlabel('Alicuota [%]')\n",
        "axs[2, 0].set_xlabel('Alicuota [%]')\n",
        "axs[0, 1].set_xlabel('Alicuota [%]')\n",
        "axs[1, 1].set_xlabel('Alicuota [%]')\n",
        "axs[2, 1].set_xlabel('Alicuota [%]')\n",
        "axs[0, 2].set_xlabel('Comisión [$]')\n",
        "axs[1, 2].set_xlabel('Comisión [$]')\n",
        "axs[2, 2].set_xlabel('Comisión [$]')\n",
        "\n",
        "axs[0, 0].set_ylabel('Ventas [$]')\n",
        "axs[1, 0].set_ylabel('Ventas [$]')\n",
        "axs[2, 0].set_ylabel('Ventas [$]')\n",
        "axs[0, 1].set_ylabel('Comisión [$]')\n",
        "axs[1, 1].set_ylabel('Comisión [$]')\n",
        "axs[2, 1].set_ylabel('Comisión [$]')\n",
        "axs[0, 2].set_ylabel('Ventas [$]')\n",
        "axs[1, 2].set_ylabel('Ventas [$]')\n",
        "axs[2, 2].set_ylabel('Ventas [$]')\n",
        "\n",
        "\n",
        "plt.show()"
      ]
    },
    {
      "attachments": {},
      "cell_type": "markdown",
      "metadata": {},
      "source": [
        "#### Convenio multilateral y el vendedor 1638: generación de datasets más pequeños"
      ]
    },
    {
      "cell_type": "code",
      "execution_count": null,
      "metadata": {},
      "outputs": [],
      "source": [
        "ventas_CM = ventas[ventas['CM'] == 1].copy()\n",
        "ventas_CM['ID'].value_counts()"
      ]
    },
    {
      "cell_type": "code",
      "execution_count": null,
      "metadata": {},
      "outputs": [],
      "source": [
        "ventas_ID = ventas[ventas['ID'] == 1638].copy()\n",
        "for col in ['DGR', 'Categoria', 'Trat_Fisc_Agg', 'Trat_Fisc', 'Trat_Dif', 'Año', 'Mes', \n",
        "            'Deposito', 'Ventas', 'Alicuota', 'Comision', 'Modelo']:\n",
        "    print(f'\\n\\n{col}')\n",
        "    print(ventas_ID[col].value_counts())"
      ]
    },
    {
      "cell_type": "code",
      "execution_count": null,
      "metadata": {},
      "outputs": [],
      "source": [
        "var = ['DGR', 'Categoria', 'Deposito', 'Comision']\n",
        "val = [1638, 'Misceláneo', 154, 0.0]\n",
        "\n",
        "for k in range(4):\n",
        "    print(f'\\n\\n{var[k]}')\n",
        "    sas = ventas[ventas[var[k]] == val[k]].copy()\n",
        "    print(sas['ID'].value_counts())"
      ]
    },
    {
      "cell_type": "code",
      "execution_count": null,
      "metadata": {},
      "outputs": [],
      "source": [
        "ventas_ID = ventas_ID.sort_values(['Año', 'Mes']).reset_index(drop=True)\n",
        "ventas_ID = ventas_ID.drop(['CM'], axis=1)\n",
        "print(ventas_ID.shape)\n",
        "\n",
        "# Descomentar sólo cuando se desee guardar\n",
        "# ventas_ID.to_csv('../../data/interim/vendedor1638_CM_13Cols_42Regs.csv')"
      ]
    },
    {
      "cell_type": "code",
      "execution_count": null,
      "metadata": {},
      "outputs": [],
      "source": [
        "ventas_not = ventas_not.sort_values(['Año', 'Mes', 'Ventas']).reset_index(drop=True)\n",
        "ventas_not = ventas_not.drop(['CM'], axis=1)\n",
        "print(ventas_not.shape)\n",
        "\n",
        "# Descomentar sólo cuando se desee guardar\n",
        "# ventas_not.to_csv('../../data/interim/ventas_noNulas_13Cols_250448Regs.csv')"
      ]
    },
    {
      "cell_type": "code",
      "execution_count": null,
      "metadata": {},
      "outputs": [],
      "source": [
        "ventas_null = ventas_null[ventas_null['ID'] != 1638].copy()\n",
        "ventas_null = ventas_null.sort_values(['Año', 'Mes', 'Ventas']).reset_index(drop=True)\n",
        "ventas_null = ventas_null.drop(['CM'], axis=1)\n",
        "print(ventas_null.shape)\n",
        "\n",
        "# Descomentar sólo cuando se desee guardar\n",
        "# ventas_null.to_csv('../../data/interim/ventas_Nulas_13Cols_181016Regs.csv')"
      ]
    },
    {
      "attachments": {},
      "cell_type": "markdown",
      "metadata": {},
      "source": [
        "### Análisis de la relación entre variables numéricas"
      ]
    },
    {
      "attachments": {},
      "cell_type": "markdown",
      "metadata": {},
      "source": [
        "#### Ventas nulas"
      ]
    },
    {
      "cell_type": "code",
      "execution_count": null,
      "metadata": {},
      "outputs": [],
      "source": [
        "# Relación lineal: comision = alicuota x venta\n",
        "calcCom_null = ventas_null['Alicuota'] * ventas_null['Ventas']\n",
        "\n",
        "L = len(calcCom_null)\n",
        "S = sum(abs(ventas_null['Comision'] - calcCom_null) == 0)\n",
        "print(f'{S} de {L} registros cumplen la relación >> {100*(S)/L:.2f}%')\n",
        "print(f'{L-S} registros no la cumplen la relación >> {100*(L-S)/L:.2f}%')"
      ]
    },
    {
      "attachments": {},
      "cell_type": "markdown",
      "metadata": {},
      "source": [
        "#### Ventas no nulas"
      ]
    },
    {
      "cell_type": "code",
      "execution_count": null,
      "metadata": {},
      "outputs": [],
      "source": [
        "# Relación lineal: comision = alicuota x venta\n",
        "calcCom_not = ventas_not['Alicuota'] * ventas_not['Ventas']\n",
        "\n",
        "diff = ventas_not['Comision'] - calcCom_not\n",
        "D = len(diff)\n",
        "L = len(calcCom_not)\n",
        "S = sum(abs(diff) == 0)\n",
        "print(f'{S} registros cumplen la relación >>> {100*(S)/L:.2f}%')\n",
        "print(f'{L-S} registros no la cumplen la relación >>> {100*(L-S)/L:.2f}%')\n",
        "sobre = len(diff[diff<0])\n",
        "print(f'\\t{sobre} registros sobreestiman la relación >>> {100*sobre/D:.2f}%')\n",
        "sub = len(diff[diff>0])\n",
        "print(f'\\t{sub} registros subestiman la relación >>> {100*sub/D:.2f}%')"
      ]
    },
    {
      "cell_type": "code",
      "execution_count": null,
      "metadata": {},
      "outputs": [],
      "source": [
        "com_real_sobre = ventas_not['Comision'][diff<0]\n",
        "com_real_exac = ventas_not['Comision'][diff==0]\n",
        "com_real_sub = ventas_not['Comision'][diff>0]\n",
        "\n",
        "com_calc_sobre = calcCom_not[diff<0]\n",
        "com_calc_exac = calcCom_not[diff==0]\n",
        "com_calc_sub = calcCom_not[diff>0]"
      ]
    },
    {
      "cell_type": "code",
      "execution_count": null,
      "metadata": {},
      "outputs": [],
      "source": [
        "fig, axs = plt.subplots(1, 2, figsize=(12, 5))\n",
        "\n",
        "fig.suptitle('Comisión: real vs calculada')\n",
        "\n",
        "axs[0].scatter(com_real_sobre, com_calc_sobre, label='Sobreestimado', s=30)\n",
        "axs[0].scatter(com_real_exac, com_calc_exac, label='Exacto', s=20)\n",
        "axs[0].scatter(com_real_sub, com_calc_sub, label='Subestimado', s=10)\n",
        "\n",
        "axs[0].legend()\n",
        "\n",
        "axs[0].set_xlabel('Comisión real')\n",
        "axs[0].set_ylabel('Comisión calculada')\n",
        "\n",
        "axs[1].scatter(com_real_sobre, com_calc_sobre, label='Sobreestimado', s=30)\n",
        "axs[1].scatter(com_real_exac, com_calc_exac, label='Exacto', s=20)\n",
        "axs[1].scatter(com_real_sub, com_calc_sub, label='Subestimado', s=10)\n",
        "\n",
        "axs[1].legend()\n",
        "axs[1].set_ylim(-5E8, 1E8)\n",
        "axs[1].set_xlim(-0.5E7, 3.5E7)\n",
        "\n",
        "axs[1].set_xlabel('Comisión real')\n",
        "axs[1].set_ylabel('Comisión calculada')\n",
        "\n",
        "plt.show()"
      ]
    },
    {
      "cell_type": "code",
      "execution_count": null,
      "metadata": {},
      "outputs": [],
      "source": [
        "rg_real = pd.concat([com_real_sub[com_calc_sub<0], com_real_sobre[com_calc_sobre>10*com_real_sobre]])\n",
        "rg_calc = pd.concat([com_calc_sub[com_calc_sub<0], com_calc_sobre[com_calc_sobre>10*com_real_sobre]])\n",
        "\n",
        "rp_real = pd.concat([com_real_sub[com_calc_sub>0], com_real_sobre[com_calc_sobre<10*com_real_sobre], com_real_exac])\n",
        "rp_calc = pd.concat([com_calc_sub[com_calc_sub>0], com_calc_sobre[com_calc_sobre<10*com_real_sobre], com_calc_exac])"
      ]
    },
    {
      "cell_type": "code",
      "execution_count": null,
      "metadata": {},
      "outputs": [],
      "source": [
        "print(f'De los {len(rp_real+rg_real)} registros:')\n",
        "print(f'\\t{len(rg_real)} están en la recta con pendiente grande >>> {100*len(rg_real)/len(rp_real+rg_real):.2f}%')\n",
        "print(f'\\t{len(rp_real)} están en la recta con pendiente pequeña >>> {100*len(rp_real)/len(rp_real+rg_real):.2f}%')"
      ]
    },
    {
      "cell_type": "code",
      "execution_count": null,
      "metadata": {},
      "outputs": [],
      "source": [
        "LG = LR(rg_real, rg_calc)\n",
        "LP = LR(rp_real, rp_calc)"
      ]
    },
    {
      "cell_type": "code",
      "execution_count": null,
      "metadata": {},
      "outputs": [],
      "source": [
        "fig, axs = plt.subplots(1, 2, figsize=(12, 5))\n",
        "\n",
        "axs[0].scatter(rg_real, rg_calc, label='Gran pendiente', s=30)\n",
        "axs[0].scatter(rp_real, rp_calc, label='Pequeña pendiente', s=15)\n",
        "axs[0].plot(rg_real, rg_real*LG.slope + LG.intercept, label=f'{LG.slope:.0f}*Real + {LG.intercept:.0f}', color='red')\n",
        "axs[0].plot(rp_real, rp_real*LP.slope + LP.intercept, label=f'{LP.slope:.0f}*Real + {LP.intercept:.2f}', color='tab:green')\n",
        "\n",
        "axs[0].legend(loc='upper left')\n",
        "\n",
        "axs[0].set_xlabel('Comisión real')\n",
        "axs[0].set_ylabel('Comisión calculada')\n",
        "\n",
        "axs[1].scatter(rg_real, rg_calc, label='Gran pendiente', s=30)\n",
        "axs[1].scatter(rp_real, rp_calc, label='Pequeña pendiente', s=15)\n",
        "axs[1].plot(rg_real, rg_real*LG.slope + LG.intercept, label=f'{LG.slope:.0f}*Real + {LG.intercept:.0f}', color='red')\n",
        "axs[1].plot(rp_real, rp_real*LP.slope + LP.intercept, label=f'{LP.slope:.0f}*Real + {LP.intercept:.2f}', color='tab:green')\n",
        "\n",
        "axs[1].legend(loc='lower right')\n",
        "axs[1].set_ylim(-1E8, 1E8)\n",
        "axs[1].set_xlim(-0.5E7, 4E7)\n",
        "\n",
        "axs[1].set_xlabel('Comisión real')\n",
        "axs[1].set_ylabel('Comisión calculada')\n",
        "\n",
        "fig.suptitle('Comisión empresa: real vs calculada')\n",
        "plt.show()"
      ]
    },
    {
      "attachments": {},
      "cell_type": "markdown",
      "metadata": {},
      "source": [
        "#### Ventas no nulas, discriminando por vendedores Modelo"
      ]
    },
    {
      "cell_type": "code",
      "execution_count": null,
      "metadata": {},
      "outputs": [],
      "source": [
        "mask0 = ventas_not['Modelo']==0\n",
        "mask1 = ventas_not['Modelo']==1"
      ]
    },
    {
      "cell_type": "code",
      "execution_count": null,
      "metadata": {},
      "outputs": [],
      "source": [
        "com_real_Mod = ventas_not['Comision'][mask1]\n",
        "com_real_noMod = ventas_not['Comision'][mask0]\n",
        "\n",
        "com_calc_Mod = calcCom_not[mask1]\n",
        "com_calc_noMod = calcCom_not[mask0]"
      ]
    },
    {
      "cell_type": "code",
      "execution_count": null,
      "metadata": {},
      "outputs": [],
      "source": [
        "fig, axs = plt.subplots(1, 2, figsize=(12, 5))\n",
        "\n",
        "axs[0].scatter(rg_real, rg_calc, label='Gran pendiente', s=30)\n",
        "axs[0].scatter(rp_real, rp_calc, label='Pequeña pendiente', s=15)\n",
        "axs[0].plot(com_real_noMod, com_calc_noMod, label='No Modelo', color='tab:green')\n",
        "axs[0].plot(com_real_Mod, com_calc_Mod, label='Modelo', color='red')\n",
        "\n",
        "axs[0].legend(loc='upper left')\n",
        "\n",
        "axs[0].set_xlabel('Comisión real')\n",
        "axs[0].set_ylabel('Comisión Calculada')\n",
        "\n",
        "axs[1].scatter(rg_real, rg_calc, label='Gran pendiente', s=30)\n",
        "axs[1].scatter(rp_real, rp_calc, label='Pequeña pendiente', s=15)\n",
        "axs[1].plot(com_real_noMod, com_calc_noMod, label='No Modelo', color='tab:green')\n",
        "axs[1].plot(com_real_Mod, com_calc_Mod, label='Modelo', color='red')\n",
        "\n",
        "axs[1].legend(loc='lower right')\n",
        "axs[1].set_ylim(-1E8, 1E8)\n",
        "axs[1].set_xlim(-0.5E7, 4E7)\n",
        "\n",
        "axs[1].set_xlabel('Comisión real')\n",
        "axs[1].set_ylabel('Comisión calculada')\n",
        "\n",
        "fig.suptitle('Comisión: real vs calculada')\n",
        "plt.show()"
      ]
    },
    {
      "attachments": {},
      "cell_type": "markdown",
      "metadata": {},
      "source": [
        "---\n",
        "# Análisis de variables categóricas"
      ]
    },
    {
      "attachments": {},
      "cell_type": "markdown",
      "metadata": {},
      "source": [
        "#### Relación entre `Trat_Fisc` y `Trat_Fisc_Agg`"
      ]
    },
    {
      "attachments": {},
      "cell_type": "markdown",
      "metadata": {},
      "source": [
        "Queremos chequear para qué valores de `Trat_Fisc` aparecen valores de `Trat_Fisc_Agg`. Al analizar la tabla de contingencia, vemos que los valores de `Trat_Fisc_Agg` sólo aparecen cuando `Trat_Fisc` asume valores 0, 1, 2 ó 3. A su vez, hay correspondencia entre 0 y Normal, 1 y Exento/Desgravado, 2 y Minorista, 3 y Otro Tratamiento Fiscal. ¿Se puede unificar todo como `Trat_Fisc`, eliminando entonces `Trat_Fisc_Agg`? ¿Tiene sentido que falte la descripción asociada al tratamiento?"
      ]
    },
    {
      "cell_type": "code",
      "execution_count": null,
      "metadata": {},
      "outputs": [],
      "source": [
        "# Este paso lo agrego porque sino el crosstab siguiente no me muestra los NaN\n",
        "prueba3 = ventas_not.copy()\n",
        "prueba3['Trat_Fisc'] = prueba3['Trat_Fisc'].fillna('Waring: Relleno')\n",
        "prueba3['Trat_Fisc_Agg'] = prueba3['Trat_Fisc_Agg'].fillna('Waring: Relleno')"
      ]
    },
    {
      "cell_type": "code",
      "execution_count": null,
      "metadata": {},
      "outputs": [],
      "source": [
        "pd.crosstab(prueba3['Trat_Fisc'], prueba3['Trat_Fisc_Agg'], dropna=False)"
      ]
    },
    {
      "attachments": {},
      "cell_type": "markdown",
      "metadata": {},
      "source": [
        "#### Relación entre `Trat_Fisc` y `Trat_Dif`"
      ]
    },
    {
      "attachments": {},
      "cell_type": "markdown",
      "metadata": {},
      "source": [
        "Ahora veamos para qué valores de `Trat_Fisc` aparecen valores de `Trat_Dif`. Al analizar la tabla de contingencia vemos que no hay un patrón claro. ¿Podríamos tomar a un dato faltante como \"sin tratamiento\" o algo por el estilo?"
      ]
    },
    {
      "cell_type": "code",
      "execution_count": null,
      "metadata": {},
      "outputs": [],
      "source": [
        "# Este paso lo agrego porque sino el crosstab siguiente no me muestra los NaN\n",
        "prueba3['Trat_Dif'] = prueba3['Trat_Dif'].fillna('Waring: Relleno')"
      ]
    },
    {
      "cell_type": "code",
      "execution_count": null,
      "metadata": {},
      "outputs": [],
      "source": [
        "pd.crosstab(prueba3['Trat_Fisc'], prueba3['Trat_Dif'], dropna=False)"
      ]
    },
    {
      "attachments": {},
      "cell_type": "markdown",
      "metadata": {},
      "source": [
        "#### `Trat_Fisc` vs `Trat_Fisc_Agg`"
      ]
    },
    {
      "attachments": {},
      "cell_type": "markdown",
      "metadata": {},
      "source": [
        "Vemos que sí existe una gran correlación entre \"Norm\" de `Trat_Fisc_Agg` y \"0\" de `Trat_Fisc`."
      ]
    },
    {
      "cell_type": "code",
      "execution_count": null,
      "metadata": {},
      "outputs": [],
      "source": [
        "vad = pd.crosstab(ventas['Trat_Fisc'].fillna(\"Warning: NA\"), ventas['Trat_Fisc_Agg'].fillna(\"Warning: NA\"), normalize=True)\n",
        "sns.heatmap(vad, annot=True)"
      ]
    },
    {
      "attachments": {},
      "cell_type": "markdown",
      "metadata": {},
      "source": [
        "#### Ventas totales por año y modelo."
      ]
    },
    {
      "cell_type": "code",
      "execution_count": null,
      "metadata": {},
      "outputs": [],
      "source": [
        "agg_anio = ventas.groupby([\"Año\", \"Modelo\"])[\"Ventas\"].agg([np.mean, np.std])\n",
        "agg_anio"
      ]
    },
    {
      "attachments": {},
      "cell_type": "markdown",
      "metadata": {},
      "source": [
        "Visualizamos el logaritmo en base 10 de las ventas, porque el valor original está muy sesgado\n",
        "\n",
        "- Los Modelo = 1 tienen menor variablidad y mayor promedio de ventas comparados con Modelo = 0"
      ]
    },
    {
      "cell_type": "code",
      "execution_count": null,
      "metadata": {},
      "outputs": [],
      "source": [
        "ventas_log10 = np.log(ventas[ventas[\"Ventas\"] > 0][\"Ventas\"])\n",
        "sns.boxplot(x=ventas[\"Año\"], y=ventas_log10, hue=ventas[\"Modelo\"])"
      ]
    },
    {
      "attachments": {},
      "cell_type": "markdown",
      "metadata": {},
      "source": [
        "#### Ventas por Descripción Tratamiento Fiscal\n"
      ]
    },
    {
      "cell_type": "code",
      "execution_count": null,
      "metadata": {},
      "outputs": [],
      "source": [
        "agg_descfiscal = ventas.groupby([\"Trat_Fisc_Agg\", \"Modelo\"])['Ventas'].agg([np.mean, np.std])\n",
        "agg_descfiscal"
      ]
    },
    {
      "cell_type": "code",
      "execution_count": null,
      "metadata": {},
      "outputs": [],
      "source": [
        "sns.boxplot(data=ventas, x=\"Trat_Fisc_Agg\", y=ventas_log10, hue=\"Modelo\")"
      ]
    },
    {
      "attachments": {},
      "cell_type": "markdown",
      "metadata": {
        "id": "uWvSDx9e0lLJ"
      },
      "source": [
        "---\n",
        "## Análisis de la serie temporal"
      ]
    },
    {
      "attachments": {},
      "cell_type": "markdown",
      "metadata": {},
      "source": [
        "### Construcción de una nueva variable: Fecha\n",
        "Consideramos que para el análisis temporal habrá momentos en que necesitamos tener Año y Mes por separado, pero en otras ocasiones necesitamos toda la información al mismo tiempo. Por lo tanto, creamos la variable Fecha:\n",
        "    $$Fecha = Año + Mes$$"
      ]
    },
    {
      "cell_type": "code",
      "execution_count": null,
      "metadata": {},
      "outputs": [],
      "source": [
        "ventas['Fecha'] = pd.to_datetime(ventas['Mes'].astype(str) + '-' + ventas['Año'].astype(str), format='%m-%Y')\n",
        "ventas.tail(3)"
      ]
    },
    {
      "attachments": {},
      "cell_type": "markdown",
      "metadata": {},
      "source": [
        "Vamos a considerar que la serie temporal **principal** es la dictada por `Ventas`."
      ]
    },
    {
      "attachments": {},
      "cell_type": "markdown",
      "metadata": {},
      "source": [
        "### Considerando la serie temporal"
      ]
    },
    {
      "attachments": {},
      "cell_type": "markdown",
      "metadata": {},
      "source": [
        "#### Agrupando por Meses"
      ]
    },
    {
      "attachments": {},
      "cell_type": "markdown",
      "metadata": {
        "id": "hexHLiR60yMr"
      },
      "source": [
        "Se entiende más la progresión al agrupar todos los datos correspondientes a un mismo Mes. Vemos que no hace otra cosa más que crecer. Se observa el efecto de la inflación y pareciera haber picos hacia fin de Año."
      ]
    },
    {
      "cell_type": "code",
      "execution_count": null,
      "metadata": {},
      "outputs": [],
      "source": [
        "fig, axs = plt.subplots(1, 2, figsize=(12, 5))\n",
        "\n",
        "axs[0].plot(ventas['Fecha'],ventas['Ventas'])\n",
        "\n",
        "axs[0].set_xlabel('Fecha')\n",
        "axs[0].set_ylabel('Ventas')\n",
        "axs[0].set_title('Ventas sin agregar')\n",
        "\n",
        "prueba6 = ventas[['Fecha','Ventas', 'Año']].copy()\n",
        "prueba6_agregado = prueba6.groupby('Fecha')['Ventas'].sum().reset_index()\n",
        "\n",
        "axs[1].plot(prueba6_agregado['Fecha'], prueba6_agregado['Ventas'])\n",
        "\n",
        "axs[1].set_xlabel('Fecha')\n",
        "axs[1].set_ylabel('Ventas')\n",
        "axs[1].set_title('Ventas agregadas por Mes')\n",
        "\n",
        "plt.show()"
      ]
    },
    {
      "attachments": {},
      "cell_type": "markdown",
      "metadata": {},
      "source": [
        "Son más similares las tendencias desde el 2019 al 2021, mientras que 2022 se destaca por ser bien diferente."
      ]
    },
    {
      "cell_type": "code",
      "execution_count": null,
      "metadata": {},
      "outputs": [],
      "source": [
        "Mes = [1, 2, 3, 4, 5, 6, 7, 8, 9, 10, 11, 12]\n",
        "\n",
        "v19 = prueba6_agregado['Ventas'][:12]\n",
        "v20 = prueba6_agregado['Ventas'][12:24]\n",
        "v21 = prueba6_agregado['Ventas'][24:36]\n",
        "v22 = prueba6_agregado['Ventas'][36:]\n",
        "\n",
        "fig, axs = plt.subplots(1, 2, figsize=(12, 5))\n",
        "\n",
        "axs[0].plot(Mes, v19, label='2019', marker='o')\n",
        "axs[0].plot(Mes, v20, label='2020', marker='o')\n",
        "axs[0].plot(Mes, v21, label='2021', marker='o')\n",
        "axs[0].plot(Mes[:6], v22, label='2022', marker='o')\n",
        "\n",
        "axs[0].set_xlabel('Mes')\n",
        "axs[0].set_ylabel('Ventas')\n",
        "axs[0].set_title('Original')\n",
        "axs[0].legend()\n",
        "\n",
        "axs[1].plot(Mes, v19/np.min(v19), label='2019', marker='o')\n",
        "axs[1].plot(Mes, v20/np.min(v20), label='2020', marker='o')\n",
        "axs[1].plot(Mes, v21/np.min(v21), label='2021', marker='o')\n",
        "axs[1].plot(Mes[:6], v22/np.min(v22), label='2022', marker='o')\n",
        "\n",
        "axs[1].set_xlabel('Mes')\n",
        "axs[1].set_ylabel('Ventas')\n",
        "axs[1].set_title('Normalizadas por el menor valor del año')\n",
        "axs[1].legend()\n",
        "\n",
        "fig.suptitle('Ventas agregadas por Mes y separadas por Año')\n",
        "\n",
        "plt.show()"
      ]
    },
    {
      "attachments": {},
      "cell_type": "markdown",
      "metadata": {},
      "source": [
        "#### Estacionalidad un poco más definida - mensual"
      ]
    },
    {
      "attachments": {},
      "cell_type": "markdown",
      "metadata": {},
      "source": [
        "Se dice que una serie de tiempo es estacionaria si no aumenta o disminuye con el tiempo de forma lineal o exponencial (sin tendencias), y si no muestra ningún tipo de patrón repetitivo (sin estacionalidad). Matemáticamente, esto se describe como una media constante y una varianza constante a lo largo del tiempo. Junto con la varianza, la autocovarianza tampoco debería ser una función del tiempo."
      ]
    },
    {
      "cell_type": "code",
      "execution_count": null,
      "metadata": {},
      "outputs": [],
      "source": [
        "fig, axs = plt.subplots(2, 1, figsize=(12, 10))\n",
        "\n",
        "sns.boxplot(data=ventas, x='Mes', y='Ventas', ax=axs[0])\n",
        "\n",
        "sns.boxplot(data=ventas, x='Mes', y='Ventas', ax=axs[1])\n",
        "axs[1].set_ylim(-1E7, 1.5E7)\n",
        "\n",
        "fig.suptitle('Estacionalidad mensual considerando los 4 Años juntos')\n",
        "plt.show()"
      ]
    },
    {
      "cell_type": "code",
      "execution_count": null,
      "metadata": {},
      "outputs": [],
      "source": [
        "fig, axs = plt.subplots(2, 4, figsize=(24, 20))\n",
        "\n",
        "sns.boxplot(data=ventas[ventas['Año']==2019], x='Mes', y='Ventas', ax=axs[0, 0])\n",
        "sns.boxplot(data=ventas[ventas['Año']==2019], x='Mes', y='Ventas', ax=axs[1, 0])\n",
        "\n",
        "sns.boxplot(data=ventas[ventas['Año']==2020], x='Mes', y='Ventas', ax=axs[0, 1])\n",
        "sns.boxplot(data=ventas[ventas['Año']==2020], x='Mes', y='Ventas', ax=axs[1, 1])\n",
        "\n",
        "sns.boxplot(data=ventas[ventas['Año']==2021], x='Mes', y='Ventas', ax=axs[0, 2])\n",
        "sns.boxplot(data=ventas[ventas['Año']==2021], x='Mes', y='Ventas', ax=axs[1, 2])\n",
        "\n",
        "sns.boxplot(data=ventas[ventas['Año']==2022], x='Mes', y='Ventas', ax=axs[0, 3])\n",
        "sns.boxplot(data=ventas[ventas['Año']==2022], x='Mes', y='Ventas', ax=axs[1, 3])\n",
        "\n",
        "axs[0, 0].set_title('2019')\n",
        "axs[1, 0].set_ylim(-0.6E7, 1.2E7)\n",
        "\n",
        "axs[0, 1].set_title('2020')\n",
        "axs[1, 1].set_ylim(-0.6E7, 1.2E7)\n",
        "\n",
        "axs[0, 2].set_title('2021')\n",
        "axs[1, 2].set_ylim(-0.6E7, 1.2E7)\n",
        "\n",
        "axs[0, 3].set_title('2022')\n",
        "axs[1, 3].set_ylim(-0.6E7, 1.2E7)\n",
        "\n",
        "fig.suptitle('Estacionalidad mensual por Año')\n",
        "plt.show()"
      ]
    },
    {
      "attachments": {},
      "cell_type": "markdown",
      "metadata": {},
      "source": [
        "#### Análisis de Outliers\n",
        "Van a tener influencia en las estadísticas centrales y de dispersión"
      ]
    },
    {
      "attachments": {},
      "cell_type": "markdown",
      "metadata": {},
      "source": [
        "**Negativos**"
      ]
    },
    {
      "cell_type": "code",
      "execution_count": null,
      "metadata": {},
      "outputs": [],
      "source": [
        "negativos = ventas[ventas['Ventas'] < 0]\n",
        "print(f'Cantidad de valores negativos:{len(negativos)}')"
      ]
    },
    {
      "cell_type": "code",
      "execution_count": null,
      "metadata": {},
      "outputs": [],
      "source": [
        "recuento_negativos = negativos['Fecha'].value_counts().to_frame(name='count').sort_index(ascending=True)\n",
        "recuento_negativos.plot()"
      ]
    },
    {
      "attachments": {},
      "cell_type": "markdown",
      "metadata": {},
      "source": [
        "**Ceros**"
      ]
    },
    {
      "cell_type": "code",
      "execution_count": null,
      "metadata": {},
      "outputs": [],
      "source": [
        "ceros = ventas[ventas['Ventas'] == 0]\n",
        "print(f'Cantidad de ceros: {len(ceros)}')"
      ]
    },
    {
      "cell_type": "code",
      "execution_count": null,
      "metadata": {},
      "outputs": [],
      "source": [
        "recuento_ceros = ceros['Fecha'].value_counts().to_frame(name='count').sort_index(ascending=True)\n",
        "recuento_ceros.plot()"
      ]
    },
    {
      "attachments": {},
      "cell_type": "markdown",
      "metadata": {},
      "source": [
        "**Extremos positivos**"
      ]
    },
    {
      "cell_type": "code",
      "execution_count": null,
      "metadata": {},
      "outputs": [],
      "source": [
        "percentil_98 = ventas['Ventas'].quantile(0.98)\n",
        "extremos = ventas[ventas['Ventas'] > percentil_98]\n",
        "print(f'Cantidad de valores por encima del percentil 98: {len(extremos)}')"
      ]
    },
    {
      "cell_type": "code",
      "execution_count": null,
      "metadata": {},
      "outputs": [],
      "source": [
        "recuento_extremos = extremos['Fecha'].value_counts().to_frame(name='count').sort_index(ascending=True)\n",
        "recuento_extremos.plot()"
      ]
    },
    {
      "attachments": {},
      "cell_type": "markdown",
      "metadata": {},
      "source": [
        "#### Autocorrelación"
      ]
    },
    {
      "attachments": {},
      "cell_type": "markdown",
      "metadata": {
        "id": "QPGMX3kN0z1d"
      },
      "source": [
        "Hay correlación estadísticamente significativa para los lags 1, 2 y 3, lo que implica que observaciones pasadas influyen en las observaciones actuales de la serie temporal de manera positiva."
      ]
    },
    {
      "cell_type": "code",
      "execution_count": null,
      "metadata": {
        "colab": {
          "base_uri": "https://localhost:8080/",
          "height": 472
        },
        "id": "c9PErA5V6h8Z",
        "outputId": "f61ed9a8-469b-4508-cd51-0e66b957d748"
      },
      "outputs": [],
      "source": [
        "# Calcular la función de autocorrelación\n",
        "acf = plot_acf(prueba6_agregado['Ventas'], lags=12)\n",
        "\n",
        "# Graficar la función de autocorrelación\n",
        "plt.xlabel('Lag')\n",
        "plt.ylabel('Autocorrelation')\n",
        "plt.title('Autocorrelation Function')\n",
        "plt.show()"
      ]
    }
  ],
  "metadata": {
    "colab": {
      "provenance": [],
      "toc_visible": true
    },
    "kernelspec": {
      "display_name": "Python 3",
      "name": "python3"
    },
    "language_info": {
      "codemirror_mode": {
        "name": "ipython",
        "version": 3
      },
      "file_extension": ".py",
      "mimetype": "text/x-python",
      "name": "python",
      "nbconvert_exporter": "python",
      "pygments_lexer": "ipython3",
      "version": "3.11.3"
    }
  },
  "nbformat": 4,
  "nbformat_minor": 0
}
