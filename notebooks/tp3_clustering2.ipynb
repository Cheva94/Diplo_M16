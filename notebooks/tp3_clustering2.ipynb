{
 "cells": [
  {
   "cell_type": "markdown",
   "metadata": {},
   "source": [
    "# Diplomatura en ciencia de datos, aprendizaje automático y sus aplicaciones - Edición 2023 - FAMAF (UNC)"
   ]
  },
  {
   "cell_type": "markdown",
   "metadata": {},
   "source": [
    "## Mentoría 16 - ¿Cómo identificar fuga de ventas? Inteligencia artificial aplicada al sector comercial.\n",
    "\n",
    "### Explorando Patrones de Datos a través de Clustering (TP3) - Parte 2: Análisis e imputación de NaNs\n",
    "\n",
    "**Integrantes:**\n",
    "- Canalis, Patricio.\n",
    "- Chevallier-Boutell, Ignacio José.\n",
    "- Villarroel Torrez, Daniel.\n",
    "\n",
    "**Mentores:**\n",
    "- Gonzalez, Lucía\n",
    "- Lahoz, Nahuel"
   ]
  },
  {
   "cell_type": "markdown",
   "metadata": {},
   "source": [
    "---\n",
    "## Librerías"
   ]
  },
  {
   "cell_type": "code",
   "execution_count": null,
   "metadata": {},
   "outputs": [],
   "source": [
    "import pandas as pd\n",
    "import missingno as msno\n",
    "import matplotlib.pyplot as plt\n",
    "import numpy as np\n",
    "import seaborn as sns\n",
    "\n",
    "# Preferencias\n",
    "pd.set_option('display.max_columns', 150)\n",
    "pd.set_option('display.max_rows',150)\n",
    "sns.set_context('talk')\n",
    "sns.set_theme(style='white')"
   ]
  },
  {
   "cell_type": "markdown",
   "metadata": {},
   "source": [
    "---\n",
    "# Identificación de datos faltantes"
   ]
  },
  {
   "cell_type": "markdown",
   "metadata": {},
   "source": [
    "## Sin distinguir por subrubro"
   ]
  },
  {
   "cell_type": "markdown",
   "metadata": {},
   "source": [
    "Vemos que hay una gran cantidad de datos faltantes en todas las variables asociadas a la variación porcentual. Más aún: ninguna de estas columnas posee el 100% de los datos. Para cada grupo de variables (según sea comisión/ventas o anual/cuatrimestral) la cantidad de datos faltantes disminuye al progresar en el tiempo (lo cual tiene sentido).\n",
    "\n",
    "Las variables asociadas a la comisión presentan más datos faltantes que aquellas asociadas a las ventas. Dentro de ventas, hay más datos en el caso cuatrimestral que en el caso anual.\n",
    "\n",
    "**Nota:** En la gráfica aparecen, desde arriba hacia abajo, ventas anuales, comisión anuales, ventas cuatrimestrales y comisión cuatrimestrales. Dentro de cada grupo, aparecen desde el mes más reciente hacia el más antigüo."
   ]
  },
  {
   "cell_type": "code",
   "execution_count": null,
   "metadata": {},
   "outputs": [],
   "source": [
    "msno.bar(tp3.iloc[:, 3:], fontsize=12, color=\"tab:green\", figsize=(24, 20))\n",
    "plt.show()"
   ]
  },
  {
   "cell_type": "code",
   "execution_count": null,
   "metadata": {},
   "outputs": [],
   "source": [
    "msno.bar(tp3[['F_pct_Ven_1905', 'F_pct_Ven_2206', 'F_pct_Com_1905', 'F_pct_Com_2206', 'Y_pct_Ven_2001', 'Y_pct_Ven_2206', 'Y_pct_Com_2001', 'Y_pct_Com_2206']], fontsize=12, color=\"tab:green\", figsize=(12, 10))\n",
    "plt.ylim(0.6, 1)\n",
    "plt.show()"
   ]
  },
  {
   "cell_type": "markdown",
   "metadata": {},
   "source": [
    "Por lo antes dicho, seguiremos el análisis con la ventas intercuatrimestrales."
   ]
  },
  {
   "cell_type": "code",
   "execution_count": null,
   "metadata": {},
   "outputs": [],
   "source": [
    "basics = ['ID', 'Subrubro', 'Modelo']\n",
    "\n",
    "F_Ven = ['F_pct_Ven_1905', 'F_pct_Ven_1906', 'F_pct_Ven_1907', 'F_pct_Ven_1908', \n",
    "         'F_pct_Ven_1909', 'F_pct_Ven_1910', 'F_pct_Ven_1911', 'F_pct_Ven_1912',\n",
    "         'F_pct_Ven_2001', 'F_pct_Ven_2002', 'F_pct_Ven_2003', 'F_pct_Ven_2004',\n",
    "         'F_pct_Ven_2005', 'F_pct_Ven_2006', 'F_pct_Ven_2007', 'F_pct_Ven_2008',\n",
    "         'F_pct_Ven_2009', 'F_pct_Ven_2010', 'F_pct_Ven_2011', 'F_pct_Ven_2012',\n",
    "         'F_pct_Ven_2101', 'F_pct_Ven_2102', 'F_pct_Ven_2103', 'F_pct_Ven_2104',\n",
    "         'F_pct_Ven_2105', 'F_pct_Ven_2106', 'F_pct_Ven_2107', 'F_pct_Ven_2108',\n",
    "         'F_pct_Ven_2109', 'F_pct_Ven_2110', 'F_pct_Ven_2111', 'F_pct_Ven_2112',\n",
    "         'F_pct_Ven_2201', 'F_pct_Ven_2202', 'F_pct_Ven_2203', 'F_pct_Ven_2204',\n",
    "         'F_pct_Ven_2205', 'F_pct_Ven_2206']\n",
    "\n",
    "tp3_Fven = tp3[basics+F_Ven].copy()"
   ]
  },
  {
   "cell_type": "code",
   "execution_count": null,
   "metadata": {},
   "outputs": [],
   "source": [
    "msno.bar(tp3_Fven, fontsize=12, color=\"tab:green\", figsize=(12, 10))\n",
    "plt.ylim(0.8, 1)\n",
    "plt.show()"
   ]
  },
  {
   "cell_type": "markdown",
   "metadata": {},
   "source": [
    "## Diferenciando por subrubro"
   ]
  },
  {
   "cell_type": "markdown",
   "metadata": {},
   "source": [
    "Hay de todo un poco. Algunos casos presentan menos de 80% de los datos. La mayoría sigue la tendencia de ir aumentando a medida que pasa el tiempo. Algunos son más \"consistentes\" que otros."
   ]
  },
  {
   "cell_type": "code",
   "execution_count": null,
   "metadata": {},
   "outputs": [],
   "source": [
    "for sr in tp2.Subrubro.unique():\n",
    "\n",
    "    tp3sr = tp3_Fven[tp3_Fven['Subrubro'] == sr].copy()\n",
    "\n",
    "    plt.suptitle(sr)\n",
    "    msno.bar(tp3sr, fontsize=12, color=\"tab:green\", figsize=(10, 7))\n",
    "    plt.ylim(0.8, 1)\n",
    "    plt.show()"
   ]
  },
  {
   "cell_type": "markdown",
   "metadata": {},
   "source": [
    "## Cantidad de vacíos por vendedor"
   ]
  },
  {
   "cell_type": "markdown",
   "metadata": {},
   "source": [
    "De las 41 columnas, 3 son el `ID`, el `Subrubro` y `Modelo`. Las otras 38 corresponder a las variaciones porcentuales intercuatrimestrales. Si tomamos como aceptable un 10% de datos faltantes, podemos tolerar como máximo que haya 4 datos faltantes.\n",
    "\n",
    "De los 4544 vendedores únicos, 3488 (el 77 %) no presentan ningún dato faltante. En el otro extremo, llegamos a tener vendedores con 37 datos faltantes, siendo que son 38 columnas. Acá hay algo raro, que debemos analizar."
   ]
  },
  {
   "cell_type": "code",
   "execution_count": null,
   "metadata": {},
   "outputs": [],
   "source": [
    "# Paso 1: Contar valores vacíos por fila\n",
    "vacios_por_fila = tp3_Fven.isnull().sum(axis=1)\n",
    "\n",
    "# Paso 2: Generar un resumen de cuántas filas tienen 0, 1, 2, 3, etc., valores vacíos\n",
    "resumen = vacios_por_fila.value_counts().reset_index()\n",
    "resumen.columns = ['Cantidad de Valores Vacíos', 'Número de Filas']\n",
    "resumen = resumen.sort_values(by='Cantidad de Valores Vacíos')\n",
    "\n",
    "plt.figure(figsize=(10, 4))  # Tamaño del gráfico\n",
    "plt.bar(resumen['Cantidad de Valores Vacíos'], resumen['Número de Filas'], color='blue', alpha=0.7)\n",
    "plt.xlabel('Cantidad de Valores Vacíos por Vendedor')\n",
    "plt.ylabel('Frecuencia')\n",
    "plt.title('Distribución de Valores Vacíos por Vendedor')\n",
    "plt.xticks(resumen['Cantidad de Valores Vacíos'])\n",
    "plt.grid(axis='y', linestyle='--', alpha=0.7)\n",
    "plt.ylim(0, 200)\n",
    "\n",
    "plt.show()\n",
    "\n",
    "display(resumen)"
   ]
  },
  {
   "cell_type": "markdown",
   "metadata": {},
   "source": [
    "Analicemos esto mismo, pero por subrubro. `Miscelaneo` presenta la mayor cantidad de vendedores con diferente cantidad de datos faltantes. En todos los casos hay algún vendedor con más de 30 datos faltantes."
   ]
  },
  {
   "cell_type": "code",
   "execution_count": null,
   "metadata": {},
   "outputs": [],
   "source": [
    "plt.figure(figsize=(10, 4))  # Tamaño del gráfico\n",
    "\n",
    "for sr in tp2.Subrubro.unique():\n",
    "\n",
    "    tp3sr = tp3_Fven[tp3_Fven['Subrubro'] == sr].copy()\n",
    "\n",
    "    # Paso 1: Contar valores vacíos por fila\n",
    "    vacios_por_fila = tp3sr.isnull().sum(axis=1)\n",
    "\n",
    "    # Paso 2: Generar un resumen de cuántas filas tienen 0, 1, 2, 3, etc., valores vacíos\n",
    "    resumen = vacios_por_fila.value_counts().reset_index()\n",
    "    resumen.columns = ['Cantidad de Valores Vacíos', 'Número de Filas']\n",
    "    resumen = resumen.sort_values(by='Cantidad de Valores Vacíos')\n",
    "\n",
    "    plt.plot(resumen['Cantidad de Valores Vacíos'], resumen['Número de Filas'], label=sr, marker='o')\n",
    "    \n",
    "plt.xlabel('Cantidad de Valores Vacíos por Vendedor')\n",
    "plt.ylabel('Frecuencia')\n",
    "plt.title('Distribución de Valores Vacíos por Vendedor, según subrubro')\n",
    "plt.grid(axis='y', linestyle='--', alpha=0.7)\n",
    "plt.ylim(0, 30)\n",
    "plt.xlim(0, 40)\n",
    "\n",
    "plt.legend(fontsize=7)\n",
    "\n",
    "plt.show()"
   ]
  },
  {
   "cell_type": "markdown",
   "metadata": {},
   "source": [
    "Vemos que en todos los subrubros tenemos modelo (por las dudas si nos había quedado alguno sin)."
   ]
  },
  {
   "cell_type": "code",
   "execution_count": null,
   "metadata": {},
   "outputs": [],
   "source": [
    "print('Subrubro \\t Cantidad de modelos')\n",
    "for sr in tp2.Subrubro.unique():\n",
    "\n",
    "    tp3sr = tp3_Fven[tp3_Fven['Subrubro'] == sr].copy()\n",
    "    \n",
    "    print(f\"{sr} \\t {tp3sr['Modelo'].sum()}\")"
   ]
  },
  {
   "cell_type": "markdown",
   "metadata": {},
   "source": [
    "Vamos a repetir la gráfica de valores faltantes por subrubro, pero ahora tomando únicamente a los modelo. Sólo se grafican aquellos subrubros donde algún modelo posee al menos 1 dato  faltante. Estos subrubros resultaron ser: `Comb.`, `Supermercados`, `Comb. Ley`, `Vehiculos` y `Tabaco`. Los últimos 4 casos presentan modelos con una cantidad de datos faltantes muy por encima del valor tolerable."
   ]
  },
  {
   "cell_type": "code",
   "execution_count": null,
   "metadata": {},
   "outputs": [],
   "source": [
    "for sr in tp2.Subrubro.unique():\n",
    "\n",
    "    tp3sr = tp3_Fven[(tp3_Fven['Modelo'] == 1) & (tp3_Fven['Subrubro'] == sr)].copy()\n",
    "\n",
    "    # Paso 1: Contar valores vacíos por fila\n",
    "    vacios_por_fila = tp3sr.isnull().sum(axis=1)\n",
    "\n",
    "    # Paso 2: Generar un resumen de cuántas filas tienen 0, 1, 2, 3, etc., valores vacíos\n",
    "    resumen = vacios_por_fila.value_counts().reset_index()\n",
    "    resumen.columns = ['Cantidad de Valores Vacíos', 'Número de Filas']\n",
    "    resumen = resumen.sort_values(by='Cantidad de Valores Vacíos')\n",
    "    if len(resumen) > 1:\n",
    "        plt.plot(resumen['Cantidad de Valores Vacíos'], resumen['Número de Filas'], label=sr, marker='o')\n",
    "    \n",
    "plt.xlabel('Cantidad de Valores Vacíos por Vendedor')\n",
    "plt.ylabel('Frecuencia')\n",
    "plt.title('Distribución de Valores Vacíos por Vendedor, según subrubro')\n",
    "plt.grid(axis='y', linestyle='--', alpha=0.7)\n",
    "plt.xlim(-1, 40)\n",
    "\n",
    "plt.legend(fontsize=7)\n",
    "\n",
    "plt.show()"
   ]
  },
  {
   "cell_type": "markdown",
   "metadata": {},
   "source": [
    "Vamos a identificar a estos modelos con datos faltantes y corroborar si no es que pertenecen a más de un subrubro. Esto explicaría el porque de que aparezcan con datos faltantes en algún rubro.\n",
    "\n",
    "Tomamos las siguientes decisiones\n",
    "+ Eliminar al vendedor 306 de `Supermercados` y `Tabaco`, ya que sólo tiene 2 datos al principio.\n",
    "+ Los 12 NaN del vendedor 494 correspoden a que vendía sólo en `Comb.` y con el tiempo empezó a vender también en `Comb. Ley`. Por este motivo no se lo elimina, sino que se lo imputará de alguna manera.\n",
    "+ El vendedor 496 presenta un único dato faltante en dos de tres subrubros. Se lo imputará de alguna manera.\n",
    "+ El vendedor 599 presenta 3 datos faltantes en uno de sus subrubros. Se lo imputará de alguna manera.\n",
    "+ El vendedor 798 presenta 27 datos faltantes en `Vehiculos` y entre los 11 valores que no son NaN, solo hay 4 que son no nulos. Se lo elimina de esta categoría.\n",
    "+ El vendedor 891 presenta un único dato faltante en un subrubro. Se lo imputará de alguna manera."
   ]
  },
  {
   "cell_type": "code",
   "execution_count": null,
   "metadata": {},
   "outputs": [],
   "source": [
    "# Busco los ID que tienen datos faltantes\n",
    "ids = []\n",
    "for sr in ['Supermercados', 'Comb.', 'Comb. Ley', 'Vehiculos', 'Tabaco']:\n",
    "\n",
    "    tp3sr = tp3_Fven[(tp3_Fven['Modelo'] == 1) & (tp3_Fven['Subrubro'] == sr)]['ID'].copy()\n",
    "    for k in tp3sr:\n",
    "        ids.append(k)\n",
    "\n",
    "ids = np.unique(np.array(ids))\n",
    "\n",
    "for k in ids:\n",
    "    tp3sr = tp3_Fven[(tp3_Fven['ID'] == k)].copy()\n",
    "    vacios_por_fila = tp3sr.isnull().sum(axis=1)\n",
    "    resumen = vacios_por_fila.value_counts().reset_index()\n",
    "    resumen.columns = ['Cantidad de Valores Vacíos', 'Número de Filas']\n",
    "    resumen = resumen.sort_values(by='Cantidad de Valores Vacíos')\n",
    "    if len(resumen) > 1:\n",
    "        print(f'\\n\\nVendedor {k}:')\n",
    "        display(tp3sr)\n",
    "        display(resumen)\n",
    "\n",
    "# for sr in tp2.Subrubro.unique():\n",
    "\n",
    "#     tp3sr = tp3_Fven[(tp3_Fven['Modelo'] == 1) & (tp3_Fven['Subrubro'] == sr)].copy()\n",
    "\n",
    "#     # Paso 1: Contar valores vacíos por fila\n",
    "#     vacios_por_fila = tp3sr.isnull().sum(axis=1)\n",
    "\n",
    "#     # Paso 2: Generar un resumen de cuántas filas tienen 0, 1, 2, 3, etc., valores vacíos\n",
    "#     resumen = vacios_por_fila.value_counts().reset_index()\n",
    "#     resumen.columns = ['Cantidad de Valores Vacíos', 'Número de Filas']\n",
    "#     resumen = resumen.sort_values(by='Cantidad de Valores Vacíos')\n",
    "#     if len(resumen) > 1:\n",
    "#         plt.plot(resumen['Cantidad de Valores Vacíos'], resumen['Número de Filas'], label=sr, marker='o')\n",
    "    \n",
    "# plt.xlabel('Cantidad de Valores Vacíos por Vendedor')\n",
    "# plt.ylabel('Frecuencia')\n",
    "# plt.title('Distribución de Valores Vacíos por Vendedor, según subrubro')\n",
    "# plt.grid(axis='y', linestyle='--', alpha=0.7)\n",
    "# plt.xlim(-1, 40)\n",
    "\n",
    "# plt.legend(fontsize=7)\n",
    "\n",
    "# plt.show()"
   ]
  },
  {
   "cell_type": "markdown",
   "metadata": {},
   "source": []
  },
  {
   "cell_type": "markdown",
   "metadata": {},
   "source": []
  },
  {
   "cell_type": "markdown",
   "metadata": {},
   "source": []
  },
  {
   "cell_type": "markdown",
   "metadata": {},
   "source": []
  },
  {
   "cell_type": "markdown",
   "metadata": {},
   "source": []
  },
  {
   "cell_type": "code",
   "execution_count": null,
   "metadata": {},
   "outputs": [],
   "source": [
    "tp3_Fven[['ID']].value_counts()"
   ]
  },
  {
   "cell_type": "code",
   "execution_count": null,
   "metadata": {},
   "outputs": [],
   "source": []
  },
  {
   "cell_type": "code",
   "execution_count": null,
   "metadata": {},
   "outputs": [],
   "source": []
  },
  {
   "cell_type": "code",
   "execution_count": null,
   "metadata": {},
   "outputs": [],
   "source": [
    "# msno.matrix(tp3.iloc[:, 3:], fontsize=12, color=[0.5,0,0], figsize=(6, 5))\n",
    "# plt.show()"
   ]
  },
  {
   "cell_type": "code",
   "execution_count": null,
   "metadata": {},
   "outputs": [],
   "source": [
    "# # Definir grupos de variables:\n",
    "\n",
    "# basics = ['ID', 'Subrubro', 'Modelo']\n",
    "\n",
    "# F_Com = ['F_pct_Com_1905', 'F_pct_Com_1906', 'F_pct_Com_1907', 'F_pct_Com_1908', \n",
    "#          'F_pct_Com_1909', 'F_pct_Com_1910', 'F_pct_Com_1911', 'F_pct_Com_1912',\n",
    "#          'F_pct_Com_2001', 'F_pct_Com_2002', 'F_pct_Com_2003', 'F_pct_Com_2004',\n",
    "#          'F_pct_Com_2005', 'F_pct_Com_2006', 'F_pct_Com_2007', 'F_pct_Com_2008',\n",
    "#          'F_pct_Com_2009', 'F_pct_Com_2010', 'F_pct_Com_2011', 'F_pct_Com_2012',\n",
    "#          'F_pct_Com_2101', 'F_pct_Com_2102', 'F_pct_Com_2103', 'F_pct_Com_2104',\n",
    "#          'F_pct_Com_2105', 'F_pct_Com_2106', 'F_pct_Com_2107', 'F_pct_Com_2108',\n",
    "#          'F_pct_Com_2109', 'F_pct_Com_2110', 'F_pct_Com_2111', 'F_pct_Com_2112',\n",
    "#          'F_pct_Com_2201', 'F_pct_Com_2202', 'F_pct_Com_2203', 'F_pct_Com_2204',\n",
    "#          'F_pct_Com_2205', 'F_pct_Com_2206']\n",
    "\n",
    "# F_Ven = ['F_pct_Ven_1905', 'F_pct_Ven_1906', 'F_pct_Ven_1907', 'F_pct_Ven_1908', \n",
    "#          'F_pct_Ven_1909', 'F_pct_Ven_1910', 'F_pct_Ven_1911', 'F_pct_Ven_1912',\n",
    "#          'F_pct_Ven_2001', 'F_pct_Ven_2002', 'F_pct_Ven_2003', 'F_pct_Ven_2004',\n",
    "#          'F_pct_Ven_2005', 'F_pct_Ven_2006', 'F_pct_Ven_2007', 'F_pct_Ven_2008',\n",
    "#          'F_pct_Ven_2009', 'F_pct_Ven_2010', 'F_pct_Ven_2011', 'F_pct_Ven_2012',\n",
    "#          'F_pct_Ven_2101', 'F_pct_Ven_2102', 'F_pct_Ven_2103', 'F_pct_Ven_2104',\n",
    "#          'F_pct_Ven_2105', 'F_pct_Ven_2106', 'F_pct_Ven_2107', 'F_pct_Ven_2108',\n",
    "#          'F_pct_Ven_2109', 'F_pct_Ven_2110', 'F_pct_Ven_2111', 'F_pct_Ven_2112',\n",
    "#          'F_pct_Ven_2201', 'F_pct_Ven_2202', 'F_pct_Ven_2203', 'F_pct_Ven_2204',\n",
    "#          'F_pct_Ven_2205', 'F_pct_Ven_2206']\n",
    "\n",
    "# Y_Com = ['Y_pct_Com_2001', 'Y_pct_Com_2002', 'Y_pct_Com_2003', 'Y_pct_Com_2004',\n",
    "#          'Y_pct_Com_2005', 'Y_pct_Com_2006', 'Y_pct_Com_2007', 'Y_pct_Com_2008',\n",
    "#          'Y_pct_Com_2009', 'Y_pct_Com_2010', 'Y_pct_Com_2011', 'Y_pct_Com_2012',\n",
    "#          'Y_pct_Com_2101', 'Y_pct_Com_2102', 'Y_pct_Com_2103', 'Y_pct_Com_2104',\n",
    "#          'Y_pct_Com_2105', 'Y_pct_Com_2106', 'Y_pct_Com_2107', 'Y_pct_Com_2108',\n",
    "#          'Y_pct_Com_2109', 'Y_pct_Com_2110', 'Y_pct_Com_2111', 'Y_pct_Com_2112',\n",
    "#          'Y_pct_Com_2201', 'Y_pct_Com_2202', 'Y_pct_Com_2203', 'Y_pct_Com_2204',\n",
    "#          'Y_pct_Com_2205', 'Y_pct_Com_2206']\n",
    "\n",
    "# Y_Ven = ['Y_pct_Ven_2001', 'Y_pct_Ven_2002', 'Y_pct_Ven_2003', 'Y_pct_Ven_2004',\n",
    "#          'Y_pct_Ven_2005', 'Y_pct_Ven_2006', 'Y_pct_Ven_2007', 'Y_pct_Ven_2008',\n",
    "#          'Y_pct_Ven_2009', 'Y_pct_Ven_2010', 'Y_pct_Ven_2011', 'Y_pct_Ven_2012',\n",
    "#          'Y_pct_Ven_2101', 'Y_pct_Ven_2102', 'Y_pct_Ven_2103', 'Y_pct_Ven_2104',\n",
    "#          'Y_pct_Ven_2105', 'Y_pct_Ven_2106', 'Y_pct_Ven_2107', 'Y_pct_Ven_2108',\n",
    "#          'Y_pct_Ven_2109', 'Y_pct_Ven_2110', 'Y_pct_Ven_2111', 'Y_pct_Ven_2112',\n",
    "#          'Y_pct_Ven_2201', 'Y_pct_Ven_2202', 'Y_pct_Ven_2203', 'Y_pct_Ven_2204',\n",
    "#          'Y_pct_Ven_2205', 'Y_pct_Ven_2206']"
   ]
  },
  {
   "cell_type": "markdown",
   "metadata": {},
   "source": [
    "# Tratamiento de vacíos"
   ]
  },
  {
   "cell_type": "code",
   "execution_count": null,
   "metadata": {},
   "outputs": [],
   "source": [
    "# Para que las funciones se actualicen sin tener que refrescar el kernel\n",
    "%load_ext autoreload\n",
    "%autoreload 2\n",
    "\n",
    "# Funciones de visualización y curación\n",
    "import pandas as pd\n",
    "import json\n",
    "from os.path import exists\n",
    "import missingno as msno\n",
    "import matplotlib.pyplot as plt\n",
    "import numpy as np\n",
    "import seaborn as sns\n",
    "from statsmodels.graphics.tsaplots import plot_acf\n",
    "from scipy.stats import linregress as LR\n",
    "from scipy.stats import skew, kurtosis, skewtest, kurtosistest\n",
    "\n",
    "# Funciones de clustering\n",
    "from sklearn.cluster import KMeans, MeanShift\n",
    "from sklearn import manifold, preprocessing, decomposition\n",
    "\n",
    "# Funciones propias\n",
    "from tp2_utils_limpieza import * \n",
    "\n",
    "# Preferencias\n",
    "pd.set_option('display.max_columns', 150)\n",
    "pd.set_option('display.max_rows',150)\n",
    "sns.set_context('talk')\n",
    "sns.set_theme(style='white')"
   ]
  },
  {
   "cell_type": "code",
   "execution_count": null,
   "metadata": {},
   "outputs": [],
   "source": [
    "tp3 = pd.read_csv('../data/interim/tp3_vendedores_vector.csv')\n",
    "tp3 = limpiar_basic(tp3, cols_drop='Omega')\n",
    "\n",
    "basics = ['ID', 'Subrubro', 'Modelo']\n",
    "\n",
    "F_Ven = ['F_pct_Ven_1905', 'F_pct_Ven_1906', 'F_pct_Ven_1907', 'F_pct_Ven_1908', \n",
    "         'F_pct_Ven_1909', 'F_pct_Ven_1910', 'F_pct_Ven_1911', 'F_pct_Ven_1912',\n",
    "         'F_pct_Ven_2001', 'F_pct_Ven_2002', 'F_pct_Ven_2003', 'F_pct_Ven_2004',\n",
    "         'F_pct_Ven_2005', 'F_pct_Ven_2006', 'F_pct_Ven_2007', 'F_pct_Ven_2008',\n",
    "         'F_pct_Ven_2009', 'F_pct_Ven_2010', 'F_pct_Ven_2011', 'F_pct_Ven_2012',\n",
    "         'F_pct_Ven_2101', 'F_pct_Ven_2102', 'F_pct_Ven_2103', 'F_pct_Ven_2104',\n",
    "         'F_pct_Ven_2105', 'F_pct_Ven_2106', 'F_pct_Ven_2107', 'F_pct_Ven_2108',\n",
    "         'F_pct_Ven_2109', 'F_pct_Ven_2110', 'F_pct_Ven_2111', 'F_pct_Ven_2112',\n",
    "         'F_pct_Ven_2201', 'F_pct_Ven_2202', 'F_pct_Ven_2203', 'F_pct_Ven_2204',\n",
    "         'F_pct_Ven_2205', 'F_pct_Ven_2206']\n",
    "\n",
    "tp3_Fven = tp3[basics+F_Ven].copy()\n",
    "\n",
    "tp3_Fven['Vacios'] = tp3_Fven[F_Ven].isnull().sum(axis=1)\n",
    "\n",
    "tp3_Fven"
   ]
  },
  {
   "cell_type": "markdown",
   "metadata": {},
   "source": [
    "En primer lugar, vamos a definir una variable llamada `Tipo_subrubro` que determina si el rubro en cuestión es *Primario* o *Secundario*. Donde cada vendedor va a tener un único rubro *Primario* y ninguno, uno o más rubros *Secundario*.\n",
    "* Los vendedores con un solo rubro, van a tener el valor *Primario* en todos los casos.\n",
    "* Para los vendedores con varios rubros, se tendrá en cuenta la siguiente regla de decisión:\n",
    "    * Es *Primario* el subrubro con menor cantidad de valores vacíos (en caso de empate define el que tenga el mayor volumen de ventas)\n",
    "    * El resto de los subrubros son *Secundario*."
   ]
  },
  {
   "cell_type": "code",
   "execution_count": null,
   "metadata": {},
   "outputs": [],
   "source": [
    "# Encuentra los ID que aparecen más de una vez\n",
    "duplicados = tp3_Fven[tp3_Fven.duplicated(subset='ID', keep=False)].sort_values(by=['ID', 'Subrubro']).copy()\n",
    "duplicados"
   ]
  },
  {
   "cell_type": "markdown",
   "metadata": {},
   "source": [
    "Necesitamos recuperar la variable `Ventas`"
   ]
  },
  {
   "cell_type": "code",
   "execution_count": null,
   "metadata": {},
   "outputs": [],
   "source": [
    "path = '../data/interim/tp3_registros_vendedores_abs.csv'\n",
    "montos = pd.read_csv(path)\n",
    "montos = montos.sort_values(by=['ID', 'Subrubro']).copy()\n",
    "montos"
   ]
  },
  {
   "cell_type": "code",
   "execution_count": null,
   "metadata": {},
   "outputs": [],
   "source": [
    "# Crear la nueva variable 'Montos' que contendrá la suma de las Ventas por Subrubro e ID\n",
    "montos['Montos'] = montos.groupby(['ID', 'Subrubro'])['Ventas'].transform('sum')\n",
    "montos = montos[['ID', 'Subrubro', 'Montos']].copy()\n",
    "montos = montos.drop_duplicates(subset=['ID', 'Subrubro'], keep='first').copy()\n",
    "montos"
   ]
  },
  {
   "cell_type": "code",
   "execution_count": null,
   "metadata": {},
   "outputs": [],
   "source": [
    "# Mergear la variable Montos al df duplicados\n",
    "duplicados = duplicados.merge(montos[['ID', 'Subrubro', 'Montos']], on=['ID', 'Subrubro'], how='left')\n",
    "duplicados"
   ]
  },
  {
   "cell_type": "code",
   "execution_count": null,
   "metadata": {},
   "outputs": [],
   "source": [
    "def etiquetar_tipo_subrubro(df_grupo):\n",
    "    # Si hay empate en la cantidad de Vacíos, seleccionamos el que tenga el menor Promedio\n",
    "    min_vacios = df_grupo['Vacios'].min()\n",
    "    max_montos = df_grupo[df_grupo['Vacios'] == min_vacios]['Montos'].max()\n",
    "    \n",
    "    # Identificar el Primario y Secundarios\n",
    "    df_grupo['Tipo_subrubro'] = 'Secundario'\n",
    "    df_grupo.loc[(df_grupo['Vacios'] == min_vacios) & (df_grupo['Montos'] == max_montos), 'Tipo_subrubro'] = 'Primario'\n",
    "    \n",
    "    return df_grupo\n",
    "\n",
    "# Aplicar la función de etiquetado por grupo (ID)\n",
    "duplicados = duplicados.groupby('ID').apply(etiquetar_tipo_subrubro)\n",
    "duplicados.reset_index(drop=True, inplace=True)\n",
    "\n",
    "duplicados"
   ]
  },
  {
   "cell_type": "code",
   "execution_count": null,
   "metadata": {},
   "outputs": [],
   "source": [
    "duplicados = duplicados[['ID', 'Subrubro', 'Tipo_subrubro']].copy()\n",
    "duplicados"
   ]
  },
  {
   "cell_type": "code",
   "execution_count": null,
   "metadata": {},
   "outputs": [],
   "source": [
    "# Mergear la variable Tipo_subrubro al df tp3_Fven\n",
    "tp3_Fven = tp3_Fven.merge(duplicados[['ID', 'Subrubro', 'Tipo_subrubro']], on=['ID', 'Subrubro'], how='left')\n",
    "\n",
    "# Para los vacíos, asignar Primario\n",
    "tp3_Fven['Tipo_subrubro'].fillna(\"Primario\", inplace=True)\n",
    "\n",
    "tp3_Fven"
   ]
  },
  {
   "cell_type": "markdown",
   "metadata": {},
   "source": [
    "Una vez definida la variable `Tipo_subrubro`, vamos a tomar determinaciones respecto a qué hacer con los valores nulos.\n",
    "Las reglas de decisión van a tener en cuenta a las variables `Modelo`, `Tipo_subrubro` y `Vacios`."
   ]
  },
  {
   "cell_type": "markdown",
   "metadata": {},
   "source": [
    "| Modelo | Tipo_subrubro | Vacíos         | Decisión       |\n",
    "|--------|---------------|----------------|----------------|\n",
    "| 1      | Primario      | 0              | No hacer nada  |\n",
    "| 1      | Primario      | Hasta 20 (50%) | Imputar        |\n",
    "| 1      | Primario      | Más de 20      | Tirar          |\n",
    "| 1      | Secundario    | 0              | No hacer nada  |\n",
    "| 1      | Secundario    | Hasta 10 (25%) | Imputar        |\n",
    "| 1      | Secundario    | Más de 10      | Tirar          |\n",
    "| 0      | Primario      | 0              | No hacer nada  |\n",
    "| 0      | Primario      | Hasta 4 (10%)  | Imputar        |\n",
    "| 0      | Primario      | Más de 4       | Tirar          |\n",
    "| 0      | Secundario    | 0              | No hacer nada  |\n",
    "| 0      | Secundario    | Hasta 2 (5%)   | Imputar        |\n",
    "| 0      | Secundario    | Más de 2      | Tirar          |"
   ]
  },
  {
   "cell_type": "code",
   "execution_count": null,
   "metadata": {},
   "outputs": [],
   "source": [
    "# Crear una función para determinar la decisión\n",
    "def determinar_decision(row):\n",
    "    if row['Modelo'] == 1:\n",
    "        if row['Tipo_subrubro'] == 'Primario':\n",
    "            if row['Vacios'] == 0:\n",
    "                return 'No hacer nada'\n",
    "            elif row['Vacios'] <= 20:\n",
    "                return 'Imputar'\n",
    "            else:\n",
    "                return 'Tirar'\n",
    "        elif row['Tipo_subrubro'] == 'Secundario':\n",
    "            if row['Vacios'] == 0:\n",
    "                return 'No hacer nada'\n",
    "            elif row['Vacios'] <= 10:\n",
    "                return 'Imputar'\n",
    "            else:\n",
    "                return 'Tirar'\n",
    "    elif row['Modelo'] == 0:\n",
    "        if row['Tipo_subrubro'] == 'Primario':\n",
    "            if row['Vacios'] == 0:\n",
    "                return 'No hacer nada'\n",
    "            elif row['Vacios'] <= 4:\n",
    "                return 'Imputar'\n",
    "            else:\n",
    "                return 'Tirar'\n",
    "        elif row['Tipo_subrubro'] == 'Secundario':\n",
    "            if row['Vacios'] == 0:\n",
    "                return 'No hacer nada'\n",
    "            elif row['Vacios'] <= 2:\n",
    "                return 'Imputar'\n",
    "            else:\n",
    "                return 'Tirar'\n",
    "    return 'Desconocido'"
   ]
  },
  {
   "cell_type": "code",
   "execution_count": null,
   "metadata": {},
   "outputs": [],
   "source": [
    "# Aplicar la función para crear la columna \"Decisión\"\n",
    "tp3_Fven['Decision'] = tp3_Fven.apply(determinar_decision, axis=1)\n",
    "tp3_Fven"
   ]
  },
  {
   "cell_type": "markdown",
   "metadata": {},
   "source": [
    "## Aplicación de las decisiones"
   ]
  },
  {
   "cell_type": "markdown",
   "metadata": {},
   "source": [
    "#### Tirar"
   ]
  },
  {
   "cell_type": "code",
   "execution_count": null,
   "metadata": {},
   "outputs": [],
   "source": [
    "tp3_Fven_limpio = tp3_Fven[tp3_Fven['Decision'] != 'Tirar'].copy()\n",
    "tp3_Fven_limpio.drop(columns=['Decision', 'Vacios', 'Tipo_subrubro'], inplace=True)\n",
    "tp3_Fven_limpio"
   ]
  },
  {
   "cell_type": "code",
   "execution_count": null,
   "metadata": {},
   "outputs": [],
   "source": [
    "tp3_Fven_limpio.to_csv('../data/interim/base.csv', index=False)"
   ]
  },
  {
   "cell_type": "markdown",
   "metadata": {},
   "source": [
    "### Imputar con ceros"
   ]
  },
  {
   "cell_type": "markdown",
   "metadata": {},
   "source": [
    "Para empezar, imputamos por 0 (luego decidir qué hacer)"
   ]
  },
  {
   "cell_type": "code",
   "execution_count": null,
   "metadata": {},
   "outputs": [],
   "source": [
    "# Imputar los valores faltantes con 0 en las columnas especificadas\n",
    "tp3_Fven_limpio_ceros = tp3_Fven_limpio.copy()\n",
    "tp3_Fven_limpio_ceros[F_Ven] = tp3_Fven_limpio_ceros[F_Ven].fillna(0).copy()\n",
    "tp3_Fven_limpio_ceros"
   ]
  },
  {
   "cell_type": "markdown",
   "metadata": {},
   "source": [
    "### Comparación de datasets antes y después del tratamiento de nulos"
   ]
  },
  {
   "cell_type": "code",
   "execution_count": null,
   "metadata": {},
   "outputs": [],
   "source": [
    "# Crear los DataFrames \"antes\" y \"ahora\"\n",
    "antes = tp3_Fven.pivot_table(index='Subrubro', columns='Modelo', aggfunc='size', fill_value=0)\n",
    "ahora = tp3_Fven_limpio_ceros.pivot_table(index='Subrubro', columns='Modelo', aggfunc='size', fill_value=0)\n",
    "diferencia = ahora - antes\n",
    "porcentual = (ahora - antes)/antes*100\n",
    "\n",
    "# Agregar nombres a los DataFrames\n",
    "antes = antes.rename(columns=lambda x: (x, 'antes'))\n",
    "ahora = ahora.rename(columns=lambda x: (x, 'después'))\n",
    "diferencia = diferencia.rename(columns=lambda x: (x, 'diferencia'))\n",
    "porcentual = porcentual.rename(columns=lambda x: (x, 'porcentual'))\n",
    "\n",
    "# Concatenar los DataFrames con nombres\n",
    "resultado = pd.concat([antes, ahora, diferencia, porcentual], axis=1)\n",
    "resultado.columns = pd.MultiIndex.from_tuples(resultado.columns)\n",
    "resultado.columns = resultado.columns.swaplevel(0, 1)  # Intercambiar el orden de los niveles de las columnas\n",
    "resultado.columns.names = ['Tabla', 'Modelo']  # Cambiar el orden de los nombres de los niveles\n",
    "\n",
    "# Mostrar el resultado\n",
    "resultado"
   ]
  },
  {
   "cell_type": "code",
   "execution_count": null,
   "metadata": {},
   "outputs": [],
   "source": [
    "tp3_Fven_limpio_ceros.to_csv('../data/interim/tp3_Fven_limpio_ceros.csv', index=False)"
   ]
  },
  {
   "cell_type": "markdown",
   "metadata": {},
   "source": [
    "#### Imputar con KNN"
   ]
  },
  {
   "cell_type": "code",
   "execution_count": null,
   "metadata": {},
   "outputs": [],
   "source": [
    "tp3_Fven_limpio.columns"
   ]
  },
  {
   "cell_type": "code",
   "execution_count": null,
   "metadata": {},
   "outputs": [],
   "source": [
    "# transponemos para imputar, porque knn funciona asignando el valor en función de las otras columnas. \n",
    "# Acá como cada feature en el mismo usuario en otro momento del tiempo los transpuse para que las columnas \n",
    "# sean otros usuarios en el mismo momento del tiempo.\n",
    "\n",
    "\n",
    "X = tp3_Fven_limpio.iloc[:, 2:41].transpose() \n",
    "X.head(10)"
   ]
  },
  {
   "cell_type": "code",
   "execution_count": null,
   "metadata": {},
   "outputs": [],
   "source": [
    "from sklearn.impute import KNNImputer\n",
    "\n",
    "imputer = KNNImputer(n_neighbors=5)\n",
    "imputer.fit(X)\n",
    "X_imputed_arr = imputer.transform(X)\n",
    "\n",
    "X_imputed_df_trans = pd.DataFrame(X_imputed_arr, columns=X.columns)\n",
    "\n",
    "# vuelve a transponer para volver a la forma original\n",
    "X_imputed_df = X_imputed_df_trans.transpose()\n",
    "X_imputed_df.head()"
   ]
  },
  {
   "cell_type": "code",
   "execution_count": null,
   "metadata": {},
   "outputs": [],
   "source": [
    "X_imputed = tp3_Fven_limpio.copy()\n",
    "# inserto el df imputado en la misma forma de df del que se partió para tener las otras features categóricas (Subrubro, principalmente)\n",
    "X_imputed.iloc[:, 2:41] = X_imputed_df\n",
    "\n",
    "X_imputed.tail(10)"
   ]
  }
 ],
 "metadata": {
  "kernelspec": {
   "display_name": "Python 3",
   "language": "python",
   "name": "python3"
  },
  "language_info": {
   "codemirror_mode": {
    "name": "ipython",
    "version": 3
   },
   "file_extension": ".py",
   "mimetype": "text/x-python",
   "name": "python",
   "nbconvert_exporter": "python",
   "pygments_lexer": "ipython3",
   "version": "3.10.12"
  },
  "orig_nbformat": 4
 },
 "nbformat": 4,
 "nbformat_minor": 2
}
