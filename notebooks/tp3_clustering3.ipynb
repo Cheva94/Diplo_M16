{
 "cells": [
  {
   "cell_type": "markdown",
   "metadata": {},
   "source": [
    "# Diplomatura en ciencia de datos, aprendizaje automático y sus aplicaciones - Edición 2023 - FAMAF (UNC)"
   ]
  },
  {
   "cell_type": "markdown",
   "metadata": {},
   "source": [
    "## Mentoría 16 - ¿Cómo identificar fuga de ventas? Inteligencia artificial aplicada al sector comercial.\n",
    "\n",
    "### Explorando Patrones de Datos a través de Clustering (TP3)\n",
    "\n",
    "**Integrantes:**\n",
    "- Canalis, Patricio.\n",
    "- Chevallier-Boutell, Ignacio José.\n",
    "- Villarroel Torrez, Daniel.\n",
    "\n",
    "**Mentores:**\n",
    "- Gonzalez, Lucía\n",
    "- Lahoz, Nahuel"
   ]
  },
  {
   "cell_type": "markdown",
   "metadata": {},
   "source": [
    "---\n",
    "## Librerías"
   ]
  },
  {
   "cell_type": "code",
   "execution_count": null,
   "metadata": {},
   "outputs": [],
   "source": [
    "# Para que las funciones se actualicen sin tener que refrescar el kernel\n",
    "%load_ext autoreload\n",
    "%autoreload 2\n",
    "\n",
    "# Funciones de visualización y curación\n",
    "import pandas as pd\n",
    "import json\n",
    "from os.path import exists\n",
    "import missingno as msno\n",
    "import matplotlib.pyplot as plt\n",
    "import numpy as np\n",
    "import seaborn as sns\n",
    "from statsmodels.graphics.tsaplots import plot_acf\n",
    "from scipy.stats import linregress as LR\n",
    "from scipy.stats import skew, kurtosis, skewtest, kurtosistest\n",
    "\n",
    "# Funciones de clustering\n",
    "from sklearn import manifold, preprocessing, decomposition\n",
    "from sklearn.cluster import KMeans, MeanShift\n",
    "from sklearn.preprocessing import MinMaxScaler\n",
    "from sklearn.decomposition import PCA\n",
    "\n",
    "# Funciones propias\n",
    "from tp2_utils_limpieza import * \n",
    "\n",
    "# Clear preferencias\n",
    "plt.rcdefaults()\n",
    "pd.reset_option('^display\\.float_format')"
   ]
  },
  {
   "cell_type": "markdown",
   "metadata": {},
   "source": [
    "---\n",
    "# Preparación de Datos <span style=\"color:magenta\">**(Paso 1)**</span>"
   ]
  },
  {
   "cell_type": "code",
   "execution_count": null,
   "metadata": {},
   "outputs": [],
   "source": [
    "vectores = pd.read_csv('../data/interim/tp3_Fven_limpio_ceros.csv')\n",
    "vectores"
   ]
  },
  {
   "cell_type": "code",
   "execution_count": null,
   "metadata": {},
   "outputs": [],
   "source": [
    "# Definir grupos de variables:\n",
    "\n",
    "F_Com = ['F_pct_Com_1905', 'F_pct_Com_1906', 'F_pct_Com_1907', 'F_pct_Com_1908', \n",
    "         'F_pct_Com_1909', 'F_pct_Com_1910', 'F_pct_Com_1911', 'F_pct_Com_1912',\n",
    "         'F_pct_Com_2001', 'F_pct_Com_2002', 'F_pct_Com_2003', 'F_pct_Com_2004',\n",
    "         'F_pct_Com_2005', 'F_pct_Com_2006', 'F_pct_Com_2007', 'F_pct_Com_2008',\n",
    "         'F_pct_Com_2009', 'F_pct_Com_2010', 'F_pct_Com_2011', 'F_pct_Com_2012',\n",
    "         'F_pct_Com_2101', 'F_pct_Com_2102', 'F_pct_Com_2103', 'F_pct_Com_2104',\n",
    "         'F_pct_Com_2105', 'F_pct_Com_2106', 'F_pct_Com_2107', 'F_pct_Com_2108',\n",
    "         'F_pct_Com_2109', 'F_pct_Com_2110', 'F_pct_Com_2111', 'F_pct_Com_2112',\n",
    "         'F_pct_Com_2201', 'F_pct_Com_2202', 'F_pct_Com_2203', 'F_pct_Com_2204',\n",
    "         'F_pct_Com_2205', 'F_pct_Com_2206']\n",
    "\n",
    "F_Ven = ['F_pct_Ven_1905', 'F_pct_Ven_1906', 'F_pct_Ven_1907', 'F_pct_Ven_1908', \n",
    "         'F_pct_Ven_1909', 'F_pct_Ven_1910', 'F_pct_Ven_1911', 'F_pct_Ven_1912',\n",
    "         'F_pct_Ven_2001', 'F_pct_Ven_2002', 'F_pct_Ven_2003', 'F_pct_Ven_2004',\n",
    "         'F_pct_Ven_2005', 'F_pct_Ven_2006', 'F_pct_Ven_2007', 'F_pct_Ven_2008',\n",
    "         'F_pct_Ven_2009', 'F_pct_Ven_2010', 'F_pct_Ven_2011', 'F_pct_Ven_2012',\n",
    "         'F_pct_Ven_2101', 'F_pct_Ven_2102', 'F_pct_Ven_2103', 'F_pct_Ven_2104',\n",
    "         'F_pct_Ven_2105', 'F_pct_Ven_2106', 'F_pct_Ven_2107', 'F_pct_Ven_2108',\n",
    "         'F_pct_Ven_2109', 'F_pct_Ven_2110', 'F_pct_Ven_2111', 'F_pct_Ven_2112',\n",
    "         'F_pct_Ven_2201', 'F_pct_Ven_2202', 'F_pct_Ven_2203', 'F_pct_Ven_2204',\n",
    "         'F_pct_Ven_2205', 'F_pct_Ven_2206']\n",
    "\n",
    "Y_Com = ['Y_pct_Com_2001', 'Y_pct_Com_2002', 'Y_pct_Com_2003', 'Y_pct_Com_2004',\n",
    "         'Y_pct_Com_2005', 'Y_pct_Com_2006', 'Y_pct_Com_2007', 'Y_pct_Com_2008',\n",
    "         'Y_pct_Com_2009', 'Y_pct_Com_2010', 'Y_pct_Com_2011', 'Y_pct_Com_2012',\n",
    "         'Y_pct_Com_2101', 'Y_pct_Com_2102', 'Y_pct_Com_2103', 'Y_pct_Com_2104',\n",
    "         'Y_pct_Com_2105', 'Y_pct_Com_2106', 'Y_pct_Com_2107', 'Y_pct_Com_2108',\n",
    "         'Y_pct_Com_2109', 'Y_pct_Com_2110', 'Y_pct_Com_2111', 'Y_pct_Com_2112',\n",
    "         'Y_pct_Com_2201', 'Y_pct_Com_2202', 'Y_pct_Com_2203', 'Y_pct_Com_2204',\n",
    "         'Y_pct_Com_2205', 'Y_pct_Com_2206']\n",
    "\n",
    "Y_Ven = ['Y_pct_Ven_2001', 'Y_pct_Ven_2002', 'Y_pct_Ven_2003', 'Y_pct_Ven_2004',\n",
    "         'Y_pct_Ven_2005', 'Y_pct_Ven_2006', 'Y_pct_Ven_2007', 'Y_pct_Ven_2008',\n",
    "         'Y_pct_Ven_2009', 'Y_pct_Ven_2010', 'Y_pct_Ven_2011', 'Y_pct_Ven_2012',\n",
    "         'Y_pct_Ven_2101', 'Y_pct_Ven_2102', 'Y_pct_Ven_2103', 'Y_pct_Ven_2104',\n",
    "         'Y_pct_Ven_2105', 'Y_pct_Ven_2106', 'Y_pct_Ven_2107', 'Y_pct_Ven_2108',\n",
    "         'Y_pct_Ven_2109', 'Y_pct_Ven_2110', 'Y_pct_Ven_2111', 'Y_pct_Ven_2112',\n",
    "         'Y_pct_Ven_2201', 'Y_pct_Ven_2202', 'Y_pct_Ven_2203', 'Y_pct_Ven_2204',\n",
    "         'Y_pct_Ven_2205', 'Y_pct_Ven_2206']\n",
    "\n",
    "basics = ['Modelo', 'Subrubro']"
   ]
  },
  {
   "cell_type": "markdown",
   "metadata": {},
   "source": [
    "## Para todos los Subrubros juntos"
   ]
  },
  {
   "cell_type": "markdown",
   "metadata": {},
   "source": [
    "### Aplico MinMax"
   ]
  },
  {
   "cell_type": "code",
   "execution_count": null,
   "metadata": {},
   "outputs": [],
   "source": [
    "# Crear un objeto MinMaxScaler\n",
    "scaler = MinMaxScaler()\n",
    "# Aplicar el escalado Min-Max solo a las columnas seleccionadas\n",
    "vectores[F_Ven] = scaler.fit_transform(vectores[F_Ven])\n",
    "vectores"
   ]
  },
  {
   "cell_type": "markdown",
   "metadata": {},
   "source": [
    "### Aplico PCA a 12 componentes"
   ]
  },
  {
   "cell_type": "code",
   "execution_count": null,
   "metadata": {},
   "outputs": [],
   "source": [
    "pca=decomposition.PCA(n_components=12) #elegimos 2, 3 o 4 pero pueden ser más\n",
    "\n",
    "pca.fit(vectores[F_Ven])\n",
    "\n",
    "# proporción de varianza\n",
    "print('proporción de varianza por componente: ', pca.explained_variance_ratio_)\n",
    "# proporción de varianza acumulada\n",
    "print ('proporción de varianza por componente acumulada: ', pca.explained_variance_ratio_.cumsum())\n",
    "\n",
    "vectores_pca=pca.transform(vectores[F_Ven]) #numpy array\n",
    "vectores_pca = pd.DataFrame(data=vectores_pca, columns=[f'PC{i}' for i in range(1, 13)]).copy()\n",
    "\n",
    "print ('tamaño de los datos: ', vectores_pca.shape)\n",
    "vectores_pca"
   ]
  },
  {
   "cell_type": "markdown",
   "metadata": {},
   "source": [
    "### Elijo el nro de clusters con el método del codo"
   ]
  },
  {
   "cell_type": "code",
   "execution_count": null,
   "metadata": {},
   "outputs": [],
   "source": [
    "#Prueba: para elegir el hiperparámetro n_clusters, variando de 2 a 11 clusters\n",
    "scores = [KMeans(n_clusters=i, n_init=10).fit(vectores_pca).inertia_ for i in range(2,12)]\n",
    "\n",
    "plt.plot(np.arange(2, 12), scores)\n",
    "plt.xlabel('Number of clusters')\n",
    "plt.ylabel(\"Inertia\")\n",
    "plt.title(\"Inertia of k-Means versus number of clusters\")"
   ]
  },
  {
   "cell_type": "code",
   "execution_count": null,
   "metadata": {},
   "outputs": [],
   "source": [
    "# Encontrar el número recomendado de clusters (punto del codo)\n",
    "# Encuentra la primera derivada (diferencia entre puntos sucesivos)\n",
    "differences = np.diff(scores)\n",
    "\n",
    "# Encuentra el punto del codo (donde la primera derivada cambia más)\n",
    "recommended_num_clusters = np.where(differences == max(differences))[0][0] + 2  # +2 para compensar el rango de inicio\n",
    "\n",
    "print(\"Número recomendado de clusters:\", recommended_num_clusters)"
   ]
  },
  {
   "cell_type": "markdown",
   "metadata": {},
   "source": [
    "### Aplico KMeans"
   ]
  },
  {
   "cell_type": "code",
   "execution_count": null,
   "metadata": {},
   "outputs": [],
   "source": [
    "km = KMeans(n_clusters=recommended_num_clusters, n_init=10) # El parámetro n_init igual a 10 me lo pide para no tirar error. Ver luego qué implica.\n",
    "km.fit(vectores_pca)\n",
    "clusters = km.labels_"
   ]
  },
  {
   "cell_type": "markdown",
   "metadata": {},
   "source": [
    "### Aplico PCA en dos componentes para graficar"
   ]
  },
  {
   "cell_type": "code",
   "execution_count": null,
   "metadata": {},
   "outputs": [],
   "source": [
    "pca=decomposition.PCA(n_components=2) #elegimos 2, 3 o 4 pero pueden ser más\n",
    "\n",
    "pca.fit(vectores_pca)\n",
    "\n",
    "# proporción de varianza\n",
    "print('proporción de varianza por componente: ', pca.explained_variance_ratio_)\n",
    "# proporción de varianza acumulada\n",
    "print ('proporción de varianza por componente acumulada: ', pca.explained_variance_ratio_.cumsum())\n",
    "\n",
    "vectores_pca_2=pca.transform(vectores_pca) #numpy array\n",
    "vectores_pca_2 = pd.DataFrame(data=vectores_pca_2, columns=[f'PC{i}' for i in range(1, 3)]).copy()\n",
    "\n",
    "print ('tamaño de los datos: ', vectores_pca_2.shape)\n",
    "vectores_pca_2"
   ]
  },
  {
   "cell_type": "markdown",
   "metadata": {},
   "source": [
    "### Agrego etiquetas y otras variables para graficar"
   ]
  },
  {
   "cell_type": "code",
   "execution_count": null,
   "metadata": {},
   "outputs": [],
   "source": [
    "vectores_clusters = vectores_pca_2.copy()\n",
    "vectores_clusters['kmeans_n'] = km.labels_\n",
    "print('Kmeans encontró: ', max(km.labels_)+1, 'clusters, nosotros forzamos la cantidad')\n",
    "vectores_clusters"
   ]
  },
  {
   "cell_type": "code",
   "execution_count": null,
   "metadata": {},
   "outputs": [],
   "source": [
    "vectores_clusters['kmeans_n'].value_counts()"
   ]
  },
  {
   "cell_type": "code",
   "execution_count": null,
   "metadata": {},
   "outputs": [],
   "source": [
    "vectores_clusters = pd.concat([vectores[basics], vectores_clusters], axis=1)\n",
    "vectores_clusters"
   ]
  },
  {
   "cell_type": "markdown",
   "metadata": {},
   "source": [
    "### Grafico"
   ]
  },
  {
   "cell_type": "code",
   "execution_count": null,
   "metadata": {},
   "outputs": [],
   "source": [
    "import matplotlib.pyplot as plt\n",
    "import seaborn as sns\n",
    "\n",
    "# Supongamos que vectores_clusters contiene tus datos\n",
    "\n",
    "# Crear una figura con dos subtramas en una fila\n",
    "fig, axs = plt.subplots(1, 2, figsize=(12, 4))\n",
    "axs[0].set_title(\"Vista normal\")\n",
    "axs[1].set_title(\"Zoom en (0, 0)\")\n",
    "\n",
    "# Configurar el pairplots en ambas subtramas\n",
    "for ax in axs:\n",
    "    sns.scatterplot(data=vectores_clusters, x='PC1', y='PC2', hue='kmeans_n', palette='Set1', s=20, ax=ax)\n",
    "\n",
    "# Filtrar los valores donde Modelo == 1\n",
    "filt_modelo_1 = vectores_clusters['Modelo'] == 1\n",
    "\n",
    "# Personalizar el tamaño y color de los puntos donde Modelo == 1\n",
    "for ax in axs:\n",
    "    sns.scatterplot(data=vectores_clusters[filt_modelo_1], x='PC1', y='PC2', color='black', s=20, label='Modelo', ax=ax)\n",
    "\n",
    "# Establecer los límites de los ejes en la segunda subtrama (Zoom)\n",
    "axs[1].set_xlim(-0.15, 0.15)\n",
    "axs[1].set_ylim(-0.15, 0.15)\n",
    "\n",
    "# Eliminar las leyendas de las subtramas individuales\n",
    "for ax in axs:\n",
    "    ax.get_legend().remove()\n",
    "\n",
    "# Agregar una única leyenda fuera de las subtramas\n",
    "handles, labels = axs[1].get_legend_handles_labels()\n",
    "fig.legend(handles, labels, loc=\"upper left\", bbox_to_anchor=(1, 1))\n",
    "\n",
    "# Mostrar el gráfico completo\n",
    "plt.tight_layout()\n",
    "plt.show()"
   ]
  },
  {
   "cell_type": "markdown",
   "metadata": {},
   "source": [
    "## Por subrubro"
   ]
  },
  {
   "cell_type": "code",
   "execution_count": null,
   "metadata": {},
   "outputs": [],
   "source": [
    "vectores = pd.read_csv('../data/interim/tp3_Fven_limpio_ceros.csv')\n",
    "\n",
    "# Identificar subrubros\n",
    "unique_subrubros = vectores['Subrubro'].unique()\n",
    "\n",
    "# Itera sobre los subrubros únicos y crea gráficos para cada uno\n",
    "for subrubro in unique_subrubros:\n",
    "    subrubro_df = vectores[vectores['Subrubro'] == subrubro].copy()\n",
    "    \n",
    "    # Escala MinMax\n",
    "    scaler = MinMaxScaler()\n",
    "    subrubro_df[F_Ven] = scaler.fit_transform(subrubro_df[F_Ven])\n",
    "\n",
    "    # PCA de 12 componentes\n",
    "    pca = decomposition.PCA(n_components=12)\n",
    "    pca.fit(subrubro_df[F_Ven])\n",
    "    subrubro_df_pca = pca.transform(subrubro_df[F_Ven])\n",
    "    subrubro_df_pca = pd.DataFrame(data=subrubro_df_pca, columns=[f'PC{i}' for i in range(1, 13)]).copy()\n",
    "\n",
    "    # Nro de clusters recomendado por el codo\n",
    "    scores = [KMeans(n_clusters=i, n_init=10).fit(subrubro_df_pca).inertia_ for i in range(2, 12)]\n",
    "    differences = np.diff(scores)\n",
    "    recommended_num_clusters = np.where(differences == max(differences))[0][0] + 2\n",
    "\n",
    "    # KMeans\n",
    "    km = KMeans(n_clusters=recommended_num_clusters, n_init=10)\n",
    "    km.fit(subrubro_df_pca)\n",
    "    clusters = km.labels_\n",
    "\n",
    "    # PCA de 2 componentes para visualizar\n",
    "    pca = decomposition.PCA(n_components=2)\n",
    "    pca.fit(subrubro_df_pca)\n",
    "    subrubro_df_pca_2 = pca.transform(subrubro_df_pca)  # numpy array\n",
    "    subrubro_df_pca_2 = pd.DataFrame(data=subrubro_df_pca_2, columns=[f'PC{i}' for i in range(1, 3)]).copy()\n",
    "    subrubro_df_clusters = subrubro_df_pca_2.copy()\n",
    "    subrubro_df_clusters['kmeans_n'] = km.labels_\n",
    "    subrubro_df_clusters = pd.concat([subrubro_df[basics], subrubro_df_clusters], axis=1)\n",
    "\n",
    "    # Gráfico\n",
    "    fig, axs = plt.subplots(1, 2, figsize=(12, 4))\n",
    "    fig.suptitle(f\"Subrubro: {subrubro}\", fontsize=16)\n",
    "    axs[0].set_title(\"Vista normal\")\n",
    "    axs[1].set_title(\"Zoom en (0, 0)\")\n",
    "    for ax in axs:\n",
    "        sns.scatterplot(data=subrubro_df_clusters, x='PC1', y='PC2', hue='kmeans_n', palette='Set1', s=20, ax=ax)\n",
    "    filt_modelo_1 = subrubro_df_clusters['Modelo'] == 1\n",
    "    for ax in axs:\n",
    "        sns.scatterplot(data=subrubro_df_clusters[filt_modelo_1], x='PC1', y='PC2', color='black', s=20, label='Modelo', ax=ax)\n",
    "    axs[1].set_xlim(-0.15, 0.15)\n",
    "    axs[1].set_ylim(-0.15, 0.15)\n",
    "    for ax in axs:\n",
    "        ax.get_legend().remove()\n",
    "    handles, labels = axs[1].get_legend_handles_labels()\n",
    "    fig.legend(handles, labels, loc=\"upper left\", bbox_to_anchor=(1, 1))\n",
    "    plt.tight_layout()\n",
    "    plt.show()"
   ]
  },
  {
   "cell_type": "markdown",
   "metadata": {},
   "source": [
    "#### Fuerzo que elija 2 clusters"
   ]
  },
  {
   "cell_type": "code",
   "execution_count": null,
   "metadata": {},
   "outputs": [],
   "source": [
    "vectores = pd.read_csv('../data/interim/tp3_Fven_limpio_ceros.csv')\n",
    "\n",
    "# Identificar subrubros\n",
    "unique_subrubros = vectores['Subrubro'].unique()\n",
    "\n",
    "# Itera sobre los subrubros únicos y crea gráficos para cada uno\n",
    "for subrubro in unique_subrubros:\n",
    "    subrubro_df = vectores[vectores['Subrubro'] == subrubro].copy()\n",
    "    \n",
    "    # Escala MinMax\n",
    "    scaler = MinMaxScaler()\n",
    "    subrubro_df[F_Ven] = scaler.fit_transform(subrubro_df[F_Ven])\n",
    "\n",
    "    # PCA de 12 componentes\n",
    "    pca = decomposition.PCA(n_components=12)\n",
    "    pca.fit(subrubro_df[F_Ven])\n",
    "    subrubro_df_pca = pca.transform(subrubro_df[F_Ven])\n",
    "    subrubro_df_pca = pd.DataFrame(data=subrubro_df_pca, columns=[f'PC{i}' for i in range(1, 13)]).copy()\n",
    "\n",
    "    # Nro de clusters elegido\n",
    "    recommended_num_clusters = 2\n",
    "\n",
    "    # KMeans\n",
    "    km = KMeans(n_clusters=recommended_num_clusters, n_init=10)\n",
    "    km.fit(subrubro_df_pca)\n",
    "    clusters = km.labels_\n",
    "\n",
    "    # PCA de 2 componentes para visualizar\n",
    "    pca = decomposition.PCA(n_components=2)\n",
    "    pca.fit(subrubro_df_pca)\n",
    "    subrubro_df_pca_2 = pca.transform(subrubro_df_pca)  # numpy array\n",
    "    subrubro_df_pca_2 = pd.DataFrame(data=subrubro_df_pca_2, columns=[f'PC{i}' for i in range(1, 3)]).copy()\n",
    "    subrubro_df_clusters = subrubro_df_pca_2.copy()\n",
    "    subrubro_df_clusters['kmeans_n'] = km.labels_\n",
    "    subrubro_df_clusters = pd.concat([subrubro_df[basics], subrubro_df_clusters], axis=1)\n",
    "\n",
    "    # Gráfico\n",
    "    fig, axs = plt.subplots(1, 2, figsize=(12, 4))\n",
    "    fig.suptitle(f\"Subrubro: {subrubro}\", fontsize=16)\n",
    "    axs[0].set_title(\"Vista normal\")\n",
    "    axs[1].set_title(\"Zoom en (0, 0)\")\n",
    "    for ax in axs:\n",
    "        sns.scatterplot(data=subrubro_df_clusters, x='PC1', y='PC2', hue='kmeans_n', palette='Set1', s=20, ax=ax)\n",
    "    filt_modelo_1 = subrubro_df_clusters['Modelo'] == 1\n",
    "    for ax in axs:\n",
    "        sns.scatterplot(data=subrubro_df_clusters[filt_modelo_1], x='PC1', y='PC2', color='black', s=20, label='Modelo', ax=ax)\n",
    "    axs[1].set_xlim(-0.15, 0.15)\n",
    "    axs[1].set_ylim(-0.15, 0.15)\n",
    "    for ax in axs:\n",
    "        ax.get_legend().remove()\n",
    "    handles, labels = axs[1].get_legend_handles_labels()\n",
    "    fig.legend(handles, labels, loc=\"upper left\", bbox_to_anchor=(1, 1))\n",
    "    plt.tight_layout()\n",
    "    plt.show()"
   ]
  },
  {
   "cell_type": "code",
   "execution_count": null,
   "metadata": {},
   "outputs": [],
   "source": []
  },
  {
   "cell_type": "code",
   "execution_count": null,
   "metadata": {},
   "outputs": [],
   "source": []
  },
  {
   "cell_type": "code",
   "execution_count": null,
   "metadata": {},
   "outputs": [],
   "source": []
  },
  {
   "cell_type": "code",
   "execution_count": null,
   "metadata": {},
   "outputs": [],
   "source": []
  },
  {
   "cell_type": "code",
   "execution_count": null,
   "metadata": {},
   "outputs": [],
   "source": []
  },
  {
   "cell_type": "code",
   "execution_count": null,
   "metadata": {},
   "outputs": [],
   "source": []
  },
  {
   "cell_type": "code",
   "execution_count": null,
   "metadata": {},
   "outputs": [],
   "source": [
    "#vectores_interes = vectores[basics + Y_Ven]\n",
    "vectores_interes = vectores[Y_Ven]\n",
    "vectores_interes.head()"
   ]
  },
  {
   "cell_type": "code",
   "execution_count": null,
   "metadata": {},
   "outputs": [],
   "source": [
    "vectores_interes.info()"
   ]
  },
  {
   "cell_type": "markdown",
   "metadata": {},
   "source": [
    "Hay problemas con los vacíos, para que me los tome el modelo:"
   ]
  },
  {
   "cell_type": "code",
   "execution_count": null,
   "metadata": {},
   "outputs": [],
   "source": [
    "# Ventas anuales\n",
    "vectores_interes = vectores[Y_Ven]\n",
    "msno.matrix(vectores_interes, fontsize=12, color=[0.5,0,0], figsize=(6, 5))\n",
    "plt.show()"
   ]
  },
  {
   "cell_type": "code",
   "execution_count": null,
   "metadata": {},
   "outputs": [],
   "source": [
    "# Ventas anuales(zoom)\n",
    "vectores_interes = vectores[Y_Ven]\n",
    "msno.matrix(vectores_interes[185:190], fontsize=12, color=[0.5,0,0], figsize=(6, 5))\n",
    "plt.show()"
   ]
  },
  {
   "cell_type": "code",
   "execution_count": null,
   "metadata": {},
   "outputs": [],
   "source": [
    "vectores.iloc[186, :]"
   ]
  },
  {
   "cell_type": "code",
   "execution_count": null,
   "metadata": {},
   "outputs": [],
   "source": [
    "vectores['Y_pct_Ven_2109'].max()"
   ]
  },
  {
   "cell_type": "code",
   "execution_count": null,
   "metadata": {},
   "outputs": [],
   "source": [
    "vectores[vectores['Y_pct_Ven_2109'] == 203697461.3233292]"
   ]
  },
  {
   "cell_type": "code",
   "execution_count": null,
   "metadata": {},
   "outputs": [],
   "source": []
  },
  {
   "cell_type": "code",
   "execution_count": null,
   "metadata": {},
   "outputs": [],
   "source": [
    "ventas_fisc = pd.read_csv('../data/interim/tp2_ventas_fisc.csv')\n",
    "ventas_fisc[(ventas_fisc['ID'] == 186) & (ventas_fisc['Subrubro'] == 'Com. Varios')]"
   ]
  },
  {
   "cell_type": "code",
   "execution_count": null,
   "metadata": {},
   "outputs": [],
   "source": [
    "ventas_fisc[(ventas_fisc['ID'] == 186)]['Subrubro'].value_counts()"
   ]
  },
  {
   "cell_type": "code",
   "execution_count": null,
   "metadata": {},
   "outputs": [],
   "source": []
  },
  {
   "cell_type": "markdown",
   "metadata": {},
   "source": [
    "**HACER**\n",
    "- Llevar a cero todo lo que está entre -1000 y +1000 (esto antes del tratamiento de inflación)\n",
    "\n",
    "20/9 >> 2.287884e-02\n",
    "21/9 >> 4.660361e+06\n",
    "3017\t1\tGondola de dónde viene para dar ese 10-2?\n",
    "\n"
   ]
  },
  {
   "cell_type": "code",
   "execution_count": null,
   "metadata": {},
   "outputs": [],
   "source": [
    "ventas_fisc[ventas_fisc['ID'] == 3017]"
   ]
  },
  {
   "cell_type": "code",
   "execution_count": null,
   "metadata": {},
   "outputs": [],
   "source": []
  },
  {
   "cell_type": "code",
   "execution_count": null,
   "metadata": {},
   "outputs": [],
   "source": [
    "# Ventas cuatrimestrales\n",
    "vectores_interes = vectores[F_Ven]\n",
    "msno.matrix(vectores_interes, fontsize=12, color=[0.5,0,0], figsize=(6, 5))\n",
    "plt.show()"
   ]
  },
  {
   "cell_type": "code",
   "execution_count": null,
   "metadata": {},
   "outputs": [],
   "source": [
    "# Comisiones anuales\n",
    "vectores_interes = vectores[Y_Com]\n",
    "msno.matrix(vectores_interes, fontsize=12, color=[0.5,0,0], figsize=(6, 5))\n",
    "plt.show()"
   ]
  },
  {
   "cell_type": "code",
   "execution_count": null,
   "metadata": {},
   "outputs": [],
   "source": [
    "# Comisiones cuatrimestrales\n",
    "vectores_interes = vectores[F_Com]\n",
    "msno.matrix(vectores_interes, fontsize=12, color=[0.5,0,0], figsize=(6, 5))\n",
    "plt.show()"
   ]
  },
  {
   "cell_type": "code",
   "execution_count": null,
   "metadata": {},
   "outputs": [],
   "source": []
  },
  {
   "cell_type": "code",
   "execution_count": null,
   "metadata": {},
   "outputs": [],
   "source": [
    "msno.bar(vectores_interes, fontsize=12, color=\"tab:blue\", figsize=(10, 4))\n",
    "plt.show()"
   ]
  },
  {
   "cell_type": "code",
   "execution_count": null,
   "metadata": {},
   "outputs": [],
   "source": [
    "# Paso 1: Contar valores vacíos por fila\n",
    "vacios_por_fila = vectores_interes.isnull().sum(axis=1)\n",
    "\n",
    "# Paso 2: Generar un resumen de cuántas filas tienen 0, 1, 2, 3, etc., valores vacíos\n",
    "resumen = vacios_por_fila.value_counts().reset_index()\n",
    "resumen.columns = ['Cantidad de Valores Vacíos', 'Número de Filas']\n",
    "resumen = resumen.sort_values(by='Cantidad de Valores Vacíos')\n",
    "resumen.head()\n",
    "\n",
    "# ** Chequear **  >> Esto borra teniendo en cuenta yearly"
   ]
  },
  {
   "cell_type": "code",
   "execution_count": null,
   "metadata": {},
   "outputs": [],
   "source": [
    "plt.figure(figsize=(10, 4))  # Tamaño del gráfico\n",
    "plt.bar(resumen['Cantidad de Valores Vacíos'], resumen['Número de Filas'], color='blue', alpha=0.7)\n",
    "plt.xlabel('Cantidad de Valores Vacíos por Vendedor')\n",
    "plt.ylabel('Frecuencia')\n",
    "plt.title('Distribución de Valores Vacíos por Vendedor')\n",
    "plt.xticks(resumen['Cantidad de Valores Vacíos'])\n",
    "plt.grid(axis='y', linestyle='--', alpha=0.7)\n",
    "\n",
    "# Muestra el gráfico\n",
    "plt.show()\n"
   ]
  },
  {
   "cell_type": "markdown",
   "metadata": {},
   "source": [
    "También hay problema de outliers. Qué significa que una variación me dé -20.000%. Que tenía ej 1.000.000 y pasé a 0,05?. Algo hay que hacer"
   ]
  },
  {
   "cell_type": "code",
   "execution_count": null,
   "metadata": {},
   "outputs": [],
   "source": [
    "vectores_interes.describe()"
   ]
  },
  {
   "cell_type": "code",
   "execution_count": null,
   "metadata": {},
   "outputs": [],
   "source": [
    "# # Configuración del diseño del gráfico\n",
    "# plt.figure(figsize=(16, 10))  # Tamaño del layout\n",
    "\n",
    "# # Itera a través de cada columna y crea un KDE plot\n",
    "# for column in vectores_interes.columns:\n",
    "#     plt.subplot(5, 7, vectores_interes.columns.get_loc(column) + 1)  # 5 filas, 7 columnas\n",
    "#     sns.kdeplot(vectores_interes[column], fill=True)\n",
    "#     plt.title(column)\n",
    "\n",
    "# # Ajusta la disposición y muestra el gráfico\n",
    "# plt.tight_layout()\n",
    "# plt.show()"
   ]
  },
  {
   "cell_type": "code",
   "execution_count": null,
   "metadata": {},
   "outputs": [],
   "source": [
    "# Configuración del diseño del gráfico\n",
    "plt.figure(figsize=(16, 10))  # Tamaño del layout\n",
    "\n",
    "# Itera a través de cada columna y crea un boxplot\n",
    "for i, column in enumerate(vectores_interes.columns):\n",
    "    plt.subplot(5, 7, i + 1)  # 5 filas, 7 columnas\n",
    "    sns.boxplot(x=vectores_interes[column])\n",
    "    plt.title(column)\n",
    "\n",
    "# Ajusta la disposición y muestra el gráfico\n",
    "plt.tight_layout()\n",
    "plt.show()"
   ]
  },
  {
   "cell_type": "markdown",
   "metadata": {},
   "source": [
    "---\n",
    "# Selección del Número de Clusters <span style=\"color:magenta\">**(Paso 2)**</span>"
   ]
  },
  {
   "cell_type": "markdown",
   "metadata": {},
   "source": [
    "### Elbow method"
   ]
  },
  {
   "cell_type": "markdown",
   "metadata": {},
   "source": [
    "Para probar, le quito los vacíos."
   ]
  },
  {
   "cell_type": "code",
   "execution_count": null,
   "metadata": {},
   "outputs": [],
   "source": [
    "vectores_interes_sin_vacios.describe()"
   ]
  },
  {
   "cell_type": "code",
   "execution_count": null,
   "metadata": {},
   "outputs": [],
   "source": [
    "gondola = vectores[vectores['Subrubro'] == 'Gondola']\n",
    "\n",
    "#[basics + Y_Ven]\n",
    "vectores_interes = gondola[Y_Ven]"
   ]
  },
  {
   "cell_type": "code",
   "execution_count": null,
   "metadata": {},
   "outputs": [],
   "source": [
    "vectores_interes_sin_vacios = vectores_interes.dropna().copy()\n",
    "print(vectores_interes_sin_vacios.shape)\n",
    "\n",
    "# me quedo con el +-500% que se ve como un 5 acá OJO\n",
    "vec_pm500 = vectores_interes_sin_vacios.where((vectores_interes_sin_vacios < 5) & (vectores_interes_sin_vacios > - 5))\n",
    "vec_pm500 = vec_pm500.dropna()\n",
    "\n",
    "vectores_interes_sin_vacios = vec_pm500"
   ]
  },
  {
   "cell_type": "code",
   "execution_count": null,
   "metadata": {},
   "outputs": [],
   "source": [
    "vec_pm500.describe()"
   ]
  },
  {
   "cell_type": "code",
   "execution_count": null,
   "metadata": {},
   "outputs": [],
   "source": [
    "#Prueba: para elegir el hiperparámetro n_clusters, variando de 2 a 11 clusters\n",
    "scores = [KMeans(n_clusters=i, n_init=10).fit(vectores_interes_sin_vacios).inertia_ for i in range(2,12)]\n",
    "\n",
    "plt.plot(np.arange(2, 12), scores)\n",
    "plt.xlabel('Number of clusters')\n",
    "plt.ylabel(\"Inertia\")\n",
    "plt.title(\"Inertia of k-Means versus number of clusters\")"
   ]
  },
  {
   "cell_type": "markdown",
   "metadata": {},
   "source": [
    "### Coeficiente Silhouette"
   ]
  },
  {
   "cell_type": "markdown",
   "metadata": {},
   "source": [
    "---\n",
    "## Aplicación de Modelos de Clustering <span style=\"color:magenta\">**(Paso 3)**</span>"
   ]
  },
  {
   "cell_type": "markdown",
   "metadata": {},
   "source": [
    "### K-means"
   ]
  },
  {
   "cell_type": "code",
   "execution_count": null,
   "metadata": {},
   "outputs": [],
   "source": [
    "km = KMeans(n_clusters=3, n_init=10) # El parámetro n_init igual a 10 me lo pide para no tirar error. Ver luego qué implica.\n",
    "km.fit(vectores_interes_sin_vacios)\n",
    "clusters = km.labels_"
   ]
  },
  {
   "cell_type": "code",
   "execution_count": null,
   "metadata": {},
   "outputs": [],
   "source": [
    "vectores_clusters = vectores_interes_sin_vacios.copy()\n",
    "vectores_clusters['kmeans_4'] = km.labels_\n",
    "print('Kmeans encontró: ', max(km.labels_)+1, 'clusters, nosotros forzamos la cantidad')\n",
    "vectores_clusters.head(4)"
   ]
  },
  {
   "cell_type": "code",
   "execution_count": null,
   "metadata": {},
   "outputs": [],
   "source": [
    "# Esto está hecho metiendo a todos los rubros en la misma bolsa\n",
    "# Hacer por subrubro\n",
    "vectores_clusters['kmeans_4'].value_counts()"
   ]
  },
  {
   "cell_type": "code",
   "execution_count": null,
   "metadata": {},
   "outputs": [],
   "source": [
    "std_scale=preprocessing.StandardScaler().fit(vec_pm500)\n",
    "X_scaled=std_scale.transform(vec_pm500) # numpyarray Estandarizado (le resta la media y divide por el desvío) por columna\n",
    "\n",
    "pca=decomposition.PCA(n_components=4) #elegimos 2, 3 o 4 pero pueden ser más,\n",
    "\n",
    "pca.fit(X_scaled) #input data is centered but not scaled for each feature before applying the SVD\n",
    "\n",
    "# proporción de varianza\n",
    "print('proporción de varianza por componente: ', pca.explained_variance_ratio_)\n",
    "# proporción de varianza acumulada\n",
    "print ('proporción de varianza por componente acumulada: ', pca.explained_variance_ratio_.cumsum())\n",
    "\n",
    "X_projected=pca.transform(X_scaled) #numpy array\n",
    "print ('tamaño de los datos: ', X_projected.shape)\n"
   ]
  },
  {
   "cell_type": "code",
   "execution_count": null,
   "metadata": {},
   "outputs": [],
   "source": [
    "X_tsne_kmeans_4 = pd.DataFrame(X_projected)\n",
    "X_tsne_kmeans_4['kmeans_4'] = km.labels_\n",
    "\n",
    "sns.scatterplot(data=X_tsne_kmeans_4,\n",
    "                x=0, \n",
    "                y=1, \n",
    "                hue=\"kmeans_4\", \n",
    "                palette=\"deep\")#, alpha=0.25)\n",
    "\n",
    "# sns.pairplot(X_projected)"
   ]
  },
  {
   "cell_type": "code",
   "execution_count": null,
   "metadata": {},
   "outputs": [],
   "source": [
    "from sklearn import (manifold, preprocessing, decomposition)\n",
    "\n",
    "tsne = manifold.TSNE(n_components=2, verbose=1,perplexity=30, n_iter=1000)\n",
    "X_tsne = tsne.fit_transform(vec_pm500)"
   ]
  },
  {
   "cell_type": "code",
   "execution_count": null,
   "metadata": {},
   "outputs": [],
   "source": [
    "X_tsne_kmeans_4 = pd.DataFrame(X_tsne)\n",
    "X_tsne_kmeans_4['kmeans_4'] = km.labels_\n",
    "\n",
    "sns.scatterplot(data=X_tsne_kmeans_4,\n",
    "                x=0, \n",
    "                y=1, \n",
    "                hue=\"kmeans_4\", \n",
    "                palette=\"deep\")"
   ]
  },
  {
   "cell_type": "markdown",
   "metadata": {},
   "source": [
    "---\n"
   ]
  },
  {
   "cell_type": "code",
   "execution_count": null,
   "metadata": {},
   "outputs": [],
   "source": []
  },
  {
   "cell_type": "code",
   "execution_count": null,
   "metadata": {},
   "outputs": [],
   "source": [
    "gondola = vectores[vectores['Subrubro'] == 'Gondola']\n",
    "\n",
    "#[basics + Y_Ven]\n",
    "vectores_interes = gondola[F_Ven]"
   ]
  },
  {
   "cell_type": "code",
   "execution_count": null,
   "metadata": {},
   "outputs": [],
   "source": [
    "vectores_interes_sin_vacios = vectores_interes.dropna().copy()\n",
    "print(vectores_interes_sin_vacios.shape)\n",
    "\n",
    "# me quedo con el +-500% que se ve como un 5 acá OJO\n",
    "vec_pm500 = vectores_interes_sin_vacios.where((vectores_interes_sin_vacios < 5) & (vectores_interes_sin_vacios > - 5))\n",
    "vec_pm500 = vec_pm500.dropna()\n",
    "\n",
    "vectores_interes_sin_vacios = vec_pm500"
   ]
  },
  {
   "cell_type": "code",
   "execution_count": null,
   "metadata": {},
   "outputs": [],
   "source": [
    "vec_pm500.describe()"
   ]
  },
  {
   "cell_type": "code",
   "execution_count": null,
   "metadata": {},
   "outputs": [],
   "source": [
    "#Prueba: para elegir el hiperparámetro n_clusters, variando de 2 a 11 clusters\n",
    "scores = [KMeans(n_clusters=i, n_init=10).fit(vectores_interes_sin_vacios).inertia_ for i in range(2,12)]\n",
    "\n",
    "plt.plot(np.arange(2, 12), scores)\n",
    "plt.xlabel('Number of clusters')\n",
    "plt.ylabel(\"Inertia\")\n",
    "plt.title(\"Inertia of k-Means versus number of clusters\")"
   ]
  },
  {
   "cell_type": "markdown",
   "metadata": {},
   "source": [
    "### Coeficiente Silhouette"
   ]
  },
  {
   "cell_type": "markdown",
   "metadata": {},
   "source": [
    "---\n",
    "## Aplicación de Modelos de Clustering <span style=\"color:magenta\">**(Paso 3)**</span>"
   ]
  },
  {
   "cell_type": "markdown",
   "metadata": {},
   "source": [
    "### K-means"
   ]
  },
  {
   "cell_type": "code",
   "execution_count": null,
   "metadata": {},
   "outputs": [],
   "source": [
    "km = KMeans(n_clusters=3, n_init=10) # El parámetro n_init igual a 10 me lo pide para no tirar error. Ver luego qué implica.\n",
    "km.fit(vectores_interes_sin_vacios)\n",
    "clusters = km.labels_"
   ]
  },
  {
   "cell_type": "code",
   "execution_count": null,
   "metadata": {},
   "outputs": [],
   "source": [
    "vectores_clusters = vectores_interes_sin_vacios.copy()\n",
    "vectores_clusters['kmeans_4'] = km.labels_\n",
    "print('Kmeans encontró: ', max(km.labels_)+1, 'clusters, nosotros forzamos la cantidad')\n",
    "vectores_clusters.head(4)"
   ]
  },
  {
   "cell_type": "code",
   "execution_count": null,
   "metadata": {},
   "outputs": [],
   "source": [
    "# Esto está hecho metiendo a todos los rubros en la misma bolsa\n",
    "# Hacer por subrubro\n",
    "vectores_clusters['kmeans_4'].value_counts()"
   ]
  },
  {
   "cell_type": "code",
   "execution_count": null,
   "metadata": {},
   "outputs": [],
   "source": [
    "pca=decomposition.PCA(n_components=2) #elegimos 2, 3 o 4 pero pueden ser más,\n",
    "\n",
    "pca.fit(vec_pm500) #input data is centered but not scaled for each feature before applying the SVD\n",
    "\n",
    "# proporción de varianza\n",
    "print('proporción de varianza por componente: ', pca.explained_variance_ratio_)\n",
    "# proporción de varianza acumulada\n",
    "print ('proporción de varianza por componente acumulada: ', pca.explained_variance_ratio_.cumsum())\n",
    "\n",
    "X_projected=pca.transform(vec_pm500) #numpy array\n",
    "print ('tamaño de los datos: ', X_projected.shape)\n"
   ]
  },
  {
   "cell_type": "code",
   "execution_count": null,
   "metadata": {},
   "outputs": [],
   "source": [
    "X_tsne_kmeans_4 = pd.DataFrame(X_projected)\n",
    "X_tsne_kmeans_4['kmeans_4'] = km.labels_\n",
    "\n",
    "sns.scatterplot(data=X_tsne_kmeans_4,\n",
    "                x=0, \n",
    "                y=1, \n",
    "                hue=\"kmeans_4\", \n",
    "                palette=\"deep\")#, alpha=0.25)\n",
    "\n",
    "# sns.pairplot(X_projected)"
   ]
  },
  {
   "cell_type": "code",
   "execution_count": null,
   "metadata": {},
   "outputs": [],
   "source": [
    "from sklearn import (manifold, preprocessing, decomposition)\n",
    "\n",
    "tsne = manifold.TSNE(n_components=2, verbose=1,perplexity=30, n_iter=1000)\n",
    "X_tsne = tsne.fit_transform(vec_pm500)"
   ]
  },
  {
   "cell_type": "code",
   "execution_count": null,
   "metadata": {},
   "outputs": [],
   "source": [
    "X_tsne_kmeans_4 = pd.DataFrame(X_tsne)\n",
    "X_tsne_kmeans_4['kmeans_4'] = km.labels_\n",
    "\n",
    "sns.scatterplot(data=X_tsne_kmeans_4,\n",
    "                x=0, \n",
    "                y=1, \n",
    "                hue=\"kmeans_4\", \n",
    "                palette=\"deep\")"
   ]
  },
  {
   "cell_type": "code",
   "execution_count": null,
   "metadata": {},
   "outputs": [],
   "source": []
  },
  {
   "cell_type": "code",
   "execution_count": null,
   "metadata": {},
   "outputs": [],
   "source": []
  },
  {
   "cell_type": "code",
   "execution_count": null,
   "metadata": {},
   "outputs": [],
   "source": []
  },
  {
   "cell_type": "code",
   "execution_count": null,
   "metadata": {},
   "outputs": [],
   "source": []
  },
  {
   "cell_type": "code",
   "execution_count": null,
   "metadata": {},
   "outputs": [],
   "source": []
  },
  {
   "cell_type": "code",
   "execution_count": null,
   "metadata": {},
   "outputs": [],
   "source": []
  },
  {
   "cell_type": "code",
   "execution_count": null,
   "metadata": {},
   "outputs": [],
   "source": []
  },
  {
   "cell_type": "code",
   "execution_count": null,
   "metadata": {},
   "outputs": [],
   "source": [
    "selected_columns = [Y_Ven[0], Y_Ven[1], 'kmeans_4']\n",
    "sns.pairplot(vectores_clusters[selected_columns], hue='kmeans_4')"
   ]
  },
  {
   "cell_type": "markdown",
   "metadata": {},
   "source": [
    "Probando para un solo rubro.."
   ]
  },
  {
   "cell_type": "code",
   "execution_count": null,
   "metadata": {},
   "outputs": [],
   "source": [
    "vectores_interes = vectores[basics + Y_Ven]\n",
    "vectores_gondola = vectores_interes[vectores_interes['Subrubro'] == 'Gondola'].copy()\n",
    "vectores_gondola = vectores_gondola.dropna().copy()\n",
    "vectores_gondola"
   ]
  },
  {
   "cell_type": "code",
   "execution_count": null,
   "metadata": {},
   "outputs": [],
   "source": [
    "vectores_gondola = vectores_gondola[Y_Ven].copy()"
   ]
  },
  {
   "cell_type": "code",
   "execution_count": null,
   "metadata": {},
   "outputs": [],
   "source": [
    "#Prueba: para elegir el hiperparámetro n_clusters, variando de 2 a 11 clusters\n",
    "scores = [KMeans(n_clusters=i, n_init=10).fit(vectores_gondola).inertia_ for i in range(2,12)]\n",
    "\n",
    "plt.plot(np.arange(2, 12), scores)\n",
    "plt.xlabel('Number of clusters')\n",
    "plt.ylabel(\"Inertia\")\n",
    "plt.title(\"Inertia of k-Means versus number of clusters\")"
   ]
  },
  {
   "cell_type": "code",
   "execution_count": null,
   "metadata": {},
   "outputs": [],
   "source": [
    "km = KMeans(n_clusters=4, n_init=10) # El parámetro n_init igual a 10 me lo pide para no tirar error. Ver luego qué implica.\n",
    "km.fit(vectores_gondola)\n",
    "clusters = km.labels_"
   ]
  },
  {
   "cell_type": "code",
   "execution_count": null,
   "metadata": {},
   "outputs": [],
   "source": [
    "vectores_clusters = vectores_gondola.copy()\n",
    "vectores_clusters['kmeans_4'] = km.labels_\n",
    "print('Kmeans encontró: ', max(km.labels_)+1, 'clusters, nosotros forzamos la cantidad')\n",
    "vectores_clusters.head(4)"
   ]
  },
  {
   "cell_type": "code",
   "execution_count": null,
   "metadata": {},
   "outputs": [],
   "source": [
    "vectores_clusters['kmeans_4'].value_counts()"
   ]
  },
  {
   "cell_type": "code",
   "execution_count": null,
   "metadata": {},
   "outputs": [],
   "source": [
    "selected_columns = [Y_Ven[0], Y_Ven[1], 'kmeans_4']\n",
    "sns.pairplot(vectores_clusters[selected_columns], hue='kmeans_4')"
   ]
  },
  {
   "cell_type": "markdown",
   "metadata": {},
   "source": [
    "### Otros algoritmos de clustering"
   ]
  },
  {
   "cell_type": "markdown",
   "metadata": {},
   "source": [
    "---\n",
    "## Visualización de Resultados <span style=\"color:magenta\">**(Paso 4)**</span>"
   ]
  },
  {
   "cell_type": "markdown",
   "metadata": {},
   "source": [
    "---\n",
    "## Interpretación y Evaluación <span style=\"color:magenta\">**(Paso 5)**</span>"
   ]
  },
  {
   "cell_type": "markdown",
   "metadata": {},
   "source": [
    "---\n",
    "## Confianza en los Resultados <span style=\"color:magenta\">**(Paso 6)**</span>"
   ]
  },
  {
   "cell_type": "markdown",
   "metadata": {},
   "source": [
    "---\n",
    "## Preguntas finales <span style=\"color:magenta\">**(Paso 7)**</span>"
   ]
  },
  {
   "cell_type": "code",
   "execution_count": null,
   "metadata": {},
   "outputs": [],
   "source": []
  }
 ],
 "metadata": {
  "kernelspec": {
   "display_name": "Python 3",
   "language": "python",
   "name": "python3"
  },
  "language_info": {
   "codemirror_mode": {
    "name": "ipython",
    "version": 3
   },
   "file_extension": ".py",
   "mimetype": "text/x-python",
   "name": "python",
   "nbconvert_exporter": "python",
   "pygments_lexer": "ipython3",
   "version": "3.11.4"
  },
  "orig_nbformat": 4
 },
 "nbformat": 4,
 "nbformat_minor": 2
}
