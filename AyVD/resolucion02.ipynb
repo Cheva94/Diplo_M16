{
  "cells": [
    {
      "attachments": {},
      "cell_type": "markdown",
      "metadata": {},
      "source": [
        "# Diplomatura en ciencia de datos, aprendizaje automático y sus aplicaciones - Edición 2023 - FAMAF (UNC)"
      ]
    },
    {
      "attachments": {},
      "cell_type": "markdown",
      "metadata": {},
      "source": [
        "## Mentoría 16 - ¿Cómo identificar fuga de ventas? Inteligencia artificial aplicada al sector comercial.\n",
        "\n",
        "### Análisis y visualización de datos (TP1 - Parte 2: adsada)\n",
        "\n",
        "**Integrantes:**\n",
        "- Canalis, Patricio.\n",
        "- Chevallier-Boutell, Ignacio José.\n",
        "- Villarroel Torrez, Daniel.\n",
        "\n",
        "**Mentores:**\n",
        "- Gonzalez, Lucía\n",
        "- Lahoz, Nahuel\n",
        "\n",
        "---"
      ]
    },
    {
      "attachments": {},
      "cell_type": "markdown",
      "metadata": {},
      "source": [
        "## Librerías"
      ]
    },
    {
      "cell_type": "code",
      "execution_count": 29,
      "metadata": {},
      "outputs": [],
      "source": [
        "import numpy as np\n",
        "import pandas as pd\n",
        "import missingno as msno\n",
        "import matplotlib.pyplot as plt\n",
        "import seaborn as sns\n",
        "from statsmodels.graphics.tsaplots import plot_acf\n",
        "from scipy.stats import linregress as LR\n",
        "from scipy.stats import skew, kurtosis, skewtest, kurtosistest"
      ]
    },
    {
      "attachments": {},
      "cell_type": "markdown",
      "metadata": {},
      "source": [
        "## Dataset"
      ]
    },
    {
      "cell_type": "code",
      "execution_count": 30,
      "metadata": {},
      "outputs": [],
      "source": [
        "url = 'https://www.dropbox.com/scl/fi/684jriu2g52lqyv45z53s/ven_cln_map.csv?dl=1&rlkey=hr7lcqja46a9fj5bdx7ofdgah'\n",
        "ventas = pd.read_csv(url, index_col=0)"
      ]
    },
    {
      "cell_type": "code",
      "execution_count": 31,
      "metadata": {},
      "outputs": [],
      "source": [
        "# Discrimanción por tipo de variables\n",
        "temp_cols = ['Año', 'Mes']\n",
        "ven_temp = ventas[temp_cols]\n",
        "\n",
        "cat_cols = ['ID', 'DGR', 'Categoria', 'Trat_Fisc_Agg', 'Trat_Fisc', 'Trat_Dif',\n",
        "'CM', 'Deposito', 'Modelo']\n",
        "ven_cat = ventas[cat_cols]\n",
        "\n",
        "num_cols = ['Ventas', 'Alicuota', 'Comision']\n",
        "ven_num = ventas[num_cols]"
      ]
    },
    {
      "attachments": {},
      "cell_type": "markdown",
      "metadata": {},
      "source": [
        "---\n",
        "# Análisis de variables numéricas"
      ]
    },
    {
      "attachments": {},
      "cell_type": "markdown",
      "metadata": {},
      "source": [
        "### Estadística descriptiva (sin considerar series temporales)"
      ]
    },
    {
      "cell_type": "code",
      "execution_count": 32,
      "metadata": {},
      "outputs": [
        {
          "data": {
            "text/html": [
              "<div>\n",
              "<style scoped>\n",
              "    .dataframe tbody tr th:only-of-type {\n",
              "        vertical-align: middle;\n",
              "    }\n",
              "\n",
              "    .dataframe tbody tr th {\n",
              "        vertical-align: top;\n",
              "    }\n",
              "\n",
              "    .dataframe thead th {\n",
              "        text-align: right;\n",
              "    }\n",
              "</style>\n",
              "<table border=\"1\" class=\"dataframe\">\n",
              "  <thead>\n",
              "    <tr style=\"text-align: right;\">\n",
              "      <th></th>\n",
              "      <th>count</th>\n",
              "      <th>mean</th>\n",
              "      <th>std</th>\n",
              "      <th>min</th>\n",
              "      <th>25%</th>\n",
              "      <th>50%</th>\n",
              "      <th>75%</th>\n",
              "      <th>max</th>\n",
              "    </tr>\n",
              "  </thead>\n",
              "  <tbody>\n",
              "    <tr>\n",
              "      <th>Ventas</th>\n",
              "      <td>431506.0</td>\n",
              "      <td>7.544169e+06</td>\n",
              "      <td>4.837341e+07</td>\n",
              "      <td>-2.399305e+08</td>\n",
              "      <td>0.00</td>\n",
              "      <td>90996.38</td>\n",
              "      <td>3.226319e+06</td>\n",
              "      <td>4.876872e+09</td>\n",
              "    </tr>\n",
              "    <tr>\n",
              "      <th>Alicuota</th>\n",
              "      <td>431506.0</td>\n",
              "      <td>3.227742e+00</td>\n",
              "      <td>2.681121e+00</td>\n",
              "      <td>0.000000e+00</td>\n",
              "      <td>0.05</td>\n",
              "      <td>4.00</td>\n",
              "      <td>4.750000e+00</td>\n",
              "      <td>1.800000e+01</td>\n",
              "    </tr>\n",
              "    <tr>\n",
              "      <th>Comision</th>\n",
              "      <td>431506.0</td>\n",
              "      <td>2.938406e+05</td>\n",
              "      <td>1.860464e+06</td>\n",
              "      <td>-4.904327e+06</td>\n",
              "      <td>0.00</td>\n",
              "      <td>3503.35</td>\n",
              "      <td>1.268750e+05</td>\n",
              "      <td>2.438436e+08</td>\n",
              "    </tr>\n",
              "  </tbody>\n",
              "</table>\n",
              "</div>"
            ],
            "text/plain": [
              "             count          mean           std           min   25%       50%  \\\n",
              "Ventas    431506.0  7.544169e+06  4.837341e+07 -2.399305e+08  0.00  90996.38   \n",
              "Alicuota  431506.0  3.227742e+00  2.681121e+00  0.000000e+00  0.05      4.00   \n",
              "Comision  431506.0  2.938406e+05  1.860464e+06 -4.904327e+06  0.00   3503.35   \n",
              "\n",
              "                   75%           max  \n",
              "Ventas    3.226319e+06  4.876872e+09  \n",
              "Alicuota  4.750000e+00  1.800000e+01  \n",
              "Comision  1.268750e+05  2.438436e+08  "
            ]
          },
          "execution_count": 32,
          "metadata": {},
          "output_type": "execute_result"
        }
      ],
      "source": [
        "ven_num.describe().T"
      ]
    },
    {
      "cell_type": "code",
      "execution_count": 33,
      "metadata": {},
      "outputs": [
        {
          "name": "stdout",
          "output_type": "stream",
          "text": [
            "z-Score de los extremos de la variables numéricas:\n",
            "\tVentas:\n",
            "\t\t Mínimo: -5 \t Máximo: 101\n",
            "\tAlicuota:\n",
            "\t\t Mínimo: -1 \t Máximo: 6\n",
            "\tComision:\n",
            "\t\t Mínimo: -3 \t Máximo: 131\n"
          ]
        }
      ],
      "source": [
        "print('z-Score de los extremos de la variables numéricas:') \n",
        "for col in num_cols:\n",
        "    zScore_min = (ven_num[col].min() - ven_num[col].mean()) / ven_num[col].std()\n",
        "    zScore_max = (ven_num[col].max() - ven_num[col].mean()) / ven_num[col].std()\n",
        "\n",
        "    print(f'\\t{col}:')\n",
        "    print(f'\\t\\t Mínimo: {zScore_min:.0f} \\t Máximo: {zScore_max:.0f}')"
      ]
    },
    {
      "cell_type": "code",
      "execution_count": 34,
      "metadata": {},
      "outputs": [
        {
          "name": "stdout",
          "output_type": "stream",
          "text": [
            "Proporción de valores negativos, nulos y positivos en las variables numéricas:\n",
            "\tVentas\n"
          ]
        },
        {
          "data": {
            "text/html": [
              "<div>\n",
              "<style scoped>\n",
              "    .dataframe tbody tr th:only-of-type {\n",
              "        vertical-align: middle;\n",
              "    }\n",
              "\n",
              "    .dataframe tbody tr th {\n",
              "        vertical-align: top;\n",
              "    }\n",
              "\n",
              "    .dataframe thead th {\n",
              "        text-align: right;\n",
              "    }\n",
              "</style>\n",
              "<table border=\"1\" class=\"dataframe\">\n",
              "  <thead>\n",
              "    <tr style=\"text-align: right;\">\n",
              "      <th></th>\n",
              "      <th>Negativos</th>\n",
              "      <th>Nulos</th>\n",
              "      <th>No positivos</th>\n",
              "      <th>Positivos</th>\n",
              "      <th>Total</th>\n",
              "    </tr>\n",
              "  </thead>\n",
              "  <tbody>\n",
              "    <tr>\n",
              "      <th>Cantidad</th>\n",
              "      <td>1390</td>\n",
              "      <td>181058</td>\n",
              "      <td>182448</td>\n",
              "      <td>249058</td>\n",
              "      <td>431506</td>\n",
              "    </tr>\n",
              "    <tr>\n",
              "      <th>Proporcion</th>\n",
              "      <td>0.32%</td>\n",
              "      <td>41.96%</td>\n",
              "      <td>42.28%</td>\n",
              "      <td>57.72%</td>\n",
              "      <td>100.00%</td>\n",
              "    </tr>\n",
              "  </tbody>\n",
              "</table>\n",
              "</div>"
            ],
            "text/plain": [
              "           Negativos   Nulos No positivos Positivos    Total\n",
              "Cantidad        1390  181058       182448    249058   431506\n",
              "Proporcion     0.32%  41.96%       42.28%    57.72%  100.00%"
            ]
          },
          "metadata": {},
          "output_type": "display_data"
        },
        {
          "name": "stdout",
          "output_type": "stream",
          "text": [
            "\tAlicuota\n"
          ]
        },
        {
          "data": {
            "text/html": [
              "<div>\n",
              "<style scoped>\n",
              "    .dataframe tbody tr th:only-of-type {\n",
              "        vertical-align: middle;\n",
              "    }\n",
              "\n",
              "    .dataframe tbody tr th {\n",
              "        vertical-align: top;\n",
              "    }\n",
              "\n",
              "    .dataframe thead th {\n",
              "        text-align: right;\n",
              "    }\n",
              "</style>\n",
              "<table border=\"1\" class=\"dataframe\">\n",
              "  <thead>\n",
              "    <tr style=\"text-align: right;\">\n",
              "      <th></th>\n",
              "      <th>Negativos</th>\n",
              "      <th>Nulos</th>\n",
              "      <th>No positivos</th>\n",
              "      <th>Positivos</th>\n",
              "      <th>Total</th>\n",
              "    </tr>\n",
              "  </thead>\n",
              "  <tbody>\n",
              "    <tr>\n",
              "      <th>Cantidad</th>\n",
              "      <td>0</td>\n",
              "      <td>2757</td>\n",
              "      <td>2757</td>\n",
              "      <td>428749</td>\n",
              "      <td>431506</td>\n",
              "    </tr>\n",
              "    <tr>\n",
              "      <th>Proporcion</th>\n",
              "      <td>0.00%</td>\n",
              "      <td>0.64%</td>\n",
              "      <td>0.64%</td>\n",
              "      <td>99.36%</td>\n",
              "      <td>100.00%</td>\n",
              "    </tr>\n",
              "  </tbody>\n",
              "</table>\n",
              "</div>"
            ],
            "text/plain": [
              "           Negativos  Nulos No positivos Positivos    Total\n",
              "Cantidad           0   2757         2757    428749   431506\n",
              "Proporcion     0.00%  0.64%        0.64%    99.36%  100.00%"
            ]
          },
          "metadata": {},
          "output_type": "display_data"
        },
        {
          "name": "stdout",
          "output_type": "stream",
          "text": [
            "\tComision\n"
          ]
        },
        {
          "data": {
            "text/html": [
              "<div>\n",
              "<style scoped>\n",
              "    .dataframe tbody tr th:only-of-type {\n",
              "        vertical-align: middle;\n",
              "    }\n",
              "\n",
              "    .dataframe tbody tr th {\n",
              "        vertical-align: top;\n",
              "    }\n",
              "\n",
              "    .dataframe thead th {\n",
              "        text-align: right;\n",
              "    }\n",
              "</style>\n",
              "<table border=\"1\" class=\"dataframe\">\n",
              "  <thead>\n",
              "    <tr style=\"text-align: right;\">\n",
              "      <th></th>\n",
              "      <th>Negativos</th>\n",
              "      <th>Nulos</th>\n",
              "      <th>No positivos</th>\n",
              "      <th>Positivos</th>\n",
              "      <th>Total</th>\n",
              "    </tr>\n",
              "  </thead>\n",
              "  <tbody>\n",
              "    <tr>\n",
              "      <th>Cantidad</th>\n",
              "      <td>1363</td>\n",
              "      <td>183486</td>\n",
              "      <td>184849</td>\n",
              "      <td>246657</td>\n",
              "      <td>431506</td>\n",
              "    </tr>\n",
              "    <tr>\n",
              "      <th>Proporcion</th>\n",
              "      <td>0.32%</td>\n",
              "      <td>42.52%</td>\n",
              "      <td>42.84%</td>\n",
              "      <td>57.16%</td>\n",
              "      <td>100.00%</td>\n",
              "    </tr>\n",
              "  </tbody>\n",
              "</table>\n",
              "</div>"
            ],
            "text/plain": [
              "           Negativos   Nulos No positivos Positivos    Total\n",
              "Cantidad        1363  183486       184849    246657   431506\n",
              "Proporcion     0.32%  42.52%       42.84%    57.16%  100.00%"
            ]
          },
          "metadata": {},
          "output_type": "display_data"
        }
      ],
      "source": [
        "print('Proporción de valores negativos, nulos y positivos en las variables numéricas:') \n",
        "for col in num_cols:\n",
        "    print(f'\\t{col}')\n",
        "    ans = len(ven_num[col])\n",
        "    neg = len(ven_num[ven_num[col] < 0])\n",
        "    nul = len(ven_num[ven_num[col] == 0])\n",
        "\n",
        "    cant = [neg, nul, neg+nul, ans-neg-nul, ans]\n",
        "    prop = [f'{100*neg/ans:.2f}%', f'{100*nul/ans:.2f}%', f'{100*(nul+neg)/ans:.2f}%', f'{100*(ans-nul-neg)/ans:.2f}%', '100.00%']\n",
        "    desc = pd.DataFrame([cant, prop], columns=['Negativos', 'Nulos', 'No positivos', 'Positivos', 'Total'], index=['Cantidad', 'Proporcion'])\n",
        "    display(desc)\n"
      ]
    },
    {
      "cell_type": "code",
      "execution_count": 35,
      "metadata": {},
      "outputs": [
        {
          "data": {
            "image/png": "[encoded data removed]",
            "text/plain": [
              "<Figure size 750x750 with 12 Axes>"
            ]
          },
          "metadata": {},
          "output_type": "display_data"
        }
      ],
      "source": [
        "# Full pairplot, sin discriminar entre negativos, nulos y positivos\n",
        "sns.pairplot(data=ven_num, diag_kind='kde', plot_kws = {'alpha': 0.3, 's': 10})\n",
        "plt.show()"
      ]
    },
    {
      "attachments": {},
      "cell_type": "markdown",
      "metadata": {},
      "source": [
        "### Discriminando por ventas nulas"
      ]
    },
    {
      "cell_type": "code",
      "execution_count": 39,
      "metadata": {},
      "outputs": [],
      "source": [
        "ven_num_null = ven_num[ven_num['Ventas'] == 0].copy()\n",
        "ven_num_not = ven_num[ven_num['Ventas'] != 0].copy()"
      ]
    },
    {
      "attachments": {},
      "cell_type": "markdown",
      "metadata": {},
      "source": [
        "#### DataFrame con todas las ventas nulas"
      ]
    },
    {
      "cell_type": "code",
      "execution_count": 40,
      "metadata": {},
      "outputs": [
        {
          "data": {
            "text/html": [
              "<div>\n",
              "<style scoped>\n",
              "    .dataframe tbody tr th:only-of-type {\n",
              "        vertical-align: middle;\n",
              "    }\n",
              "\n",
              "    .dataframe tbody tr th {\n",
              "        vertical-align: top;\n",
              "    }\n",
              "\n",
              "    .dataframe thead th {\n",
              "        text-align: right;\n",
              "    }\n",
              "</style>\n",
              "<table border=\"1\" class=\"dataframe\">\n",
              "  <thead>\n",
              "    <tr style=\"text-align: right;\">\n",
              "      <th></th>\n",
              "      <th>count</th>\n",
              "      <th>mean</th>\n",
              "      <th>std</th>\n",
              "      <th>min</th>\n",
              "      <th>25%</th>\n",
              "      <th>50%</th>\n",
              "      <th>75%</th>\n",
              "      <th>max</th>\n",
              "    </tr>\n",
              "  </thead>\n",
              "  <tbody>\n",
              "    <tr>\n",
              "      <th>Ventas</th>\n",
              "      <td>181058.0</td>\n",
              "      <td>0.000000</td>\n",
              "      <td>0.000000</td>\n",
              "      <td>0.0</td>\n",
              "      <td>0.0</td>\n",
              "      <td>0.0</td>\n",
              "      <td>0.00</td>\n",
              "      <td>0.0</td>\n",
              "    </tr>\n",
              "    <tr>\n",
              "      <th>Alicuota</th>\n",
              "      <td>181058.0</td>\n",
              "      <td>3.494798</td>\n",
              "      <td>2.581325</td>\n",
              "      <td>0.0</td>\n",
              "      <td>0.5</td>\n",
              "      <td>4.6</td>\n",
              "      <td>4.75</td>\n",
              "      <td>18.0</td>\n",
              "    </tr>\n",
              "    <tr>\n",
              "      <th>Comision</th>\n",
              "      <td>181058.0</td>\n",
              "      <td>0.000000</td>\n",
              "      <td>0.000000</td>\n",
              "      <td>0.0</td>\n",
              "      <td>0.0</td>\n",
              "      <td>0.0</td>\n",
              "      <td>0.00</td>\n",
              "      <td>0.0</td>\n",
              "    </tr>\n",
              "  </tbody>\n",
              "</table>\n",
              "</div>"
            ],
            "text/plain": [
              "             count      mean       std  min  25%  50%   75%   max\n",
              "Ventas    181058.0  0.000000  0.000000  0.0  0.0  0.0  0.00   0.0\n",
              "Alicuota  181058.0  3.494798  2.581325  0.0  0.5  4.6  4.75  18.0\n",
              "Comision  181058.0  0.000000  0.000000  0.0  0.0  0.0  0.00   0.0"
            ]
          },
          "execution_count": 40,
          "metadata": {},
          "output_type": "execute_result"
        }
      ],
      "source": [
        "ven_num_null.describe().T"
      ]
    },
    {
      "cell_type": "code",
      "execution_count": 51,
      "metadata": {},
      "outputs": [
        {
          "data": {
            "image/png": "[encoded data removed]",
            "text/plain": [
              "<Figure size 750x750 with 12 Axes>"
            ]
          },
          "metadata": {},
          "output_type": "display_data"
        }
      ],
      "source": [
        "# Full pairplot, sin discriminar entre negativos, nulos y positivos\n",
        "sns.pairplot(data=ven_num_null, diag_kind='kde', plot_kws = {'alpha': 0.3, 's': 10})\n",
        "plt.show()"
      ]
    },
    {
      "attachments": {},
      "cell_type": "markdown",
      "metadata": {},
      "source": [
        "#### DataFrame con todas las ventas no nulas"
      ]
    },
    {
      "cell_type": "code",
      "execution_count": 43,
      "metadata": {},
      "outputs": [
        {
          "data": {
            "text/html": [
              "<div>\n",
              "<style scoped>\n",
              "    .dataframe tbody tr th:only-of-type {\n",
              "        vertical-align: middle;\n",
              "    }\n",
              "\n",
              "    .dataframe tbody tr th {\n",
              "        vertical-align: top;\n",
              "    }\n",
              "\n",
              "    .dataframe thead th {\n",
              "        text-align: right;\n",
              "    }\n",
              "</style>\n",
              "<table border=\"1\" class=\"dataframe\">\n",
              "  <thead>\n",
              "    <tr style=\"text-align: right;\">\n",
              "      <th></th>\n",
              "      <th>count</th>\n",
              "      <th>mean</th>\n",
              "      <th>std</th>\n",
              "      <th>min</th>\n",
              "      <th>25%</th>\n",
              "      <th>50%</th>\n",
              "      <th>75%</th>\n",
              "      <th>max</th>\n",
              "    </tr>\n",
              "  </thead>\n",
              "  <tbody>\n",
              "    <tr>\n",
              "      <th>Ventas</th>\n",
              "      <td>250448.0</td>\n",
              "      <td>1.299812e+07</td>\n",
              "      <td>6.293460e+07</td>\n",
              "      <td>-2.399305e+08</td>\n",
              "      <td>355230.0875</td>\n",
              "      <td>2187051.770</td>\n",
              "      <td>8598866.900</td>\n",
              "      <td>4.876872e+09</td>\n",
              "    </tr>\n",
              "    <tr>\n",
              "      <th>Alicuota</th>\n",
              "      <td>250448.0</td>\n",
              "      <td>3.034677e+00</td>\n",
              "      <td>2.734824e+00</td>\n",
              "      <td>0.000000e+00</td>\n",
              "      <td>0.0500</td>\n",
              "      <td>4.000</td>\n",
              "      <td>5.000</td>\n",
              "      <td>1.800000e+01</td>\n",
              "    </tr>\n",
              "    <tr>\n",
              "      <th>Comision</th>\n",
              "      <td>250448.0</td>\n",
              "      <td>5.062686e+05</td>\n",
              "      <td>2.419940e+06</td>\n",
              "      <td>-4.904327e+06</td>\n",
              "      <td>13538.9750</td>\n",
              "      <td>85007.375</td>\n",
              "      <td>343067.555</td>\n",
              "      <td>2.438436e+08</td>\n",
              "    </tr>\n",
              "  </tbody>\n",
              "</table>\n",
              "</div>"
            ],
            "text/plain": [
              "             count          mean           std           min          25%  \\\n",
              "Ventas    250448.0  1.299812e+07  6.293460e+07 -2.399305e+08  355230.0875   \n",
              "Alicuota  250448.0  3.034677e+00  2.734824e+00  0.000000e+00       0.0500   \n",
              "Comision  250448.0  5.062686e+05  2.419940e+06 -4.904327e+06   13538.9750   \n",
              "\n",
              "                  50%          75%           max  \n",
              "Ventas    2187051.770  8598866.900  4.876872e+09  \n",
              "Alicuota        4.000        5.000  1.800000e+01  \n",
              "Comision    85007.375   343067.555  2.438436e+08  "
            ]
          },
          "execution_count": 43,
          "metadata": {},
          "output_type": "execute_result"
        }
      ],
      "source": [
        "ven_num_not.describe().T"
      ]
    },
    {
      "cell_type": "code",
      "execution_count": 44,
      "metadata": {},
      "outputs": [
        {
          "name": "stdout",
          "output_type": "stream",
          "text": [
            "z-Score de los extremos de la variables numéricas:\n",
            "\tVentas:\n",
            "\t\t Mínimo: -4 \t Máximo: 77\n",
            "\tAlicuota:\n",
            "\t\t Mínimo: -1 \t Máximo: 5\n",
            "\tComision:\n",
            "\t\t Mínimo: -2 \t Máximo: 101\n"
          ]
        }
      ],
      "source": [
        "print('z-Score de los extremos de la variables numéricas:') \n",
        "for col in num_cols:\n",
        "    zScore_min = (ven_num_not[col].min() - ven_num_not[col].mean()) / ven_num_not[col].std()\n",
        "    zScore_max = (ven_num_not[col].max() - ven_num_not[col].mean()) / ven_num_not[col].std()\n",
        "\n",
        "    print(f'\\t{col}:')\n",
        "    print(f'\\t\\t Mínimo: {zScore_min:.0f} \\t Máximo: {zScore_max:.0f}')"
      ]
    },
    {
      "cell_type": "code",
      "execution_count": 47,
      "metadata": {},
      "outputs": [
        {
          "name": "stdout",
          "output_type": "stream",
          "text": [
            "Proporción de valores negativos, nulos y positivos en las variables numéricas:\n",
            "\tVentas\n"
          ]
        },
        {
          "data": {
            "text/html": [
              "<div>\n",
              "<style scoped>\n",
              "    .dataframe tbody tr th:only-of-type {\n",
              "        vertical-align: middle;\n",
              "    }\n",
              "\n",
              "    .dataframe tbody tr th {\n",
              "        vertical-align: top;\n",
              "    }\n",
              "\n",
              "    .dataframe thead th {\n",
              "        text-align: right;\n",
              "    }\n",
              "</style>\n",
              "<table border=\"1\" class=\"dataframe\">\n",
              "  <thead>\n",
              "    <tr style=\"text-align: right;\">\n",
              "      <th></th>\n",
              "      <th>Negativos</th>\n",
              "      <th>Nulos</th>\n",
              "      <th>No positivos</th>\n",
              "      <th>Positivos</th>\n",
              "      <th>Total</th>\n",
              "    </tr>\n",
              "  </thead>\n",
              "  <tbody>\n",
              "    <tr>\n",
              "      <th>Cantidad</th>\n",
              "      <td>1390</td>\n",
              "      <td>0</td>\n",
              "      <td>1390</td>\n",
              "      <td>249058</td>\n",
              "      <td>250448</td>\n",
              "    </tr>\n",
              "    <tr>\n",
              "      <th>Proporcion</th>\n",
              "      <td>0.56%</td>\n",
              "      <td>0.00%</td>\n",
              "      <td>0.56%</td>\n",
              "      <td>99.44%</td>\n",
              "      <td>100.00%</td>\n",
              "    </tr>\n",
              "  </tbody>\n",
              "</table>\n",
              "</div>"
            ],
            "text/plain": [
              "           Negativos  Nulos No positivos Positivos    Total\n",
              "Cantidad        1390      0         1390    249058   250448\n",
              "Proporcion     0.56%  0.00%        0.56%    99.44%  100.00%"
            ]
          },
          "metadata": {},
          "output_type": "display_data"
        },
        {
          "name": "stdout",
          "output_type": "stream",
          "text": [
            "\tAlicuota\n"
          ]
        },
        {
          "data": {
            "text/html": [
              "<div>\n",
              "<style scoped>\n",
              "    .dataframe tbody tr th:only-of-type {\n",
              "        vertical-align: middle;\n",
              "    }\n",
              "\n",
              "    .dataframe tbody tr th {\n",
              "        vertical-align: top;\n",
              "    }\n",
              "\n",
              "    .dataframe thead th {\n",
              "        text-align: right;\n",
              "    }\n",
              "</style>\n",
              "<table border=\"1\" class=\"dataframe\">\n",
              "  <thead>\n",
              "    <tr style=\"text-align: right;\">\n",
              "      <th></th>\n",
              "      <th>Negativos</th>\n",
              "      <th>Nulos</th>\n",
              "      <th>No positivos</th>\n",
              "      <th>Positivos</th>\n",
              "      <th>Total</th>\n",
              "    </tr>\n",
              "  </thead>\n",
              "  <tbody>\n",
              "    <tr>\n",
              "      <th>Cantidad</th>\n",
              "      <td>0</td>\n",
              "      <td>1681</td>\n",
              "      <td>1681</td>\n",
              "      <td>248767</td>\n",
              "      <td>250448</td>\n",
              "    </tr>\n",
              "    <tr>\n",
              "      <th>Proporcion</th>\n",
              "      <td>0.00%</td>\n",
              "      <td>0.67%</td>\n",
              "      <td>0.67%</td>\n",
              "      <td>99.33%</td>\n",
              "      <td>100.00%</td>\n",
              "    </tr>\n",
              "  </tbody>\n",
              "</table>\n",
              "</div>"
            ],
            "text/plain": [
              "           Negativos  Nulos No positivos Positivos    Total\n",
              "Cantidad           0   1681         1681    248767   250448\n",
              "Proporcion     0.00%  0.67%        0.67%    99.33%  100.00%"
            ]
          },
          "metadata": {},
          "output_type": "display_data"
        },
        {
          "name": "stdout",
          "output_type": "stream",
          "text": [
            "\tComision\n"
          ]
        },
        {
          "data": {
            "text/html": [
              "<div>\n",
              "<style scoped>\n",
              "    .dataframe tbody tr th:only-of-type {\n",
              "        vertical-align: middle;\n",
              "    }\n",
              "\n",
              "    .dataframe tbody tr th {\n",
              "        vertical-align: top;\n",
              "    }\n",
              "\n",
              "    .dataframe thead th {\n",
              "        text-align: right;\n",
              "    }\n",
              "</style>\n",
              "<table border=\"1\" class=\"dataframe\">\n",
              "  <thead>\n",
              "    <tr style=\"text-align: right;\">\n",
              "      <th></th>\n",
              "      <th>Negativos</th>\n",
              "      <th>Nulos</th>\n",
              "      <th>No positivos</th>\n",
              "      <th>Positivos</th>\n",
              "      <th>Total</th>\n",
              "    </tr>\n",
              "  </thead>\n",
              "  <tbody>\n",
              "    <tr>\n",
              "      <th>Cantidad</th>\n",
              "      <td>1363</td>\n",
              "      <td>2428</td>\n",
              "      <td>3791</td>\n",
              "      <td>246657</td>\n",
              "      <td>250448</td>\n",
              "    </tr>\n",
              "    <tr>\n",
              "      <th>Proporcion</th>\n",
              "      <td>0.54%</td>\n",
              "      <td>0.97%</td>\n",
              "      <td>1.51%</td>\n",
              "      <td>98.49%</td>\n",
              "      <td>100.00%</td>\n",
              "    </tr>\n",
              "  </tbody>\n",
              "</table>\n",
              "</div>"
            ],
            "text/plain": [
              "           Negativos  Nulos No positivos Positivos    Total\n",
              "Cantidad        1363   2428         3791    246657   250448\n",
              "Proporcion     0.54%  0.97%        1.51%    98.49%  100.00%"
            ]
          },
          "metadata": {},
          "output_type": "display_data"
        }
      ],
      "source": [
        "print('Proporción de valores negativos, nulos y positivos en las variables numéricas:') \n",
        "for col in num_cols:\n",
        "    print(f'\\t{col}')\n",
        "    ans = len(ven_num_not[col])\n",
        "    neg = len(ven_num_not[ven_num_not[col] < 0])\n",
        "    nul = len(ven_num_not[ven_num_not[col] == 0])\n",
        "\n",
        "    cant = [neg, nul, neg+nul, ans-neg-nul, ans]\n",
        "    prop = [f'{100*neg/ans:.2f}%', f'{100*nul/ans:.2f}%', f'{100*(nul+neg)/ans:.2f}%', f'{100*(ans-nul-neg)/ans:.2f}%', '100.00%']\n",
        "    desc = pd.DataFrame([cant, prop], columns=['Negativos', 'Nulos', 'No positivos', 'Positivos', 'Total'], index=['Cantidad', 'Proporcion'])\n",
        "    display(desc)\n"
      ]
    },
    {
      "cell_type": "code",
      "execution_count": 48,
      "metadata": {},
      "outputs": [
        {
          "data": {
            "image/png": "[encoded data removed]",
            "text/plain": [
              "<Figure size 750x750 with 12 Axes>"
            ]
          },
          "metadata": {},
          "output_type": "display_data"
        }
      ],
      "source": [
        "# Full pairplot, sin discriminar entre negativos, nulos y positivos\n",
        "sns.pairplot(data=ven_num_not, diag_kind='kde', plot_kws = {'alpha': 0.3, 's': 10})\n",
        "plt.show()"
      ]
    },
    {
      "attachments": {},
      "cell_type": "markdown",
      "metadata": {},
      "source": [
        "### Más medidas de dispersión: asimetría y Kurtosis"
      ]
    },
    {
      "cell_type": "code",
      "execution_count": 66,
      "metadata": {},
      "outputs": [
        {
          "data": {
            "text/html": [
              "<div>\n",
              "<style scoped>\n",
              "    .dataframe tbody tr th:only-of-type {\n",
              "        vertical-align: middle;\n",
              "    }\n",
              "\n",
              "    .dataframe tbody tr th {\n",
              "        vertical-align: top;\n",
              "    }\n",
              "\n",
              "    .dataframe thead th {\n",
              "        text-align: right;\n",
              "    }\n",
              "</style>\n",
              "<table border=\"1\" class=\"dataframe\">\n",
              "  <thead>\n",
              "    <tr style=\"text-align: right;\">\n",
              "      <th></th>\n",
              "      <th>Asimetría</th>\n",
              "      <th>p-val Asim.</th>\n",
              "      <th>Kurtosis (Fisher)</th>\n",
              "      <th>p-val Kurt.</th>\n",
              "    </tr>\n",
              "  </thead>\n",
              "  <tbody>\n",
              "    <tr>\n",
              "      <th>Ventas</th>\n",
              "      <td>22.975940</td>\n",
              "      <td>0.0</td>\n",
              "      <td>893.087110</td>\n",
              "      <td>0.0</td>\n",
              "    </tr>\n",
              "    <tr>\n",
              "      <th>Alicuota</th>\n",
              "      <td>1.402282</td>\n",
              "      <td>0.0</td>\n",
              "      <td>6.290852</td>\n",
              "      <td>0.0</td>\n",
              "    </tr>\n",
              "    <tr>\n",
              "      <th>Comision</th>\n",
              "      <td>27.418292</td>\n",
              "      <td>0.0</td>\n",
              "      <td>1485.255741</td>\n",
              "      <td>0.0</td>\n",
              "    </tr>\n",
              "  </tbody>\n",
              "</table>\n",
              "</div>"
            ],
            "text/plain": [
              "          Asimetría  p-val Asim.  Kurtosis (Fisher)  p-val Kurt.\n",
              "Ventas    22.975940          0.0         893.087110          0.0\n",
              "Alicuota   1.402282          0.0           6.290852          0.0\n",
              "Comision  27.418292          0.0        1485.255741          0.0"
            ]
          },
          "execution_count": 66,
          "metadata": {},
          "output_type": "execute_result"
        }
      ],
      "source": [
        "asim = skew(ven_num_not)\n",
        "asimtest = skewtest(ven_num_not).pvalue\n",
        "kurt = kurtosis(ven_num_not)\n",
        "kurttest = kurtosistest(ven_num_not).pvalue\n",
        "\n",
        "desc = pd.DataFrame({'Asimetría': asim, 'p-val Asim.': asimtest,\n",
        "                     'Kurtosis (Fisher)': kurt, 'p-val Kurt.': kurttest},\n",
        "                     index=['Ventas', 'Alicuota', 'Comision'])\n",
        "desc"
      ]
    },
    {
      "attachments": {},
      "cell_type": "markdown",
      "metadata": {},
      "source": [
        "---\n",
        "# Análisis de variables categóricas"
      ]
    },
    {
      "attachments": {},
      "cell_type": "markdown",
      "metadata": {},
      "source": [
        "#### Relación entre `TRATAMIENTO_FISCAL` y `DESC_TRATAMIENTO_FISCAL`"
      ]
    },
    {
      "attachments": {},
      "cell_type": "markdown",
      "metadata": {},
      "source": [
        "Queremos chequear para qué valores de `TRATAMIENTO_FISCAL` aparecen valores de `DESC_TRATAMIENTO_FISCAL`. Al analizar la tabla de contingencia, vemos que los valores de `DESC_TRATAMIENTO_FISCAL` sólo aparecen cuando `TRATAMIENTO_FISCAL` asume valores 0, 1, 2 ó 3. A su vez, hay correspondencia entre 0 y Normal, 1 y Exento/Desgravado, 2 y Minorista, 3 y Otro Tratamiento Fiscal. ¿Se puede unificar todo como `TRATAMIENTO_FISCAL`, eliminando entonces `DESC_TRATAMIENTO_FISCAL`? ¿Tiene sentido que falte la descripción asociada al tratamiento?"
      ]
    },
    {
      "cell_type": "code",
      "execution_count": null,
      "metadata": {},
      "outputs": [],
      "source": [
        "# Este paso lo agrego porque sino el crosstab siguiente no me muestra los NaN\n",
        "prueba3 = ventas_clean.copy()\n",
        "prueba3['TRATAMIENTO_FISCAL'] = prueba3['TRATAMIENTO_FISCAL'].fillna('Waring: Relleno')\n",
        "prueba3['DESC_TRATAMIENTO_FISCAL'] = prueba3['DESC_TRATAMIENTO_FISCAL'].fillna('Waring: Relleno')"
      ]
    },
    {
      "cell_type": "code",
      "execution_count": null,
      "metadata": {},
      "outputs": [],
      "source": [
        "pd.crosstab(prueba3['TRATAMIENTO_FISCAL'], prueba3['DESC_TRATAMIENTO_FISCAL'], dropna=False)"
      ]
    },
    {
      "attachments": {},
      "cell_type": "markdown",
      "metadata": {},
      "source": [
        "#### Relación entre `TRATAMIENTO_FISCAL` y `TRATAMIENTO_DIFERENCIAL`"
      ]
    },
    {
      "attachments": {},
      "cell_type": "markdown",
      "metadata": {},
      "source": [
        "Ahora veamos para qué valores de `TRATAMIENTO_FISCAL` aparecen valores de `TRATAMIENTO_DIFERNCIAL`. Al analizar la tabla de contingencia vemos que no hay un patrón claro. ¿Podríamos tomar a un dato faltante como \"sin tratamiento\" o algo por el estilo?"
      ]
    },
    {
      "cell_type": "code",
      "execution_count": null,
      "metadata": {},
      "outputs": [],
      "source": [
        "# Este paso lo agrego porque sino el crosstab siguiente no me muestra los NaN\n",
        "prueba3['TRATAMIENTO_DIFERNCIAL'] = prueba3['TRATAMIENTO_DIFERNCIAL'].fillna('Waring: Relleno')"
      ]
    },
    {
      "cell_type": "code",
      "execution_count": null,
      "metadata": {},
      "outputs": [],
      "source": [
        "pd.crosstab(prueba3['TRATAMIENTO_FISCAL'], prueba3['TRATAMIENTO_DIFERNCIAL'], dropna=False)"
      ]
    },
    {
      "attachments": {},
      "cell_type": "markdown",
      "metadata": {},
      "source": [
        "---\n",
        "# Paso 1: Carga y exploración inicial de datos"
      ]
    },
    {
      "attachments": {},
      "cell_type": "markdown",
      "metadata": {},
      "source": [
        "### Construcción de una nueva variable: Fecha"
      ]
    },
    {
      "attachments": {},
      "cell_type": "markdown",
      "metadata": {},
      "source": [
        "Consideramos que para el análisis temporal habrá momentos en que necesitamos tener año y mes por separado, pero en otras ocasiones necesitamos toda la información al mismo tiempo. Por lo tanto, creamos la variable fecha:\n",
        "    $$FECHA = AÑO + MES$$"
      ]
    },
    {
      "cell_type": "code",
      "execution_count": null,
      "metadata": {
        "colab": {
          "base_uri": "https://localhost:8080/",
          "height": 635
        },
        "id": "T78ErjlB8bYt",
        "outputId": "22107b7b-84a2-4800-948d-43b46db07185"
      },
      "outputs": [],
      "source": [
        "ventas_clean['FECHA'] = pd.to_datetime(ventas_clean['MES'].astype(str) + '-' + ventas_clean['AÑO'].astype(str), format='%m-%Y')\n",
        "display(ventas_clean[:3])"
      ]
    },
    {
      "cell_type": "code",
      "execution_count": null,
      "metadata": {
        "colab": {
          "base_uri": "https://localhost:8080/"
        },
        "id": "PdFe8Fo35AbI",
        "outputId": "144de103-1580-4bae-80ce-308d884007a8"
      },
      "outputs": [],
      "source": [
        "ventas_clean['FECHA'].dtypes"
      ]
    },
    {
      "attachments": {},
      "cell_type": "markdown",
      "metadata": {},
      "source": [
        "### Algunas pruebas con variables numéricas"
      ]
    },
    {
      "attachments": {},
      "cell_type": "markdown",
      "metadata": {},
      "source": [
        "#### Relación numérica entre `TOTAL_VENTAS`, `PORCENTAJE_COMISION_EMPRESA` y `COMISION_EMPRESA`"
      ]
    },
    {
      "attachments": {},
      "cell_type": "markdown",
      "metadata": {},
      "source": [
        "Queremos estudiar un poco más la relación lineal antes vista entre estas 3 variables. Proponemos que la función es\n",
        "    $$\\text{COMISION\\_EMPRESA} = \\text{PORCENTAJE\\_COMISION\\_EMPRESA} \\times \\text{TOTAL\\_VENTAS}$$\n",
        "\n",
        "Vemos que la fórmula es exacta sólo para 190.999 registros. Si probamos con algún margen de error, la fórmula verifica con precisión menor a 1 entero para 261.272 registros (menos del 61% de los registros totales)."
      ]
    },
    {
      "cell_type": "code",
      "execution_count": null,
      "metadata": {
        "id": "NtUtbDc057lk"
      },
      "outputs": [],
      "source": [
        "# Probemos con verificar la siguiente fórmula:\n",
        "ventas_clean['ComCalc'] = ventas_clean['TOTAL_VENTAS'] * ventas_clean['PORCENTAJE_COMISION_EMPRESA']"
      ]
    },
    {
      "cell_type": "code",
      "execution_count": null,
      "metadata": {
        "colab": {
          "base_uri": "https://localhost:8080/"
        },
        "id": "AOoWPX_mBP1R",
        "outputId": "404bdc6c-7f06-43ad-de04-331c9f5cfe4e"
      },
      "outputs": [],
      "source": [
        "for x in [0, 0.01, 0.1, 0.2, 0.3, 0.4, 0.5, 1, 5, 10, 20, 50, 100, 1000]:\n",
        "  print('Para', x, 'de diferencia, tenemos', sum(abs(ventas_clean['COMISION_EMPRESA'] - ventas_clean['ComCalc']) <= x), 'igualdades')"
      ]
    },
    {
      "attachments": {},
      "cell_type": "markdown",
      "metadata": {},
      "source": [
        "Tenemos que en el 44.26% de los casos la relación lineal que proponemos es exacta. Respecto a la fracción restante, en el 8.19% de los casos la subestima, mientras que en el 47.55% la sobreestima."
      ]
    },
    {
      "cell_type": "code",
      "execution_count": null,
      "metadata": {},
      "outputs": [],
      "source": [
        "diferencia = ventas_clean['COMISION_EMPRESA'] - ventas_clean['ComCalc']\n",
        "print(f'Exactos: {100*len(diferencia[diferencia==0])/len(diferencia):.2f}')\n",
        "print(f'Positivos: {100*len(diferencia[diferencia>0])/len(diferencia):.2f}')\n",
        "print(f'Negativos: {100*len(diferencia[diferencia<0])/len(diferencia):.2f}')"
      ]
    },
    {
      "cell_type": "code",
      "execution_count": null,
      "metadata": {
        "colab": {
          "base_uri": "https://localhost:8080/",
          "height": 487
        },
        "id": "LwogIbaeFTOj",
        "outputId": "f8cd2b98-c2ac-47e1-b2cb-f48293781639"
      },
      "outputs": [],
      "source": [
        "# Grafiquemos la distribución de la diferencia\n",
        "plt.boxplot(diferencia.dropna())\n",
        "plt.xlabel('Diferencia')\n",
        "plt.ylabel('Valor')\n",
        "plt.title('Diferencia entre comisión empresa real y calculada')\n",
        "plt.show()"
      ]
    },
    {
      "attachments": {},
      "cell_type": "markdown",
      "metadata": {},
      "source": [
        "Vemos que, a pesar de las diferencias entre el valor real y el predicho, se pueden apreciar claramente 2 pendientes: una muy grande y otra bastante más pequeña. Esas dos rectas serían las que describen mejor la tendencia de los puntos y, por lo tanto, explicarían la relación entre las 3 variables de interés."
      ]
    },
    {
      "cell_type": "code",
      "execution_count": null,
      "metadata": {},
      "outputs": [],
      "source": [
        "com_real_sobre = ventas_clean['COMISION_EMPRESA'][diferencia<0]\n",
        "com_real_exac = ventas_clean['COMISION_EMPRESA'][diferencia==0]\n",
        "com_real_sub = ventas_clean['COMISION_EMPRESA'][diferencia>0]\n",
        "\n",
        "com_calc_sobre = ventas_clean['ComCalc'][diferencia<0]\n",
        "com_calc_exac = ventas_clean['ComCalc'][diferencia==0]\n",
        "com_calc_sub = ventas_clean['ComCalc'][diferencia>0]"
      ]
    },
    {
      "cell_type": "code",
      "execution_count": null,
      "metadata": {},
      "outputs": [],
      "source": [
        "fig, axs = plt.subplots(1, 2, figsize=(12, 5))\n",
        "\n",
        "axs[0].scatter(com_real_sobre, com_calc_sobre, label='Sobreestimado', s=30)\n",
        "axs[0].scatter(com_real_exac, com_calc_exac, label='Exacto', s=20)\n",
        "axs[0].scatter(com_real_sub, com_calc_sub, label='Subestimado', s=10)\n",
        "\n",
        "axs[0].legend()\n",
        "\n",
        "axs[0].set_xlabel('Comisión real')\n",
        "axs[0].set_ylabel('Comisión Calculada')\n",
        "\n",
        "axs[1].scatter(com_real_sobre, com_calc_sobre, label='Sobreestimado', s=30)\n",
        "axs[1].scatter(com_real_exac, com_calc_exac, label='Exacto', s=20)\n",
        "axs[1].scatter(com_real_sub, com_calc_sub, label='Subestimado', s=10)\n",
        "\n",
        "axs[1].legend()\n",
        "axs[1].set_ylim(-5E8, 1E8)\n",
        "axs[1].set_xlim(-0.5E7, 3.5E7)\n",
        "\n",
        "axs[1].set_xlabel('Comisión real')\n",
        "axs[1].set_ylabel('Comisión calculada')\n",
        "\n",
        "fig.suptitle('Comisión empresa: real vs calculada')\n",
        "plt.show()"
      ]
    },
    {
      "attachments": {},
      "cell_type": "markdown",
      "metadata": {},
      "source": [
        "Vemos que entonces tenemos 2 rectas que definen la relación entre las variables de interés. Por un lado, el 61% de los datos responde a la ecuación antes planteada, sumando un pequeño offset:\n",
        "    $$\\text{Com. Calc} = \\text{Com. Real} + \\$0.48 = \\text{Porcent. Com.} \\times \\text{Ventas}$$\n",
        "    $$\\Rightarrow \\text{Com. Real} = \\text{Porcent. Com.} \\times \\text{Ventas} - \\$0.48$$\n",
        "\n",
        "El resto de los datos responde a una ecuación completamente distinta:\n",
        "    $$\\text{Com. Calc} = 100 * \\text{Com. Real} + \\$1365 = \\text{Porcent. Com.} \\times \\text{Ventas}$$\n",
        "    $$\\Rightarrow \\text{Com. Real} = \\frac{\\text{Porcent. Com.} \\times \\text{Ventas} - \\$1365}{100} = 0.01 \\times \\text{Porcent. Com.} \\times \\text{Ventas} - \\$13.65 $$\n",
        "\n",
        "No olvidar que esto sale considerando absolutamente todos los valores (no se descaartó ni se truncó nada)."
      ]
    },
    {
      "cell_type": "code",
      "execution_count": null,
      "metadata": {},
      "outputs": [],
      "source": [
        "rg_real = pd.concat([com_real_sub[com_calc_sub<0], com_real_sobre[com_calc_sobre>10*com_real_sobre]])\n",
        "rg_calc = pd.concat([com_calc_sub[com_calc_sub<0], com_calc_sobre[com_calc_sobre>10*com_real_sobre]])\n",
        "\n",
        "rp_real = pd.concat([com_real_sub[com_calc_sub>0], com_real_sobre[com_calc_sobre<10*com_real_sobre], com_real_exac])\n",
        "rp_calc = pd.concat([com_calc_sub[com_calc_sub>0], com_calc_sobre[com_calc_sobre<10*com_real_sobre], com_calc_exac])"
      ]
    },
    {
      "cell_type": "code",
      "execution_count": null,
      "metadata": {},
      "outputs": [],
      "source": [
        "print(len(rg_real))\n",
        "print(len(rp_real))\n",
        "print(len(rp_real+rg_real))"
      ]
    },
    {
      "cell_type": "code",
      "execution_count": null,
      "metadata": {},
      "outputs": [],
      "source": [
        "LG = LR(rg_real, rg_calc)\n",
        "LP = LR(rp_real, rp_calc)"
      ]
    },
    {
      "cell_type": "code",
      "execution_count": null,
      "metadata": {},
      "outputs": [],
      "source": [
        "fig, axs = plt.subplots(1, 2, figsize=(12, 5))\n",
        "\n",
        "axs[0].scatter(rg_real, rg_calc, label='Gran pendiente', s=30)\n",
        "axs[0].scatter(rp_real, rp_calc, label='Pequeña pendiente', s=15)\n",
        "axs[0].plot(rg_real, rg_real*LG.slope + LG.intercept, label=f'{LG.slope:.0f}*Real + {LG.intercept:.0f}', color='red')\n",
        "axs[0].plot(rp_real, rp_real*LP.slope + LP.intercept, label=f'{LP.slope:.0f}*Real + {LP.intercept:.2f}', color='tab:green')\n",
        "\n",
        "axs[0].legend(loc='upper left')\n",
        "\n",
        "axs[0].set_xlabel('Comisión real')\n",
        "axs[0].set_ylabel('Comisión Calculada')\n",
        "\n",
        "axs[1].scatter(rg_real, rg_calc, label='Gran pendiente', s=30)\n",
        "axs[1].scatter(rp_real, rp_calc, label='Pequeña pendiente', s=15)\n",
        "axs[1].plot(rg_real, rg_real*LG.slope + LG.intercept, label=f'{LG.slope:.0f}*Real + {LG.intercept:.0f}', color='red')\n",
        "axs[1].plot(rp_real, rp_real*LP.slope + LP.intercept, label=f'{LP.slope:.0f}*Real + {LP.intercept:.2f}', color='tab:green')\n",
        "\n",
        "axs[1].legend(loc='lower right')\n",
        "axs[1].set_ylim(-1E8, 1E8)\n",
        "axs[1].set_xlim(-0.5E7, 4E7)\n",
        "\n",
        "axs[1].set_xlabel('Comisión real')\n",
        "axs[1].set_ylabel('Comisión calculada')\n",
        "\n",
        "fig.suptitle('Comisión empresa: real vs calculada')\n",
        "plt.show()"
      ]
    },
    {
      "attachments": {},
      "cell_type": "markdown",
      "metadata": {},
      "source": [
        "#### Rectas obtenida vs vendedor modelo"
      ]
    },
    {
      "attachments": {},
      "cell_type": "markdown",
      "metadata": {},
      "source": [
        "Ahora comparamos las dos rectas obtenidas en función de la clasificación de modelo dada por el cliente. Vemos que todos los vendedores modelo caen dentro de la recta de menor pendiente, la cual establece prácticamente una relación de proporcionalidad directa entre las ventas y la comisión de la empresa. Por su parte, los que no están clasificados como modelo caen sobre ambas rectas. ¿Puede ser este un camino para detectar la fuga?"
      ]
    },
    {
      "cell_type": "code",
      "execution_count": null,
      "metadata": {},
      "outputs": [],
      "source": [
        "mask0 = ventas_clean['MODELO']==0\n",
        "mask1 = ventas_clean['MODELO']==1"
      ]
    },
    {
      "cell_type": "code",
      "execution_count": null,
      "metadata": {},
      "outputs": [],
      "source": [
        "com_real_Mod = ventas_clean['COMISION_EMPRESA'][mask1]\n",
        "com_real_noMod = ventas_clean['COMISION_EMPRESA'][mask0]\n",
        "\n",
        "com_calc_Mod = ventas_clean['ComCalc'][mask1]\n",
        "com_calc_noMod = ventas_clean['ComCalc'][mask0]"
      ]
    },
    {
      "cell_type": "code",
      "execution_count": null,
      "metadata": {},
      "outputs": [],
      "source": [
        "fig, axs = plt.subplots(1, 2, figsize=(12, 5))\n",
        "\n",
        "axs[0].scatter(rg_real, rg_calc, label='Gran pendiente', s=30)\n",
        "axs[0].scatter(rp_real, rp_calc, label='Pequeña pendiente', s=15)\n",
        "axs[0].plot(com_real_noMod, com_calc_noMod, label='No Modelo', color='tab:green')\n",
        "axs[0].plot(com_real_Mod, com_calc_Mod, label='Modelo', color='red')\n",
        "\n",
        "axs[0].legend(loc='upper left')\n",
        "\n",
        "axs[0].set_xlabel('Comisión real')\n",
        "axs[0].set_ylabel('Comisión Calculada')\n",
        "\n",
        "axs[1].scatter(rg_real, rg_calc, label='Gran pendiente', s=30)\n",
        "axs[1].scatter(rp_real, rp_calc, label='Pequeña pendiente', s=15)\n",
        "axs[1].plot(com_real_noMod, com_calc_noMod, label='No Modelo', color='tab:green')\n",
        "axs[1].plot(com_real_Mod, com_calc_Mod, label='Modelo', color='red')\n",
        "\n",
        "axs[1].legend(loc='lower right')\n",
        "axs[1].set_ylim(-1E8, 1E8)\n",
        "axs[1].set_xlim(-0.5E7, 4E7)\n",
        "\n",
        "axs[1].set_xlabel('Comisión real')\n",
        "axs[1].set_ylabel('Comisión calculada')\n",
        "\n",
        "fig.suptitle('Comisión empresa: real vs calculada')\n",
        "plt.show()"
      ]
    },
    {
      "attachments": {},
      "cell_type": "markdown",
      "metadata": {
        "id": "uWvSDx9e0lLJ"
      },
      "source": [
        "---\n",
        "# Paso 2: Análisis estadístico descriptivo"
      ]
    },
    {
      "attachments": {},
      "cell_type": "markdown",
      "metadata": {},
      "source": [
        "Vamos a considerar que la serie temporal **principal** es la dictada por `TOTAL_VENTAS`."
      ]
    },
    {
      "attachments": {},
      "cell_type": "markdown",
      "metadata": {},
      "source": [
        "### Considerando la serie temporal"
      ]
    },
    {
      "attachments": {},
      "cell_type": "markdown",
      "metadata": {},
      "source": [
        "#### Agrupando por meses"
      ]
    },
    {
      "attachments": {},
      "cell_type": "markdown",
      "metadata": {
        "id": "hexHLiR60yMr"
      },
      "source": [
        "Se entiende más la progresión al agrupar todos los datos correspondientes a un mismo mes. Vemos que no hace otra cosa más que crecer. Se observa el efecto de la inflación y pareciera haber picos hacia fin de año."
      ]
    },
    {
      "cell_type": "code",
      "execution_count": null,
      "metadata": {},
      "outputs": [],
      "source": [
        "fig, axs = plt.subplots(1, 2, figsize=(12, 5))\n",
        "\n",
        "axs[0].plot(ventas_clean['FECHA'],ventas_clean['TOTAL_VENTAS'])\n",
        "\n",
        "axs[0].set_xlabel('Fecha')\n",
        "axs[0].set_ylabel('Ventas')\n",
        "axs[0].set_title('Ventas sin agregar')\n",
        "\n",
        "prueba6 = ventas_clean[['FECHA','TOTAL_VENTAS', 'AÑO']].copy()\n",
        "prueba6_agregado = prueba6.groupby('FECHA')['TOTAL_VENTAS'].sum().reset_index()\n",
        "\n",
        "axs[1].plot(prueba6_agregado['FECHA'], prueba6_agregado['TOTAL_VENTAS'])\n",
        "\n",
        "axs[1].set_xlabel('Fecha')\n",
        "axs[1].set_ylabel('Ventas')\n",
        "axs[1].set_title('Ventas agregadas por mes')\n",
        "\n",
        "plt.show()"
      ]
    },
    {
      "attachments": {},
      "cell_type": "markdown",
      "metadata": {},
      "source": [
        "Son más similares las tendencias desde el 2019 al 2021, mientras que 2022 se destaca por ser bien diferente."
      ]
    },
    {
      "cell_type": "code",
      "execution_count": null,
      "metadata": {},
      "outputs": [],
      "source": [
        "mes = [1, 2, 3, 4, 5, 6, 7, 8, 9, 10, 11, 12]\n",
        "\n",
        "v19 = prueba6_agregado['TOTAL_VENTAS'][:12]\n",
        "v20 = prueba6_agregado['TOTAL_VENTAS'][12:24]\n",
        "v21 = prueba6_agregado['TOTAL_VENTAS'][24:36]\n",
        "v22 = prueba6_agregado['TOTAL_VENTAS'][36:]\n",
        "\n",
        "fig, axs = plt.subplots(1, 2, figsize=(12, 5))\n",
        "\n",
        "axs[0].plot(mes, v19, label='2019', marker='o')\n",
        "axs[0].plot(mes, v20, label='2020', marker='o')\n",
        "axs[0].plot(mes, v21, label='2021', marker='o')\n",
        "axs[0].plot(mes[:6], v22, label='2022', marker='o')\n",
        "\n",
        "axs[0].set_xlabel('Mes')\n",
        "axs[0].set_ylabel('Ventas')\n",
        "axs[0].set_title('Original')\n",
        "axs[0].legend()\n",
        "\n",
        "axs[1].plot(mes, v19/np.max(v19), label='2019', marker='o')\n",
        "axs[1].plot(mes, v20/np.max(v20), label='2020', marker='o')\n",
        "axs[1].plot(mes, v21/np.max(v21), label='2021', marker='o')\n",
        "axs[1].plot(mes[:6], v22/np.max(v22), label='2022', marker='o')\n",
        "\n",
        "axs[1].set_xlabel('Mes')\n",
        "axs[1].set_ylabel('Ventas')\n",
        "axs[1].set_title('Normalizadas')\n",
        "axs[1].legend()\n",
        "\n",
        "fig.suptitle('Ventas agregadas por mes y separadas por año')\n",
        "\n",
        "plt.show()"
      ]
    },
    {
      "attachments": {},
      "cell_type": "markdown",
      "metadata": {},
      "source": [
        "#### Estacionalidad un poco más definida - mensual"
      ]
    },
    {
      "attachments": {},
      "cell_type": "markdown",
      "metadata": {},
      "source": [
        "Se dice que una serie de tiempo es estacionaria si no aumenta o disminuye con el tiempo de forma lineal o exponencial (sin tendencias), y si no muestra ningún tipo de patrón repetitivo (sin estacionalidad). Matemáticamente, esto se describe como una media constante y una varianza constante a lo largo del tiempo. Junto con la varianza, la autocovarianza tampoco debería ser una función del tiempo."
      ]
    },
    {
      "cell_type": "code",
      "execution_count": null,
      "metadata": {},
      "outputs": [],
      "source": [
        "fig, axs = plt.subplots(2, 1, figsize=(12, 10))\n",
        "\n",
        "sns.boxplot(data=ventas_clean, x='MES', y='TOTAL_VENTAS', ax=axs[0])\n",
        "\n",
        "sns.boxplot(data=ventas_clean, x='MES', y='TOTAL_VENTAS', ax=axs[1])\n",
        "axs[1].set_ylim(-0.6E7, 1.2E7)\n",
        "\n",
        "fig.suptitle('Estacionalidad mensual considerando los 4 años juntos')\n",
        "plt.show()"
      ]
    },
    {
      "cell_type": "code",
      "execution_count": null,
      "metadata": {},
      "outputs": [],
      "source": [
        "fig, axs = plt.subplots(2, 4, figsize=(24, 20))\n",
        "\n",
        "sns.boxplot(data=ventas_clean[ventas_clean['AÑO']==2019], x='MES', y='TOTAL_VENTAS', ax=axs[0, 0])\n",
        "sns.boxplot(data=ventas_clean[ventas_clean['AÑO']==2019], x='MES', y='TOTAL_VENTAS', ax=axs[1, 0])\n",
        "\n",
        "sns.boxplot(data=ventas_clean[ventas_clean['AÑO']==2020], x='MES', y='TOTAL_VENTAS', ax=axs[0, 1])\n",
        "sns.boxplot(data=ventas_clean[ventas_clean['AÑO']==2020], x='MES', y='TOTAL_VENTAS', ax=axs[1, 1])\n",
        "\n",
        "sns.boxplot(data=ventas_clean[ventas_clean['AÑO']==2021], x='MES', y='TOTAL_VENTAS', ax=axs[0, 2])\n",
        "sns.boxplot(data=ventas_clean[ventas_clean['AÑO']==2021], x='MES', y='TOTAL_VENTAS', ax=axs[1, 2])\n",
        "\n",
        "sns.boxplot(data=ventas_clean[ventas_clean['AÑO']==2022], x='MES', y='TOTAL_VENTAS', ax=axs[0, 3])\n",
        "sns.boxplot(data=ventas_clean[ventas_clean['AÑO']==2022], x='MES', y='TOTAL_VENTAS', ax=axs[1, 3])\n",
        "\n",
        "axs[0, 0].set_title('2019')\n",
        "axs[1, 0].set_ylim(-0.6E7, 1.2E7)\n",
        "\n",
        "axs[0, 1].set_title('2020')\n",
        "axs[1, 1].set_ylim(-0.6E7, 1.2E7)\n",
        "\n",
        "axs[0, 2].set_title('2021')\n",
        "axs[1, 2].set_ylim(-0.6E7, 1.2E7)\n",
        "\n",
        "axs[0, 3].set_title('2022')\n",
        "axs[1, 3].set_ylim(-0.6E7, 1.2E7)\n",
        "\n",
        "fig.suptitle('Estacionalidad mensual por año')\n",
        "plt.show()"
      ]
    },
    {
      "attachments": {},
      "cell_type": "markdown",
      "metadata": {},
      "source": [
        "#### Estacionalidad un poco más definida - anual"
      ]
    },
    {
      "cell_type": "code",
      "execution_count": null,
      "metadata": {},
      "outputs": [],
      "source": [
        "fig, axs = plt.subplots(2, 1, figsize=(12, 10))\n",
        "\n",
        "sns.boxplot(data=ventas_clean, x='AÑO', y='TOTAL_VENTAS', ax=axs[0])\n",
        "\n",
        "sns.boxplot(data=ventas_clean, x='AÑO', y='TOTAL_VENTAS', ax=axs[1])\n",
        "axs[1].set_ylim(-0.6E7, 1.2E7)\n",
        "\n",
        "fig.suptitle('Estacionalidad anual considerando los 12 meses juntos')\n",
        "plt.show()"
      ]
    },
    {
      "attachments": {},
      "cell_type": "markdown",
      "metadata": {},
      "source": [
        "#### Autocorrelación"
      ]
    },
    {
      "attachments": {},
      "cell_type": "markdown",
      "metadata": {
        "id": "QPGMX3kN0z1d"
      },
      "source": [
        "Hay correlación estadísticamente significativa para los lags 1, 2 y 3, lo que implica que observaciones pasadas influyen en las observaciones actuales de la serie temporal de manera positiva."
      ]
    },
    {
      "cell_type": "code",
      "execution_count": null,
      "metadata": {
        "colab": {
          "base_uri": "https://localhost:8080/",
          "height": 472
        },
        "id": "c9PErA5V6h8Z",
        "outputId": "f61ed9a8-469b-4508-cd51-0e66b957d748"
      },
      "outputs": [],
      "source": [
        "# Calcular la función de autocorrelación\n",
        "acf = plot_acf(prueba6_agregado['TOTAL_VENTAS'], lags=12)\n",
        "\n",
        "# Graficar la función de autocorrelación\n",
        "plt.xlabel('Lag')\n",
        "plt.ylabel('Autocorrelation')\n",
        "plt.title('Autocorrelation Function')\n",
        "plt.show()"
      ]
    },
    {
      "attachments": {},
      "cell_type": "markdown",
      "metadata": {},
      "source": [
        "---\n",
        "# Paso 4: Distribución de frecuencias y probabilidades"
      ]
    },
    {
      "attachments": {},
      "cell_type": "markdown",
      "metadata": {},
      "source": [
        "### Comparación entre las variables categóricas"
      ]
    },
    {
      "attachments": {},
      "cell_type": "markdown",
      "metadata": {},
      "source": [
        "#### `ID_VENDEDOR` vs `INSCRIPCION`"
      ]
    },
    {
      "attachments": {},
      "cell_type": "markdown",
      "metadata": {},
      "source": [
        "Vemos que la correlación es extremadamente pobre, por lo que decimos que no hay correlación."
      ]
    },
    {
      "cell_type": "code",
      "execution_count": null,
      "metadata": {},
      "outputs": [],
      "source": [
        "vad = pd.crosstab(ventas_clean['ID_VENDEDOR'], ventas_clean['INSCRIPCION'], normalize=True)\n",
        "vad"
      ]
    },
    {
      "cell_type": "code",
      "execution_count": null,
      "metadata": {},
      "outputs": [],
      "source": [
        "rows = []\n",
        "for k in range(vad.shape[0]):\n",
        "    rows.append(np.sum(vad.iloc[k, :]))\n",
        "rows = np.array(rows)\n",
        "\n",
        "cols = []\n",
        "for k in range(vad.shape[1]):\n",
        "    cols.append(np.sum(vad.iloc[:, k]))\n",
        "cols = np.array(cols)\n",
        "\n",
        "fig, axs = plt.subplots(1, 2, figsize=(12, 5))\n",
        "\n",
        "axs[0].plot(rows)\n",
        "axs[1].plot(cols)\n",
        "\n",
        "plt.show()"
      ]
    },
    {
      "attachments": {},
      "cell_type": "markdown",
      "metadata": {},
      "source": [
        "#### `TRATAMIENTO_FISCAL` vs `DESC_TRATAMIENTO_FISCAL`"
      ]
    },
    {
      "attachments": {},
      "cell_type": "markdown",
      "metadata": {},
      "source": [
        "Vemos que sí existe una gran correlación entre \"Norm\" de `DESC_TRATAMIENTO_FISCAL` y \"0\" de `TRATAMIENTO_FISCAL`."
      ]
    },
    {
      "cell_type": "code",
      "execution_count": null,
      "metadata": {},
      "outputs": [],
      "source": [
        "vad = pd.crosstab(ventas_clean['TRATAMIENTO_FISCAL'], ventas_clean['DESC_TRATAMIENTO_FISCAL'], normalize=True)\n",
        "vad"
      ]
    },
    {
      "attachments": {},
      "cell_type": "markdown",
      "metadata": {},
      "source": [
        "#### `TRATAMIENTO_FISCAL` vs `TRATAMIENTO_DIFERENCIAL`"
      ]
    },
    {
      "attachments": {},
      "cell_type": "markdown",
      "metadata": {},
      "source": [
        "No hay ninguna correlación muy intensa."
      ]
    },
    {
      "cell_type": "code",
      "execution_count": null,
      "metadata": {},
      "outputs": [],
      "source": [
        "vad = pd.crosstab(ventas_clean['TRATAMIENTO_FISCAL'], ventas_clean['TRATAMIENTO_DIFERNCIAL'], normalize=True)\n",
        "vad"
      ]
    },
    {
      "attachments": {},
      "cell_type": "markdown",
      "metadata": {},
      "source": [
        "#### `DESC_TRATAMIENTO_FISCAL` vs `TRATAMIENTO_DIFERENCIAL`"
      ]
    },
    {
      "attachments": {},
      "cell_type": "markdown",
      "metadata": {},
      "source": [
        "Existe una correlación baja/moderada entre \"Art.21\" de `TRATAMIENTO_DIFERNCIAL` y \"Norm\" de `DESC_TRATAMIENTO_FISCAL`"
      ]
    },
    {
      "cell_type": "code",
      "execution_count": null,
      "metadata": {},
      "outputs": [],
      "source": [
        "vad = pd.crosstab(ventas_clean['DESC_TRATAMIENTO_FISCAL'], ventas_clean['TRATAMIENTO_DIFERNCIAL'], normalize=True)\n",
        "vad"
      ]
    },
    {
      "attachments": {},
      "cell_type": "markdown",
      "metadata": {},
      "source": [
        "### Por si queremos truncar por variables numércias"
      ]
    },
    {
      "cell_type": "code",
      "execution_count": null,
      "metadata": {},
      "outputs": [],
      "source": [
        "fig, axs = plt.subplots(2, 2, figsize=(12, 10))\n",
        "\n",
        "sns.boxplot(x=ventas_clean['TOTAL_VENTAS'], ax=axs[0, 0], notch=True, \n",
        "            flierprops={\"marker\": \"x\"}, medianprops={\"color\": \"coral\"})\n",
        "\n",
        "sns.boxplot(x=ventas_clean['TOTAL_VENTAS'], ax=axs[0, 1], notch=True, \n",
        "            flierprops={\"marker\": \"x\"}, medianprops={\"color\": \"coral\"})\n",
        "\n",
        "axs[0, 1].set_xlim(-0.6E7, 1E7)\n",
        "\n",
        "sns.boxplot(x=ventas_clean['COMISION_EMPRESA'], ax=axs[1, 0], notch=True, \n",
        "            flierprops={\"marker\": \"x\"}, medianprops={\"color\": \"coral\"})\n",
        "\n",
        "sns.boxplot(x=ventas_clean['COMISION_EMPRESA'], ax=axs[1, 1], notch=True, \n",
        "            flierprops={\"marker\": \"x\"}, medianprops={\"color\": \"coral\"})\n",
        "\n",
        "axs[1, 1].set_xlim(-3E5, 4E5)\n",
        "\n",
        "plt.show()"
      ]
    },
    {
      "attachments": {},
      "cell_type": "markdown",
      "metadata": {},
      "source": [
        "Para atacar el problema de los valores extremos podemos proponer quedarnos con cierta porción de la distribución usando percentiles. Como tiene mucha cola hacia la derecha, nos quedamos primero con la porción izquierda de la población."
      ]
    },
    {
      "cell_type": "code",
      "execution_count": null,
      "metadata": {},
      "outputs": [],
      "source": [
        "print(f'Teníamos {len(ventas_clean)} registros.')\n",
        "dftest = ventas_clean.copy()\n",
        "\n",
        "fig, axs = plt.subplots(1, 4, figsize=(24, 5))\n",
        "\n",
        "sns.boxplot(x=ventas_clean['TOTAL_VENTAS'], ax=axs[0], notch=True, \n",
        "            flierprops={\"marker\": \"x\"}, medianprops={\"color\": \"coral\"})\n",
        "\n",
        "percentile_sup = dftest['TOTAL_VENTAS'].quantile(0.995)\n",
        "dfk = dftest[dftest['TOTAL_VENTAS'] < percentile_sup]\n",
        "print(f'Tomando el 99.5% central quedan {len(dfk)} registros.')\n",
        "sns.boxplot(x=dfk['TOTAL_VENTAS'], ax=axs[1], notch=True, \n",
        "            flierprops={\"marker\": \"x\"}, medianprops={\"color\": \"coral\"})\n",
        "\n",
        "percentile_sup = dftest['TOTAL_VENTAS'].quantile(0.990)\n",
        "dfk = dftest[dftest['TOTAL_VENTAS'] < percentile_sup]\n",
        "print(f'Tomando el 99.0% central quedan {len(dfk)} registros.')\n",
        "sns.boxplot(x=dfk['TOTAL_VENTAS'], ax=axs[2], notch=True, \n",
        "            flierprops={\"marker\": \"x\"}, medianprops={\"color\": \"coral\"})\n",
        "\n",
        "percentile_sup = dftest['TOTAL_VENTAS'].quantile(0.950)\n",
        "dfk = dftest[dftest['TOTAL_VENTAS'] < percentile_sup]\n",
        "print(f'Tomando el 95.0% central quedan {len(dfk)} registros.')\n",
        "sns.boxplot(x=dfk['TOTAL_VENTAS'], ax=axs[3], notch=True, \n",
        "            flierprops={\"marker\": \"x\"}, medianprops={\"color\": \"coral\"})\n",
        "\n",
        "axs[0].set_title(f'100% de la distribución')\n",
        "axs[1].set_title(f'99.5% izquierdo de la distribución')\n",
        "axs[2].set_title(f'99.0% izquierdo de la distribución')\n",
        "axs[3].set_title(f'95.0% izquierdo de la distribución')\n",
        "\n",
        "plt.show()"
      ]
    }
  ],
  "metadata": {
    "colab": {
      "provenance": [],
      "toc_visible": true
    },
    "kernelspec": {
      "display_name": "Python 3",
      "name": "python3"
    },
    "language_info": {
      "codemirror_mode": {
        "name": "ipython",
        "version": 3
      },
      "file_extension": ".py",
      "mimetype": "text/x-python",
      "name": "python",
      "nbconvert_exporter": "python",
      "pygments_lexer": "ipython3",
      "version": "3.10.6"
    }
  },
  "nbformat": 4,
  "nbformat_minor": 0
}
