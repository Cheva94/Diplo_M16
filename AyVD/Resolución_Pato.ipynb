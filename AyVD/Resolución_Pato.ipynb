{
  "nbformat": 4,
  "nbformat_minor": 0,
  "metadata": {
    "colab": {
      "provenance": [],
      "toc_visible": true
    },
    "kernelspec": {
      "name": "python3",
      "display_name": "Python 3"
    },
    "language_info": {
      "name": "python"
    }
  },
  "cells": [
    {
      "cell_type": "markdown",
      "source": [
        "# TP1 - Mentoría"
      ],
      "metadata": {
        "id": "kH6OTEe-t8kM"
      }
    },
    {
      "cell_type": "markdown",
      "source": [
        "## Paso 1: Carga y exploración inicial de datos"
      ],
      "metadata": {
        "id": "bSiZTjpzuAEx"
      }
    },
    {
      "cell_type": "markdown",
      "source": [
        "1.\tCargar los datos.\n",
        "2.\tExplora la estructura de los datos: número de observaciones, variables disponibles, intervalo de tiempo entre observaciones, etc.\n",
        "3.\tObserva las primeras y últimas filas de los datos para tener una idea general de su contenido.\n",
        "4.\tVerifica si hay valores faltantes o atípicos en los datos y propongan cómo manejarlos.\n"
      ],
      "metadata": {
        "id": "pcqGmfPytz_Q"
      }
    },
    {
      "cell_type": "code",
      "execution_count": null,
      "metadata": {
        "id": "7SPDOecdfEed"
      },
      "outputs": [],
      "source": [
        "import numpy as np\n",
        "import pandas as pd\n",
        "import missingno as msno\n",
        "import matplotlib.pyplot as plt\n",
        "from statsmodels.graphics.tsaplots import plot_acf\n",
        "pd.options.display.float_format = '{:,.2f}'.format"
      ]
    },
    {
      "cell_type": "code",
      "source": [
        "from google.colab import drive\n",
        "drive.mount('/content/drive')"
      ],
      "metadata": {
        "colab": {
          "base_uri": "https://localhost:8080/"
        },
        "id": "zJuQvgbbvwM0",
        "outputId": "a9ce5c63-1959-48f2-8c7a-c06d3d32df31"
      },
      "execution_count": null,
      "outputs": [
        {
          "output_type": "stream",
          "name": "stdout",
          "text": [
            "Drive already mounted at /content/drive; to attempt to forcibly remount, call drive.mount(\"/content/drive\", force_remount=True).\n"
          ]
        }
      ]
    },
    {
      "cell_type": "code",
      "source": [
        "ventas = pd.read_csv('/content/drive/MyDrive/muestra_diplodatos_ventas_2023.csv')"
      ],
      "metadata": {
        "colab": {
          "base_uri": "https://localhost:8080/"
        },
        "id": "GWj3yKsGgYMq",
        "outputId": "e507f339-27cb-4c15-b769-18d029690af9"
      },
      "execution_count": null,
      "outputs": [
        {
          "output_type": "stream",
          "name": "stderr",
          "text": [
            "<ipython-input-47-eda1eb52eee3>:1: DtypeWarning: Columns (10,11,13) have mixed types. Specify dtype option on import or set low_memory=False.\n",
            "  ventas = pd.read_csv('/content/drive/MyDrive/muestra_diplodatos_ventas_2023.csv')\n"
          ]
        }
      ]
    },
    {
      "cell_type": "code",
      "source": [
        "ventas.head()"
      ],
      "metadata": {
        "colab": {
          "base_uri": "https://localhost:8080/",
          "height": 722
        },
        "id": "kX-Wj8OjhIlo",
        "outputId": "41f515ee-cb88-455b-a786-61cf7cca9ced"
      },
      "execution_count": null,
      "outputs": [
        {
          "output_type": "execute_result",
          "data": {
            "text/plain": [
              "                                         ID_VENDEDOR  INSCRIPCION   AÑO  MES  \\\n",
              "0  0520ed45f48b92cf903130d467021c242be8045cfed4ab...    270417671  2019    1   \n",
              "1  95b704f66684b2101d104491983c7cf88455b04d4ecf8f...    270118305  2019    1   \n",
              "2  95b704f66684b2101d104491983c7cf88455b04d4ecf8f...    270118305  2019    1   \n",
              "3  95b704f66684b2101d104491983c7cf88455b04d4ecf8f...    270118305  2019    1   \n",
              "4  1b6ef2976d38132a1df85b4199dcddd0158ab42c957184...    281129121  2019    1   \n",
              "\n",
              "                                           CATEGORIA  DEPOSITO  \\\n",
              "0  COMERCIO AL POR MAYOR Y AL POR MENOR; REPARACI...    469090   \n",
              "1  COMERCIO AL POR MAYOR Y AL POR MENOR; REPARACI...    464129   \n",
              "2  COMERCIO AL POR MAYOR Y AL POR MENOR; REPARACI...    475190   \n",
              "3  COMERCIO AL POR MAYOR Y AL POR MENOR; REPARACI...    477190   \n",
              "4  COMERCIO AL POR MAYOR Y AL POR MENOR; REPARACI...    469090   \n",
              "\n",
              "                               DESCRIPCION_CATEGORIA  TOTAL_VENTAS  \\\n",
              "0            Venta al por mayor de mercancías n.c.p.     14,622.16   \n",
              "1  Venta al por mayor de prendas y accesorios de ...     62,477.00   \n",
              "2  Venta al por menor de artículos textiles n.c.p...  3,373,941.00   \n",
              "3  Venta al por menor de prendas y accesorios de ...    332,660.00   \n",
              "4            Venta al por mayor de mercancías n.c.p.    695,685.00   \n",
              "\n",
              "   PORCENTAJE_COMISION_EMPRESA  COMISION_EMPRESA TRATAMIENTO_FISCAL  \\\n",
              "0                         0.03            409.42               0.00   \n",
              "1                         0.04          2,499.08               0.00   \n",
              "2                         0.04        134,957.64               0.00   \n",
              "3                         0.04         13,306.40               0.00   \n",
              "4                         0.04         27,827.40               0.00   \n",
              "\n",
              "  DESC_TRATAMIENTO_FISCAL TRATAMIENTO_DIFERNCIAL CM04  \\\n",
              "0                  Normal                    NaN  NaN   \n",
              "1                  Normal                    NaN  NaN   \n",
              "2                  Normal                    NaN  NaN   \n",
              "3                  Normal                    NaN  NaN   \n",
              "4                  Normal                    NaN  NaN   \n",
              "\n",
              "                                CATEGORIA (Ajustado)  \\\n",
              "0  COMERCIO AL POR MAYOR Y AL POR MENOR; REPARACI...   \n",
              "1  COMERCIO AL POR MAYOR Y AL POR MENOR; REPARACI...   \n",
              "2  COMERCIO AL POR MAYOR Y AL POR MENOR; REPARACI...   \n",
              "3  COMERCIO AL POR MAYOR Y AL POR MENOR; REPARACI...   \n",
              "4  COMERCIO AL POR MAYOR Y AL POR MENOR; REPARACI...   \n",
              "\n",
              "                                       SUB-CATEGORIA  \\\n",
              "0  Venta de Artículos, productos, accesorios, etc...   \n",
              "1  Venta de Artículos, productos, accesorios, etc...   \n",
              "2  Venta de Artículos, productos, accesorios, etc...   \n",
              "3  Venta de Artículos, productos, accesorios, etc...   \n",
              "4  Venta de Artículos, productos, accesorios, etc...   \n",
              "\n",
              "                                              NOMBRE  OMEGA  MODELO  \n",
              "0  d7fe2144f50da08790400f3fc5217b4a4c6042e05b5f2f...      1       0  \n",
              "1  fbadfc9f6105a8792048a825deb9801fa54106e21e8283...      1       0  \n",
              "2  fbadfc9f6105a8792048a825deb9801fa54106e21e8283...      1       0  \n",
              "3  fbadfc9f6105a8792048a825deb9801fa54106e21e8283...      1       0  \n",
              "4  4c369e674e00fd385f3009dbc3825b8681112283301620...      1       0  "
            ],
            "text/html": [
              "\n",
              "  <div id=\"df-8ed70552-f5fb-4867-8332-49672702de2a\">\n",
              "    <div class=\"colab-df-container\">\n",
              "      <div>\n",
              "<style scoped>\n",
              "    .dataframe tbody tr th:only-of-type {\n",
              "        vertical-align: middle;\n",
              "    }\n",
              "\n",
              "    .dataframe tbody tr th {\n",
              "        vertical-align: top;\n",
              "    }\n",
              "\n",
              "    .dataframe thead th {\n",
              "        text-align: right;\n",
              "    }\n",
              "</style>\n",
              "<table border=\"1\" class=\"dataframe\">\n",
              "  <thead>\n",
              "    <tr style=\"text-align: right;\">\n",
              "      <th></th>\n",
              "      <th>ID_VENDEDOR</th>\n",
              "      <th>INSCRIPCION</th>\n",
              "      <th>AÑO</th>\n",
              "      <th>MES</th>\n",
              "      <th>CATEGORIA</th>\n",
              "      <th>DEPOSITO</th>\n",
              "      <th>DESCRIPCION_CATEGORIA</th>\n",
              "      <th>TOTAL_VENTAS</th>\n",
              "      <th>PORCENTAJE_COMISION_EMPRESA</th>\n",
              "      <th>COMISION_EMPRESA</th>\n",
              "      <th>TRATAMIENTO_FISCAL</th>\n",
              "      <th>DESC_TRATAMIENTO_FISCAL</th>\n",
              "      <th>TRATAMIENTO_DIFERNCIAL</th>\n",
              "      <th>CM04</th>\n",
              "      <th>CATEGORIA (Ajustado)</th>\n",
              "      <th>SUB-CATEGORIA</th>\n",
              "      <th>NOMBRE</th>\n",
              "      <th>OMEGA</th>\n",
              "      <th>MODELO</th>\n",
              "    </tr>\n",
              "  </thead>\n",
              "  <tbody>\n",
              "    <tr>\n",
              "      <th>0</th>\n",
              "      <td>0520ed45f48b92cf903130d467021c242be8045cfed4ab...</td>\n",
              "      <td>270417671</td>\n",
              "      <td>2019</td>\n",
              "      <td>1</td>\n",
              "      <td>COMERCIO AL POR MAYOR Y AL POR MENOR; REPARACI...</td>\n",
              "      <td>469090</td>\n",
              "      <td>Venta al por mayor de mercancías n.c.p.</td>\n",
              "      <td>14,622.16</td>\n",
              "      <td>0.03</td>\n",
              "      <td>409.42</td>\n",
              "      <td>0.00</td>\n",
              "      <td>Normal</td>\n",
              "      <td>NaN</td>\n",
              "      <td>NaN</td>\n",
              "      <td>COMERCIO AL POR MAYOR Y AL POR MENOR; REPARACI...</td>\n",
              "      <td>Venta de Artículos, productos, accesorios, etc...</td>\n",
              "      <td>d7fe2144f50da08790400f3fc5217b4a4c6042e05b5f2f...</td>\n",
              "      <td>1</td>\n",
              "      <td>0</td>\n",
              "    </tr>\n",
              "    <tr>\n",
              "      <th>1</th>\n",
              "      <td>95b704f66684b2101d104491983c7cf88455b04d4ecf8f...</td>\n",
              "      <td>270118305</td>\n",
              "      <td>2019</td>\n",
              "      <td>1</td>\n",
              "      <td>COMERCIO AL POR MAYOR Y AL POR MENOR; REPARACI...</td>\n",
              "      <td>464129</td>\n",
              "      <td>Venta al por mayor de prendas y accesorios de ...</td>\n",
              "      <td>62,477.00</td>\n",
              "      <td>0.04</td>\n",
              "      <td>2,499.08</td>\n",
              "      <td>0.00</td>\n",
              "      <td>Normal</td>\n",
              "      <td>NaN</td>\n",
              "      <td>NaN</td>\n",
              "      <td>COMERCIO AL POR MAYOR Y AL POR MENOR; REPARACI...</td>\n",
              "      <td>Venta de Artículos, productos, accesorios, etc...</td>\n",
              "      <td>fbadfc9f6105a8792048a825deb9801fa54106e21e8283...</td>\n",
              "      <td>1</td>\n",
              "      <td>0</td>\n",
              "    </tr>\n",
              "    <tr>\n",
              "      <th>2</th>\n",
              "      <td>95b704f66684b2101d104491983c7cf88455b04d4ecf8f...</td>\n",
              "      <td>270118305</td>\n",
              "      <td>2019</td>\n",
              "      <td>1</td>\n",
              "      <td>COMERCIO AL POR MAYOR Y AL POR MENOR; REPARACI...</td>\n",
              "      <td>475190</td>\n",
              "      <td>Venta al por menor de artículos textiles n.c.p...</td>\n",
              "      <td>3,373,941.00</td>\n",
              "      <td>0.04</td>\n",
              "      <td>134,957.64</td>\n",
              "      <td>0.00</td>\n",
              "      <td>Normal</td>\n",
              "      <td>NaN</td>\n",
              "      <td>NaN</td>\n",
              "      <td>COMERCIO AL POR MAYOR Y AL POR MENOR; REPARACI...</td>\n",
              "      <td>Venta de Artículos, productos, accesorios, etc...</td>\n",
              "      <td>fbadfc9f6105a8792048a825deb9801fa54106e21e8283...</td>\n",
              "      <td>1</td>\n",
              "      <td>0</td>\n",
              "    </tr>\n",
              "    <tr>\n",
              "      <th>3</th>\n",
              "      <td>95b704f66684b2101d104491983c7cf88455b04d4ecf8f...</td>\n",
              "      <td>270118305</td>\n",
              "      <td>2019</td>\n",
              "      <td>1</td>\n",
              "      <td>COMERCIO AL POR MAYOR Y AL POR MENOR; REPARACI...</td>\n",
              "      <td>477190</td>\n",
              "      <td>Venta al por menor de prendas y accesorios de ...</td>\n",
              "      <td>332,660.00</td>\n",
              "      <td>0.04</td>\n",
              "      <td>13,306.40</td>\n",
              "      <td>0.00</td>\n",
              "      <td>Normal</td>\n",
              "      <td>NaN</td>\n",
              "      <td>NaN</td>\n",
              "      <td>COMERCIO AL POR MAYOR Y AL POR MENOR; REPARACI...</td>\n",
              "      <td>Venta de Artículos, productos, accesorios, etc...</td>\n",
              "      <td>fbadfc9f6105a8792048a825deb9801fa54106e21e8283...</td>\n",
              "      <td>1</td>\n",
              "      <td>0</td>\n",
              "    </tr>\n",
              "    <tr>\n",
              "      <th>4</th>\n",
              "      <td>1b6ef2976d38132a1df85b4199dcddd0158ab42c957184...</td>\n",
              "      <td>281129121</td>\n",
              "      <td>2019</td>\n",
              "      <td>1</td>\n",
              "      <td>COMERCIO AL POR MAYOR Y AL POR MENOR; REPARACI...</td>\n",
              "      <td>469090</td>\n",
              "      <td>Venta al por mayor de mercancías n.c.p.</td>\n",
              "      <td>695,685.00</td>\n",
              "      <td>0.04</td>\n",
              "      <td>27,827.40</td>\n",
              "      <td>0.00</td>\n",
              "      <td>Normal</td>\n",
              "      <td>NaN</td>\n",
              "      <td>NaN</td>\n",
              "      <td>COMERCIO AL POR MAYOR Y AL POR MENOR; REPARACI...</td>\n",
              "      <td>Venta de Artículos, productos, accesorios, etc...</td>\n",
              "      <td>4c369e674e00fd385f3009dbc3825b8681112283301620...</td>\n",
              "      <td>1</td>\n",
              "      <td>0</td>\n",
              "    </tr>\n",
              "  </tbody>\n",
              "</table>\n",
              "</div>\n",
              "      <button class=\"colab-df-convert\" onclick=\"convertToInteractive('df-8ed70552-f5fb-4867-8332-49672702de2a')\"\n",
              "              title=\"Convert this dataframe to an interactive table.\"\n",
              "              style=\"display:none;\">\n",
              "        \n",
              "  <svg xmlns=\"http://www.w3.org/2000/svg\" height=\"24px\"viewBox=\"0 0 24 24\"\n",
              "       width=\"24px\">\n",
              "    <path d=\"M0 0h24v24H0V0z\" fill=\"none\"/>\n",
              "    <path d=\"M18.56 5.44l.94 2.06.94-2.06 2.06-.94-2.06-.94-.94-2.06-.94 2.06-2.06.94zm-11 1L8.5 8.5l.94-2.06 2.06-.94-2.06-.94L8.5 2.5l-.94 2.06-2.06.94zm10 10l.94 2.06.94-2.06 2.06-.94-2.06-.94-.94-2.06-.94 2.06-2.06.94z\"/><path d=\"M17.41 7.96l-1.37-1.37c-.4-.4-.92-.59-1.43-.59-.52 0-1.04.2-1.43.59L10.3 9.45l-7.72 7.72c-.78.78-.78 2.05 0 2.83L4 21.41c.39.39.9.59 1.41.59.51 0 1.02-.2 1.41-.59l7.78-7.78 2.81-2.81c.8-.78.8-2.07 0-2.86zM5.41 20L4 18.59l7.72-7.72 1.47 1.35L5.41 20z\"/>\n",
              "  </svg>\n",
              "      </button>\n",
              "      \n",
              "  <style>\n",
              "    .colab-df-container {\n",
              "      display:flex;\n",
              "      flex-wrap:wrap;\n",
              "      gap: 12px;\n",
              "    }\n",
              "\n",
              "    .colab-df-convert {\n",
              "      background-color: #E8F0FE;\n",
              "      border: none;\n",
              "      border-radius: 50%;\n",
              "      cursor: pointer;\n",
              "      display: none;\n",
              "      fill: #1967D2;\n",
              "      height: 32px;\n",
              "      padding: 0 0 0 0;\n",
              "      width: 32px;\n",
              "    }\n",
              "\n",
              "    .colab-df-convert:hover {\n",
              "      background-color: #E2EBFA;\n",
              "      box-shadow: 0px 1px 2px rgba(60, 64, 67, 0.3), 0px 1px 3px 1px rgba(60, 64, 67, 0.15);\n",
              "      fill: #174EA6;\n",
              "    }\n",
              "\n",
              "    [theme=dark] .colab-df-convert {\n",
              "      background-color: #3B4455;\n",
              "      fill: #D2E3FC;\n",
              "    }\n",
              "\n",
              "    [theme=dark] .colab-df-convert:hover {\n",
              "      background-color: #434B5C;\n",
              "      box-shadow: 0px 1px 3px 1px rgba(0, 0, 0, 0.15);\n",
              "      filter: drop-shadow(0px 1px 2px rgba(0, 0, 0, 0.3));\n",
              "      fill: #FFFFFF;\n",
              "    }\n",
              "  </style>\n",
              "\n",
              "      <script>\n",
              "        const buttonEl =\n",
              "          document.querySelector('#df-8ed70552-f5fb-4867-8332-49672702de2a button.colab-df-convert');\n",
              "        buttonEl.style.display =\n",
              "          google.colab.kernel.accessAllowed ? 'block' : 'none';\n",
              "\n",
              "        async function convertToInteractive(key) {\n",
              "          const element = document.querySelector('#df-8ed70552-f5fb-4867-8332-49672702de2a');\n",
              "          const dataTable =\n",
              "            await google.colab.kernel.invokeFunction('convertToInteractive',\n",
              "                                                     [key], {});\n",
              "          if (!dataTable) return;\n",
              "\n",
              "          const docLinkHtml = 'Like what you see? Visit the ' +\n",
              "            '<a target=\"_blank\" href=https://colab.research.google.com/notebooks/data_table.ipynb>data table notebook</a>'\n",
              "            + ' to learn more about interactive tables.';\n",
              "          element.innerHTML = '';\n",
              "          dataTable['output_type'] = 'display_data';\n",
              "          await google.colab.output.renderOutput(dataTable, element);\n",
              "          const docLink = document.createElement('div');\n",
              "          docLink.innerHTML = docLinkHtml;\n",
              "          element.appendChild(docLink);\n",
              "        }\n",
              "      </script>\n",
              "    </div>\n",
              "  </div>\n",
              "  "
            ]
          },
          "metadata": {},
          "execution_count": 48
        }
      ]
    },
    {
      "cell_type": "code",
      "source": [
        "print(len(ventas), 'observaciones')"
      ],
      "metadata": {
        "colab": {
          "base_uri": "https://localhost:8080/"
        },
        "id": "ypGjzflyuvd2",
        "outputId": "978c166d-c10c-422f-ae19-ff8618886fd9"
      },
      "execution_count": null,
      "outputs": [
        {
          "output_type": "stream",
          "name": "stdout",
          "text": [
            "431506 observaciones\n"
          ]
        }
      ]
    },
    {
      "cell_type": "code",
      "source": [
        "lista_columnas = list(ventas.columns)\n",
        "print(len(lista_columnas), 'variables:')\n",
        "lista_columnas"
      ],
      "metadata": {
        "colab": {
          "base_uri": "https://localhost:8080/"
        },
        "id": "uf9qMQg_haoP",
        "outputId": "a75d7b2e-f7cf-41ac-ede5-684cc881ed7a"
      },
      "execution_count": null,
      "outputs": [
        {
          "output_type": "stream",
          "name": "stdout",
          "text": [
            "19 variables:\n"
          ]
        },
        {
          "output_type": "execute_result",
          "data": {
            "text/plain": [
              "['ID_VENDEDOR',\n",
              " 'INSCRIPCION',\n",
              " 'AÑO',\n",
              " 'MES',\n",
              " 'CATEGORIA',\n",
              " 'DEPOSITO',\n",
              " 'DESCRIPCION_CATEGORIA',\n",
              " 'TOTAL_VENTAS',\n",
              " 'PORCENTAJE_COMISION_EMPRESA',\n",
              " 'COMISION_EMPRESA',\n",
              " 'TRATAMIENTO_FISCAL',\n",
              " 'DESC_TRATAMIENTO_FISCAL',\n",
              " 'TRATAMIENTO_DIFERNCIAL',\n",
              " 'CM04',\n",
              " 'CATEGORIA (Ajustado)',\n",
              " 'SUB-CATEGORIA',\n",
              " 'NOMBRE',\n",
              " 'OMEGA',\n",
              " 'MODELO']"
            ]
          },
          "metadata": {},
          "execution_count": 50
        }
      ]
    },
    {
      "cell_type": "markdown",
      "source": [
        "Significado tentativo:\n",
        "*   **ID_VENDEDOR**: Clave identificación vendedor\n",
        "*   **INSCRIPCION**: ???\n",
        "*   **AÑO**: Año (2019 a 2022)\n",
        "*   **MES**: \tMes\n",
        "*   **CATEGORIA**: Descripción del Código de Actividad Codiguero NAES Año 2018 y siguientes\n",
        "*   **DEPOSITO**: ???\n",
        "*   **DESCRIPCION_CATEGORIA**: Subrubro definido por la DGR (Dato Interno, no declarado por el contribuyente).\n",
        "*   **TOTAL_VENTAS**: Monto total de ventas (base imponible)\n",
        "*   **PORCENTAJE_COMISION_EMPRESA**: Comisión por las ventas en la plataforma (alícuota)\n",
        "*   **COMISION_EMPRESA**: Comisión por las ventas en la plataforma (valor)\n",
        "*   **TRATAMIENTO_FISCAL**: Indica qué tratamiento fiscal se le da a la operación (o vendedor/comprador?), especialmente respecto a la alícuota a cobrarle.\n",
        "*   **DESC_TRATAMIENTO_FISCAL**: Categoriza los valores de \"TRATAMIENTO_FISCAL\"\n",
        "*   **TRATAMIENTO_DIFERNCIAL**: Indica el artículo de alguna reglamentación aplicado para dar tratamiento fiscal especial\n",
        "*   **CM04**: Puede marcar las operaciones bajo Convenio Multilateral (CM) o indicar que se trata de un vendedor inscripto en el CM. Ver.\n",
        "*   **CATEGORIA (Ajustado)**: Variable \"CATEGORIA\" limpia (se redujo el número de valores posibles)\n",
        "*   **SUB-CATEGORIA**: Variable \"DESCRIPCION_CATEGORIA\" limpia (se redujo el número de valores posibles)\n",
        "*   **NOMBRE**: Nombre del vendedor? Del comprador?\n",
        "*   **OMEGA**: Marca para contribuyente de interés fiscal especial?? (Todos tienen valor \"1\")\n",
        "*   **MODELO**: Marca para vendedor modelo"
      ],
      "metadata": {
        "id": "1W0npLaZvivh"
      }
    },
    {
      "cell_type": "code",
      "source": [
        "ventas.dtypes"
      ],
      "metadata": {
        "colab": {
          "base_uri": "https://localhost:8080/"
        },
        "id": "SDM0qKpHzrvm",
        "outputId": "4430839e-3ef0-4833-b7a8-71709bcdc9df"
      },
      "execution_count": null,
      "outputs": [
        {
          "output_type": "execute_result",
          "data": {
            "text/plain": [
              "ID_VENDEDOR                     object\n",
              "INSCRIPCION                      int64\n",
              "AÑO                              int64\n",
              "MES                              int64\n",
              "CATEGORIA                       object\n",
              "DEPOSITO                         int64\n",
              "DESCRIPCION_CATEGORIA           object\n",
              "TOTAL_VENTAS                   float64\n",
              "PORCENTAJE_COMISION_EMPRESA    float64\n",
              "COMISION_EMPRESA               float64\n",
              "TRATAMIENTO_FISCAL              object\n",
              "DESC_TRATAMIENTO_FISCAL         object\n",
              "TRATAMIENTO_DIFERNCIAL          object\n",
              "CM04                            object\n",
              "CATEGORIA (Ajustado)            object\n",
              "SUB-CATEGORIA                   object\n",
              "NOMBRE                          object\n",
              "OMEGA                            int64\n",
              "MODELO                           int64\n",
              "dtype: object"
            ]
          },
          "metadata": {},
          "execution_count": 51
        }
      ]
    },
    {
      "cell_type": "code",
      "source": [
        "ventas.describe()"
      ],
      "metadata": {
        "colab": {
          "base_uri": "https://localhost:8080/",
          "height": 301
        },
        "id": "dDOuNAsphnuv",
        "outputId": "fe3c1a7b-82f9-432e-a308-6ad3a4d07937"
      },
      "execution_count": null,
      "outputs": [
        {
          "output_type": "execute_result",
          "data": {
            "text/plain": [
              "            INSCRIPCION        AÑO        MES     DEPOSITO     TOTAL_VENTAS  \\\n",
              "count        431,506.00 431,506.00 431,506.00   431,506.00       431,506.00   \n",
              "mean   7,734,967,948.01   2,020.33       6.08   467,002.73     7,544,169.21   \n",
              "std    6,765,375,119.13       1.03       3.43    89,922.56    48,373,412.84   \n",
              "min      200,026,373.00   2,019.00       1.00   451,111.00  -239,930,463.21   \n",
              "25%      281,394,843.00   2,019.00       3.00   462,120.00             0.00   \n",
              "50%    9,040,031,339.00   2,020.00       6.00   465,310.00        90,996.38   \n",
              "75%    9,042,569,642.00   2,021.00       9.00   471,192.00     3,226,319.32   \n",
              "max   33,716,777,249.00   2,022.00      12.00 8,530,190.00 4,876,872,188.46   \n",
              "\n",
              "       PORCENTAJE_COMISION_EMPRESA  COMISION_EMPRESA      OMEGA     MODELO  \n",
              "count                   431,506.00        431,506.00 431,506.00 431,506.00  \n",
              "mean                          3.23        293,840.57       1.00       0.00  \n",
              "std                           2.68      1,860,463.91       0.00       0.06  \n",
              "min                           0.00     -4,904,326.95       1.00       0.00  \n",
              "25%                           0.05              0.00       1.00       0.00  \n",
              "50%                           4.00          3,503.35       1.00       0.00  \n",
              "75%                           4.75        126,875.03       1.00       0.00  \n",
              "max                          18.00    243,843,609.42       1.00       1.00  "
            ],
            "text/html": [
              "\n",
              "  <div id=\"df-9dd6237d-a273-47f9-b2bc-29f80c12c3d9\">\n",
              "    <div class=\"colab-df-container\">\n",
              "      <div>\n",
              "<style scoped>\n",
              "    .dataframe tbody tr th:only-of-type {\n",
              "        vertical-align: middle;\n",
              "    }\n",
              "\n",
              "    .dataframe tbody tr th {\n",
              "        vertical-align: top;\n",
              "    }\n",
              "\n",
              "    .dataframe thead th {\n",
              "        text-align: right;\n",
              "    }\n",
              "</style>\n",
              "<table border=\"1\" class=\"dataframe\">\n",
              "  <thead>\n",
              "    <tr style=\"text-align: right;\">\n",
              "      <th></th>\n",
              "      <th>INSCRIPCION</th>\n",
              "      <th>AÑO</th>\n",
              "      <th>MES</th>\n",
              "      <th>DEPOSITO</th>\n",
              "      <th>TOTAL_VENTAS</th>\n",
              "      <th>PORCENTAJE_COMISION_EMPRESA</th>\n",
              "      <th>COMISION_EMPRESA</th>\n",
              "      <th>OMEGA</th>\n",
              "      <th>MODELO</th>\n",
              "    </tr>\n",
              "  </thead>\n",
              "  <tbody>\n",
              "    <tr>\n",
              "      <th>count</th>\n",
              "      <td>431,506.00</td>\n",
              "      <td>431,506.00</td>\n",
              "      <td>431,506.00</td>\n",
              "      <td>431,506.00</td>\n",
              "      <td>431,506.00</td>\n",
              "      <td>431,506.00</td>\n",
              "      <td>431,506.00</td>\n",
              "      <td>431,506.00</td>\n",
              "      <td>431,506.00</td>\n",
              "    </tr>\n",
              "    <tr>\n",
              "      <th>mean</th>\n",
              "      <td>7,734,967,948.01</td>\n",
              "      <td>2,020.33</td>\n",
              "      <td>6.08</td>\n",
              "      <td>467,002.73</td>\n",
              "      <td>7,544,169.21</td>\n",
              "      <td>3.23</td>\n",
              "      <td>293,840.57</td>\n",
              "      <td>1.00</td>\n",
              "      <td>0.00</td>\n",
              "    </tr>\n",
              "    <tr>\n",
              "      <th>std</th>\n",
              "      <td>6,765,375,119.13</td>\n",
              "      <td>1.03</td>\n",
              "      <td>3.43</td>\n",
              "      <td>89,922.56</td>\n",
              "      <td>48,373,412.84</td>\n",
              "      <td>2.68</td>\n",
              "      <td>1,860,463.91</td>\n",
              "      <td>0.00</td>\n",
              "      <td>0.06</td>\n",
              "    </tr>\n",
              "    <tr>\n",
              "      <th>min</th>\n",
              "      <td>200,026,373.00</td>\n",
              "      <td>2,019.00</td>\n",
              "      <td>1.00</td>\n",
              "      <td>451,111.00</td>\n",
              "      <td>-239,930,463.21</td>\n",
              "      <td>0.00</td>\n",
              "      <td>-4,904,326.95</td>\n",
              "      <td>1.00</td>\n",
              "      <td>0.00</td>\n",
              "    </tr>\n",
              "    <tr>\n",
              "      <th>25%</th>\n",
              "      <td>281,394,843.00</td>\n",
              "      <td>2,019.00</td>\n",
              "      <td>3.00</td>\n",
              "      <td>462,120.00</td>\n",
              "      <td>0.00</td>\n",
              "      <td>0.05</td>\n",
              "      <td>0.00</td>\n",
              "      <td>1.00</td>\n",
              "      <td>0.00</td>\n",
              "    </tr>\n",
              "    <tr>\n",
              "      <th>50%</th>\n",
              "      <td>9,040,031,339.00</td>\n",
              "      <td>2,020.00</td>\n",
              "      <td>6.00</td>\n",
              "      <td>465,310.00</td>\n",
              "      <td>90,996.38</td>\n",
              "      <td>4.00</td>\n",
              "      <td>3,503.35</td>\n",
              "      <td>1.00</td>\n",
              "      <td>0.00</td>\n",
              "    </tr>\n",
              "    <tr>\n",
              "      <th>75%</th>\n",
              "      <td>9,042,569,642.00</td>\n",
              "      <td>2,021.00</td>\n",
              "      <td>9.00</td>\n",
              "      <td>471,192.00</td>\n",
              "      <td>3,226,319.32</td>\n",
              "      <td>4.75</td>\n",
              "      <td>126,875.03</td>\n",
              "      <td>1.00</td>\n",
              "      <td>0.00</td>\n",
              "    </tr>\n",
              "    <tr>\n",
              "      <th>max</th>\n",
              "      <td>33,716,777,249.00</td>\n",
              "      <td>2,022.00</td>\n",
              "      <td>12.00</td>\n",
              "      <td>8,530,190.00</td>\n",
              "      <td>4,876,872,188.46</td>\n",
              "      <td>18.00</td>\n",
              "      <td>243,843,609.42</td>\n",
              "      <td>1.00</td>\n",
              "      <td>1.00</td>\n",
              "    </tr>\n",
              "  </tbody>\n",
              "</table>\n",
              "</div>\n",
              "      <button class=\"colab-df-convert\" onclick=\"convertToInteractive('df-9dd6237d-a273-47f9-b2bc-29f80c12c3d9')\"\n",
              "              title=\"Convert this dataframe to an interactive table.\"\n",
              "              style=\"display:none;\">\n",
              "        \n",
              "  <svg xmlns=\"http://www.w3.org/2000/svg\" height=\"24px\"viewBox=\"0 0 24 24\"\n",
              "       width=\"24px\">\n",
              "    <path d=\"M0 0h24v24H0V0z\" fill=\"none\"/>\n",
              "    <path d=\"M18.56 5.44l.94 2.06.94-2.06 2.06-.94-2.06-.94-.94-2.06-.94 2.06-2.06.94zm-11 1L8.5 8.5l.94-2.06 2.06-.94-2.06-.94L8.5 2.5l-.94 2.06-2.06.94zm10 10l.94 2.06.94-2.06 2.06-.94-2.06-.94-.94-2.06-.94 2.06-2.06.94z\"/><path d=\"M17.41 7.96l-1.37-1.37c-.4-.4-.92-.59-1.43-.59-.52 0-1.04.2-1.43.59L10.3 9.45l-7.72 7.72c-.78.78-.78 2.05 0 2.83L4 21.41c.39.39.9.59 1.41.59.51 0 1.02-.2 1.41-.59l7.78-7.78 2.81-2.81c.8-.78.8-2.07 0-2.86zM5.41 20L4 18.59l7.72-7.72 1.47 1.35L5.41 20z\"/>\n",
              "  </svg>\n",
              "      </button>\n",
              "      \n",
              "  <style>\n",
              "    .colab-df-container {\n",
              "      display:flex;\n",
              "      flex-wrap:wrap;\n",
              "      gap: 12px;\n",
              "    }\n",
              "\n",
              "    .colab-df-convert {\n",
              "      background-color: #E8F0FE;\n",
              "      border: none;\n",
              "      border-radius: 50%;\n",
              "      cursor: pointer;\n",
              "      display: none;\n",
              "      fill: #1967D2;\n",
              "      height: 32px;\n",
              "      padding: 0 0 0 0;\n",
              "      width: 32px;\n",
              "    }\n",
              "\n",
              "    .colab-df-convert:hover {\n",
              "      background-color: #E2EBFA;\n",
              "      box-shadow: 0px 1px 2px rgba(60, 64, 67, 0.3), 0px 1px 3px 1px rgba(60, 64, 67, 0.15);\n",
              "      fill: #174EA6;\n",
              "    }\n",
              "\n",
              "    [theme=dark] .colab-df-convert {\n",
              "      background-color: #3B4455;\n",
              "      fill: #D2E3FC;\n",
              "    }\n",
              "\n",
              "    [theme=dark] .colab-df-convert:hover {\n",
              "      background-color: #434B5C;\n",
              "      box-shadow: 0px 1px 3px 1px rgba(0, 0, 0, 0.15);\n",
              "      filter: drop-shadow(0px 1px 2px rgba(0, 0, 0, 0.3));\n",
              "      fill: #FFFFFF;\n",
              "    }\n",
              "  </style>\n",
              "\n",
              "      <script>\n",
              "        const buttonEl =\n",
              "          document.querySelector('#df-9dd6237d-a273-47f9-b2bc-29f80c12c3d9 button.colab-df-convert');\n",
              "        buttonEl.style.display =\n",
              "          google.colab.kernel.accessAllowed ? 'block' : 'none';\n",
              "\n",
              "        async function convertToInteractive(key) {\n",
              "          const element = document.querySelector('#df-9dd6237d-a273-47f9-b2bc-29f80c12c3d9');\n",
              "          const dataTable =\n",
              "            await google.colab.kernel.invokeFunction('convertToInteractive',\n",
              "                                                     [key], {});\n",
              "          if (!dataTable) return;\n",
              "\n",
              "          const docLinkHtml = 'Like what you see? Visit the ' +\n",
              "            '<a target=\"_blank\" href=https://colab.research.google.com/notebooks/data_table.ipynb>data table notebook</a>'\n",
              "            + ' to learn more about interactive tables.';\n",
              "          element.innerHTML = '';\n",
              "          dataTable['output_type'] = 'display_data';\n",
              "          await google.colab.output.renderOutput(dataTable, element);\n",
              "          const docLink = document.createElement('div');\n",
              "          docLink.innerHTML = docLinkHtml;\n",
              "          element.appendChild(docLink);\n",
              "        }\n",
              "      </script>\n",
              "    </div>\n",
              "  </div>\n",
              "  "
            ]
          },
          "metadata": {},
          "execution_count": 52
        }
      ]
    },
    {
      "cell_type": "code",
      "source": [
        "msno.bar(ventas,figsize=(12, 3), sort=\"ascending\",fontsize=12, color='gray')"
      ],
      "metadata": {
        "colab": {
          "base_uri": "https://localhost:8080/",
          "height": 575
        },
        "id": "Ux_6H8D_0pXt",
        "outputId": "fded5a88-c102-4a8d-a2af-33638b5e53b0"
      },
      "execution_count": null,
      "outputs": [
        {
          "output_type": "execute_result",
          "data": {
            "text/plain": [
              "<Axes: >"
            ]
          },
          "metadata": {},
          "execution_count": 53
        },
        {
          "output_type": "display_data",
          "data": {
            "text/plain": [
              "<Figure size 1200x300 with 3 Axes>"
            ],
            "image/png": "[encoded data removed]"
          },
          "metadata": {}
        }
      ]
    },
    {
      "cell_type": "code",
      "source": [
        "recuentos = {}\n",
        "\n",
        "for columna in ventas.columns:\n",
        "    recuento = ventas[columna].value_counts()\n",
        "    recuentos[columna] = recuento\n",
        "    print(f\"Recuento de categorías para la columna '{columna}':\")\n",
        "    print(recuento)\n",
        "    print()\n",
        "    print()\n",
        "    print()"
      ],
      "metadata": {
        "colab": {
          "base_uri": "https://localhost:8080/"
        },
        "id": "LRsCzFAM1wJP",
        "outputId": "fa353519-2133-4d4d-cfeb-47672e819c4c"
      },
      "execution_count": null,
      "outputs": [
        {
          "output_type": "stream",
          "name": "stdout",
          "text": [
            "Recuento de categorías para la columna 'ID_VENDEDOR':\n",
            "f679b20b02309cab33658571f0c8da237f57f732ab96978386a95c2776f07c21    1667\n",
            "ec21dabdae55fb2168ff9b225db59e98b4731306282cc8314d6b0a39b0cd69b5    1428\n",
            "c8237c3a8f089f0e8d5f47fe38f34fba1091868d1f64b3748970603e2d2c3f60    1291\n",
            "ab4757eac54ed54acd482d387ec67488d3df1f4e6e9ef3d2d4797ebd242b7498    1285\n",
            "c7c203782eda1914c60d9dcf10dc4756b5f654a49688b5bf5c955073c8990872    1263\n",
            "                                                                    ... \n",
            "7317af93e9c784f04b8a262ce46596e498cdcad89ff4f964c553ef259655c63f       1\n",
            "d8b1096b82fba7ff56972a2fc91677ea8369c0c2cfafbe642700a265eec80ec8       1\n",
            "56a99357adce2fd526e355a9cbbebe1f7d48d02be4ad57a59c233c140ad3c5fe       1\n",
            "0ad1ebdd5ba13d7595fb4a9816559a194cf30b3d59685def1e1c4bc389d328b5       1\n",
            "527516369108233076b79ec72deacb04b450a5a58c74191bc1a3ee733d056ab0       1\n",
            "Name: ID_VENDEDOR, Length: 3209, dtype: int64\n",
            "\n",
            "\n",
            "\n",
            "Recuento de categorías para la columna 'INSCRIPCION':\n",
            "9043011028    1667\n",
            "9042454829    1291\n",
            "9042481399    1285\n",
            "9042481894    1263\n",
            "250047380     1189\n",
            "              ... \n",
            "280357014        1\n",
            "9019515710       1\n",
            "286586627        1\n",
            "285204917        1\n",
            "9044778551       1\n",
            "Name: INSCRIPCION, Length: 3345, dtype: int64\n",
            "\n",
            "\n",
            "\n",
            "Recuento de categorías para la columna 'AÑO':\n",
            "2021    128115\n",
            "2020    121527\n",
            "2019    117069\n",
            "2022     64795\n",
            "Name: AÑO, dtype: int64\n",
            "\n",
            "\n",
            "\n",
            "Recuento de categorías para la columna 'MES':\n",
            "6     41267\n",
            "5     41128\n",
            "3     41032\n",
            "1     41028\n",
            "2     41013\n",
            "4     40967\n",
            "11    31002\n",
            "12    30961\n",
            "10    30914\n",
            "9     30838\n",
            "8     30727\n",
            "7     30629\n",
            "Name: MES, dtype: int64\n",
            "\n",
            "\n",
            "\n",
            "Recuento de categorías para la columna 'CATEGORIA':\n",
            "COMERCIO AL POR MAYOR Y AL POR MENOR; REPARACION DE VEHÍCULOS AUTOMOTORES Y MOTOCICLETAS    314429\n",
            "COMERCIO AL POR MAYOR Y AL POR MENOR; REPARACION DE VEHÍCULOS AUTOMOTORES Y MOTO            116994\n",
            "COMERCIO POR MENOR                                                                              32\n",
            "COMERCIO POR MAYOR                                                                              28\n",
            "SERVICIOS PERSONALES Y DE LOS HOGARES                                                           23\n",
            "Name: CATEGORIA, dtype: int64\n",
            "\n",
            "\n",
            "\n",
            "Recuento de categorías para la columna 'DEPOSITO':\n",
            "469090     22497\n",
            "461099     13624\n",
            "466932     13457\n",
            "462131     11381\n",
            "473001     11213\n",
            "           ...  \n",
            "465500         8\n",
            "476320         8\n",
            "477210         5\n",
            "6120060        4\n",
            "6290002        1\n",
            "Name: DEPOSITO, Length: 241, dtype: int64\n",
            "\n",
            "\n",
            "\n",
            "Recuento de categorías para la columna 'DESCRIPCION_CATEGORIA':\n",
            "Venta al por mayor de mercancías n.c.p.                                                                 22497\n",
            "Venta al por mayor en comisión o consignación de mercaderías n.c.p.                                     13624\n",
            "Venta al por mayor de abonos, fertilizantes y plaguicidas                                               13457\n",
            "Venta al por mayor de cereales (incluye arroz), oleaginosas y forrajeras excepto semillas               11381\n",
            "Venta al por menor de combustible para vehículos automotores y motocicletas, excepto en comisión        11213\n",
            "                                                                                                        ...  \n",
            "Venta al por mayor de vehículos, equipos y máquinas para el transporte ferroviario, aéreo y de naveg        8\n",
            "Venta al por menor de armas, artículos para la caza y pesca                                                 8\n",
            "Venta al por menor de artículos de talabartería y artículos regionales                                      5\n",
            "VENTA DE PRODUCTOS ALIMENTICIOS NO CLASIFICADOS EN OTRA                                                     4\n",
            "VENTA DE EQUIPOS DE COMPUTACION Y SUS ACCESORIOS (INCLUY                                                    1\n",
            "Name: DESCRIPCION_CATEGORIA, Length: 245, dtype: int64\n",
            "\n",
            "\n",
            "\n",
            "Recuento de categorías para la columna 'TOTAL_VENTAS':\n",
            "0.00             181058\n",
            "0.01                262\n",
            "1.00                 58\n",
            "3,000.00             24\n",
            "467,389.60           23\n",
            "                  ...  \n",
            "553,673.30            1\n",
            "4,221,187.09          1\n",
            "11,934,656.05         1\n",
            "1,110,652.00          1\n",
            "16,127,232.09         1\n",
            "Name: TOTAL_VENTAS, Length: 248974, dtype: int64\n",
            "\n",
            "\n",
            "\n",
            "Recuento de categorías para la columna 'PORCENTAJE_COMISION_EMPRESA':\n",
            "4.75     83738\n",
            "5.00     60980\n",
            "4.00     36069\n",
            "0.05     35059\n",
            "0.05     24057\n",
            "         ...  \n",
            "3.85         6\n",
            "5.75         4\n",
            "10.50        4\n",
            "7.00         2\n",
            "4.50         1\n",
            "Name: PORCENTAJE_COMISION_EMPRESA, Length: 89, dtype: int64\n",
            "\n",
            "\n",
            "\n",
            "Recuento de categorías para la columna 'COMISION_EMPRESA':\n",
            "0.00          183486\n",
            "0.03              42\n",
            "23,369.48         24\n",
            "1,590.00          20\n",
            "120.00            12\n",
            "               ...  \n",
            "2,591.17           1\n",
            "485.26             1\n",
            "6,321.28           1\n",
            "276.72             1\n",
            "806,361.60         1\n",
            "Name: COMISION_EMPRESA, Length: 244284, dtype: int64\n",
            "\n",
            "\n",
            "\n",
            "Recuento de categorías para la columna 'TRATAMIENTO_FISCAL':\n",
            "Normal               183610\n",
            "Alícuota agravada     86271\n",
            "0                     81696\n",
            "0.0                   29499\n",
            "Especial 1             5693\n",
            "3                      4178\n",
            "Especial 2             4163\n",
            "Exento/Desgravado      2051\n",
            "3.0                    1681\n",
            "Minorista              1309\n",
            "Alícuota reducida      1129\n",
            "Especial 4              742\n",
            "Especial 3              624\n",
            "1                       592\n",
            "1.0                     193\n",
            "Mera Compra             105\n",
            "2.0                       2\n",
            "Name: TRATAMIENTO_FISCAL, dtype: int64\n",
            "\n",
            "\n",
            "\n",
            "Recuento de categorías para la columna 'DESC_TRATAMIENTO_FISCAL':\n",
            "Normal                     111195\n",
            "Otro Tratamiento Fiscal      5859\n",
            "Exento/Desgravado             785\n",
            "Minorista                       2\n",
            "Name: DESC_TRATAMIENTO_FISCAL, dtype: int64\n",
            "\n",
            "\n",
            "\n",
            "Recuento de categorías para la columna 'TRATAMIENTO_DIFERNCIAL':\n",
            "Artículo 21         28611\n",
            "Artículo 20         15268\n",
            "Artículo 19 y 20     7695\n",
            "Artículo 22          6780\n",
            "Artículo 16          6467\n",
            "Artículo 18          5885\n",
            "Artículo 34          5430\n",
            "Artículo 19          3975\n",
            "Artículo 31          1941\n",
            "Artículo 17           610\n",
            "Artículo 28           396\n",
            "Name: TRATAMIENTO_DIFERNCIAL, dtype: int64\n",
            "\n",
            "\n",
            "\n",
            "Recuento de categorías para la columna 'CM04':\n",
            "Si    42\n",
            "Name: CM04, dtype: int64\n",
            "\n",
            "\n",
            "\n",
            "Recuento de categorías para la columna 'CATEGORIA (Ajustado)':\n",
            "COMERCIO AL POR MAYOR Y AL POR MENOR; REPARACION DE VEHÍCULOS AUTOMOTORES Y MOTOCICLETAS    431506\n",
            "Name: CATEGORIA (Ajustado), dtype: int64\n",
            "\n",
            "\n",
            "\n",
            "Recuento de categorías para la columna 'SUB-CATEGORIA':\n",
            "Venta de Artículos, productos, accesorios, etc de diversos materiales              140283\n",
            "Venta de Productos Alimenticios, Bebidas, Lácteos y afines                          55776\n",
            "Venta en Comisión, Consignación o Intermediación de Productos Varios                46512\n",
            "Venta de Autos, Camionetas, Motos, y Afines                                         23521\n",
            "Venta de Semillas, Fertilizantes, Granos y afines                                   23285\n",
            "Venta de Combustibles (Incluye tmb gas, carbón, leña, etc)                          22049\n",
            "Venta de Productos Pecuarios, Veterinarios y similares                              21634\n",
            "Venta de Productos farmacéuticos, de perfumería, cosméticos y similares             17962\n",
            "Venta de Combustibles Ley 23966 (Incluye tmb gas, carbón, leña, etc)                16388\n",
            "Venta de Cereales y afines                                                          11381\n",
            "Venta en Comisión, Consignación o Intermediación de Cereales                        10890\n",
            "Supermercados, Hipermercados, Kioscos y afines                                      10484\n",
            "Instalación, Mantenimiento, Reparación, etc de productos varios                      8080\n",
            "Acopio de Cereales, Semillas, Fertilizantes, Granos y afines                         6556\n",
            "Venta de Combustibles para reventa (Incluye tmb gas, carbón, leña, etc)              5568\n",
            "Cigarrillos, tabacos y afines                                                        4817\n",
            "Venta en Comisión, Consignación o Intermediación de Ganado                           2453\n",
            "Venta de Combustibles de Producción Propia (Incluye tmb gas, carbón, leña, etc)      1282\n",
            "Venta no realizada en Establecimientos (si en Puestos móviles)                       1156\n",
            "Venta por Correo, Internet, tv, etc                                                   996\n",
            "Fraccionamiento y distribución de gas licuado                                         433\n",
            "Name: SUB-CATEGORIA, dtype: int64\n",
            "\n",
            "\n",
            "\n",
            "Recuento de categorías para la columna 'NOMBRE':\n",
            "b1ccd106f41645af33abb71ae22795538722ff64dfc00ba0648f08da873a7885    1667\n",
            "2b4d09f9300910518b29d969464e5803e116f0269ccc1aed01b78b26f488d996    1428\n",
            "647e28b66d0645b67f813f21e60bf8e4b0e5d6398bf6a76f7c809a73004d69d7    1291\n",
            "6756ab2659995f2313e62ed20b3b25da8095e9bdfa4d27446abdf192d0d033c2    1285\n",
            "513f60ed55af2c96997fe4705e189ac3fdcee06b772f1603e50b54e46499e51c    1263\n",
            "                                                                    ... \n",
            "dda30d6b00cc5cdebfad7badcac8ffb489b669405c95a2b423336a72ae538080       1\n",
            "4d6b6801ab34359dbb246b213038649d190d46de0507be27476dde8520118ad5       1\n",
            "1a6e90e74b12825b25d0e6e1687b9ff2d84bd1d6a1e3e377c6a79ccd9136f74f       1\n",
            "fd1b3934da7e1178417e72f4a96aa19d67b6cbcef75ec856e6655818406c28c1       1\n",
            "d25fc2baad3ff65d7c99c34808bb5abb783c49eaf3b34f2967b08753060bdf35       1\n",
            "Name: NOMBRE, Length: 3199, dtype: int64\n",
            "\n",
            "\n",
            "\n",
            "Recuento de categorías para la columna 'OMEGA':\n",
            "1    431506\n",
            "Name: OMEGA, dtype: int64\n",
            "\n",
            "\n",
            "\n",
            "Recuento de categorías para la columna 'MODELO':\n",
            "0    430115\n",
            "1      1391\n",
            "Name: MODELO, dtype: int64\n",
            "\n",
            "\n",
            "\n"
          ]
        }
      ]
    },
    {
      "cell_type": "markdown",
      "source": [
        "\n",
        "\n",
        "En base a lo visto hasta aquí, se podría prescindir de las variables \"CATEGORIA\" y \"DESCRIPCION_CATEGORIA\" (superadas por \"CATEGORIA (Ajustado)\" y \"SUB-CATEGORIA\", respectivamente).\n",
        "\n",
        "También se podría prescindir de la variable \"OMEGA\", por no aportar información relevante (es constante).\n",
        "\n",
        "Al igual que con \"CATEGORIA (Ajustado)\""
      ],
      "metadata": {
        "id": "OvAK1ET55A_W"
      }
    },
    {
      "cell_type": "code",
      "source": [
        "ventas_clean = ventas.drop(['CATEGORIA', 'DESCRIPCION_CATEGORIA', 'OMEGA', 'CATEGORIA (Ajustado)'], axis=1).copy()\n",
        "ventas_clean.head()"
      ],
      "metadata": {
        "colab": {
          "base_uri": "https://localhost:8080/",
          "height": 635
        },
        "id": "ffxTDDPC72sV",
        "outputId": "8906d989-0685-4b26-cc04-05b247e8a939"
      },
      "execution_count": null,
      "outputs": [
        {
          "output_type": "execute_result",
          "data": {
            "text/plain": [
              "                                         ID_VENDEDOR  INSCRIPCION   AÑO  MES  \\\n",
              "0  0520ed45f48b92cf903130d467021c242be8045cfed4ab...    270417671  2019    1   \n",
              "1  95b704f66684b2101d104491983c7cf88455b04d4ecf8f...    270118305  2019    1   \n",
              "2  95b704f66684b2101d104491983c7cf88455b04d4ecf8f...    270118305  2019    1   \n",
              "3  95b704f66684b2101d104491983c7cf88455b04d4ecf8f...    270118305  2019    1   \n",
              "4  1b6ef2976d38132a1df85b4199dcddd0158ab42c957184...    281129121  2019    1   \n",
              "\n",
              "   DEPOSITO  TOTAL_VENTAS  PORCENTAJE_COMISION_EMPRESA  COMISION_EMPRESA  \\\n",
              "0    469090     14,622.16                         0.03            409.42   \n",
              "1    464129     62,477.00                         0.04          2,499.08   \n",
              "2    475190  3,373,941.00                         0.04        134,957.64   \n",
              "3    477190    332,660.00                         0.04         13,306.40   \n",
              "4    469090    695,685.00                         0.04         27,827.40   \n",
              "\n",
              "  TRATAMIENTO_FISCAL DESC_TRATAMIENTO_FISCAL TRATAMIENTO_DIFERNCIAL CM04  \\\n",
              "0               0.00                  Normal                    NaN  NaN   \n",
              "1               0.00                  Normal                    NaN  NaN   \n",
              "2               0.00                  Normal                    NaN  NaN   \n",
              "3               0.00                  Normal                    NaN  NaN   \n",
              "4               0.00                  Normal                    NaN  NaN   \n",
              "\n",
              "                                       SUB-CATEGORIA  \\\n",
              "0  Venta de Artículos, productos, accesorios, etc...   \n",
              "1  Venta de Artículos, productos, accesorios, etc...   \n",
              "2  Venta de Artículos, productos, accesorios, etc...   \n",
              "3  Venta de Artículos, productos, accesorios, etc...   \n",
              "4  Venta de Artículos, productos, accesorios, etc...   \n",
              "\n",
              "                                              NOMBRE  MODELO  \n",
              "0  d7fe2144f50da08790400f3fc5217b4a4c6042e05b5f2f...       0  \n",
              "1  fbadfc9f6105a8792048a825deb9801fa54106e21e8283...       0  \n",
              "2  fbadfc9f6105a8792048a825deb9801fa54106e21e8283...       0  \n",
              "3  fbadfc9f6105a8792048a825deb9801fa54106e21e8283...       0  \n",
              "4  4c369e674e00fd385f3009dbc3825b8681112283301620...       0  "
            ],
            "text/html": [
              "\n",
              "  <div id=\"df-247eaa21-4324-467b-9d51-201b59e6cc5e\">\n",
              "    <div class=\"colab-df-container\">\n",
              "      <div>\n",
              "<style scoped>\n",
              "    .dataframe tbody tr th:only-of-type {\n",
              "        vertical-align: middle;\n",
              "    }\n",
              "\n",
              "    .dataframe tbody tr th {\n",
              "        vertical-align: top;\n",
              "    }\n",
              "\n",
              "    .dataframe thead th {\n",
              "        text-align: right;\n",
              "    }\n",
              "</style>\n",
              "<table border=\"1\" class=\"dataframe\">\n",
              "  <thead>\n",
              "    <tr style=\"text-align: right;\">\n",
              "      <th></th>\n",
              "      <th>ID_VENDEDOR</th>\n",
              "      <th>INSCRIPCION</th>\n",
              "      <th>AÑO</th>\n",
              "      <th>MES</th>\n",
              "      <th>DEPOSITO</th>\n",
              "      <th>TOTAL_VENTAS</th>\n",
              "      <th>PORCENTAJE_COMISION_EMPRESA</th>\n",
              "      <th>COMISION_EMPRESA</th>\n",
              "      <th>TRATAMIENTO_FISCAL</th>\n",
              "      <th>DESC_TRATAMIENTO_FISCAL</th>\n",
              "      <th>TRATAMIENTO_DIFERNCIAL</th>\n",
              "      <th>CM04</th>\n",
              "      <th>SUB-CATEGORIA</th>\n",
              "      <th>NOMBRE</th>\n",
              "      <th>MODELO</th>\n",
              "    </tr>\n",
              "  </thead>\n",
              "  <tbody>\n",
              "    <tr>\n",
              "      <th>0</th>\n",
              "      <td>0520ed45f48b92cf903130d467021c242be8045cfed4ab...</td>\n",
              "      <td>270417671</td>\n",
              "      <td>2019</td>\n",
              "      <td>1</td>\n",
              "      <td>469090</td>\n",
              "      <td>14,622.16</td>\n",
              "      <td>0.03</td>\n",
              "      <td>409.42</td>\n",
              "      <td>0.00</td>\n",
              "      <td>Normal</td>\n",
              "      <td>NaN</td>\n",
              "      <td>NaN</td>\n",
              "      <td>Venta de Artículos, productos, accesorios, etc...</td>\n",
              "      <td>d7fe2144f50da08790400f3fc5217b4a4c6042e05b5f2f...</td>\n",
              "      <td>0</td>\n",
              "    </tr>\n",
              "    <tr>\n",
              "      <th>1</th>\n",
              "      <td>95b704f66684b2101d104491983c7cf88455b04d4ecf8f...</td>\n",
              "      <td>270118305</td>\n",
              "      <td>2019</td>\n",
              "      <td>1</td>\n",
              "      <td>464129</td>\n",
              "      <td>62,477.00</td>\n",
              "      <td>0.04</td>\n",
              "      <td>2,499.08</td>\n",
              "      <td>0.00</td>\n",
              "      <td>Normal</td>\n",
              "      <td>NaN</td>\n",
              "      <td>NaN</td>\n",
              "      <td>Venta de Artículos, productos, accesorios, etc...</td>\n",
              "      <td>fbadfc9f6105a8792048a825deb9801fa54106e21e8283...</td>\n",
              "      <td>0</td>\n",
              "    </tr>\n",
              "    <tr>\n",
              "      <th>2</th>\n",
              "      <td>95b704f66684b2101d104491983c7cf88455b04d4ecf8f...</td>\n",
              "      <td>270118305</td>\n",
              "      <td>2019</td>\n",
              "      <td>1</td>\n",
              "      <td>475190</td>\n",
              "      <td>3,373,941.00</td>\n",
              "      <td>0.04</td>\n",
              "      <td>134,957.64</td>\n",
              "      <td>0.00</td>\n",
              "      <td>Normal</td>\n",
              "      <td>NaN</td>\n",
              "      <td>NaN</td>\n",
              "      <td>Venta de Artículos, productos, accesorios, etc...</td>\n",
              "      <td>fbadfc9f6105a8792048a825deb9801fa54106e21e8283...</td>\n",
              "      <td>0</td>\n",
              "    </tr>\n",
              "    <tr>\n",
              "      <th>3</th>\n",
              "      <td>95b704f66684b2101d104491983c7cf88455b04d4ecf8f...</td>\n",
              "      <td>270118305</td>\n",
              "      <td>2019</td>\n",
              "      <td>1</td>\n",
              "      <td>477190</td>\n",
              "      <td>332,660.00</td>\n",
              "      <td>0.04</td>\n",
              "      <td>13,306.40</td>\n",
              "      <td>0.00</td>\n",
              "      <td>Normal</td>\n",
              "      <td>NaN</td>\n",
              "      <td>NaN</td>\n",
              "      <td>Venta de Artículos, productos, accesorios, etc...</td>\n",
              "      <td>fbadfc9f6105a8792048a825deb9801fa54106e21e8283...</td>\n",
              "      <td>0</td>\n",
              "    </tr>\n",
              "    <tr>\n",
              "      <th>4</th>\n",
              "      <td>1b6ef2976d38132a1df85b4199dcddd0158ab42c957184...</td>\n",
              "      <td>281129121</td>\n",
              "      <td>2019</td>\n",
              "      <td>1</td>\n",
              "      <td>469090</td>\n",
              "      <td>695,685.00</td>\n",
              "      <td>0.04</td>\n",
              "      <td>27,827.40</td>\n",
              "      <td>0.00</td>\n",
              "      <td>Normal</td>\n",
              "      <td>NaN</td>\n",
              "      <td>NaN</td>\n",
              "      <td>Venta de Artículos, productos, accesorios, etc...</td>\n",
              "      <td>4c369e674e00fd385f3009dbc3825b8681112283301620...</td>\n",
              "      <td>0</td>\n",
              "    </tr>\n",
              "  </tbody>\n",
              "</table>\n",
              "</div>\n",
              "      <button class=\"colab-df-convert\" onclick=\"convertToInteractive('df-247eaa21-4324-467b-9d51-201b59e6cc5e')\"\n",
              "              title=\"Convert this dataframe to an interactive table.\"\n",
              "              style=\"display:none;\">\n",
              "        \n",
              "  <svg xmlns=\"http://www.w3.org/2000/svg\" height=\"24px\"viewBox=\"0 0 24 24\"\n",
              "       width=\"24px\">\n",
              "    <path d=\"M0 0h24v24H0V0z\" fill=\"none\"/>\n",
              "    <path d=\"M18.56 5.44l.94 2.06.94-2.06 2.06-.94-2.06-.94-.94-2.06-.94 2.06-2.06.94zm-11 1L8.5 8.5l.94-2.06 2.06-.94-2.06-.94L8.5 2.5l-.94 2.06-2.06.94zm10 10l.94 2.06.94-2.06 2.06-.94-2.06-.94-.94-2.06-.94 2.06-2.06.94z\"/><path d=\"M17.41 7.96l-1.37-1.37c-.4-.4-.92-.59-1.43-.59-.52 0-1.04.2-1.43.59L10.3 9.45l-7.72 7.72c-.78.78-.78 2.05 0 2.83L4 21.41c.39.39.9.59 1.41.59.51 0 1.02-.2 1.41-.59l7.78-7.78 2.81-2.81c.8-.78.8-2.07 0-2.86zM5.41 20L4 18.59l7.72-7.72 1.47 1.35L5.41 20z\"/>\n",
              "  </svg>\n",
              "      </button>\n",
              "      \n",
              "  <style>\n",
              "    .colab-df-container {\n",
              "      display:flex;\n",
              "      flex-wrap:wrap;\n",
              "      gap: 12px;\n",
              "    }\n",
              "\n",
              "    .colab-df-convert {\n",
              "      background-color: #E8F0FE;\n",
              "      border: none;\n",
              "      border-radius: 50%;\n",
              "      cursor: pointer;\n",
              "      display: none;\n",
              "      fill: #1967D2;\n",
              "      height: 32px;\n",
              "      padding: 0 0 0 0;\n",
              "      width: 32px;\n",
              "    }\n",
              "\n",
              "    .colab-df-convert:hover {\n",
              "      background-color: #E2EBFA;\n",
              "      box-shadow: 0px 1px 2px rgba(60, 64, 67, 0.3), 0px 1px 3px 1px rgba(60, 64, 67, 0.15);\n",
              "      fill: #174EA6;\n",
              "    }\n",
              "\n",
              "    [theme=dark] .colab-df-convert {\n",
              "      background-color: #3B4455;\n",
              "      fill: #D2E3FC;\n",
              "    }\n",
              "\n",
              "    [theme=dark] .colab-df-convert:hover {\n",
              "      background-color: #434B5C;\n",
              "      box-shadow: 0px 1px 3px 1px rgba(0, 0, 0, 0.15);\n",
              "      filter: drop-shadow(0px 1px 2px rgba(0, 0, 0, 0.3));\n",
              "      fill: #FFFFFF;\n",
              "    }\n",
              "  </style>\n",
              "\n",
              "      <script>\n",
              "        const buttonEl =\n",
              "          document.querySelector('#df-247eaa21-4324-467b-9d51-201b59e6cc5e button.colab-df-convert');\n",
              "        buttonEl.style.display =\n",
              "          google.colab.kernel.accessAllowed ? 'block' : 'none';\n",
              "\n",
              "        async function convertToInteractive(key) {\n",
              "          const element = document.querySelector('#df-247eaa21-4324-467b-9d51-201b59e6cc5e');\n",
              "          const dataTable =\n",
              "            await google.colab.kernel.invokeFunction('convertToInteractive',\n",
              "                                                     [key], {});\n",
              "          if (!dataTable) return;\n",
              "\n",
              "          const docLinkHtml = 'Like what you see? Visit the ' +\n",
              "            '<a target=\"_blank\" href=https://colab.research.google.com/notebooks/data_table.ipynb>data table notebook</a>'\n",
              "            + ' to learn more about interactive tables.';\n",
              "          element.innerHTML = '';\n",
              "          dataTable['output_type'] = 'display_data';\n",
              "          await google.colab.output.renderOutput(dataTable, element);\n",
              "          const docLink = document.createElement('div');\n",
              "          docLink.innerHTML = docLinkHtml;\n",
              "          element.appendChild(docLink);\n",
              "        }\n",
              "      </script>\n",
              "    </div>\n",
              "  </div>\n",
              "  "
            ]
          },
          "metadata": {},
          "execution_count": 55
        }
      ]
    },
    {
      "cell_type": "code",
      "source": [
        "ventas_clean['FECHA'] = pd.to_datetime(ventas_clean['MES'].astype(str) + '-' + ventas_clean['AÑO'].astype(str), format='%m-%Y').dt.to_period('M')\n",
        "ventas_clean.head()"
      ],
      "metadata": {
        "colab": {
          "base_uri": "https://localhost:8080/",
          "height": 635
        },
        "id": "T78ErjlB8bYt",
        "outputId": "22107b7b-84a2-4800-948d-43b46db07185"
      },
      "execution_count": null,
      "outputs": [
        {
          "output_type": "execute_result",
          "data": {
            "text/plain": [
              "                                         ID_VENDEDOR  INSCRIPCION   AÑO  MES  \\\n",
              "0  0520ed45f48b92cf903130d467021c242be8045cfed4ab...    270417671  2019    1   \n",
              "1  95b704f66684b2101d104491983c7cf88455b04d4ecf8f...    270118305  2019    1   \n",
              "2  95b704f66684b2101d104491983c7cf88455b04d4ecf8f...    270118305  2019    1   \n",
              "3  95b704f66684b2101d104491983c7cf88455b04d4ecf8f...    270118305  2019    1   \n",
              "4  1b6ef2976d38132a1df85b4199dcddd0158ab42c957184...    281129121  2019    1   \n",
              "\n",
              "   DEPOSITO  TOTAL_VENTAS  PORCENTAJE_COMISION_EMPRESA  COMISION_EMPRESA  \\\n",
              "0    469090     14,622.16                         0.03            409.42   \n",
              "1    464129     62,477.00                         0.04          2,499.08   \n",
              "2    475190  3,373,941.00                         0.04        134,957.64   \n",
              "3    477190    332,660.00                         0.04         13,306.40   \n",
              "4    469090    695,685.00                         0.04         27,827.40   \n",
              "\n",
              "  TRATAMIENTO_FISCAL DESC_TRATAMIENTO_FISCAL TRATAMIENTO_DIFERNCIAL CM04  \\\n",
              "0               0.00                  Normal                    NaN  NaN   \n",
              "1               0.00                  Normal                    NaN  NaN   \n",
              "2               0.00                  Normal                    NaN  NaN   \n",
              "3               0.00                  Normal                    NaN  NaN   \n",
              "4               0.00                  Normal                    NaN  NaN   \n",
              "\n",
              "                                       SUB-CATEGORIA  \\\n",
              "0  Venta de Artículos, productos, accesorios, etc...   \n",
              "1  Venta de Artículos, productos, accesorios, etc...   \n",
              "2  Venta de Artículos, productos, accesorios, etc...   \n",
              "3  Venta de Artículos, productos, accesorios, etc...   \n",
              "4  Venta de Artículos, productos, accesorios, etc...   \n",
              "\n",
              "                                              NOMBRE  MODELO    FECHA  \n",
              "0  d7fe2144f50da08790400f3fc5217b4a4c6042e05b5f2f...       0  2019-01  \n",
              "1  fbadfc9f6105a8792048a825deb9801fa54106e21e8283...       0  2019-01  \n",
              "2  fbadfc9f6105a8792048a825deb9801fa54106e21e8283...       0  2019-01  \n",
              "3  fbadfc9f6105a8792048a825deb9801fa54106e21e8283...       0  2019-01  \n",
              "4  4c369e674e00fd385f3009dbc3825b8681112283301620...       0  2019-01  "
            ],
            "text/html": [
              "\n",
              "  <div id=\"df-a6ad5d63-de80-44bd-a529-91c7dcf60a16\">\n",
              "    <div class=\"colab-df-container\">\n",
              "      <div>\n",
              "<style scoped>\n",
              "    .dataframe tbody tr th:only-of-type {\n",
              "        vertical-align: middle;\n",
              "    }\n",
              "\n",
              "    .dataframe tbody tr th {\n",
              "        vertical-align: top;\n",
              "    }\n",
              "\n",
              "    .dataframe thead th {\n",
              "        text-align: right;\n",
              "    }\n",
              "</style>\n",
              "<table border=\"1\" class=\"dataframe\">\n",
              "  <thead>\n",
              "    <tr style=\"text-align: right;\">\n",
              "      <th></th>\n",
              "      <th>ID_VENDEDOR</th>\n",
              "      <th>INSCRIPCION</th>\n",
              "      <th>AÑO</th>\n",
              "      <th>MES</th>\n",
              "      <th>DEPOSITO</th>\n",
              "      <th>TOTAL_VENTAS</th>\n",
              "      <th>PORCENTAJE_COMISION_EMPRESA</th>\n",
              "      <th>COMISION_EMPRESA</th>\n",
              "      <th>TRATAMIENTO_FISCAL</th>\n",
              "      <th>DESC_TRATAMIENTO_FISCAL</th>\n",
              "      <th>TRATAMIENTO_DIFERNCIAL</th>\n",
              "      <th>CM04</th>\n",
              "      <th>SUB-CATEGORIA</th>\n",
              "      <th>NOMBRE</th>\n",
              "      <th>MODELO</th>\n",
              "      <th>FECHA</th>\n",
              "    </tr>\n",
              "  </thead>\n",
              "  <tbody>\n",
              "    <tr>\n",
              "      <th>0</th>\n",
              "      <td>0520ed45f48b92cf903130d467021c242be8045cfed4ab...</td>\n",
              "      <td>270417671</td>\n",
              "      <td>2019</td>\n",
              "      <td>1</td>\n",
              "      <td>469090</td>\n",
              "      <td>14,622.16</td>\n",
              "      <td>0.03</td>\n",
              "      <td>409.42</td>\n",
              "      <td>0.00</td>\n",
              "      <td>Normal</td>\n",
              "      <td>NaN</td>\n",
              "      <td>NaN</td>\n",
              "      <td>Venta de Artículos, productos, accesorios, etc...</td>\n",
              "      <td>d7fe2144f50da08790400f3fc5217b4a4c6042e05b5f2f...</td>\n",
              "      <td>0</td>\n",
              "      <td>2019-01</td>\n",
              "    </tr>\n",
              "    <tr>\n",
              "      <th>1</th>\n",
              "      <td>95b704f66684b2101d104491983c7cf88455b04d4ecf8f...</td>\n",
              "      <td>270118305</td>\n",
              "      <td>2019</td>\n",
              "      <td>1</td>\n",
              "      <td>464129</td>\n",
              "      <td>62,477.00</td>\n",
              "      <td>0.04</td>\n",
              "      <td>2,499.08</td>\n",
              "      <td>0.00</td>\n",
              "      <td>Normal</td>\n",
              "      <td>NaN</td>\n",
              "      <td>NaN</td>\n",
              "      <td>Venta de Artículos, productos, accesorios, etc...</td>\n",
              "      <td>fbadfc9f6105a8792048a825deb9801fa54106e21e8283...</td>\n",
              "      <td>0</td>\n",
              "      <td>2019-01</td>\n",
              "    </tr>\n",
              "    <tr>\n",
              "      <th>2</th>\n",
              "      <td>95b704f66684b2101d104491983c7cf88455b04d4ecf8f...</td>\n",
              "      <td>270118305</td>\n",
              "      <td>2019</td>\n",
              "      <td>1</td>\n",
              "      <td>475190</td>\n",
              "      <td>3,373,941.00</td>\n",
              "      <td>0.04</td>\n",
              "      <td>134,957.64</td>\n",
              "      <td>0.00</td>\n",
              "      <td>Normal</td>\n",
              "      <td>NaN</td>\n",
              "      <td>NaN</td>\n",
              "      <td>Venta de Artículos, productos, accesorios, etc...</td>\n",
              "      <td>fbadfc9f6105a8792048a825deb9801fa54106e21e8283...</td>\n",
              "      <td>0</td>\n",
              "      <td>2019-01</td>\n",
              "    </tr>\n",
              "    <tr>\n",
              "      <th>3</th>\n",
              "      <td>95b704f66684b2101d104491983c7cf88455b04d4ecf8f...</td>\n",
              "      <td>270118305</td>\n",
              "      <td>2019</td>\n",
              "      <td>1</td>\n",
              "      <td>477190</td>\n",
              "      <td>332,660.00</td>\n",
              "      <td>0.04</td>\n",
              "      <td>13,306.40</td>\n",
              "      <td>0.00</td>\n",
              "      <td>Normal</td>\n",
              "      <td>NaN</td>\n",
              "      <td>NaN</td>\n",
              "      <td>Venta de Artículos, productos, accesorios, etc...</td>\n",
              "      <td>fbadfc9f6105a8792048a825deb9801fa54106e21e8283...</td>\n",
              "      <td>0</td>\n",
              "      <td>2019-01</td>\n",
              "    </tr>\n",
              "    <tr>\n",
              "      <th>4</th>\n",
              "      <td>1b6ef2976d38132a1df85b4199dcddd0158ab42c957184...</td>\n",
              "      <td>281129121</td>\n",
              "      <td>2019</td>\n",
              "      <td>1</td>\n",
              "      <td>469090</td>\n",
              "      <td>695,685.00</td>\n",
              "      <td>0.04</td>\n",
              "      <td>27,827.40</td>\n",
              "      <td>0.00</td>\n",
              "      <td>Normal</td>\n",
              "      <td>NaN</td>\n",
              "      <td>NaN</td>\n",
              "      <td>Venta de Artículos, productos, accesorios, etc...</td>\n",
              "      <td>4c369e674e00fd385f3009dbc3825b8681112283301620...</td>\n",
              "      <td>0</td>\n",
              "      <td>2019-01</td>\n",
              "    </tr>\n",
              "  </tbody>\n",
              "</table>\n",
              "</div>\n",
              "      <button class=\"colab-df-convert\" onclick=\"convertToInteractive('df-a6ad5d63-de80-44bd-a529-91c7dcf60a16')\"\n",
              "              title=\"Convert this dataframe to an interactive table.\"\n",
              "              style=\"display:none;\">\n",
              "        \n",
              "  <svg xmlns=\"http://www.w3.org/2000/svg\" height=\"24px\"viewBox=\"0 0 24 24\"\n",
              "       width=\"24px\">\n",
              "    <path d=\"M0 0h24v24H0V0z\" fill=\"none\"/>\n",
              "    <path d=\"M18.56 5.44l.94 2.06.94-2.06 2.06-.94-2.06-.94-.94-2.06-.94 2.06-2.06.94zm-11 1L8.5 8.5l.94-2.06 2.06-.94-2.06-.94L8.5 2.5l-.94 2.06-2.06.94zm10 10l.94 2.06.94-2.06 2.06-.94-2.06-.94-.94-2.06-.94 2.06-2.06.94z\"/><path d=\"M17.41 7.96l-1.37-1.37c-.4-.4-.92-.59-1.43-.59-.52 0-1.04.2-1.43.59L10.3 9.45l-7.72 7.72c-.78.78-.78 2.05 0 2.83L4 21.41c.39.39.9.59 1.41.59.51 0 1.02-.2 1.41-.59l7.78-7.78 2.81-2.81c.8-.78.8-2.07 0-2.86zM5.41 20L4 18.59l7.72-7.72 1.47 1.35L5.41 20z\"/>\n",
              "  </svg>\n",
              "      </button>\n",
              "      \n",
              "  <style>\n",
              "    .colab-df-container {\n",
              "      display:flex;\n",
              "      flex-wrap:wrap;\n",
              "      gap: 12px;\n",
              "    }\n",
              "\n",
              "    .colab-df-convert {\n",
              "      background-color: #E8F0FE;\n",
              "      border: none;\n",
              "      border-radius: 50%;\n",
              "      cursor: pointer;\n",
              "      display: none;\n",
              "      fill: #1967D2;\n",
              "      height: 32px;\n",
              "      padding: 0 0 0 0;\n",
              "      width: 32px;\n",
              "    }\n",
              "\n",
              "    .colab-df-convert:hover {\n",
              "      background-color: #E2EBFA;\n",
              "      box-shadow: 0px 1px 2px rgba(60, 64, 67, 0.3), 0px 1px 3px 1px rgba(60, 64, 67, 0.15);\n",
              "      fill: #174EA6;\n",
              "    }\n",
              "\n",
              "    [theme=dark] .colab-df-convert {\n",
              "      background-color: #3B4455;\n",
              "      fill: #D2E3FC;\n",
              "    }\n",
              "\n",
              "    [theme=dark] .colab-df-convert:hover {\n",
              "      background-color: #434B5C;\n",
              "      box-shadow: 0px 1px 3px 1px rgba(0, 0, 0, 0.15);\n",
              "      filter: drop-shadow(0px 1px 2px rgba(0, 0, 0, 0.3));\n",
              "      fill: #FFFFFF;\n",
              "    }\n",
              "  </style>\n",
              "\n",
              "      <script>\n",
              "        const buttonEl =\n",
              "          document.querySelector('#df-a6ad5d63-de80-44bd-a529-91c7dcf60a16 button.colab-df-convert');\n",
              "        buttonEl.style.display =\n",
              "          google.colab.kernel.accessAllowed ? 'block' : 'none';\n",
              "\n",
              "        async function convertToInteractive(key) {\n",
              "          const element = document.querySelector('#df-a6ad5d63-de80-44bd-a529-91c7dcf60a16');\n",
              "          const dataTable =\n",
              "            await google.colab.kernel.invokeFunction('convertToInteractive',\n",
              "                                                     [key], {});\n",
              "          if (!dataTable) return;\n",
              "\n",
              "          const docLinkHtml = 'Like what you see? Visit the ' +\n",
              "            '<a target=\"_blank\" href=https://colab.research.google.com/notebooks/data_table.ipynb>data table notebook</a>'\n",
              "            + ' to learn more about interactive tables.';\n",
              "          element.innerHTML = '';\n",
              "          dataTable['output_type'] = 'display_data';\n",
              "          await google.colab.output.renderOutput(dataTable, element);\n",
              "          const docLink = document.createElement('div');\n",
              "          docLink.innerHTML = docLinkHtml;\n",
              "          element.appendChild(docLink);\n",
              "        }\n",
              "      </script>\n",
              "    </div>\n",
              "  </div>\n",
              "  "
            ]
          },
          "metadata": {},
          "execution_count": 56
        }
      ]
    },
    {
      "cell_type": "code",
      "source": [
        "ventas_clean['FECHA'].dtypes"
      ],
      "metadata": {
        "colab": {
          "base_uri": "https://localhost:8080/"
        },
        "id": "PdFe8Fo35AbI",
        "outputId": "144de103-1580-4bae-80ce-308d884007a8"
      },
      "execution_count": null,
      "outputs": [
        {
          "output_type": "execute_result",
          "data": {
            "text/plain": [
              "period[M]"
            ]
          },
          "metadata": {},
          "execution_count": 57
        }
      ]
    },
    {
      "cell_type": "markdown",
      "source": [
        "*   Qué representa cada caso? Se trata de ventas, de ventas por mes, vendedores por mes?"
      ],
      "metadata": {
        "id": "znYgHYm37iId"
      }
    },
    {
      "cell_type": "code",
      "source": [
        "# Vamos a eliminar duplicados por ID_VENDEDOR y FECHA\n",
        "prueba1 = ventas_clean.drop_duplicates(subset=['ID_VENDEDOR', 'FECHA']).copy()\n",
        "print(len(prueba1))\n",
        "print(len(ventas_clean))"
      ],
      "metadata": {
        "colab": {
          "base_uri": "https://localhost:8080/"
        },
        "id": "4OU9pe9f58hc",
        "outputId": "3a2cf1f9-bc16-4599-9b99-478a2d853ea8"
      },
      "execution_count": null,
      "outputs": [
        {
          "output_type": "stream",
          "name": "stdout",
          "text": [
            "127951\n",
            "431506\n"
          ]
        }
      ]
    },
    {
      "cell_type": "code",
      "source": [
        "# Lo anterior implica que hay más de una observación para cada mes por vendedor. Probablemente cada caso represente operaciones de ventas individuales."
      ],
      "metadata": {
        "id": "ahmki6zi6tEr"
      },
      "execution_count": null,
      "outputs": []
    },
    {
      "cell_type": "markdown",
      "source": [
        "*   \"ID_VENDEDOR\" se corresponde con \"NOMBRE\"?"
      ],
      "metadata": {
        "id": "a-8d7KTA5rP_"
      }
    },
    {
      "cell_type": "code",
      "source": [
        "# Cuántos ID_VENDEDOR únicos hay?\n",
        "prueba2 = ventas_clean.drop_duplicates(subset='ID_VENDEDOR').copy()\n",
        "print(len(prueba2))"
      ],
      "metadata": {
        "colab": {
          "base_uri": "https://localhost:8080/"
        },
        "id": "b3gJjEWY8kWa",
        "outputId": "b4a6e402-1fb3-47d1-f974-c16244962f7f"
      },
      "execution_count": null,
      "outputs": [
        {
          "output_type": "stream",
          "name": "stdout",
          "text": [
            "3209\n"
          ]
        }
      ]
    },
    {
      "cell_type": "code",
      "source": [
        "# Cuántos NOMBRE únicos hay?\n",
        "prueba3 = ventas_clean.drop_duplicates(subset='NOMBRE').copy()\n",
        "print(len(prueba3))"
      ],
      "metadata": {
        "colab": {
          "base_uri": "https://localhost:8080/"
        },
        "id": "09MmM8Lq82ZR",
        "outputId": "ba24b2f9-18d9-4030-87ef-1021df44819d"
      },
      "execution_count": null,
      "outputs": [
        {
          "output_type": "stream",
          "name": "stdout",
          "text": [
            "3200\n"
          ]
        }
      ]
    },
    {
      "cell_type": "code",
      "source": [
        "# Implica que hay algunos ID_VENDEDOR que tienen el mismo NOMBRE"
      ],
      "metadata": {
        "id": "n-8hVPzf9YVl"
      },
      "execution_count": null,
      "outputs": []
    },
    {
      "cell_type": "code",
      "source": [
        "# Quizas se pueda eliminar la variabla NOMBRE"
      ],
      "metadata": {
        "id": "Xp_SOU7enLZa"
      },
      "execution_count": null,
      "outputs": []
    },
    {
      "cell_type": "markdown",
      "source": [
        "*   Cómo se relacionan TRATAMIENTO_FISCAL,\tDESC_TRATAMIENTO_FISCAL y\tTRATAMIENTO_DIFERNCIAL?\n"
      ],
      "metadata": {
        "id": "BGZTCW1PVDN4"
      }
    },
    {
      "cell_type": "code",
      "source": [
        "msno.bar(ventas_clean[['TRATAMIENTO_FISCAL', 'DESC_TRATAMIENTO_FISCAL', 'TRATAMIENTO_DIFERNCIAL']],figsize=(4, 3), sort=\"ascending\",fontsize=12, color='gray')"
      ],
      "metadata": {
        "colab": {
          "base_uri": "https://localhost:8080/",
          "height": 541
        },
        "id": "OsVDODCUVBxq",
        "outputId": "a6c28c7c-d275-4a47-fe84-8ebab3be3659"
      },
      "execution_count": null,
      "outputs": [
        {
          "output_type": "execute_result",
          "data": {
            "text/plain": [
              "<Axes: >"
            ]
          },
          "metadata": {},
          "execution_count": 64
        },
        {
          "output_type": "display_data",
          "data": {
            "text/plain": [
              "<Figure size 400x300 with 3 Axes>"
            ],
            "image/png": "[encoded data removed]"
          },
          "metadata": {}
        }
      ]
    },
    {
      "cell_type": "code",
      "source": [
        "# La variable con más casos es TRATAMIENTO_FISCAL"
      ],
      "metadata": {
        "id": "oQfWgjd8VB9u"
      },
      "execution_count": null,
      "outputs": []
    },
    {
      "cell_type": "code",
      "source": [
        "ventas_clean['TRATAMIENTO_FISCAL'].value_counts()"
      ],
      "metadata": {
        "colab": {
          "base_uri": "https://localhost:8080/"
        },
        "id": "SiRJdZnNVCBv",
        "outputId": "13efe386-defa-429c-f1e4-e6e353a5d679"
      },
      "execution_count": null,
      "outputs": [
        {
          "output_type": "execute_result",
          "data": {
            "text/plain": [
              "Normal               183610\n",
              "Alícuota agravada     86271\n",
              "0                     81696\n",
              "0.0                   29499\n",
              "Especial 1             5693\n",
              "3                      4178\n",
              "Especial 2             4163\n",
              "Exento/Desgravado      2051\n",
              "3.0                    1681\n",
              "Minorista              1309\n",
              "Alícuota reducida      1129\n",
              "Especial 4              742\n",
              "Especial 3              624\n",
              "1                       592\n",
              "1.0                     193\n",
              "Mera Compra             105\n",
              "2.0                       2\n",
              "Name: TRATAMIENTO_FISCAL, dtype: int64"
            ]
          },
          "metadata": {},
          "execution_count": 66
        }
      ]
    },
    {
      "cell_type": "code",
      "source": [
        "# Parece que asume valores enteros, floats y strings.\n",
        "# Pero acá se ve que los que parecen enteros, en realidad son strings\n",
        "ventas_clean['TRATAMIENTO_FISCAL'].unique()"
      ],
      "metadata": {
        "colab": {
          "base_uri": "https://localhost:8080/"
        },
        "id": "6nNZesQkVCGS",
        "outputId": "7fc71f16-ab63-4a42-ea4a-48c634f145dc"
      },
      "execution_count": null,
      "outputs": [
        {
          "output_type": "execute_result",
          "data": {
            "text/plain": [
              "array([0.0, 3.0, nan, 1.0, 2.0, '0', '3', '1', 'Normal', 'Especial 1',\n",
              "       'Minorista', 'Exento/Desgravado', 'Alícuota agravada',\n",
              "       'Alícuota reducida', 'Especial 2', 'Especial 4', 'Especial 3',\n",
              "       'Mera Compra'], dtype=object)"
            ]
          },
          "metadata": {},
          "execution_count": 67
        }
      ]
    },
    {
      "cell_type": "code",
      "source": [
        "# En primera instancia, se podrían forzar los floats hacia strings.\n",
        "ventas_clean['TRATAMIENTO_FISCAL'] = ventas_clean['TRATAMIENTO_FISCAL'].replace({0.0: '0', 3.0: '3', 2.0: '2', 1.0: '1'})"
      ],
      "metadata": {
        "id": "mV_rlB-jVCJy"
      },
      "execution_count": null,
      "outputs": []
    },
    {
      "cell_type": "code",
      "source": [
        "ventas_clean['TRATAMIENTO_FISCAL'].value_counts()"
      ],
      "metadata": {
        "colab": {
          "base_uri": "https://localhost:8080/"
        },
        "id": "KE9UdXAmVCNg",
        "outputId": "eb1ac4ef-7913-434f-d792-715e1d96f63e"
      },
      "execution_count": null,
      "outputs": [
        {
          "output_type": "execute_result",
          "data": {
            "text/plain": [
              "Normal               183610\n",
              "0                    111195\n",
              "Alícuota agravada     86271\n",
              "3                      5859\n",
              "Especial 1             5693\n",
              "Especial 2             4163\n",
              "Exento/Desgravado      2051\n",
              "Minorista              1309\n",
              "Alícuota reducida      1129\n",
              "1                       785\n",
              "Especial 4              742\n",
              "Especial 3              624\n",
              "Mera Compra             105\n",
              "2                         2\n",
              "Name: TRATAMIENTO_FISCAL, dtype: int64"
            ]
          },
          "metadata": {},
          "execution_count": 69
        }
      ]
    },
    {
      "cell_type": "code",
      "source": [
        "# Ahora veamos para qué valores de TRATAMIENTO FISCAL, suelen aparecer valores de DESC_TRATAMIENTO_FISCAL"
      ],
      "metadata": {
        "id": "ajMDpdD9VCRA"
      },
      "execution_count": null,
      "outputs": []
    },
    {
      "cell_type": "code",
      "source": [
        "# Este paso lo agrego porque sino el crosstab siguiente no me muestra los NaN\n",
        "prueba5 = ventas_clean.copy()\n",
        "prueba5['TRATAMIENTO_FISCAL'] = prueba5['TRATAMIENTO_FISCAL'].fillna('')\n",
        "prueba5['DESC_TRATAMIENTO_FISCAL'] = prueba5['DESC_TRATAMIENTO_FISCAL'].fillna('')"
      ],
      "metadata": {
        "id": "0xLLgcJAVCU2"
      },
      "execution_count": null,
      "outputs": []
    },
    {
      "cell_type": "code",
      "source": [
        "pd.crosstab(prueba5['TRATAMIENTO_FISCAL'], prueba5['DESC_TRATAMIENTO_FISCAL'], dropna=False)"
      ],
      "metadata": {
        "colab": {
          "base_uri": "https://localhost:8080/",
          "height": 551
        },
        "id": "0HqDzvWxVCYT",
        "outputId": "3e66aa5e-7e49-40b7-909b-35a29825f0f4"
      },
      "execution_count": null,
      "outputs": [
        {
          "output_type": "execute_result",
          "data": {
            "text/plain": [
              "DESC_TRATAMIENTO_FISCAL          Exento/Desgravado  Minorista  Normal  \\\n",
              "TRATAMIENTO_FISCAL                                                      \n",
              "                          27968                  0          0       0   \n",
              "0                             0                  0          0  111195   \n",
              "1                             0                785          0       0   \n",
              "2                             0                  0          2       0   \n",
              "3                             0                  0          0       0   \n",
              "Alícuota agravada         86271                  0          0       0   \n",
              "Alícuota reducida          1129                  0          0       0   \n",
              "Especial 1                 5693                  0          0       0   \n",
              "Especial 2                 4163                  0          0       0   \n",
              "Especial 3                  624                  0          0       0   \n",
              "Especial 4                  742                  0          0       0   \n",
              "Exento/Desgravado          2051                  0          0       0   \n",
              "Mera Compra                 105                  0          0       0   \n",
              "Minorista                  1309                  0          0       0   \n",
              "Normal                   183610                  0          0       0   \n",
              "\n",
              "DESC_TRATAMIENTO_FISCAL  Otro Tratamiento Fiscal  \n",
              "TRATAMIENTO_FISCAL                                \n",
              "                                               0  \n",
              "0                                              0  \n",
              "1                                              0  \n",
              "2                                              0  \n",
              "3                                           5859  \n",
              "Alícuota agravada                              0  \n",
              "Alícuota reducida                              0  \n",
              "Especial 1                                     0  \n",
              "Especial 2                                     0  \n",
              "Especial 3                                     0  \n",
              "Especial 4                                     0  \n",
              "Exento/Desgravado                              0  \n",
              "Mera Compra                                    0  \n",
              "Minorista                                      0  \n",
              "Normal                                         0  "
            ],
            "text/html": [
              "\n",
              "  <div id=\"df-fbc59108-8a54-4a77-b9e9-5118abaa0054\">\n",
              "    <div class=\"colab-df-container\">\n",
              "      <div>\n",
              "<style scoped>\n",
              "    .dataframe tbody tr th:only-of-type {\n",
              "        vertical-align: middle;\n",
              "    }\n",
              "\n",
              "    .dataframe tbody tr th {\n",
              "        vertical-align: top;\n",
              "    }\n",
              "\n",
              "    .dataframe thead th {\n",
              "        text-align: right;\n",
              "    }\n",
              "</style>\n",
              "<table border=\"1\" class=\"dataframe\">\n",
              "  <thead>\n",
              "    <tr style=\"text-align: right;\">\n",
              "      <th>DESC_TRATAMIENTO_FISCAL</th>\n",
              "      <th></th>\n",
              "      <th>Exento/Desgravado</th>\n",
              "      <th>Minorista</th>\n",
              "      <th>Normal</th>\n",
              "      <th>Otro Tratamiento Fiscal</th>\n",
              "    </tr>\n",
              "    <tr>\n",
              "      <th>TRATAMIENTO_FISCAL</th>\n",
              "      <th></th>\n",
              "      <th></th>\n",
              "      <th></th>\n",
              "      <th></th>\n",
              "      <th></th>\n",
              "    </tr>\n",
              "  </thead>\n",
              "  <tbody>\n",
              "    <tr>\n",
              "      <th></th>\n",
              "      <td>27968</td>\n",
              "      <td>0</td>\n",
              "      <td>0</td>\n",
              "      <td>0</td>\n",
              "      <td>0</td>\n",
              "    </tr>\n",
              "    <tr>\n",
              "      <th>0</th>\n",
              "      <td>0</td>\n",
              "      <td>0</td>\n",
              "      <td>0</td>\n",
              "      <td>111195</td>\n",
              "      <td>0</td>\n",
              "    </tr>\n",
              "    <tr>\n",
              "      <th>1</th>\n",
              "      <td>0</td>\n",
              "      <td>785</td>\n",
              "      <td>0</td>\n",
              "      <td>0</td>\n",
              "      <td>0</td>\n",
              "    </tr>\n",
              "    <tr>\n",
              "      <th>2</th>\n",
              "      <td>0</td>\n",
              "      <td>0</td>\n",
              "      <td>2</td>\n",
              "      <td>0</td>\n",
              "      <td>0</td>\n",
              "    </tr>\n",
              "    <tr>\n",
              "      <th>3</th>\n",
              "      <td>0</td>\n",
              "      <td>0</td>\n",
              "      <td>0</td>\n",
              "      <td>0</td>\n",
              "      <td>5859</td>\n",
              "    </tr>\n",
              "    <tr>\n",
              "      <th>Alícuota agravada</th>\n",
              "      <td>86271</td>\n",
              "      <td>0</td>\n",
              "      <td>0</td>\n",
              "      <td>0</td>\n",
              "      <td>0</td>\n",
              "    </tr>\n",
              "    <tr>\n",
              "      <th>Alícuota reducida</th>\n",
              "      <td>1129</td>\n",
              "      <td>0</td>\n",
              "      <td>0</td>\n",
              "      <td>0</td>\n",
              "      <td>0</td>\n",
              "    </tr>\n",
              "    <tr>\n",
              "      <th>Especial 1</th>\n",
              "      <td>5693</td>\n",
              "      <td>0</td>\n",
              "      <td>0</td>\n",
              "      <td>0</td>\n",
              "      <td>0</td>\n",
              "    </tr>\n",
              "    <tr>\n",
              "      <th>Especial 2</th>\n",
              "      <td>4163</td>\n",
              "      <td>0</td>\n",
              "      <td>0</td>\n",
              "      <td>0</td>\n",
              "      <td>0</td>\n",
              "    </tr>\n",
              "    <tr>\n",
              "      <th>Especial 3</th>\n",
              "      <td>624</td>\n",
              "      <td>0</td>\n",
              "      <td>0</td>\n",
              "      <td>0</td>\n",
              "      <td>0</td>\n",
              "    </tr>\n",
              "    <tr>\n",
              "      <th>Especial 4</th>\n",
              "      <td>742</td>\n",
              "      <td>0</td>\n",
              "      <td>0</td>\n",
              "      <td>0</td>\n",
              "      <td>0</td>\n",
              "    </tr>\n",
              "    <tr>\n",
              "      <th>Exento/Desgravado</th>\n",
              "      <td>2051</td>\n",
              "      <td>0</td>\n",
              "      <td>0</td>\n",
              "      <td>0</td>\n",
              "      <td>0</td>\n",
              "    </tr>\n",
              "    <tr>\n",
              "      <th>Mera Compra</th>\n",
              "      <td>105</td>\n",
              "      <td>0</td>\n",
              "      <td>0</td>\n",
              "      <td>0</td>\n",
              "      <td>0</td>\n",
              "    </tr>\n",
              "    <tr>\n",
              "      <th>Minorista</th>\n",
              "      <td>1309</td>\n",
              "      <td>0</td>\n",
              "      <td>0</td>\n",
              "      <td>0</td>\n",
              "      <td>0</td>\n",
              "    </tr>\n",
              "    <tr>\n",
              "      <th>Normal</th>\n",
              "      <td>183610</td>\n",
              "      <td>0</td>\n",
              "      <td>0</td>\n",
              "      <td>0</td>\n",
              "      <td>0</td>\n",
              "    </tr>\n",
              "  </tbody>\n",
              "</table>\n",
              "</div>\n",
              "      <button class=\"colab-df-convert\" onclick=\"convertToInteractive('df-fbc59108-8a54-4a77-b9e9-5118abaa0054')\"\n",
              "              title=\"Convert this dataframe to an interactive table.\"\n",
              "              style=\"display:none;\">\n",
              "        \n",
              "  <svg xmlns=\"http://www.w3.org/2000/svg\" height=\"24px\"viewBox=\"0 0 24 24\"\n",
              "       width=\"24px\">\n",
              "    <path d=\"M0 0h24v24H0V0z\" fill=\"none\"/>\n",
              "    <path d=\"M18.56 5.44l.94 2.06.94-2.06 2.06-.94-2.06-.94-.94-2.06-.94 2.06-2.06.94zm-11 1L8.5 8.5l.94-2.06 2.06-.94-2.06-.94L8.5 2.5l-.94 2.06-2.06.94zm10 10l.94 2.06.94-2.06 2.06-.94-2.06-.94-.94-2.06-.94 2.06-2.06.94z\"/><path d=\"M17.41 7.96l-1.37-1.37c-.4-.4-.92-.59-1.43-.59-.52 0-1.04.2-1.43.59L10.3 9.45l-7.72 7.72c-.78.78-.78 2.05 0 2.83L4 21.41c.39.39.9.59 1.41.59.51 0 1.02-.2 1.41-.59l7.78-7.78 2.81-2.81c.8-.78.8-2.07 0-2.86zM5.41 20L4 18.59l7.72-7.72 1.47 1.35L5.41 20z\"/>\n",
              "  </svg>\n",
              "      </button>\n",
              "      \n",
              "  <style>\n",
              "    .colab-df-container {\n",
              "      display:flex;\n",
              "      flex-wrap:wrap;\n",
              "      gap: 12px;\n",
              "    }\n",
              "\n",
              "    .colab-df-convert {\n",
              "      background-color: #E8F0FE;\n",
              "      border: none;\n",
              "      border-radius: 50%;\n",
              "      cursor: pointer;\n",
              "      display: none;\n",
              "      fill: #1967D2;\n",
              "      height: 32px;\n",
              "      padding: 0 0 0 0;\n",
              "      width: 32px;\n",
              "    }\n",
              "\n",
              "    .colab-df-convert:hover {\n",
              "      background-color: #E2EBFA;\n",
              "      box-shadow: 0px 1px 2px rgba(60, 64, 67, 0.3), 0px 1px 3px 1px rgba(60, 64, 67, 0.15);\n",
              "      fill: #174EA6;\n",
              "    }\n",
              "\n",
              "    [theme=dark] .colab-df-convert {\n",
              "      background-color: #3B4455;\n",
              "      fill: #D2E3FC;\n",
              "    }\n",
              "\n",
              "    [theme=dark] .colab-df-convert:hover {\n",
              "      background-color: #434B5C;\n",
              "      box-shadow: 0px 1px 3px 1px rgba(0, 0, 0, 0.15);\n",
              "      filter: drop-shadow(0px 1px 2px rgba(0, 0, 0, 0.3));\n",
              "      fill: #FFFFFF;\n",
              "    }\n",
              "  </style>\n",
              "\n",
              "      <script>\n",
              "        const buttonEl =\n",
              "          document.querySelector('#df-fbc59108-8a54-4a77-b9e9-5118abaa0054 button.colab-df-convert');\n",
              "        buttonEl.style.display =\n",
              "          google.colab.kernel.accessAllowed ? 'block' : 'none';\n",
              "\n",
              "        async function convertToInteractive(key) {\n",
              "          const element = document.querySelector('#df-fbc59108-8a54-4a77-b9e9-5118abaa0054');\n",
              "          const dataTable =\n",
              "            await google.colab.kernel.invokeFunction('convertToInteractive',\n",
              "                                                     [key], {});\n",
              "          if (!dataTable) return;\n",
              "\n",
              "          const docLinkHtml = 'Like what you see? Visit the ' +\n",
              "            '<a target=\"_blank\" href=https://colab.research.google.com/notebooks/data_table.ipynb>data table notebook</a>'\n",
              "            + ' to learn more about interactive tables.';\n",
              "          element.innerHTML = '';\n",
              "          dataTable['output_type'] = 'display_data';\n",
              "          await google.colab.output.renderOutput(dataTable, element);\n",
              "          const docLink = document.createElement('div');\n",
              "          docLink.innerHTML = docLinkHtml;\n",
              "          element.appendChild(docLink);\n",
              "        }\n",
              "      </script>\n",
              "    </div>\n",
              "  </div>\n",
              "  "
            ]
          },
          "metadata": {},
          "execution_count": 72
        }
      ]
    },
    {
      "cell_type": "code",
      "source": [
        "# Los valores de DESC_TRATAMIENTO_FISCAL, solo aparecen cuando TRATAMIENTO_FISCAL asume valores 0, 1, 2, 3.\n",
        "# A su vez, hay correspondencia entre 0 y Normal, 1 y Exento/Desgravado, 2 y Minorista, 3 y Otro Tratamiento Fiscal"
      ],
      "metadata": {
        "id": "0Juz5ye9VCcu"
      },
      "execution_count": null,
      "outputs": []
    },
    {
      "cell_type": "code",
      "source": [
        "# Se podría eliminar DESC_TRATAMIENTO_FISCAL?"
      ],
      "metadata": {
        "id": "DU8onA8CnkpS"
      },
      "execution_count": null,
      "outputs": []
    },
    {
      "cell_type": "code",
      "source": [
        "# Ahora veamos para qué valores de TRATAMIENTO FISCAL, suelen aparecer valores de TRATAMIENTO_DIFERNCIAL"
      ],
      "metadata": {
        "id": "z7_rWgaVVCgP"
      },
      "execution_count": null,
      "outputs": []
    },
    {
      "cell_type": "code",
      "source": [
        "# Este paso lo agrego porque sino el crosstab siguiente no me muestra los NaN\n",
        "prueba5['TRATAMIENTO_DIFERNCIAL'] = prueba5['TRATAMIENTO_DIFERNCIAL'].fillna('')"
      ],
      "metadata": {
        "id": "dZ-Nl-WOVCj0"
      },
      "execution_count": null,
      "outputs": []
    },
    {
      "cell_type": "code",
      "source": [
        "pd.crosstab(prueba5['TRATAMIENTO_FISCAL'], prueba5['TRATAMIENTO_DIFERNCIAL'], dropna=False)"
      ],
      "metadata": {
        "colab": {
          "base_uri": "https://localhost:8080/",
          "height": 595
        },
        "id": "RWflyPzDVCoA",
        "outputId": "4dfe49a8-6563-4bfb-fed8-d52d28bade01"
      },
      "execution_count": null,
      "outputs": [
        {
          "output_type": "execute_result",
          "data": {
            "text/plain": [
              "TRATAMIENTO_DIFERNCIAL          Artículo 16  Artículo 17  Artículo 18  \\\n",
              "TRATAMIENTO_FISCAL                                                      \n",
              "                         20366          390           50         1098   \n",
              "0                        91558          813          254         1226   \n",
              "1                          583            0            0           15   \n",
              "2                            2            0            0            0   \n",
              "3                          354            0          107           25   \n",
              "Alícuota agravada        79049          608           12          181   \n",
              "Alícuota reducida          706          249            0           17   \n",
              "Especial 1                1726          106           81          313   \n",
              "Especial 2                   9            1            0           54   \n",
              "Especial 3                  51            5            0           13   \n",
              "Especial 4                 155          238            0           45   \n",
              "Exento/Desgravado         1209           18            6           41   \n",
              "Mera Compra                 99            0            0            4   \n",
              "Minorista                  765            0            0          111   \n",
              "Normal                  151816         4039          100         2742   \n",
              "\n",
              "TRATAMIENTO_DIFERNCIAL  Artículo 19  Artículo 19 y 20  Artículo 20  \\\n",
              "TRATAMIENTO_FISCAL                                                   \n",
              "                                 97              1720          533   \n",
              "0                              1142              2389         3071   \n",
              "1                                36                 0           14   \n",
              "2                                 0                 0            0   \n",
              "3                               562              1018           80   \n",
              "Alícuota agravada               114                81         2706   \n",
              "Alícuota reducida                 0                 9           36   \n",
              "Especial 1                      381               185         1087   \n",
              "Especial 2                        0                75          330   \n",
              "Especial 3                        0                 0          551   \n",
              "Especial 4                        0                 0          299   \n",
              "Exento/Desgravado               154                 0          139   \n",
              "Mera Compra                       0                 0            1   \n",
              "Minorista                        26                 5          178   \n",
              "Normal                         1463              2213         6243   \n",
              "\n",
              "TRATAMIENTO_DIFERNCIAL  Artículo 21  Artículo 22  Artículo 28  Artículo 31  \\\n",
              "TRATAMIENTO_FISCAL                                                           \n",
              "                               3236          353           47           65   \n",
              "0                              7489          412          167          726   \n",
              "1                               134            0            0            1   \n",
              "2                                 0            0            0            0   \n",
              "3                              3039          671            0            2   \n",
              "Alícuota agravada              1772         1025            0           56   \n",
              "Alícuota reducida                75            1            0            0   \n",
              "Especial 1                      983          750           74            2   \n",
              "Especial 2                     1901         1793            0            0   \n",
              "Especial 3                        2            2            0            0   \n",
              "Especial 4                        2            2            0            1   \n",
              "Exento/Desgravado               371            0            0           35   \n",
              "Mera Compra                       1            0            0            0   \n",
              "Minorista                        65          157            0            0   \n",
              "Normal                         9541         1614          108         1053   \n",
              "\n",
              "TRATAMIENTO_DIFERNCIAL  Artículo 34  \n",
              "TRATAMIENTO_FISCAL                   \n",
              "                                 13  \n",
              "0                              1948  \n",
              "1                                 2  \n",
              "2                                 0  \n",
              "3                                 1  \n",
              "Alícuota agravada               667  \n",
              "Alícuota reducida                36  \n",
              "Especial 1                        5  \n",
              "Especial 2                        0  \n",
              "Especial 3                        0  \n",
              "Especial 4                        0  \n",
              "Exento/Desgravado                78  \n",
              "Mera Compra                       0  \n",
              "Minorista                         2  \n",
              "Normal                         2678  "
            ],
            "text/html": [
              "\n",
              "  <div id=\"df-9d04f5d3-4383-4395-97f6-34c6d3ec63dd\">\n",
              "    <div class=\"colab-df-container\">\n",
              "      <div>\n",
              "<style scoped>\n",
              "    .dataframe tbody tr th:only-of-type {\n",
              "        vertical-align: middle;\n",
              "    }\n",
              "\n",
              "    .dataframe tbody tr th {\n",
              "        vertical-align: top;\n",
              "    }\n",
              "\n",
              "    .dataframe thead th {\n",
              "        text-align: right;\n",
              "    }\n",
              "</style>\n",
              "<table border=\"1\" class=\"dataframe\">\n",
              "  <thead>\n",
              "    <tr style=\"text-align: right;\">\n",
              "      <th>TRATAMIENTO_DIFERNCIAL</th>\n",
              "      <th></th>\n",
              "      <th>Artículo 16</th>\n",
              "      <th>Artículo 17</th>\n",
              "      <th>Artículo 18</th>\n",
              "      <th>Artículo 19</th>\n",
              "      <th>Artículo 19 y 20</th>\n",
              "      <th>Artículo 20</th>\n",
              "      <th>Artículo 21</th>\n",
              "      <th>Artículo 22</th>\n",
              "      <th>Artículo 28</th>\n",
              "      <th>Artículo 31</th>\n",
              "      <th>Artículo 34</th>\n",
              "    </tr>\n",
              "    <tr>\n",
              "      <th>TRATAMIENTO_FISCAL</th>\n",
              "      <th></th>\n",
              "      <th></th>\n",
              "      <th></th>\n",
              "      <th></th>\n",
              "      <th></th>\n",
              "      <th></th>\n",
              "      <th></th>\n",
              "      <th></th>\n",
              "      <th></th>\n",
              "      <th></th>\n",
              "      <th></th>\n",
              "      <th></th>\n",
              "    </tr>\n",
              "  </thead>\n",
              "  <tbody>\n",
              "    <tr>\n",
              "      <th></th>\n",
              "      <td>20366</td>\n",
              "      <td>390</td>\n",
              "      <td>50</td>\n",
              "      <td>1098</td>\n",
              "      <td>97</td>\n",
              "      <td>1720</td>\n",
              "      <td>533</td>\n",
              "      <td>3236</td>\n",
              "      <td>353</td>\n",
              "      <td>47</td>\n",
              "      <td>65</td>\n",
              "      <td>13</td>\n",
              "    </tr>\n",
              "    <tr>\n",
              "      <th>0</th>\n",
              "      <td>91558</td>\n",
              "      <td>813</td>\n",
              "      <td>254</td>\n",
              "      <td>1226</td>\n",
              "      <td>1142</td>\n",
              "      <td>2389</td>\n",
              "      <td>3071</td>\n",
              "      <td>7489</td>\n",
              "      <td>412</td>\n",
              "      <td>167</td>\n",
              "      <td>726</td>\n",
              "      <td>1948</td>\n",
              "    </tr>\n",
              "    <tr>\n",
              "      <th>1</th>\n",
              "      <td>583</td>\n",
              "      <td>0</td>\n",
              "      <td>0</td>\n",
              "      <td>15</td>\n",
              "      <td>36</td>\n",
              "      <td>0</td>\n",
              "      <td>14</td>\n",
              "      <td>134</td>\n",
              "      <td>0</td>\n",
              "      <td>0</td>\n",
              "      <td>1</td>\n",
              "      <td>2</td>\n",
              "    </tr>\n",
              "    <tr>\n",
              "      <th>2</th>\n",
              "      <td>2</td>\n",
              "      <td>0</td>\n",
              "      <td>0</td>\n",
              "      <td>0</td>\n",
              "      <td>0</td>\n",
              "      <td>0</td>\n",
              "      <td>0</td>\n",
              "      <td>0</td>\n",
              "      <td>0</td>\n",
              "      <td>0</td>\n",
              "      <td>0</td>\n",
              "      <td>0</td>\n",
              "    </tr>\n",
              "    <tr>\n",
              "      <th>3</th>\n",
              "      <td>354</td>\n",
              "      <td>0</td>\n",
              "      <td>107</td>\n",
              "      <td>25</td>\n",
              "      <td>562</td>\n",
              "      <td>1018</td>\n",
              "      <td>80</td>\n",
              "      <td>3039</td>\n",
              "      <td>671</td>\n",
              "      <td>0</td>\n",
              "      <td>2</td>\n",
              "      <td>1</td>\n",
              "    </tr>\n",
              "    <tr>\n",
              "      <th>Alícuota agravada</th>\n",
              "      <td>79049</td>\n",
              "      <td>608</td>\n",
              "      <td>12</td>\n",
              "      <td>181</td>\n",
              "      <td>114</td>\n",
              "      <td>81</td>\n",
              "      <td>2706</td>\n",
              "      <td>1772</td>\n",
              "      <td>1025</td>\n",
              "      <td>0</td>\n",
              "      <td>56</td>\n",
              "      <td>667</td>\n",
              "    </tr>\n",
              "    <tr>\n",
              "      <th>Alícuota reducida</th>\n",
              "      <td>706</td>\n",
              "      <td>249</td>\n",
              "      <td>0</td>\n",
              "      <td>17</td>\n",
              "      <td>0</td>\n",
              "      <td>9</td>\n",
              "      <td>36</td>\n",
              "      <td>75</td>\n",
              "      <td>1</td>\n",
              "      <td>0</td>\n",
              "      <td>0</td>\n",
              "      <td>36</td>\n",
              "    </tr>\n",
              "    <tr>\n",
              "      <th>Especial 1</th>\n",
              "      <td>1726</td>\n",
              "      <td>106</td>\n",
              "      <td>81</td>\n",
              "      <td>313</td>\n",
              "      <td>381</td>\n",
              "      <td>185</td>\n",
              "      <td>1087</td>\n",
              "      <td>983</td>\n",
              "      <td>750</td>\n",
              "      <td>74</td>\n",
              "      <td>2</td>\n",
              "      <td>5</td>\n",
              "    </tr>\n",
              "    <tr>\n",
              "      <th>Especial 2</th>\n",
              "      <td>9</td>\n",
              "      <td>1</td>\n",
              "      <td>0</td>\n",
              "      <td>54</td>\n",
              "      <td>0</td>\n",
              "      <td>75</td>\n",
              "      <td>330</td>\n",
              "      <td>1901</td>\n",
              "      <td>1793</td>\n",
              "      <td>0</td>\n",
              "      <td>0</td>\n",
              "      <td>0</td>\n",
              "    </tr>\n",
              "    <tr>\n",
              "      <th>Especial 3</th>\n",
              "      <td>51</td>\n",
              "      <td>5</td>\n",
              "      <td>0</td>\n",
              "      <td>13</td>\n",
              "      <td>0</td>\n",
              "      <td>0</td>\n",
              "      <td>551</td>\n",
              "      <td>2</td>\n",
              "      <td>2</td>\n",
              "      <td>0</td>\n",
              "      <td>0</td>\n",
              "      <td>0</td>\n",
              "    </tr>\n",
              "    <tr>\n",
              "      <th>Especial 4</th>\n",
              "      <td>155</td>\n",
              "      <td>238</td>\n",
              "      <td>0</td>\n",
              "      <td>45</td>\n",
              "      <td>0</td>\n",
              "      <td>0</td>\n",
              "      <td>299</td>\n",
              "      <td>2</td>\n",
              "      <td>2</td>\n",
              "      <td>0</td>\n",
              "      <td>1</td>\n",
              "      <td>0</td>\n",
              "    </tr>\n",
              "    <tr>\n",
              "      <th>Exento/Desgravado</th>\n",
              "      <td>1209</td>\n",
              "      <td>18</td>\n",
              "      <td>6</td>\n",
              "      <td>41</td>\n",
              "      <td>154</td>\n",
              "      <td>0</td>\n",
              "      <td>139</td>\n",
              "      <td>371</td>\n",
              "      <td>0</td>\n",
              "      <td>0</td>\n",
              "      <td>35</td>\n",
              "      <td>78</td>\n",
              "    </tr>\n",
              "    <tr>\n",
              "      <th>Mera Compra</th>\n",
              "      <td>99</td>\n",
              "      <td>0</td>\n",
              "      <td>0</td>\n",
              "      <td>4</td>\n",
              "      <td>0</td>\n",
              "      <td>0</td>\n",
              "      <td>1</td>\n",
              "      <td>1</td>\n",
              "      <td>0</td>\n",
              "      <td>0</td>\n",
              "      <td>0</td>\n",
              "      <td>0</td>\n",
              "    </tr>\n",
              "    <tr>\n",
              "      <th>Minorista</th>\n",
              "      <td>765</td>\n",
              "      <td>0</td>\n",
              "      <td>0</td>\n",
              "      <td>111</td>\n",
              "      <td>26</td>\n",
              "      <td>5</td>\n",
              "      <td>178</td>\n",
              "      <td>65</td>\n",
              "      <td>157</td>\n",
              "      <td>0</td>\n",
              "      <td>0</td>\n",
              "      <td>2</td>\n",
              "    </tr>\n",
              "    <tr>\n",
              "      <th>Normal</th>\n",
              "      <td>151816</td>\n",
              "      <td>4039</td>\n",
              "      <td>100</td>\n",
              "      <td>2742</td>\n",
              "      <td>1463</td>\n",
              "      <td>2213</td>\n",
              "      <td>6243</td>\n",
              "      <td>9541</td>\n",
              "      <td>1614</td>\n",
              "      <td>108</td>\n",
              "      <td>1053</td>\n",
              "      <td>2678</td>\n",
              "    </tr>\n",
              "  </tbody>\n",
              "</table>\n",
              "</div>\n",
              "      <button class=\"colab-df-convert\" onclick=\"convertToInteractive('df-9d04f5d3-4383-4395-97f6-34c6d3ec63dd')\"\n",
              "              title=\"Convert this dataframe to an interactive table.\"\n",
              "              style=\"display:none;\">\n",
              "        \n",
              "  <svg xmlns=\"http://www.w3.org/2000/svg\" height=\"24px\"viewBox=\"0 0 24 24\"\n",
              "       width=\"24px\">\n",
              "    <path d=\"M0 0h24v24H0V0z\" fill=\"none\"/>\n",
              "    <path d=\"M18.56 5.44l.94 2.06.94-2.06 2.06-.94-2.06-.94-.94-2.06-.94 2.06-2.06.94zm-11 1L8.5 8.5l.94-2.06 2.06-.94-2.06-.94L8.5 2.5l-.94 2.06-2.06.94zm10 10l.94 2.06.94-2.06 2.06-.94-2.06-.94-.94-2.06-.94 2.06-2.06.94z\"/><path d=\"M17.41 7.96l-1.37-1.37c-.4-.4-.92-.59-1.43-.59-.52 0-1.04.2-1.43.59L10.3 9.45l-7.72 7.72c-.78.78-.78 2.05 0 2.83L4 21.41c.39.39.9.59 1.41.59.51 0 1.02-.2 1.41-.59l7.78-7.78 2.81-2.81c.8-.78.8-2.07 0-2.86zM5.41 20L4 18.59l7.72-7.72 1.47 1.35L5.41 20z\"/>\n",
              "  </svg>\n",
              "      </button>\n",
              "      \n",
              "  <style>\n",
              "    .colab-df-container {\n",
              "      display:flex;\n",
              "      flex-wrap:wrap;\n",
              "      gap: 12px;\n",
              "    }\n",
              "\n",
              "    .colab-df-convert {\n",
              "      background-color: #E8F0FE;\n",
              "      border: none;\n",
              "      border-radius: 50%;\n",
              "      cursor: pointer;\n",
              "      display: none;\n",
              "      fill: #1967D2;\n",
              "      height: 32px;\n",
              "      padding: 0 0 0 0;\n",
              "      width: 32px;\n",
              "    }\n",
              "\n",
              "    .colab-df-convert:hover {\n",
              "      background-color: #E2EBFA;\n",
              "      box-shadow: 0px 1px 2px rgba(60, 64, 67, 0.3), 0px 1px 3px 1px rgba(60, 64, 67, 0.15);\n",
              "      fill: #174EA6;\n",
              "    }\n",
              "\n",
              "    [theme=dark] .colab-df-convert {\n",
              "      background-color: #3B4455;\n",
              "      fill: #D2E3FC;\n",
              "    }\n",
              "\n",
              "    [theme=dark] .colab-df-convert:hover {\n",
              "      background-color: #434B5C;\n",
              "      box-shadow: 0px 1px 3px 1px rgba(0, 0, 0, 0.15);\n",
              "      filter: drop-shadow(0px 1px 2px rgba(0, 0, 0, 0.3));\n",
              "      fill: #FFFFFF;\n",
              "    }\n",
              "  </style>\n",
              "\n",
              "      <script>\n",
              "        const buttonEl =\n",
              "          document.querySelector('#df-9d04f5d3-4383-4395-97f6-34c6d3ec63dd button.colab-df-convert');\n",
              "        buttonEl.style.display =\n",
              "          google.colab.kernel.accessAllowed ? 'block' : 'none';\n",
              "\n",
              "        async function convertToInteractive(key) {\n",
              "          const element = document.querySelector('#df-9d04f5d3-4383-4395-97f6-34c6d3ec63dd');\n",
              "          const dataTable =\n",
              "            await google.colab.kernel.invokeFunction('convertToInteractive',\n",
              "                                                     [key], {});\n",
              "          if (!dataTable) return;\n",
              "\n",
              "          const docLinkHtml = 'Like what you see? Visit the ' +\n",
              "            '<a target=\"_blank\" href=https://colab.research.google.com/notebooks/data_table.ipynb>data table notebook</a>'\n",
              "            + ' to learn more about interactive tables.';\n",
              "          element.innerHTML = '';\n",
              "          dataTable['output_type'] = 'display_data';\n",
              "          await google.colab.output.renderOutput(dataTable, element);\n",
              "          const docLink = document.createElement('div');\n",
              "          docLink.innerHTML = docLinkHtml;\n",
              "          element.appendChild(docLink);\n",
              "        }\n",
              "      </script>\n",
              "    </div>\n",
              "  </div>\n",
              "  "
            ]
          },
          "metadata": {},
          "execution_count": 77
        }
      ]
    },
    {
      "cell_type": "code",
      "source": [
        "# No hay un patrón claro"
      ],
      "metadata": {
        "id": "SnYUvN0gVYvZ"
      },
      "execution_count": null,
      "outputs": []
    },
    {
      "cell_type": "markdown",
      "source": [
        "*   Ventas, comisión y % de comisión están relacionadas entre sí con alguna fórmula?"
      ],
      "metadata": {
        "id": "3xO1oCWA5rmv"
      }
    },
    {
      "cell_type": "code",
      "source": [
        "ventas_clean[['TOTAL_VENTAS','PORCENTAJE_COMISION_EMPRESA','COMISION_EMPRESA']].describe()"
      ],
      "metadata": {
        "colab": {
          "base_uri": "https://localhost:8080/",
          "height": 301
        },
        "id": "8kQFqMHmam1O",
        "outputId": "c52c2ac1-2e49-4e5a-cf5f-53e51a08f8d6"
      },
      "execution_count": null,
      "outputs": [
        {
          "output_type": "execute_result",
          "data": {
            "text/plain": [
              "          TOTAL_VENTAS  PORCENTAJE_COMISION_EMPRESA  COMISION_EMPRESA\n",
              "count       431,506.00                   431,506.00        431,506.00\n",
              "mean      7,544,169.21                         3.23        293,840.57\n",
              "std      48,373,412.84                         2.68      1,860,463.91\n",
              "min    -239,930,463.21                         0.00     -4,904,326.95\n",
              "25%               0.00                         0.05              0.00\n",
              "50%          90,996.38                         4.00          3,503.35\n",
              "75%       3,226,319.32                         4.75        126,875.03\n",
              "max   4,876,872,188.46                        18.00    243,843,609.42"
            ],
            "text/html": [
              "\n",
              "  <div id=\"df-82a9666d-4d4d-48cd-a0b4-ab4d7eed5c3b\">\n",
              "    <div class=\"colab-df-container\">\n",
              "      <div>\n",
              "<style scoped>\n",
              "    .dataframe tbody tr th:only-of-type {\n",
              "        vertical-align: middle;\n",
              "    }\n",
              "\n",
              "    .dataframe tbody tr th {\n",
              "        vertical-align: top;\n",
              "    }\n",
              "\n",
              "    .dataframe thead th {\n",
              "        text-align: right;\n",
              "    }\n",
              "</style>\n",
              "<table border=\"1\" class=\"dataframe\">\n",
              "  <thead>\n",
              "    <tr style=\"text-align: right;\">\n",
              "      <th></th>\n",
              "      <th>TOTAL_VENTAS</th>\n",
              "      <th>PORCENTAJE_COMISION_EMPRESA</th>\n",
              "      <th>COMISION_EMPRESA</th>\n",
              "    </tr>\n",
              "  </thead>\n",
              "  <tbody>\n",
              "    <tr>\n",
              "      <th>count</th>\n",
              "      <td>431,506.00</td>\n",
              "      <td>431,506.00</td>\n",
              "      <td>431,506.00</td>\n",
              "    </tr>\n",
              "    <tr>\n",
              "      <th>mean</th>\n",
              "      <td>7,544,169.21</td>\n",
              "      <td>3.23</td>\n",
              "      <td>293,840.57</td>\n",
              "    </tr>\n",
              "    <tr>\n",
              "      <th>std</th>\n",
              "      <td>48,373,412.84</td>\n",
              "      <td>2.68</td>\n",
              "      <td>1,860,463.91</td>\n",
              "    </tr>\n",
              "    <tr>\n",
              "      <th>min</th>\n",
              "      <td>-239,930,463.21</td>\n",
              "      <td>0.00</td>\n",
              "      <td>-4,904,326.95</td>\n",
              "    </tr>\n",
              "    <tr>\n",
              "      <th>25%</th>\n",
              "      <td>0.00</td>\n",
              "      <td>0.05</td>\n",
              "      <td>0.00</td>\n",
              "    </tr>\n",
              "    <tr>\n",
              "      <th>50%</th>\n",
              "      <td>90,996.38</td>\n",
              "      <td>4.00</td>\n",
              "      <td>3,503.35</td>\n",
              "    </tr>\n",
              "    <tr>\n",
              "      <th>75%</th>\n",
              "      <td>3,226,319.32</td>\n",
              "      <td>4.75</td>\n",
              "      <td>126,875.03</td>\n",
              "    </tr>\n",
              "    <tr>\n",
              "      <th>max</th>\n",
              "      <td>4,876,872,188.46</td>\n",
              "      <td>18.00</td>\n",
              "      <td>243,843,609.42</td>\n",
              "    </tr>\n",
              "  </tbody>\n",
              "</table>\n",
              "</div>\n",
              "      <button class=\"colab-df-convert\" onclick=\"convertToInteractive('df-82a9666d-4d4d-48cd-a0b4-ab4d7eed5c3b')\"\n",
              "              title=\"Convert this dataframe to an interactive table.\"\n",
              "              style=\"display:none;\">\n",
              "        \n",
              "  <svg xmlns=\"http://www.w3.org/2000/svg\" height=\"24px\"viewBox=\"0 0 24 24\"\n",
              "       width=\"24px\">\n",
              "    <path d=\"M0 0h24v24H0V0z\" fill=\"none\"/>\n",
              "    <path d=\"M18.56 5.44l.94 2.06.94-2.06 2.06-.94-2.06-.94-.94-2.06-.94 2.06-2.06.94zm-11 1L8.5 8.5l.94-2.06 2.06-.94-2.06-.94L8.5 2.5l-.94 2.06-2.06.94zm10 10l.94 2.06.94-2.06 2.06-.94-2.06-.94-.94-2.06-.94 2.06-2.06.94z\"/><path d=\"M17.41 7.96l-1.37-1.37c-.4-.4-.92-.59-1.43-.59-.52 0-1.04.2-1.43.59L10.3 9.45l-7.72 7.72c-.78.78-.78 2.05 0 2.83L4 21.41c.39.39.9.59 1.41.59.51 0 1.02-.2 1.41-.59l7.78-7.78 2.81-2.81c.8-.78.8-2.07 0-2.86zM5.41 20L4 18.59l7.72-7.72 1.47 1.35L5.41 20z\"/>\n",
              "  </svg>\n",
              "      </button>\n",
              "      \n",
              "  <style>\n",
              "    .colab-df-container {\n",
              "      display:flex;\n",
              "      flex-wrap:wrap;\n",
              "      gap: 12px;\n",
              "    }\n",
              "\n",
              "    .colab-df-convert {\n",
              "      background-color: #E8F0FE;\n",
              "      border: none;\n",
              "      border-radius: 50%;\n",
              "      cursor: pointer;\n",
              "      display: none;\n",
              "      fill: #1967D2;\n",
              "      height: 32px;\n",
              "      padding: 0 0 0 0;\n",
              "      width: 32px;\n",
              "    }\n",
              "\n",
              "    .colab-df-convert:hover {\n",
              "      background-color: #E2EBFA;\n",
              "      box-shadow: 0px 1px 2px rgba(60, 64, 67, 0.3), 0px 1px 3px 1px rgba(60, 64, 67, 0.15);\n",
              "      fill: #174EA6;\n",
              "    }\n",
              "\n",
              "    [theme=dark] .colab-df-convert {\n",
              "      background-color: #3B4455;\n",
              "      fill: #D2E3FC;\n",
              "    }\n",
              "\n",
              "    [theme=dark] .colab-df-convert:hover {\n",
              "      background-color: #434B5C;\n",
              "      box-shadow: 0px 1px 3px 1px rgba(0, 0, 0, 0.15);\n",
              "      filter: drop-shadow(0px 1px 2px rgba(0, 0, 0, 0.3));\n",
              "      fill: #FFFFFF;\n",
              "    }\n",
              "  </style>\n",
              "\n",
              "      <script>\n",
              "        const buttonEl =\n",
              "          document.querySelector('#df-82a9666d-4d4d-48cd-a0b4-ab4d7eed5c3b button.colab-df-convert');\n",
              "        buttonEl.style.display =\n",
              "          google.colab.kernel.accessAllowed ? 'block' : 'none';\n",
              "\n",
              "        async function convertToInteractive(key) {\n",
              "          const element = document.querySelector('#df-82a9666d-4d4d-48cd-a0b4-ab4d7eed5c3b');\n",
              "          const dataTable =\n",
              "            await google.colab.kernel.invokeFunction('convertToInteractive',\n",
              "                                                     [key], {});\n",
              "          if (!dataTable) return;\n",
              "\n",
              "          const docLinkHtml = 'Like what you see? Visit the ' +\n",
              "            '<a target=\"_blank\" href=https://colab.research.google.com/notebooks/data_table.ipynb>data table notebook</a>'\n",
              "            + ' to learn more about interactive tables.';\n",
              "          element.innerHTML = '';\n",
              "          dataTable['output_type'] = 'display_data';\n",
              "          await google.colab.output.renderOutput(dataTable, element);\n",
              "          const docLink = document.createElement('div');\n",
              "          docLink.innerHTML = docLinkHtml;\n",
              "          element.appendChild(docLink);\n",
              "        }\n",
              "      </script>\n",
              "    </div>\n",
              "  </div>\n",
              "  "
            ]
          },
          "metadata": {},
          "execution_count": 79
        }
      ]
    },
    {
      "cell_type": "code",
      "source": [
        "# TOTAL_VENTAS tiene valores negativos. Cuandos?\n",
        "len(ventas_clean[ventas_clean['TOTAL_VENTAS'] < 0])"
      ],
      "metadata": {
        "colab": {
          "base_uri": "https://localhost:8080/"
        },
        "id": "qAY8Dy4pn0cA",
        "outputId": "1310468a-b484-480e-b366-7a90e8f28b0c"
      },
      "execution_count": null,
      "outputs": [
        {
          "output_type": "execute_result",
          "data": {
            "text/plain": [
              "1390"
            ]
          },
          "metadata": {},
          "execution_count": 80
        }
      ]
    },
    {
      "cell_type": "code",
      "source": [
        "ventas_clean[ventas_clean['TOTAL_VENTAS'] < 0]['TOTAL_VENTAS'].describe()"
      ],
      "metadata": {
        "colab": {
          "base_uri": "https://localhost:8080/"
        },
        "id": "ECeiCV78oP3t",
        "outputId": "e38a812e-671b-43d5-c4db-c5d27c946b1e"
      },
      "execution_count": null,
      "outputs": [
        {
          "output_type": "execute_result",
          "data": {
            "text/plain": [
              "count          1,390.00\n",
              "mean      -2,523,550.73\n",
              "std       10,702,005.43\n",
              "min     -239,930,463.21\n",
              "25%         -850,102.67\n",
              "50%          -83,196.49\n",
              "75%           -7,138.79\n",
              "max               -0.41\n",
              "Name: TOTAL_VENTAS, dtype: float64"
            ]
          },
          "metadata": {},
          "execution_count": 81
        }
      ]
    },
    {
      "cell_type": "code",
      "source": [
        "# Hay al menos un valor extremo muy grande.\n",
        "# Debido a que son pocos casos, podríamos reemplazar estos valores por vacíos (en caso que estén mal)."
      ],
      "metadata": {
        "id": "uWKtEmzCodL4"
      },
      "execution_count": null,
      "outputs": []
    },
    {
      "cell_type": "code",
      "source": [
        "# Se observa que COMISION_EMPRESA también tiene valores negativos en estos casos. También sería necesario reemplazar estos valores por vacíos\n",
        "ventas_clean[ventas_clean['TOTAL_VENTAS'] < 0]['COMISION_EMPRESA'].describe()"
      ],
      "metadata": {
        "colab": {
          "base_uri": "https://localhost:8080/"
        },
        "id": "7DwjMgDVozGq",
        "outputId": "322db37e-87cc-4233-b339-a5cf9ae5036e"
      },
      "execution_count": null,
      "outputs": [
        {
          "output_type": "execute_result",
          "data": {
            "text/plain": [
              "count        1,390.00\n",
              "mean       -96,482.02\n",
              "std        359,186.69\n",
              "min     -4,904,326.95\n",
              "25%        -35,086.47\n",
              "50%         -3,383.09\n",
              "75%           -276.50\n",
              "max              0.00\n",
              "Name: COMISION_EMPRESA, dtype: float64"
            ]
          },
          "metadata": {},
          "execution_count": 83
        }
      ]
    },
    {
      "cell_type": "code",
      "source": [
        "# No pareciera haber valores extremos en PORCENTAJE_COMISION_EMPRESA\n",
        "ventas_clean[ventas_clean['TOTAL_VENTAS'] < 0]['PORCENTAJE_COMISION_EMPRESA'].describe()"
      ],
      "metadata": {
        "colab": {
          "base_uri": "https://localhost:8080/"
        },
        "id": "cpsxIvZHpTaF",
        "outputId": "4981ecd7-45db-4020-c9e3-6f2634d4ffdf"
      },
      "execution_count": null,
      "outputs": [
        {
          "output_type": "execute_result",
          "data": {
            "text/plain": [
              "count   1,390.00\n",
              "mean        4.36\n",
              "std         2.35\n",
              "min         0.00\n",
              "25%         3.50\n",
              "50%         4.75\n",
              "75%         5.00\n",
              "max        18.00\n",
              "Name: PORCENTAJE_COMISION_EMPRESA, dtype: float64"
            ]
          },
          "metadata": {},
          "execution_count": 84
        }
      ]
    },
    {
      "cell_type": "code",
      "source": [
        "# ventas_clean.loc[ventas_clean['TOTAL_VENTAS'] < 0, 'TOTAL_VENTAS'] = np.nan\n",
        "# ventas_clean.loc[np.isnan(ventas_clean['TOTAL_VENTAS']), 'COMISION_EMPRESA'] = np.nan\n",
        "# ventas_clean.loc[np.isnan(ventas_clean['TOTAL_VENTAS']), 'PORCENTAJE_COMISION_EMPRESA'] = np.nan\n",
        "# REVISAR (VER OTRA ALTERNATIVA AL nan)"
      ],
      "metadata": {
        "id": "ehAkHpAnqi00"
      },
      "execution_count": null,
      "outputs": []
    },
    {
      "cell_type": "code",
      "source": [
        "ventas_clean[['TOTAL_VENTAS','PORCENTAJE_COMISION_EMPRESA','COMISION_EMPRESA']].describe()"
      ],
      "metadata": {
        "colab": {
          "base_uri": "https://localhost:8080/",
          "height": 301
        },
        "id": "i_9NH2DMrMAd",
        "outputId": "b2fa2c45-6a5f-4d72-bb79-27684aa68e38"
      },
      "execution_count": null,
      "outputs": [
        {
          "output_type": "execute_result",
          "data": {
            "text/plain": [
              "          TOTAL_VENTAS  PORCENTAJE_COMISION_EMPRESA  COMISION_EMPRESA\n",
              "count       431,506.00                   431,506.00        431,506.00\n",
              "mean      7,544,169.21                         3.23        293,840.57\n",
              "std      48,373,412.84                         2.68      1,860,463.91\n",
              "min    -239,930,463.21                         0.00     -4,904,326.95\n",
              "25%               0.00                         0.05              0.00\n",
              "50%          90,996.38                         4.00          3,503.35\n",
              "75%       3,226,319.32                         4.75        126,875.03\n",
              "max   4,876,872,188.46                        18.00    243,843,609.42"
            ],
            "text/html": [
              "\n",
              "  <div id=\"df-62469cb2-f0eb-4740-93cf-108b351be6c2\">\n",
              "    <div class=\"colab-df-container\">\n",
              "      <div>\n",
              "<style scoped>\n",
              "    .dataframe tbody tr th:only-of-type {\n",
              "        vertical-align: middle;\n",
              "    }\n",
              "\n",
              "    .dataframe tbody tr th {\n",
              "        vertical-align: top;\n",
              "    }\n",
              "\n",
              "    .dataframe thead th {\n",
              "        text-align: right;\n",
              "    }\n",
              "</style>\n",
              "<table border=\"1\" class=\"dataframe\">\n",
              "  <thead>\n",
              "    <tr style=\"text-align: right;\">\n",
              "      <th></th>\n",
              "      <th>TOTAL_VENTAS</th>\n",
              "      <th>PORCENTAJE_COMISION_EMPRESA</th>\n",
              "      <th>COMISION_EMPRESA</th>\n",
              "    </tr>\n",
              "  </thead>\n",
              "  <tbody>\n",
              "    <tr>\n",
              "      <th>count</th>\n",
              "      <td>431,506.00</td>\n",
              "      <td>431,506.00</td>\n",
              "      <td>431,506.00</td>\n",
              "    </tr>\n",
              "    <tr>\n",
              "      <th>mean</th>\n",
              "      <td>7,544,169.21</td>\n",
              "      <td>3.23</td>\n",
              "      <td>293,840.57</td>\n",
              "    </tr>\n",
              "    <tr>\n",
              "      <th>std</th>\n",
              "      <td>48,373,412.84</td>\n",
              "      <td>2.68</td>\n",
              "      <td>1,860,463.91</td>\n",
              "    </tr>\n",
              "    <tr>\n",
              "      <th>min</th>\n",
              "      <td>-239,930,463.21</td>\n",
              "      <td>0.00</td>\n",
              "      <td>-4,904,326.95</td>\n",
              "    </tr>\n",
              "    <tr>\n",
              "      <th>25%</th>\n",
              "      <td>0.00</td>\n",
              "      <td>0.05</td>\n",
              "      <td>0.00</td>\n",
              "    </tr>\n",
              "    <tr>\n",
              "      <th>50%</th>\n",
              "      <td>90,996.38</td>\n",
              "      <td>4.00</td>\n",
              "      <td>3,503.35</td>\n",
              "    </tr>\n",
              "    <tr>\n",
              "      <th>75%</th>\n",
              "      <td>3,226,319.32</td>\n",
              "      <td>4.75</td>\n",
              "      <td>126,875.03</td>\n",
              "    </tr>\n",
              "    <tr>\n",
              "      <th>max</th>\n",
              "      <td>4,876,872,188.46</td>\n",
              "      <td>18.00</td>\n",
              "      <td>243,843,609.42</td>\n",
              "    </tr>\n",
              "  </tbody>\n",
              "</table>\n",
              "</div>\n",
              "      <button class=\"colab-df-convert\" onclick=\"convertToInteractive('df-62469cb2-f0eb-4740-93cf-108b351be6c2')\"\n",
              "              title=\"Convert this dataframe to an interactive table.\"\n",
              "              style=\"display:none;\">\n",
              "        \n",
              "  <svg xmlns=\"http://www.w3.org/2000/svg\" height=\"24px\"viewBox=\"0 0 24 24\"\n",
              "       width=\"24px\">\n",
              "    <path d=\"M0 0h24v24H0V0z\" fill=\"none\"/>\n",
              "    <path d=\"M18.56 5.44l.94 2.06.94-2.06 2.06-.94-2.06-.94-.94-2.06-.94 2.06-2.06.94zm-11 1L8.5 8.5l.94-2.06 2.06-.94-2.06-.94L8.5 2.5l-.94 2.06-2.06.94zm10 10l.94 2.06.94-2.06 2.06-.94-2.06-.94-.94-2.06-.94 2.06-2.06.94z\"/><path d=\"M17.41 7.96l-1.37-1.37c-.4-.4-.92-.59-1.43-.59-.52 0-1.04.2-1.43.59L10.3 9.45l-7.72 7.72c-.78.78-.78 2.05 0 2.83L4 21.41c.39.39.9.59 1.41.59.51 0 1.02-.2 1.41-.59l7.78-7.78 2.81-2.81c.8-.78.8-2.07 0-2.86zM5.41 20L4 18.59l7.72-7.72 1.47 1.35L5.41 20z\"/>\n",
              "  </svg>\n",
              "      </button>\n",
              "      \n",
              "  <style>\n",
              "    .colab-df-container {\n",
              "      display:flex;\n",
              "      flex-wrap:wrap;\n",
              "      gap: 12px;\n",
              "    }\n",
              "\n",
              "    .colab-df-convert {\n",
              "      background-color: #E8F0FE;\n",
              "      border: none;\n",
              "      border-radius: 50%;\n",
              "      cursor: pointer;\n",
              "      display: none;\n",
              "      fill: #1967D2;\n",
              "      height: 32px;\n",
              "      padding: 0 0 0 0;\n",
              "      width: 32px;\n",
              "    }\n",
              "\n",
              "    .colab-df-convert:hover {\n",
              "      background-color: #E2EBFA;\n",
              "      box-shadow: 0px 1px 2px rgba(60, 64, 67, 0.3), 0px 1px 3px 1px rgba(60, 64, 67, 0.15);\n",
              "      fill: #174EA6;\n",
              "    }\n",
              "\n",
              "    [theme=dark] .colab-df-convert {\n",
              "      background-color: #3B4455;\n",
              "      fill: #D2E3FC;\n",
              "    }\n",
              "\n",
              "    [theme=dark] .colab-df-convert:hover {\n",
              "      background-color: #434B5C;\n",
              "      box-shadow: 0px 1px 3px 1px rgba(0, 0, 0, 0.15);\n",
              "      filter: drop-shadow(0px 1px 2px rgba(0, 0, 0, 0.3));\n",
              "      fill: #FFFFFF;\n",
              "    }\n",
              "  </style>\n",
              "\n",
              "      <script>\n",
              "        const buttonEl =\n",
              "          document.querySelector('#df-62469cb2-f0eb-4740-93cf-108b351be6c2 button.colab-df-convert');\n",
              "        buttonEl.style.display =\n",
              "          google.colab.kernel.accessAllowed ? 'block' : 'none';\n",
              "\n",
              "        async function convertToInteractive(key) {\n",
              "          const element = document.querySelector('#df-62469cb2-f0eb-4740-93cf-108b351be6c2');\n",
              "          const dataTable =\n",
              "            await google.colab.kernel.invokeFunction('convertToInteractive',\n",
              "                                                     [key], {});\n",
              "          if (!dataTable) return;\n",
              "\n",
              "          const docLinkHtml = 'Like what you see? Visit the ' +\n",
              "            '<a target=\"_blank\" href=https://colab.research.google.com/notebooks/data_table.ipynb>data table notebook</a>'\n",
              "            + ' to learn more about interactive tables.';\n",
              "          element.innerHTML = '';\n",
              "          dataTable['output_type'] = 'display_data';\n",
              "          await google.colab.output.renderOutput(dataTable, element);\n",
              "          const docLink = document.createElement('div');\n",
              "          docLink.innerHTML = docLinkHtml;\n",
              "          element.appendChild(docLink);\n",
              "        }\n",
              "      </script>\n",
              "    </div>\n",
              "  </div>\n",
              "  "
            ]
          },
          "metadata": {},
          "execution_count": 86
        }
      ]
    },
    {
      "cell_type": "code",
      "source": [
        "# Crear una figura con tres subplots\n",
        "fig, axs = plt.subplots(1, 3, figsize=(16, 4))\n",
        "\n",
        "# Histograma para TOTAL_VENTAS\n",
        "axs[0].hist(ventas_clean['TOTAL_VENTAS'], bins=25, edgecolor='black')\n",
        "axs[0].set_xlabel('TOTAL_VENTAS')\n",
        "axs[0].set_ylabel('Frecuencia')\n",
        "axs[0].set_title('TOTAL_VENTAS')\n",
        "\n",
        "# Histograma para COMISION_EMPRESA\n",
        "axs[1].hist(ventas_clean['COMISION_EMPRESA'], bins=25, edgecolor='black')\n",
        "axs[1].set_xlabel('COMISION_EMPRESA')\n",
        "axs[1].set_ylabel('Frecuencia')\n",
        "axs[1].set_title('COMISION_EMPRESA')\n",
        "\n",
        "# Histograma para PORCENTAJE_COMISION_EMPRESA\n",
        "axs[2].hist(ventas_clean['PORCENTAJE_COMISION_EMPRESA'], bins=25, edgecolor='black')\n",
        "axs[2].set_xlabel('PORCENTAJE_COMISION_EMPRESA')\n",
        "axs[2].set_ylabel('Frecuencia')\n",
        "axs[2].set_title('PORCENTAJE_COMISION_EMPRESA')\n",
        "\n",
        "# Ajustar los espacios entre subplots\n",
        "fig.tight_layout()\n",
        "\n",
        "# Mostrar los histogramas\n",
        "plt.show()"
      ],
      "metadata": {
        "colab": {
          "base_uri": "https://localhost:8080/",
          "height": 360
        },
        "id": "FBUQ5NZnuPm0",
        "outputId": "527d0b56-051e-4aec-b02a-cc3489cbcd41"
      },
      "execution_count": null,
      "outputs": [
        {
          "output_type": "display_data",
          "data": {
            "text/plain": [
              "<Figure size 1600x400 with 3 Axes>"
            ],
            "image/png": "[encoded data removed]"
          },
          "metadata": {}
        }
      ]
    },
    {
      "cell_type": "code",
      "source": [
        "# Crear la figura y los subplots\n",
        "fig, axs = plt.subplots(1, 3, figsize=(16, 4))\n",
        "\n",
        "# Boxplot para 'TOTAL_VENTAS'\n",
        "axs[0].boxplot(ventas_clean['TOTAL_VENTAS'].dropna())\n",
        "axs[0].set_title('Boxplot de TOTAL_VENTAS')\n",
        "\n",
        "# Boxplot para 'COMISION_EMPRESA'\n",
        "axs[1].boxplot(ventas_clean['COMISION_EMPRESA'].dropna())\n",
        "axs[1].set_title('Boxplot de COMISION_EMPRESA')\n",
        "\n",
        "# Boxplot para 'PORCENTAJE_COMISION_EMPRESA'\n",
        "axs[2].boxplot(ventas_clean['PORCENTAJE_COMISION_EMPRESA'].dropna())\n",
        "axs[2].set_title('Boxplot de PORCENTAJE_COMISION_EMPRESA')\n",
        "\n",
        "# Ajustar los espacios entre subplots\n",
        "plt.tight_layout()\n",
        "\n",
        "# Mostrar los gráficos\n",
        "plt.show()"
      ],
      "metadata": {
        "colab": {
          "base_uri": "https://localhost:8080/",
          "height": 360
        },
        "id": "N8MgIWfxuPuN",
        "outputId": "298944cb-aa25-416c-9395-0e955a3a5901"
      },
      "execution_count": null,
      "outputs": [
        {
          "output_type": "display_data",
          "data": {
            "text/plain": [
              "<Figure size 1600x400 with 3 Axes>"
            ],
            "image/png": "[encoded data removed]"
          },
          "metadata": {}
        }
      ]
    },
    {
      "cell_type": "code",
      "source": [
        "# Deberíamos hacer algo con los valores negativos, los valores demasiado altos (y con los 0?)"
      ],
      "metadata": {
        "id": "aouQcX7IwdRr"
      },
      "execution_count": null,
      "outputs": []
    },
    {
      "cell_type": "code",
      "source": [
        "(ventas_clean['TOTAL_VENTAS'] == 0).sum()"
      ],
      "metadata": {
        "colab": {
          "base_uri": "https://localhost:8080/"
        },
        "id": "VperyJtuzb6W",
        "outputId": "225903df-fdd5-4735-84f1-2f6032bcd538"
      },
      "execution_count": null,
      "outputs": [
        {
          "output_type": "execute_result",
          "data": {
            "text/plain": [
              "181058"
            ]
          },
          "metadata": {},
          "execution_count": 90
        }
      ]
    },
    {
      "cell_type": "code",
      "source": [
        "(ventas_clean['COMISION_EMPRESA'] == 0).sum()"
      ],
      "metadata": {
        "colab": {
          "base_uri": "https://localhost:8080/"
        },
        "id": "oHltpIpMzh00",
        "outputId": "fc8c27fa-a4e7-4183-bf49-ec160ffd9992"
      },
      "execution_count": null,
      "outputs": [
        {
          "output_type": "execute_result",
          "data": {
            "text/plain": [
              "183486"
            ]
          },
          "metadata": {},
          "execution_count": 91
        }
      ]
    },
    {
      "cell_type": "code",
      "source": [
        "plt.scatter(ventas_clean['COMISION_EMPRESA'], ventas_clean['TOTAL_VENTAS'])\n",
        "plt.xlabel('COMISION_EMPRESA')\n",
        "plt.ylabel('TOTAL_VENTAS')\n",
        "plt.title('COMISION_EMPRESA vs TOTAL_VENTAS')\n",
        "plt.show()"
      ],
      "metadata": {
        "colab": {
          "base_uri": "https://localhost:8080/",
          "height": 471
        },
        "id": "rm45NV6tdMV_",
        "outputId": "c75d671a-df30-4d1d-e1a3-09d2e2790fba"
      },
      "execution_count": null,
      "outputs": [
        {
          "output_type": "display_data",
          "data": {
            "text/plain": [
              "<Figure size 640x480 with 1 Axes>"
            ],
            "image/png": "[encoded data removed]"
          },
          "metadata": {}
        }
      ]
    },
    {
      "cell_type": "code",
      "source": [
        "plt.scatter(ventas_clean['TOTAL_VENTAS'], ventas_clean['PORCENTAJE_COMISION_EMPRESA'])\n",
        "plt.xlabel('TOTAL_VENTAS')\n",
        "plt.ylabel('PORCENTAJE_COMISION_EMPRESA')\n",
        "plt.title('TOTAL_VENTAS vs PORCENTAJE_COMISION_EMPRESA')\n",
        "plt.show()"
      ],
      "metadata": {
        "colab": {
          "base_uri": "https://localhost:8080/",
          "height": 471
        },
        "id": "YtXqdhRsdfFC",
        "outputId": "24abbc3d-1ae0-4939-91d9-a90750e24ac0"
      },
      "execution_count": null,
      "outputs": [
        {
          "output_type": "display_data",
          "data": {
            "text/plain": [
              "<Figure size 640x480 with 1 Axes>"
            ],
            "image/png": "[encoded data removed]"
          },
          "metadata": {}
        }
      ]
    },
    {
      "cell_type": "code",
      "source": [
        "plt.scatter(ventas_clean['COMISION_EMPRESA'], ventas_clean['PORCENTAJE_COMISION_EMPRESA'])\n",
        "plt.xlabel('COMISION_EMPRESA')\n",
        "plt.ylabel('PORCENTAJE_COMISION_EMPRESA')\n",
        "plt.title('COMISION_EMPRESA vs PORCENTAJE_COMISION_EMPRESA')\n",
        "plt.show()"
      ],
      "metadata": {
        "colab": {
          "base_uri": "https://localhost:8080/",
          "height": 471
        },
        "id": "8sgs9EB1drmX",
        "outputId": "50bb8d57-f127-4c5e-bbc0-2b38152f9c71"
      },
      "execution_count": null,
      "outputs": [
        {
          "output_type": "display_data",
          "data": {
            "text/plain": [
              "<Figure size 640x480 with 1 Axes>"
            ],
            "image/png": "[encoded data removed]"
          },
          "metadata": {}
        }
      ]
    },
    {
      "cell_type": "code",
      "source": [
        "# Ver de  armar un pairplot o jointplot?"
      ],
      "metadata": {
        "id": "vN46-1eoWtE5"
      },
      "execution_count": null,
      "outputs": []
    },
    {
      "cell_type": "code",
      "source": [
        "# Probemos con verificar la siguiente fórmula:\n",
        "ventas_clean['CALCULADA'] = ventas_clean['TOTAL_VENTAS'] * ventas_clean['PORCENTAJE_COMISION_EMPRESA']"
      ],
      "metadata": {
        "id": "NtUtbDc057lk"
      },
      "execution_count": null,
      "outputs": []
    },
    {
      "cell_type": "code",
      "source": [
        "# Cuándo hay coincidencia exacta?\n",
        "sum(abs(ventas_clean['COMISION_EMPRESA'] - ventas_clean['CALCULADA'] == 0))"
      ],
      "metadata": {
        "colab": {
          "base_uri": "https://localhost:8080/"
        },
        "id": "cNdrFX2_ftao",
        "outputId": "71863dc8-7bc8-4305-d447-8f4b75395eaa"
      },
      "execution_count": null,
      "outputs": [
        {
          "output_type": "execute_result",
          "data": {
            "text/plain": [
              "190999"
            ]
          },
          "metadata": {},
          "execution_count": 96
        }
      ]
    },
    {
      "cell_type": "code",
      "source": [
        "# Es decir, sólo en 191 mil casos la fórmula se cumple exactamente."
      ],
      "metadata": {
        "id": "FpHp_iguA5SN"
      },
      "execution_count": null,
      "outputs": []
    },
    {
      "cell_type": "code",
      "source": [
        "# Probemos con algún margen de error"
      ],
      "metadata": {
        "id": "VTWI3oPnA-xW"
      },
      "execution_count": null,
      "outputs": []
    },
    {
      "cell_type": "code",
      "source": [
        "sum(abs(ventas_clean['COMISION_EMPRESA'] - ventas_clean['CALCULADA']) <= 0.01)"
      ],
      "metadata": {
        "colab": {
          "base_uri": "https://localhost:8080/"
        },
        "id": "ausd8v6bC-P3",
        "outputId": "66262798-dac2-448c-d2dd-0bd2e00e43c3"
      },
      "execution_count": null,
      "outputs": [
        {
          "output_type": "execute_result",
          "data": {
            "text/plain": [
              "260873"
            ]
          },
          "metadata": {},
          "execution_count": 99
        }
      ]
    },
    {
      "cell_type": "code",
      "source": [
        "for x in [0.01, 0.1, 0.2, 0.3, 0.4, 0.5, 1]:\n",
        "  print('Para', x, 'de diferencia, tenemos', sum(abs(ventas_clean['COMISION_EMPRESA'] - ventas_clean['CALCULADA']) <= x), 'igualdades')"
      ],
      "metadata": {
        "colab": {
          "base_uri": "https://localhost:8080/"
        },
        "id": "AOoWPX_mBP1R",
        "outputId": "404bdc6c-7f06-43ad-de04-331c9f5cfe4e"
      },
      "execution_count": null,
      "outputs": [
        {
          "output_type": "stream",
          "name": "stdout",
          "text": [
            "Para 0.01 de diferencia, tenemos 260873 igualdades\n",
            "Para 0.1 de diferencia, tenemos 261053 igualdades\n",
            "Para 0.2 de diferencia, tenemos 261109 igualdades\n",
            "Para 0.3 de diferencia, tenemos 261131 igualdades\n",
            "Para 0.4 de diferencia, tenemos 261155 igualdades\n",
            "Para 0.5 de diferencia, tenemos 261175 igualdades\n",
            "Para 1 de diferencia, tenemos 261272 igualdades\n"
          ]
        }
      ]
    },
    {
      "cell_type": "code",
      "source": [
        "# Para 261 mil casos (61%) la fórmula se verifica, con precisión menor a 1 entero."
      ],
      "metadata": {
        "id": "DH-u96pdDDh1"
      },
      "execution_count": null,
      "outputs": []
    },
    {
      "cell_type": "code",
      "source": [
        "# Grafiquemos la distribución de la diferencia\n",
        "\n",
        "diferencia = ventas_clean['COMISION_EMPRESA'] - ventas_clean['CALCULADA']\n",
        "plt.boxplot(diferencia.dropna())\n",
        "plt.xlabel('Diferencia')\n",
        "plt.ylabel('Valor')\n",
        "plt.title('Box Plot de la diferencia entre COMISION_EMPRESA y CALCULADA')\n",
        "plt.show()"
      ],
      "metadata": {
        "colab": {
          "base_uri": "https://localhost:8080/",
          "height": 487
        },
        "id": "LwogIbaeFTOj",
        "outputId": "f8cd2b98-c2ac-47e1-b2cb-f48293781639"
      },
      "execution_count": null,
      "outputs": [
        {
          "output_type": "display_data",
          "data": {
            "text/plain": [
              "<Figure size 640x480 with 1 Axes>"
            ],
            "image/png": "[encoded data removed]"
          },
          "metadata": {}
        }
      ]
    },
    {
      "cell_type": "code",
      "source": [
        "# Surge otra pregunta: habrá algun caso que la diferencia es positiva?\n",
        "diferencia.describe()"
      ],
      "metadata": {
        "colab": {
          "base_uri": "https://localhost:8080/"
        },
        "id": "koBD_1kWHL4h",
        "outputId": "823414a6-b482-47f5-9898-7ced01f67714"
      },
      "execution_count": null,
      "outputs": [
        {
          "output_type": "execute_result",
          "data": {
            "text/plain": [
              "count           431,506.00\n",
              "mean        -22,527,052.49\n",
              "std         175,482,129.81\n",
              "min     -24,140,517,332.88\n",
              "25%          -3,376,914.79\n",
              "50%                   0.00\n",
              "75%                   0.00\n",
              "max         485,528,367.60\n",
              "dtype: float64"
            ]
          },
          "metadata": {},
          "execution_count": 103
        }
      ]
    },
    {
      "cell_type": "code",
      "source": [
        "plt.scatter(ventas_clean['COMISION_EMPRESA'], ventas_clean['CALCULADA'])\n",
        "plt.xlabel('COMISION_EMPRESA')\n",
        "plt.ylabel('CALCULADA')\n",
        "plt.title('COMISION_EMPRESA vs CALCULADA')\n",
        "plt.show()"
      ],
      "metadata": {
        "colab": {
          "base_uri": "https://localhost:8080/",
          "height": 471
        },
        "id": "QBvXVt4NkBx8",
        "outputId": "5fadab93-74c6-4478-e8a0-e1fb342edf5d"
      },
      "execution_count": null,
      "outputs": [
        {
          "output_type": "display_data",
          "data": {
            "text/plain": [
              "<Figure size 640x480 with 1 Axes>"
            ],
            "image/png": "[encoded data removed]"
          },
          "metadata": {}
        }
      ]
    },
    {
      "cell_type": "code",
      "source": [
        "# Poniendo foco en los casos en que COMISION_EMPRESA es mayor que CALCULADA:\n",
        "plt.scatter(ventas_clean[ventas_clean['COMISION_EMPRESA'] > ventas_clean['CALCULADA']]['COMISION_EMPRESA'], ventas_clean[ventas_clean['COMISION_EMPRESA'] > ventas_clean['CALCULADA']]['CALCULADA'])\n",
        "plt.xlabel('COMISION_EMPRESA')\n",
        "plt.ylabel('CALCULADA')\n",
        "plt.title('COMISION_EMPRESA vs CALCULADA')\n",
        "plt.show()"
      ],
      "metadata": {
        "colab": {
          "base_uri": "https://localhost:8080/",
          "height": 471
        },
        "id": "eqe3Z4xOlAG4",
        "outputId": "fd7239fc-426b-4a58-aa24-77be5c306d33"
      },
      "execution_count": null,
      "outputs": [
        {
          "output_type": "display_data",
          "data": {
            "text/plain": [
              "<Figure size 640x480 with 1 Axes>"
            ],
            "image/png": "[encoded data removed]"
          },
          "metadata": {}
        }
      ]
    },
    {
      "cell_type": "code",
      "source": [
        "len(ventas_clean[ventas_clean['COMISION_EMPRESA'] > ventas_clean['CALCULADA']])"
      ],
      "metadata": {
        "colab": {
          "base_uri": "https://localhost:8080/"
        },
        "id": "dTocDYCUydbZ",
        "outputId": "d186d89a-f325-4c3d-c2a7-7869ccb7bcf4"
      },
      "execution_count": null,
      "outputs": [
        {
          "output_type": "execute_result",
          "data": {
            "text/plain": [
              "35345"
            ]
          },
          "metadata": {},
          "execution_count": 107
        }
      ]
    },
    {
      "cell_type": "code",
      "source": [
        "# Lo que figura en la variable COMISION_EMPRESA siempre es menor o igual que lo que surgiría de multiplicar TOTAL_VENTAS y PORCENTAJE_COMISION_EMPRESA"
      ],
      "metadata": {
        "id": "hWQc-YkMFdlt"
      },
      "execution_count": null,
      "outputs": []
    },
    {
      "cell_type": "markdown",
      "source": [
        "## Paso 2: Análisis estadístico descriptivo"
      ],
      "metadata": {
        "id": "uWvSDx9e0lLJ"
      }
    },
    {
      "cell_type": "markdown",
      "source": [
        "1.\tCalcula estadísticas descriptivas básicas de la serie temporal, como la media, mediana, desviación estándar, mínimo y máximo.\n"
      ],
      "metadata": {
        "id": "AxFs_bvA0s6T"
      }
    },
    {
      "cell_type": "code",
      "source": [
        "ventas['TOTAL_VENTAS'].describe()"
      ],
      "metadata": {
        "id": "Iuwtj_F452jM",
        "colab": {
          "base_uri": "https://localhost:8080/"
        },
        "outputId": "6dc26031-69ec-49f0-f795-01300b68b399"
      },
      "execution_count": null,
      "outputs": [
        {
          "output_type": "execute_result",
          "data": {
            "text/plain": [
              "count         431,506.00\n",
              "mean        7,544,169.21\n",
              "std        48,373,412.84\n",
              "min      -239,930,463.21\n",
              "25%                 0.00\n",
              "50%            90,996.38\n",
              "75%         3,226,319.32\n",
              "max     4,876,872,188.46\n",
              "Name: TOTAL_VENTAS, dtype: float64"
            ]
          },
          "metadata": {},
          "execution_count": 109
        }
      ]
    },
    {
      "cell_type": "markdown",
      "source": [
        "2.\tAnaliza la tendencia central y la dispersión de los datos. ¿Existen valores atípicos o extremos? ¿Cómo podrían afectar el análisis posterior?\n"
      ],
      "metadata": {
        "id": "JhV3Ca530wpV"
      }
    },
    {
      "cell_type": "code",
      "source": [
        "#PROPONER ALGUN PERCENTIL. Y PONER EL NRO ABSOLUTO EN CANTIDAD DE REGISSTRO"
      ],
      "metadata": {
        "id": "58PRtwZ9YwE1"
      },
      "execution_count": null,
      "outputs": []
    },
    {
      "cell_type": "code",
      "source": [
        "plt.boxplot(ventas_clean['TOTAL_VENTAS'].dropna())\n",
        "plt.title('TOTAL_VENTAS')\n",
        "plt.show()"
      ],
      "metadata": {
        "colab": {
          "base_uri": "https://localhost:8080/",
          "height": 452
        },
        "id": "7zvZnpOy1oRb",
        "outputId": "9dcae7d3-e7a2-46dc-e796-6ad88b5f89c4"
      },
      "execution_count": null,
      "outputs": [
        {
          "output_type": "display_data",
          "data": {
            "text/plain": [
              "<Figure size 640x480 with 1 Axes>"
            ],
            "image/png": "[encoded data removed]"
          },
          "metadata": {}
        }
      ]
    },
    {
      "cell_type": "code",
      "source": [
        "# Los valores negativos y los 0 sesgan hacia abajo la media\n",
        "# Los valores extremos positivos sesgan hacia arriba"
      ],
      "metadata": {
        "id": "y90b7xsO0ef9"
      },
      "execution_count": null,
      "outputs": []
    },
    {
      "cell_type": "code",
      "source": [
        "# Negativos\n",
        "len(ventas_clean[ventas_clean['TOTAL_VENTAS'] < 0])"
      ],
      "metadata": {
        "colab": {
          "base_uri": "https://localhost:8080/"
        },
        "id": "JKgqJWG8WXsA",
        "outputId": "7ecc01bb-fd10-4944-a596-0002f4ac3bbc"
      },
      "execution_count": null,
      "outputs": [
        {
          "output_type": "execute_result",
          "data": {
            "text/plain": [
              "1390"
            ]
          },
          "metadata": {},
          "execution_count": 121
        }
      ]
    },
    {
      "cell_type": "code",
      "source": [
        "# Ceros\n",
        "(ventas_clean['TOTAL_VENTAS'] == 0).sum()"
      ],
      "metadata": {
        "colab": {
          "base_uri": "https://localhost:8080/"
        },
        "id": "E97ceDAOVbxV",
        "outputId": "09f7b96a-8a7c-4c7c-bf43-1e9ce19ec514"
      },
      "execution_count": null,
      "outputs": [
        {
          "output_type": "execute_result",
          "data": {
            "text/plain": [
              "181058"
            ]
          },
          "metadata": {},
          "execution_count": 122
        }
      ]
    },
    {
      "cell_type": "code",
      "source": [
        "# Extremos positivos\n",
        "percentil_95 = np.percentile(ventas_clean['TOTAL_VENTAS'], 95)\n",
        "len(ventas_clean[ventas_clean['TOTAL_VENTAS'] >= percentil_95])"
      ],
      "metadata": {
        "colab": {
          "base_uri": "https://localhost:8080/"
        },
        "id": "XOn7-BFSVsVQ",
        "outputId": "0fcb5331-7588-4b01-b1e1-75c55c7af2e8"
      },
      "execution_count": null,
      "outputs": [
        {
          "output_type": "execute_result",
          "data": {
            "text/plain": [
              "21576"
            ]
          },
          "metadata": {},
          "execution_count": 123
        }
      ]
    },
    {
      "cell_type": "code",
      "source": [
        "# Al eliminar los extremos positivos y negativos\n",
        "plt.boxplot(ventas_clean[(ventas_clean['TOTAL_VENTAS'] > 0) & (ventas_clean['TOTAL_VENTAS'] < percentil_95)]['TOTAL_VENTAS'])\n",
        "plt.title('TOTAL_VENTAS')\n",
        "plt.show()"
      ],
      "metadata": {
        "colab": {
          "base_uri": "https://localhost:8080/",
          "height": 452
        },
        "id": "Us9tARJ_1zjS",
        "outputId": "b609954f-2f84-43a5-aead-6dd7fa60e498"
      },
      "execution_count": null,
      "outputs": [
        {
          "output_type": "display_data",
          "data": {
            "text/plain": [
              "<Figure size 640x480 with 1 Axes>"
            ],
            "image/png": "[encoded data removed]"
          },
          "metadata": {}
        }
      ]
    },
    {
      "cell_type": "code",
      "source": [
        "#Agregar histograma"
      ],
      "metadata": {
        "id": "N-X5zoWNZqJC"
      },
      "execution_count": null,
      "outputs": []
    },
    {
      "cell_type": "markdown",
      "source": [
        "3.\tGrafica la serie temporal en un gráfico de líneas para visualizar la evolución de los datos a lo largo del tiempo."
      ],
      "metadata": {
        "id": "hexHLiR60yMr"
      }
    },
    {
      "cell_type": "code",
      "source": [
        "prueba6 = ventas_clean[['FECHA','TOTAL_VENTAS']].copy()"
      ],
      "metadata": {
        "id": "--yygmFm02MT"
      },
      "execution_count": null,
      "outputs": []
    },
    {
      "cell_type": "code",
      "source": [
        "prueba6['FECHA'].dtype"
      ],
      "metadata": {
        "colab": {
          "base_uri": "https://localhost:8080/"
        },
        "id": "dlHlvxru3sXe",
        "outputId": "d45ee29e-8554-41c2-b35c-58bdaae7ebed"
      },
      "execution_count": null,
      "outputs": [
        {
          "output_type": "execute_result",
          "data": {
            "text/plain": [
              "period[M]"
            ]
          },
          "metadata": {},
          "execution_count": 126
        }
      ]
    },
    {
      "cell_type": "code",
      "source": [
        "prueba6['TOTAL_VENTAS'].dtype"
      ],
      "metadata": {
        "colab": {
          "base_uri": "https://localhost:8080/"
        },
        "id": "nsE05mtE3jgC",
        "outputId": "9d18606a-643a-4d86-9fcd-ac5c6675e29f"
      },
      "execution_count": null,
      "outputs": [
        {
          "output_type": "execute_result",
          "data": {
            "text/plain": [
              "dtype('float64')"
            ]
          },
          "metadata": {},
          "execution_count": 127
        }
      ]
    },
    {
      "cell_type": "code",
      "source": [
        "prueba6_agregado = prueba6.groupby('FECHA')['TOTAL_VENTAS'].sum().reset_index()\n",
        "\n",
        "plt.figure(figsize=(16, 3))\n",
        "\n",
        "# Graficar el gráfico de líneas\n",
        "plt.plot(prueba6_agregado['FECHA'].astype(str), prueba6_agregado['TOTAL_VENTAS'])\n",
        "\n",
        "# Personalizar el gráfico\n",
        "plt.title('Total de ventas')\n",
        "plt.xlabel('Fecha')\n",
        "plt.ylabel('Ventas')\n",
        "\n",
        "# Rotar las etiquetas del eje X para mayor legibilidad (opcional)\n",
        "plt.xticks(rotation=45)\n",
        "\n",
        "# Mostrar el gráfico\n",
        "plt.show()"
      ],
      "metadata": {
        "colab": {
          "base_uri": "https://localhost:8080/",
          "height": 370
        },
        "id": "f2JlyJsq4Diy",
        "outputId": "189c366f-a74b-4c9e-9cac-d4316fc1f8e7"
      },
      "execution_count": null,
      "outputs": [
        {
          "output_type": "display_data",
          "data": {
            "text/plain": [
              "<Figure size 1600x300 with 1 Axes>"
            ],
            "image/png": "[encoded data removed]"
          },
          "metadata": {}
        }
      ]
    },
    {
      "cell_type": "code",
      "source": [
        "len(prueba6_agregado)"
      ],
      "metadata": {
        "colab": {
          "base_uri": "https://localhost:8080/"
        },
        "id": "gcaDAs3s3vyZ",
        "outputId": "ec0c672a-3e4f-4012-adf0-d317eaf72132"
      },
      "execution_count": null,
      "outputs": [
        {
          "output_type": "execute_result",
          "data": {
            "text/plain": [
              "42"
            ]
          },
          "metadata": {},
          "execution_count": 129
        }
      ]
    },
    {
      "cell_type": "code",
      "source": [
        "# GRAFICAR POR AÑO. LA TENDENCIA DE MESES. PARA VER ESTACIONALIDAD."
      ],
      "metadata": {
        "id": "djh0KURqaUuj"
      },
      "execution_count": null,
      "outputs": []
    },
    {
      "cell_type": "code",
      "source": [
        "# Se observa el efecto de la inflación y pareciera haber picos en noviembre/diciembre"
      ],
      "metadata": {
        "id": "6q0ZdtHX54cC"
      },
      "execution_count": null,
      "outputs": []
    },
    {
      "cell_type": "markdown",
      "source": [
        "4.\tCalcula y grafica la función de autocorrelación para identificar posibles patrones de autocorrelación en los datos. (Es un término estadístico que se utiliza para describir la presencia o ausencia de correlación en los datos de las series temporales, indicando, si las observaciones pasadas influyen en las actuales.)"
      ],
      "metadata": {
        "id": "QPGMX3kN0z1d"
      }
    },
    {
      "cell_type": "code",
      "source": [
        "# Calcular la función de autocorrelación\n",
        "acf = plot_acf(prueba6_agregado['TOTAL_VENTAS'], lags=12)\n",
        "\n",
        "# Graficar la función de autocorrelación\n",
        "plt.xlabel('Lag')\n",
        "plt.ylabel('Autocorrelation')\n",
        "plt.title('Autocorrelation Function')\n",
        "plt.show()"
      ],
      "metadata": {
        "colab": {
          "base_uri": "https://localhost:8080/",
          "height": 472
        },
        "id": "c9PErA5V6h8Z",
        "outputId": "f61ed9a8-469b-4508-cd51-0e66b957d748"
      },
      "execution_count": null,
      "outputs": [
        {
          "output_type": "display_data",
          "data": {
            "text/plain": [
              "<Figure size 640x480 with 1 Axes>"
            ],
            "image/png": "[encoded data removed]"
          },
          "metadata": {}
        }
      ]
    },
    {
      "cell_type": "code",
      "source": [
        "# Hay correlación estadísticamente significativa para el lag 1, 2 y 3.\n",
        "# Lo que implica que observaciones pasadas influyen en las observaciones actuales de la serie temporal.\n",
        "# De manera positiva"
      ],
      "metadata": {
        "id": "coNJvL6Q7Lcu"
      },
      "execution_count": null,
      "outputs": []
    }
  ]
}