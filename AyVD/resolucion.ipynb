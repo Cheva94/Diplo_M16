{
  "cells": [
    {
      "attachments": {},
      "cell_type": "markdown",
      "metadata": {},
      "source": [
        "# Diplomatura en ciencia de datos, aprendizaje automático y sus aplicaciones - Edición 2023 - FAMAF (UNC)"
      ]
    },
    {
      "attachments": {},
      "cell_type": "markdown",
      "metadata": {},
      "source": [
        "## Análisis y visualización de datos\n",
        "\n",
        "### Mentoría 16 - Trabajo práctico 1\n",
        "\n",
        "**Integrantes:**\n",
        "- Canalis, Patricio.\n",
        "- Chevallier-Boutell, Ignacio José.\n",
        "- Villarroel Torrez, Daniel.\n",
        "\n",
        "**Mentores:**\n",
        "- Gonzalez, Lucía\n",
        "- Lahoz, Nahuel\n",
        "\n",
        "---"
      ]
    },
    {
      "attachments": {},
      "cell_type": "markdown",
      "metadata": {},
      "source": [
        "## Librerías"
      ]
    },
    {
      "cell_type": "code",
      "execution_count": null,
      "metadata": {},
      "outputs": [],
      "source": [
        "import numpy as np\n",
        "import pandas as pd\n",
        "import missingno as msno\n",
        "import matplotlib.pyplot as plt\n",
        "from statsmodels.graphics.tsaplots import plot_acf\n",
        "pd.options.display.float_format = '{:,.2f}'.format"
      ]
    },
    {
      "attachments": {},
      "cell_type": "markdown",
      "metadata": {},
      "source": [
        "## Dataset"
      ]
    },
    {
      "cell_type": "code",
      "execution_count": null,
      "metadata": {},
      "outputs": [],
      "source": [
        "url = '/home/usuario/muestra_diplodatos_ventas_2023.csv'\n",
        "ventas = pd.read_csv(url)"
      ]
    },
    {
      "attachments": {},
      "cell_type": "markdown",
      "metadata": {},
      "source": [
        "---\n",
        "# Paso 1: Carga y exploración inicial de datos"
      ]
    },
    {
      "attachments": {},
      "cell_type": "markdown",
      "metadata": {
        "id": "pcqGmfPytz_Q"
      },
      "source": [
        "1.\tCargar los datos.\n",
        "2.\tExplora la estructura de los datos: número de observaciones, variables disponibles, intervalo de tiempo entre observaciones, etc.\n",
        "3.\tObserva las primeras y últimas filas de los datos para tener una idea general de su contenido.\n",
        "4.\tVerifica si hay valores faltantes o atípicos en los datos y propongan cómo manejarlos.\n"
      ]
    },
    {
      "cell_type": "code",
      "execution_count": null,
      "metadata": {
        "colab": {
          "base_uri": "https://localhost:8080/"
        },
        "id": "uf9qMQg_haoP",
        "outputId": "a75d7b2e-f7cf-41ac-ede5-684cc881ed7a"
      },
      "outputs": [],
      "source": [
        "lista_columnas = list(ventas.columns)\n",
        "print(len(lista_columnas), 'variables:')\n",
        "lista_columnas"
      ]
    },
    {
      "attachments": {},
      "cell_type": "markdown",
      "metadata": {
        "id": "1W0npLaZvivh"
      },
      "source": [
        "Significado tentativo:\n",
        "*   **ID_VENDEDOR**: Clave identificación vendedor\n",
        "*   **INSCRIPCION**: ???\n",
        "*   **AÑO**: Año (2019 a 2022)\n",
        "*   **MES**: \tMes\n",
        "*   **CATEGORIA**: Descripción del Código de Actividad Codiguero NAES Año 2018 y siguientes\n",
        "*   **DEPOSITO**: ???\n",
        "*   **DESCRIPCION_CATEGORIA**: Subrubro definido por la DGR (Dato Interno, no declarado por el contribuyente).\n",
        "*   **TOTAL_VENTAS**: Monto total de ventas (base imponible)\n",
        "*   **PORCENTAJE_COMISION_EMPRESA**: Comisión por las ventas en la plataforma (alícuota)\n",
        "*   **COMISION_EMPRESA**: Comisión por las ventas en la plataforma (valor)\n",
        "*   **TRATAMIENTO_FISCAL**: Indica qué tratamiento fiscal se le da a la operación (o vendedor/comprador?), especialmente respecto a la alícuota a cobrarle.\n",
        "*   **DESC_TRATAMIENTO_FISCAL**: Categoriza los valores de \"TRATAMIENTO_FISCAL\"\n",
        "*   **TRATAMIENTO_DIFERNCIAL**: Indica el artículo de alguna reglamentación aplicado para dar tratamiento fiscal especial\n",
        "*   **CM04**: Puede marcar las operaciones bajo Convenio Multilateral (CM) o indicar que se trata de un vendedor inscripto en el CM. Ver.\n",
        "*   **CATEGORIA (Ajustado)**: Variable \"CATEGORIA\" limpia (se redujo el número de valores posibles)\n",
        "*   **SUB-CATEGORIA**: Variable \"DESCRIPCION_CATEGORIA\" limpia (se redujo el número de valores posibles)\n",
        "*   **NOMBRE**: Nombre del vendedor? Del comprador?\n",
        "*   **OMEGA**: Marca para contribuyente de interés fiscal especial?? (Todos tienen valor \"1\")\n",
        "*   **MODELO**: Marca para vendedor modelo"
      ]
    },
    {
      "cell_type": "code",
      "execution_count": null,
      "metadata": {
        "colab": {
          "base_uri": "https://localhost:8080/"
        },
        "id": "SDM0qKpHzrvm",
        "outputId": "4430839e-3ef0-4833-b7a8-71709bcdc9df"
      },
      "outputs": [],
      "source": [
        "ventas.dtypes"
      ]
    },
    {
      "cell_type": "code",
      "execution_count": null,
      "metadata": {
        "colab": {
          "base_uri": "https://localhost:8080/",
          "height": 301
        },
        "id": "dDOuNAsphnuv",
        "outputId": "fe3c1a7b-82f9-432e-a308-6ad3a4d07937"
      },
      "outputs": [],
      "source": [
        "ventas.describe()"
      ]
    },
    {
      "cell_type": "code",
      "execution_count": null,
      "metadata": {
        "colab": {
          "base_uri": "https://localhost:8080/",
          "height": 575
        },
        "id": "Ux_6H8D_0pXt",
        "outputId": "fded5a88-c102-4a8d-a2af-33638b5e53b0"
      },
      "outputs": [],
      "source": [
        "msno.bar(ventas,figsize=(12, 3), sort=\"ascending\",fontsize=12, color='gray')"
      ]
    },
    {
      "cell_type": "code",
      "execution_count": null,
      "metadata": {
        "colab": {
          "base_uri": "https://localhost:8080/"
        },
        "id": "LRsCzFAM1wJP",
        "outputId": "fa353519-2133-4d4d-cfeb-47672e819c4c"
      },
      "outputs": [],
      "source": [
        "recuentos = {}\n",
        "\n",
        "for columna in ventas.columns:\n",
        "    recuento = ventas[columna].value_counts()\n",
        "    recuentos[columna] = recuento\n",
        "    print(f\"Recuento de categorías para la columna '{columna}':\")\n",
        "    print(recuento)\n",
        "    print()\n",
        "    print()\n",
        "    print()"
      ]
    },
    {
      "attachments": {},
      "cell_type": "markdown",
      "metadata": {
        "id": "OvAK1ET55A_W"
      },
      "source": [
        "\n",
        "\n",
        "En base a lo visto hasta aquí, se podría prescindir de las variables \"CATEGORIA\" y \"DESCRIPCION_CATEGORIA\" (superadas por \"CATEGORIA (Ajustado)\" y \"SUB-CATEGORIA\", respectivamente).\n",
        "\n",
        "También se podría prescindir de la variable \"OMEGA\", por no aportar información relevante (es constante).\n",
        "\n",
        "Al igual que con \"CATEGORIA (Ajustado)\""
      ]
    },
    {
      "cell_type": "code",
      "execution_count": null,
      "metadata": {
        "colab": {
          "base_uri": "https://localhost:8080/",
          "height": 635
        },
        "id": "ffxTDDPC72sV",
        "outputId": "8906d989-0685-4b26-cc04-05b247e8a939"
      },
      "outputs": [],
      "source": [
        "ventas_clean = ventas.drop(['CATEGORIA', 'DESCRIPCION_CATEGORIA', 'OMEGA', 'CATEGORIA (Ajustado)'], axis=1).copy()\n",
        "ventas_clean.head()"
      ]
    },
    {
      "cell_type": "code",
      "execution_count": null,
      "metadata": {
        "colab": {
          "base_uri": "https://localhost:8080/",
          "height": 635
        },
        "id": "T78ErjlB8bYt",
        "outputId": "22107b7b-84a2-4800-948d-43b46db07185"
      },
      "outputs": [],
      "source": [
        "ventas_clean['FECHA'] = pd.to_datetime(ventas_clean['MES'].astype(str) + '-' + ventas_clean['AÑO'].astype(str), format='%m-%Y').dt.to_period('M')\n",
        "ventas_clean.head()"
      ]
    },
    {
      "cell_type": "code",
      "execution_count": null,
      "metadata": {
        "colab": {
          "base_uri": "https://localhost:8080/"
        },
        "id": "PdFe8Fo35AbI",
        "outputId": "144de103-1580-4bae-80ce-308d884007a8"
      },
      "outputs": [],
      "source": [
        "ventas_clean['FECHA'].dtypes"
      ]
    },
    {
      "attachments": {},
      "cell_type": "markdown",
      "metadata": {
        "id": "znYgHYm37iId"
      },
      "source": [
        "*   Qué representa cada caso? Se trata de ventas, de ventas por mes, vendedores por mes?"
      ]
    },
    {
      "cell_type": "code",
      "execution_count": null,
      "metadata": {
        "colab": {
          "base_uri": "https://localhost:8080/"
        },
        "id": "4OU9pe9f58hc",
        "outputId": "3a2cf1f9-bc16-4599-9b99-478a2d853ea8"
      },
      "outputs": [],
      "source": [
        "# Vamos a eliminar duplicados por ID_VENDEDOR y FECHA\n",
        "prueba1 = ventas_clean.drop_duplicates(subset=['ID_VENDEDOR', 'FECHA']).copy()\n",
        "print(len(prueba1))\n",
        "print(len(ventas_clean))"
      ]
    },
    {
      "cell_type": "code",
      "execution_count": null,
      "metadata": {
        "id": "ahmki6zi6tEr"
      },
      "outputs": [],
      "source": [
        "# Lo anterior implica que hay más de una observación para cada mes por vendedor. Probablemente cada caso represente operaciones de ventas individuales."
      ]
    },
    {
      "attachments": {},
      "cell_type": "markdown",
      "metadata": {
        "id": "a-8d7KTA5rP_"
      },
      "source": [
        "*   \"ID_VENDEDOR\" se corresponde con \"NOMBRE\"?"
      ]
    },
    {
      "cell_type": "code",
      "execution_count": null,
      "metadata": {
        "colab": {
          "base_uri": "https://localhost:8080/"
        },
        "id": "b3gJjEWY8kWa",
        "outputId": "b4a6e402-1fb3-47d1-f974-c16244962f7f"
      },
      "outputs": [],
      "source": [
        "# Cuántos ID_VENDEDOR únicos hay?\n",
        "prueba2 = ventas_clean.drop_duplicates(subset='ID_VENDEDOR').copy()\n",
        "print(len(prueba2))"
      ]
    },
    {
      "cell_type": "code",
      "execution_count": null,
      "metadata": {
        "colab": {
          "base_uri": "https://localhost:8080/"
        },
        "id": "09MmM8Lq82ZR",
        "outputId": "ba24b2f9-18d9-4030-87ef-1021df44819d"
      },
      "outputs": [],
      "source": [
        "# Cuántos NOMBRE únicos hay?\n",
        "prueba3 = ventas_clean.drop_duplicates(subset='NOMBRE').copy()\n",
        "print(len(prueba3))"
      ]
    },
    {
      "cell_type": "code",
      "execution_count": null,
      "metadata": {
        "id": "n-8hVPzf9YVl"
      },
      "outputs": [],
      "source": [
        "# Implica que hay algunos ID_VENDEDOR que tienen el mismo NOMBRE"
      ]
    },
    {
      "cell_type": "code",
      "execution_count": null,
      "metadata": {
        "id": "Xp_SOU7enLZa"
      },
      "outputs": [],
      "source": [
        "# Quizas se pueda eliminar la variabla NOMBRE"
      ]
    },
    {
      "attachments": {},
      "cell_type": "markdown",
      "metadata": {
        "id": "BGZTCW1PVDN4"
      },
      "source": [
        "*   Cómo se relacionan TRATAMIENTO_FISCAL,\tDESC_TRATAMIENTO_FISCAL y\tTRATAMIENTO_DIFERNCIAL?\n"
      ]
    },
    {
      "cell_type": "code",
      "execution_count": null,
      "metadata": {
        "colab": {
          "base_uri": "https://localhost:8080/",
          "height": 541
        },
        "id": "OsVDODCUVBxq",
        "outputId": "a6c28c7c-d275-4a47-fe84-8ebab3be3659"
      },
      "outputs": [],
      "source": [
        "msno.bar(ventas_clean[['TRATAMIENTO_FISCAL', 'DESC_TRATAMIENTO_FISCAL', 'TRATAMIENTO_DIFERNCIAL']],figsize=(4, 3), sort=\"ascending\",fontsize=12, color='gray')"
      ]
    },
    {
      "cell_type": "code",
      "execution_count": null,
      "metadata": {
        "id": "oQfWgjd8VB9u"
      },
      "outputs": [],
      "source": [
        "# La variable con más casos es TRATAMIENTO_FISCAL"
      ]
    },
    {
      "cell_type": "code",
      "execution_count": null,
      "metadata": {
        "colab": {
          "base_uri": "https://localhost:8080/"
        },
        "id": "SiRJdZnNVCBv",
        "outputId": "13efe386-defa-429c-f1e4-e6e353a5d679"
      },
      "outputs": [],
      "source": [
        "ventas_clean['TRATAMIENTO_FISCAL'].value_counts()"
      ]
    },
    {
      "cell_type": "code",
      "execution_count": null,
      "metadata": {
        "colab": {
          "base_uri": "https://localhost:8080/"
        },
        "id": "6nNZesQkVCGS",
        "outputId": "7fc71f16-ab63-4a42-ea4a-48c634f145dc"
      },
      "outputs": [],
      "source": [
        "# Parece que asume valores enteros, floats y strings.\n",
        "# Pero acá se ve que los que parecen enteros, en realidad son strings\n",
        "ventas_clean['TRATAMIENTO_FISCAL'].unique()"
      ]
    },
    {
      "cell_type": "code",
      "execution_count": null,
      "metadata": {
        "id": "mV_rlB-jVCJy"
      },
      "outputs": [],
      "source": [
        "# En primera instancia, se podrían forzar los floats hacia strings.\n",
        "ventas_clean['TRATAMIENTO_FISCAL'] = ventas_clean['TRATAMIENTO_FISCAL'].replace({0.0: '0', 3.0: '3', 2.0: '2', 1.0: '1'})"
      ]
    },
    {
      "cell_type": "code",
      "execution_count": null,
      "metadata": {
        "colab": {
          "base_uri": "https://localhost:8080/"
        },
        "id": "KE9UdXAmVCNg",
        "outputId": "eb1ac4ef-7913-434f-d792-715e1d96f63e"
      },
      "outputs": [],
      "source": [
        "ventas_clean['TRATAMIENTO_FISCAL'].value_counts()"
      ]
    },
    {
      "cell_type": "code",
      "execution_count": null,
      "metadata": {
        "id": "ajMDpdD9VCRA"
      },
      "outputs": [],
      "source": [
        "# Ahora veamos para qué valores de TRATAMIENTO FISCAL, suelen aparecer valores de DESC_TRATAMIENTO_FISCAL"
      ]
    },
    {
      "cell_type": "code",
      "execution_count": null,
      "metadata": {
        "id": "0xLLgcJAVCU2"
      },
      "outputs": [],
      "source": [
        "# Este paso lo agrego porque sino el crosstab siguiente no me muestra los NaN\n",
        "prueba5 = ventas_clean.copy()\n",
        "prueba5['TRATAMIENTO_FISCAL'] = prueba5['TRATAMIENTO_FISCAL'].fillna('')\n",
        "prueba5['DESC_TRATAMIENTO_FISCAL'] = prueba5['DESC_TRATAMIENTO_FISCAL'].fillna('')"
      ]
    },
    {
      "cell_type": "code",
      "execution_count": null,
      "metadata": {
        "colab": {
          "base_uri": "https://localhost:8080/",
          "height": 551
        },
        "id": "0HqDzvWxVCYT",
        "outputId": "3e66aa5e-7e49-40b7-909b-35a29825f0f4"
      },
      "outputs": [],
      "source": [
        "pd.crosstab(prueba5['TRATAMIENTO_FISCAL'], prueba5['DESC_TRATAMIENTO_FISCAL'], dropna=False)"
      ]
    },
    {
      "cell_type": "code",
      "execution_count": null,
      "metadata": {
        "id": "0Juz5ye9VCcu"
      },
      "outputs": [],
      "source": [
        "# Los valores de DESC_TRATAMIENTO_FISCAL, solo aparecen cuando TRATAMIENTO_FISCAL asume valores 0, 1, 2, 3.\n",
        "# A su vez, hay correspondencia entre 0 y Normal, 1 y Exento/Desgravado, 2 y Minorista, 3 y Otro Tratamiento Fiscal"
      ]
    },
    {
      "cell_type": "code",
      "execution_count": null,
      "metadata": {
        "id": "DU8onA8CnkpS"
      },
      "outputs": [],
      "source": [
        "# Se podría eliminar DESC_TRATAMIENTO_FISCAL?"
      ]
    },
    {
      "cell_type": "code",
      "execution_count": null,
      "metadata": {
        "id": "z7_rWgaVVCgP"
      },
      "outputs": [],
      "source": [
        "# Ahora veamos para qué valores de TRATAMIENTO FISCAL, suelen aparecer valores de TRATAMIENTO_DIFERNCIAL"
      ]
    },
    {
      "cell_type": "code",
      "execution_count": null,
      "metadata": {
        "id": "dZ-Nl-WOVCj0"
      },
      "outputs": [],
      "source": [
        "# Este paso lo agrego porque sino el crosstab siguiente no me muestra los NaN\n",
        "prueba5['TRATAMIENTO_DIFERNCIAL'] = prueba5['TRATAMIENTO_DIFERNCIAL'].fillna('')"
      ]
    },
    {
      "cell_type": "code",
      "execution_count": null,
      "metadata": {
        "colab": {
          "base_uri": "https://localhost:8080/",
          "height": 595
        },
        "id": "RWflyPzDVCoA",
        "outputId": "4dfe49a8-6563-4bfb-fed8-d52d28bade01"
      },
      "outputs": [],
      "source": [
        "pd.crosstab(prueba5['TRATAMIENTO_FISCAL'], prueba5['TRATAMIENTO_DIFERNCIAL'], dropna=False)"
      ]
    },
    {
      "cell_type": "code",
      "execution_count": null,
      "metadata": {
        "id": "SnYUvN0gVYvZ"
      },
      "outputs": [],
      "source": [
        "# No hay un patrón claro"
      ]
    },
    {
      "attachments": {},
      "cell_type": "markdown",
      "metadata": {
        "id": "3xO1oCWA5rmv"
      },
      "source": [
        "*   Ventas, comisión y % de comisión están relacionadas entre sí con alguna fórmula?"
      ]
    },
    {
      "cell_type": "code",
      "execution_count": null,
      "metadata": {
        "colab": {
          "base_uri": "https://localhost:8080/",
          "height": 301
        },
        "id": "8kQFqMHmam1O",
        "outputId": "c52c2ac1-2e49-4e5a-cf5f-53e51a08f8d6"
      },
      "outputs": [],
      "source": [
        "ventas_clean[['TOTAL_VENTAS','PORCENTAJE_COMISION_EMPRESA','COMISION_EMPRESA']].describe()"
      ]
    },
    {
      "cell_type": "code",
      "execution_count": null,
      "metadata": {
        "colab": {
          "base_uri": "https://localhost:8080/"
        },
        "id": "qAY8Dy4pn0cA",
        "outputId": "1310468a-b484-480e-b366-7a90e8f28b0c"
      },
      "outputs": [],
      "source": [
        "# TOTAL_VENTAS tiene valores negativos. Cuandos?\n",
        "len(ventas_clean[ventas_clean['TOTAL_VENTAS'] < 0])"
      ]
    },
    {
      "cell_type": "code",
      "execution_count": null,
      "metadata": {
        "colab": {
          "base_uri": "https://localhost:8080/"
        },
        "id": "ECeiCV78oP3t",
        "outputId": "e38a812e-671b-43d5-c4db-c5d27c946b1e"
      },
      "outputs": [],
      "source": [
        "ventas_clean[ventas_clean['TOTAL_VENTAS'] < 0]['TOTAL_VENTAS'].describe()"
      ]
    },
    {
      "cell_type": "code",
      "execution_count": null,
      "metadata": {
        "id": "uWKtEmzCodL4"
      },
      "outputs": [],
      "source": [
        "# Hay al menos un valor extremo muy grande.\n",
        "# Debido a que son pocos casos, podríamos reemplazar estos valores por vacíos (en caso que estén mal)."
      ]
    },
    {
      "cell_type": "code",
      "execution_count": null,
      "metadata": {
        "colab": {
          "base_uri": "https://localhost:8080/"
        },
        "id": "7DwjMgDVozGq",
        "outputId": "322db37e-87cc-4233-b339-a5cf9ae5036e"
      },
      "outputs": [],
      "source": [
        "# Se observa que COMISION_EMPRESA también tiene valores negativos en estos casos. También sería necesario reemplazar estos valores por vacíos\n",
        "ventas_clean[ventas_clean['TOTAL_VENTAS'] < 0]['COMISION_EMPRESA'].describe()"
      ]
    },
    {
      "cell_type": "code",
      "execution_count": null,
      "metadata": {
        "colab": {
          "base_uri": "https://localhost:8080/"
        },
        "id": "cpsxIvZHpTaF",
        "outputId": "4981ecd7-45db-4020-c9e3-6f2634d4ffdf"
      },
      "outputs": [],
      "source": [
        "# No pareciera haber valores extremos en PORCENTAJE_COMISION_EMPRESA\n",
        "ventas_clean[ventas_clean['TOTAL_VENTAS'] < 0]['PORCENTAJE_COMISION_EMPRESA'].describe()"
      ]
    },
    {
      "cell_type": "code",
      "execution_count": null,
      "metadata": {
        "id": "ehAkHpAnqi00"
      },
      "outputs": [],
      "source": [
        "# ventas_clean.loc[ventas_clean['TOTAL_VENTAS'] < 0, 'TOTAL_VENTAS'] = np.nan\n",
        "# ventas_clean.loc[np.isnan(ventas_clean['TOTAL_VENTAS']), 'COMISION_EMPRESA'] = np.nan\n",
        "# ventas_clean.loc[np.isnan(ventas_clean['TOTAL_VENTAS']), 'PORCENTAJE_COMISION_EMPRESA'] = np.nan\n",
        "# REVISAR (VER OTRA ALTERNATIVA AL nan)"
      ]
    },
    {
      "cell_type": "code",
      "execution_count": null,
      "metadata": {
        "colab": {
          "base_uri": "https://localhost:8080/",
          "height": 301
        },
        "id": "i_9NH2DMrMAd",
        "outputId": "b2fa2c45-6a5f-4d72-bb79-27684aa68e38"
      },
      "outputs": [],
      "source": [
        "ventas_clean[['TOTAL_VENTAS','PORCENTAJE_COMISION_EMPRESA','COMISION_EMPRESA']].describe()"
      ]
    },
    {
      "cell_type": "code",
      "execution_count": null,
      "metadata": {
        "colab": {
          "base_uri": "https://localhost:8080/",
          "height": 360
        },
        "id": "FBUQ5NZnuPm0",
        "outputId": "527d0b56-051e-4aec-b02a-cc3489cbcd41"
      },
      "outputs": [],
      "source": [
        "# Crear una figura con tres subplots\n",
        "fig, axs = plt.subplots(1, 3, figsize=(16, 4))\n",
        "\n",
        "# Histograma para TOTAL_VENTAS\n",
        "axs[0].hist(ventas_clean['TOTAL_VENTAS'], bins=25, edgecolor='black')\n",
        "axs[0].set_xlabel('TOTAL_VENTAS')\n",
        "axs[0].set_ylabel('Frecuencia')\n",
        "axs[0].set_title('TOTAL_VENTAS')\n",
        "\n",
        "# Histograma para COMISION_EMPRESA\n",
        "axs[1].hist(ventas_clean['COMISION_EMPRESA'], bins=25, edgecolor='black')\n",
        "axs[1].set_xlabel('COMISION_EMPRESA')\n",
        "axs[1].set_ylabel('Frecuencia')\n",
        "axs[1].set_title('COMISION_EMPRESA')\n",
        "\n",
        "# Histograma para PORCENTAJE_COMISION_EMPRESA\n",
        "axs[2].hist(ventas_clean['PORCENTAJE_COMISION_EMPRESA'], bins=25, edgecolor='black')\n",
        "axs[2].set_xlabel('PORCENTAJE_COMISION_EMPRESA')\n",
        "axs[2].set_ylabel('Frecuencia')\n",
        "axs[2].set_title('PORCENTAJE_COMISION_EMPRESA')\n",
        "\n",
        "# Ajustar los espacios entre subplots\n",
        "fig.tight_layout()\n",
        "\n",
        "# Mostrar los histogramas\n",
        "plt.show()"
      ]
    },
    {
      "cell_type": "code",
      "execution_count": null,
      "metadata": {
        "colab": {
          "base_uri": "https://localhost:8080/",
          "height": 360
        },
        "id": "N8MgIWfxuPuN",
        "outputId": "298944cb-aa25-416c-9395-0e955a3a5901"
      },
      "outputs": [],
      "source": [
        "# Crear la figura y los subplots\n",
        "fig, axs = plt.subplots(1, 3, figsize=(16, 4))\n",
        "\n",
        "# Boxplot para 'TOTAL_VENTAS'\n",
        "axs[0].boxplot(ventas_clean['TOTAL_VENTAS'].dropna())\n",
        "axs[0].set_title('Boxplot de TOTAL_VENTAS')\n",
        "\n",
        "# Boxplot para 'COMISION_EMPRESA'\n",
        "axs[1].boxplot(ventas_clean['COMISION_EMPRESA'].dropna())\n",
        "axs[1].set_title('Boxplot de COMISION_EMPRESA')\n",
        "\n",
        "# Boxplot para 'PORCENTAJE_COMISION_EMPRESA'\n",
        "axs[2].boxplot(ventas_clean['PORCENTAJE_COMISION_EMPRESA'].dropna())\n",
        "axs[2].set_title('Boxplot de PORCENTAJE_COMISION_EMPRESA')\n",
        "\n",
        "# Ajustar los espacios entre subplots\n",
        "plt.tight_layout()\n",
        "\n",
        "# Mostrar los gráficos\n",
        "plt.show()"
      ]
    },
    {
      "cell_type": "code",
      "execution_count": null,
      "metadata": {
        "id": "aouQcX7IwdRr"
      },
      "outputs": [],
      "source": [
        "# Deberíamos hacer algo con los valores negativos, los valores demasiado altos (y con los 0?)"
      ]
    },
    {
      "cell_type": "code",
      "execution_count": null,
      "metadata": {
        "colab": {
          "base_uri": "https://localhost:8080/"
        },
        "id": "VperyJtuzb6W",
        "outputId": "225903df-fdd5-4735-84f1-2f6032bcd538"
      },
      "outputs": [],
      "source": [
        "(ventas_clean['TOTAL_VENTAS'] == 0).sum()"
      ]
    },
    {
      "cell_type": "code",
      "execution_count": null,
      "metadata": {
        "colab": {
          "base_uri": "https://localhost:8080/"
        },
        "id": "oHltpIpMzh00",
        "outputId": "fc8c27fa-a4e7-4183-bf49-ec160ffd9992"
      },
      "outputs": [],
      "source": [
        "(ventas_clean['COMISION_EMPRESA'] == 0).sum()"
      ]
    },
    {
      "cell_type": "code",
      "execution_count": null,
      "metadata": {
        "colab": {
          "base_uri": "https://localhost:8080/",
          "height": 471
        },
        "id": "rm45NV6tdMV_",
        "outputId": "c75d671a-df30-4d1d-e1a3-09d2e2790fba"
      },
      "outputs": [],
      "source": [
        "plt.scatter(ventas_clean['COMISION_EMPRESA'], ventas_clean['TOTAL_VENTAS'])\n",
        "plt.xlabel('COMISION_EMPRESA')\n",
        "plt.ylabel('TOTAL_VENTAS')\n",
        "plt.title('COMISION_EMPRESA vs TOTAL_VENTAS')\n",
        "plt.show()"
      ]
    },
    {
      "cell_type": "code",
      "execution_count": null,
      "metadata": {
        "colab": {
          "base_uri": "https://localhost:8080/",
          "height": 471
        },
        "id": "YtXqdhRsdfFC",
        "outputId": "24abbc3d-1ae0-4939-91d9-a90750e24ac0"
      },
      "outputs": [],
      "source": [
        "plt.scatter(ventas_clean['TOTAL_VENTAS'], ventas_clean['PORCENTAJE_COMISION_EMPRESA'])\n",
        "plt.xlabel('TOTAL_VENTAS')\n",
        "plt.ylabel('PORCENTAJE_COMISION_EMPRESA')\n",
        "plt.title('TOTAL_VENTAS vs PORCENTAJE_COMISION_EMPRESA')\n",
        "plt.show()"
      ]
    },
    {
      "cell_type": "code",
      "execution_count": null,
      "metadata": {
        "colab": {
          "base_uri": "https://localhost:8080/",
          "height": 471
        },
        "id": "8sgs9EB1drmX",
        "outputId": "50bb8d57-f127-4c5e-bbc0-2b38152f9c71"
      },
      "outputs": [],
      "source": [
        "plt.scatter(ventas_clean['COMISION_EMPRESA'], ventas_clean['PORCENTAJE_COMISION_EMPRESA'])\n",
        "plt.xlabel('COMISION_EMPRESA')\n",
        "plt.ylabel('PORCENTAJE_COMISION_EMPRESA')\n",
        "plt.title('COMISION_EMPRESA vs PORCENTAJE_COMISION_EMPRESA')\n",
        "plt.show()"
      ]
    },
    {
      "cell_type": "code",
      "execution_count": null,
      "metadata": {
        "id": "vN46-1eoWtE5"
      },
      "outputs": [],
      "source": [
        "# Ver de  armar un pairplot o jointplot?"
      ]
    },
    {
      "cell_type": "code",
      "execution_count": null,
      "metadata": {
        "id": "NtUtbDc057lk"
      },
      "outputs": [],
      "source": [
        "# Probemos con verificar la siguiente fórmula:\n",
        "ventas_clean['CALCULADA'] = ventas_clean['TOTAL_VENTAS'] * ventas_clean['PORCENTAJE_COMISION_EMPRESA']"
      ]
    },
    {
      "cell_type": "code",
      "execution_count": null,
      "metadata": {
        "colab": {
          "base_uri": "https://localhost:8080/"
        },
        "id": "cNdrFX2_ftao",
        "outputId": "71863dc8-7bc8-4305-d447-8f4b75395eaa"
      },
      "outputs": [],
      "source": [
        "# Cuándo hay coincidencia exacta?\n",
        "sum(abs(ventas_clean['COMISION_EMPRESA'] - ventas_clean['CALCULADA'] == 0))"
      ]
    },
    {
      "cell_type": "code",
      "execution_count": null,
      "metadata": {
        "id": "FpHp_iguA5SN"
      },
      "outputs": [],
      "source": [
        "# Es decir, sólo en 191 mil casos la fórmula se cumple exactamente."
      ]
    },
    {
      "cell_type": "code",
      "execution_count": null,
      "metadata": {
        "id": "VTWI3oPnA-xW"
      },
      "outputs": [],
      "source": [
        "# Probemos con algún margen de error"
      ]
    },
    {
      "cell_type": "code",
      "execution_count": null,
      "metadata": {
        "colab": {
          "base_uri": "https://localhost:8080/"
        },
        "id": "ausd8v6bC-P3",
        "outputId": "66262798-dac2-448c-d2dd-0bd2e00e43c3"
      },
      "outputs": [],
      "source": [
        "sum(abs(ventas_clean['COMISION_EMPRESA'] - ventas_clean['CALCULADA']) <= 0.01)"
      ]
    },
    {
      "cell_type": "code",
      "execution_count": null,
      "metadata": {
        "colab": {
          "base_uri": "https://localhost:8080/"
        },
        "id": "AOoWPX_mBP1R",
        "outputId": "404bdc6c-7f06-43ad-de04-331c9f5cfe4e"
      },
      "outputs": [],
      "source": [
        "for x in [0.01, 0.1, 0.2, 0.3, 0.4, 0.5, 1]:\n",
        "  print('Para', x, 'de diferencia, tenemos', sum(abs(ventas_clean['COMISION_EMPRESA'] - ventas_clean['CALCULADA']) <= x), 'igualdades')"
      ]
    },
    {
      "cell_type": "code",
      "execution_count": null,
      "metadata": {
        "id": "DH-u96pdDDh1"
      },
      "outputs": [],
      "source": [
        "# Para 261 mil casos (61%) la fórmula se verifica, con precisión menor a 1 entero."
      ]
    },
    {
      "cell_type": "code",
      "execution_count": null,
      "metadata": {
        "colab": {
          "base_uri": "https://localhost:8080/",
          "height": 487
        },
        "id": "LwogIbaeFTOj",
        "outputId": "f8cd2b98-c2ac-47e1-b2cb-f48293781639"
      },
      "outputs": [],
      "source": [
        "# Grafiquemos la distribución de la diferencia\n",
        "\n",
        "diferencia = ventas_clean['COMISION_EMPRESA'] - ventas_clean['CALCULADA']\n",
        "plt.boxplot(diferencia.dropna())\n",
        "plt.xlabel('Diferencia')\n",
        "plt.ylabel('Valor')\n",
        "plt.title('Box Plot de la diferencia entre COMISION_EMPRESA y CALCULADA')\n",
        "plt.show()"
      ]
    },
    {
      "cell_type": "code",
      "execution_count": null,
      "metadata": {
        "colab": {
          "base_uri": "https://localhost:8080/"
        },
        "id": "koBD_1kWHL4h",
        "outputId": "823414a6-b482-47f5-9898-7ced01f67714"
      },
      "outputs": [],
      "source": [
        "# Surge otra pregunta: habrá algun caso que la diferencia es positiva?\n",
        "diferencia.describe()"
      ]
    },
    {
      "cell_type": "code",
      "execution_count": null,
      "metadata": {
        "colab": {
          "base_uri": "https://localhost:8080/",
          "height": 471
        },
        "id": "QBvXVt4NkBx8",
        "outputId": "5fadab93-74c6-4478-e8a0-e1fb342edf5d"
      },
      "outputs": [],
      "source": [
        "plt.scatter(ventas_clean['COMISION_EMPRESA'], ventas_clean['CALCULADA'])\n",
        "plt.xlabel('COMISION_EMPRESA')\n",
        "plt.ylabel('CALCULADA')\n",
        "plt.title('COMISION_EMPRESA vs CALCULADA')\n",
        "plt.show()"
      ]
    },
    {
      "cell_type": "code",
      "execution_count": null,
      "metadata": {
        "colab": {
          "base_uri": "https://localhost:8080/",
          "height": 471
        },
        "id": "eqe3Z4xOlAG4",
        "outputId": "fd7239fc-426b-4a58-aa24-77be5c306d33"
      },
      "outputs": [],
      "source": [
        "# Poniendo foco en los casos en que COMISION_EMPRESA es mayor que CALCULADA:\n",
        "plt.scatter(ventas_clean[ventas_clean['COMISION_EMPRESA'] > ventas_clean['CALCULADA']]['COMISION_EMPRESA'], ventas_clean[ventas_clean['COMISION_EMPRESA'] > ventas_clean['CALCULADA']]['CALCULADA'])\n",
        "plt.xlabel('COMISION_EMPRESA')\n",
        "plt.ylabel('CALCULADA')\n",
        "plt.title('COMISION_EMPRESA vs CALCULADA')\n",
        "plt.show()"
      ]
    },
    {
      "cell_type": "code",
      "execution_count": null,
      "metadata": {
        "colab": {
          "base_uri": "https://localhost:8080/"
        },
        "id": "dTocDYCUydbZ",
        "outputId": "d186d89a-f325-4c3d-c2a7-7869ccb7bcf4"
      },
      "outputs": [],
      "source": [
        "len(ventas_clean[ventas_clean['COMISION_EMPRESA'] > ventas_clean['CALCULADA']])"
      ]
    },
    {
      "cell_type": "code",
      "execution_count": null,
      "metadata": {
        "id": "hWQc-YkMFdlt"
      },
      "outputs": [],
      "source": [
        "# Lo que figura en la variable COMISION_EMPRESA siempre es menor o igual que lo que surgiría de multiplicar TOTAL_VENTAS y PORCENTAJE_COMISION_EMPRESA"
      ]
    },
    {
      "attachments": {},
      "cell_type": "markdown",
      "metadata": {
        "id": "uWvSDx9e0lLJ"
      },
      "source": [
        "## Paso 2: Análisis estadístico descriptivo"
      ]
    },
    {
      "attachments": {},
      "cell_type": "markdown",
      "metadata": {
        "id": "AxFs_bvA0s6T"
      },
      "source": [
        "1.\tCalcula estadísticas descriptivas básicas de la serie temporal, como la media, mediana, desviación estándar, mínimo y máximo.\n"
      ]
    },
    {
      "cell_type": "code",
      "execution_count": null,
      "metadata": {
        "colab": {
          "base_uri": "https://localhost:8080/"
        },
        "id": "Iuwtj_F452jM",
        "outputId": "6dc26031-69ec-49f0-f795-01300b68b399"
      },
      "outputs": [],
      "source": [
        "ventas['TOTAL_VENTAS'].describe()"
      ]
    },
    {
      "attachments": {},
      "cell_type": "markdown",
      "metadata": {
        "id": "JhV3Ca530wpV"
      },
      "source": [
        "2.\tAnaliza la tendencia central y la dispersión de los datos. ¿Existen valores atípicos o extremos? ¿Cómo podrían afectar el análisis posterior?\n"
      ]
    },
    {
      "cell_type": "code",
      "execution_count": null,
      "metadata": {
        "id": "58PRtwZ9YwE1"
      },
      "outputs": [],
      "source": [
        "#PROPONER ALGUN PERCENTIL. Y PONER EL NRO ABSOLUTO EN CANTIDAD DE REGISSTRO"
      ]
    },
    {
      "cell_type": "code",
      "execution_count": null,
      "metadata": {
        "colab": {
          "base_uri": "https://localhost:8080/",
          "height": 452
        },
        "id": "7zvZnpOy1oRb",
        "outputId": "9dcae7d3-e7a2-46dc-e796-6ad88b5f89c4"
      },
      "outputs": [],
      "source": [
        "plt.boxplot(ventas_clean['TOTAL_VENTAS'].dropna())\n",
        "plt.title('TOTAL_VENTAS')\n",
        "plt.show()"
      ]
    },
    {
      "cell_type": "code",
      "execution_count": null,
      "metadata": {
        "id": "y90b7xsO0ef9"
      },
      "outputs": [],
      "source": [
        "# Los valores negativos y los 0 sesgan hacia abajo la media\n",
        "# Los valores extremos positivos sesgan hacia arriba"
      ]
    },
    {
      "cell_type": "code",
      "execution_count": null,
      "metadata": {
        "colab": {
          "base_uri": "https://localhost:8080/"
        },
        "id": "JKgqJWG8WXsA",
        "outputId": "7ecc01bb-fd10-4944-a596-0002f4ac3bbc"
      },
      "outputs": [],
      "source": [
        "# Negativos\n",
        "len(ventas_clean[ventas_clean['TOTAL_VENTAS'] < 0])"
      ]
    },
    {
      "cell_type": "code",
      "execution_count": null,
      "metadata": {
        "colab": {
          "base_uri": "https://localhost:8080/"
        },
        "id": "E97ceDAOVbxV",
        "outputId": "09f7b96a-8a7c-4c7c-bf43-1e9ce19ec514"
      },
      "outputs": [],
      "source": [
        "# Ceros\n",
        "(ventas_clean['TOTAL_VENTAS'] == 0).sum()"
      ]
    },
    {
      "cell_type": "code",
      "execution_count": null,
      "metadata": {
        "colab": {
          "base_uri": "https://localhost:8080/"
        },
        "id": "XOn7-BFSVsVQ",
        "outputId": "0fcb5331-7588-4b01-b1e1-75c55c7af2e8"
      },
      "outputs": [],
      "source": [
        "# Extremos positivos\n",
        "percentil_95 = np.percentile(ventas_clean['TOTAL_VENTAS'], 95)\n",
        "len(ventas_clean[ventas_clean['TOTAL_VENTAS'] >= percentil_95])"
      ]
    },
    {
      "cell_type": "code",
      "execution_count": null,
      "metadata": {
        "colab": {
          "base_uri": "https://localhost:8080/",
          "height": 452
        },
        "id": "Us9tARJ_1zjS",
        "outputId": "b609954f-2f84-43a5-aead-6dd7fa60e498"
      },
      "outputs": [],
      "source": [
        "# Al eliminar los extremos positivos y negativos\n",
        "plt.boxplot(ventas_clean[(ventas_clean['TOTAL_VENTAS'] > 0) & (ventas_clean['TOTAL_VENTAS'] < percentil_95)]['TOTAL_VENTAS'])\n",
        "plt.title('TOTAL_VENTAS')\n",
        "plt.show()"
      ]
    },
    {
      "cell_type": "code",
      "execution_count": null,
      "metadata": {
        "id": "N-X5zoWNZqJC"
      },
      "outputs": [],
      "source": [
        "#Agregar histograma"
      ]
    },
    {
      "attachments": {},
      "cell_type": "markdown",
      "metadata": {
        "id": "hexHLiR60yMr"
      },
      "source": [
        "3.\tGrafica la serie temporal en un gráfico de líneas para visualizar la evolución de los datos a lo largo del tiempo."
      ]
    },
    {
      "cell_type": "code",
      "execution_count": null,
      "metadata": {
        "id": "--yygmFm02MT"
      },
      "outputs": [],
      "source": [
        "prueba6 = ventas_clean[['FECHA','TOTAL_VENTAS']].copy()"
      ]
    },
    {
      "cell_type": "code",
      "execution_count": null,
      "metadata": {
        "colab": {
          "base_uri": "https://localhost:8080/"
        },
        "id": "dlHlvxru3sXe",
        "outputId": "d45ee29e-8554-41c2-b35c-58bdaae7ebed"
      },
      "outputs": [],
      "source": [
        "prueba6['FECHA'].dtype"
      ]
    },
    {
      "cell_type": "code",
      "execution_count": null,
      "metadata": {
        "colab": {
          "base_uri": "https://localhost:8080/"
        },
        "id": "nsE05mtE3jgC",
        "outputId": "9d18606a-643a-4d86-9fcd-ac5c6675e29f"
      },
      "outputs": [],
      "source": [
        "prueba6['TOTAL_VENTAS'].dtype"
      ]
    },
    {
      "cell_type": "code",
      "execution_count": null,
      "metadata": {
        "colab": {
          "base_uri": "https://localhost:8080/",
          "height": 370
        },
        "id": "f2JlyJsq4Diy",
        "outputId": "189c366f-a74b-4c9e-9cac-d4316fc1f8e7"
      },
      "outputs": [],
      "source": [
        "prueba6_agregado = prueba6.groupby('FECHA')['TOTAL_VENTAS'].sum().reset_index()\n",
        "\n",
        "plt.figure(figsize=(16, 3))\n",
        "\n",
        "# Graficar el gráfico de líneas\n",
        "plt.plot(prueba6_agregado['FECHA'].astype(str), prueba6_agregado['TOTAL_VENTAS'])\n",
        "\n",
        "# Personalizar el gráfico\n",
        "plt.title('Total de ventas')\n",
        "plt.xlabel('Fecha')\n",
        "plt.ylabel('Ventas')\n",
        "\n",
        "# Rotar las etiquetas del eje X para mayor legibilidad (opcional)\n",
        "plt.xticks(rotation=45)\n",
        "\n",
        "# Mostrar el gráfico\n",
        "plt.show()"
      ]
    },
    {
      "cell_type": "code",
      "execution_count": null,
      "metadata": {
        "colab": {
          "base_uri": "https://localhost:8080/"
        },
        "id": "gcaDAs3s3vyZ",
        "outputId": "ec0c672a-3e4f-4012-adf0-d317eaf72132"
      },
      "outputs": [],
      "source": [
        "len(prueba6_agregado)"
      ]
    },
    {
      "cell_type": "code",
      "execution_count": null,
      "metadata": {
        "id": "djh0KURqaUuj"
      },
      "outputs": [],
      "source": [
        "# GRAFICAR POR AÑO. LA TENDENCIA DE MESES. PARA VER ESTACIONALIDAD."
      ]
    },
    {
      "cell_type": "code",
      "execution_count": null,
      "metadata": {
        "id": "6q0ZdtHX54cC"
      },
      "outputs": [],
      "source": [
        "# Se observa el efecto de la inflación y pareciera haber picos en noviembre/diciembre"
      ]
    },
    {
      "attachments": {},
      "cell_type": "markdown",
      "metadata": {
        "id": "QPGMX3kN0z1d"
      },
      "source": [
        "4.\tCalcula y grafica la función de autocorrelación para identificar posibles patrones de autocorrelación en los datos. (Es un término estadístico que se utiliza para describir la presencia o ausencia de correlación en los datos de las series temporales, indicando, si las observaciones pasadas influyen en las actuales.)"
      ]
    },
    {
      "cell_type": "code",
      "execution_count": null,
      "metadata": {
        "colab": {
          "base_uri": "https://localhost:8080/",
          "height": 472
        },
        "id": "c9PErA5V6h8Z",
        "outputId": "f61ed9a8-469b-4508-cd51-0e66b957d748"
      },
      "outputs": [],
      "source": [
        "# Calcular la función de autocorrelación\n",
        "acf = plot_acf(prueba6_agregado['TOTAL_VENTAS'], lags=12)\n",
        "\n",
        "# Graficar la función de autocorrelación\n",
        "plt.xlabel('Lag')\n",
        "plt.ylabel('Autocorrelation')\n",
        "plt.title('Autocorrelation Function')\n",
        "plt.show()"
      ]
    },
    {
      "cell_type": "code",
      "execution_count": null,
      "metadata": {
        "id": "coNJvL6Q7Lcu"
      },
      "outputs": [],
      "source": [
        "# Hay correlación estadísticamente significativa para el lag 1, 2 y 3.\n",
        "# Lo que implica que observaciones pasadas influyen en las observaciones actuales de la serie temporal.\n",
        "# De manera positiva"
      ]
    }
  ],
  "metadata": {
    "colab": {
      "provenance": [],
      "toc_visible": true
    },
    "kernelspec": {
      "display_name": "Python 3",
      "name": "python3"
    },
    "language_info": {
      "codemirror_mode": {
        "name": "ipython",
        "version": 3
      },
      "file_extension": ".py",
      "mimetype": "text/x-python",
      "name": "python",
      "nbconvert_exporter": "python",
      "pygments_lexer": "ipython3",
      "version": "3.10.6"
    }
  },
  "nbformat": 4,
  "nbformat_minor": 0
}
