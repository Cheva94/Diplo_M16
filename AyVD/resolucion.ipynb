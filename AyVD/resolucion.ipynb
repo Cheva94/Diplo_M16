{
  "cells": [
    {
      "attachments": {},
      "cell_type": "markdown",
      "metadata": {},
      "source": [
        "# Diplomatura en ciencia de datos, aprendizaje automático y sus aplicaciones - Edición 2023 - FAMAF (UNC)"
      ]
    },
    {
      "attachments": {},
      "cell_type": "markdown",
      "metadata": {},
      "source": [
        "## Análisis y visualización de datos\n",
        "\n",
        "### Mentoría 16 - Trabajo práctico 1\n",
        "\n",
        "**Integrantes:**\n",
        "- Canalis, Patricio.\n",
        "- Chevallier-Boutell, Ignacio José.\n",
        "- Villarroel Torrez, Daniel.\n",
        "\n",
        "**Mentores:**\n",
        "- Gonzalez, Lucía\n",
        "- Lahoz, Nahuel\n",
        "\n",
        "---"
      ]
    },
    {
      "attachments": {},
      "cell_type": "markdown",
      "metadata": {},
      "source": [
        "## Librerías"
      ]
    },
    {
      "cell_type": "code",
      "execution_count": null,
      "metadata": {},
      "outputs": [],
      "source": [
        "import numpy as np\n",
        "import pandas as pd\n",
        "import missingno as msno\n",
        "import matplotlib.pyplot as plt\n",
        "import seaborn as sns\n",
        "from statsmodels.graphics.tsaplots import plot_acf\n",
        "from scipy.stats import linregress as LR\n",
        "pd.options.display.float_format = '{:,.2f}'.format"
      ]
    },
    {
      "attachments": {},
      "cell_type": "markdown",
      "metadata": {},
      "source": [
        "## Dataset"
      ]
    },
    {
      "cell_type": "code",
      "execution_count": null,
      "metadata": {},
      "outputs": [],
      "source": [
        "url = 'https://www.dropbox.com/scl/fi/iaagjtks3apflrywvomuv/muestra_diplodatos_ventas_2023.csv?dl=1&rlkey=zfsh0bnwbomd4g56bcjysytiy'\n",
        "ventas = pd.read_csv(url)"
      ]
    },
    {
      "attachments": {},
      "cell_type": "markdown",
      "metadata": {},
      "source": [
        "---\n",
        "# Paso 1: Carga y exploración inicial de datos"
      ]
    },
    {
      "attachments": {},
      "cell_type": "markdown",
      "metadata": {},
      "source": [
        "### Variables"
      ]
    },
    {
      "attachments": {},
      "cell_type": "markdown",
      "metadata": {},
      "source": [
        "Hay un total de 19 variables. Significado tentativo:\n",
        "*   **ID_VENDEDOR**: identificación del vendedor, anonimizado mediante hasheo. Tipo: objeto.\n",
        "*   **INSCRIPCION**: desconocemos. Tipo: entero.\n",
        "*   **AÑO**: año de imputación del registro. Tipo: entero.\n",
        "*   **MES**: mes de imputación del registro. Tipo: entero.\n",
        "*   **CATEGORIA**: descripción del Código de Actividad Codiguero NAES Año 2018 y siguientes. Tipo: objeto.\n",
        "*   **DEPOSITO**: desconocemos. Tipo: entero.\n",
        "*   **DESCRIPCION_CATEGORIA**: subrubro definido por la DGR (Dato Interno, no declarado por el contribuyente). Tipo: objeto.\n",
        "*   **TOTAL_VENTAS**: monto total de ventas (base imponible). Tipo: flotante.\n",
        "*   **PORCENTAJE_COMISION_EMPRESA**: comisión por las ventas en la plataforma (alícuota). Tipo: flotante.\n",
        "*   **COMISION_EMPRESA**: comisión por las ventas en la plataforma (valor). Tipo: flotante.\n",
        "*   **TRATAMIENTO_FISCAL**: indica qué tratamiento fiscal se le da a la operación, especialmente respecto a la alícuota a cobrarle. Tipo: objeto.\n",
        "*   **DESC_TRATAMIENTO_FISCAL**: categoriza los valores de `TRATAMIENTO_FISCAL`. Tipo: objeto.\n",
        "*   **TRATAMIENTO_DIFERNCIAL**: indica el artículo de alguna reglamentación aplicado para dar tratamiento fiscal especial. Tipo: objeto.\n",
        "*   **CM04**: puede marcar las operaciones bajo Convenio Multilateral (CM) o indicar que se trata de un vendedor inscripto en el CM. Tipo: objeto.\n",
        "*   **CATEGORIA (Ajustado)**: variable `CATEGORIA` limpia (se redujo el número de valores posibles). Tipo: objeto.\n",
        "*   **SUB-CATEGORIA**: variable `DESCRIPCION_CATEGORIA` limpia (se redujo el número de valores posibles). Tipo: objeto.\n",
        "*   **NOMBRE**: desconocemos. Se trata de otra variable anonimizada mediante hasheo, pero es un hash diferente al de `ID_VENDEDOR`. Tipo: objeto.\n",
        "*   **OMEGA**: marca para contribuyente de interés fiscal especial. Tipo: entero.\n",
        "*   **MODELO**: identificación de vendedores modelo según la empresa proveedora de los datos. Tipo: entero."
      ]
    },
    {
      "cell_type": "code",
      "execution_count": null,
      "metadata": {
        "colab": {
          "base_uri": "https://localhost:8080/"
        },
        "id": "uf9qMQg_haoP",
        "outputId": "a75d7b2e-f7cf-41ac-ede5-684cc881ed7a"
      },
      "outputs": [],
      "source": [
        "lista_columnas = list(ventas.columns)\n",
        "print(len(lista_columnas), 'variables:')\n",
        "lista_columnas"
      ]
    },
    {
      "cell_type": "code",
      "execution_count": null,
      "metadata": {},
      "outputs": [],
      "source": [
        "ventas.dtypes"
      ]
    },
    {
      "cell_type": "code",
      "execution_count": null,
      "metadata": {},
      "outputs": [],
      "source": [
        "display(ventas[:10])"
      ]
    },
    {
      "attachments": {},
      "cell_type": "markdown",
      "metadata": {},
      "source": [
        "### Estadística descriptiva"
      ]
    },
    {
      "attachments": {},
      "cell_type": "markdown",
      "metadata": {},
      "source": [
        "De las 19 variables, 9 son numéricas.\n",
        "*   **INSCRIPCION**: al no conocer a qué hace referencia, no podemos interpretar la estadística descriptiva.\n",
        "*   **DEPOSITO**: al no conocer a qué hace referencia, no podemos interpretar la estadística descriptiva.\n",
        "*   **AÑO**: desde 2019 hasta 2022.\n",
        "*   **MES**: los 12 meses del año.\n",
        "*   **PORCENTAJE_COMISION_EMPRESA**: desde el 0 hasta el 18%.\n",
        "*   **OMEGA**: todos tienen valor igual a 1, por lo que esta variable no aporta nada de información.\n",
        "*   **MODELO**: se tienen valores 0 y 1 para identificar vendedores no modelo de vendedores modelo, respectivamente.\n",
        "*   **TOTAL_VENTAS**: la dispersión de datos es enorme: la desviación estándar es un orden mayor que la media. Inlcuso hay valores negativos: hay que determinar si están mal imputados o si el hecho de ser negativos tiene un significado. Analizando los z-Scores vemos que el mínimo está a 5 mientras que el máximo está a 101 desviaciones estándares respecto a la media.\n",
        "*   **COMISION_EMPRESA**: observaciones análogas al punto anterior. Analizando los z-Scores vemos que el mínimo está a 3 mientras que el máximo está a 131 desviaciones estándares respecto a la media."
      ]
    },
    {
      "cell_type": "code",
      "execution_count": null,
      "metadata": {},
      "outputs": [],
      "source": [
        "ventas.describe().T"
      ]
    },
    {
      "cell_type": "code",
      "execution_count": null,
      "metadata": {},
      "outputs": [],
      "source": [
        "# TOTAL_VENTAS\n",
        "zScore_min = (ventas['TOTAL_VENTAS'].min() - ventas['TOTAL_VENTAS'].mean()) / ventas['TOTAL_VENTAS'].std()\n",
        "zScore_max = (ventas['TOTAL_VENTAS'].max() - ventas['TOTAL_VENTAS'].mean()) / ventas['TOTAL_VENTAS'].std()\n",
        "\n",
        "print('z-Score de los extremos de la variable \"TOTAL_VENTAS\":')\n",
        "print(f'\\t Mínimo: {zScore_min:.0f}')\n",
        "print(f'\\t Mínimo: {zScore_max:.0f}')\n",
        "\n",
        "# COMISION_EMPRESA\n",
        "zScore_min = (ventas['COMISION_EMPRESA'].min() - ventas['COMISION_EMPRESA'].mean()) / ventas['COMISION_EMPRESA'].std()\n",
        "zScore_max = (ventas['COMISION_EMPRESA'].max() - ventas['COMISION_EMPRESA'].mean()) / ventas['COMISION_EMPRESA'].std()\n",
        "\n",
        "print('z-Score de los extremos de la variable \"COMISION_EMPRESA\":')\n",
        "print(f'\\t Mínimo: {zScore_min:.0f}')\n",
        "print(f'\\t Mínimo: {zScore_max:.0f}')"
      ]
    },
    {
      "attachments": {},
      "cell_type": "markdown",
      "metadata": {},
      "source": [
        "### Datos faltantes"
      ]
    },
    {
      "attachments": {},
      "cell_type": "markdown",
      "metadata": {},
      "source": [
        "Vemos que tenemos un total de 431.506 registros. Entre las variables disponibles tenemos 5 con valores faltantes:\n",
        "* **CM04:** sólo hay 42 registros (menos del 0.01% del total de registros).\n",
        "* **TRATAMIENTO_DIFERNCIAL:** tiene 83.058 reigstros (cerca del 20% del total de registros).\n",
        "* **DESC_TRATAMIENTO_FISCAL:** tiene 117.841 registros (cerca del 30% del total de registros).\n",
        "* **TRATAMIENTO_FISCAL:** tiene 403.538 registros (más del 90% del total de registros).\n",
        "* **NOMBRE:** tiene 430.857 registros (casi el total de registros)."
      ]
    },
    {
      "cell_type": "code",
      "execution_count": null,
      "metadata": {
        "colab": {
          "base_uri": "https://localhost:8080/",
          "height": 575
        },
        "id": "Ux_6H8D_0pXt",
        "outputId": "fded5a88-c102-4a8d-a2af-33638b5e53b0"
      },
      "outputs": [],
      "source": [
        "msno.bar(ventas,figsize=(12, 3), sort=\"ascending\",fontsize=12, color='gray')\n",
        "plt.show()"
      ]
    },
    {
      "attachments": {},
      "cell_type": "markdown",
      "metadata": {},
      "source": [
        "### Cardinalidad: valores únicos"
      ]
    },
    {
      "attachments": {},
      "cell_type": "markdown",
      "metadata": {},
      "source": [
        "`ID_VENDEDOR` tiene 3209 valores (vendedores) diferentes. El vendedor mayoritario contribuye en un 0.39% de los registros y los 10 primeros en conjunto contribuyen al 2.85%."
      ]
    },
    {
      "cell_type": "code",
      "execution_count": null,
      "metadata": {},
      "outputs": [],
      "source": [
        "m = 0\n",
        "a = 100*ventas[ventas.columns[m]].value_counts(normalize=True).iloc[:10]\n",
        "print(a)\n",
        "print(f'\\nContribución porcentual de los 10 casos mayoritarios: {np.sum(a):.2f} %')\n",
        "print(f'Cardinalidad: {ventas[ventas.columns[m]].nunique()}')"
      ]
    },
    {
      "attachments": {},
      "cell_type": "markdown",
      "metadata": {},
      "source": [
        "`INSCRIPCION` tiene 3345 valores diferentes. El valor mayoritario contribuye en un 0.39% de los registros y los 10 primeros en conjunto contribuyen al 2.72%. Hay 136 valores más que en `ID_VENDEDOR`, pero porcentajes similares: puede existir una relación entre ambas, la cual no necesariamente es biyectiva."
      ]
    },
    {
      "cell_type": "code",
      "execution_count": null,
      "metadata": {},
      "outputs": [],
      "source": [
        "m = 1\n",
        "a = 100*ventas[ventas.columns[m]].value_counts(normalize=True).iloc[:10]\n",
        "print(a)\n",
        "print(f'\\nContribución porcentual de los 10 casos mayoritarios: {np.sum(a):.2f} %')\n",
        "print(f'Cardinalidad: {ventas[ventas.columns[m]].nunique()}')"
      ]
    },
    {
      "attachments": {},
      "cell_type": "markdown",
      "metadata": {},
      "source": [
        "`AÑO` tiene 4 valores diferentes: los 4 años que ya dijimos. El 2021 contribuye en un 29.69% de los registros, mientras que el 2022 con 15.02%."
      ]
    },
    {
      "cell_type": "code",
      "execution_count": null,
      "metadata": {},
      "outputs": [],
      "source": [
        "m = 2\n",
        "a = 100*ventas[ventas.columns[m]].value_counts(normalize=True).iloc[:10]\n",
        "print(a)\n",
        "print(f'\\nContribución porcentual de los 10 casos mayoritarios: {np.sum(a):.2f} %')\n",
        "print(f'Cardinalidad: {ventas[ventas.columns[m]].nunique()}')"
      ]
    },
    {
      "attachments": {},
      "cell_type": "markdown",
      "metadata": {},
      "source": [
        "`MES` tiene 12 valores diferentes: los 12 meses del año. Junio es el que más contribuye con el 9.56% de los registros. Los 10 meses con mayores contribuciones suman un total del 85.78% de registros."
      ]
    },
    {
      "cell_type": "code",
      "execution_count": null,
      "metadata": {},
      "outputs": [],
      "source": [
        "m = 3\n",
        "a = 100*ventas[ventas.columns[m]].value_counts(normalize=True).iloc[:10]\n",
        "print(a)\n",
        "print(f'\\nContribución porcentual de los 10 casos mayoritarios: {np.sum(a):.2f} %')\n",
        "print(f'Cardinalidad: {ventas[ventas.columns[m]].nunique()}')"
      ]
    },
    {
      "attachments": {},
      "cell_type": "markdown",
      "metadata": {},
      "source": [
        "`CATEGORIA` tiene 5 valores diferentes, pero parece que en realidad son todas la misma categoría, con diferentes formatos de escritura."
      ]
    },
    {
      "cell_type": "code",
      "execution_count": null,
      "metadata": {},
      "outputs": [],
      "source": [
        "m = 4\n",
        "a = 100*ventas[ventas.columns[m]].value_counts(normalize=True).iloc[:10]\n",
        "print(a)\n",
        "print(f'\\nContribución porcentual de los 10 casos mayoritarios: {np.sum(a):.2f} %')\n",
        "print(f'Cardinalidad: {ventas[ventas.columns[m]].nunique()}')"
      ]
    },
    {
      "attachments": {},
      "cell_type": "markdown",
      "metadata": {},
      "source": [
        "`DEPOSITO` tiene 241 valores diferentes. El valor mayoritario contribuye en un 5.21% de los registros y los 10 primeros en conjunto contribuyen al 26.64%."
      ]
    },
    {
      "cell_type": "code",
      "execution_count": null,
      "metadata": {},
      "outputs": [],
      "source": [
        "m = 5\n",
        "a = 100*ventas[ventas.columns[m]].value_counts(normalize=True).iloc[:10]\n",
        "print(a)\n",
        "print(f'\\nContribución porcentual de los 10 casos mayoritarios: {np.sum(a):.2f} %')\n",
        "print(f'Cardinalidad: {ventas[ventas.columns[m]].nunique()}')"
      ]
    },
    {
      "attachments": {},
      "cell_type": "markdown",
      "metadata": {},
      "source": [
        "`DESCRIPCION_CATEGORIA` tiene 245 valores diferentes. El valor mayoritario contribuye en un 5.21% de los registros y los 10 primeros en conjunto contribuyen al 26.64%. La cantidad de valores es similar al de la variable `DEPOSITO` y, además, las contribuciones porcentuales son simialres. Puede existir una relación entre ambas variables."
      ]
    },
    {
      "cell_type": "code",
      "execution_count": null,
      "metadata": {},
      "outputs": [],
      "source": [
        "m = 6\n",
        "a = 100*ventas[ventas.columns[m]].value_counts(normalize=True).iloc[:10]\n",
        "print(a)\n",
        "print(f'\\nContribución porcentual de los 10 casos mayoritarios: {np.sum(a):.2f} %')\n",
        "print(f'Cardinalidad: {ventas[ventas.columns[m]].nunique()}')"
      ]
    },
    {
      "attachments": {},
      "cell_type": "markdown",
      "metadata": {},
      "source": [
        "`TOTAL_VENTAS` tiene 248974 valores diferentes. El valor mayoritario contribuye en un 41.96% de los registros, indicando ventas por un valor de $0. Esto es sospechoso: ¿es un indicio para vendedores que hacen fuga de ventas?. Por otro lado, los 10 primeros en conjunto contribuyen al 42.06%."
      ]
    },
    {
      "cell_type": "code",
      "execution_count": null,
      "metadata": {},
      "outputs": [],
      "source": [
        "m = 7\n",
        "a = 100*ventas[ventas.columns[m]].value_counts(normalize=True).iloc[:10]\n",
        "print(a)\n",
        "print(f'\\nContribución porcentual de los 10 casos mayoritarios: {np.sum(a):.2f} %')\n",
        "print(f'Cardinalidad: {ventas[ventas.columns[m]].nunique()}')"
      ]
    },
    {
      "attachments": {},
      "cell_type": "markdown",
      "metadata": {},
      "source": [
        "`PORCENTAJE_COMISION_EMPRESA` tiene 89 valores diferentes. El valor mayoritario (4.75%) contribuye en un 19.41% de los registros y los 10 primeros en conjunto contribuyen al 73.27%."
      ]
    },
    {
      "cell_type": "code",
      "execution_count": null,
      "metadata": {},
      "outputs": [],
      "source": [
        "m = 8\n",
        "a = 100*ventas[ventas.columns[m]].value_counts(normalize=True).iloc[:10]\n",
        "print(a)\n",
        "print(f'\\nContribución porcentual de los 10 casos mayoritarios: {np.sum(a):.2f} %')\n",
        "print(f'Cardinalidad: {ventas[ventas.columns[m]].nunique()}')"
      ]
    },
    {
      "attachments": {},
      "cell_type": "markdown",
      "metadata": {},
      "source": [
        "`COMISION_EMPRESA` tiene 244284 valores diferentes. El valor mayoritario contribuye en un 42.52% de los registros y los 10 primeros en conjunto contribuyen al 42.56%. Nuevamente el valor mayoritario es de $0 como en `TOTAL_VENTAS`. Tiene sentido que estas variables estén relacionadas."
      ]
    },
    {
      "cell_type": "code",
      "execution_count": null,
      "metadata": {},
      "outputs": [],
      "source": [
        "m = 9\n",
        "a = 100*ventas[ventas.columns[m]].value_counts(normalize=True).iloc[:10]\n",
        "print(a)\n",
        "print(f'\\nContribución porcentual de los 10 casos mayoritarios: {np.sum(a):.2f} %')\n",
        "print(f'Cardinalidad: {ventas[ventas.columns[m]].nunique()}')"
      ]
    },
    {
      "attachments": {},
      "cell_type": "markdown",
      "metadata": {},
      "source": [
        "`TRATAMIENTO_FISCAL` tiene 17 valores diferentes: algunos numéricos y otros categóricos. El valor mayoritario contribuye en un 45.50% de los registros y los 10 primeros en conjunto contribuyen al 99.16%. Hay que unificar cosas como 0 y 0.0. Además ¿existe alguna relación entre ser 1 y ser especial 1? (o similares)"
      ]
    },
    {
      "cell_type": "code",
      "execution_count": null,
      "metadata": {},
      "outputs": [],
      "source": [
        "m = 10\n",
        "a = 100*ventas[ventas.columns[m]].value_counts(normalize=True).iloc[:10]\n",
        "print(a)\n",
        "print(f'\\nContribución porcentual de los 10 casos mayoritarios: {np.sum(a):.2f} %')\n",
        "print(f'Cardinalidad: {ventas[ventas.columns[m]].nunique()}')"
      ]
    },
    {
      "attachments": {},
      "cell_type": "markdown",
      "metadata": {},
      "source": [
        "`DESC_TRATAMIENTO_FISCAL` tiene 4 valores diferentes. El valor mayoritario contribuye en un 94.36% de los registros. ¿Qué relación hay entre esta variable y `TRATAMIENTO_FISCAL`?"
      ]
    },
    {
      "cell_type": "code",
      "execution_count": null,
      "metadata": {},
      "outputs": [],
      "source": [
        "m = 11\n",
        "a = 100*ventas[ventas.columns[m]].value_counts(normalize=True).iloc[:10]\n",
        "print(a)\n",
        "print(f'\\nContribución porcentual de los 10 casos mayoritarios: {np.sum(a):.2f} %')\n",
        "print(f'Cardinalidad: {ventas[ventas.columns[m]].nunique()}')"
      ]
    },
    {
      "attachments": {},
      "cell_type": "markdown",
      "metadata": {},
      "source": [
        "`TRATAMIENTO_DIFERNCIAL` tiene 11 valores diferentes. El valor mayoritario (Art. 21) contribuye en un 34.45% de los registros y los 10 primeros en conjunto contribuyen al 99.52%. ¿Cómo tratar a los casos \"Art. 19\", \"Art. 20\" y \"Art. 19 y 20\"?"
      ]
    },
    {
      "cell_type": "code",
      "execution_count": null,
      "metadata": {},
      "outputs": [],
      "source": [
        "m = 12\n",
        "a = 100*ventas[ventas.columns[m]].value_counts(normalize=True).iloc[:10]\n",
        "print(a)\n",
        "print(f'\\nContribución porcentual de los 10 casos mayoritarios: {np.sum(a):.2f} %')\n",
        "print(f'Cardinalidad: {ventas[ventas.columns[m]].nunique()}')"
      ]
    },
    {
      "attachments": {},
      "cell_type": "markdown",
      "metadata": {},
      "source": [
        "`CM04` tiene un único valor: \"Si\". Esta variable tenía casi el 100% de registros vacíos: ¿estar vacío implica un \"No\"?"
      ]
    },
    {
      "cell_type": "code",
      "execution_count": null,
      "metadata": {},
      "outputs": [],
      "source": [
        "m = 13\n",
        "a = 100*ventas[ventas.columns[m]].value_counts(normalize=True).iloc[:10]\n",
        "print(a)\n",
        "print(f'\\nContribución porcentual de los 10 casos mayoritarios: {np.sum(a):.2f} %')\n",
        "print(f'Cardinalidad: {ventas[ventas.columns[m]].nunique()}')"
      ]
    },
    {
      "attachments": {},
      "cell_type": "markdown",
      "metadata": {},
      "source": [
        "`CATEGORIA (Ajustado)` tiene un único valor: en efecto la variable `CATEGORIA` presentaba un único valor, escrito de formas diferentes."
      ]
    },
    {
      "cell_type": "code",
      "execution_count": null,
      "metadata": {},
      "outputs": [],
      "source": [
        "m = 14\n",
        "a = 100*ventas[ventas.columns[m]].value_counts(normalize=True).iloc[:10]\n",
        "print(a)\n",
        "print(f'\\nContribución porcentual de los 10 casos mayoritarios: {np.sum(a):.2f} %')\n",
        "print(f'Cardinalidad: {ventas[ventas.columns[m]].nunique()}')"
      ]
    },
    {
      "attachments": {},
      "cell_type": "markdown",
      "metadata": {},
      "source": [
        "`SUB-CATEGORIA` tiene 21 valores diferentes: las 245 opciones de `DESCRIPCION_CATEGORIA` fueron reducidas a esta cantidad. El valor mayoritario contribuye en un 32.51% de los registros y los 10 primeros en conjunto contribuyen al 87.78%. Si existía una relación con `DEPOSITO` ¿se sigue apreciando en esta nueva variable?"
      ]
    },
    {
      "cell_type": "code",
      "execution_count": null,
      "metadata": {},
      "outputs": [],
      "source": [
        "m = 15\n",
        "a = 100*ventas[ventas.columns[m]].value_counts(normalize=True).iloc[:10]\n",
        "print(a)\n",
        "print(f'\\nContribución porcentual de los 10 casos mayoritarios: {np.sum(a):.2f} %')\n",
        "print(f'Cardinalidad: {ventas[ventas.columns[m]].nunique()}')"
      ]
    },
    {
      "attachments": {},
      "cell_type": "markdown",
      "metadata": {},
      "source": [
        "`NOMBRE` tiene 3199 valores diferentes. El valor mayoritario contribuye en un 0.39% de los registros y los 10 primeros en conjunto contribuyen al 2.85%. Si bien los porcentajes son similares a aquellos encontrados para `ID_VENDEDOR`, los hashs son diferentes y, además, hay 10 nombres menos."
      ]
    },
    {
      "cell_type": "code",
      "execution_count": null,
      "metadata": {},
      "outputs": [],
      "source": [
        "m = 16\n",
        "a = 100*ventas[ventas.columns[m]].value_counts(normalize=True).iloc[:10]\n",
        "print(a)\n",
        "print(f'\\nContribución porcentual de los 10 casos mayoritarios: {np.sum(a):.2f} %')\n",
        "print(f'Cardinalidad: {ventas[ventas.columns[m]].nunique()}')"
      ]
    },
    {
      "attachments": {},
      "cell_type": "markdown",
      "metadata": {},
      "source": [
        "`OMEGA` tiene un único valor como habíamos dicho, por lo que no aporta nada de información relevante."
      ]
    },
    {
      "cell_type": "code",
      "execution_count": null,
      "metadata": {},
      "outputs": [],
      "source": [
        "m = 17\n",
        "a = 100*ventas[ventas.columns[m]].value_counts(normalize=True).iloc[:10]\n",
        "print(a)\n",
        "print(f'\\nContribución porcentual de los 10 casos mayoritarios: {np.sum(a):.2f} %')\n",
        "print(f'Cardinalidad: {ventas[ventas.columns[m]].nunique()}')"
      ]
    },
    {
      "attachments": {},
      "cell_type": "markdown",
      "metadata": {},
      "source": [
        "`MODELO` tiene 2 valores diferentes como habíamos dicho. Sólo el 0.32% de los registros es considerado **vendedor modelo** por parte del cliente."
      ]
    },
    {
      "cell_type": "code",
      "execution_count": null,
      "metadata": {},
      "outputs": [],
      "source": [
        "m = 18\n",
        "a = 100*ventas[ventas.columns[m]].value_counts(normalize=True).iloc[:10]\n",
        "print(a)\n",
        "print(f'\\nContribución porcentual de los 10 casos mayoritarios: {np.sum(a):.2f} %')\n",
        "print(f'Cardinalidad: {ventas[ventas.columns[m]].nunique()}')"
      ]
    },
    {
      "attachments": {},
      "cell_type": "markdown",
      "metadata": {},
      "source": [
        "### Variables que no contribuyen"
      ]
    },
    {
      "attachments": {},
      "cell_type": "markdown",
      "metadata": {
        "id": "OvAK1ET55A_W"
      },
      "source": [
        "En base a lo visto hasta aquí, se podría prescindir de las variables `CATEGORIA` y `DESCRIPCION_CATEGORIA`, las cuales fueron superadas por `CATEGORIA (Ajustado)` y `SUB-CATEGORIA`, respectivamente. Sin embargo, como `CATEGORIA (Ajustado)` presenta un único valor posible, también es prescindible. Lo mismo ocurre con `OMEGA`."
      ]
    },
    {
      "cell_type": "code",
      "execution_count": null,
      "metadata": {
        "colab": {
          "base_uri": "https://localhost:8080/",
          "height": 635
        },
        "id": "ffxTDDPC72sV",
        "outputId": "8906d989-0685-4b26-cc04-05b247e8a939"
      },
      "outputs": [],
      "source": [
        "ventas_clean = ventas.drop(['CATEGORIA', 'DESCRIPCION_CATEGORIA', 'OMEGA', 'CATEGORIA (Ajustado)'], axis=1).copy()\n",
        "display(ventas_clean[:3])"
      ]
    },
    {
      "attachments": {},
      "cell_type": "markdown",
      "metadata": {},
      "source": [
        "### Construcción de una nueva variable: Fecha"
      ]
    },
    {
      "attachments": {},
      "cell_type": "markdown",
      "metadata": {},
      "source": [
        "Consideramos que para el análisis temporal habrá momentos en que necesitamos tener año y mes por separado, pero en otras ocasiones necesitamos toda la información al mismo tiempo. Por lo tanto, creamos la variable fecha:\n",
        "    $$FECHA = AÑO + MES$$"
      ]
    },
    {
      "cell_type": "code",
      "execution_count": null,
      "metadata": {
        "colab": {
          "base_uri": "https://localhost:8080/",
          "height": 635
        },
        "id": "T78ErjlB8bYt",
        "outputId": "22107b7b-84a2-4800-948d-43b46db07185"
      },
      "outputs": [],
      "source": [
        "ventas_clean['FECHA'] = pd.to_datetime(ventas_clean['MES'].astype(str) + '-' + ventas_clean['AÑO'].astype(str), format='%m-%Y')\n",
        "display(ventas_clean[:3])"
      ]
    },
    {
      "cell_type": "code",
      "execution_count": null,
      "metadata": {
        "colab": {
          "base_uri": "https://localhost:8080/"
        },
        "id": "PdFe8Fo35AbI",
        "outputId": "144de103-1580-4bae-80ce-308d884007a8"
      },
      "outputs": [],
      "source": [
        "ventas_clean['FECHA'].dtypes"
      ]
    },
    {
      "attachments": {},
      "cell_type": "markdown",
      "metadata": {},
      "source": [
        "### Simplificación de valores únicos"
      ]
    },
    {
      "attachments": {},
      "cell_type": "markdown",
      "metadata": {},
      "source": [
        "#### Unificacón de categorías de `TRATAMIENTO_FISCAL`"
      ]
    },
    {
      "attachments": {},
      "cell_type": "markdown",
      "metadata": {},
      "source": [
        "Parece que la variable asume valores enteros, floats y strings. Sin embargo, se corrobora que los que parecen enteros, en realidad son strings. Vamos a forzar los floats hacia strings."
      ]
    },
    {
      "cell_type": "code",
      "execution_count": null,
      "metadata": {},
      "outputs": [],
      "source": [
        "ventas_clean['TRATAMIENTO_FISCAL'].value_counts()"
      ]
    },
    {
      "cell_type": "code",
      "execution_count": null,
      "metadata": {},
      "outputs": [],
      "source": [
        "ventas_clean['TRATAMIENTO_FISCAL'].unique()"
      ]
    },
    {
      "cell_type": "code",
      "execution_count": null,
      "metadata": {},
      "outputs": [],
      "source": [
        "ventas_clean['TRATAMIENTO_FISCAL'] = ventas_clean['TRATAMIENTO_FISCAL'].replace({0.0: '0', 3.0: '3', 2.0: '2', 1.0: '1'})\n",
        "ventas_clean['TRATAMIENTO_FISCAL'].value_counts()"
      ]
    },
    {
      "attachments": {},
      "cell_type": "markdown",
      "metadata": {},
      "source": [
        "#### Simplificación de categorías de `DESC_TRATAMIENTO_FISCAL`"
      ]
    },
    {
      "attachments": {},
      "cell_type": "markdown",
      "metadata": {},
      "source": [
        "Simplificamos los nombres de las categorías para que sea vea mejor a la hora de graficar."
      ]
    },
    {
      "cell_type": "code",
      "execution_count": null,
      "metadata": {},
      "outputs": [],
      "source": [
        "ventas_clean['DESC_TRATAMIENTO_FISCAL'].value_counts()"
      ]
    },
    {
      "cell_type": "code",
      "execution_count": null,
      "metadata": {},
      "outputs": [],
      "source": [
        "ventas_clean['DESC_TRATAMIENTO_FISCAL'] = ventas_clean['DESC_TRATAMIENTO_FISCAL'].replace({'Normal': 'Norm', 'Otro Tratamiento Fiscal': 'Otro', 'Exento/Desgravado': 'Ex/Des', 'Minorista': 'Min'})\n",
        "ventas_clean['DESC_TRATAMIENTO_FISCAL'].value_counts()"
      ]
    },
    {
      "attachments": {},
      "cell_type": "markdown",
      "metadata": {},
      "source": [
        "#### Simplificación de categorías de `TRATAMIENTO_DIFERENCIAL`"
      ]
    },
    {
      "attachments": {},
      "cell_type": "markdown",
      "metadata": {},
      "source": [
        "Simplificamos el nombre de los arítculos. Falta ver qué hacer con los casos que responden tanto al artículo 19 como al 20."
      ]
    },
    {
      "cell_type": "code",
      "execution_count": null,
      "metadata": {},
      "outputs": [],
      "source": [
        "ventas_clean['TRATAMIENTO_DIFERNCIAL'].value_counts()"
      ]
    },
    {
      "cell_type": "code",
      "execution_count": null,
      "metadata": {},
      "outputs": [],
      "source": [
        "ventas_clean['TRATAMIENTO_DIFERNCIAL'] = ventas_clean['TRATAMIENTO_DIFERNCIAL'].replace({'Artículo 21': 'Art.21',\n",
        "                                                                                         'Artículo 20': 'Art.20',\n",
        "                                                                                         'Artículo 19 y 20': 'Art.19+20',\n",
        "                                                                                         'Artículo 22': 'Art.22',\n",
        "                                                                                         'Artículo 16': 'Art.16',\n",
        "                                                                                         'Artículo 18': 'Art.18',\n",
        "                                                                                         'Artículo 34': 'Art.34',\n",
        "                                                                                         'Artículo 19': 'Art.19',\n",
        "                                                                                         'Artículo 31': 'Art.31',\n",
        "                                                                                         'Artículo 17': 'Art.17',\n",
        "                                                                                         'Artículo 28': 'Art.28'})\n",
        "ventas_clean['TRATAMIENTO_DIFERNCIAL'].value_counts()"
      ]
    },
    {
      "attachments": {},
      "cell_type": "markdown",
      "metadata": {},
      "source": [
        "### Algunas pruebas"
      ]
    },
    {
      "attachments": {},
      "cell_type": "markdown",
      "metadata": {},
      "source": [
        "#### Significado de los registros"
      ]
    },
    {
      "attachments": {},
      "cell_type": "markdown",
      "metadata": {
        "id": "znYgHYm37iId"
      },
      "source": [
        "Para saber qué representa cada registro (ventas mensuales, vendedores por mes, etcétera). Vemos que hay más de una observación para cada fecha por vendedor. Probablemente cada registro represente operaciones de ventas individuales."
      ]
    },
    {
      "cell_type": "code",
      "execution_count": null,
      "metadata": {},
      "outputs": [],
      "source": [
        "prueba1 = ventas_clean[['ID_VENDEDOR', 'FECHA']].copy()"
      ]
    },
    {
      "cell_type": "code",
      "execution_count": null,
      "metadata": {},
      "outputs": [],
      "source": [
        "for k in range(len(prueba1['ID_VENDEDOR'])):\n",
        "    p = prueba1[prueba1['ID_VENDEDOR']==prueba1['ID_VENDEDOR'][k]]\n",
        "    p = np.sum(p.duplicated(subset='FECHA'))\n",
        "    if p != 0:\n",
        "        print('Existen vendedores con más de un registro en la misma \"FECHA\".')\n",
        "        break"
      ]
    },
    {
      "cell_type": "code",
      "execution_count": null,
      "metadata": {
        "colab": {
          "base_uri": "https://localhost:8080/"
        },
        "id": "4OU9pe9f58hc",
        "outputId": "3a2cf1f9-bc16-4599-9b99-478a2d853ea8"
      },
      "outputs": [],
      "source": [
        "# Vamos a eliminar duplicados por ID_VENDEDOR y FECHA\n",
        "prueba1 = ventas_clean.drop_duplicates(subset=['ID_VENDEDOR', 'FECHA']).copy()\n",
        "print(len(prueba1))\n",
        "print(len(ventas_clean))"
      ]
    },
    {
      "attachments": {},
      "cell_type": "markdown",
      "metadata": {},
      "source": [
        "#### Relación entre `ID_VENDEDOR` y `NOMBRE`"
      ]
    },
    {
      "attachments": {},
      "cell_type": "markdown",
      "metadata": {
        "id": "a-8d7KTA5rP_"
      },
      "source": [
        "Queremos saber si existe una corrspondencia entre estas 2 variables. Ya vimos que había 10 nombres menos. Ahora vemos que hay más de un registro que asocia un dado `ID_VENDEDOR` con cierto `NOMBRE`. Falta saber qué representa `NOMBRE`para saber si se puede descartar o no."
      ]
    },
    {
      "cell_type": "code",
      "execution_count": null,
      "metadata": {},
      "outputs": [],
      "source": [
        "prueba2 = ventas_clean[['ID_VENDEDOR', 'NOMBRE']].copy()"
      ]
    },
    {
      "cell_type": "code",
      "execution_count": null,
      "metadata": {},
      "outputs": [],
      "source": [
        "for k in range(len(prueba2['ID_VENDEDOR'])):\n",
        "    p = prueba2[prueba2['ID_VENDEDOR']==prueba2['ID_VENDEDOR'][k]]\n",
        "    p = np.sum(p.duplicated(subset='NOMBRE'))\n",
        "    if p != 0:\n",
        "        print('Existen vendedores con más de un registro con el mismo \"NOMBRE\".')\n",
        "        break"
      ]
    },
    {
      "attachments": {},
      "cell_type": "markdown",
      "metadata": {},
      "source": [
        "#### Relación entre `TRATAMIENTO_FISCAL` y `DESC_TRATAMIENTO_FISCAL`"
      ]
    },
    {
      "attachments": {},
      "cell_type": "markdown",
      "metadata": {},
      "source": [
        "Queremos chequear para qué valores de `TRATAMIENTO_FISCAL` aparecen valores de `DESC_TRATAMIENTO_FISCAL`. Al analizar la tabla de contingencia, vemos que los valores de `DESC_TRATAMIENTO_FISCAL` sólo aparecen cuando `TRATAMIENTO_FISCAL` asume valores 0, 1, 2 ó 3. A su vez, hay correspondencia entre 0 y Normal, 1 y Exento/Desgravado, 2 y Minorista, 3 y Otro Tratamiento Fiscal. ¿Se puede unificar todo como `TRATAMIENTO_FISCAL`, eliminando entonces `DESC_TRATAMIENTO_FISCAL`? ¿Tiene sentido que falte la descripción asociada al tratamiento?"
      ]
    },
    {
      "cell_type": "code",
      "execution_count": null,
      "metadata": {
        "id": "0xLLgcJAVCU2"
      },
      "outputs": [],
      "source": [
        "# Este paso lo agrego porque sino el crosstab siguiente no me muestra los NaN\n",
        "prueba3 = ventas_clean.copy()\n",
        "prueba3['TRATAMIENTO_FISCAL'] = prueba3['TRATAMIENTO_FISCAL'].fillna('')\n",
        "prueba3['DESC_TRATAMIENTO_FISCAL'] = prueba3['DESC_TRATAMIENTO_FISCAL'].fillna('')"
      ]
    },
    {
      "cell_type": "code",
      "execution_count": null,
      "metadata": {
        "colab": {
          "base_uri": "https://localhost:8080/",
          "height": 551
        },
        "id": "0HqDzvWxVCYT",
        "outputId": "3e66aa5e-7e49-40b7-909b-35a29825f0f4"
      },
      "outputs": [],
      "source": [
        "pd.crosstab(prueba3['TRATAMIENTO_FISCAL'], prueba3['DESC_TRATAMIENTO_FISCAL'], dropna=False)"
      ]
    },
    {
      "attachments": {},
      "cell_type": "markdown",
      "metadata": {},
      "source": [
        "#### Relación entre `TRATAMIENTO_FISCAL` y `TRATAMIENTO_DIFERENCIAL`"
      ]
    },
    {
      "attachments": {},
      "cell_type": "markdown",
      "metadata": {},
      "source": [
        "Ahora veamos para qué valores de `TRATAMIENTO_FISCAL` aparecen valores de `TRATAMIENTO_DIFERNCIAL`. Al analizar la tabla de contingencia vemos que no hay un patrón claro. ¿Podríamos tomar a un dato faltante como \"sin tratamiento\" o algo por el estilo?"
      ]
    },
    {
      "cell_type": "code",
      "execution_count": null,
      "metadata": {
        "id": "dZ-Nl-WOVCj0"
      },
      "outputs": [],
      "source": [
        "# Este paso lo agrego porque sino el crosstab siguiente no me muestra los NaN\n",
        "prueba3['TRATAMIENTO_DIFERNCIAL'] = prueba3['TRATAMIENTO_DIFERNCIAL'].fillna('')"
      ]
    },
    {
      "cell_type": "code",
      "execution_count": null,
      "metadata": {
        "colab": {
          "base_uri": "https://localhost:8080/",
          "height": 595
        },
        "id": "RWflyPzDVCoA",
        "outputId": "4dfe49a8-6563-4bfb-fed8-d52d28bade01"
      },
      "outputs": [],
      "source": [
        "pd.crosstab(prueba3['TRATAMIENTO_FISCAL'], prueba3['TRATAMIENTO_DIFERNCIAL'], dropna=False)"
      ]
    },
    {
      "attachments": {},
      "cell_type": "markdown",
      "metadata": {},
      "source": [
        "#### Relación descriptiva entre `TOTAL_VENTAS`, `PORCENTAJE_COMISION_EMPRESA` y `COMISION_EMPRESA`"
      ]
    },
    {
      "attachments": {},
      "cell_type": "markdown",
      "metadata": {
        "id": "3xO1oCWA5rmv"
      },
      "source": [
        "Como ya vimos, existen valores negativos en `TOTAL_VENTAS` y `COMISION_EMPRESA`. ¿Tiene algún significado el signo negativo o es un error? También hay muchos registros nulos: ¿tiene algún significado especial o es un indicio de fuga? \n",
        "\n",
        "Destacamos nuevamente que hay una dispersión muy grande, presentándose la mayor asimetría hacia la derecha.\n",
        "\n",
        "Vemos que poco más del 42% de los registros poseen un valor negativo o nulo en alguna de estas 2 variables.\n",
        "\n",
        "Analizando los porcentajes de comisión, ¿tiene sentido que haya porcentajes nulos?\n",
        "\n",
        "Hay que decidir:\n",
        "* Qué hacemos con valores negativos.\n",
        "* Qué hacemos con valores nulos.\n",
        "* Si truncamos valores extremos y, en caso afirmativo, la manera/los límites."
      ]
    },
    {
      "cell_type": "code",
      "execution_count": null,
      "metadata": {
        "colab": {
          "base_uri": "https://localhost:8080/",
          "height": 301
        },
        "id": "8kQFqMHmam1O",
        "outputId": "c52c2ac1-2e49-4e5a-cf5f-53e51a08f8d6"
      },
      "outputs": [],
      "source": [
        "ventas_clean[['TOTAL_VENTAS','PORCENTAJE_COMISION_EMPRESA','COMISION_EMPRESA']].describe()"
      ]
    },
    {
      "cell_type": "code",
      "execution_count": null,
      "metadata": {
        "colab": {
          "base_uri": "https://localhost:8080/"
        },
        "id": "qAY8Dy4pn0cA",
        "outputId": "1310468a-b484-480e-b366-7a90e8f28b0c"
      },
      "outputs": [],
      "source": [
        "# TOTAL_VENTAS\n",
        "ans = len(ventas_clean)\n",
        "neg = len(ventas_clean[ventas_clean[\"TOTAL_VENTAS\"] < 0])\n",
        "nul = len(ventas_clean[ventas_clean[\"TOTAL_VENTAS\"] == 0])\n",
        "print(f'Valores negativos:')\n",
        "print(f'\\t{neg} de {ans}.')\n",
        "print(f'\\t{100*neg/ans:.2f}%')\n",
        "\n",
        "print(f'Valores nulos:')\n",
        "print(f'\\t{nul} de {ans}.')\n",
        "print(f'\\t{100*nul/ans:.2f}%')\n",
        "\n",
        "print(f'Valores negativos más nulos:')\n",
        "print(f'\\t{nul+neg} de {ans}.')\n",
        "print(f'\\t{100*(nul+neg)/ans:.2f}%')"
      ]
    },
    {
      "cell_type": "code",
      "execution_count": null,
      "metadata": {},
      "outputs": [],
      "source": [
        "# COMISION_EMPRESA\n",
        "ans = len(ventas_clean)\n",
        "neg = len(ventas_clean[ventas_clean[\"COMISION_EMPRESA\"] < 0])\n",
        "nul = len(ventas_clean[ventas_clean[\"COMISION_EMPRESA\"] == 0])\n",
        "print(f'Valores negativos:')\n",
        "print(f'\\t{neg} de {ans}.')\n",
        "print(f'\\t{100*neg/ans:.2f}%')\n",
        "\n",
        "print(f'Valores nulos:')\n",
        "print(f'\\t{nul} de {ans}.')\n",
        "print(f'\\t{100*nul/ans:.2f}%')\n",
        "\n",
        "print(f'Valores negativos más nulos:')\n",
        "print(f'\\t{nul+neg} de {ans}.')\n",
        "print(f'\\t{100*(nul+neg)/ans:.2f}%')"
      ]
    },
    {
      "cell_type": "code",
      "execution_count": null,
      "metadata": {
        "colab": {
          "base_uri": "https://localhost:8080/",
          "height": 360
        },
        "id": "N8MgIWfxuPuN",
        "outputId": "298944cb-aa25-416c-9395-0e955a3a5901"
      },
      "outputs": [],
      "source": [
        "# Crear la figura y los subplots\n",
        "fig, axs = plt.subplots(1, 3, figsize=(16, 4))\n",
        "\n",
        "# Boxplot para 'TOTAL_VENTAS'\n",
        "axs[0].boxplot(ventas_clean['TOTAL_VENTAS'].dropna())\n",
        "axs[0].set_title('Boxplot de TOTAL_VENTAS')\n",
        "\n",
        "# Boxplot para 'COMISION_EMPRESA'\n",
        "axs[1].boxplot(ventas_clean['COMISION_EMPRESA'].dropna())\n",
        "axs[1].set_title('Boxplot de COMISION_EMPRESA')\n",
        "\n",
        "# Boxplot para 'PORCENTAJE_COMISION_EMPRESA'\n",
        "axs[2].boxplot(ventas_clean['PORCENTAJE_COMISION_EMPRESA'].dropna())\n",
        "axs[2].set_title('Boxplot de PORCENTAJE_COMISION_EMPRESA')\n",
        "\n",
        "# Ajustar los espacios entre subplots\n",
        "plt.tight_layout()\n",
        "\n",
        "# Mostrar los gráficos\n",
        "plt.show()"
      ]
    },
    {
      "cell_type": "code",
      "execution_count": null,
      "metadata": {},
      "outputs": [],
      "source": [
        "prueba4 = ventas_clean[['TOTAL_VENTAS','PORCENTAJE_COMISION_EMPRESA','COMISION_EMPRESA']]"
      ]
    },
    {
      "attachments": {},
      "cell_type": "markdown",
      "metadata": {},
      "source": [
        "En los histogramas de la diagonal principal podemos apreciar el enorme peso de los valores nulos sobre el total de registros. Luego:\n",
        "* La mayoría de `TOTAL_VENTAS` están asociados a comisiones menores al 5%.\n",
        "* Se proyectan diferentes rectas entre `TOTAL_VENTAS` y `COMISION_EMPRESA`: ¿existe una relación de proporcionaldiad con el porcentaje?\n",
        "* Notando la anterior relación, es inmediato observar que la mayoría de `COMISION_EMPRESA` están asociados también a comisiones menores al 5%."
      ]
    },
    {
      "cell_type": "code",
      "execution_count": null,
      "metadata": {},
      "outputs": [],
      "source": [
        "sns.pairplot(data=prueba4, diag_kind='kde', plot_kws = {'alpha': 0.3, 's': 10})\n",
        "plt.show()"
      ]
    },
    {
      "attachments": {},
      "cell_type": "markdown",
      "metadata": {},
      "source": [
        "#### Relación numérica entre `TOTAL_VENTAS`, `PORCENTAJE_COMISION_EMPRESA` y `COMISION_EMPRESA`"
      ]
    },
    {
      "attachments": {},
      "cell_type": "markdown",
      "metadata": {},
      "source": [
        "Queremos estudiar un poco más la relación lineal antes vista entre estas 3 variables. Proponemos que la función es\n",
        "    $$\\text{COMISION\\_EMPRESA} = \\text{PORCENTAJE\\_COMISION\\_EMPRESA} \\times \\text{TOTAL\\_VENTAS}$$\n",
        "\n",
        "Vemos que la fórmula es exacta sólo para 190.999 registros. Si probamos con algún margen de error, la fórmula verifica con precisión menor a 1 entero para 261.272 registros (menos del 61% de los registros totales)."
      ]
    },
    {
      "cell_type": "code",
      "execution_count": null,
      "metadata": {
        "id": "NtUtbDc057lk"
      },
      "outputs": [],
      "source": [
        "# Probemos con verificar la siguiente fórmula:\n",
        "ventas_clean['ComCalc'] = ventas_clean['TOTAL_VENTAS'] * ventas_clean['PORCENTAJE_COMISION_EMPRESA']"
      ]
    },
    {
      "cell_type": "code",
      "execution_count": null,
      "metadata": {
        "colab": {
          "base_uri": "https://localhost:8080/"
        },
        "id": "AOoWPX_mBP1R",
        "outputId": "404bdc6c-7f06-43ad-de04-331c9f5cfe4e"
      },
      "outputs": [],
      "source": [
        "for x in [0, 0.01, 0.1, 0.2, 0.3, 0.4, 0.5, 1, 5, 10, 20, 50, 100, 1000]:\n",
        "  print('Para', x, 'de diferencia, tenemos', sum(abs(ventas_clean['COMISION_EMPRESA'] - ventas_clean['ComCalc']) <= x), 'igualdades')"
      ]
    },
    {
      "attachments": {},
      "cell_type": "markdown",
      "metadata": {},
      "source": [
        "Tenemos que en el 44.26% de los casos la relación lineal que proponemos es exacta. Respecto a la fracción restante, en el 8.19% de los casos la subestima, mientras que en el 47.55% la sobreestima."
      ]
    },
    {
      "cell_type": "code",
      "execution_count": null,
      "metadata": {},
      "outputs": [],
      "source": [
        "diferencia = ventas_clean['COMISION_EMPRESA'] - ventas_clean['ComCalc']\n",
        "print(f'Exactos: {100*len(diferencia[diferencia==0])/len(diferencia):.2f}')\n",
        "print(f'Positivos: {100*len(diferencia[diferencia>0])/len(diferencia):.2f}')\n",
        "print(f'Negativos: {100*len(diferencia[diferencia<0])/len(diferencia):.2f}')"
      ]
    },
    {
      "cell_type": "code",
      "execution_count": null,
      "metadata": {
        "colab": {
          "base_uri": "https://localhost:8080/",
          "height": 487
        },
        "id": "LwogIbaeFTOj",
        "outputId": "f8cd2b98-c2ac-47e1-b2cb-f48293781639"
      },
      "outputs": [],
      "source": [
        "# Grafiquemos la distribución de la diferencia\n",
        "plt.boxplot(diferencia.dropna())\n",
        "plt.xlabel('Diferencia')\n",
        "plt.ylabel('Valor')\n",
        "plt.title('Diferencia entre comisión empresa real y calculada')\n",
        "plt.show()"
      ]
    },
    {
      "attachments": {},
      "cell_type": "markdown",
      "metadata": {},
      "source": [
        "Vemos que, a pesar de las diferencias entre el valor real y el predicho, se pueden apreciar claramente 2 pendientes: una muy grande y otra bastante más pequeña. Esas dos rectas serían las que describen mejor la tendencia de los puntos y, por lo tanto, explicarían la relación entre las 3 variables de interés."
      ]
    },
    {
      "cell_type": "code",
      "execution_count": null,
      "metadata": {},
      "outputs": [],
      "source": [
        "com_real_sobre = ventas_clean['COMISION_EMPRESA'][diferencia<0]\n",
        "com_real_exac = ventas_clean['COMISION_EMPRESA'][diferencia==0]\n",
        "com_real_sub = ventas_clean['COMISION_EMPRESA'][diferencia>0]\n",
        "\n",
        "com_calc_sobre = ventas_clean['ComCalc'][diferencia<0]\n",
        "com_calc_exac = ventas_clean['ComCalc'][diferencia==0]\n",
        "com_calc_sub = ventas_clean['ComCalc'][diferencia>0]"
      ]
    },
    {
      "cell_type": "code",
      "execution_count": null,
      "metadata": {},
      "outputs": [],
      "source": [
        "fig, axs = plt.subplots(1, 2, figsize=(12, 5))\n",
        "\n",
        "axs[0].scatter(com_real_sobre, com_calc_sobre, label='Sobreestimado', s=30)\n",
        "axs[0].scatter(com_real_exac, com_calc_exac, label='Exacto', s=20)\n",
        "axs[0].scatter(com_real_sub, com_calc_sub, label='Subestimado', s=10)\n",
        "\n",
        "axs[0].legend()\n",
        "\n",
        "axs[0].set_xlabel('Comisión real')\n",
        "axs[0].set_ylabel('Comisión Calculada')\n",
        "\n",
        "axs[1].scatter(com_real_sobre, com_calc_sobre, label='Sobreestimado', s=30)\n",
        "axs[1].scatter(com_real_exac, com_calc_exac, label='Exacto', s=20)\n",
        "axs[1].scatter(com_real_sub, com_calc_sub, label='Subestimado', s=10)\n",
        "\n",
        "axs[1].legend()\n",
        "axs[1].set_ylim(-5E8, 1E8)\n",
        "axs[1].set_xlim(-0.5E7, 3.5E7)\n",
        "\n",
        "axs[1].set_xlabel('Comisión real')\n",
        "axs[1].set_ylabel('Comisión calculada')\n",
        "\n",
        "fig.suptitle('Comisión empresa: real vs calculada')\n",
        "plt.show()"
      ]
    },
    {
      "attachments": {},
      "cell_type": "markdown",
      "metadata": {},
      "source": [
        "Vemos que entonces tenemos 2 rectas que definen la relación entre las variables de interés. Por un lado, el 61% de los datos responde a la ecuación antes planteada, sumando un pequeño offset:\n",
        "    $$\\text{Com. Calc} = \\text{Com. Real} + \\$0.48 = \\text{Porcent. Com.} \\times \\text{Ventas}$$\n",
        "    $$\\Rightarrow \\text{Com. Real} = \\text{Porcent. Com.} \\times \\text{Ventas} - \\$0.48$$\n",
        "\n",
        "El resto de los datos responde a una ecuación completamente distinta:\n",
        "    $$\\text{Com. Calc} = 100 * \\text{Com. Real} + \\$1365 = \\text{Porcent. Com.} \\times \\text{Ventas}$$\n",
        "    $$\\Rightarrow \\text{Com. Real} = \\frac{\\text{Porcent. Com.} \\times \\text{Ventas} - \\$1365}{100} = 0.01 \\times \\text{Porcent. Com.} \\times \\text{Ventas} - \\$13.65 $$\n",
        "\n",
        "No olvidar que esto sale considerando absolutamente todos los valores (no se descaartó ni se truncó nada)."
      ]
    },
    {
      "cell_type": "code",
      "execution_count": null,
      "metadata": {},
      "outputs": [],
      "source": [
        "rg_real = pd.concat([com_real_sub[com_calc_sub<0], com_real_sobre[com_calc_sobre>10*com_real_sobre]])\n",
        "rg_calc = pd.concat([com_calc_sub[com_calc_sub<0], com_calc_sobre[com_calc_sobre>10*com_real_sobre]])\n",
        "\n",
        "rp_real = pd.concat([com_real_sub[com_calc_sub>0], com_real_sobre[com_calc_sobre<10*com_real_sobre], com_real_exac])\n",
        "rp_calc = pd.concat([com_calc_sub[com_calc_sub>0], com_calc_sobre[com_calc_sobre<10*com_real_sobre], com_calc_exac])"
      ]
    },
    {
      "cell_type": "code",
      "execution_count": null,
      "metadata": {},
      "outputs": [],
      "source": [
        "print(len(rg_real))\n",
        "print(len(rp_real))\n",
        "print(len(rp_real+rg_real))"
      ]
    },
    {
      "cell_type": "code",
      "execution_count": null,
      "metadata": {},
      "outputs": [],
      "source": [
        "LG = LR(rg_real, rg_calc)\n",
        "LP = LR(rp_real, rp_calc)"
      ]
    },
    {
      "cell_type": "code",
      "execution_count": null,
      "metadata": {},
      "outputs": [],
      "source": [
        "fig, axs = plt.subplots(1, 2, figsize=(12, 5))\n",
        "\n",
        "axs[0].scatter(rg_real, rg_calc, label='Gran pendiente', s=30)\n",
        "axs[0].scatter(rp_real, rp_calc, label='Pequeña pendiente', s=15)\n",
        "axs[0].plot(rg_real, rg_real*LG.slope + LG.intercept, label=f'{LG.slope:.0f}*Real + {LG.intercept:.0f}', color='red')\n",
        "axs[0].plot(rp_real, rp_real*LP.slope + LP.intercept, label=f'{LP.slope:.0f}*Real + {LP.intercept:.2f}', color='tab:green')\n",
        "\n",
        "axs[0].legend(loc='upper left')\n",
        "\n",
        "axs[0].set_xlabel('Comisión real')\n",
        "axs[0].set_ylabel('Comisión Calculada')\n",
        "\n",
        "axs[1].scatter(rg_real, rg_calc, label='Gran pendiente', s=30)\n",
        "axs[1].scatter(rp_real, rp_calc, label='Pequeña pendiente', s=15)\n",
        "axs[1].plot(rg_real, rg_real*LG.slope + LG.intercept, label=f'{LG.slope:.0f}*Real + {LG.intercept:.0f}', color='red')\n",
        "axs[1].plot(rp_real, rp_real*LP.slope + LP.intercept, label=f'{LP.slope:.0f}*Real + {LP.intercept:.2f}', color='tab:green')\n",
        "\n",
        "axs[1].legend(loc='lower right')\n",
        "axs[1].set_ylim(-1E8, 1E8)\n",
        "axs[1].set_xlim(-0.5E7, 4E7)\n",
        "\n",
        "axs[1].set_xlabel('Comisión real')\n",
        "axs[1].set_ylabel('Comisión calculada')\n",
        "\n",
        "fig.suptitle('Comisión empresa: real vs calculada')\n",
        "plt.show()"
      ]
    },
    {
      "attachments": {},
      "cell_type": "markdown",
      "metadata": {},
      "source": [
        "#### Rectas obtenida vs vendedor modelo"
      ]
    },
    {
      "attachments": {},
      "cell_type": "markdown",
      "metadata": {},
      "source": [
        "Ahora comparamos las dos rectas obtenidas en función de la clasificación de modelo dada por el cliente. Vemos que todos los vendedores modelo caen dentro de la recta de menor pendiente, la cual establece prácticamente una relación de proporcionalidad directa entre las ventas y la comisión de la empresa. Por su parte, los que no están clasificados como modelo caen sobre ambas rectas. ¿Puede ser este un camino para detectar la fuga?"
      ]
    },
    {
      "cell_type": "code",
      "execution_count": null,
      "metadata": {},
      "outputs": [],
      "source": [
        "mask0 = ventas_clean['MODELO']==0\n",
        "mask1 = ventas_clean['MODELO']==1"
      ]
    },
    {
      "cell_type": "code",
      "execution_count": null,
      "metadata": {},
      "outputs": [],
      "source": [
        "com_real_Mod = ventas_clean['COMISION_EMPRESA'][mask1]\n",
        "com_real_noMod = ventas_clean['COMISION_EMPRESA'][mask0]\n",
        "\n",
        "com_calc_Mod = ventas_clean['ComCalc'][mask1]\n",
        "com_calc_noMod = ventas_clean['ComCalc'][mask0]"
      ]
    },
    {
      "cell_type": "code",
      "execution_count": null,
      "metadata": {},
      "outputs": [],
      "source": [
        "fig, axs = plt.subplots(1, 2, figsize=(12, 5))\n",
        "\n",
        "axs[0].scatter(rg_real, rg_calc, label='Gran pendiente', s=30)\n",
        "axs[0].scatter(rp_real, rp_calc, label='Pequeña pendiente', s=15)\n",
        "axs[0].plot(com_real_noMod, com_calc_noMod, label='No Modelo', color='tab:green')\n",
        "axs[0].plot(com_real_Mod, com_calc_Mod, label='Modelo', color='red')\n",
        "\n",
        "axs[0].legend(loc='upper left')\n",
        "\n",
        "axs[0].set_xlabel('Comisión real')\n",
        "axs[0].set_ylabel('Comisión Calculada')\n",
        "\n",
        "axs[1].scatter(rg_real, rg_calc, label='Gran pendiente', s=30)\n",
        "axs[1].scatter(rp_real, rp_calc, label='Pequeña pendiente', s=15)\n",
        "axs[1].plot(com_real_noMod, com_calc_noMod, label='No Modelo', color='tab:green')\n",
        "axs[1].plot(com_real_Mod, com_calc_Mod, label='Modelo', color='red')\n",
        "\n",
        "axs[1].legend(loc='lower right')\n",
        "axs[1].set_ylim(-1E8, 1E8)\n",
        "axs[1].set_xlim(-0.5E7, 4E7)\n",
        "\n",
        "axs[1].set_xlabel('Comisión real')\n",
        "axs[1].set_ylabel('Comisión calculada')\n",
        "\n",
        "fig.suptitle('Comisión empresa: real vs calculada')\n",
        "plt.show()"
      ]
    },
    {
      "attachments": {},
      "cell_type": "markdown",
      "metadata": {},
      "source": [
        "### Acomodado del DataFrame resultante"
      ]
    },
    {
      "attachments": {},
      "cell_type": "markdown",
      "metadata": {},
      "source": [
        "Quitamos la columan que creamos recién con los cálculos y reordenamos las columnas, poniendo las más relevantes al comienzo."
      ]
    },
    {
      "cell_type": "code",
      "execution_count": null,
      "metadata": {},
      "outputs": [],
      "source": [
        "# Eliminamos la columna creada\n",
        "ventas_clean = ventas_clean.drop(['ComCalc'], axis=1).copy()\n",
        "ventas_clean.columns"
      ]
    },
    {
      "cell_type": "code",
      "execution_count": null,
      "metadata": {},
      "outputs": [],
      "source": [
        "ventas_clean = ventas_clean[['FECHA', 'MODELO', 'TOTAL_VENTAS', \n",
        "                             'PORCENTAJE_COMISION_EMPRESA', 'COMISION_EMPRESA',\n",
        "                             'SUB-CATEGORIA', 'ID_VENDEDOR', 'NOMBRE',\n",
        "                             'INSCRIPCION', 'DEPOSITO', 'AÑO', 'MES',\n",
        "                             'TRATAMIENTO_FISCAL', 'DESC_TRATAMIENTO_FISCAL',\n",
        "                             'TRATAMIENTO_DIFERNCIAL', 'CM04']]\n",
        "ventas_clean = ventas_clean.sort_values(['FECHA', 'TOTAL_VENTAS'])"
      ]
    },
    {
      "cell_type": "code",
      "execution_count": null,
      "metadata": {},
      "outputs": [],
      "source": [
        "ventas_clean"
      ]
    },
    {
      "attachments": {},
      "cell_type": "markdown",
      "metadata": {
        "id": "uWvSDx9e0lLJ"
      },
      "source": [
        "---\n",
        "# Paso 2: Análisis estadístico descriptivo"
      ]
    },
    {
      "attachments": {},
      "cell_type": "markdown",
      "metadata": {},
      "source": [
        "### Descripción general, sin considerar serie temporal"
      ]
    },
    {
      "attachments": {},
      "cell_type": "markdown",
      "metadata": {},
      "source": [
        "Vamos a considerar que la serie temporal **principal** es la dictada por `TOTAL_VENTAS`. Recordamos primero la estadística descriptiva general. Como dijimos antes, hay una gran dispersión en los datos de `TOTAL_VENTAS` y `COMISION_EMPRESA`, las cuales ya sabemos que están correlacionadas."
      ]
    },
    {
      "cell_type": "code",
      "execution_count": null,
      "metadata": {
        "colab": {
          "base_uri": "https://localhost:8080/"
        },
        "id": "Iuwtj_F452jM",
        "outputId": "6dc26031-69ec-49f0-f795-01300b68b399"
      },
      "outputs": [],
      "source": [
        "ventas_clean.describe().T"
      ]
    },
    {
      "cell_type": "code",
      "execution_count": null,
      "metadata": {},
      "outputs": [],
      "source": [
        "fig, axs = plt.subplots(1, 3, figsize=(18, 5))\n",
        "\n",
        "sns.histplot(ventas_clean['AÑO'], ax=axs[0])\n",
        "sns.histplot(ventas_clean['MES'], ax=axs[1])\n",
        "sns.histplot(ventas_clean['FECHA'], ax=axs[2])\n",
        "axs[2].tick_params(axis='x', rotation=90)\n",
        "\n",
        "plt.show()"
      ]
    },
    {
      "cell_type": "code",
      "execution_count": null,
      "metadata": {},
      "outputs": [],
      "source": [
        "fig, axs = plt.subplots(2, 2, figsize=(12, 10))\n",
        "\n",
        "sns.boxplot(x=ventas_clean['TOTAL_VENTAS'], ax=axs[0, 0], notch=True, \n",
        "            flierprops={\"marker\": \"x\"}, medianprops={\"color\": \"coral\"})\n",
        "\n",
        "sns.boxplot(x=ventas_clean['TOTAL_VENTAS'], ax=axs[0, 1], notch=True, \n",
        "            flierprops={\"marker\": \"x\"}, medianprops={\"color\": \"coral\"})\n",
        "\n",
        "axs[0, 1].set_xlim(-0.6E7, 1E7)\n",
        "\n",
        "sns.boxplot(x=ventas_clean['COMISION_EMPRESA'], ax=axs[1, 0], notch=True, \n",
        "            flierprops={\"marker\": \"x\"}, medianprops={\"color\": \"coral\"})\n",
        "\n",
        "sns.boxplot(x=ventas_clean['COMISION_EMPRESA'], ax=axs[1, 1], notch=True, \n",
        "            flierprops={\"marker\": \"x\"}, medianprops={\"color\": \"coral\"})\n",
        "\n",
        "axs[1, 1].set_xlim(-3E5, 4E5)\n",
        "\n",
        "plt.show()"
      ]
    },
    {
      "attachments": {},
      "cell_type": "markdown",
      "metadata": {},
      "source": [
        "Ya habíamos dicho que teníamos valores extremos tanto por izquierda como por derecha, siendo mucho más pronunciada la asimetría hacia la derecha. También observamos los valores negativos que aún no sabemos si son erróneos o si el signo tiene algún significado.\n",
        "\n",
        "Para atacar el problema de los valores extremos podemos proponer quedarnos con cierta porción de la distribución usando percentiles. Como tiene mucha cola hacia la derecha, nos quedamos primero con la porción izquierda de la población."
      ]
    },
    {
      "cell_type": "code",
      "execution_count": null,
      "metadata": {},
      "outputs": [],
      "source": [
        "print(f'Teníamos {len(ventas_clean)} registros.')\n",
        "dftest = ventas_clean.copy()\n",
        "\n",
        "fig, axs = plt.subplots(1, 4, figsize=(24, 5))\n",
        "\n",
        "sns.boxplot(x=ventas_clean['TOTAL_VENTAS'], ax=axs[0], notch=True, \n",
        "            flierprops={\"marker\": \"x\"}, medianprops={\"color\": \"coral\"})\n",
        "\n",
        "percentile_sup = dftest['TOTAL_VENTAS'].quantile(0.995)\n",
        "dfk = dftest[dftest['TOTAL_VENTAS'] < percentile_sup]\n",
        "print(f'Tomando el 99.5% central quedan {len(dfk)} registros.')\n",
        "sns.boxplot(x=dfk['TOTAL_VENTAS'], ax=axs[1], notch=True, \n",
        "            flierprops={\"marker\": \"x\"}, medianprops={\"color\": \"coral\"})\n",
        "\n",
        "percentile_sup = dftest['TOTAL_VENTAS'].quantile(0.990)\n",
        "dfk = dftest[dftest['TOTAL_VENTAS'] < percentile_sup]\n",
        "print(f'Tomando el 99.0% central quedan {len(dfk)} registros.')\n",
        "sns.boxplot(x=dfk['TOTAL_VENTAS'], ax=axs[2], notch=True, \n",
        "            flierprops={\"marker\": \"x\"}, medianprops={\"color\": \"coral\"})\n",
        "\n",
        "percentile_sup = dftest['TOTAL_VENTAS'].quantile(0.950)\n",
        "dfk = dftest[dftest['TOTAL_VENTAS'] < percentile_sup]\n",
        "print(f'Tomando el 95.0% central quedan {len(dfk)} registros.')\n",
        "sns.boxplot(x=dfk['TOTAL_VENTAS'], ax=axs[3], notch=True, \n",
        "            flierprops={\"marker\": \"x\"}, medianprops={\"color\": \"coral\"})\n",
        "\n",
        "axs[0].set_title(f'100% de la distribución')\n",
        "axs[1].set_title(f'99.5% izquierdo de la distribución')\n",
        "axs[2].set_title(f'99.0% izquierdo de la distribución')\n",
        "axs[3].set_title(f'95.0% izquierdo de la distribución')\n",
        "\n",
        "plt.show()"
      ]
    },
    {
      "attachments": {},
      "cell_type": "markdown",
      "metadata": {},
      "source": [
        "### Considerando la serie temporal"
      ]
    },
    {
      "attachments": {},
      "cell_type": "markdown",
      "metadata": {},
      "source": [
        "#### Agrupando por meses"
      ]
    },
    {
      "attachments": {},
      "cell_type": "markdown",
      "metadata": {
        "id": "hexHLiR60yMr"
      },
      "source": [
        "Se entiende más la progresión al agrupar todos los datos correspondientes a un mismo mes. Vemos que no hace otra cosa más que crecer. Se observa el efecto de la inflación y pareciera haber picos hacia fin de año."
      ]
    },
    {
      "cell_type": "code",
      "execution_count": null,
      "metadata": {},
      "outputs": [],
      "source": [
        "fig, axs = plt.subplots(1, 2, figsize=(12, 5))\n",
        "\n",
        "axs[0].plot(ventas_clean['FECHA'],ventas_clean['TOTAL_VENTAS'])\n",
        "\n",
        "axs[0].set_xlabel('Fecha')\n",
        "axs[0].set_ylabel('Ventas')\n",
        "axs[0].set_title('Ventas sin agregar')\n",
        "\n",
        "prueba6 = ventas_clean[['FECHA','TOTAL_VENTAS', 'AÑO']].copy()\n",
        "prueba6_agregado = prueba6.groupby('FECHA')['TOTAL_VENTAS'].sum().reset_index()\n",
        "\n",
        "axs[1].plot(prueba6_agregado['FECHA'], prueba6_agregado['TOTAL_VENTAS'])\n",
        "\n",
        "axs[1].set_xlabel('Fecha')\n",
        "axs[1].set_ylabel('Ventas')\n",
        "axs[1].set_title('Ventas agregadas por mes')\n",
        "\n",
        "plt.show()"
      ]
    },
    {
      "attachments": {},
      "cell_type": "markdown",
      "metadata": {},
      "source": [
        "Son más similares las tendencias desde el 2019 al 2021, mientras que 2022 se destaca por ser bien diferente."
      ]
    },
    {
      "cell_type": "code",
      "execution_count": null,
      "metadata": {},
      "outputs": [],
      "source": [
        "mes = [1, 2, 3, 4, 5, 6, 7, 8, 9, 10, 11, 12]\n",
        "\n",
        "v19 = prueba6_agregado['TOTAL_VENTAS'][:12]\n",
        "v20 = prueba6_agregado['TOTAL_VENTAS'][12:24]\n",
        "v21 = prueba6_agregado['TOTAL_VENTAS'][24:36]\n",
        "v22 = prueba6_agregado['TOTAL_VENTAS'][36:]\n",
        "\n",
        "fig, axs = plt.subplots(1, 2, figsize=(12, 5))\n",
        "\n",
        "axs[0].plot(mes, v19, label='2019', marker='o')\n",
        "axs[0].plot(mes, v20, label='2020', marker='o')\n",
        "axs[0].plot(mes, v21, label='2021', marker='o')\n",
        "axs[0].plot(mes[:6], v22, label='2022', marker='o')\n",
        "\n",
        "axs[0].set_xlabel('Mes')\n",
        "axs[0].set_ylabel('Ventas')\n",
        "axs[0].set_title('Original')\n",
        "axs[0].legend()\n",
        "\n",
        "axs[1].plot(mes, v19/np.max(v19), label='2019', marker='o')\n",
        "axs[1].plot(mes, v20/np.max(v20), label='2020', marker='o')\n",
        "axs[1].plot(mes, v21/np.max(v21), label='2021', marker='o')\n",
        "axs[1].plot(mes[:6], v22/np.max(v22), label='2022', marker='o')\n",
        "\n",
        "axs[1].set_xlabel('Mes')\n",
        "axs[1].set_ylabel('Ventas')\n",
        "axs[1].set_title('Normalizadas')\n",
        "axs[1].legend()\n",
        "\n",
        "fig.suptitle('Ventas agregadas por mes y separadas por año')\n",
        "\n",
        "plt.show()"
      ]
    },
    {
      "attachments": {},
      "cell_type": "markdown",
      "metadata": {},
      "source": [
        "#### Estacionalidad un poco más definida - mensual"
      ]
    },
    {
      "attachments": {},
      "cell_type": "markdown",
      "metadata": {},
      "source": [
        "Se dice que una serie de tiempo es estacionaria si no aumenta o disminuye con el tiempo de forma lineal o exponencial (sin tendencias), y si no muestra ningún tipo de patrón repetitivo (sin estacionalidad). Matemáticamente, esto se describe como una media constante y una varianza constante a lo largo del tiempo. Junto con la varianza, la autocovarianza tampoco debería ser una función del tiempo."
      ]
    },
    {
      "cell_type": "code",
      "execution_count": null,
      "metadata": {},
      "outputs": [],
      "source": [
        "fig, axs = plt.subplots(2, 1, figsize=(12, 10))\n",
        "\n",
        "sns.boxplot(data=ventas_clean, x='MES', y='TOTAL_VENTAS', ax=axs[0])\n",
        "\n",
        "sns.boxplot(data=ventas_clean, x='MES', y='TOTAL_VENTAS', ax=axs[1])\n",
        "axs[1].set_ylim(-0.6E7, 1.2E7)\n",
        "\n",
        "fig.suptitle('Estacionalidad mensual considerando los 4 años juntos')\n",
        "plt.show()"
      ]
    },
    {
      "cell_type": "code",
      "execution_count": null,
      "metadata": {},
      "outputs": [],
      "source": [
        "fig, axs = plt.subplots(2, 4, figsize=(24, 20))\n",
        "\n",
        "sns.boxplot(data=ventas_clean[ventas_clean['AÑO']==2019], x='MES', y='TOTAL_VENTAS', ax=axs[0, 0])\n",
        "sns.boxplot(data=ventas_clean[ventas_clean['AÑO']==2019], x='MES', y='TOTAL_VENTAS', ax=axs[1, 0])\n",
        "\n",
        "sns.boxplot(data=ventas_clean[ventas_clean['AÑO']==2020], x='MES', y='TOTAL_VENTAS', ax=axs[0, 1])\n",
        "sns.boxplot(data=ventas_clean[ventas_clean['AÑO']==2020], x='MES', y='TOTAL_VENTAS', ax=axs[1, 1])\n",
        "\n",
        "sns.boxplot(data=ventas_clean[ventas_clean['AÑO']==2021], x='MES', y='TOTAL_VENTAS', ax=axs[0, 2])\n",
        "sns.boxplot(data=ventas_clean[ventas_clean['AÑO']==2021], x='MES', y='TOTAL_VENTAS', ax=axs[1, 2])\n",
        "\n",
        "sns.boxplot(data=ventas_clean[ventas_clean['AÑO']==2022], x='MES', y='TOTAL_VENTAS', ax=axs[0, 3])\n",
        "sns.boxplot(data=ventas_clean[ventas_clean['AÑO']==2022], x='MES', y='TOTAL_VENTAS', ax=axs[1, 3])\n",
        "\n",
        "axs[0, 0].set_title('2019')\n",
        "axs[1, 0].set_ylim(-0.6E7, 1.2E7)\n",
        "\n",
        "axs[0, 1].set_title('2020')\n",
        "axs[1, 1].set_ylim(-0.6E7, 1.2E7)\n",
        "\n",
        "axs[0, 2].set_title('2021')\n",
        "axs[1, 2].set_ylim(-0.6E7, 1.2E7)\n",
        "\n",
        "axs[0, 3].set_title('2022')\n",
        "axs[1, 3].set_ylim(-0.6E7, 1.2E7)\n",
        "\n",
        "fig.suptitle('Estacionalidad mensual por año')\n",
        "plt.show()"
      ]
    },
    {
      "attachments": {},
      "cell_type": "markdown",
      "metadata": {},
      "source": [
        "#### Estacionalidad un poco más definida - anual"
      ]
    },
    {
      "cell_type": "code",
      "execution_count": null,
      "metadata": {},
      "outputs": [],
      "source": [
        "fig, axs = plt.subplots(2, 1, figsize=(12, 10))\n",
        "\n",
        "sns.boxplot(data=ventas_clean, x='AÑO', y='TOTAL_VENTAS', ax=axs[0])\n",
        "\n",
        "sns.boxplot(data=ventas_clean, x='AÑO', y='TOTAL_VENTAS', ax=axs[1])\n",
        "axs[1].set_ylim(-0.6E7, 1.2E7)\n",
        "\n",
        "fig.suptitle('Estacionalidad anual considerando los 12 meses juntos')\n",
        "plt.show()"
      ]
    },
    {
      "attachments": {},
      "cell_type": "markdown",
      "metadata": {},
      "source": [
        "#### Autocorrelación"
      ]
    },
    {
      "attachments": {},
      "cell_type": "markdown",
      "metadata": {
        "id": "QPGMX3kN0z1d"
      },
      "source": [
        "Hay correlación estadísticamente significativa para los lags 1, 2 y 3, lo que implica que observaciones pasadas influyen en las observaciones actuales de la serie temporal de manera positiva."
      ]
    },
    {
      "cell_type": "code",
      "execution_count": null,
      "metadata": {
        "colab": {
          "base_uri": "https://localhost:8080/",
          "height": 472
        },
        "id": "c9PErA5V6h8Z",
        "outputId": "f61ed9a8-469b-4508-cd51-0e66b957d748"
      },
      "outputs": [],
      "source": [
        "# Calcular la función de autocorrelación\n",
        "acf = plot_acf(prueba6_agregado['TOTAL_VENTAS'], lags=12)\n",
        "\n",
        "# Graficar la función de autocorrelación\n",
        "plt.xlabel('Lag')\n",
        "plt.ylabel('Autocorrelation')\n",
        "plt.title('Autocorrelation Function')\n",
        "plt.show()"
      ]
    },
    {
      "attachments": {},
      "cell_type": "markdown",
      "metadata": {},
      "source": [
        "---\n",
        "# Paso 4: Distribución de frecuencias y probabilidades"
      ]
    },
    {
      "attachments": {},
      "cell_type": "markdown",
      "metadata": {},
      "source": [
        "1. Si los datos son continuos, crea un histograma para visualizar la distribución de frecuencias.\n",
        "2. Calcula medidas como la asimetría y la curtosis para analizar la forma de la distribución.\n",
        "3. Si los datos son discretos, crea una tabla de frecuencias y grafica un diagrama de barras para visualizar la distribución."
      ]
    }
  ],
  "metadata": {
    "colab": {
      "provenance": [],
      "toc_visible": true
    },
    "kernelspec": {
      "display_name": "Python 3",
      "name": "python3"
    },
    "language_info": {
      "codemirror_mode": {
        "name": "ipython",
        "version": 3
      },
      "file_extension": ".py",
      "mimetype": "text/x-python",
      "name": "python",
      "nbconvert_exporter": "python",
      "pygments_lexer": "ipython3",
      "version": "3.10.6"
    }
  },
  "nbformat": 4,
  "nbformat_minor": 0
}
